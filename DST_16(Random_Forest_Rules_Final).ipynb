{
  "nbformat": 4,
  "nbformat_minor": 0,
  "metadata": {
    "colab": {
      "name": "DST_16(Random-Forest-Rules-Final).ipynb",
      "provenance": [],
      "collapsed_sections": [],
      "authorship_tag": "ABX9TyNAPheabr5FZl7D8xVUtoK0",
      "include_colab_link": true
    },
    "kernelspec": {
      "name": "python3",
      "display_name": "Python 3"
    }
  },
  "cells": [
    {
      "cell_type": "markdown",
      "metadata": {
        "id": "view-in-github",
        "colab_type": "text"
      },
      "source": [
        "<a href=\"https://colab.research.google.com/github/trinade96/Fortiate_Project/blob/master/DST_16(Random_Forest_Rules_Final).ipynb\" target=\"_parent\"><img src=\"https://colab.research.google.com/assets/colab-badge.svg\" alt=\"Open In Colab\"/></a>"
      ]
    },
    {
      "cell_type": "markdown",
      "metadata": {
        "id": "Iaxjey7rDTN0",
        "colab_type": "text"
      },
      "source": [
        "##### In this notebook we will be revisiting Mapper Plot and trying to look at customizations of it, in terms of orientation, colour and hopefully extract features of each node."
      ]
    },
    {
      "cell_type": "markdown",
      "metadata": {
        "id": "qk6FnGkdQ4NA",
        "colab_type": "text"
      },
      "source": [
        "#####  **Packages Installed**"
      ]
    },
    {
      "cell_type": "code",
      "metadata": {
        "id": "xQCDE0HjaEAt",
        "colab_type": "code",
        "outputId": "36104852-c7ec-4c5e-d23d-42f97c55c7e5",
        "colab": {
          "base_uri": "https://localhost:8080/",
          "height": 278
        }
      },
      "source": [
        "!pip install folium==0.2.1"
      ],
      "execution_count": 2,
      "outputs": [
        {
          "output_type": "stream",
          "text": [
            "Collecting folium==0.2.1\n",
            "\u001b[?25l  Downloading https://files.pythonhosted.org/packages/72/dd/75ced7437bfa7cb9a88b96ee0177953062803c3b4cde411a97d98c35adaf/folium-0.2.1.tar.gz (69kB)\n",
            "\r\u001b[K     |████▊                           | 10kB 10.5MB/s eta 0:00:01\r\u001b[K     |█████████▍                      | 20kB 2.2MB/s eta 0:00:01\r\u001b[K     |██████████████                  | 30kB 2.9MB/s eta 0:00:01\r\u001b[K     |██████████████████▊             | 40kB 3.1MB/s eta 0:00:01\r\u001b[K     |███████████████████████▍        | 51kB 2.5MB/s eta 0:00:01\r\u001b[K     |████████████████████████████    | 61kB 2.8MB/s eta 0:00:01\r\u001b[K     |████████████████████████████████| 71kB 2.1MB/s \n",
            "\u001b[?25hRequirement already satisfied: Jinja2 in /usr/local/lib/python3.6/dist-packages (from folium==0.2.1) (2.11.2)\n",
            "Requirement already satisfied: MarkupSafe>=0.23 in /usr/local/lib/python3.6/dist-packages (from Jinja2->folium==0.2.1) (1.1.1)\n",
            "Building wheels for collected packages: folium\n",
            "  Building wheel for folium (setup.py) ... \u001b[?25l\u001b[?25hdone\n",
            "  Created wheel for folium: filename=folium-0.2.1-cp36-none-any.whl size=79979 sha256=35370c03ac2f64a6cc19158ae871abab4fd07a018bf02562715a08b39ecbc95e\n",
            "  Stored in directory: /root/.cache/pip/wheels/b8/09/f0/52d2ef419c2aaf4fb149f92a33e0008bdce7ae816f0dd8f0c5\n",
            "Successfully built folium\n",
            "Installing collected packages: folium\n",
            "  Found existing installation: folium 0.8.3\n",
            "    Uninstalling folium-0.8.3:\n",
            "      Successfully uninstalled folium-0.8.3\n",
            "Successfully installed folium-0.2.1\n"
          ],
          "name": "stdout"
        }
      ]
    },
    {
      "cell_type": "code",
      "metadata": {
        "id": "hZJeMoGTZr42",
        "colab_type": "code",
        "outputId": "24566e95-99aa-45e6-e412-fc433ee72e4c",
        "colab": {
          "base_uri": "https://localhost:8080/",
          "height": 34
        }
      },
      "source": [
        "!pip install coverage==3.7.1"
      ],
      "execution_count": 3,
      "outputs": [
        {
          "output_type": "stream",
          "text": [
            "Requirement already satisfied: coverage==3.7.1 in /usr/local/lib/python3.6/dist-packages (3.7.1)\n"
          ],
          "name": "stdout"
        }
      ]
    },
    {
      "cell_type": "code",
      "metadata": {
        "id": "Q8NPBuujzl1P",
        "colab_type": "code",
        "outputId": "8c634e68-5111-42ca-d946-4709d2a1930e",
        "colab": {
          "base_uri": "https://localhost:8080/",
          "height": 193
        }
      },
      "source": [
        "!pip install pycm"
      ],
      "execution_count": 4,
      "outputs": [
        {
          "output_type": "stream",
          "text": [
            "Collecting pycm\n",
            "\u001b[?25l  Downloading https://files.pythonhosted.org/packages/ee/f1/47adb10e9e0a112fe601645de8ff9174cd5ded8728ac8e720532ab78503c/pycm-2.7-py2.py3-none-any.whl (57kB)\n",
            "\r\u001b[K     |█████▋                          | 10kB 15.5MB/s eta 0:00:01\r\u001b[K     |███████████▎                    | 20kB 2.2MB/s eta 0:00:01\r\u001b[K     |█████████████████               | 30kB 2.9MB/s eta 0:00:01\r\u001b[K     |██████████████████████▋         | 40kB 3.2MB/s eta 0:00:01\r\u001b[K     |████████████████████████████▎   | 51kB 2.5MB/s eta 0:00:01\r\u001b[K     |████████████████████████████████| 61kB 2.1MB/s \n",
            "\u001b[?25hRequirement already satisfied: numpy>=1.9.0 in /usr/local/lib/python3.6/dist-packages (from pycm) (1.18.5)\n",
            "Collecting art>=1.8\n",
            "\u001b[?25l  Downloading https://files.pythonhosted.org/packages/22/dd/f7be08119239db50f80285444323e58c81d6443158ac5f8b401b3fedb4d0/art-4.7-py2.py3-none-any.whl (547kB)\n",
            "\u001b[K     |████████████████████████████████| 552kB 9.1MB/s \n",
            "\u001b[?25hInstalling collected packages: art, pycm\n",
            "Successfully installed art-4.7 pycm-2.7\n"
          ],
          "name": "stdout"
        }
      ]
    },
    {
      "cell_type": "code",
      "metadata": {
        "id": "FOtvDA4bK27s",
        "colab_type": "code",
        "outputId": "d1909290-3755-4501-a5a7-1ef0a17a9a08",
        "colab": {
          "base_uri": "https://localhost:8080/",
          "height": 784
        }
      },
      "source": [
        "!pip install scikit-tda"
      ],
      "execution_count": 5,
      "outputs": [
        {
          "output_type": "stream",
          "text": [
            "Collecting scikit-tda\n",
            "  Downloading https://files.pythonhosted.org/packages/e2/67/14676df9d3c8fae3324f6a73e60e9b705c1dfea8131e275a313ab90bd09d/scikit_tda-0.0.3-py3-none-any.whl\n",
            "Collecting tadasets\n",
            "  Downloading https://files.pythonhosted.org/packages/5b/06/d1b9edccfcd071b245b0d1ab4b22eb2ff7aaeaa6d015db58d701d9782122/tadasets-0.0.4-py3-none-any.whl\n",
            "Requirement already satisfied: Cython in /usr/local/lib/python3.6/dist-packages (from scikit-tda) (0.29.19)\n",
            "Requirement already satisfied: matplotlib in /usr/local/lib/python3.6/dist-packages (from scikit-tda) (3.2.1)\n",
            "Collecting persim\n",
            "  Downloading https://files.pythonhosted.org/packages/7b/51/792890ba036373977ca678eb675f45bd6f9bebfc93fa85d2b9047bde0432/persim-0.1.2-py3-none-any.whl\n",
            "Requirement already satisfied: numba in /usr/local/lib/python3.6/dist-packages (from scikit-tda) (0.48.0)\n",
            "Requirement already satisfied: umap-learn in /usr/local/lib/python3.6/dist-packages (from scikit-tda) (0.4.4)\n",
            "Requirement already satisfied: numpy in /usr/local/lib/python3.6/dist-packages (from scikit-tda) (1.18.5)\n",
            "Requirement already satisfied: scikit-learn in /usr/local/lib/python3.6/dist-packages (from scikit-tda) (0.22.2.post1)\n",
            "Requirement already satisfied: pillow in /usr/local/lib/python3.6/dist-packages (from scikit-tda) (7.0.0)\n",
            "Collecting ripser\n",
            "\u001b[?25l  Downloading https://files.pythonhosted.org/packages/4c/17/d5e898161eb8e3b1084419bfc04adbe87d15075daa8e236df72dbe75167e/ripser-0.4.1.tar.gz (79kB)\n",
            "\u001b[K     |████████████████████████████████| 81kB 3.9MB/s \n",
            "\u001b[?25hCollecting kmapper\n",
            "\u001b[?25l  Downloading https://files.pythonhosted.org/packages/fb/3f/a1290b9425a7e0ff4ae51a6e6ff68e50ad793b3460f435c2ec81c0383751/kmapper-1.2.0-py3-none-any.whl (93kB)\n",
            "\u001b[K     |████████████████████████████████| 102kB 4.9MB/s \n",
            "\u001b[?25hRequirement already satisfied: scipy in /usr/local/lib/python3.6/dist-packages (from scikit-tda) (1.4.1)\n",
            "Requirement already satisfied: kiwisolver>=1.0.1 in /usr/local/lib/python3.6/dist-packages (from matplotlib->scikit-tda) (1.2.0)\n",
            "Requirement already satisfied: pyparsing!=2.0.4,!=2.1.2,!=2.1.6,>=2.0.1 in /usr/local/lib/python3.6/dist-packages (from matplotlib->scikit-tda) (2.4.7)\n",
            "Requirement already satisfied: python-dateutil>=2.1 in /usr/local/lib/python3.6/dist-packages (from matplotlib->scikit-tda) (2.8.1)\n",
            "Requirement already satisfied: cycler>=0.10 in /usr/local/lib/python3.6/dist-packages (from matplotlib->scikit-tda) (0.10.0)\n",
            "Collecting hopcroftkarp\n",
            "  Downloading https://files.pythonhosted.org/packages/6b/56/7b03eba3c43008c490c9d52e69ea5334b65955f66836eb4f1962f3b0d421/hopcroftkarp-1.2.5.tar.gz\n",
            "Requirement already satisfied: setuptools in /usr/local/lib/python3.6/dist-packages (from numba->scikit-tda) (47.1.1)\n",
            "Requirement already satisfied: llvmlite<0.32.0,>=0.31.0dev0 in /usr/local/lib/python3.6/dist-packages (from numba->scikit-tda) (0.31.0)\n",
            "Requirement already satisfied: tbb in /usr/local/lib/python3.6/dist-packages (from umap-learn->scikit-tda) (2020.0.133)\n",
            "Requirement already satisfied: joblib>=0.11 in /usr/local/lib/python3.6/dist-packages (from scikit-learn->scikit-tda) (0.15.1)\n",
            "Requirement already satisfied: Jinja2 in /usr/local/lib/python3.6/dist-packages (from kmapper->scikit-tda) (2.11.2)\n",
            "Requirement already satisfied: six>=1.5 in /usr/local/lib/python3.6/dist-packages (from python-dateutil>=2.1->matplotlib->scikit-tda) (1.12.0)\n",
            "Requirement already satisfied: MarkupSafe>=0.23 in /usr/local/lib/python3.6/dist-packages (from Jinja2->kmapper->scikit-tda) (1.1.1)\n",
            "Building wheels for collected packages: ripser, hopcroftkarp\n",
            "  Building wheel for ripser (setup.py) ... \u001b[?25l\u001b[?25hdone\n",
            "  Created wheel for ripser: filename=ripser-0.4.1-cp36-cp36m-linux_x86_64.whl size=421917 sha256=54ac7d1266e1c3c42e533590d88952ca85ae0853b6d0173240ccc6d9235850b1\n",
            "  Stored in directory: /root/.cache/pip/wheels/d4/12/da/56d55c3af62ebd5e0684d521f3e58c1a85ac312502c9e2d47d\n",
            "  Building wheel for hopcroftkarp (setup.py) ... \u001b[?25l\u001b[?25hdone\n",
            "  Created wheel for hopcroftkarp: filename=hopcroftkarp-1.2.5-py2.py3-none-any.whl size=18092 sha256=653c902b18c504745a16498385baec6be3f04ac6c4a6b8f197e5933cb6ce305a\n",
            "  Stored in directory: /root/.cache/pip/wheels/2b/e1/c9/1993c7f7f114b7d3fb2d3e895e02157a7ebf554861e9e54e01\n",
            "Successfully built ripser hopcroftkarp\n",
            "Installing collected packages: tadasets, hopcroftkarp, persim, ripser, kmapper, scikit-tda\n",
            "Successfully installed hopcroftkarp-1.2.5 kmapper-1.2.0 persim-0.1.2 ripser-0.4.1 scikit-tda-0.0.3 tadasets-0.0.4\n"
          ],
          "name": "stdout"
        }
      ]
    },
    {
      "cell_type": "code",
      "metadata": {
        "id": "ZfoUtQmCEsGn",
        "colab_type": "code",
        "outputId": "e544b04f-15a0-4049-ad91-484c18ad73da",
        "colab": {
          "base_uri": "https://localhost:8080/",
          "height": 139
        }
      },
      "source": [
        "!pip install kmapper"
      ],
      "execution_count": 6,
      "outputs": [
        {
          "output_type": "stream",
          "text": [
            "Requirement already satisfied: kmapper in /usr/local/lib/python3.6/dist-packages (1.2.0)\n",
            "Requirement already satisfied: Jinja2 in /usr/local/lib/python3.6/dist-packages (from kmapper) (2.11.2)\n",
            "Requirement already satisfied: scipy in /usr/local/lib/python3.6/dist-packages (from kmapper) (1.4.1)\n",
            "Requirement already satisfied: numpy in /usr/local/lib/python3.6/dist-packages (from kmapper) (1.18.5)\n",
            "Requirement already satisfied: scikit-learn in /usr/local/lib/python3.6/dist-packages (from kmapper) (0.22.2.post1)\n",
            "Requirement already satisfied: MarkupSafe>=0.23 in /usr/local/lib/python3.6/dist-packages (from Jinja2->kmapper) (1.1.1)\n",
            "Requirement already satisfied: joblib>=0.11 in /usr/local/lib/python3.6/dist-packages (from scikit-learn->kmapper) (0.15.1)\n"
          ],
          "name": "stdout"
        }
      ]
    },
    {
      "cell_type": "code",
      "metadata": {
        "id": "pwRoHSAhFBb0",
        "colab_type": "code",
        "outputId": "d93397b6-cbe1-4329-9534-9936a692e72c",
        "colab": {
          "base_uri": "https://localhost:8080/",
          "height": 159
        }
      },
      "source": [
        "!pip install python-igraph "
      ],
      "execution_count": 7,
      "outputs": [
        {
          "output_type": "stream",
          "text": [
            "Collecting python-igraph\n",
            "\u001b[?25l  Downloading https://files.pythonhosted.org/packages/8b/74/24a1afbf3abaf1d5f393b668192888d04091d1a6d106319661cd4af05406/python_igraph-0.8.2-cp36-cp36m-manylinux2010_x86_64.whl (3.2MB)\n",
            "\u001b[K     |████████████████████████████████| 3.2MB 3.5MB/s \n",
            "\u001b[?25hCollecting texttable>=1.6.2\n",
            "  Downloading https://files.pythonhosted.org/packages/ec/b1/8a1c659ce288bf771d5b1c7cae318ada466f73bd0e16df8d86f27a2a3ee7/texttable-1.6.2-py2.py3-none-any.whl\n",
            "Installing collected packages: texttable, python-igraph\n",
            "Successfully installed python-igraph-0.8.2 texttable-1.6.2\n"
          ],
          "name": "stdout"
        }
      ]
    },
    {
      "cell_type": "markdown",
      "metadata": {
        "id": "XnV5w4NuDS9f",
        "colab_type": "text"
      },
      "source": [
        "##### **Packages Used**"
      ]
    },
    {
      "cell_type": "code",
      "metadata": {
        "id": "bZVWxJI4B4OI",
        "colab_type": "code",
        "outputId": "a46c508d-d305-41ff-e762-ad007353f723",
        "colab": {
          "base_uri": "https://localhost:8080/",
          "height": 17
        }
      },
      "source": [
        "import numpy as np\n",
        "import pandas as pd\n",
        "import matplotlib.pyplot as plt\n",
        "import kmapper as km\n",
        "import sklearn\n",
        "import time\n",
        "from pandas.api.types import is_string_dtype\n",
        "from pandas.api.types import is_numeric_dtype\n",
        "import pycm\n",
        "from pycm import *\n",
        "from sklearn.cluster import DBSCAN\n",
        "from sklearn import ensemble\n",
        "from sklearn.decomposition import PCA\n",
        "#from sklearn import datasets\n",
        "#for Plotly visualization import:\n",
        "from kmapper.plotlyviz import plotlyviz\n",
        "from kmapper.plotlyviz import *\n",
        "from kmapper.jupyter import display\n",
        "import plotly.graph_objs as go"
      ],
      "execution_count": 8,
      "outputs": [
        {
          "output_type": "display_data",
          "data": {
            "text/html": [
              "<style>\n",
              "    .container { width:100% !important; }\n",
              "    .output_scroll {height: 800px !important;}\n",
              "    </style>"
            ],
            "text/plain": [
              "<IPython.core.display.HTML object>"
            ]
          },
          "metadata": {
            "tags": []
          }
        }
      ]
    },
    {
      "cell_type": "markdown",
      "metadata": {
        "id": "2NtAZkLGD_tf",
        "colab_type": "text"
      },
      "source": [
        "##### **Reading the data**\n"
      ]
    },
    {
      "cell_type": "code",
      "metadata": {
        "id": "AIcID9sJ_1M8",
        "colab_type": "code",
        "colab": {
          "base_uri": "https://localhost:8080/",
          "height": 141
        },
        "outputId": "5bd7b531-892c-4c8c-ffa0-00173ca12432"
      },
      "source": [
        "from google.colab import drive\n",
        "drive.flush_and_unmount()\n",
        "drive.mount('/gdrive')"
      ],
      "execution_count": 1,
      "outputs": [
        {
          "output_type": "stream",
          "text": [
            "Drive not mounted, so nothing to flush and unmount.\n",
            "Go to this URL in a browser: https://accounts.google.com/o/oauth2/auth?client_id=947318989803-6bn6qk8qdgf4n4g3pfee6491hc0brc4i.apps.googleusercontent.com&redirect_uri=urn%3aietf%3awg%3aoauth%3a2.0%3aoob&response_type=code&scope=email%20https%3a%2f%2fwww.googleapis.com%2fauth%2fdocs.test%20https%3a%2f%2fwww.googleapis.com%2fauth%2fdrive%20https%3a%2f%2fwww.googleapis.com%2fauth%2fdrive.photos.readonly%20https%3a%2f%2fwww.googleapis.com%2fauth%2fpeopleapi.readonly\n",
            "\n",
            "Enter your authorization code:\n",
            "··········\n",
            "Mounted at /gdrive\n"
          ],
          "name": "stdout"
        }
      ]
    },
    {
      "cell_type": "code",
      "metadata": {
        "id": "oe64SVFaD-ps",
        "colab_type": "code",
        "colab": {}
      },
      "source": [
        "data = pd.read_excel(\"/gdrive/My Drive/Random-Forest-Rules-Final.xlsx\")"
      ],
      "execution_count": 0,
      "outputs": []
    },
    {
      "cell_type": "code",
      "metadata": {
        "id": "fURzh9DZH48w",
        "colab_type": "code",
        "outputId": "c0c57b94-b393-48eb-bcd3-25fbef7e2398",
        "colab": {
          "base_uri": "https://localhost:8080/",
          "height": 313
        }
      },
      "source": [
        "data.head()"
      ],
      "execution_count": 0,
      "outputs": [
        {
          "output_type": "execute_result",
          "data": {
            "text/html": [
              "<div>\n",
              "<style scoped>\n",
              "    .dataframe tbody tr th:only-of-type {\n",
              "        vertical-align: middle;\n",
              "    }\n",
              "\n",
              "    .dataframe tbody tr th {\n",
              "        vertical-align: top;\n",
              "    }\n",
              "\n",
              "    .dataframe thead th {\n",
              "        text-align: right;\n",
              "    }\n",
              "</style>\n",
              "<table border=\"1\" class=\"dataframe\">\n",
              "  <thead>\n",
              "    <tr style=\"text-align: right;\">\n",
              "      <th></th>\n",
              "      <th>TRANSACTION_LOCAL_DATE</th>\n",
              "      <th>TRANSMISSION_DATE_TIME</th>\n",
              "      <th>RESPONSE_DATE_TIME</th>\n",
              "      <th>PAN</th>\n",
              "      <th>SERVICE_CODE</th>\n",
              "      <th>VALID_FROM</th>\n",
              "      <th>EXPIRY_DATE</th>\n",
              "      <th>PROC_CODE_12</th>\n",
              "      <th>PROC_CODE_34</th>\n",
              "      <th>PROC_CODE_56</th>\n",
              "      <th>PD1</th>\n",
              "      <th>PD2</th>\n",
              "      <th>PD3</th>\n",
              "      <th>PD4</th>\n",
              "      <th>PD5</th>\n",
              "      <th>PD6</th>\n",
              "      <th>PD7</th>\n",
              "      <th>PD8</th>\n",
              "      <th>PD9</th>\n",
              "      <th>PD10</th>\n",
              "      <th>PD11</th>\n",
              "      <th>PD12</th>\n",
              "      <th>TRANSACTION_AMOUNT</th>\n",
              "      <th>TRANSACTION_CURRENCY</th>\n",
              "      <th>BILLING_AMOUNT</th>\n",
              "      <th>BILLING_CURRENCY</th>\n",
              "      <th>CONVERSION_RATE_DATE</th>\n",
              "      <th>SETTLEMENT_AMOUNT</th>\n",
              "      <th>SETTLEMENT_CURRENCY</th>\n",
              "      <th>SETTLEMENT_DATE</th>\n",
              "      <th>ACQUIRING_COUNTRY_CODE</th>\n",
              "      <th>MCC</th>\n",
              "      <th>CARD_ACCEPTOR_TERM_ID</th>\n",
              "      <th>CARD_ACCEPTOR_ID</th>\n",
              "      <th>CARD_ACC_NAME_ADDRESS</th>\n",
              "      <th>AUTHORIZATION_CODE</th>\n",
              "      <th>DECISION</th>\n",
              "      <th>TARGET</th>\n",
              "      <th>C_100</th>\n",
              "      <th>C_40</th>\n",
              "      <th>C_20</th>\n",
              "      <th>ECOM_INFO</th>\n",
              "      <th>E_COM_INDICATOR</th>\n",
              "      <th>POS_ENTRY_MODE</th>\n",
              "    </tr>\n",
              "  </thead>\n",
              "  <tbody>\n",
              "    <tr>\n",
              "      <th>0</th>\n",
              "      <td>21-MAR-18 11.33.24</td>\n",
              "      <td>21-MAR-18 11.33.24</td>\n",
              "      <td>21-MAR-18 11.33.24</td>\n",
              "      <td>A1586941252148110</td>\n",
              "      <td>UNK</td>\n",
              "      <td>21-AUG-17 17.10.11</td>\n",
              "      <td>01-APR-20 00.00.00</td>\n",
              "      <td>TC00</td>\n",
              "      <td>FR40</td>\n",
              "      <td>TO00</td>\n",
              "      <td>CRC1</td>\n",
              "      <td>CVC0</td>\n",
              "      <td>CCC0</td>\n",
              "      <td>ATC9</td>\n",
              "      <td>PPI4</td>\n",
              "      <td>CPI0</td>\n",
              "      <td>TCR2</td>\n",
              "      <td>TVI0</td>\n",
              "      <td>TCV0</td>\n",
              "      <td>TWC0</td>\n",
              "      <td>TOC1</td>\n",
              "      <td>PEI0</td>\n",
              "      <td>147.84</td>\n",
              "      <td>CURR356</td>\n",
              "      <td>147.84</td>\n",
              "      <td>CURR356</td>\n",
              "      <td>000</td>\n",
              "      <td>145.22</td>\n",
              "      <td>CURR356</td>\n",
              "      <td>22-MAR-18 00.00.00</td>\n",
              "      <td>CON356</td>\n",
              "      <td>MCC7399</td>\n",
              "      <td>6R00G052</td>\n",
              "      <td>9826826968</td>\n",
              "      <td>BOOK MY SHOW\\\\\\400049\\\\</td>\n",
              "      <td>800204</td>\n",
              "      <td>RESULT000</td>\n",
              "      <td>0</td>\n",
              "      <td>AMI</td>\n",
              "      <td>ACS</td>\n",
              "      <td>T0784</td>\n",
              "      <td>AXASK05AEVV</td>\n",
              "      <td>ECI05</td>\n",
              "      <td>NNN</td>\n",
              "    </tr>\n",
              "    <tr>\n",
              "      <th>1</th>\n",
              "      <td>21-MAR-18 11.34.15</td>\n",
              "      <td>21-MAR-18 11.34.15</td>\n",
              "      <td>21-MAR-18 11.34.15</td>\n",
              "      <td>A1586941241334010</td>\n",
              "      <td>UNK</td>\n",
              "      <td>06-APR-16 20.19.15</td>\n",
              "      <td>01-APR-20 00.00.00</td>\n",
              "      <td>TC00</td>\n",
              "      <td>FR40</td>\n",
              "      <td>TO00</td>\n",
              "      <td>CRC1</td>\n",
              "      <td>CVC0</td>\n",
              "      <td>CCC0</td>\n",
              "      <td>ATC9</td>\n",
              "      <td>PPI4</td>\n",
              "      <td>CPI0</td>\n",
              "      <td>TCR2</td>\n",
              "      <td>TVI0</td>\n",
              "      <td>TCV0</td>\n",
              "      <td>TWC0</td>\n",
              "      <td>TOC1</td>\n",
              "      <td>PEI0</td>\n",
              "      <td>399.00</td>\n",
              "      <td>CURR356</td>\n",
              "      <td>399.00</td>\n",
              "      <td>CURR356</td>\n",
              "      <td>000</td>\n",
              "      <td>391.94</td>\n",
              "      <td>CURR356</td>\n",
              "      <td>22-MAR-18 00.00.00</td>\n",
              "      <td>CON356</td>\n",
              "      <td>MCC4814</td>\n",
              "      <td>6R00G052</td>\n",
              "      <td>9822047692</td>\n",
              "      <td>PAYTM RETAIL -PG-ONLINE \\\\NOIDA\\201301\\</td>\n",
              "      <td>300255</td>\n",
              "      <td>RESULT000</td>\n",
              "      <td>0</td>\n",
              "      <td>AMI</td>\n",
              "      <td>ACS</td>\n",
              "      <td>T0797</td>\n",
              "      <td>AXASK05AEVV</td>\n",
              "      <td>ECI05</td>\n",
              "      <td>NNN</td>\n",
              "    </tr>\n",
              "    <tr>\n",
              "      <th>2</th>\n",
              "      <td>21-MAR-18 11.36.47</td>\n",
              "      <td>21-MAR-18 11.36.47</td>\n",
              "      <td>21-MAR-18 11.36.48</td>\n",
              "      <td>A1586941049519010</td>\n",
              "      <td>UNK</td>\n",
              "      <td>03-APR-18 14.19.03</td>\n",
              "      <td>01-APR-23 00.00.00</td>\n",
              "      <td>TC00</td>\n",
              "      <td>FR40</td>\n",
              "      <td>TO00</td>\n",
              "      <td>CRC1</td>\n",
              "      <td>CVC0</td>\n",
              "      <td>CCC0</td>\n",
              "      <td>ATC9</td>\n",
              "      <td>PPI4</td>\n",
              "      <td>CPI0</td>\n",
              "      <td>TCR2</td>\n",
              "      <td>TVI0</td>\n",
              "      <td>TCV0</td>\n",
              "      <td>TWC0</td>\n",
              "      <td>TOC1</td>\n",
              "      <td>PEI0</td>\n",
              "      <td>247.20</td>\n",
              "      <td>CURR356</td>\n",
              "      <td>247.20</td>\n",
              "      <td>CURR356</td>\n",
              "      <td>000</td>\n",
              "      <td>242.82</td>\n",
              "      <td>CURR356</td>\n",
              "      <td>22-MAR-18 00.00.00</td>\n",
              "      <td>CON356</td>\n",
              "      <td>MCC7399</td>\n",
              "      <td>6R00G052</td>\n",
              "      <td>9826826968</td>\n",
              "      <td>BOOK MY SHOW\\\\\\400049\\\\</td>\n",
              "      <td>700408</td>\n",
              "      <td>RESULT000</td>\n",
              "      <td>0</td>\n",
              "      <td>AMI</td>\n",
              "      <td>ACS</td>\n",
              "      <td>T0537</td>\n",
              "      <td>AXASK05AEVV</td>\n",
              "      <td>ECI05</td>\n",
              "      <td>NNN</td>\n",
              "    </tr>\n",
              "    <tr>\n",
              "      <th>3</th>\n",
              "      <td>21-MAR-18 11.39.44</td>\n",
              "      <td>21-MAR-18 11.39.44</td>\n",
              "      <td>21-MAR-18 11.39.44</td>\n",
              "      <td>A1586941050671000</td>\n",
              "      <td>UNK</td>\n",
              "      <td>20-APR-18 19.43.48</td>\n",
              "      <td>01-APR-23 00.00.00</td>\n",
              "      <td>TC00</td>\n",
              "      <td>FR40</td>\n",
              "      <td>TO00</td>\n",
              "      <td>CRC1</td>\n",
              "      <td>CVC0</td>\n",
              "      <td>CCC0</td>\n",
              "      <td>ATC9</td>\n",
              "      <td>PPI4</td>\n",
              "      <td>CPI0</td>\n",
              "      <td>TCR2</td>\n",
              "      <td>TVI0</td>\n",
              "      <td>TCV0</td>\n",
              "      <td>TWC0</td>\n",
              "      <td>TOC1</td>\n",
              "      <td>PEI0</td>\n",
              "      <td>359.00</td>\n",
              "      <td>CURR356</td>\n",
              "      <td>359.00</td>\n",
              "      <td>CURR356</td>\n",
              "      <td>000</td>\n",
              "      <td>352.65</td>\n",
              "      <td>CURR356</td>\n",
              "      <td>22-MAR-18 00.00.00</td>\n",
              "      <td>CON356</td>\n",
              "      <td>MCC7399</td>\n",
              "      <td>6R00G052</td>\n",
              "      <td>9826826968</td>\n",
              "      <td>BOOK MY SHOW\\\\\\400049\\\\</td>\n",
              "      <td>700585</td>\n",
              "      <td>RESULT000</td>\n",
              "      <td>0</td>\n",
              "      <td>AMI</td>\n",
              "      <td>ACS</td>\n",
              "      <td>T0796</td>\n",
              "      <td>AXASK05AEVV</td>\n",
              "      <td>ECI05</td>\n",
              "      <td>NNN</td>\n",
              "    </tr>\n",
              "    <tr>\n",
              "      <th>4</th>\n",
              "      <td>21-MAR-18 11.43.08</td>\n",
              "      <td>21-MAR-18 11.43.08</td>\n",
              "      <td>21-MAR-18 11.43.08</td>\n",
              "      <td>A1586941257961010</td>\n",
              "      <td>UNK</td>\n",
              "      <td>30-APR-16 20.49.02</td>\n",
              "      <td>01-APR-20 00.00.00</td>\n",
              "      <td>TC00</td>\n",
              "      <td>FR40</td>\n",
              "      <td>TO00</td>\n",
              "      <td>CRC1</td>\n",
              "      <td>CVC0</td>\n",
              "      <td>CCC0</td>\n",
              "      <td>ATC9</td>\n",
              "      <td>PPI4</td>\n",
              "      <td>CPI0</td>\n",
              "      <td>TCR2</td>\n",
              "      <td>TVI0</td>\n",
              "      <td>TCV0</td>\n",
              "      <td>TWC0</td>\n",
              "      <td>TOC1</td>\n",
              "      <td>PEI0</td>\n",
              "      <td>188.00</td>\n",
              "      <td>CURR356</td>\n",
              "      <td>188.00</td>\n",
              "      <td>CURR356</td>\n",
              "      <td>000</td>\n",
              "      <td>183.81</td>\n",
              "      <td>CURR356</td>\n",
              "      <td>22-MAR-18 00.00.00</td>\n",
              "      <td>CON356</td>\n",
              "      <td>MCC5999</td>\n",
              "      <td>6R00G052</td>\n",
              "      <td>9820524155</td>\n",
              "      <td>PAYTM.COM WALLET PG \\\\NOIDA\\201310\\\\</td>\n",
              "      <td>400788</td>\n",
              "      <td>RESULT000</td>\n",
              "      <td>0</td>\n",
              "      <td>AMI</td>\n",
              "      <td>ACS</td>\n",
              "      <td>T0784</td>\n",
              "      <td>AXASK05AEVV</td>\n",
              "      <td>ECI05</td>\n",
              "      <td>NNN</td>\n",
              "    </tr>\n",
              "  </tbody>\n",
              "</table>\n",
              "</div>"
            ],
            "text/plain": [
              "  TRANSACTION_LOCAL_DATE TRANSMISSION_DATE_TIME  ... E_COM_INDICATOR POS_ENTRY_MODE\n",
              "0     21-MAR-18 11.33.24     21-MAR-18 11.33.24  ...           ECI05            NNN\n",
              "1     21-MAR-18 11.34.15     21-MAR-18 11.34.15  ...           ECI05            NNN\n",
              "2     21-MAR-18 11.36.47     21-MAR-18 11.36.47  ...           ECI05            NNN\n",
              "3     21-MAR-18 11.39.44     21-MAR-18 11.39.44  ...           ECI05            NNN\n",
              "4     21-MAR-18 11.43.08     21-MAR-18 11.43.08  ...           ECI05            NNN\n",
              "\n",
              "[5 rows x 44 columns]"
            ]
          },
          "metadata": {
            "tags": []
          },
          "execution_count": 10
        }
      ]
    },
    {
      "cell_type": "markdown",
      "metadata": {
        "id": "C4-HMhrsK95h",
        "colab_type": "text"
      },
      "source": [
        "##### We will be redoing some portions that we did in DST 2 to get back the data in a form that can be passed on to the KMapper"
      ]
    },
    {
      "cell_type": "code",
      "metadata": {
        "id": "zyO1srsGIm0X",
        "colab_type": "code",
        "outputId": "87409895-8ace-4a75-9729-986ef0a1ba9a",
        "colab": {
          "base_uri": "https://localhost:8080/",
          "height": 34
        }
      },
      "source": [
        "data.shape"
      ],
      "execution_count": 0,
      "outputs": [
        {
          "output_type": "execute_result",
          "data": {
            "text/plain": [
              "(105271, 44)"
            ]
          },
          "metadata": {
            "tags": []
          },
          "execution_count": 11
        }
      ]
    },
    {
      "cell_type": "code",
      "metadata": {
        "id": "-vcfbaJM-ED6",
        "colab_type": "code",
        "outputId": "df685caf-f254-4311-8667-4ae1414cfcb8",
        "colab": {
          "base_uri": "https://localhost:8080/",
          "height": 313
        }
      },
      "source": [
        "data2=data.copy()\n",
        "data2.head()"
      ],
      "execution_count": 0,
      "outputs": [
        {
          "output_type": "execute_result",
          "data": {
            "text/html": [
              "<div>\n",
              "<style scoped>\n",
              "    .dataframe tbody tr th:only-of-type {\n",
              "        vertical-align: middle;\n",
              "    }\n",
              "\n",
              "    .dataframe tbody tr th {\n",
              "        vertical-align: top;\n",
              "    }\n",
              "\n",
              "    .dataframe thead th {\n",
              "        text-align: right;\n",
              "    }\n",
              "</style>\n",
              "<table border=\"1\" class=\"dataframe\">\n",
              "  <thead>\n",
              "    <tr style=\"text-align: right;\">\n",
              "      <th></th>\n",
              "      <th>TRANSACTION_LOCAL_DATE</th>\n",
              "      <th>TRANSMISSION_DATE_TIME</th>\n",
              "      <th>RESPONSE_DATE_TIME</th>\n",
              "      <th>PAN</th>\n",
              "      <th>SERVICE_CODE</th>\n",
              "      <th>VALID_FROM</th>\n",
              "      <th>EXPIRY_DATE</th>\n",
              "      <th>PROC_CODE_12</th>\n",
              "      <th>PROC_CODE_34</th>\n",
              "      <th>PROC_CODE_56</th>\n",
              "      <th>PD1</th>\n",
              "      <th>PD2</th>\n",
              "      <th>PD3</th>\n",
              "      <th>PD4</th>\n",
              "      <th>PD5</th>\n",
              "      <th>PD6</th>\n",
              "      <th>PD7</th>\n",
              "      <th>PD8</th>\n",
              "      <th>PD9</th>\n",
              "      <th>PD10</th>\n",
              "      <th>PD11</th>\n",
              "      <th>PD12</th>\n",
              "      <th>TRANSACTION_AMOUNT</th>\n",
              "      <th>TRANSACTION_CURRENCY</th>\n",
              "      <th>BILLING_AMOUNT</th>\n",
              "      <th>BILLING_CURRENCY</th>\n",
              "      <th>CONVERSION_RATE_DATE</th>\n",
              "      <th>SETTLEMENT_AMOUNT</th>\n",
              "      <th>SETTLEMENT_CURRENCY</th>\n",
              "      <th>SETTLEMENT_DATE</th>\n",
              "      <th>ACQUIRING_COUNTRY_CODE</th>\n",
              "      <th>MCC</th>\n",
              "      <th>CARD_ACCEPTOR_TERM_ID</th>\n",
              "      <th>CARD_ACCEPTOR_ID</th>\n",
              "      <th>CARD_ACC_NAME_ADDRESS</th>\n",
              "      <th>AUTHORIZATION_CODE</th>\n",
              "      <th>DECISION</th>\n",
              "      <th>TARGET</th>\n",
              "      <th>C_100</th>\n",
              "      <th>C_40</th>\n",
              "      <th>C_20</th>\n",
              "      <th>ECOM_INFO</th>\n",
              "      <th>E_COM_INDICATOR</th>\n",
              "      <th>POS_ENTRY_MODE</th>\n",
              "    </tr>\n",
              "  </thead>\n",
              "  <tbody>\n",
              "    <tr>\n",
              "      <th>0</th>\n",
              "      <td>21-MAR-18 11.33.24</td>\n",
              "      <td>21-MAR-18 11.33.24</td>\n",
              "      <td>21-MAR-18 11.33.24</td>\n",
              "      <td>A1586941252148110</td>\n",
              "      <td>UNK</td>\n",
              "      <td>21-AUG-17 17.10.11</td>\n",
              "      <td>01-APR-20 00.00.00</td>\n",
              "      <td>TC00</td>\n",
              "      <td>FR40</td>\n",
              "      <td>TO00</td>\n",
              "      <td>CRC1</td>\n",
              "      <td>CVC0</td>\n",
              "      <td>CCC0</td>\n",
              "      <td>ATC9</td>\n",
              "      <td>PPI4</td>\n",
              "      <td>CPI0</td>\n",
              "      <td>TCR2</td>\n",
              "      <td>TVI0</td>\n",
              "      <td>TCV0</td>\n",
              "      <td>TWC0</td>\n",
              "      <td>TOC1</td>\n",
              "      <td>PEI0</td>\n",
              "      <td>147.84</td>\n",
              "      <td>CURR356</td>\n",
              "      <td>147.84</td>\n",
              "      <td>CURR356</td>\n",
              "      <td>000</td>\n",
              "      <td>145.22</td>\n",
              "      <td>CURR356</td>\n",
              "      <td>22-MAR-18 00.00.00</td>\n",
              "      <td>CON356</td>\n",
              "      <td>MCC7399</td>\n",
              "      <td>6R00G052</td>\n",
              "      <td>9826826968</td>\n",
              "      <td>BOOK MY SHOW\\\\\\400049\\\\</td>\n",
              "      <td>800204</td>\n",
              "      <td>RESULT000</td>\n",
              "      <td>0</td>\n",
              "      <td>AMI</td>\n",
              "      <td>ACS</td>\n",
              "      <td>T0784</td>\n",
              "      <td>AXASK05AEVV</td>\n",
              "      <td>ECI05</td>\n",
              "      <td>NNN</td>\n",
              "    </tr>\n",
              "    <tr>\n",
              "      <th>1</th>\n",
              "      <td>21-MAR-18 11.34.15</td>\n",
              "      <td>21-MAR-18 11.34.15</td>\n",
              "      <td>21-MAR-18 11.34.15</td>\n",
              "      <td>A1586941241334010</td>\n",
              "      <td>UNK</td>\n",
              "      <td>06-APR-16 20.19.15</td>\n",
              "      <td>01-APR-20 00.00.00</td>\n",
              "      <td>TC00</td>\n",
              "      <td>FR40</td>\n",
              "      <td>TO00</td>\n",
              "      <td>CRC1</td>\n",
              "      <td>CVC0</td>\n",
              "      <td>CCC0</td>\n",
              "      <td>ATC9</td>\n",
              "      <td>PPI4</td>\n",
              "      <td>CPI0</td>\n",
              "      <td>TCR2</td>\n",
              "      <td>TVI0</td>\n",
              "      <td>TCV0</td>\n",
              "      <td>TWC0</td>\n",
              "      <td>TOC1</td>\n",
              "      <td>PEI0</td>\n",
              "      <td>399.00</td>\n",
              "      <td>CURR356</td>\n",
              "      <td>399.00</td>\n",
              "      <td>CURR356</td>\n",
              "      <td>000</td>\n",
              "      <td>391.94</td>\n",
              "      <td>CURR356</td>\n",
              "      <td>22-MAR-18 00.00.00</td>\n",
              "      <td>CON356</td>\n",
              "      <td>MCC4814</td>\n",
              "      <td>6R00G052</td>\n",
              "      <td>9822047692</td>\n",
              "      <td>PAYTM RETAIL -PG-ONLINE \\\\NOIDA\\201301\\</td>\n",
              "      <td>300255</td>\n",
              "      <td>RESULT000</td>\n",
              "      <td>0</td>\n",
              "      <td>AMI</td>\n",
              "      <td>ACS</td>\n",
              "      <td>T0797</td>\n",
              "      <td>AXASK05AEVV</td>\n",
              "      <td>ECI05</td>\n",
              "      <td>NNN</td>\n",
              "    </tr>\n",
              "    <tr>\n",
              "      <th>2</th>\n",
              "      <td>21-MAR-18 11.36.47</td>\n",
              "      <td>21-MAR-18 11.36.47</td>\n",
              "      <td>21-MAR-18 11.36.48</td>\n",
              "      <td>A1586941049519010</td>\n",
              "      <td>UNK</td>\n",
              "      <td>03-APR-18 14.19.03</td>\n",
              "      <td>01-APR-23 00.00.00</td>\n",
              "      <td>TC00</td>\n",
              "      <td>FR40</td>\n",
              "      <td>TO00</td>\n",
              "      <td>CRC1</td>\n",
              "      <td>CVC0</td>\n",
              "      <td>CCC0</td>\n",
              "      <td>ATC9</td>\n",
              "      <td>PPI4</td>\n",
              "      <td>CPI0</td>\n",
              "      <td>TCR2</td>\n",
              "      <td>TVI0</td>\n",
              "      <td>TCV0</td>\n",
              "      <td>TWC0</td>\n",
              "      <td>TOC1</td>\n",
              "      <td>PEI0</td>\n",
              "      <td>247.20</td>\n",
              "      <td>CURR356</td>\n",
              "      <td>247.20</td>\n",
              "      <td>CURR356</td>\n",
              "      <td>000</td>\n",
              "      <td>242.82</td>\n",
              "      <td>CURR356</td>\n",
              "      <td>22-MAR-18 00.00.00</td>\n",
              "      <td>CON356</td>\n",
              "      <td>MCC7399</td>\n",
              "      <td>6R00G052</td>\n",
              "      <td>9826826968</td>\n",
              "      <td>BOOK MY SHOW\\\\\\400049\\\\</td>\n",
              "      <td>700408</td>\n",
              "      <td>RESULT000</td>\n",
              "      <td>0</td>\n",
              "      <td>AMI</td>\n",
              "      <td>ACS</td>\n",
              "      <td>T0537</td>\n",
              "      <td>AXASK05AEVV</td>\n",
              "      <td>ECI05</td>\n",
              "      <td>NNN</td>\n",
              "    </tr>\n",
              "    <tr>\n",
              "      <th>3</th>\n",
              "      <td>21-MAR-18 11.39.44</td>\n",
              "      <td>21-MAR-18 11.39.44</td>\n",
              "      <td>21-MAR-18 11.39.44</td>\n",
              "      <td>A1586941050671000</td>\n",
              "      <td>UNK</td>\n",
              "      <td>20-APR-18 19.43.48</td>\n",
              "      <td>01-APR-23 00.00.00</td>\n",
              "      <td>TC00</td>\n",
              "      <td>FR40</td>\n",
              "      <td>TO00</td>\n",
              "      <td>CRC1</td>\n",
              "      <td>CVC0</td>\n",
              "      <td>CCC0</td>\n",
              "      <td>ATC9</td>\n",
              "      <td>PPI4</td>\n",
              "      <td>CPI0</td>\n",
              "      <td>TCR2</td>\n",
              "      <td>TVI0</td>\n",
              "      <td>TCV0</td>\n",
              "      <td>TWC0</td>\n",
              "      <td>TOC1</td>\n",
              "      <td>PEI0</td>\n",
              "      <td>359.00</td>\n",
              "      <td>CURR356</td>\n",
              "      <td>359.00</td>\n",
              "      <td>CURR356</td>\n",
              "      <td>000</td>\n",
              "      <td>352.65</td>\n",
              "      <td>CURR356</td>\n",
              "      <td>22-MAR-18 00.00.00</td>\n",
              "      <td>CON356</td>\n",
              "      <td>MCC7399</td>\n",
              "      <td>6R00G052</td>\n",
              "      <td>9826826968</td>\n",
              "      <td>BOOK MY SHOW\\\\\\400049\\\\</td>\n",
              "      <td>700585</td>\n",
              "      <td>RESULT000</td>\n",
              "      <td>0</td>\n",
              "      <td>AMI</td>\n",
              "      <td>ACS</td>\n",
              "      <td>T0796</td>\n",
              "      <td>AXASK05AEVV</td>\n",
              "      <td>ECI05</td>\n",
              "      <td>NNN</td>\n",
              "    </tr>\n",
              "    <tr>\n",
              "      <th>4</th>\n",
              "      <td>21-MAR-18 11.43.08</td>\n",
              "      <td>21-MAR-18 11.43.08</td>\n",
              "      <td>21-MAR-18 11.43.08</td>\n",
              "      <td>A1586941257961010</td>\n",
              "      <td>UNK</td>\n",
              "      <td>30-APR-16 20.49.02</td>\n",
              "      <td>01-APR-20 00.00.00</td>\n",
              "      <td>TC00</td>\n",
              "      <td>FR40</td>\n",
              "      <td>TO00</td>\n",
              "      <td>CRC1</td>\n",
              "      <td>CVC0</td>\n",
              "      <td>CCC0</td>\n",
              "      <td>ATC9</td>\n",
              "      <td>PPI4</td>\n",
              "      <td>CPI0</td>\n",
              "      <td>TCR2</td>\n",
              "      <td>TVI0</td>\n",
              "      <td>TCV0</td>\n",
              "      <td>TWC0</td>\n",
              "      <td>TOC1</td>\n",
              "      <td>PEI0</td>\n",
              "      <td>188.00</td>\n",
              "      <td>CURR356</td>\n",
              "      <td>188.00</td>\n",
              "      <td>CURR356</td>\n",
              "      <td>000</td>\n",
              "      <td>183.81</td>\n",
              "      <td>CURR356</td>\n",
              "      <td>22-MAR-18 00.00.00</td>\n",
              "      <td>CON356</td>\n",
              "      <td>MCC5999</td>\n",
              "      <td>6R00G052</td>\n",
              "      <td>9820524155</td>\n",
              "      <td>PAYTM.COM WALLET PG \\\\NOIDA\\201310\\\\</td>\n",
              "      <td>400788</td>\n",
              "      <td>RESULT000</td>\n",
              "      <td>0</td>\n",
              "      <td>AMI</td>\n",
              "      <td>ACS</td>\n",
              "      <td>T0784</td>\n",
              "      <td>AXASK05AEVV</td>\n",
              "      <td>ECI05</td>\n",
              "      <td>NNN</td>\n",
              "    </tr>\n",
              "  </tbody>\n",
              "</table>\n",
              "</div>"
            ],
            "text/plain": [
              "  TRANSACTION_LOCAL_DATE TRANSMISSION_DATE_TIME  ... E_COM_INDICATOR POS_ENTRY_MODE\n",
              "0     21-MAR-18 11.33.24     21-MAR-18 11.33.24  ...           ECI05            NNN\n",
              "1     21-MAR-18 11.34.15     21-MAR-18 11.34.15  ...           ECI05            NNN\n",
              "2     21-MAR-18 11.36.47     21-MAR-18 11.36.47  ...           ECI05            NNN\n",
              "3     21-MAR-18 11.39.44     21-MAR-18 11.39.44  ...           ECI05            NNN\n",
              "4     21-MAR-18 11.43.08     21-MAR-18 11.43.08  ...           ECI05            NNN\n",
              "\n",
              "[5 rows x 44 columns]"
            ]
          },
          "metadata": {
            "tags": []
          },
          "execution_count": 12
        }
      ]
    },
    {
      "cell_type": "markdown",
      "metadata": {
        "id": "kTP93pStWOth",
        "colab_type": "text"
      },
      "source": [
        "##### **Function to find categorical variables**"
      ]
    },
    {
      "cell_type": "code",
      "metadata": {
        "id": "flKQ9PcE3HCb",
        "colab_type": "code",
        "colab": {}
      },
      "source": [
        "#Function to find if a column is categorical or not and assign numerical encoding to it\n",
        "def check_categorical(l):\n",
        "  if(len(set(l))==(len(l))):\n",
        "    return False, l\n",
        "  elif(len(set(l))==1):\n",
        "    return False, l\n",
        "  else :\n",
        "    l = np.array(l)\n",
        "    c=0\n",
        "    for i in set(l):\n",
        "      l[np.where(l == i)] = c\n",
        "      c=c+1\n",
        "    return True, l"
      ],
      "execution_count": 0,
      "outputs": []
    },
    {
      "cell_type": "markdown",
      "metadata": {
        "id": "t-PV_Yqp1Owa",
        "colab_type": "text"
      },
      "source": [
        "##### **Splitting up categorical check and encoding function into three parts**\n"
      ]
    },
    {
      "cell_type": "code",
      "metadata": {
        "id": "lA8bBbuH1Wh1",
        "colab_type": "code",
        "outputId": "08fa0b5d-4000-4b4d-d73e-95b4d65ea482",
        "colab": {
          "base_uri": "https://localhost:8080/",
          "height": 34
        }
      },
      "source": [
        "# Function that only checks categorical\n",
        "'''def check_categorical(l):\n",
        "   if(len(set(l))==(len(l))):\n",
        "     return False\n",
        "   elif(len(set(l))==1):\n",
        "     return False\n",
        "   else :\n",
        "     return True'''"
      ],
      "execution_count": 0,
      "outputs": [
        {
          "output_type": "execute_result",
          "data": {
            "text/plain": [
              "'def check_categorical(l):\\n   if(len(set(l))==(len(l))):\\n     return False\\n   elif(len(set(l))==1):\\n     return False\\n   else :\\n     return True'"
            ]
          },
          "metadata": {
            "tags": []
          },
          "execution_count": 14
        }
      ]
    },
    {
      "cell_type": "code",
      "metadata": {
        "id": "DiEO8ln1ldHS",
        "colab_type": "code",
        "colab": {}
      },
      "source": [
        "# Function that assigns numeric encoding to it\n",
        "def int_encoding(l):\n",
        "    l = np.array(l)\n",
        "    c=0\n",
        "    for i in set(l):\n",
        "      l[np.where(l == i)] = c\n",
        "      c=c+1\n",
        "    return l"
      ],
      "execution_count": 0,
      "outputs": []
    },
    {
      "cell_type": "code",
      "metadata": {
        "id": "krDq0sFjaHd2",
        "colab_type": "code",
        "colab": {}
      },
      "source": [
        "# Function that normalizes the encoding to between 0 and 1\n",
        "def normalized_encoding(l):\n",
        "    l = np.array(l)\n",
        "    c=0\n",
        "    for i in set(l):\n",
        "      l[np.where(l == i)] = c\n",
        "      c=c+1\n",
        "    l = l/np.max(l)\n",
        "    return l"
      ],
      "execution_count": 0,
      "outputs": []
    },
    {
      "cell_type": "code",
      "metadata": {
        "id": "ObFP7fuR_3JX",
        "colab_type": "code",
        "colab": {}
      },
      "source": [
        "# Function that returns one hot encoding of a list of a categorical variable\n",
        "def one_hot_encoding(l):\n",
        "    l = pd.Series(l)\n",
        "    one_hot = pd.get_dummies(l)\n",
        "    return one_hot ## This output is a dataframe"
      ],
      "execution_count": 0,
      "outputs": []
    },
    {
      "cell_type": "markdown",
      "metadata": {
        "id": "2HXHrtVGe-lF",
        "colab_type": "text"
      },
      "source": [
        "##### All 3 encoding functions would need the check of categorical to be performed first"
      ]
    },
    {
      "cell_type": "markdown",
      "metadata": {
        "id": "UnpeRUDjWhqt",
        "colab_type": "text"
      },
      "source": [
        "##### **Finding categorical variables for 'Random-Forest-Rules-Final.xlsx'**"
      ]
    },
    {
      "cell_type": "code",
      "metadata": {
        "id": "xF9yneu-lmFB",
        "colab_type": "code",
        "colab": {}
      },
      "source": [
        "names = list(data2.columns)\n",
        "removable_indices =[]\n",
        "for col in data2.columns:\n",
        "  ## Removing columns that have NaNs\n",
        "  if(data2[col].isnull().sum()>0):\n",
        "    removable_indices.append(col)\n",
        "  ## Removing columns that have object data type such as date object or filled with '???'\n",
        "  if(data2[col].dtype.name == 'object'):\n",
        "    removable_indices.append(col)"
      ],
      "execution_count": 0,
      "outputs": []
    },
    {
      "cell_type": "code",
      "metadata": {
        "id": "TkQ1DmpFmFDu",
        "colab_type": "code",
        "colab": {}
      },
      "source": [
        "removable_indices = set(removable_indices)\n",
        "data2 = data2.drop(removable_indices,1)"
      ],
      "execution_count": 0,
      "outputs": []
    },
    {
      "cell_type": "code",
      "metadata": {
        "id": "Evl4tWPAmB62",
        "colab_type": "code",
        "outputId": "c1ce2586-abf9-41b4-fc98-7d3801d2f0e9",
        "colab": {
          "base_uri": "https://localhost:8080/",
          "height": 206
        }
      },
      "source": [
        "data2.head()"
      ],
      "execution_count": 0,
      "outputs": [
        {
          "output_type": "execute_result",
          "data": {
            "text/html": [
              "<div>\n",
              "<style scoped>\n",
              "    .dataframe tbody tr th:only-of-type {\n",
              "        vertical-align: middle;\n",
              "    }\n",
              "\n",
              "    .dataframe tbody tr th {\n",
              "        vertical-align: top;\n",
              "    }\n",
              "\n",
              "    .dataframe thead th {\n",
              "        text-align: right;\n",
              "    }\n",
              "</style>\n",
              "<table border=\"1\" class=\"dataframe\">\n",
              "  <thead>\n",
              "    <tr style=\"text-align: right;\">\n",
              "      <th></th>\n",
              "      <th>TRANSACTION_AMOUNT</th>\n",
              "      <th>BILLING_AMOUNT</th>\n",
              "      <th>SETTLEMENT_AMOUNT</th>\n",
              "      <th>TARGET</th>\n",
              "    </tr>\n",
              "  </thead>\n",
              "  <tbody>\n",
              "    <tr>\n",
              "      <th>0</th>\n",
              "      <td>147.84</td>\n",
              "      <td>147.84</td>\n",
              "      <td>145.22</td>\n",
              "      <td>0</td>\n",
              "    </tr>\n",
              "    <tr>\n",
              "      <th>1</th>\n",
              "      <td>399.00</td>\n",
              "      <td>399.00</td>\n",
              "      <td>391.94</td>\n",
              "      <td>0</td>\n",
              "    </tr>\n",
              "    <tr>\n",
              "      <th>2</th>\n",
              "      <td>247.20</td>\n",
              "      <td>247.20</td>\n",
              "      <td>242.82</td>\n",
              "      <td>0</td>\n",
              "    </tr>\n",
              "    <tr>\n",
              "      <th>3</th>\n",
              "      <td>359.00</td>\n",
              "      <td>359.00</td>\n",
              "      <td>352.65</td>\n",
              "      <td>0</td>\n",
              "    </tr>\n",
              "    <tr>\n",
              "      <th>4</th>\n",
              "      <td>188.00</td>\n",
              "      <td>188.00</td>\n",
              "      <td>183.81</td>\n",
              "      <td>0</td>\n",
              "    </tr>\n",
              "  </tbody>\n",
              "</table>\n",
              "</div>"
            ],
            "text/plain": [
              "   TRANSACTION_AMOUNT  BILLING_AMOUNT  SETTLEMENT_AMOUNT  TARGET\n",
              "0              147.84          147.84             145.22       0\n",
              "1              399.00          399.00             391.94       0\n",
              "2              247.20          247.20             242.82       0\n",
              "3              359.00          359.00             352.65       0\n",
              "4              188.00          188.00             183.81       0"
            ]
          },
          "metadata": {
            "tags": []
          },
          "execution_count": 20
        }
      ]
    },
    {
      "cell_type": "code",
      "metadata": {
        "id": "cYXUtYpT6oJr",
        "colab_type": "code",
        "outputId": "b597a48c-07ca-48b5-d8d1-7c3ac083a24e",
        "colab": {
          "base_uri": "https://localhost:8080/",
          "height": 34
        }
      },
      "source": [
        "data2.shape"
      ],
      "execution_count": 0,
      "outputs": [
        {
          "output_type": "execute_result",
          "data": {
            "text/plain": [
              "(105271, 4)"
            ]
          },
          "metadata": {
            "tags": []
          },
          "execution_count": 21
        }
      ]
    },
    {
      "cell_type": "markdown",
      "metadata": {
        "id": "Xv-8stY46zSk",
        "colab_type": "text"
      },
      "source": [
        "##### It appears that too many columns get removed if we remove any columns that have any NaNs or Nulls"
      ]
    },
    {
      "cell_type": "code",
      "metadata": {
        "id": "MuD6J_9MIm8d",
        "colab_type": "code",
        "outputId": "080c50f2-af95-4250-d243-a52af3a4fddb",
        "colab": {
          "base_uri": "https://localhost:8080/",
          "height": 313
        }
      },
      "source": [
        "data3 = data.copy()\n",
        "data3.head()"
      ],
      "execution_count": 0,
      "outputs": [
        {
          "output_type": "execute_result",
          "data": {
            "text/html": [
              "<div>\n",
              "<style scoped>\n",
              "    .dataframe tbody tr th:only-of-type {\n",
              "        vertical-align: middle;\n",
              "    }\n",
              "\n",
              "    .dataframe tbody tr th {\n",
              "        vertical-align: top;\n",
              "    }\n",
              "\n",
              "    .dataframe thead th {\n",
              "        text-align: right;\n",
              "    }\n",
              "</style>\n",
              "<table border=\"1\" class=\"dataframe\">\n",
              "  <thead>\n",
              "    <tr style=\"text-align: right;\">\n",
              "      <th></th>\n",
              "      <th>TRANSACTION_LOCAL_DATE</th>\n",
              "      <th>TRANSMISSION_DATE_TIME</th>\n",
              "      <th>RESPONSE_DATE_TIME</th>\n",
              "      <th>PAN</th>\n",
              "      <th>SERVICE_CODE</th>\n",
              "      <th>VALID_FROM</th>\n",
              "      <th>EXPIRY_DATE</th>\n",
              "      <th>PROC_CODE_12</th>\n",
              "      <th>PROC_CODE_34</th>\n",
              "      <th>PROC_CODE_56</th>\n",
              "      <th>PD1</th>\n",
              "      <th>PD2</th>\n",
              "      <th>PD3</th>\n",
              "      <th>PD4</th>\n",
              "      <th>PD5</th>\n",
              "      <th>PD6</th>\n",
              "      <th>PD7</th>\n",
              "      <th>PD8</th>\n",
              "      <th>PD9</th>\n",
              "      <th>PD10</th>\n",
              "      <th>PD11</th>\n",
              "      <th>PD12</th>\n",
              "      <th>TRANSACTION_AMOUNT</th>\n",
              "      <th>TRANSACTION_CURRENCY</th>\n",
              "      <th>BILLING_AMOUNT</th>\n",
              "      <th>BILLING_CURRENCY</th>\n",
              "      <th>CONVERSION_RATE_DATE</th>\n",
              "      <th>SETTLEMENT_AMOUNT</th>\n",
              "      <th>SETTLEMENT_CURRENCY</th>\n",
              "      <th>SETTLEMENT_DATE</th>\n",
              "      <th>ACQUIRING_COUNTRY_CODE</th>\n",
              "      <th>MCC</th>\n",
              "      <th>CARD_ACCEPTOR_TERM_ID</th>\n",
              "      <th>CARD_ACCEPTOR_ID</th>\n",
              "      <th>CARD_ACC_NAME_ADDRESS</th>\n",
              "      <th>AUTHORIZATION_CODE</th>\n",
              "      <th>DECISION</th>\n",
              "      <th>TARGET</th>\n",
              "      <th>C_100</th>\n",
              "      <th>C_40</th>\n",
              "      <th>C_20</th>\n",
              "      <th>ECOM_INFO</th>\n",
              "      <th>E_COM_INDICATOR</th>\n",
              "      <th>POS_ENTRY_MODE</th>\n",
              "    </tr>\n",
              "  </thead>\n",
              "  <tbody>\n",
              "    <tr>\n",
              "      <th>0</th>\n",
              "      <td>21-MAR-18 11.33.24</td>\n",
              "      <td>21-MAR-18 11.33.24</td>\n",
              "      <td>21-MAR-18 11.33.24</td>\n",
              "      <td>A1586941252148110</td>\n",
              "      <td>UNK</td>\n",
              "      <td>21-AUG-17 17.10.11</td>\n",
              "      <td>01-APR-20 00.00.00</td>\n",
              "      <td>TC00</td>\n",
              "      <td>FR40</td>\n",
              "      <td>TO00</td>\n",
              "      <td>CRC1</td>\n",
              "      <td>CVC0</td>\n",
              "      <td>CCC0</td>\n",
              "      <td>ATC9</td>\n",
              "      <td>PPI4</td>\n",
              "      <td>CPI0</td>\n",
              "      <td>TCR2</td>\n",
              "      <td>TVI0</td>\n",
              "      <td>TCV0</td>\n",
              "      <td>TWC0</td>\n",
              "      <td>TOC1</td>\n",
              "      <td>PEI0</td>\n",
              "      <td>147.84</td>\n",
              "      <td>CURR356</td>\n",
              "      <td>147.84</td>\n",
              "      <td>CURR356</td>\n",
              "      <td>000</td>\n",
              "      <td>145.22</td>\n",
              "      <td>CURR356</td>\n",
              "      <td>22-MAR-18 00.00.00</td>\n",
              "      <td>CON356</td>\n",
              "      <td>MCC7399</td>\n",
              "      <td>6R00G052</td>\n",
              "      <td>9826826968</td>\n",
              "      <td>BOOK MY SHOW\\\\\\400049\\\\</td>\n",
              "      <td>800204</td>\n",
              "      <td>RESULT000</td>\n",
              "      <td>0</td>\n",
              "      <td>AMI</td>\n",
              "      <td>ACS</td>\n",
              "      <td>T0784</td>\n",
              "      <td>AXASK05AEVV</td>\n",
              "      <td>ECI05</td>\n",
              "      <td>NNN</td>\n",
              "    </tr>\n",
              "    <tr>\n",
              "      <th>1</th>\n",
              "      <td>21-MAR-18 11.34.15</td>\n",
              "      <td>21-MAR-18 11.34.15</td>\n",
              "      <td>21-MAR-18 11.34.15</td>\n",
              "      <td>A1586941241334010</td>\n",
              "      <td>UNK</td>\n",
              "      <td>06-APR-16 20.19.15</td>\n",
              "      <td>01-APR-20 00.00.00</td>\n",
              "      <td>TC00</td>\n",
              "      <td>FR40</td>\n",
              "      <td>TO00</td>\n",
              "      <td>CRC1</td>\n",
              "      <td>CVC0</td>\n",
              "      <td>CCC0</td>\n",
              "      <td>ATC9</td>\n",
              "      <td>PPI4</td>\n",
              "      <td>CPI0</td>\n",
              "      <td>TCR2</td>\n",
              "      <td>TVI0</td>\n",
              "      <td>TCV0</td>\n",
              "      <td>TWC0</td>\n",
              "      <td>TOC1</td>\n",
              "      <td>PEI0</td>\n",
              "      <td>399.00</td>\n",
              "      <td>CURR356</td>\n",
              "      <td>399.00</td>\n",
              "      <td>CURR356</td>\n",
              "      <td>000</td>\n",
              "      <td>391.94</td>\n",
              "      <td>CURR356</td>\n",
              "      <td>22-MAR-18 00.00.00</td>\n",
              "      <td>CON356</td>\n",
              "      <td>MCC4814</td>\n",
              "      <td>6R00G052</td>\n",
              "      <td>9822047692</td>\n",
              "      <td>PAYTM RETAIL -PG-ONLINE \\\\NOIDA\\201301\\</td>\n",
              "      <td>300255</td>\n",
              "      <td>RESULT000</td>\n",
              "      <td>0</td>\n",
              "      <td>AMI</td>\n",
              "      <td>ACS</td>\n",
              "      <td>T0797</td>\n",
              "      <td>AXASK05AEVV</td>\n",
              "      <td>ECI05</td>\n",
              "      <td>NNN</td>\n",
              "    </tr>\n",
              "    <tr>\n",
              "      <th>2</th>\n",
              "      <td>21-MAR-18 11.36.47</td>\n",
              "      <td>21-MAR-18 11.36.47</td>\n",
              "      <td>21-MAR-18 11.36.48</td>\n",
              "      <td>A1586941049519010</td>\n",
              "      <td>UNK</td>\n",
              "      <td>03-APR-18 14.19.03</td>\n",
              "      <td>01-APR-23 00.00.00</td>\n",
              "      <td>TC00</td>\n",
              "      <td>FR40</td>\n",
              "      <td>TO00</td>\n",
              "      <td>CRC1</td>\n",
              "      <td>CVC0</td>\n",
              "      <td>CCC0</td>\n",
              "      <td>ATC9</td>\n",
              "      <td>PPI4</td>\n",
              "      <td>CPI0</td>\n",
              "      <td>TCR2</td>\n",
              "      <td>TVI0</td>\n",
              "      <td>TCV0</td>\n",
              "      <td>TWC0</td>\n",
              "      <td>TOC1</td>\n",
              "      <td>PEI0</td>\n",
              "      <td>247.20</td>\n",
              "      <td>CURR356</td>\n",
              "      <td>247.20</td>\n",
              "      <td>CURR356</td>\n",
              "      <td>000</td>\n",
              "      <td>242.82</td>\n",
              "      <td>CURR356</td>\n",
              "      <td>22-MAR-18 00.00.00</td>\n",
              "      <td>CON356</td>\n",
              "      <td>MCC7399</td>\n",
              "      <td>6R00G052</td>\n",
              "      <td>9826826968</td>\n",
              "      <td>BOOK MY SHOW\\\\\\400049\\\\</td>\n",
              "      <td>700408</td>\n",
              "      <td>RESULT000</td>\n",
              "      <td>0</td>\n",
              "      <td>AMI</td>\n",
              "      <td>ACS</td>\n",
              "      <td>T0537</td>\n",
              "      <td>AXASK05AEVV</td>\n",
              "      <td>ECI05</td>\n",
              "      <td>NNN</td>\n",
              "    </tr>\n",
              "    <tr>\n",
              "      <th>3</th>\n",
              "      <td>21-MAR-18 11.39.44</td>\n",
              "      <td>21-MAR-18 11.39.44</td>\n",
              "      <td>21-MAR-18 11.39.44</td>\n",
              "      <td>A1586941050671000</td>\n",
              "      <td>UNK</td>\n",
              "      <td>20-APR-18 19.43.48</td>\n",
              "      <td>01-APR-23 00.00.00</td>\n",
              "      <td>TC00</td>\n",
              "      <td>FR40</td>\n",
              "      <td>TO00</td>\n",
              "      <td>CRC1</td>\n",
              "      <td>CVC0</td>\n",
              "      <td>CCC0</td>\n",
              "      <td>ATC9</td>\n",
              "      <td>PPI4</td>\n",
              "      <td>CPI0</td>\n",
              "      <td>TCR2</td>\n",
              "      <td>TVI0</td>\n",
              "      <td>TCV0</td>\n",
              "      <td>TWC0</td>\n",
              "      <td>TOC1</td>\n",
              "      <td>PEI0</td>\n",
              "      <td>359.00</td>\n",
              "      <td>CURR356</td>\n",
              "      <td>359.00</td>\n",
              "      <td>CURR356</td>\n",
              "      <td>000</td>\n",
              "      <td>352.65</td>\n",
              "      <td>CURR356</td>\n",
              "      <td>22-MAR-18 00.00.00</td>\n",
              "      <td>CON356</td>\n",
              "      <td>MCC7399</td>\n",
              "      <td>6R00G052</td>\n",
              "      <td>9826826968</td>\n",
              "      <td>BOOK MY SHOW\\\\\\400049\\\\</td>\n",
              "      <td>700585</td>\n",
              "      <td>RESULT000</td>\n",
              "      <td>0</td>\n",
              "      <td>AMI</td>\n",
              "      <td>ACS</td>\n",
              "      <td>T0796</td>\n",
              "      <td>AXASK05AEVV</td>\n",
              "      <td>ECI05</td>\n",
              "      <td>NNN</td>\n",
              "    </tr>\n",
              "    <tr>\n",
              "      <th>4</th>\n",
              "      <td>21-MAR-18 11.43.08</td>\n",
              "      <td>21-MAR-18 11.43.08</td>\n",
              "      <td>21-MAR-18 11.43.08</td>\n",
              "      <td>A1586941257961010</td>\n",
              "      <td>UNK</td>\n",
              "      <td>30-APR-16 20.49.02</td>\n",
              "      <td>01-APR-20 00.00.00</td>\n",
              "      <td>TC00</td>\n",
              "      <td>FR40</td>\n",
              "      <td>TO00</td>\n",
              "      <td>CRC1</td>\n",
              "      <td>CVC0</td>\n",
              "      <td>CCC0</td>\n",
              "      <td>ATC9</td>\n",
              "      <td>PPI4</td>\n",
              "      <td>CPI0</td>\n",
              "      <td>TCR2</td>\n",
              "      <td>TVI0</td>\n",
              "      <td>TCV0</td>\n",
              "      <td>TWC0</td>\n",
              "      <td>TOC1</td>\n",
              "      <td>PEI0</td>\n",
              "      <td>188.00</td>\n",
              "      <td>CURR356</td>\n",
              "      <td>188.00</td>\n",
              "      <td>CURR356</td>\n",
              "      <td>000</td>\n",
              "      <td>183.81</td>\n",
              "      <td>CURR356</td>\n",
              "      <td>22-MAR-18 00.00.00</td>\n",
              "      <td>CON356</td>\n",
              "      <td>MCC5999</td>\n",
              "      <td>6R00G052</td>\n",
              "      <td>9820524155</td>\n",
              "      <td>PAYTM.COM WALLET PG \\\\NOIDA\\201310\\\\</td>\n",
              "      <td>400788</td>\n",
              "      <td>RESULT000</td>\n",
              "      <td>0</td>\n",
              "      <td>AMI</td>\n",
              "      <td>ACS</td>\n",
              "      <td>T0784</td>\n",
              "      <td>AXASK05AEVV</td>\n",
              "      <td>ECI05</td>\n",
              "      <td>NNN</td>\n",
              "    </tr>\n",
              "  </tbody>\n",
              "</table>\n",
              "</div>"
            ],
            "text/plain": [
              "  TRANSACTION_LOCAL_DATE TRANSMISSION_DATE_TIME  ... E_COM_INDICATOR POS_ENTRY_MODE\n",
              "0     21-MAR-18 11.33.24     21-MAR-18 11.33.24  ...           ECI05            NNN\n",
              "1     21-MAR-18 11.34.15     21-MAR-18 11.34.15  ...           ECI05            NNN\n",
              "2     21-MAR-18 11.36.47     21-MAR-18 11.36.47  ...           ECI05            NNN\n",
              "3     21-MAR-18 11.39.44     21-MAR-18 11.39.44  ...           ECI05            NNN\n",
              "4     21-MAR-18 11.43.08     21-MAR-18 11.43.08  ...           ECI05            NNN\n",
              "\n",
              "[5 rows x 44 columns]"
            ]
          },
          "metadata": {
            "tags": []
          },
          "execution_count": 22
        }
      ]
    },
    {
      "cell_type": "code",
      "metadata": {
        "id": "yEusB0Ai7xOe",
        "colab_type": "code",
        "outputId": "ae0ed8f5-9c1f-49f2-cdac-66e938487d11",
        "colab": {
          "base_uri": "https://localhost:8080/",
          "height": 34
        }
      },
      "source": [
        "data3.shape"
      ],
      "execution_count": 0,
      "outputs": [
        {
          "output_type": "execute_result",
          "data": {
            "text/plain": [
              "(105271, 44)"
            ]
          },
          "metadata": {
            "tags": []
          },
          "execution_count": 23
        }
      ]
    },
    {
      "cell_type": "code",
      "metadata": {
        "id": "Zu1WOd1Y7xX2",
        "colab_type": "code",
        "outputId": "3c28cfda-56d8-40f9-86d6-a3513adc1da0",
        "colab": {
          "base_uri": "https://localhost:8080/",
          "height": 34
        }
      },
      "source": [
        "data3 = data3.dropna(how='any',axis=0) \n",
        "data3.shape"
      ],
      "execution_count": 0,
      "outputs": [
        {
          "output_type": "execute_result",
          "data": {
            "text/plain": [
              "(22256, 44)"
            ]
          },
          "metadata": {
            "tags": []
          },
          "execution_count": 24
        }
      ]
    },
    {
      "cell_type": "markdown",
      "metadata": {
        "id": "Ame_dwaE7_xC",
        "colab_type": "text"
      },
      "source": [
        "##### This provides a much better solution since we get to retain all the columns but still with apparently sufficient amount of data for each"
      ]
    },
    {
      "cell_type": "code",
      "metadata": {
        "id": "KV9BybTF76E3",
        "colab_type": "code",
        "outputId": "f7e44618-43b2-4626-a1ba-46c15076f534",
        "colab": {
          "base_uri": "https://localhost:8080/",
          "height": 799
        }
      },
      "source": [
        "start_time = time.time()\n",
        "names = list(data3.columns)\n",
        "for col in data3.columns:\n",
        "  print(col)\n",
        "  bool, new_col = check_categorical(list(data3[col]))\n",
        "  if(bool == True):\n",
        "    ## Changing categorical columns to encoded columns\n",
        "    data3[col] = new_col\n",
        "data3.head()\n",
        "end_time = time.time()\n",
        "print(\"Time taken to find and encode categorical columns : {} seconds\".format(end_time-start_time))"
      ],
      "execution_count": 0,
      "outputs": [
        {
          "output_type": "stream",
          "text": [
            "TRANSACTION_LOCAL_DATE\n",
            "TRANSMISSION_DATE_TIME\n",
            "RESPONSE_DATE_TIME\n",
            "PAN\n",
            "SERVICE_CODE\n",
            "VALID_FROM\n",
            "EXPIRY_DATE\n",
            "PROC_CODE_12\n",
            "PROC_CODE_34\n",
            "PROC_CODE_56\n",
            "PD1\n",
            "PD2\n",
            "PD3\n",
            "PD4\n",
            "PD5\n",
            "PD6\n",
            "PD7\n",
            "PD8\n",
            "PD9\n",
            "PD10\n",
            "PD11\n",
            "PD12\n",
            "TRANSACTION_AMOUNT\n",
            "TRANSACTION_CURRENCY\n",
            "BILLING_AMOUNT\n",
            "BILLING_CURRENCY\n",
            "CONVERSION_RATE_DATE\n",
            "SETTLEMENT_AMOUNT\n",
            "SETTLEMENT_CURRENCY\n",
            "SETTLEMENT_DATE\n",
            "ACQUIRING_COUNTRY_CODE\n",
            "MCC\n",
            "CARD_ACCEPTOR_TERM_ID\n",
            "CARD_ACCEPTOR_ID\n",
            "CARD_ACC_NAME_ADDRESS\n",
            "AUTHORIZATION_CODE\n",
            "DECISION\n",
            "TARGET\n",
            "C_100\n",
            "C_40\n",
            "C_20\n",
            "ECOM_INFO\n",
            "E_COM_INDICATOR\n",
            "POS_ENTRY_MODE\n",
            "Time taken to find and encode categorical columns : 50.666316747665405 seconds\n"
          ],
          "name": "stdout"
        }
      ]
    },
    {
      "cell_type": "markdown",
      "metadata": {
        "id": "hhbR9hZyiJhM",
        "colab_type": "text"
      },
      "source": [
        "##### Time taken is around 52 seconds"
      ]
    },
    {
      "cell_type": "markdown",
      "metadata": {
        "id": "q86BHSGWYCHp",
        "colab_type": "text"
      },
      "source": [
        "##### **Writing encoded dataframe to google drive to be used directly for future purposes**"
      ]
    },
    {
      "cell_type": "code",
      "metadata": {
        "id": "P-2oQ4LrJjde",
        "colab_type": "code",
        "colab": {}
      },
      "source": [
        "data3.to_csv('data3.csv')\n",
        "!cp data3.csv /gdrive/My\\ Drive/encoded_data.csv"
      ],
      "execution_count": 0,
      "outputs": []
    },
    {
      "cell_type": "markdown",
      "metadata": {
        "id": "OQi24AtZQLI3",
        "colab_type": "text"
      },
      "source": [
        "##### **From now on we will be using encoded_data.csv for our purposes**"
      ]
    },
    {
      "cell_type": "code",
      "metadata": {
        "id": "X6HZsXgGQRJB",
        "colab_type": "code",
        "colab": {}
      },
      "source": [
        "encoded = pd.read_csv(\"/gdrive/My Drive/encoded_data.csv\")"
      ],
      "execution_count": 0,
      "outputs": []
    },
    {
      "cell_type": "code",
      "metadata": {
        "id": "_G6xI7hQTVb7",
        "colab_type": "code",
        "colab": {}
      },
      "source": [
        "## Dropping non-numeric columns after encoding \n",
        "for col in encoded.columns:\n",
        "  if(is_numeric_dtype(encoded[col])== False):\n",
        "    encoded = encoded.drop(col, 1)\n"
      ],
      "execution_count": 0,
      "outputs": []
    },
    {
      "cell_type": "code",
      "metadata": {
        "id": "xzXXu5t-W8Cc",
        "colab_type": "code",
        "outputId": "7391338b-117d-42c4-f5eb-343f042c1ca4",
        "colab": {
          "base_uri": "https://localhost:8080/",
          "height": 244
        }
      },
      "source": [
        "encoded.head()"
      ],
      "execution_count": 0,
      "outputs": [
        {
          "output_type": "execute_result",
          "data": {
            "text/html": [
              "<div>\n",
              "<style scoped>\n",
              "    .dataframe tbody tr th:only-of-type {\n",
              "        vertical-align: middle;\n",
              "    }\n",
              "\n",
              "    .dataframe tbody tr th {\n",
              "        vertical-align: top;\n",
              "    }\n",
              "\n",
              "    .dataframe thead th {\n",
              "        text-align: right;\n",
              "    }\n",
              "</style>\n",
              "<table border=\"1\" class=\"dataframe\">\n",
              "  <thead>\n",
              "    <tr style=\"text-align: right;\">\n",
              "      <th></th>\n",
              "      <th>Unnamed: 0</th>\n",
              "      <th>TRANSACTION_LOCAL_DATE</th>\n",
              "      <th>TRANSMISSION_DATE_TIME</th>\n",
              "      <th>RESPONSE_DATE_TIME</th>\n",
              "      <th>PAN</th>\n",
              "      <th>VALID_FROM</th>\n",
              "      <th>EXPIRY_DATE</th>\n",
              "      <th>PROC_CODE_12</th>\n",
              "      <th>PROC_CODE_34</th>\n",
              "      <th>PD1</th>\n",
              "      <th>PD2</th>\n",
              "      <th>PD3</th>\n",
              "      <th>PD4</th>\n",
              "      <th>PD5</th>\n",
              "      <th>PD7</th>\n",
              "      <th>PD11</th>\n",
              "      <th>TRANSACTION_AMOUNT</th>\n",
              "      <th>TRANSACTION_CURRENCY</th>\n",
              "      <th>BILLING_AMOUNT</th>\n",
              "      <th>CONVERSION_RATE_DATE</th>\n",
              "      <th>SETTLEMENT_AMOUNT</th>\n",
              "      <th>SETTLEMENT_CURRENCY</th>\n",
              "      <th>ACQUIRING_COUNTRY_CODE</th>\n",
              "      <th>MCC</th>\n",
              "      <th>CARD_ACCEPTOR_TERM_ID</th>\n",
              "      <th>CARD_ACCEPTOR_ID</th>\n",
              "      <th>CARD_ACC_NAME_ADDRESS</th>\n",
              "      <th>AUTHORIZATION_CODE</th>\n",
              "      <th>DECISION</th>\n",
              "      <th>TARGET</th>\n",
              "      <th>C_100</th>\n",
              "      <th>C_40</th>\n",
              "      <th>C_20</th>\n",
              "      <th>ECOM_INFO</th>\n",
              "      <th>E_COM_INDICATOR</th>\n",
              "    </tr>\n",
              "  </thead>\n",
              "  <tbody>\n",
              "    <tr>\n",
              "      <th>0</th>\n",
              "      <td>0</td>\n",
              "      <td>5852</td>\n",
              "      <td>5838</td>\n",
              "      <td>5825</td>\n",
              "      <td>7218</td>\n",
              "      <td>1024</td>\n",
              "      <td>62</td>\n",
              "      <td>0</td>\n",
              "      <td>1</td>\n",
              "      <td>0</td>\n",
              "      <td>1</td>\n",
              "      <td>0</td>\n",
              "      <td>0</td>\n",
              "      <td>0</td>\n",
              "      <td>0</td>\n",
              "      <td>0</td>\n",
              "      <td>146.0</td>\n",
              "      <td>14</td>\n",
              "      <td>146.0</td>\n",
              "      <td>0</td>\n",
              "      <td>3278.0</td>\n",
              "      <td>0</td>\n",
              "      <td>22</td>\n",
              "      <td>105</td>\n",
              "      <td>459</td>\n",
              "      <td>123</td>\n",
              "      <td>926</td>\n",
              "      <td>7143</td>\n",
              "      <td>0</td>\n",
              "      <td>0</td>\n",
              "      <td>1</td>\n",
              "      <td>0</td>\n",
              "      <td>242</td>\n",
              "      <td>5804</td>\n",
              "      <td>1</td>\n",
              "    </tr>\n",
              "    <tr>\n",
              "      <th>1</th>\n",
              "      <td>1</td>\n",
              "      <td>14306</td>\n",
              "      <td>14158</td>\n",
              "      <td>14119</td>\n",
              "      <td>15490</td>\n",
              "      <td>3501</td>\n",
              "      <td>62</td>\n",
              "      <td>0</td>\n",
              "      <td>1</td>\n",
              "      <td>0</td>\n",
              "      <td>1</td>\n",
              "      <td>0</td>\n",
              "      <td>0</td>\n",
              "      <td>0</td>\n",
              "      <td>0</td>\n",
              "      <td>0</td>\n",
              "      <td>398.0</td>\n",
              "      <td>14</td>\n",
              "      <td>398.0</td>\n",
              "      <td>0</td>\n",
              "      <td>5285.0</td>\n",
              "      <td>0</td>\n",
              "      <td>22</td>\n",
              "      <td>73</td>\n",
              "      <td>459</td>\n",
              "      <td>733</td>\n",
              "      <td>805</td>\n",
              "      <td>5351</td>\n",
              "      <td>0</td>\n",
              "      <td>0</td>\n",
              "      <td>1</td>\n",
              "      <td>0</td>\n",
              "      <td>181</td>\n",
              "      <td>5804</td>\n",
              "      <td>1</td>\n",
              "    </tr>\n",
              "    <tr>\n",
              "      <th>2</th>\n",
              "      <td>2</td>\n",
              "      <td>8607</td>\n",
              "      <td>8462</td>\n",
              "      <td>15539</td>\n",
              "      <td>13561</td>\n",
              "      <td>7165</td>\n",
              "      <td>15</td>\n",
              "      <td>0</td>\n",
              "      <td>1</td>\n",
              "      <td>0</td>\n",
              "      <td>1</td>\n",
              "      <td>0</td>\n",
              "      <td>0</td>\n",
              "      <td>0</td>\n",
              "      <td>0</td>\n",
              "      <td>0</td>\n",
              "      <td>1237.0</td>\n",
              "      <td>14</td>\n",
              "      <td>1237.0</td>\n",
              "      <td>0</td>\n",
              "      <td>1219.0</td>\n",
              "      <td>0</td>\n",
              "      <td>22</td>\n",
              "      <td>105</td>\n",
              "      <td>459</td>\n",
              "      <td>123</td>\n",
              "      <td>926</td>\n",
              "      <td>5879</td>\n",
              "      <td>0</td>\n",
              "      <td>0</td>\n",
              "      <td>1</td>\n",
              "      <td>0</td>\n",
              "      <td>504</td>\n",
              "      <td>5804</td>\n",
              "      <td>1</td>\n",
              "    </tr>\n",
              "    <tr>\n",
              "      <th>3</th>\n",
              "      <td>3</td>\n",
              "      <td>5948</td>\n",
              "      <td>5924</td>\n",
              "      <td>5913</td>\n",
              "      <td>4821</td>\n",
              "      <td>1991</td>\n",
              "      <td>15</td>\n",
              "      <td>0</td>\n",
              "      <td>1</td>\n",
              "      <td>0</td>\n",
              "      <td>1</td>\n",
              "      <td>0</td>\n",
              "      <td>0</td>\n",
              "      <td>0</td>\n",
              "      <td>0</td>\n",
              "      <td>0</td>\n",
              "      <td>1795.0</td>\n",
              "      <td>14</td>\n",
              "      <td>1795.0</td>\n",
              "      <td>0</td>\n",
              "      <td>1770.0</td>\n",
              "      <td>0</td>\n",
              "      <td>22</td>\n",
              "      <td>105</td>\n",
              "      <td>459</td>\n",
              "      <td>123</td>\n",
              "      <td>926</td>\n",
              "      <td>13841</td>\n",
              "      <td>0</td>\n",
              "      <td>0</td>\n",
              "      <td>1</td>\n",
              "      <td>0</td>\n",
              "      <td>565</td>\n",
              "      <td>5804</td>\n",
              "      <td>1</td>\n",
              "    </tr>\n",
              "    <tr>\n",
              "      <th>4</th>\n",
              "      <td>4</td>\n",
              "      <td>9301</td>\n",
              "      <td>9126</td>\n",
              "      <td>9133</td>\n",
              "      <td>4835</td>\n",
              "      <td>12169</td>\n",
              "      <td>62</td>\n",
              "      <td>0</td>\n",
              "      <td>1</td>\n",
              "      <td>0</td>\n",
              "      <td>1</td>\n",
              "      <td>0</td>\n",
              "      <td>0</td>\n",
              "      <td>0</td>\n",
              "      <td>0</td>\n",
              "      <td>0</td>\n",
              "      <td>3611.0</td>\n",
              "      <td>14</td>\n",
              "      <td>3619.0</td>\n",
              "      <td>0</td>\n",
              "      <td>3711.0</td>\n",
              "      <td>0</td>\n",
              "      <td>22</td>\n",
              "      <td>128</td>\n",
              "      <td>459</td>\n",
              "      <td>739</td>\n",
              "      <td>1054</td>\n",
              "      <td>880</td>\n",
              "      <td>0</td>\n",
              "      <td>0</td>\n",
              "      <td>1</td>\n",
              "      <td>0</td>\n",
              "      <td>242</td>\n",
              "      <td>5804</td>\n",
              "      <td>1</td>\n",
              "    </tr>\n",
              "  </tbody>\n",
              "</table>\n",
              "</div>"
            ],
            "text/plain": [
              "   Unnamed: 0  TRANSACTION_LOCAL_DATE  ...  ECOM_INFO  E_COM_INDICATOR\n",
              "0           0                    5852  ...       5804                1\n",
              "1           1                   14306  ...       5804                1\n",
              "2           2                    8607  ...       5804                1\n",
              "3           3                    5948  ...       5804                1\n",
              "4           4                    9301  ...       5804                1\n",
              "\n",
              "[5 rows x 35 columns]"
            ]
          },
          "metadata": {
            "tags": []
          },
          "execution_count": 29
        }
      ]
    },
    {
      "cell_type": "code",
      "metadata": {
        "id": "k5yRdFupnFvv",
        "colab_type": "code",
        "outputId": "b89c9f52-c97a-4482-c77e-d5d0e7c54e75",
        "colab": {
          "base_uri": "https://localhost:8080/",
          "height": 34
        }
      },
      "source": [
        "encoded.shape"
      ],
      "execution_count": 0,
      "outputs": [
        {
          "output_type": "execute_result",
          "data": {
            "text/plain": [
              "(22256, 35)"
            ]
          },
          "metadata": {
            "tags": []
          },
          "execution_count": 30
        }
      ]
    },
    {
      "cell_type": "code",
      "metadata": {
        "id": "3q9Ua20vZrRH",
        "colab_type": "code",
        "colab": {}
      },
      "source": [
        "## Dropping NaNs and object data types\n",
        "for col in encoded.columns:\n",
        "  if(encoded[col].isnull().sum()>0):\n",
        "    encoded = encoded.drop(col,1)\n",
        "  elif(encoded[col].dtype.name == 'object'):\n",
        "    encoded = encoded.drop(col,1)"
      ],
      "execution_count": 0,
      "outputs": []
    },
    {
      "cell_type": "code",
      "metadata": {
        "id": "j_CXe4lSaKho",
        "colab_type": "code",
        "outputId": "4130580a-d50e-49e3-9b2d-7478596aace4",
        "colab": {
          "base_uri": "https://localhost:8080/",
          "height": 244
        }
      },
      "source": [
        "encoded.head()"
      ],
      "execution_count": 0,
      "outputs": [
        {
          "output_type": "execute_result",
          "data": {
            "text/html": [
              "<div>\n",
              "<style scoped>\n",
              "    .dataframe tbody tr th:only-of-type {\n",
              "        vertical-align: middle;\n",
              "    }\n",
              "\n",
              "    .dataframe tbody tr th {\n",
              "        vertical-align: top;\n",
              "    }\n",
              "\n",
              "    .dataframe thead th {\n",
              "        text-align: right;\n",
              "    }\n",
              "</style>\n",
              "<table border=\"1\" class=\"dataframe\">\n",
              "  <thead>\n",
              "    <tr style=\"text-align: right;\">\n",
              "      <th></th>\n",
              "      <th>Unnamed: 0</th>\n",
              "      <th>TRANSACTION_LOCAL_DATE</th>\n",
              "      <th>TRANSMISSION_DATE_TIME</th>\n",
              "      <th>RESPONSE_DATE_TIME</th>\n",
              "      <th>PAN</th>\n",
              "      <th>VALID_FROM</th>\n",
              "      <th>EXPIRY_DATE</th>\n",
              "      <th>PROC_CODE_12</th>\n",
              "      <th>PROC_CODE_34</th>\n",
              "      <th>PD1</th>\n",
              "      <th>PD2</th>\n",
              "      <th>PD3</th>\n",
              "      <th>PD4</th>\n",
              "      <th>PD5</th>\n",
              "      <th>PD7</th>\n",
              "      <th>PD11</th>\n",
              "      <th>TRANSACTION_AMOUNT</th>\n",
              "      <th>TRANSACTION_CURRENCY</th>\n",
              "      <th>BILLING_AMOUNT</th>\n",
              "      <th>CONVERSION_RATE_DATE</th>\n",
              "      <th>SETTLEMENT_AMOUNT</th>\n",
              "      <th>SETTLEMENT_CURRENCY</th>\n",
              "      <th>ACQUIRING_COUNTRY_CODE</th>\n",
              "      <th>MCC</th>\n",
              "      <th>CARD_ACCEPTOR_TERM_ID</th>\n",
              "      <th>CARD_ACCEPTOR_ID</th>\n",
              "      <th>CARD_ACC_NAME_ADDRESS</th>\n",
              "      <th>AUTHORIZATION_CODE</th>\n",
              "      <th>DECISION</th>\n",
              "      <th>TARGET</th>\n",
              "      <th>C_100</th>\n",
              "      <th>C_40</th>\n",
              "      <th>C_20</th>\n",
              "      <th>ECOM_INFO</th>\n",
              "      <th>E_COM_INDICATOR</th>\n",
              "    </tr>\n",
              "  </thead>\n",
              "  <tbody>\n",
              "    <tr>\n",
              "      <th>0</th>\n",
              "      <td>0</td>\n",
              "      <td>5852</td>\n",
              "      <td>5838</td>\n",
              "      <td>5825</td>\n",
              "      <td>7218</td>\n",
              "      <td>1024</td>\n",
              "      <td>62</td>\n",
              "      <td>0</td>\n",
              "      <td>1</td>\n",
              "      <td>0</td>\n",
              "      <td>1</td>\n",
              "      <td>0</td>\n",
              "      <td>0</td>\n",
              "      <td>0</td>\n",
              "      <td>0</td>\n",
              "      <td>0</td>\n",
              "      <td>146.0</td>\n",
              "      <td>14</td>\n",
              "      <td>146.0</td>\n",
              "      <td>0</td>\n",
              "      <td>3278.0</td>\n",
              "      <td>0</td>\n",
              "      <td>22</td>\n",
              "      <td>105</td>\n",
              "      <td>459</td>\n",
              "      <td>123</td>\n",
              "      <td>926</td>\n",
              "      <td>7143</td>\n",
              "      <td>0</td>\n",
              "      <td>0</td>\n",
              "      <td>1</td>\n",
              "      <td>0</td>\n",
              "      <td>242</td>\n",
              "      <td>5804</td>\n",
              "      <td>1</td>\n",
              "    </tr>\n",
              "    <tr>\n",
              "      <th>1</th>\n",
              "      <td>1</td>\n",
              "      <td>14306</td>\n",
              "      <td>14158</td>\n",
              "      <td>14119</td>\n",
              "      <td>15490</td>\n",
              "      <td>3501</td>\n",
              "      <td>62</td>\n",
              "      <td>0</td>\n",
              "      <td>1</td>\n",
              "      <td>0</td>\n",
              "      <td>1</td>\n",
              "      <td>0</td>\n",
              "      <td>0</td>\n",
              "      <td>0</td>\n",
              "      <td>0</td>\n",
              "      <td>0</td>\n",
              "      <td>398.0</td>\n",
              "      <td>14</td>\n",
              "      <td>398.0</td>\n",
              "      <td>0</td>\n",
              "      <td>5285.0</td>\n",
              "      <td>0</td>\n",
              "      <td>22</td>\n",
              "      <td>73</td>\n",
              "      <td>459</td>\n",
              "      <td>733</td>\n",
              "      <td>805</td>\n",
              "      <td>5351</td>\n",
              "      <td>0</td>\n",
              "      <td>0</td>\n",
              "      <td>1</td>\n",
              "      <td>0</td>\n",
              "      <td>181</td>\n",
              "      <td>5804</td>\n",
              "      <td>1</td>\n",
              "    </tr>\n",
              "    <tr>\n",
              "      <th>2</th>\n",
              "      <td>2</td>\n",
              "      <td>8607</td>\n",
              "      <td>8462</td>\n",
              "      <td>15539</td>\n",
              "      <td>13561</td>\n",
              "      <td>7165</td>\n",
              "      <td>15</td>\n",
              "      <td>0</td>\n",
              "      <td>1</td>\n",
              "      <td>0</td>\n",
              "      <td>1</td>\n",
              "      <td>0</td>\n",
              "      <td>0</td>\n",
              "      <td>0</td>\n",
              "      <td>0</td>\n",
              "      <td>0</td>\n",
              "      <td>1237.0</td>\n",
              "      <td>14</td>\n",
              "      <td>1237.0</td>\n",
              "      <td>0</td>\n",
              "      <td>1219.0</td>\n",
              "      <td>0</td>\n",
              "      <td>22</td>\n",
              "      <td>105</td>\n",
              "      <td>459</td>\n",
              "      <td>123</td>\n",
              "      <td>926</td>\n",
              "      <td>5879</td>\n",
              "      <td>0</td>\n",
              "      <td>0</td>\n",
              "      <td>1</td>\n",
              "      <td>0</td>\n",
              "      <td>504</td>\n",
              "      <td>5804</td>\n",
              "      <td>1</td>\n",
              "    </tr>\n",
              "    <tr>\n",
              "      <th>3</th>\n",
              "      <td>3</td>\n",
              "      <td>5948</td>\n",
              "      <td>5924</td>\n",
              "      <td>5913</td>\n",
              "      <td>4821</td>\n",
              "      <td>1991</td>\n",
              "      <td>15</td>\n",
              "      <td>0</td>\n",
              "      <td>1</td>\n",
              "      <td>0</td>\n",
              "      <td>1</td>\n",
              "      <td>0</td>\n",
              "      <td>0</td>\n",
              "      <td>0</td>\n",
              "      <td>0</td>\n",
              "      <td>0</td>\n",
              "      <td>1795.0</td>\n",
              "      <td>14</td>\n",
              "      <td>1795.0</td>\n",
              "      <td>0</td>\n",
              "      <td>1770.0</td>\n",
              "      <td>0</td>\n",
              "      <td>22</td>\n",
              "      <td>105</td>\n",
              "      <td>459</td>\n",
              "      <td>123</td>\n",
              "      <td>926</td>\n",
              "      <td>13841</td>\n",
              "      <td>0</td>\n",
              "      <td>0</td>\n",
              "      <td>1</td>\n",
              "      <td>0</td>\n",
              "      <td>565</td>\n",
              "      <td>5804</td>\n",
              "      <td>1</td>\n",
              "    </tr>\n",
              "    <tr>\n",
              "      <th>4</th>\n",
              "      <td>4</td>\n",
              "      <td>9301</td>\n",
              "      <td>9126</td>\n",
              "      <td>9133</td>\n",
              "      <td>4835</td>\n",
              "      <td>12169</td>\n",
              "      <td>62</td>\n",
              "      <td>0</td>\n",
              "      <td>1</td>\n",
              "      <td>0</td>\n",
              "      <td>1</td>\n",
              "      <td>0</td>\n",
              "      <td>0</td>\n",
              "      <td>0</td>\n",
              "      <td>0</td>\n",
              "      <td>0</td>\n",
              "      <td>3611.0</td>\n",
              "      <td>14</td>\n",
              "      <td>3619.0</td>\n",
              "      <td>0</td>\n",
              "      <td>3711.0</td>\n",
              "      <td>0</td>\n",
              "      <td>22</td>\n",
              "      <td>128</td>\n",
              "      <td>459</td>\n",
              "      <td>739</td>\n",
              "      <td>1054</td>\n",
              "      <td>880</td>\n",
              "      <td>0</td>\n",
              "      <td>0</td>\n",
              "      <td>1</td>\n",
              "      <td>0</td>\n",
              "      <td>242</td>\n",
              "      <td>5804</td>\n",
              "      <td>1</td>\n",
              "    </tr>\n",
              "  </tbody>\n",
              "</table>\n",
              "</div>"
            ],
            "text/plain": [
              "   Unnamed: 0  TRANSACTION_LOCAL_DATE  ...  ECOM_INFO  E_COM_INDICATOR\n",
              "0           0                    5852  ...       5804                1\n",
              "1           1                   14306  ...       5804                1\n",
              "2           2                    8607  ...       5804                1\n",
              "3           3                    5948  ...       5804                1\n",
              "4           4                    9301  ...       5804                1\n",
              "\n",
              "[5 rows x 35 columns]"
            ]
          },
          "metadata": {
            "tags": []
          },
          "execution_count": 32
        }
      ]
    },
    {
      "cell_type": "code",
      "metadata": {
        "id": "m1X71HroLJUc",
        "colab_type": "code",
        "outputId": "8a0c12a9-fddb-4fa3-ea5d-7de81dfb1828",
        "colab": {
          "base_uri": "https://localhost:8080/",
          "height": 34
        }
      },
      "source": [
        "encoded.shape"
      ],
      "execution_count": 0,
      "outputs": [
        {
          "output_type": "execute_result",
          "data": {
            "text/plain": [
              "(22256, 35)"
            ]
          },
          "metadata": {
            "tags": []
          },
          "execution_count": 33
        }
      ]
    },
    {
      "cell_type": "markdown",
      "metadata": {
        "id": "vSlwSYFUnO4y",
        "colab_type": "text"
      },
      "source": [
        "##### So there was no NaNs or object data type columns in encoded."
      ]
    },
    {
      "cell_type": "code",
      "metadata": {
        "id": "csrpwitUnOB8",
        "colab_type": "code",
        "colab": {}
      },
      "source": [
        "## Removing the float type data columns because they may be indicative of continuous variables. Good thing the encodings preserve the data types.\n",
        "## So if something was float originally so is the encoding.\n",
        "for col in encoded.columns:\n",
        "  if encoded[col].dtype == 'float':\n",
        "    encoded = encoded.drop(col,1)"
      ],
      "execution_count": 0,
      "outputs": []
    },
    {
      "cell_type": "code",
      "metadata": {
        "id": "Bf6witsRpqni",
        "colab_type": "code",
        "outputId": "e1c59a81-132a-4b96-8602-b8d6afd69745",
        "colab": {
          "base_uri": "https://localhost:8080/",
          "height": 173
        }
      },
      "source": [
        "encoded.columns"
      ],
      "execution_count": 0,
      "outputs": [
        {
          "output_type": "execute_result",
          "data": {
            "text/plain": [
              "Index(['Unnamed: 0', 'TRANSACTION_LOCAL_DATE', 'TRANSMISSION_DATE_TIME',\n",
              "       'RESPONSE_DATE_TIME', 'PAN', 'VALID_FROM', 'EXPIRY_DATE',\n",
              "       'PROC_CODE_12', 'PROC_CODE_34', 'PD1', 'PD2', 'PD3', 'PD4', 'PD5',\n",
              "       'PD7', 'PD11', 'TRANSACTION_CURRENCY', 'CONVERSION_RATE_DATE',\n",
              "       'SETTLEMENT_CURRENCY', 'ACQUIRING_COUNTRY_CODE', 'MCC',\n",
              "       'CARD_ACCEPTOR_TERM_ID', 'CARD_ACCEPTOR_ID', 'CARD_ACC_NAME_ADDRESS',\n",
              "       'AUTHORIZATION_CODE', 'DECISION', 'TARGET', 'C_100', 'C_40', 'C_20',\n",
              "       'ECOM_INFO', 'E_COM_INDICATOR'],\n",
              "      dtype='object')"
            ]
          },
          "metadata": {
            "tags": []
          },
          "execution_count": 35
        }
      ]
    },
    {
      "cell_type": "code",
      "metadata": {
        "id": "fb6jYgXXpz6M",
        "colab_type": "code",
        "colab": {}
      },
      "source": [
        "encoded = encoded.drop('Unnamed: 0',1)"
      ],
      "execution_count": 0,
      "outputs": []
    },
    {
      "cell_type": "code",
      "metadata": {
        "id": "Kudq5Pt0o_L9",
        "colab_type": "code",
        "outputId": "be2ea213-0699-480d-e2f5-1de250c7deba",
        "colab": {
          "base_uri": "https://localhost:8080/",
          "height": 34
        }
      },
      "source": [
        "encoded.shape"
      ],
      "execution_count": 0,
      "outputs": [
        {
          "output_type": "execute_result",
          "data": {
            "text/plain": [
              "(22256, 31)"
            ]
          },
          "metadata": {
            "tags": []
          },
          "execution_count": 37
        }
      ]
    },
    {
      "cell_type": "markdown",
      "metadata": {
        "id": "-Dqmy4-pqCiG",
        "colab_type": "text"
      },
      "source": [
        "##### **Function to create dataframe where all variables are normalized between 0 and 1**"
      ]
    },
    {
      "cell_type": "code",
      "metadata": {
        "id": "jWBSvEGSrVOL",
        "colab_type": "code",
        "colab": {}
      },
      "source": [
        "## Change the range between 0 and 1\n",
        "def normalize(df):\n",
        "  df_new=pd.DataFrame()\n",
        "  for col in df.columns:\n",
        "    l = list(df[col])\n",
        "    ## avoiding divisions by zero\n",
        "    if np.max(l) == 0 :\n",
        "      l = np.linspace(0,0,len(df[col]-1))\n",
        "    else:\n",
        "      l = l/np.max(l) \n",
        "    df_new[col]=l\n",
        "  return df_new"
      ],
      "execution_count": 0,
      "outputs": []
    },
    {
      "cell_type": "code",
      "metadata": {
        "id": "NhhEYB8FsJOD",
        "colab_type": "code",
        "outputId": "fc451b2a-7ed8-4da5-eff4-429dfb2ecf47",
        "colab": {
          "base_uri": "https://localhost:8080/",
          "height": 444
        }
      },
      "source": [
        "normalize(encoded)"
      ],
      "execution_count": 0,
      "outputs": [
        {
          "output_type": "execute_result",
          "data": {
            "text/html": [
              "<div>\n",
              "<style scoped>\n",
              "    .dataframe tbody tr th:only-of-type {\n",
              "        vertical-align: middle;\n",
              "    }\n",
              "\n",
              "    .dataframe tbody tr th {\n",
              "        vertical-align: top;\n",
              "    }\n",
              "\n",
              "    .dataframe thead th {\n",
              "        text-align: right;\n",
              "    }\n",
              "</style>\n",
              "<table border=\"1\" class=\"dataframe\">\n",
              "  <thead>\n",
              "    <tr style=\"text-align: right;\">\n",
              "      <th></th>\n",
              "      <th>TRANSACTION_LOCAL_DATE</th>\n",
              "      <th>TRANSMISSION_DATE_TIME</th>\n",
              "      <th>RESPONSE_DATE_TIME</th>\n",
              "      <th>PAN</th>\n",
              "      <th>VALID_FROM</th>\n",
              "      <th>EXPIRY_DATE</th>\n",
              "      <th>PROC_CODE_12</th>\n",
              "      <th>PROC_CODE_34</th>\n",
              "      <th>PD1</th>\n",
              "      <th>PD2</th>\n",
              "      <th>PD3</th>\n",
              "      <th>PD4</th>\n",
              "      <th>PD5</th>\n",
              "      <th>PD7</th>\n",
              "      <th>PD11</th>\n",
              "      <th>TRANSACTION_CURRENCY</th>\n",
              "      <th>CONVERSION_RATE_DATE</th>\n",
              "      <th>SETTLEMENT_CURRENCY</th>\n",
              "      <th>ACQUIRING_COUNTRY_CODE</th>\n",
              "      <th>MCC</th>\n",
              "      <th>CARD_ACCEPTOR_TERM_ID</th>\n",
              "      <th>CARD_ACCEPTOR_ID</th>\n",
              "      <th>CARD_ACC_NAME_ADDRESS</th>\n",
              "      <th>AUTHORIZATION_CODE</th>\n",
              "      <th>DECISION</th>\n",
              "      <th>TARGET</th>\n",
              "      <th>C_100</th>\n",
              "      <th>C_40</th>\n",
              "      <th>C_20</th>\n",
              "      <th>ECOM_INFO</th>\n",
              "      <th>E_COM_INDICATOR</th>\n",
              "    </tr>\n",
              "  </thead>\n",
              "  <tbody>\n",
              "    <tr>\n",
              "      <th>0</th>\n",
              "      <td>0.311062</td>\n",
              "      <td>0.312293</td>\n",
              "      <td>0.311831</td>\n",
              "      <td>0.461185</td>\n",
              "      <td>0.074079</td>\n",
              "      <td>0.756098</td>\n",
              "      <td>0.0</td>\n",
              "      <td>0.5</td>\n",
              "      <td>0.0</td>\n",
              "      <td>1.0</td>\n",
              "      <td>0.0</td>\n",
              "      <td>0.0</td>\n",
              "      <td>0.0</td>\n",
              "      <td>0.0</td>\n",
              "      <td>0.0</td>\n",
              "      <td>0.875</td>\n",
              "      <td>0.0</td>\n",
              "      <td>0.0</td>\n",
              "      <td>0.88</td>\n",
              "      <td>0.801527</td>\n",
              "      <td>0.541274</td>\n",
              "      <td>0.105489</td>\n",
              "      <td>0.844120</td>\n",
              "      <td>0.340289</td>\n",
              "      <td>0.0</td>\n",
              "      <td>0.0</td>\n",
              "      <td>1.0</td>\n",
              "      <td>0.0</td>\n",
              "      <td>0.389694</td>\n",
              "      <td>0.276210</td>\n",
              "      <td>0.5</td>\n",
              "    </tr>\n",
              "    <tr>\n",
              "      <th>1</th>\n",
              "      <td>0.760432</td>\n",
              "      <td>0.757355</td>\n",
              "      <td>0.755835</td>\n",
              "      <td>0.989713</td>\n",
              "      <td>0.253274</td>\n",
              "      <td>0.756098</td>\n",
              "      <td>0.0</td>\n",
              "      <td>0.5</td>\n",
              "      <td>0.0</td>\n",
              "      <td>1.0</td>\n",
              "      <td>0.0</td>\n",
              "      <td>0.0</td>\n",
              "      <td>0.0</td>\n",
              "      <td>0.0</td>\n",
              "      <td>0.0</td>\n",
              "      <td>0.875</td>\n",
              "      <td>0.0</td>\n",
              "      <td>0.0</td>\n",
              "      <td>0.88</td>\n",
              "      <td>0.557252</td>\n",
              "      <td>0.541274</td>\n",
              "      <td>0.628645</td>\n",
              "      <td>0.733820</td>\n",
              "      <td>0.254919</td>\n",
              "      <td>0.0</td>\n",
              "      <td>0.0</td>\n",
              "      <td>1.0</td>\n",
              "      <td>0.0</td>\n",
              "      <td>0.291465</td>\n",
              "      <td>0.276210</td>\n",
              "      <td>0.5</td>\n",
              "    </tr>\n",
              "    <tr>\n",
              "      <th>2</th>\n",
              "      <td>0.457503</td>\n",
              "      <td>0.452659</td>\n",
              "      <td>0.831852</td>\n",
              "      <td>0.866462</td>\n",
              "      <td>0.518339</td>\n",
              "      <td>0.182927</td>\n",
              "      <td>0.0</td>\n",
              "      <td>0.5</td>\n",
              "      <td>0.0</td>\n",
              "      <td>1.0</td>\n",
              "      <td>0.0</td>\n",
              "      <td>0.0</td>\n",
              "      <td>0.0</td>\n",
              "      <td>0.0</td>\n",
              "      <td>0.0</td>\n",
              "      <td>0.875</td>\n",
              "      <td>0.0</td>\n",
              "      <td>0.0</td>\n",
              "      <td>0.88</td>\n",
              "      <td>0.801527</td>\n",
              "      <td>0.541274</td>\n",
              "      <td>0.105489</td>\n",
              "      <td>0.844120</td>\n",
              "      <td>0.280072</td>\n",
              "      <td>0.0</td>\n",
              "      <td>0.0</td>\n",
              "      <td>1.0</td>\n",
              "      <td>0.0</td>\n",
              "      <td>0.811594</td>\n",
              "      <td>0.276210</td>\n",
              "      <td>0.5</td>\n",
              "    </tr>\n",
              "    <tr>\n",
              "      <th>3</th>\n",
              "      <td>0.316164</td>\n",
              "      <td>0.316893</td>\n",
              "      <td>0.316542</td>\n",
              "      <td>0.308031</td>\n",
              "      <td>0.144035</td>\n",
              "      <td>0.182927</td>\n",
              "      <td>0.0</td>\n",
              "      <td>0.5</td>\n",
              "      <td>0.0</td>\n",
              "      <td>1.0</td>\n",
              "      <td>0.0</td>\n",
              "      <td>0.0</td>\n",
              "      <td>0.0</td>\n",
              "      <td>0.0</td>\n",
              "      <td>0.0</td>\n",
              "      <td>0.875</td>\n",
              "      <td>0.0</td>\n",
              "      <td>0.0</td>\n",
              "      <td>0.88</td>\n",
              "      <td>0.801527</td>\n",
              "      <td>0.541274</td>\n",
              "      <td>0.105489</td>\n",
              "      <td>0.844120</td>\n",
              "      <td>0.659378</td>\n",
              "      <td>0.0</td>\n",
              "      <td>0.0</td>\n",
              "      <td>1.0</td>\n",
              "      <td>0.0</td>\n",
              "      <td>0.909823</td>\n",
              "      <td>0.276210</td>\n",
              "      <td>0.5</td>\n",
              "    </tr>\n",
              "    <tr>\n",
              "      <th>4</th>\n",
              "      <td>0.494392</td>\n",
              "      <td>0.488178</td>\n",
              "      <td>0.488919</td>\n",
              "      <td>0.308926</td>\n",
              "      <td>0.880344</td>\n",
              "      <td>0.756098</td>\n",
              "      <td>0.0</td>\n",
              "      <td>0.5</td>\n",
              "      <td>0.0</td>\n",
              "      <td>1.0</td>\n",
              "      <td>0.0</td>\n",
              "      <td>0.0</td>\n",
              "      <td>0.0</td>\n",
              "      <td>0.0</td>\n",
              "      <td>0.0</td>\n",
              "      <td>0.875</td>\n",
              "      <td>0.0</td>\n",
              "      <td>0.0</td>\n",
              "      <td>0.88</td>\n",
              "      <td>0.977099</td>\n",
              "      <td>0.541274</td>\n",
              "      <td>0.633791</td>\n",
              "      <td>0.960802</td>\n",
              "      <td>0.041923</td>\n",
              "      <td>0.0</td>\n",
              "      <td>0.0</td>\n",
              "      <td>1.0</td>\n",
              "      <td>0.0</td>\n",
              "      <td>0.389694</td>\n",
              "      <td>0.276210</td>\n",
              "      <td>0.5</td>\n",
              "    </tr>\n",
              "    <tr>\n",
              "      <th>...</th>\n",
              "      <td>...</td>\n",
              "      <td>...</td>\n",
              "      <td>...</td>\n",
              "      <td>...</td>\n",
              "      <td>...</td>\n",
              "      <td>...</td>\n",
              "      <td>...</td>\n",
              "      <td>...</td>\n",
              "      <td>...</td>\n",
              "      <td>...</td>\n",
              "      <td>...</td>\n",
              "      <td>...</td>\n",
              "      <td>...</td>\n",
              "      <td>...</td>\n",
              "      <td>...</td>\n",
              "      <td>...</td>\n",
              "      <td>...</td>\n",
              "      <td>...</td>\n",
              "      <td>...</td>\n",
              "      <td>...</td>\n",
              "      <td>...</td>\n",
              "      <td>...</td>\n",
              "      <td>...</td>\n",
              "      <td>...</td>\n",
              "      <td>...</td>\n",
              "      <td>...</td>\n",
              "      <td>...</td>\n",
              "      <td>...</td>\n",
              "      <td>...</td>\n",
              "      <td>...</td>\n",
              "      <td>...</td>\n",
              "    </tr>\n",
              "    <tr>\n",
              "      <th>22251</th>\n",
              "      <td>0.498645</td>\n",
              "      <td>0.179576</td>\n",
              "      <td>0.179283</td>\n",
              "      <td>0.777586</td>\n",
              "      <td>0.435361</td>\n",
              "      <td>0.865854</td>\n",
              "      <td>0.0</td>\n",
              "      <td>0.0</td>\n",
              "      <td>0.0</td>\n",
              "      <td>1.0</td>\n",
              "      <td>1.0</td>\n",
              "      <td>1.0</td>\n",
              "      <td>1.0</td>\n",
              "      <td>1.0</td>\n",
              "      <td>1.0</td>\n",
              "      <td>0.875</td>\n",
              "      <td>0.0</td>\n",
              "      <td>1.0</td>\n",
              "      <td>0.88</td>\n",
              "      <td>0.557252</td>\n",
              "      <td>0.301887</td>\n",
              "      <td>0.285592</td>\n",
              "      <td>0.639927</td>\n",
              "      <td>0.188795</td>\n",
              "      <td>0.2</td>\n",
              "      <td>1.0</td>\n",
              "      <td>0.0</td>\n",
              "      <td>1.0</td>\n",
              "      <td>0.009662</td>\n",
              "      <td>0.067720</td>\n",
              "      <td>0.5</td>\n",
              "    </tr>\n",
              "    <tr>\n",
              "      <th>22252</th>\n",
              "      <td>0.177271</td>\n",
              "      <td>0.691880</td>\n",
              "      <td>0.984582</td>\n",
              "      <td>0.825059</td>\n",
              "      <td>0.334804</td>\n",
              "      <td>0.182927</td>\n",
              "      <td>0.0</td>\n",
              "      <td>0.0</td>\n",
              "      <td>0.0</td>\n",
              "      <td>1.0</td>\n",
              "      <td>1.0</td>\n",
              "      <td>1.0</td>\n",
              "      <td>1.0</td>\n",
              "      <td>1.0</td>\n",
              "      <td>1.0</td>\n",
              "      <td>0.875</td>\n",
              "      <td>0.0</td>\n",
              "      <td>1.0</td>\n",
              "      <td>0.88</td>\n",
              "      <td>0.687023</td>\n",
              "      <td>0.787736</td>\n",
              "      <td>0.066895</td>\n",
              "      <td>0.368277</td>\n",
              "      <td>0.188795</td>\n",
              "      <td>0.2</td>\n",
              "      <td>1.0</td>\n",
              "      <td>0.0</td>\n",
              "      <td>1.0</td>\n",
              "      <td>0.909823</td>\n",
              "      <td>0.848713</td>\n",
              "      <td>0.5</td>\n",
              "    </tr>\n",
              "    <tr>\n",
              "      <th>22253</th>\n",
              "      <td>0.492319</td>\n",
              "      <td>0.816626</td>\n",
              "      <td>0.815364</td>\n",
              "      <td>0.556706</td>\n",
              "      <td>0.421110</td>\n",
              "      <td>0.902439</td>\n",
              "      <td>0.0</td>\n",
              "      <td>0.0</td>\n",
              "      <td>0.0</td>\n",
              "      <td>1.0</td>\n",
              "      <td>1.0</td>\n",
              "      <td>1.0</td>\n",
              "      <td>1.0</td>\n",
              "      <td>1.0</td>\n",
              "      <td>1.0</td>\n",
              "      <td>0.875</td>\n",
              "      <td>0.0</td>\n",
              "      <td>1.0</td>\n",
              "      <td>0.88</td>\n",
              "      <td>0.801527</td>\n",
              "      <td>0.687500</td>\n",
              "      <td>0.174099</td>\n",
              "      <td>0.467639</td>\n",
              "      <td>0.188795</td>\n",
              "      <td>0.2</td>\n",
              "      <td>1.0</td>\n",
              "      <td>0.0</td>\n",
              "      <td>1.0</td>\n",
              "      <td>0.909823</td>\n",
              "      <td>0.329701</td>\n",
              "      <td>0.5</td>\n",
              "    </tr>\n",
              "    <tr>\n",
              "      <th>22254</th>\n",
              "      <td>0.221017</td>\n",
              "      <td>0.212849</td>\n",
              "      <td>0.937901</td>\n",
              "      <td>0.999169</td>\n",
              "      <td>0.061347</td>\n",
              "      <td>0.109756</td>\n",
              "      <td>0.0</td>\n",
              "      <td>1.0</td>\n",
              "      <td>0.0</td>\n",
              "      <td>1.0</td>\n",
              "      <td>1.0</td>\n",
              "      <td>1.0</td>\n",
              "      <td>1.0</td>\n",
              "      <td>1.0</td>\n",
              "      <td>1.0</td>\n",
              "      <td>0.875</td>\n",
              "      <td>0.0</td>\n",
              "      <td>1.0</td>\n",
              "      <td>0.88</td>\n",
              "      <td>0.557252</td>\n",
              "      <td>0.058962</td>\n",
              "      <td>0.902230</td>\n",
              "      <td>0.030082</td>\n",
              "      <td>0.188795</td>\n",
              "      <td>0.8</td>\n",
              "      <td>1.0</td>\n",
              "      <td>0.0</td>\n",
              "      <td>1.0</td>\n",
              "      <td>0.631240</td>\n",
              "      <td>0.270975</td>\n",
              "      <td>0.0</td>\n",
              "    </tr>\n",
              "    <tr>\n",
              "      <th>22255</th>\n",
              "      <td>0.057354</td>\n",
              "      <td>0.917353</td>\n",
              "      <td>0.916328</td>\n",
              "      <td>0.970289</td>\n",
              "      <td>0.977067</td>\n",
              "      <td>0.170732</td>\n",
              "      <td>0.0</td>\n",
              "      <td>0.0</td>\n",
              "      <td>0.0</td>\n",
              "      <td>1.0</td>\n",
              "      <td>1.0</td>\n",
              "      <td>1.0</td>\n",
              "      <td>1.0</td>\n",
              "      <td>1.0</td>\n",
              "      <td>1.0</td>\n",
              "      <td>0.875</td>\n",
              "      <td>0.0</td>\n",
              "      <td>1.0</td>\n",
              "      <td>0.88</td>\n",
              "      <td>0.557252</td>\n",
              "      <td>0.385613</td>\n",
              "      <td>0.954545</td>\n",
              "      <td>0.605287</td>\n",
              "      <td>0.188795</td>\n",
              "      <td>0.8</td>\n",
              "      <td>1.0</td>\n",
              "      <td>0.0</td>\n",
              "      <td>1.0</td>\n",
              "      <td>0.909823</td>\n",
              "      <td>0.165992</td>\n",
              "      <td>0.0</td>\n",
              "    </tr>\n",
              "  </tbody>\n",
              "</table>\n",
              "<p>22256 rows × 31 columns</p>\n",
              "</div>"
            ],
            "text/plain": [
              "       TRANSACTION_LOCAL_DATE  ...  E_COM_INDICATOR\n",
              "0                    0.311062  ...              0.5\n",
              "1                    0.760432  ...              0.5\n",
              "2                    0.457503  ...              0.5\n",
              "3                    0.316164  ...              0.5\n",
              "4                    0.494392  ...              0.5\n",
              "...                       ...  ...              ...\n",
              "22251                0.498645  ...              0.5\n",
              "22252                0.177271  ...              0.5\n",
              "22253                0.492319  ...              0.5\n",
              "22254                0.221017  ...              0.0\n",
              "22255                0.057354  ...              0.0\n",
              "\n",
              "[22256 rows x 31 columns]"
            ]
          },
          "metadata": {
            "tags": []
          },
          "execution_count": 39
        }
      ]
    },
    {
      "cell_type": "code",
      "metadata": {
        "id": "rA03ASoMtm36",
        "colab_type": "code",
        "colab": {}
      },
      "source": [
        "encoded_normalized = normalize(encoded)"
      ],
      "execution_count": 0,
      "outputs": []
    },
    {
      "cell_type": "markdown",
      "metadata": {
        "id": "1kd5m5v_9oWo",
        "colab_type": "text"
      },
      "source": [
        "##### **Function to remove columns which are a list on distinct values for eg. the index**"
      ]
    },
    {
      "cell_type": "code",
      "metadata": {
        "id": "1NNJZgy29m3K",
        "colab_type": "code",
        "colab": {}
      },
      "source": [
        "def remove_index_like(df):\n",
        "  df_new = df.copy()\n",
        "  indices = []\n",
        "  for i in df_new.columns:\n",
        "    if len(df[i]) == len(set(df[i])):\n",
        "      indices.append(i)\n",
        "  df_new = df_new.drop(indices,1)\n",
        "  return df_new"
      ],
      "execution_count": 0,
      "outputs": []
    },
    {
      "cell_type": "code",
      "metadata": {
        "id": "G8eozlJU-63N",
        "colab_type": "code",
        "colab": {}
      },
      "source": [
        "encoded = remove_index_like(encoded)"
      ],
      "execution_count": 0,
      "outputs": []
    },
    {
      "cell_type": "code",
      "metadata": {
        "id": "TcTCXANb_DYI",
        "colab_type": "code",
        "outputId": "2d1fbee7-7325-4f4c-ac3b-2685c6d6ded1",
        "colab": {
          "base_uri": "https://localhost:8080/",
          "height": 34
        }
      },
      "source": [
        "encoded.shape"
      ],
      "execution_count": 0,
      "outputs": [
        {
          "output_type": "execute_result",
          "data": {
            "text/plain": [
              "(22256, 31)"
            ]
          },
          "metadata": {
            "tags": []
          },
          "execution_count": 43
        }
      ]
    },
    {
      "cell_type": "code",
      "metadata": {
        "id": "Luj0gQhR_Hh-",
        "colab_type": "code",
        "outputId": "ce12ae2c-2187-46b3-a8ea-58a817bd6c51",
        "colab": {
          "base_uri": "https://localhost:8080/",
          "height": 34
        }
      },
      "source": [
        "encoded_normalized = remove_index_like(encoded_normalized)\n",
        "encoded_normalized.shape"
      ],
      "execution_count": 0,
      "outputs": [
        {
          "output_type": "execute_result",
          "data": {
            "text/plain": [
              "(22256, 31)"
            ]
          },
          "metadata": {
            "tags": []
          },
          "execution_count": 44
        }
      ]
    },
    {
      "cell_type": "markdown",
      "metadata": {
        "id": "LBSEWMZp_Rtu",
        "colab_type": "text"
      },
      "source": [
        "##### There are no columns that have unique values in all rows for both encoded and encoded_normalized"
      ]
    },
    {
      "cell_type": "markdown",
      "metadata": {
        "id": "d3mywjC_Ll6c",
        "colab_type": "text"
      },
      "source": [
        "##### **Function to remove constant values**\n"
      ]
    },
    {
      "cell_type": "code",
      "metadata": {
        "id": "DZiPS0k5LrW1",
        "colab_type": "code",
        "colab": {}
      },
      "source": [
        "def remove_constants(df):\n",
        "  df_new = df.copy()\n",
        "  indices = []\n",
        "  for col in df_new.columns:\n",
        "    if len(set(df_new[col])) == 1:\n",
        "      indices.append(col)\n",
        "  df_new = df_new.drop(indices,1)\n",
        "  return df_new"
      ],
      "execution_count": 0,
      "outputs": []
    },
    {
      "cell_type": "code",
      "metadata": {
        "id": "92b4TtRPMb8K",
        "colab_type": "code",
        "outputId": "f107bd6c-aba4-479d-8dcd-7f75d9961461",
        "colab": {
          "base_uri": "https://localhost:8080/",
          "height": 34
        }
      },
      "source": [
        "encoded = remove_constants(encoded)\n",
        "encoded.shape"
      ],
      "execution_count": 0,
      "outputs": [
        {
          "output_type": "execute_result",
          "data": {
            "text/plain": [
              "(22256, 30)"
            ]
          },
          "metadata": {
            "tags": []
          },
          "execution_count": 46
        }
      ]
    },
    {
      "cell_type": "code",
      "metadata": {
        "id": "p94ZQxUl7xTJ",
        "colab_type": "code",
        "outputId": "66346568-6100-446b-ba3b-019d2b3706ca",
        "colab": {
          "base_uri": "https://localhost:8080/",
          "height": 173
        }
      },
      "source": [
        "encoded.columns"
      ],
      "execution_count": 0,
      "outputs": [
        {
          "output_type": "execute_result",
          "data": {
            "text/plain": [
              "Index(['TRANSACTION_LOCAL_DATE', 'TRANSMISSION_DATE_TIME',\n",
              "       'RESPONSE_DATE_TIME', 'PAN', 'VALID_FROM', 'EXPIRY_DATE',\n",
              "       'PROC_CODE_12', 'PROC_CODE_34', 'PD1', 'PD2', 'PD3', 'PD4', 'PD5',\n",
              "       'PD7', 'PD11', 'TRANSACTION_CURRENCY', 'SETTLEMENT_CURRENCY',\n",
              "       'ACQUIRING_COUNTRY_CODE', 'MCC', 'CARD_ACCEPTOR_TERM_ID',\n",
              "       'CARD_ACCEPTOR_ID', 'CARD_ACC_NAME_ADDRESS', 'AUTHORIZATION_CODE',\n",
              "       'DECISION', 'TARGET', 'C_100', 'C_40', 'C_20', 'ECOM_INFO',\n",
              "       'E_COM_INDICATOR'],\n",
              "      dtype='object')"
            ]
          },
          "metadata": {
            "tags": []
          },
          "execution_count": 47
        }
      ]
    },
    {
      "cell_type": "markdown",
      "metadata": {
        "id": "-YKv-vqmbjIu",
        "colab_type": "text"
      },
      "source": [
        "### **Clustering using KMapper, pick clusters with more fraud data, using dataframe encoded**"
      ]
    },
    {
      "cell_type": "code",
      "metadata": {
        "id": "4d0AJ_Hok8rr",
        "colab_type": "code",
        "colab": {}
      },
      "source": [
        "encoded.to_csv('data_ready_for_clustering.csv')\n",
        "!cp data_ready_for_clustering.csv /gdrive/My\\ Drive/data_ready_for_clustering.csv"
      ],
      "execution_count": 0,
      "outputs": []
    },
    {
      "cell_type": "code",
      "metadata": {
        "id": "1EVahxVGlOJO",
        "colab_type": "code",
        "outputId": "6b45f8e0-de20-492e-c219-a6b0865744af",
        "colab": {
          "base_uri": "https://localhost:8080/",
          "height": 34
        }
      },
      "source": [
        "mapper_data = pd.read_csv('/gdrive/My Drive/data_ready_for_clustering.csv')\n",
        "mapper_data.shape"
      ],
      "execution_count": 10,
      "outputs": [
        {
          "output_type": "execute_result",
          "data": {
            "text/plain": [
              "(22256, 31)"
            ]
          },
          "metadata": {
            "tags": []
          },
          "execution_count": 10
        }
      ]
    },
    {
      "cell_type": "code",
      "metadata": {
        "id": "TviDAvI3CnJQ",
        "colab_type": "code",
        "outputId": "975f2b44-0df1-4a24-c33a-0d2dc05d78c0",
        "colab": {
          "base_uri": "https://localhost:8080/",
          "height": 244
        }
      },
      "source": [
        "mapper_data.head()"
      ],
      "execution_count": 11,
      "outputs": [
        {
          "output_type": "execute_result",
          "data": {
            "text/html": [
              "<div>\n",
              "<style scoped>\n",
              "    .dataframe tbody tr th:only-of-type {\n",
              "        vertical-align: middle;\n",
              "    }\n",
              "\n",
              "    .dataframe tbody tr th {\n",
              "        vertical-align: top;\n",
              "    }\n",
              "\n",
              "    .dataframe thead th {\n",
              "        text-align: right;\n",
              "    }\n",
              "</style>\n",
              "<table border=\"1\" class=\"dataframe\">\n",
              "  <thead>\n",
              "    <tr style=\"text-align: right;\">\n",
              "      <th></th>\n",
              "      <th>Unnamed: 0</th>\n",
              "      <th>TRANSACTION_LOCAL_DATE</th>\n",
              "      <th>TRANSMISSION_DATE_TIME</th>\n",
              "      <th>RESPONSE_DATE_TIME</th>\n",
              "      <th>PAN</th>\n",
              "      <th>VALID_FROM</th>\n",
              "      <th>EXPIRY_DATE</th>\n",
              "      <th>PROC_CODE_12</th>\n",
              "      <th>PROC_CODE_34</th>\n",
              "      <th>PD1</th>\n",
              "      <th>PD2</th>\n",
              "      <th>PD3</th>\n",
              "      <th>PD4</th>\n",
              "      <th>PD5</th>\n",
              "      <th>PD7</th>\n",
              "      <th>PD11</th>\n",
              "      <th>TRANSACTION_CURRENCY</th>\n",
              "      <th>SETTLEMENT_CURRENCY</th>\n",
              "      <th>ACQUIRING_COUNTRY_CODE</th>\n",
              "      <th>MCC</th>\n",
              "      <th>CARD_ACCEPTOR_TERM_ID</th>\n",
              "      <th>CARD_ACCEPTOR_ID</th>\n",
              "      <th>CARD_ACC_NAME_ADDRESS</th>\n",
              "      <th>AUTHORIZATION_CODE</th>\n",
              "      <th>DECISION</th>\n",
              "      <th>TARGET</th>\n",
              "      <th>C_100</th>\n",
              "      <th>C_40</th>\n",
              "      <th>C_20</th>\n",
              "      <th>ECOM_INFO</th>\n",
              "      <th>E_COM_INDICATOR</th>\n",
              "    </tr>\n",
              "  </thead>\n",
              "  <tbody>\n",
              "    <tr>\n",
              "      <th>0</th>\n",
              "      <td>0</td>\n",
              "      <td>5852</td>\n",
              "      <td>5838</td>\n",
              "      <td>5825</td>\n",
              "      <td>7218</td>\n",
              "      <td>1024</td>\n",
              "      <td>62</td>\n",
              "      <td>0</td>\n",
              "      <td>1</td>\n",
              "      <td>0</td>\n",
              "      <td>1</td>\n",
              "      <td>0</td>\n",
              "      <td>0</td>\n",
              "      <td>0</td>\n",
              "      <td>0</td>\n",
              "      <td>0</td>\n",
              "      <td>14</td>\n",
              "      <td>0</td>\n",
              "      <td>22</td>\n",
              "      <td>105</td>\n",
              "      <td>459</td>\n",
              "      <td>123</td>\n",
              "      <td>926</td>\n",
              "      <td>7143</td>\n",
              "      <td>0</td>\n",
              "      <td>0</td>\n",
              "      <td>1</td>\n",
              "      <td>0</td>\n",
              "      <td>242</td>\n",
              "      <td>5804</td>\n",
              "      <td>1</td>\n",
              "    </tr>\n",
              "    <tr>\n",
              "      <th>1</th>\n",
              "      <td>1</td>\n",
              "      <td>14306</td>\n",
              "      <td>14158</td>\n",
              "      <td>14119</td>\n",
              "      <td>15490</td>\n",
              "      <td>3501</td>\n",
              "      <td>62</td>\n",
              "      <td>0</td>\n",
              "      <td>1</td>\n",
              "      <td>0</td>\n",
              "      <td>1</td>\n",
              "      <td>0</td>\n",
              "      <td>0</td>\n",
              "      <td>0</td>\n",
              "      <td>0</td>\n",
              "      <td>0</td>\n",
              "      <td>14</td>\n",
              "      <td>0</td>\n",
              "      <td>22</td>\n",
              "      <td>73</td>\n",
              "      <td>459</td>\n",
              "      <td>733</td>\n",
              "      <td>805</td>\n",
              "      <td>5351</td>\n",
              "      <td>0</td>\n",
              "      <td>0</td>\n",
              "      <td>1</td>\n",
              "      <td>0</td>\n",
              "      <td>181</td>\n",
              "      <td>5804</td>\n",
              "      <td>1</td>\n",
              "    </tr>\n",
              "    <tr>\n",
              "      <th>2</th>\n",
              "      <td>2</td>\n",
              "      <td>8607</td>\n",
              "      <td>8462</td>\n",
              "      <td>15539</td>\n",
              "      <td>13561</td>\n",
              "      <td>7165</td>\n",
              "      <td>15</td>\n",
              "      <td>0</td>\n",
              "      <td>1</td>\n",
              "      <td>0</td>\n",
              "      <td>1</td>\n",
              "      <td>0</td>\n",
              "      <td>0</td>\n",
              "      <td>0</td>\n",
              "      <td>0</td>\n",
              "      <td>0</td>\n",
              "      <td>14</td>\n",
              "      <td>0</td>\n",
              "      <td>22</td>\n",
              "      <td>105</td>\n",
              "      <td>459</td>\n",
              "      <td>123</td>\n",
              "      <td>926</td>\n",
              "      <td>5879</td>\n",
              "      <td>0</td>\n",
              "      <td>0</td>\n",
              "      <td>1</td>\n",
              "      <td>0</td>\n",
              "      <td>504</td>\n",
              "      <td>5804</td>\n",
              "      <td>1</td>\n",
              "    </tr>\n",
              "    <tr>\n",
              "      <th>3</th>\n",
              "      <td>3</td>\n",
              "      <td>5948</td>\n",
              "      <td>5924</td>\n",
              "      <td>5913</td>\n",
              "      <td>4821</td>\n",
              "      <td>1991</td>\n",
              "      <td>15</td>\n",
              "      <td>0</td>\n",
              "      <td>1</td>\n",
              "      <td>0</td>\n",
              "      <td>1</td>\n",
              "      <td>0</td>\n",
              "      <td>0</td>\n",
              "      <td>0</td>\n",
              "      <td>0</td>\n",
              "      <td>0</td>\n",
              "      <td>14</td>\n",
              "      <td>0</td>\n",
              "      <td>22</td>\n",
              "      <td>105</td>\n",
              "      <td>459</td>\n",
              "      <td>123</td>\n",
              "      <td>926</td>\n",
              "      <td>13841</td>\n",
              "      <td>0</td>\n",
              "      <td>0</td>\n",
              "      <td>1</td>\n",
              "      <td>0</td>\n",
              "      <td>565</td>\n",
              "      <td>5804</td>\n",
              "      <td>1</td>\n",
              "    </tr>\n",
              "    <tr>\n",
              "      <th>4</th>\n",
              "      <td>4</td>\n",
              "      <td>9301</td>\n",
              "      <td>9126</td>\n",
              "      <td>9133</td>\n",
              "      <td>4835</td>\n",
              "      <td>12169</td>\n",
              "      <td>62</td>\n",
              "      <td>0</td>\n",
              "      <td>1</td>\n",
              "      <td>0</td>\n",
              "      <td>1</td>\n",
              "      <td>0</td>\n",
              "      <td>0</td>\n",
              "      <td>0</td>\n",
              "      <td>0</td>\n",
              "      <td>0</td>\n",
              "      <td>14</td>\n",
              "      <td>0</td>\n",
              "      <td>22</td>\n",
              "      <td>128</td>\n",
              "      <td>459</td>\n",
              "      <td>739</td>\n",
              "      <td>1054</td>\n",
              "      <td>880</td>\n",
              "      <td>0</td>\n",
              "      <td>0</td>\n",
              "      <td>1</td>\n",
              "      <td>0</td>\n",
              "      <td>242</td>\n",
              "      <td>5804</td>\n",
              "      <td>1</td>\n",
              "    </tr>\n",
              "  </tbody>\n",
              "</table>\n",
              "</div>"
            ],
            "text/plain": [
              "   Unnamed: 0  TRANSACTION_LOCAL_DATE  ...  ECOM_INFO  E_COM_INDICATOR\n",
              "0           0                    5852  ...       5804                1\n",
              "1           1                   14306  ...       5804                1\n",
              "2           2                    8607  ...       5804                1\n",
              "3           3                    5948  ...       5804                1\n",
              "4           4                    9301  ...       5804                1\n",
              "\n",
              "[5 rows x 31 columns]"
            ]
          },
          "metadata": {
            "tags": []
          },
          "execution_count": 11
        }
      ]
    },
    {
      "cell_type": "code",
      "metadata": {
        "id": "iVjnB02HCxOQ",
        "colab_type": "code",
        "outputId": "7734fda5-93b5-4b5d-f918-47bb960fbf26",
        "colab": {
          "base_uri": "https://localhost:8080/",
          "height": 34
        }
      },
      "source": [
        "mapper_data = mapper_data.drop('Unnamed: 0',1)\n",
        "mapper_data.shape"
      ],
      "execution_count": 12,
      "outputs": [
        {
          "output_type": "execute_result",
          "data": {
            "text/plain": [
              "(22256, 30)"
            ]
          },
          "metadata": {
            "tags": []
          },
          "execution_count": 12
        }
      ]
    },
    {
      "cell_type": "code",
      "metadata": {
        "id": "hHWc1FsrDOPE",
        "colab_type": "code",
        "outputId": "73892c9e-55c4-4c97-a0d5-e20d8f6c0602",
        "colab": {
          "base_uri": "https://localhost:8080/",
          "height": 226
        }
      },
      "source": [
        "mapper_data.head()"
      ],
      "execution_count": 13,
      "outputs": [
        {
          "output_type": "execute_result",
          "data": {
            "text/html": [
              "<div>\n",
              "<style scoped>\n",
              "    .dataframe tbody tr th:only-of-type {\n",
              "        vertical-align: middle;\n",
              "    }\n",
              "\n",
              "    .dataframe tbody tr th {\n",
              "        vertical-align: top;\n",
              "    }\n",
              "\n",
              "    .dataframe thead th {\n",
              "        text-align: right;\n",
              "    }\n",
              "</style>\n",
              "<table border=\"1\" class=\"dataframe\">\n",
              "  <thead>\n",
              "    <tr style=\"text-align: right;\">\n",
              "      <th></th>\n",
              "      <th>TRANSACTION_LOCAL_DATE</th>\n",
              "      <th>TRANSMISSION_DATE_TIME</th>\n",
              "      <th>RESPONSE_DATE_TIME</th>\n",
              "      <th>PAN</th>\n",
              "      <th>VALID_FROM</th>\n",
              "      <th>EXPIRY_DATE</th>\n",
              "      <th>PROC_CODE_12</th>\n",
              "      <th>PROC_CODE_34</th>\n",
              "      <th>PD1</th>\n",
              "      <th>PD2</th>\n",
              "      <th>PD3</th>\n",
              "      <th>PD4</th>\n",
              "      <th>PD5</th>\n",
              "      <th>PD7</th>\n",
              "      <th>PD11</th>\n",
              "      <th>TRANSACTION_CURRENCY</th>\n",
              "      <th>SETTLEMENT_CURRENCY</th>\n",
              "      <th>ACQUIRING_COUNTRY_CODE</th>\n",
              "      <th>MCC</th>\n",
              "      <th>CARD_ACCEPTOR_TERM_ID</th>\n",
              "      <th>CARD_ACCEPTOR_ID</th>\n",
              "      <th>CARD_ACC_NAME_ADDRESS</th>\n",
              "      <th>AUTHORIZATION_CODE</th>\n",
              "      <th>DECISION</th>\n",
              "      <th>TARGET</th>\n",
              "      <th>C_100</th>\n",
              "      <th>C_40</th>\n",
              "      <th>C_20</th>\n",
              "      <th>ECOM_INFO</th>\n",
              "      <th>E_COM_INDICATOR</th>\n",
              "    </tr>\n",
              "  </thead>\n",
              "  <tbody>\n",
              "    <tr>\n",
              "      <th>0</th>\n",
              "      <td>5852</td>\n",
              "      <td>5838</td>\n",
              "      <td>5825</td>\n",
              "      <td>7218</td>\n",
              "      <td>1024</td>\n",
              "      <td>62</td>\n",
              "      <td>0</td>\n",
              "      <td>1</td>\n",
              "      <td>0</td>\n",
              "      <td>1</td>\n",
              "      <td>0</td>\n",
              "      <td>0</td>\n",
              "      <td>0</td>\n",
              "      <td>0</td>\n",
              "      <td>0</td>\n",
              "      <td>14</td>\n",
              "      <td>0</td>\n",
              "      <td>22</td>\n",
              "      <td>105</td>\n",
              "      <td>459</td>\n",
              "      <td>123</td>\n",
              "      <td>926</td>\n",
              "      <td>7143</td>\n",
              "      <td>0</td>\n",
              "      <td>0</td>\n",
              "      <td>1</td>\n",
              "      <td>0</td>\n",
              "      <td>242</td>\n",
              "      <td>5804</td>\n",
              "      <td>1</td>\n",
              "    </tr>\n",
              "    <tr>\n",
              "      <th>1</th>\n",
              "      <td>14306</td>\n",
              "      <td>14158</td>\n",
              "      <td>14119</td>\n",
              "      <td>15490</td>\n",
              "      <td>3501</td>\n",
              "      <td>62</td>\n",
              "      <td>0</td>\n",
              "      <td>1</td>\n",
              "      <td>0</td>\n",
              "      <td>1</td>\n",
              "      <td>0</td>\n",
              "      <td>0</td>\n",
              "      <td>0</td>\n",
              "      <td>0</td>\n",
              "      <td>0</td>\n",
              "      <td>14</td>\n",
              "      <td>0</td>\n",
              "      <td>22</td>\n",
              "      <td>73</td>\n",
              "      <td>459</td>\n",
              "      <td>733</td>\n",
              "      <td>805</td>\n",
              "      <td>5351</td>\n",
              "      <td>0</td>\n",
              "      <td>0</td>\n",
              "      <td>1</td>\n",
              "      <td>0</td>\n",
              "      <td>181</td>\n",
              "      <td>5804</td>\n",
              "      <td>1</td>\n",
              "    </tr>\n",
              "    <tr>\n",
              "      <th>2</th>\n",
              "      <td>8607</td>\n",
              "      <td>8462</td>\n",
              "      <td>15539</td>\n",
              "      <td>13561</td>\n",
              "      <td>7165</td>\n",
              "      <td>15</td>\n",
              "      <td>0</td>\n",
              "      <td>1</td>\n",
              "      <td>0</td>\n",
              "      <td>1</td>\n",
              "      <td>0</td>\n",
              "      <td>0</td>\n",
              "      <td>0</td>\n",
              "      <td>0</td>\n",
              "      <td>0</td>\n",
              "      <td>14</td>\n",
              "      <td>0</td>\n",
              "      <td>22</td>\n",
              "      <td>105</td>\n",
              "      <td>459</td>\n",
              "      <td>123</td>\n",
              "      <td>926</td>\n",
              "      <td>5879</td>\n",
              "      <td>0</td>\n",
              "      <td>0</td>\n",
              "      <td>1</td>\n",
              "      <td>0</td>\n",
              "      <td>504</td>\n",
              "      <td>5804</td>\n",
              "      <td>1</td>\n",
              "    </tr>\n",
              "    <tr>\n",
              "      <th>3</th>\n",
              "      <td>5948</td>\n",
              "      <td>5924</td>\n",
              "      <td>5913</td>\n",
              "      <td>4821</td>\n",
              "      <td>1991</td>\n",
              "      <td>15</td>\n",
              "      <td>0</td>\n",
              "      <td>1</td>\n",
              "      <td>0</td>\n",
              "      <td>1</td>\n",
              "      <td>0</td>\n",
              "      <td>0</td>\n",
              "      <td>0</td>\n",
              "      <td>0</td>\n",
              "      <td>0</td>\n",
              "      <td>14</td>\n",
              "      <td>0</td>\n",
              "      <td>22</td>\n",
              "      <td>105</td>\n",
              "      <td>459</td>\n",
              "      <td>123</td>\n",
              "      <td>926</td>\n",
              "      <td>13841</td>\n",
              "      <td>0</td>\n",
              "      <td>0</td>\n",
              "      <td>1</td>\n",
              "      <td>0</td>\n",
              "      <td>565</td>\n",
              "      <td>5804</td>\n",
              "      <td>1</td>\n",
              "    </tr>\n",
              "    <tr>\n",
              "      <th>4</th>\n",
              "      <td>9301</td>\n",
              "      <td>9126</td>\n",
              "      <td>9133</td>\n",
              "      <td>4835</td>\n",
              "      <td>12169</td>\n",
              "      <td>62</td>\n",
              "      <td>0</td>\n",
              "      <td>1</td>\n",
              "      <td>0</td>\n",
              "      <td>1</td>\n",
              "      <td>0</td>\n",
              "      <td>0</td>\n",
              "      <td>0</td>\n",
              "      <td>0</td>\n",
              "      <td>0</td>\n",
              "      <td>14</td>\n",
              "      <td>0</td>\n",
              "      <td>22</td>\n",
              "      <td>128</td>\n",
              "      <td>459</td>\n",
              "      <td>739</td>\n",
              "      <td>1054</td>\n",
              "      <td>880</td>\n",
              "      <td>0</td>\n",
              "      <td>0</td>\n",
              "      <td>1</td>\n",
              "      <td>0</td>\n",
              "      <td>242</td>\n",
              "      <td>5804</td>\n",
              "      <td>1</td>\n",
              "    </tr>\n",
              "  </tbody>\n",
              "</table>\n",
              "</div>"
            ],
            "text/plain": [
              "   TRANSACTION_LOCAL_DATE  TRANSMISSION_DATE_TIME  ...  ECOM_INFO  E_COM_INDICATOR\n",
              "0                    5852                    5838  ...       5804                1\n",
              "1                   14306                   14158  ...       5804                1\n",
              "2                    8607                    8462  ...       5804                1\n",
              "3                    5948                    5924  ...       5804                1\n",
              "4                    9301                    9126  ...       5804                1\n",
              "\n",
              "[5 rows x 30 columns]"
            ]
          },
          "metadata": {
            "tags": []
          },
          "execution_count": 13
        }
      ]
    },
    {
      "cell_type": "code",
      "metadata": {
        "id": "0hgIF-o2NuEX",
        "colab_type": "code",
        "colab": {}
      },
      "source": [
        "l=[]\n",
        "for i  in np.arange(1,len(mapper_data),1):\n",
        "  l.append(list(mapper_data.iloc[i,:]))\n",
        "l=np.array(l)"
      ],
      "execution_count": 0,
      "outputs": []
    },
    {
      "cell_type": "code",
      "metadata": {
        "id": "ZhhAB7wRdto2",
        "colab_type": "code",
        "outputId": "a175b510-421d-410b-8624-7f56f5c9f625",
        "colab": {
          "base_uri": "https://localhost:8080/",
          "height": 139
        }
      },
      "source": [
        "l"
      ],
      "execution_count": 15,
      "outputs": [
        {
          "output_type": "execute_result",
          "data": {
            "text/plain": [
              "array([[14306, 14158, 14119, ...,   181,  5804,     1],\n",
              "       [ 8607,  8462, 15539, ...,   504,  5804,     1],\n",
              "       [ 5948,  5924,  5913, ...,   565,  5804,     1],\n",
              "       ...,\n",
              "       [ 9262, 15266, 15231, ...,   565,  6928,     1],\n",
              "       [ 4158,  3979, 17520, ...,   392,  5694,     0],\n",
              "       [ 1079, 17149, 17117, ...,   565,  3488,     0]])"
            ]
          },
          "metadata": {
            "tags": []
          },
          "execution_count": 15
        }
      ]
    },
    {
      "cell_type": "markdown",
      "metadata": {
        "id": "5ED8fcP7gLOh",
        "colab_type": "text"
      },
      "source": [
        "##### **Trials for the right parameters for clustering**"
      ]
    },
    {
      "cell_type": "markdown",
      "metadata": {
        "id": "e6PGGbvchwtr",
        "colab_type": "text"
      },
      "source": [
        "##### Here there are parameters like **nr_cubes**, inside DBScan algorithm,**eps**, **leaf_size**, **min_samples**, **metric** which are specific to problem which we try to optimize by trial. For many combinations of these parameters that are unsuitable for the dataset, the clustering would not work.\n",
        "\n",
        "https://scikit-learn.org/stable/modules/generated/sklearn.cluster.dbscan.html\n",
        "\n",
        "##### Look at the above link for details about arguments of DBScan"
      ]
    },
    {
      "cell_type": "markdown",
      "metadata": {
        "id": "VssV2H6MCYvV",
        "colab_type": "text"
      },
      "source": [
        "##### **This is the portion onwards that we are going to be changing**"
      ]
    },
    {
      "cell_type": "code",
      "metadata": {
        "id": "-NDmo7daCXdJ",
        "colab_type": "code",
        "outputId": "0b4858f8-2e17-4aae-e814-69ac1d325119",
        "colab": {
          "base_uri": "https://localhost:8080/",
          "height": 54
        }
      },
      "source": [
        "'''data, labels = datasets.make_circles(n_samples=5000, noise=0.05, factor=0.3)\n",
        "\n",
        "# Initialize\n",
        "mapper = km.KeplerMapper(verbose=0)\n",
        "\n",
        "# Fit to and transform the data\n",
        "lens = mapper.fit_transform(data, projection=[0])\n",
        "\n",
        "# Create dictionary called 'simplicial_complex' with nodes, edges and meta-information\n",
        "simplicial_complex = mapper.map(lens, X=data,\n",
        "                                clusterer=sklearn.cluster.DBSCAN(eps=0.1, min_samples=10),\n",
        "                                cover=km.Cover(n_cubes=20, perc_overlap=0.1))'''"
      ],
      "execution_count": 0,
      "outputs": [
        {
          "output_type": "execute_result",
          "data": {
            "text/plain": [
              "\"data, labels = datasets.make_circles(n_samples=5000, noise=0.05, factor=0.3)\\n\\n# Initialize\\nmapper = km.KeplerMapper(verbose=0)\\n\\n# Fit to and transform the data\\nlens = mapper.fit_transform(data, projection=[0])\\n\\n# Create dictionary called 'simplicial_complex' with nodes, edges and meta-information\\nsimplicial_complex = mapper.map(lens, X=data,\\n                                clusterer=sklearn.cluster.DBSCAN(eps=0.1, min_samples=10),\\n                                cover=km.Cover(n_cubes=20, perc_overlap=0.1))\""
            ]
          },
          "metadata": {
            "tags": []
          },
          "execution_count": 52
        }
      ]
    },
    {
      "cell_type": "code",
      "metadata": {
        "id": "8MriRQrWhOLm",
        "colab_type": "code",
        "outputId": "6422aa6d-90b7-4954-e518-0f3e1b419c1b",
        "colab": {
          "base_uri": "https://localhost:8080/",
          "height": 295
        }
      },
      "source": [
        "# Initialize\n",
        "mapper = km.KeplerMapper(verbose=1)\n",
        "\n",
        "# Fit to and transform the data\n",
        "projected_data = mapper.fit_transform(l, projection=[0,1]) # X-Y axis\n",
        "\n",
        "# Create dictionary called 'graph' with nodes, edges and meta-information\n",
        "graph = mapper.map(projected_data, nr_cubes=25, overlap_perc = 0.1 ,clusterer = DBSCAN(algorithm ='auto',eps = 100, leaf_size = 500, metric='euclidean',\n",
        "    metric_params=None, min_samples=10, n_jobs=-1, p=None))\n",
        "#graph = mapper.map(projected_data, l, cover=km.Cover(n_cubes=10, perc_overlap=0.005))\n",
        "\n"
      ],
      "execution_count": 16,
      "outputs": [
        {
          "output_type": "stream",
          "text": [
            "KeplerMapper()\n",
            "..Composing projection pipeline of length 1:\n",
            "\tProjections: [0, 1]\n",
            "\tDistance matrices: False\n",
            "\tScalers: MinMaxScaler(copy=True, feature_range=(0, 1))\n",
            "..Projecting on data shaped (22255, 30)\n",
            "\n",
            "..Projecting data using: [0, 1]\n",
            "\n",
            "..Scaling with: MinMaxScaler(copy=True, feature_range=(0, 1))\n",
            "\n",
            "Mapping on data shaped (22255, 2) using lens shaped (22255, 2)\n",
            "\n",
            "Creating 625 hypercubes.\n",
            "\n",
            "Created 1550 edges and 625 nodes in 0:01:05.024310.\n"
          ],
          "name": "stdout"
        }
      ]
    },
    {
      "cell_type": "markdown",
      "metadata": {
        "id": "kC0KrU6oTAGY",
        "colab_type": "text"
      },
      "source": [
        "#####The above combination took a bit of work to get to. You may try these following algorithms for clustering that will not require you to guess as many parameters\n",
        "> sklearn.cluster.KMeans(2) : You only need to specify the number of clusters you want\n",
        "\n",
        "> sklearn.cluster.AgglomerativeClustering(2) : Same, just need to specify cluster number\n",
        "\n",
        "> hdbscan.HBSCAN() : Hierarchical DBSCAN does not need you to guess the eps parameter of DBSCAN"
      ]
    },
    {
      "cell_type": "code",
      "metadata": {
        "id": "QpZ57EhDBw8n",
        "colab_type": "code",
        "colab": {
          "base_uri": "https://localhost:8080/",
          "height": 34
        },
        "outputId": "c3cd7b6e-cf3c-4d8c-9a72-e3e06b536d12"
      },
      "source": [
        "projected_data.shape"
      ],
      "execution_count": 17,
      "outputs": [
        {
          "output_type": "execute_result",
          "data": {
            "text/plain": [
              "(22255, 2)"
            ]
          },
          "metadata": {
            "tags": []
          },
          "execution_count": 17
        }
      ]
    },
    {
      "cell_type": "code",
      "metadata": {
        "id": "8EvQhfDt_lQ-",
        "colab_type": "code",
        "outputId": "f7c2d593-2a5f-41d5-e178-61c18165957d",
        "colab": {
          "base_uri": "https://localhost:8080/",
          "height": 34
        }
      },
      "source": [
        "# Visualize it\n",
        "html=mapper.visualize(graph, path_html=\"Random-Forest-Rules-Final_clustering_output.html\")\n",
        "#display(\"Random-Forest-Rules-Final_clustering_output.html\")"
      ],
      "execution_count": 18,
      "outputs": [
        {
          "output_type": "stream",
          "text": [
            "Wrote visualization to: Random-Forest-Rules-Final_clustering_output.html\n"
          ],
          "name": "stdout"
        }
      ]
    },
    {
      "cell_type": "markdown",
      "metadata": {
        "id": "nOASRp29BOEf",
        "colab_type": "text"
      },
      "source": [
        "##### Trying to extract some of the cluster members from the graph"
      ]
    },
    {
      "cell_type": "code",
      "metadata": {
        "id": "5SRGHToSCItc",
        "colab_type": "code",
        "outputId": "bff9ac70-0c67-4744-bd24-11677d144140",
        "colab": {
          "base_uri": "https://localhost:8080/",
          "height": 54
        }
      },
      "source": [
        "graph['nodes'].keys()"
      ],
      "execution_count": 19,
      "outputs": [
        {
          "output_type": "execute_result",
          "data": {
            "text/plain": [
              "dict_keys(['cube0_cluster0', 'cube1_cluster0', 'cube2_cluster0', 'cube3_cluster0', 'cube4_cluster0', 'cube5_cluster0', 'cube6_cluster0', 'cube7_cluster0', 'cube8_cluster0', 'cube9_cluster0', 'cube10_cluster0', 'cube11_cluster0', 'cube12_cluster0', 'cube13_cluster0', 'cube14_cluster0', 'cube15_cluster0', 'cube16_cluster0', 'cube17_cluster0', 'cube18_cluster0', 'cube19_cluster0', 'cube20_cluster0', 'cube21_cluster0', 'cube22_cluster0', 'cube23_cluster0', 'cube24_cluster0', 'cube25_cluster0', 'cube26_cluster0', 'cube27_cluster0', 'cube28_cluster0', 'cube29_cluster0', 'cube30_cluster0', 'cube31_cluster0', 'cube32_cluster0', 'cube33_cluster0', 'cube34_cluster0', 'cube35_cluster0', 'cube36_cluster0', 'cube37_cluster0', 'cube38_cluster0', 'cube39_cluster0', 'cube40_cluster0', 'cube41_cluster0', 'cube42_cluster0', 'cube43_cluster0', 'cube44_cluster0', 'cube45_cluster0', 'cube46_cluster0', 'cube47_cluster0', 'cube48_cluster0', 'cube49_cluster0', 'cube50_cluster0', 'cube51_cluster0', 'cube52_cluster0', 'cube53_cluster0', 'cube54_cluster0', 'cube55_cluster0', 'cube56_cluster0', 'cube57_cluster0', 'cube58_cluster0', 'cube59_cluster0', 'cube60_cluster0', 'cube61_cluster0', 'cube62_cluster0', 'cube63_cluster0', 'cube64_cluster0', 'cube65_cluster0', 'cube66_cluster0', 'cube67_cluster0', 'cube68_cluster0', 'cube69_cluster0', 'cube70_cluster0', 'cube71_cluster0', 'cube72_cluster0', 'cube73_cluster0', 'cube74_cluster0', 'cube75_cluster0', 'cube76_cluster0', 'cube77_cluster0', 'cube78_cluster0', 'cube79_cluster0', 'cube80_cluster0', 'cube81_cluster0', 'cube82_cluster0', 'cube83_cluster0', 'cube84_cluster0', 'cube85_cluster0', 'cube86_cluster0', 'cube87_cluster0', 'cube88_cluster0', 'cube89_cluster0', 'cube90_cluster0', 'cube91_cluster0', 'cube92_cluster0', 'cube93_cluster0', 'cube94_cluster0', 'cube95_cluster0', 'cube96_cluster0', 'cube97_cluster0', 'cube98_cluster0', 'cube99_cluster0', 'cube100_cluster0', 'cube101_cluster0', 'cube102_cluster0', 'cube103_cluster0', 'cube104_cluster0', 'cube105_cluster0', 'cube106_cluster0', 'cube107_cluster0', 'cube108_cluster0', 'cube109_cluster0', 'cube110_cluster0', 'cube111_cluster0', 'cube112_cluster0', 'cube113_cluster0', 'cube114_cluster0', 'cube115_cluster0', 'cube116_cluster0', 'cube117_cluster0', 'cube118_cluster0', 'cube119_cluster0', 'cube120_cluster0', 'cube121_cluster0', 'cube122_cluster0', 'cube123_cluster0', 'cube124_cluster0', 'cube125_cluster0', 'cube126_cluster0', 'cube127_cluster0', 'cube128_cluster0', 'cube129_cluster0', 'cube130_cluster0', 'cube131_cluster0', 'cube132_cluster0', 'cube133_cluster0', 'cube134_cluster0', 'cube135_cluster0', 'cube136_cluster0', 'cube137_cluster0', 'cube138_cluster0', 'cube139_cluster0', 'cube140_cluster0', 'cube141_cluster0', 'cube142_cluster0', 'cube143_cluster0', 'cube144_cluster0', 'cube145_cluster0', 'cube146_cluster0', 'cube147_cluster0', 'cube148_cluster0', 'cube149_cluster0', 'cube150_cluster0', 'cube151_cluster0', 'cube152_cluster0', 'cube153_cluster0', 'cube154_cluster0', 'cube155_cluster0', 'cube156_cluster0', 'cube157_cluster0', 'cube158_cluster0', 'cube159_cluster0', 'cube160_cluster0', 'cube161_cluster0', 'cube162_cluster0', 'cube163_cluster0', 'cube164_cluster0', 'cube165_cluster0', 'cube166_cluster0', 'cube167_cluster0', 'cube168_cluster0', 'cube169_cluster0', 'cube170_cluster0', 'cube171_cluster0', 'cube172_cluster0', 'cube173_cluster0', 'cube174_cluster0', 'cube175_cluster0', 'cube176_cluster0', 'cube177_cluster0', 'cube178_cluster0', 'cube179_cluster0', 'cube180_cluster0', 'cube181_cluster0', 'cube182_cluster0', 'cube183_cluster0', 'cube184_cluster0', 'cube185_cluster0', 'cube186_cluster0', 'cube187_cluster0', 'cube188_cluster0', 'cube189_cluster0', 'cube190_cluster0', 'cube191_cluster0', 'cube192_cluster0', 'cube193_cluster0', 'cube194_cluster0', 'cube195_cluster0', 'cube196_cluster0', 'cube197_cluster0', 'cube198_cluster0', 'cube199_cluster0', 'cube200_cluster0', 'cube201_cluster0', 'cube202_cluster0', 'cube203_cluster0', 'cube204_cluster0', 'cube205_cluster0', 'cube206_cluster0', 'cube207_cluster0', 'cube208_cluster0', 'cube209_cluster0', 'cube210_cluster0', 'cube211_cluster0', 'cube212_cluster0', 'cube213_cluster0', 'cube214_cluster0', 'cube215_cluster0', 'cube216_cluster0', 'cube217_cluster0', 'cube218_cluster0', 'cube219_cluster0', 'cube220_cluster0', 'cube221_cluster0', 'cube222_cluster0', 'cube223_cluster0', 'cube224_cluster0', 'cube225_cluster0', 'cube226_cluster0', 'cube227_cluster0', 'cube228_cluster0', 'cube229_cluster0', 'cube230_cluster0', 'cube231_cluster0', 'cube232_cluster0', 'cube233_cluster0', 'cube234_cluster0', 'cube235_cluster0', 'cube236_cluster0', 'cube237_cluster0', 'cube238_cluster0', 'cube239_cluster0', 'cube240_cluster0', 'cube241_cluster0', 'cube242_cluster0', 'cube243_cluster0', 'cube244_cluster0', 'cube245_cluster0', 'cube246_cluster0', 'cube247_cluster0', 'cube248_cluster0', 'cube249_cluster0', 'cube250_cluster0', 'cube251_cluster0', 'cube252_cluster0', 'cube253_cluster0', 'cube254_cluster0', 'cube255_cluster0', 'cube256_cluster0', 'cube257_cluster0', 'cube258_cluster0', 'cube259_cluster0', 'cube260_cluster0', 'cube261_cluster0', 'cube262_cluster0', 'cube263_cluster0', 'cube264_cluster0', 'cube265_cluster0', 'cube266_cluster0', 'cube267_cluster0', 'cube268_cluster0', 'cube269_cluster0', 'cube270_cluster0', 'cube271_cluster0', 'cube272_cluster0', 'cube273_cluster0', 'cube274_cluster0', 'cube275_cluster0', 'cube276_cluster0', 'cube277_cluster0', 'cube278_cluster0', 'cube279_cluster0', 'cube280_cluster0', 'cube281_cluster0', 'cube282_cluster0', 'cube283_cluster0', 'cube284_cluster0', 'cube285_cluster0', 'cube286_cluster0', 'cube287_cluster0', 'cube288_cluster0', 'cube289_cluster0', 'cube290_cluster0', 'cube291_cluster0', 'cube292_cluster0', 'cube293_cluster0', 'cube294_cluster0', 'cube295_cluster0', 'cube296_cluster0', 'cube297_cluster0', 'cube298_cluster0', 'cube299_cluster0', 'cube300_cluster0', 'cube301_cluster0', 'cube302_cluster0', 'cube303_cluster0', 'cube304_cluster0', 'cube305_cluster0', 'cube306_cluster0', 'cube307_cluster0', 'cube308_cluster0', 'cube309_cluster0', 'cube310_cluster0', 'cube311_cluster0', 'cube312_cluster0', 'cube313_cluster0', 'cube314_cluster0', 'cube315_cluster0', 'cube316_cluster0', 'cube317_cluster0', 'cube318_cluster0', 'cube319_cluster0', 'cube320_cluster0', 'cube321_cluster0', 'cube322_cluster0', 'cube323_cluster0', 'cube324_cluster0', 'cube325_cluster0', 'cube326_cluster0', 'cube327_cluster0', 'cube328_cluster0', 'cube329_cluster0', 'cube330_cluster0', 'cube331_cluster0', 'cube332_cluster0', 'cube333_cluster0', 'cube334_cluster0', 'cube335_cluster0', 'cube336_cluster0', 'cube337_cluster0', 'cube338_cluster0', 'cube339_cluster0', 'cube340_cluster0', 'cube341_cluster0', 'cube342_cluster0', 'cube343_cluster0', 'cube344_cluster0', 'cube345_cluster0', 'cube346_cluster0', 'cube347_cluster0', 'cube348_cluster0', 'cube349_cluster0', 'cube350_cluster0', 'cube351_cluster0', 'cube352_cluster0', 'cube353_cluster0', 'cube354_cluster0', 'cube355_cluster0', 'cube356_cluster0', 'cube357_cluster0', 'cube358_cluster0', 'cube359_cluster0', 'cube360_cluster0', 'cube361_cluster0', 'cube362_cluster0', 'cube363_cluster0', 'cube364_cluster0', 'cube365_cluster0', 'cube366_cluster0', 'cube367_cluster0', 'cube368_cluster0', 'cube369_cluster0', 'cube370_cluster0', 'cube371_cluster0', 'cube372_cluster0', 'cube373_cluster0', 'cube374_cluster0', 'cube375_cluster0', 'cube376_cluster0', 'cube377_cluster0', 'cube378_cluster0', 'cube379_cluster0', 'cube380_cluster0', 'cube381_cluster0', 'cube382_cluster0', 'cube383_cluster0', 'cube384_cluster0', 'cube385_cluster0', 'cube386_cluster0', 'cube387_cluster0', 'cube388_cluster0', 'cube389_cluster0', 'cube390_cluster0', 'cube391_cluster0', 'cube392_cluster0', 'cube393_cluster0', 'cube394_cluster0', 'cube395_cluster0', 'cube396_cluster0', 'cube397_cluster0', 'cube398_cluster0', 'cube399_cluster0', 'cube400_cluster0', 'cube401_cluster0', 'cube402_cluster0', 'cube403_cluster0', 'cube404_cluster0', 'cube405_cluster0', 'cube406_cluster0', 'cube407_cluster0', 'cube408_cluster0', 'cube409_cluster0', 'cube410_cluster0', 'cube411_cluster0', 'cube412_cluster0', 'cube413_cluster0', 'cube414_cluster0', 'cube415_cluster0', 'cube416_cluster0', 'cube417_cluster0', 'cube418_cluster0', 'cube419_cluster0', 'cube420_cluster0', 'cube421_cluster0', 'cube422_cluster0', 'cube423_cluster0', 'cube424_cluster0', 'cube425_cluster0', 'cube426_cluster0', 'cube427_cluster0', 'cube428_cluster0', 'cube429_cluster0', 'cube430_cluster0', 'cube431_cluster0', 'cube432_cluster0', 'cube433_cluster0', 'cube434_cluster0', 'cube435_cluster0', 'cube436_cluster0', 'cube437_cluster0', 'cube438_cluster0', 'cube439_cluster0', 'cube440_cluster0', 'cube441_cluster0', 'cube442_cluster0', 'cube443_cluster0', 'cube444_cluster0', 'cube445_cluster0', 'cube446_cluster0', 'cube447_cluster0', 'cube448_cluster0', 'cube449_cluster0', 'cube450_cluster0', 'cube451_cluster0', 'cube452_cluster0', 'cube453_cluster0', 'cube454_cluster0', 'cube455_cluster0', 'cube456_cluster0', 'cube457_cluster0', 'cube458_cluster0', 'cube459_cluster0', 'cube460_cluster0', 'cube461_cluster0', 'cube462_cluster0', 'cube463_cluster0', 'cube464_cluster0', 'cube465_cluster0', 'cube466_cluster0', 'cube467_cluster0', 'cube468_cluster0', 'cube469_cluster0', 'cube470_cluster0', 'cube471_cluster0', 'cube472_cluster0', 'cube473_cluster0', 'cube474_cluster0', 'cube475_cluster0', 'cube476_cluster0', 'cube477_cluster0', 'cube478_cluster0', 'cube479_cluster0', 'cube480_cluster0', 'cube481_cluster0', 'cube482_cluster0', 'cube483_cluster0', 'cube484_cluster0', 'cube485_cluster0', 'cube486_cluster0', 'cube487_cluster0', 'cube488_cluster0', 'cube489_cluster0', 'cube490_cluster0', 'cube491_cluster0', 'cube492_cluster0', 'cube493_cluster0', 'cube494_cluster0', 'cube495_cluster0', 'cube496_cluster0', 'cube497_cluster0', 'cube498_cluster0', 'cube499_cluster0', 'cube500_cluster0', 'cube501_cluster0', 'cube502_cluster0', 'cube503_cluster0', 'cube504_cluster0', 'cube505_cluster0', 'cube506_cluster0', 'cube507_cluster0', 'cube508_cluster0', 'cube509_cluster0', 'cube510_cluster0', 'cube511_cluster0', 'cube512_cluster0', 'cube513_cluster0', 'cube514_cluster0', 'cube515_cluster0', 'cube516_cluster0', 'cube517_cluster0', 'cube518_cluster0', 'cube519_cluster0', 'cube520_cluster0', 'cube521_cluster0', 'cube522_cluster0', 'cube523_cluster0', 'cube524_cluster0', 'cube525_cluster0', 'cube526_cluster0', 'cube527_cluster0', 'cube528_cluster0', 'cube529_cluster0', 'cube530_cluster0', 'cube531_cluster0', 'cube532_cluster0', 'cube533_cluster0', 'cube534_cluster0', 'cube535_cluster0', 'cube536_cluster0', 'cube537_cluster0', 'cube538_cluster0', 'cube539_cluster0', 'cube540_cluster0', 'cube541_cluster0', 'cube542_cluster0', 'cube543_cluster0', 'cube544_cluster0', 'cube545_cluster0', 'cube546_cluster0', 'cube547_cluster0', 'cube548_cluster0', 'cube549_cluster0', 'cube550_cluster0', 'cube551_cluster0', 'cube552_cluster0', 'cube553_cluster0', 'cube554_cluster0', 'cube555_cluster0', 'cube556_cluster0', 'cube557_cluster0', 'cube558_cluster0', 'cube559_cluster0', 'cube560_cluster0', 'cube561_cluster0', 'cube562_cluster0', 'cube563_cluster0', 'cube564_cluster0', 'cube565_cluster0', 'cube566_cluster0', 'cube567_cluster0', 'cube568_cluster0', 'cube569_cluster0', 'cube570_cluster0', 'cube571_cluster0', 'cube572_cluster0', 'cube573_cluster0', 'cube574_cluster0', 'cube575_cluster0', 'cube576_cluster0', 'cube577_cluster0', 'cube578_cluster0', 'cube579_cluster0', 'cube580_cluster0', 'cube581_cluster0', 'cube582_cluster0', 'cube583_cluster0', 'cube584_cluster0', 'cube585_cluster0', 'cube586_cluster0', 'cube587_cluster0', 'cube588_cluster0', 'cube589_cluster0', 'cube590_cluster0', 'cube591_cluster0', 'cube592_cluster0', 'cube593_cluster0', 'cube594_cluster0', 'cube595_cluster0', 'cube596_cluster0', 'cube597_cluster0', 'cube598_cluster0', 'cube599_cluster0', 'cube600_cluster0', 'cube601_cluster0', 'cube602_cluster0', 'cube603_cluster0', 'cube604_cluster0', 'cube605_cluster0', 'cube606_cluster0', 'cube607_cluster0', 'cube608_cluster0', 'cube609_cluster0', 'cube610_cluster0', 'cube611_cluster0', 'cube612_cluster0', 'cube613_cluster0', 'cube614_cluster0', 'cube615_cluster0', 'cube616_cluster0', 'cube617_cluster0', 'cube618_cluster0', 'cube619_cluster0', 'cube620_cluster0', 'cube621_cluster0', 'cube622_cluster0', 'cube623_cluster0', 'cube624_cluster0'])"
            ]
          },
          "metadata": {
            "tags": []
          },
          "execution_count": 19
        }
      ]
    },
    {
      "cell_type": "code",
      "metadata": {
        "id": "9nX3L8sVIm4B",
        "colab_type": "code",
        "outputId": "b55728a3-cce8-4c8b-b4e1-c39f232daafe",
        "colab": {
          "base_uri": "https://localhost:8080/",
          "height": 34
        }
      },
      "source": [
        "## These are the 42 members of the cluster named 'cube0_cluster0'\n",
        "graph['nodes']['cube0_cluster0']\n",
        "len(graph['nodes']['cube0_cluster0'])"
      ],
      "execution_count": 44,
      "outputs": [
        {
          "output_type": "execute_result",
          "data": {
            "text/plain": [
              "102"
            ]
          },
          "metadata": {
            "tags": []
          },
          "execution_count": 44
        }
      ]
    },
    {
      "cell_type": "code",
      "metadata": {
        "id": "vSpb_MbZBMfz",
        "colab_type": "code",
        "outputId": "923619f6-d85c-4ecf-c2fd-4c129a57749d",
        "colab": {
          "base_uri": "https://localhost:8080/",
          "height": 34
        }
      },
      "source": [
        "## We will pick up the respective columns from the dataset that we passed in for mapper and see it's features\n",
        "cluster_members = pd.DataFrame(columns = mapper_data.columns)\n",
        "for i in graph['nodes']['cube0_cluster0']:\n",
        "  cluster_members = cluster_members.append(mapper_data.iloc[i,:])\n",
        "cluster_members.shape"
      ],
      "execution_count": 21,
      "outputs": [
        {
          "output_type": "execute_result",
          "data": {
            "text/plain": [
              "(102, 30)"
            ]
          },
          "metadata": {
            "tags": []
          },
          "execution_count": 21
        }
      ]
    },
    {
      "cell_type": "code",
      "metadata": {
        "id": "5tBuTHnKF4G8",
        "colab_type": "code",
        "outputId": "e45789a8-fe24-4640-df43-17a6ab74456f",
        "colab": {
          "base_uri": "https://localhost:8080/",
          "height": 226
        }
      },
      "source": [
        "cluster_members.head()"
      ],
      "execution_count": 22,
      "outputs": [
        {
          "output_type": "execute_result",
          "data": {
            "text/html": [
              "<div>\n",
              "<style scoped>\n",
              "    .dataframe tbody tr th:only-of-type {\n",
              "        vertical-align: middle;\n",
              "    }\n",
              "\n",
              "    .dataframe tbody tr th {\n",
              "        vertical-align: top;\n",
              "    }\n",
              "\n",
              "    .dataframe thead th {\n",
              "        text-align: right;\n",
              "    }\n",
              "</style>\n",
              "<table border=\"1\" class=\"dataframe\">\n",
              "  <thead>\n",
              "    <tr style=\"text-align: right;\">\n",
              "      <th></th>\n",
              "      <th>TRANSACTION_LOCAL_DATE</th>\n",
              "      <th>TRANSMISSION_DATE_TIME</th>\n",
              "      <th>RESPONSE_DATE_TIME</th>\n",
              "      <th>PAN</th>\n",
              "      <th>VALID_FROM</th>\n",
              "      <th>EXPIRY_DATE</th>\n",
              "      <th>PROC_CODE_12</th>\n",
              "      <th>PROC_CODE_34</th>\n",
              "      <th>PD1</th>\n",
              "      <th>PD2</th>\n",
              "      <th>PD3</th>\n",
              "      <th>PD4</th>\n",
              "      <th>PD5</th>\n",
              "      <th>PD7</th>\n",
              "      <th>PD11</th>\n",
              "      <th>TRANSACTION_CURRENCY</th>\n",
              "      <th>SETTLEMENT_CURRENCY</th>\n",
              "      <th>ACQUIRING_COUNTRY_CODE</th>\n",
              "      <th>MCC</th>\n",
              "      <th>CARD_ACCEPTOR_TERM_ID</th>\n",
              "      <th>CARD_ACCEPTOR_ID</th>\n",
              "      <th>CARD_ACC_NAME_ADDRESS</th>\n",
              "      <th>AUTHORIZATION_CODE</th>\n",
              "      <th>DECISION</th>\n",
              "      <th>TARGET</th>\n",
              "      <th>C_100</th>\n",
              "      <th>C_40</th>\n",
              "      <th>C_20</th>\n",
              "      <th>ECOM_INFO</th>\n",
              "      <th>E_COM_INDICATOR</th>\n",
              "    </tr>\n",
              "  </thead>\n",
              "  <tbody>\n",
              "    <tr>\n",
              "      <th>38</th>\n",
              "      <td>8230</td>\n",
              "      <td>8132</td>\n",
              "      <td>8127</td>\n",
              "      <td>7269</td>\n",
              "      <td>5283</td>\n",
              "      <td>63</td>\n",
              "      <td>0</td>\n",
              "      <td>1</td>\n",
              "      <td>0</td>\n",
              "      <td>1</td>\n",
              "      <td>0</td>\n",
              "      <td>0</td>\n",
              "      <td>0</td>\n",
              "      <td>0</td>\n",
              "      <td>0</td>\n",
              "      <td>14</td>\n",
              "      <td>0</td>\n",
              "      <td>22</td>\n",
              "      <td>93</td>\n",
              "      <td>459</td>\n",
              "      <td>916</td>\n",
              "      <td>491</td>\n",
              "      <td>19719</td>\n",
              "      <td>0</td>\n",
              "      <td>0</td>\n",
              "      <td>1</td>\n",
              "      <td>0</td>\n",
              "      <td>199</td>\n",
              "      <td>5804</td>\n",
              "      <td>1</td>\n",
              "    </tr>\n",
              "    <tr>\n",
              "      <th>41</th>\n",
              "      <td>1023</td>\n",
              "      <td>1037</td>\n",
              "      <td>1031</td>\n",
              "      <td>3671</td>\n",
              "      <td>4017</td>\n",
              "      <td>59</td>\n",
              "      <td>0</td>\n",
              "      <td>1</td>\n",
              "      <td>0</td>\n",
              "      <td>1</td>\n",
              "      <td>0</td>\n",
              "      <td>0</td>\n",
              "      <td>0</td>\n",
              "      <td>0</td>\n",
              "      <td>0</td>\n",
              "      <td>14</td>\n",
              "      <td>0</td>\n",
              "      <td>22</td>\n",
              "      <td>128</td>\n",
              "      <td>459</td>\n",
              "      <td>94</td>\n",
              "      <td>206</td>\n",
              "      <td>4809</td>\n",
              "      <td>0</td>\n",
              "      <td>0</td>\n",
              "      <td>1</td>\n",
              "      <td>0</td>\n",
              "      <td>438</td>\n",
              "      <td>5804</td>\n",
              "      <td>1</td>\n",
              "    </tr>\n",
              "    <tr>\n",
              "      <th>75</th>\n",
              "      <td>13104</td>\n",
              "      <td>13010</td>\n",
              "      <td>12970</td>\n",
              "      <td>5245</td>\n",
              "      <td>6606</td>\n",
              "      <td>82</td>\n",
              "      <td>0</td>\n",
              "      <td>1</td>\n",
              "      <td>0</td>\n",
              "      <td>1</td>\n",
              "      <td>0</td>\n",
              "      <td>0</td>\n",
              "      <td>0</td>\n",
              "      <td>0</td>\n",
              "      <td>0</td>\n",
              "      <td>14</td>\n",
              "      <td>0</td>\n",
              "      <td>22</td>\n",
              "      <td>128</td>\n",
              "      <td>459</td>\n",
              "      <td>27</td>\n",
              "      <td>807</td>\n",
              "      <td>9644</td>\n",
              "      <td>0</td>\n",
              "      <td>0</td>\n",
              "      <td>1</td>\n",
              "      <td>0</td>\n",
              "      <td>504</td>\n",
              "      <td>5804</td>\n",
              "      <td>1</td>\n",
              "    </tr>\n",
              "    <tr>\n",
              "      <th>90</th>\n",
              "      <td>5833</td>\n",
              "      <td>5818</td>\n",
              "      <td>5803</td>\n",
              "      <td>12911</td>\n",
              "      <td>3919</td>\n",
              "      <td>57</td>\n",
              "      <td>0</td>\n",
              "      <td>1</td>\n",
              "      <td>0</td>\n",
              "      <td>1</td>\n",
              "      <td>0</td>\n",
              "      <td>0</td>\n",
              "      <td>0</td>\n",
              "      <td>0</td>\n",
              "      <td>0</td>\n",
              "      <td>14</td>\n",
              "      <td>0</td>\n",
              "      <td>22</td>\n",
              "      <td>128</td>\n",
              "      <td>459</td>\n",
              "      <td>739</td>\n",
              "      <td>1054</td>\n",
              "      <td>8236</td>\n",
              "      <td>0</td>\n",
              "      <td>0</td>\n",
              "      <td>1</td>\n",
              "      <td>0</td>\n",
              "      <td>438</td>\n",
              "      <td>5804</td>\n",
              "      <td>1</td>\n",
              "    </tr>\n",
              "    <tr>\n",
              "      <th>107</th>\n",
              "      <td>11503</td>\n",
              "      <td>11402</td>\n",
              "      <td>11385</td>\n",
              "      <td>1228</td>\n",
              "      <td>6058</td>\n",
              "      <td>74</td>\n",
              "      <td>0</td>\n",
              "      <td>1</td>\n",
              "      <td>0</td>\n",
              "      <td>1</td>\n",
              "      <td>0</td>\n",
              "      <td>0</td>\n",
              "      <td>0</td>\n",
              "      <td>0</td>\n",
              "      <td>0</td>\n",
              "      <td>14</td>\n",
              "      <td>0</td>\n",
              "      <td>22</td>\n",
              "      <td>48</td>\n",
              "      <td>459</td>\n",
              "      <td>460</td>\n",
              "      <td>1082</td>\n",
              "      <td>2319</td>\n",
              "      <td>0</td>\n",
              "      <td>0</td>\n",
              "      <td>1</td>\n",
              "      <td>0</td>\n",
              "      <td>242</td>\n",
              "      <td>5804</td>\n",
              "      <td>1</td>\n",
              "    </tr>\n",
              "  </tbody>\n",
              "</table>\n",
              "</div>"
            ],
            "text/plain": [
              "    TRANSACTION_LOCAL_DATE TRANSMISSION_DATE_TIME  ... ECOM_INFO E_COM_INDICATOR\n",
              "38                    8230                   8132  ...      5804               1\n",
              "41                    1023                   1037  ...      5804               1\n",
              "75                   13104                  13010  ...      5804               1\n",
              "90                    5833                   5818  ...      5804               1\n",
              "107                  11503                  11402  ...      5804               1\n",
              "\n",
              "[5 rows x 30 columns]"
            ]
          },
          "metadata": {
            "tags": []
          },
          "execution_count": 22
        }
      ]
    },
    {
      "cell_type": "code",
      "metadata": {
        "id": "EwXIp7QtBMwr",
        "colab_type": "code",
        "outputId": "c45b82e8-af04-487d-dcc4-a2af09e50488",
        "colab": {
          "base_uri": "https://localhost:8080/",
          "height": 330
        }
      },
      "source": [
        "# We will pick out those columns for which any particular value has a clear majority (more than 50% of total)\n",
        "# We believe those are the characteristic features of that cluster.\n",
        "for name in cluster_members.columns:\n",
        "  counts = cluster_members[name].value_counts().tolist()\n",
        "  if max(counts)>cluster_members.shape[0]/2 :\n",
        "    print(name)"
      ],
      "execution_count": 29,
      "outputs": [
        {
          "output_type": "stream",
          "text": [
            "PROC_CODE_12\n",
            "PROC_CODE_34\n",
            "PD1\n",
            "PD2\n",
            "PD3\n",
            "PD4\n",
            "PD7\n",
            "PD11\n",
            "TRANSACTION_CURRENCY\n",
            "SETTLEMENT_CURRENCY\n",
            "ACQUIRING_COUNTRY_CODE\n",
            "CARD_ACCEPTOR_TERM_ID\n",
            "DECISION\n",
            "TARGET\n",
            "C_100\n",
            "C_40\n",
            "ECOM_INFO\n",
            "E_COM_INDICATOR\n"
          ],
          "name": "stdout"
        }
      ]
    },
    {
      "cell_type": "markdown",
      "metadata": {
        "id": "SkJ0OmVnDfWk",
        "colab_type": "text"
      },
      "source": [
        "##### So by our method these are the significant columns in determining this cluster"
      ]
    },
    {
      "cell_type": "code",
      "metadata": {
        "id": "Sg9a1ignBMl_",
        "colab_type": "code",
        "colab": {
          "base_uri": "https://localhost:8080/",
          "height": 1000
        },
        "outputId": "ac4780fc-a2ea-49c5-dc00-3c5966d0b7ac"
      },
      "source": [
        "## Doing the above procedure for all clusters\n",
        "start_time = time.time()\n",
        "significant_overall = []\n",
        "clusters = list(graph['nodes'].keys())\n",
        "for c in clusters:\n",
        "  #cluster_members = pd.DataFrame(columns = mapper_data.columns)\n",
        "  cluster_members = mapper_data.iloc[graph['nodes'][c],:]\n",
        "  significant_cols = []\n",
        "  for name in cluster_members.columns:\n",
        "    counts = cluster_members[name].value_counts().tolist()\n",
        "    if max(counts)>cluster_members.shape[0]/2 :\n",
        "      significant_cols.append(name)\n",
        "  significant_overall.append(significant_cols)\n",
        "  print(c)\n",
        "end_time = time.time()\n",
        "print(\"Time taken to find significant columns from clusters : {} seconds\".format(end_time-start_time))"
      ],
      "execution_count": 45,
      "outputs": [
        {
          "output_type": "stream",
          "text": [
            "cube0_cluster0\n",
            "cube1_cluster0\n",
            "cube2_cluster0\n",
            "cube3_cluster0\n",
            "cube4_cluster0\n",
            "cube5_cluster0\n",
            "cube6_cluster0\n",
            "cube7_cluster0\n",
            "cube8_cluster0\n",
            "cube9_cluster0\n",
            "cube10_cluster0\n",
            "cube11_cluster0\n",
            "cube12_cluster0\n",
            "cube13_cluster0\n",
            "cube14_cluster0\n",
            "cube15_cluster0\n",
            "cube16_cluster0\n",
            "cube17_cluster0\n",
            "cube18_cluster0\n",
            "cube19_cluster0\n",
            "cube20_cluster0\n",
            "cube21_cluster0\n",
            "cube22_cluster0\n",
            "cube23_cluster0\n",
            "cube24_cluster0\n",
            "cube25_cluster0\n",
            "cube26_cluster0\n",
            "cube27_cluster0\n",
            "cube28_cluster0\n",
            "cube29_cluster0\n",
            "cube30_cluster0\n",
            "cube31_cluster0\n",
            "cube32_cluster0\n",
            "cube33_cluster0\n",
            "cube34_cluster0\n",
            "cube35_cluster0\n",
            "cube36_cluster0\n",
            "cube37_cluster0\n",
            "cube38_cluster0\n",
            "cube39_cluster0\n",
            "cube40_cluster0\n",
            "cube41_cluster0\n",
            "cube42_cluster0\n",
            "cube43_cluster0\n",
            "cube44_cluster0\n",
            "cube45_cluster0\n",
            "cube46_cluster0\n",
            "cube47_cluster0\n",
            "cube48_cluster0\n",
            "cube49_cluster0\n",
            "cube50_cluster0\n",
            "cube51_cluster0\n",
            "cube52_cluster0\n",
            "cube53_cluster0\n",
            "cube54_cluster0\n",
            "cube55_cluster0\n",
            "cube56_cluster0\n",
            "cube57_cluster0\n",
            "cube58_cluster0\n",
            "cube59_cluster0\n",
            "cube60_cluster0\n",
            "cube61_cluster0\n",
            "cube62_cluster0\n",
            "cube63_cluster0\n",
            "cube64_cluster0\n",
            "cube65_cluster0\n",
            "cube66_cluster0\n",
            "cube67_cluster0\n",
            "cube68_cluster0\n",
            "cube69_cluster0\n",
            "cube70_cluster0\n",
            "cube71_cluster0\n",
            "cube72_cluster0\n",
            "cube73_cluster0\n",
            "cube74_cluster0\n",
            "cube75_cluster0\n",
            "cube76_cluster0\n",
            "cube77_cluster0\n",
            "cube78_cluster0\n",
            "cube79_cluster0\n",
            "cube80_cluster0\n",
            "cube81_cluster0\n",
            "cube82_cluster0\n",
            "cube83_cluster0\n",
            "cube84_cluster0\n",
            "cube85_cluster0\n",
            "cube86_cluster0\n",
            "cube87_cluster0\n",
            "cube88_cluster0\n",
            "cube89_cluster0\n",
            "cube90_cluster0\n",
            "cube91_cluster0\n",
            "cube92_cluster0\n",
            "cube93_cluster0\n",
            "cube94_cluster0\n",
            "cube95_cluster0\n",
            "cube96_cluster0\n",
            "cube97_cluster0\n",
            "cube98_cluster0\n",
            "cube99_cluster0\n",
            "cube100_cluster0\n",
            "cube101_cluster0\n",
            "cube102_cluster0\n",
            "cube103_cluster0\n",
            "cube104_cluster0\n",
            "cube105_cluster0\n",
            "cube106_cluster0\n",
            "cube107_cluster0\n",
            "cube108_cluster0\n",
            "cube109_cluster0\n",
            "cube110_cluster0\n",
            "cube111_cluster0\n",
            "cube112_cluster0\n",
            "cube113_cluster0\n",
            "cube114_cluster0\n",
            "cube115_cluster0\n",
            "cube116_cluster0\n",
            "cube117_cluster0\n",
            "cube118_cluster0\n",
            "cube119_cluster0\n",
            "cube120_cluster0\n",
            "cube121_cluster0\n",
            "cube122_cluster0\n",
            "cube123_cluster0\n",
            "cube124_cluster0\n",
            "cube125_cluster0\n",
            "cube126_cluster0\n",
            "cube127_cluster0\n",
            "cube128_cluster0\n",
            "cube129_cluster0\n",
            "cube130_cluster0\n",
            "cube131_cluster0\n",
            "cube132_cluster0\n",
            "cube133_cluster0\n",
            "cube134_cluster0\n",
            "cube135_cluster0\n",
            "cube136_cluster0\n",
            "cube137_cluster0\n",
            "cube138_cluster0\n",
            "cube139_cluster0\n",
            "cube140_cluster0\n",
            "cube141_cluster0\n",
            "cube142_cluster0\n",
            "cube143_cluster0\n",
            "cube144_cluster0\n",
            "cube145_cluster0\n",
            "cube146_cluster0\n",
            "cube147_cluster0\n",
            "cube148_cluster0\n",
            "cube149_cluster0\n",
            "cube150_cluster0\n",
            "cube151_cluster0\n",
            "cube152_cluster0\n",
            "cube153_cluster0\n",
            "cube154_cluster0\n",
            "cube155_cluster0\n",
            "cube156_cluster0\n",
            "cube157_cluster0\n",
            "cube158_cluster0\n",
            "cube159_cluster0\n",
            "cube160_cluster0\n",
            "cube161_cluster0\n",
            "cube162_cluster0\n",
            "cube163_cluster0\n",
            "cube164_cluster0\n",
            "cube165_cluster0\n",
            "cube166_cluster0\n",
            "cube167_cluster0\n",
            "cube168_cluster0\n",
            "cube169_cluster0\n",
            "cube170_cluster0\n",
            "cube171_cluster0\n",
            "cube172_cluster0\n",
            "cube173_cluster0\n",
            "cube174_cluster0\n",
            "cube175_cluster0\n",
            "cube176_cluster0\n",
            "cube177_cluster0\n",
            "cube178_cluster0\n",
            "cube179_cluster0\n",
            "cube180_cluster0\n",
            "cube181_cluster0\n",
            "cube182_cluster0\n",
            "cube183_cluster0\n",
            "cube184_cluster0\n",
            "cube185_cluster0\n",
            "cube186_cluster0\n",
            "cube187_cluster0\n",
            "cube188_cluster0\n",
            "cube189_cluster0\n",
            "cube190_cluster0\n",
            "cube191_cluster0\n",
            "cube192_cluster0\n",
            "cube193_cluster0\n",
            "cube194_cluster0\n",
            "cube195_cluster0\n",
            "cube196_cluster0\n",
            "cube197_cluster0\n",
            "cube198_cluster0\n",
            "cube199_cluster0\n",
            "cube200_cluster0\n",
            "cube201_cluster0\n",
            "cube202_cluster0\n",
            "cube203_cluster0\n",
            "cube204_cluster0\n",
            "cube205_cluster0\n",
            "cube206_cluster0\n",
            "cube207_cluster0\n",
            "cube208_cluster0\n",
            "cube209_cluster0\n",
            "cube210_cluster0\n",
            "cube211_cluster0\n",
            "cube212_cluster0\n",
            "cube213_cluster0\n",
            "cube214_cluster0\n",
            "cube215_cluster0\n",
            "cube216_cluster0\n",
            "cube217_cluster0\n",
            "cube218_cluster0\n",
            "cube219_cluster0\n",
            "cube220_cluster0\n",
            "cube221_cluster0\n",
            "cube222_cluster0\n",
            "cube223_cluster0\n",
            "cube224_cluster0\n",
            "cube225_cluster0\n",
            "cube226_cluster0\n",
            "cube227_cluster0\n",
            "cube228_cluster0\n",
            "cube229_cluster0\n",
            "cube230_cluster0\n",
            "cube231_cluster0\n",
            "cube232_cluster0\n",
            "cube233_cluster0\n",
            "cube234_cluster0\n",
            "cube235_cluster0\n",
            "cube236_cluster0\n",
            "cube237_cluster0\n",
            "cube238_cluster0\n",
            "cube239_cluster0\n",
            "cube240_cluster0\n",
            "cube241_cluster0\n",
            "cube242_cluster0\n",
            "cube243_cluster0\n",
            "cube244_cluster0\n",
            "cube245_cluster0\n",
            "cube246_cluster0\n",
            "cube247_cluster0\n",
            "cube248_cluster0\n",
            "cube249_cluster0\n",
            "cube250_cluster0\n",
            "cube251_cluster0\n",
            "cube252_cluster0\n",
            "cube253_cluster0\n",
            "cube254_cluster0\n",
            "cube255_cluster0\n",
            "cube256_cluster0\n",
            "cube257_cluster0\n",
            "cube258_cluster0\n",
            "cube259_cluster0\n",
            "cube260_cluster0\n",
            "cube261_cluster0\n",
            "cube262_cluster0\n",
            "cube263_cluster0\n",
            "cube264_cluster0\n",
            "cube265_cluster0\n",
            "cube266_cluster0\n",
            "cube267_cluster0\n",
            "cube268_cluster0\n",
            "cube269_cluster0\n",
            "cube270_cluster0\n",
            "cube271_cluster0\n",
            "cube272_cluster0\n",
            "cube273_cluster0\n",
            "cube274_cluster0\n",
            "cube275_cluster0\n",
            "cube276_cluster0\n",
            "cube277_cluster0\n",
            "cube278_cluster0\n",
            "cube279_cluster0\n",
            "cube280_cluster0\n",
            "cube281_cluster0\n",
            "cube282_cluster0\n",
            "cube283_cluster0\n",
            "cube284_cluster0\n",
            "cube285_cluster0\n",
            "cube286_cluster0\n",
            "cube287_cluster0\n",
            "cube288_cluster0\n",
            "cube289_cluster0\n",
            "cube290_cluster0\n",
            "cube291_cluster0\n",
            "cube292_cluster0\n",
            "cube293_cluster0\n",
            "cube294_cluster0\n",
            "cube295_cluster0\n",
            "cube296_cluster0\n",
            "cube297_cluster0\n",
            "cube298_cluster0\n",
            "cube299_cluster0\n",
            "cube300_cluster0\n",
            "cube301_cluster0\n",
            "cube302_cluster0\n",
            "cube303_cluster0\n",
            "cube304_cluster0\n",
            "cube305_cluster0\n",
            "cube306_cluster0\n",
            "cube307_cluster0\n",
            "cube308_cluster0\n",
            "cube309_cluster0\n",
            "cube310_cluster0\n",
            "cube311_cluster0\n",
            "cube312_cluster0\n",
            "cube313_cluster0\n",
            "cube314_cluster0\n",
            "cube315_cluster0\n",
            "cube316_cluster0\n",
            "cube317_cluster0\n",
            "cube318_cluster0\n",
            "cube319_cluster0\n",
            "cube320_cluster0\n",
            "cube321_cluster0\n",
            "cube322_cluster0\n",
            "cube323_cluster0\n",
            "cube324_cluster0\n",
            "cube325_cluster0\n",
            "cube326_cluster0\n",
            "cube327_cluster0\n",
            "cube328_cluster0\n",
            "cube329_cluster0\n",
            "cube330_cluster0\n",
            "cube331_cluster0\n",
            "cube332_cluster0\n",
            "cube333_cluster0\n",
            "cube334_cluster0\n",
            "cube335_cluster0\n",
            "cube336_cluster0\n",
            "cube337_cluster0\n",
            "cube338_cluster0\n",
            "cube339_cluster0\n",
            "cube340_cluster0\n",
            "cube341_cluster0\n",
            "cube342_cluster0\n",
            "cube343_cluster0\n",
            "cube344_cluster0\n",
            "cube345_cluster0\n",
            "cube346_cluster0\n",
            "cube347_cluster0\n",
            "cube348_cluster0\n",
            "cube349_cluster0\n",
            "cube350_cluster0\n",
            "cube351_cluster0\n",
            "cube352_cluster0\n",
            "cube353_cluster0\n",
            "cube354_cluster0\n",
            "cube355_cluster0\n",
            "cube356_cluster0\n",
            "cube357_cluster0\n",
            "cube358_cluster0\n",
            "cube359_cluster0\n",
            "cube360_cluster0\n",
            "cube361_cluster0\n",
            "cube362_cluster0\n",
            "cube363_cluster0\n",
            "cube364_cluster0\n",
            "cube365_cluster0\n",
            "cube366_cluster0\n",
            "cube367_cluster0\n",
            "cube368_cluster0\n",
            "cube369_cluster0\n",
            "cube370_cluster0\n",
            "cube371_cluster0\n",
            "cube372_cluster0\n",
            "cube373_cluster0\n",
            "cube374_cluster0\n",
            "cube375_cluster0\n",
            "cube376_cluster0\n",
            "cube377_cluster0\n",
            "cube378_cluster0\n",
            "cube379_cluster0\n",
            "cube380_cluster0\n",
            "cube381_cluster0\n",
            "cube382_cluster0\n",
            "cube383_cluster0\n",
            "cube384_cluster0\n",
            "cube385_cluster0\n",
            "cube386_cluster0\n",
            "cube387_cluster0\n",
            "cube388_cluster0\n",
            "cube389_cluster0\n",
            "cube390_cluster0\n",
            "cube391_cluster0\n",
            "cube392_cluster0\n",
            "cube393_cluster0\n",
            "cube394_cluster0\n",
            "cube395_cluster0\n",
            "cube396_cluster0\n",
            "cube397_cluster0\n",
            "cube398_cluster0\n",
            "cube399_cluster0\n",
            "cube400_cluster0\n",
            "cube401_cluster0\n",
            "cube402_cluster0\n",
            "cube403_cluster0\n",
            "cube404_cluster0\n",
            "cube405_cluster0\n",
            "cube406_cluster0\n",
            "cube407_cluster0\n",
            "cube408_cluster0\n",
            "cube409_cluster0\n",
            "cube410_cluster0\n",
            "cube411_cluster0\n",
            "cube412_cluster0\n",
            "cube413_cluster0\n",
            "cube414_cluster0\n",
            "cube415_cluster0\n",
            "cube416_cluster0\n",
            "cube417_cluster0\n",
            "cube418_cluster0\n",
            "cube419_cluster0\n",
            "cube420_cluster0\n",
            "cube421_cluster0\n",
            "cube422_cluster0\n",
            "cube423_cluster0\n",
            "cube424_cluster0\n",
            "cube425_cluster0\n",
            "cube426_cluster0\n",
            "cube427_cluster0\n",
            "cube428_cluster0\n",
            "cube429_cluster0\n",
            "cube430_cluster0\n",
            "cube431_cluster0\n",
            "cube432_cluster0\n",
            "cube433_cluster0\n",
            "cube434_cluster0\n",
            "cube435_cluster0\n",
            "cube436_cluster0\n",
            "cube437_cluster0\n",
            "cube438_cluster0\n",
            "cube439_cluster0\n",
            "cube440_cluster0\n",
            "cube441_cluster0\n",
            "cube442_cluster0\n",
            "cube443_cluster0\n",
            "cube444_cluster0\n",
            "cube445_cluster0\n",
            "cube446_cluster0\n",
            "cube447_cluster0\n",
            "cube448_cluster0\n",
            "cube449_cluster0\n",
            "cube450_cluster0\n",
            "cube451_cluster0\n",
            "cube452_cluster0\n",
            "cube453_cluster0\n",
            "cube454_cluster0\n",
            "cube455_cluster0\n",
            "cube456_cluster0\n",
            "cube457_cluster0\n",
            "cube458_cluster0\n",
            "cube459_cluster0\n",
            "cube460_cluster0\n",
            "cube461_cluster0\n",
            "cube462_cluster0\n",
            "cube463_cluster0\n",
            "cube464_cluster0\n",
            "cube465_cluster0\n",
            "cube466_cluster0\n",
            "cube467_cluster0\n",
            "cube468_cluster0\n",
            "cube469_cluster0\n",
            "cube470_cluster0\n",
            "cube471_cluster0\n",
            "cube472_cluster0\n",
            "cube473_cluster0\n",
            "cube474_cluster0\n",
            "cube475_cluster0\n",
            "cube476_cluster0\n",
            "cube477_cluster0\n",
            "cube478_cluster0\n",
            "cube479_cluster0\n",
            "cube480_cluster0\n",
            "cube481_cluster0\n",
            "cube482_cluster0\n",
            "cube483_cluster0\n",
            "cube484_cluster0\n",
            "cube485_cluster0\n",
            "cube486_cluster0\n",
            "cube487_cluster0\n",
            "cube488_cluster0\n",
            "cube489_cluster0\n",
            "cube490_cluster0\n",
            "cube491_cluster0\n",
            "cube492_cluster0\n",
            "cube493_cluster0\n",
            "cube494_cluster0\n",
            "cube495_cluster0\n",
            "cube496_cluster0\n",
            "cube497_cluster0\n",
            "cube498_cluster0\n",
            "cube499_cluster0\n",
            "cube500_cluster0\n",
            "cube501_cluster0\n",
            "cube502_cluster0\n",
            "cube503_cluster0\n",
            "cube504_cluster0\n",
            "cube505_cluster0\n",
            "cube506_cluster0\n",
            "cube507_cluster0\n",
            "cube508_cluster0\n",
            "cube509_cluster0\n",
            "cube510_cluster0\n",
            "cube511_cluster0\n",
            "cube512_cluster0\n",
            "cube513_cluster0\n",
            "cube514_cluster0\n",
            "cube515_cluster0\n",
            "cube516_cluster0\n",
            "cube517_cluster0\n",
            "cube518_cluster0\n",
            "cube519_cluster0\n",
            "cube520_cluster0\n",
            "cube521_cluster0\n",
            "cube522_cluster0\n",
            "cube523_cluster0\n",
            "cube524_cluster0\n",
            "cube525_cluster0\n",
            "cube526_cluster0\n",
            "cube527_cluster0\n",
            "cube528_cluster0\n",
            "cube529_cluster0\n",
            "cube530_cluster0\n",
            "cube531_cluster0\n",
            "cube532_cluster0\n",
            "cube533_cluster0\n",
            "cube534_cluster0\n",
            "cube535_cluster0\n",
            "cube536_cluster0\n",
            "cube537_cluster0\n",
            "cube538_cluster0\n",
            "cube539_cluster0\n",
            "cube540_cluster0\n",
            "cube541_cluster0\n",
            "cube542_cluster0\n",
            "cube543_cluster0\n",
            "cube544_cluster0\n",
            "cube545_cluster0\n",
            "cube546_cluster0\n",
            "cube547_cluster0\n",
            "cube548_cluster0\n",
            "cube549_cluster0\n",
            "cube550_cluster0\n",
            "cube551_cluster0\n",
            "cube552_cluster0\n",
            "cube553_cluster0\n",
            "cube554_cluster0\n",
            "cube555_cluster0\n",
            "cube556_cluster0\n",
            "cube557_cluster0\n",
            "cube558_cluster0\n",
            "cube559_cluster0\n",
            "cube560_cluster0\n",
            "cube561_cluster0\n",
            "cube562_cluster0\n",
            "cube563_cluster0\n",
            "cube564_cluster0\n",
            "cube565_cluster0\n",
            "cube566_cluster0\n",
            "cube567_cluster0\n",
            "cube568_cluster0\n",
            "cube569_cluster0\n",
            "cube570_cluster0\n",
            "cube571_cluster0\n",
            "cube572_cluster0\n",
            "cube573_cluster0\n",
            "cube574_cluster0\n",
            "cube575_cluster0\n",
            "cube576_cluster0\n",
            "cube577_cluster0\n",
            "cube578_cluster0\n",
            "cube579_cluster0\n",
            "cube580_cluster0\n",
            "cube581_cluster0\n",
            "cube582_cluster0\n",
            "cube583_cluster0\n",
            "cube584_cluster0\n",
            "cube585_cluster0\n",
            "cube586_cluster0\n",
            "cube587_cluster0\n",
            "cube588_cluster0\n",
            "cube589_cluster0\n",
            "cube590_cluster0\n",
            "cube591_cluster0\n",
            "cube592_cluster0\n",
            "cube593_cluster0\n",
            "cube594_cluster0\n",
            "cube595_cluster0\n",
            "cube596_cluster0\n",
            "cube597_cluster0\n",
            "cube598_cluster0\n",
            "cube599_cluster0\n",
            "cube600_cluster0\n",
            "cube601_cluster0\n",
            "cube602_cluster0\n",
            "cube603_cluster0\n",
            "cube604_cluster0\n",
            "cube605_cluster0\n",
            "cube606_cluster0\n",
            "cube607_cluster0\n",
            "cube608_cluster0\n",
            "cube609_cluster0\n",
            "cube610_cluster0\n",
            "cube611_cluster0\n",
            "cube612_cluster0\n",
            "cube613_cluster0\n",
            "cube614_cluster0\n",
            "cube615_cluster0\n",
            "cube616_cluster0\n",
            "cube617_cluster0\n",
            "cube618_cluster0\n",
            "cube619_cluster0\n",
            "cube620_cluster0\n",
            "cube621_cluster0\n",
            "cube622_cluster0\n",
            "cube623_cluster0\n",
            "cube624_cluster0\n",
            "Time taken to find significant columns from clusters : 22.29784607887268 seconds\n"
          ],
          "name": "stdout"
        }
      ]
    },
    {
      "cell_type": "code",
      "metadata": {
        "id": "1Qz24CQzBMjz",
        "colab_type": "code",
        "colab": {
          "base_uri": "https://localhost:8080/",
          "height": 173
        },
        "outputId": "cd481f54-d1fb-4a38-8b26-f82066a56d7e"
      },
      "source": [
        "elements_in_all = list(set.intersection(*map(set, significant_overall)))\n",
        "elements_in_all"
      ],
      "execution_count": 50,
      "outputs": [
        {
          "output_type": "execute_result",
          "data": {
            "text/plain": [
              "['SETTLEMENT_CURRENCY',\n",
              " 'PD2',\n",
              " 'DECISION',\n",
              " 'TRANSACTION_CURRENCY',\n",
              " 'PROC_CODE_12',\n",
              " 'PD1',\n",
              " 'E_COM_INDICATOR',\n",
              " 'ACQUIRING_COUNTRY_CODE',\n",
              " 'TARGET']"
            ]
          },
          "metadata": {
            "tags": []
          },
          "execution_count": 50
        }
      ]
    },
    {
      "cell_type": "markdown",
      "metadata": {
        "id": "xBxJMSxJJWRw",
        "colab_type": "text"
      },
      "source": [
        "##### These are the columns that come out as significant in this dataset, could  vary with data\n"
      ]
    },
    {
      "cell_type": "markdown",
      "metadata": {
        "id": "q3Eo4UwDQD7F",
        "colab_type": "text"
      },
      "source": [
        "##### **Now we move over a part where we try to mark the data using the 'TARGET' column which indicates Fraud or Not Fraud for us. The marking can be done by any other column which is categorical in nature and does not have too many categories**"
      ]
    },
    {
      "cell_type": "code",
      "metadata": {
        "id": "uDgRuTAPFAgc",
        "colab_type": "code",
        "colab": {
          "base_uri": "https://localhost:8080/",
          "height": 226
        },
        "outputId": "7261665e-9a63-46b0-9eda-a2e7e8772768"
      },
      "source": [
        "## For our purpose we will have to remove 'TARGET' column from the data that we are passing in to mapper\n",
        "mapper_data.head()"
      ],
      "execution_count": 53,
      "outputs": [
        {
          "output_type": "execute_result",
          "data": {
            "text/html": [
              "<div>\n",
              "<style scoped>\n",
              "    .dataframe tbody tr th:only-of-type {\n",
              "        vertical-align: middle;\n",
              "    }\n",
              "\n",
              "    .dataframe tbody tr th {\n",
              "        vertical-align: top;\n",
              "    }\n",
              "\n",
              "    .dataframe thead th {\n",
              "        text-align: right;\n",
              "    }\n",
              "</style>\n",
              "<table border=\"1\" class=\"dataframe\">\n",
              "  <thead>\n",
              "    <tr style=\"text-align: right;\">\n",
              "      <th></th>\n",
              "      <th>TRANSACTION_LOCAL_DATE</th>\n",
              "      <th>TRANSMISSION_DATE_TIME</th>\n",
              "      <th>RESPONSE_DATE_TIME</th>\n",
              "      <th>PAN</th>\n",
              "      <th>VALID_FROM</th>\n",
              "      <th>EXPIRY_DATE</th>\n",
              "      <th>PROC_CODE_12</th>\n",
              "      <th>PROC_CODE_34</th>\n",
              "      <th>PD1</th>\n",
              "      <th>PD2</th>\n",
              "      <th>PD3</th>\n",
              "      <th>PD4</th>\n",
              "      <th>PD5</th>\n",
              "      <th>PD7</th>\n",
              "      <th>PD11</th>\n",
              "      <th>TRANSACTION_CURRENCY</th>\n",
              "      <th>SETTLEMENT_CURRENCY</th>\n",
              "      <th>ACQUIRING_COUNTRY_CODE</th>\n",
              "      <th>MCC</th>\n",
              "      <th>CARD_ACCEPTOR_TERM_ID</th>\n",
              "      <th>CARD_ACCEPTOR_ID</th>\n",
              "      <th>CARD_ACC_NAME_ADDRESS</th>\n",
              "      <th>AUTHORIZATION_CODE</th>\n",
              "      <th>DECISION</th>\n",
              "      <th>TARGET</th>\n",
              "      <th>C_100</th>\n",
              "      <th>C_40</th>\n",
              "      <th>C_20</th>\n",
              "      <th>ECOM_INFO</th>\n",
              "      <th>E_COM_INDICATOR</th>\n",
              "    </tr>\n",
              "  </thead>\n",
              "  <tbody>\n",
              "    <tr>\n",
              "      <th>0</th>\n",
              "      <td>5852</td>\n",
              "      <td>5838</td>\n",
              "      <td>5825</td>\n",
              "      <td>7218</td>\n",
              "      <td>1024</td>\n",
              "      <td>62</td>\n",
              "      <td>0</td>\n",
              "      <td>1</td>\n",
              "      <td>0</td>\n",
              "      <td>1</td>\n",
              "      <td>0</td>\n",
              "      <td>0</td>\n",
              "      <td>0</td>\n",
              "      <td>0</td>\n",
              "      <td>0</td>\n",
              "      <td>14</td>\n",
              "      <td>0</td>\n",
              "      <td>22</td>\n",
              "      <td>105</td>\n",
              "      <td>459</td>\n",
              "      <td>123</td>\n",
              "      <td>926</td>\n",
              "      <td>7143</td>\n",
              "      <td>0</td>\n",
              "      <td>0</td>\n",
              "      <td>1</td>\n",
              "      <td>0</td>\n",
              "      <td>242</td>\n",
              "      <td>5804</td>\n",
              "      <td>1</td>\n",
              "    </tr>\n",
              "    <tr>\n",
              "      <th>1</th>\n",
              "      <td>14306</td>\n",
              "      <td>14158</td>\n",
              "      <td>14119</td>\n",
              "      <td>15490</td>\n",
              "      <td>3501</td>\n",
              "      <td>62</td>\n",
              "      <td>0</td>\n",
              "      <td>1</td>\n",
              "      <td>0</td>\n",
              "      <td>1</td>\n",
              "      <td>0</td>\n",
              "      <td>0</td>\n",
              "      <td>0</td>\n",
              "      <td>0</td>\n",
              "      <td>0</td>\n",
              "      <td>14</td>\n",
              "      <td>0</td>\n",
              "      <td>22</td>\n",
              "      <td>73</td>\n",
              "      <td>459</td>\n",
              "      <td>733</td>\n",
              "      <td>805</td>\n",
              "      <td>5351</td>\n",
              "      <td>0</td>\n",
              "      <td>0</td>\n",
              "      <td>1</td>\n",
              "      <td>0</td>\n",
              "      <td>181</td>\n",
              "      <td>5804</td>\n",
              "      <td>1</td>\n",
              "    </tr>\n",
              "    <tr>\n",
              "      <th>2</th>\n",
              "      <td>8607</td>\n",
              "      <td>8462</td>\n",
              "      <td>15539</td>\n",
              "      <td>13561</td>\n",
              "      <td>7165</td>\n",
              "      <td>15</td>\n",
              "      <td>0</td>\n",
              "      <td>1</td>\n",
              "      <td>0</td>\n",
              "      <td>1</td>\n",
              "      <td>0</td>\n",
              "      <td>0</td>\n",
              "      <td>0</td>\n",
              "      <td>0</td>\n",
              "      <td>0</td>\n",
              "      <td>14</td>\n",
              "      <td>0</td>\n",
              "      <td>22</td>\n",
              "      <td>105</td>\n",
              "      <td>459</td>\n",
              "      <td>123</td>\n",
              "      <td>926</td>\n",
              "      <td>5879</td>\n",
              "      <td>0</td>\n",
              "      <td>0</td>\n",
              "      <td>1</td>\n",
              "      <td>0</td>\n",
              "      <td>504</td>\n",
              "      <td>5804</td>\n",
              "      <td>1</td>\n",
              "    </tr>\n",
              "    <tr>\n",
              "      <th>3</th>\n",
              "      <td>5948</td>\n",
              "      <td>5924</td>\n",
              "      <td>5913</td>\n",
              "      <td>4821</td>\n",
              "      <td>1991</td>\n",
              "      <td>15</td>\n",
              "      <td>0</td>\n",
              "      <td>1</td>\n",
              "      <td>0</td>\n",
              "      <td>1</td>\n",
              "      <td>0</td>\n",
              "      <td>0</td>\n",
              "      <td>0</td>\n",
              "      <td>0</td>\n",
              "      <td>0</td>\n",
              "      <td>14</td>\n",
              "      <td>0</td>\n",
              "      <td>22</td>\n",
              "      <td>105</td>\n",
              "      <td>459</td>\n",
              "      <td>123</td>\n",
              "      <td>926</td>\n",
              "      <td>13841</td>\n",
              "      <td>0</td>\n",
              "      <td>0</td>\n",
              "      <td>1</td>\n",
              "      <td>0</td>\n",
              "      <td>565</td>\n",
              "      <td>5804</td>\n",
              "      <td>1</td>\n",
              "    </tr>\n",
              "    <tr>\n",
              "      <th>4</th>\n",
              "      <td>9301</td>\n",
              "      <td>9126</td>\n",
              "      <td>9133</td>\n",
              "      <td>4835</td>\n",
              "      <td>12169</td>\n",
              "      <td>62</td>\n",
              "      <td>0</td>\n",
              "      <td>1</td>\n",
              "      <td>0</td>\n",
              "      <td>1</td>\n",
              "      <td>0</td>\n",
              "      <td>0</td>\n",
              "      <td>0</td>\n",
              "      <td>0</td>\n",
              "      <td>0</td>\n",
              "      <td>14</td>\n",
              "      <td>0</td>\n",
              "      <td>22</td>\n",
              "      <td>128</td>\n",
              "      <td>459</td>\n",
              "      <td>739</td>\n",
              "      <td>1054</td>\n",
              "      <td>880</td>\n",
              "      <td>0</td>\n",
              "      <td>0</td>\n",
              "      <td>1</td>\n",
              "      <td>0</td>\n",
              "      <td>242</td>\n",
              "      <td>5804</td>\n",
              "      <td>1</td>\n",
              "    </tr>\n",
              "  </tbody>\n",
              "</table>\n",
              "</div>"
            ],
            "text/plain": [
              "   TRANSACTION_LOCAL_DATE  TRANSMISSION_DATE_TIME  ...  ECOM_INFO  E_COM_INDICATOR\n",
              "0                    5852                    5838  ...       5804                1\n",
              "1                   14306                   14158  ...       5804                1\n",
              "2                    8607                    8462  ...       5804                1\n",
              "3                    5948                    5924  ...       5804                1\n",
              "4                    9301                    9126  ...       5804                1\n",
              "\n",
              "[5 rows x 30 columns]"
            ]
          },
          "metadata": {
            "tags": []
          },
          "execution_count": 53
        }
      ]
    },
    {
      "cell_type": "code",
      "metadata": {
        "id": "IVSqzBYkRaBH",
        "colab_type": "code",
        "colab": {
          "base_uri": "https://localhost:8080/",
          "height": 226
        },
        "outputId": "86c21450-7fca-43f6-f9af-675b483f983a"
      },
      "source": [
        "mapper_data2 = mapper_data.drop('TARGET',1)\n",
        "mapper_data2.head()\n"
      ],
      "execution_count": 56,
      "outputs": [
        {
          "output_type": "execute_result",
          "data": {
            "text/html": [
              "<div>\n",
              "<style scoped>\n",
              "    .dataframe tbody tr th:only-of-type {\n",
              "        vertical-align: middle;\n",
              "    }\n",
              "\n",
              "    .dataframe tbody tr th {\n",
              "        vertical-align: top;\n",
              "    }\n",
              "\n",
              "    .dataframe thead th {\n",
              "        text-align: right;\n",
              "    }\n",
              "</style>\n",
              "<table border=\"1\" class=\"dataframe\">\n",
              "  <thead>\n",
              "    <tr style=\"text-align: right;\">\n",
              "      <th></th>\n",
              "      <th>TRANSACTION_LOCAL_DATE</th>\n",
              "      <th>TRANSMISSION_DATE_TIME</th>\n",
              "      <th>RESPONSE_DATE_TIME</th>\n",
              "      <th>PAN</th>\n",
              "      <th>VALID_FROM</th>\n",
              "      <th>EXPIRY_DATE</th>\n",
              "      <th>PROC_CODE_12</th>\n",
              "      <th>PROC_CODE_34</th>\n",
              "      <th>PD1</th>\n",
              "      <th>PD2</th>\n",
              "      <th>PD3</th>\n",
              "      <th>PD4</th>\n",
              "      <th>PD5</th>\n",
              "      <th>PD7</th>\n",
              "      <th>PD11</th>\n",
              "      <th>TRANSACTION_CURRENCY</th>\n",
              "      <th>SETTLEMENT_CURRENCY</th>\n",
              "      <th>ACQUIRING_COUNTRY_CODE</th>\n",
              "      <th>MCC</th>\n",
              "      <th>CARD_ACCEPTOR_TERM_ID</th>\n",
              "      <th>CARD_ACCEPTOR_ID</th>\n",
              "      <th>CARD_ACC_NAME_ADDRESS</th>\n",
              "      <th>AUTHORIZATION_CODE</th>\n",
              "      <th>DECISION</th>\n",
              "      <th>C_100</th>\n",
              "      <th>C_40</th>\n",
              "      <th>C_20</th>\n",
              "      <th>ECOM_INFO</th>\n",
              "      <th>E_COM_INDICATOR</th>\n",
              "    </tr>\n",
              "  </thead>\n",
              "  <tbody>\n",
              "    <tr>\n",
              "      <th>0</th>\n",
              "      <td>5852</td>\n",
              "      <td>5838</td>\n",
              "      <td>5825</td>\n",
              "      <td>7218</td>\n",
              "      <td>1024</td>\n",
              "      <td>62</td>\n",
              "      <td>0</td>\n",
              "      <td>1</td>\n",
              "      <td>0</td>\n",
              "      <td>1</td>\n",
              "      <td>0</td>\n",
              "      <td>0</td>\n",
              "      <td>0</td>\n",
              "      <td>0</td>\n",
              "      <td>0</td>\n",
              "      <td>14</td>\n",
              "      <td>0</td>\n",
              "      <td>22</td>\n",
              "      <td>105</td>\n",
              "      <td>459</td>\n",
              "      <td>123</td>\n",
              "      <td>926</td>\n",
              "      <td>7143</td>\n",
              "      <td>0</td>\n",
              "      <td>1</td>\n",
              "      <td>0</td>\n",
              "      <td>242</td>\n",
              "      <td>5804</td>\n",
              "      <td>1</td>\n",
              "    </tr>\n",
              "    <tr>\n",
              "      <th>1</th>\n",
              "      <td>14306</td>\n",
              "      <td>14158</td>\n",
              "      <td>14119</td>\n",
              "      <td>15490</td>\n",
              "      <td>3501</td>\n",
              "      <td>62</td>\n",
              "      <td>0</td>\n",
              "      <td>1</td>\n",
              "      <td>0</td>\n",
              "      <td>1</td>\n",
              "      <td>0</td>\n",
              "      <td>0</td>\n",
              "      <td>0</td>\n",
              "      <td>0</td>\n",
              "      <td>0</td>\n",
              "      <td>14</td>\n",
              "      <td>0</td>\n",
              "      <td>22</td>\n",
              "      <td>73</td>\n",
              "      <td>459</td>\n",
              "      <td>733</td>\n",
              "      <td>805</td>\n",
              "      <td>5351</td>\n",
              "      <td>0</td>\n",
              "      <td>1</td>\n",
              "      <td>0</td>\n",
              "      <td>181</td>\n",
              "      <td>5804</td>\n",
              "      <td>1</td>\n",
              "    </tr>\n",
              "    <tr>\n",
              "      <th>2</th>\n",
              "      <td>8607</td>\n",
              "      <td>8462</td>\n",
              "      <td>15539</td>\n",
              "      <td>13561</td>\n",
              "      <td>7165</td>\n",
              "      <td>15</td>\n",
              "      <td>0</td>\n",
              "      <td>1</td>\n",
              "      <td>0</td>\n",
              "      <td>1</td>\n",
              "      <td>0</td>\n",
              "      <td>0</td>\n",
              "      <td>0</td>\n",
              "      <td>0</td>\n",
              "      <td>0</td>\n",
              "      <td>14</td>\n",
              "      <td>0</td>\n",
              "      <td>22</td>\n",
              "      <td>105</td>\n",
              "      <td>459</td>\n",
              "      <td>123</td>\n",
              "      <td>926</td>\n",
              "      <td>5879</td>\n",
              "      <td>0</td>\n",
              "      <td>1</td>\n",
              "      <td>0</td>\n",
              "      <td>504</td>\n",
              "      <td>5804</td>\n",
              "      <td>1</td>\n",
              "    </tr>\n",
              "    <tr>\n",
              "      <th>3</th>\n",
              "      <td>5948</td>\n",
              "      <td>5924</td>\n",
              "      <td>5913</td>\n",
              "      <td>4821</td>\n",
              "      <td>1991</td>\n",
              "      <td>15</td>\n",
              "      <td>0</td>\n",
              "      <td>1</td>\n",
              "      <td>0</td>\n",
              "      <td>1</td>\n",
              "      <td>0</td>\n",
              "      <td>0</td>\n",
              "      <td>0</td>\n",
              "      <td>0</td>\n",
              "      <td>0</td>\n",
              "      <td>14</td>\n",
              "      <td>0</td>\n",
              "      <td>22</td>\n",
              "      <td>105</td>\n",
              "      <td>459</td>\n",
              "      <td>123</td>\n",
              "      <td>926</td>\n",
              "      <td>13841</td>\n",
              "      <td>0</td>\n",
              "      <td>1</td>\n",
              "      <td>0</td>\n",
              "      <td>565</td>\n",
              "      <td>5804</td>\n",
              "      <td>1</td>\n",
              "    </tr>\n",
              "    <tr>\n",
              "      <th>4</th>\n",
              "      <td>9301</td>\n",
              "      <td>9126</td>\n",
              "      <td>9133</td>\n",
              "      <td>4835</td>\n",
              "      <td>12169</td>\n",
              "      <td>62</td>\n",
              "      <td>0</td>\n",
              "      <td>1</td>\n",
              "      <td>0</td>\n",
              "      <td>1</td>\n",
              "      <td>0</td>\n",
              "      <td>0</td>\n",
              "      <td>0</td>\n",
              "      <td>0</td>\n",
              "      <td>0</td>\n",
              "      <td>14</td>\n",
              "      <td>0</td>\n",
              "      <td>22</td>\n",
              "      <td>128</td>\n",
              "      <td>459</td>\n",
              "      <td>739</td>\n",
              "      <td>1054</td>\n",
              "      <td>880</td>\n",
              "      <td>0</td>\n",
              "      <td>1</td>\n",
              "      <td>0</td>\n",
              "      <td>242</td>\n",
              "      <td>5804</td>\n",
              "      <td>1</td>\n",
              "    </tr>\n",
              "  </tbody>\n",
              "</table>\n",
              "</div>"
            ],
            "text/plain": [
              "   TRANSACTION_LOCAL_DATE  TRANSMISSION_DATE_TIME  ...  ECOM_INFO  E_COM_INDICATOR\n",
              "0                    5852                    5838  ...       5804                1\n",
              "1                   14306                   14158  ...       5804                1\n",
              "2                    8607                    8462  ...       5804                1\n",
              "3                    5948                    5924  ...       5804                1\n",
              "4                    9301                    9126  ...       5804                1\n",
              "\n",
              "[5 rows x 29 columns]"
            ]
          },
          "metadata": {
            "tags": []
          },
          "execution_count": 56
        }
      ]
    },
    {
      "cell_type": "code",
      "metadata": {
        "id": "aw2qKRMeUeKQ",
        "colab_type": "code",
        "colab": {
          "base_uri": "https://localhost:8080/",
          "height": 34
        },
        "outputId": "8c35ba71-df07-4530-b555-476c1b7977c9"
      },
      "source": [
        "colouring_col = mapper_data['TARGET']\n",
        "len(colouring_col)"
      ],
      "execution_count": 57,
      "outputs": [
        {
          "output_type": "execute_result",
          "data": {
            "text/plain": [
              "22256"
            ]
          },
          "metadata": {
            "tags": []
          },
          "execution_count": 57
        }
      ]
    },
    {
      "cell_type": "code",
      "metadata": {
        "id": "GCLq5gakVA0V",
        "colab_type": "code",
        "colab": {
          "base_uri": "https://localhost:8080/",
          "height": 139
        },
        "outputId": "6cf30ae9-9f02-41b4-a121-a58ee62cc695"
      },
      "source": [
        "l2=[]\n",
        "for i  in np.arange(1,len(mapper_data2),1):\n",
        "  l2.append(list(mapper_data2.iloc[i,:]))\n",
        "l2=np.array(l2)\n",
        "l2"
      ],
      "execution_count": 58,
      "outputs": [
        {
          "output_type": "execute_result",
          "data": {
            "text/plain": [
              "array([[14306, 14158, 14119, ...,   181,  5804,     1],\n",
              "       [ 8607,  8462, 15539, ...,   504,  5804,     1],\n",
              "       [ 5948,  5924,  5913, ...,   565,  5804,     1],\n",
              "       ...,\n",
              "       [ 9262, 15266, 15231, ...,   565,  6928,     1],\n",
              "       [ 4158,  3979, 17520, ...,   392,  5694,     0],\n",
              "       [ 1079, 17149, 17117, ...,   565,  3488,     0]])"
            ]
          },
          "metadata": {
            "tags": []
          },
          "execution_count": 58
        }
      ]
    },
    {
      "cell_type": "code",
      "metadata": {
        "id": "cG4mayHLV-Ce",
        "colab_type": "code",
        "colab": {
          "base_uri": "https://localhost:8080/",
          "height": 34
        },
        "outputId": "577ee265-02dc-422b-aeb5-b1a42aeda2a5"
      },
      "source": [
        "l2.shape"
      ],
      "execution_count": 59,
      "outputs": [
        {
          "output_type": "execute_result",
          "data": {
            "text/plain": [
              "(22255, 29)"
            ]
          },
          "metadata": {
            "tags": []
          },
          "execution_count": 59
        }
      ]
    },
    {
      "cell_type": "code",
      "metadata": {
        "id": "N-VkStd-VBES",
        "colab_type": "code",
        "colab": {
          "base_uri": "https://localhost:8080/",
          "height": 295
        },
        "outputId": "df5e94b9-8a8c-468d-e4d5-e1c89d5aa0ca"
      },
      "source": [
        "# Initialize\n",
        "mapper = km.KeplerMapper(verbose=1)\n",
        "\n",
        "# Fit to and transform the data\n",
        "projected_data2 = mapper.fit_transform(l2, projection=[0,1]) # X-Y axis\n",
        "\n",
        "# Create dictionary called 'graph' with nodes, edges and meta-information\n",
        "graph2 = mapper.map(projected_data2, nr_cubes=25, overlap_perc = 0.1 ,clusterer = DBSCAN(algorithm ='auto',eps = 100, leaf_size = 500, metric='euclidean',\n",
        "    metric_params=None, min_samples=10, n_jobs=-1, p=None))\n",
        "## All parameters are the same as before"
      ],
      "execution_count": 60,
      "outputs": [
        {
          "output_type": "stream",
          "text": [
            "KeplerMapper()\n",
            "..Composing projection pipeline of length 1:\n",
            "\tProjections: [0, 1]\n",
            "\tDistance matrices: False\n",
            "\tScalers: MinMaxScaler(copy=True, feature_range=(0, 1))\n",
            "..Projecting on data shaped (22255, 29)\n",
            "\n",
            "..Projecting data using: [0, 1]\n",
            "\n",
            "..Scaling with: MinMaxScaler(copy=True, feature_range=(0, 1))\n",
            "\n",
            "Mapping on data shaped (22255, 2) using lens shaped (22255, 2)\n",
            "\n",
            "Creating 625 hypercubes.\n",
            "\n",
            "Created 1550 edges and 625 nodes in 0:01:05.064120.\n"
          ],
          "name": "stdout"
        }
      ]
    },
    {
      "cell_type": "code",
      "metadata": {
        "id": "oEkLr4krVAxk",
        "colab_type": "code",
        "colab": {
          "base_uri": "https://localhost:8080/",
          "height": 34
        },
        "outputId": "20673193-e392-432a-cf71-d264249882ae"
      },
      "source": [
        "# Visualize it\n",
        "html2=mapper.visualize(graph2, path_html=\"coloured_Random-Forest-Rules-Final_clustering_output.html\",\n",
        "                       color_function = mapper_data['TARGET'].values,\n",
        "                       custom_tooltips = mapper_data['TARGET'].values)"
      ],
      "execution_count": 63,
      "outputs": [
        {
          "output_type": "stream",
          "text": [
            "Wrote visualization to: coloured2_Random-Forest-Rules-Final_clustering_output.html\n"
          ],
          "name": "stdout"
        }
      ]
    },
    {
      "cell_type": "code",
      "metadata": {
        "id": "2pwx1S_2XFte",
        "colab_type": "code",
        "colab": {
          "base_uri": "https://localhost:8080/",
          "height": 69
        },
        "outputId": "4b76ef94-2062-488b-a5b8-56b5c2045154"
      },
      "source": [
        "mapper_data['TARGET'].value_counts()"
      ],
      "execution_count": 62,
      "outputs": [
        {
          "output_type": "execute_result",
          "data": {
            "text/plain": [
              "0    21410\n",
              "1      846\n",
              "Name: TARGET, dtype: int64"
            ]
          },
          "metadata": {
            "tags": []
          },
          "execution_count": 62
        }
      ]
    },
    {
      "cell_type": "markdown",
      "metadata": {
        "id": "YILLsAP6aKu5",
        "colab_type": "text"
      },
      "source": [
        "##### So even though there are some fraud cases in the clusters, there are so few in each that the change in colour is almost imperceptible.We can try to reduce the number of clusters to see some change, or we can try to colour using a different columns which doesn't have such skewed frequency counts."
      ]
    },
    {
      "cell_type": "markdown",
      "metadata": {
        "id": "FuwvWuGpaw7J",
        "colab_type": "text"
      },
      "source": [
        "##### **Reducing number of clusters**"
      ]
    },
    {
      "cell_type": "code",
      "metadata": {
        "id": "7w1A5uREaIHW",
        "colab_type": "code",
        "colab": {
          "base_uri": "https://localhost:8080/",
          "height": 139
        },
        "outputId": "538a5fcb-5f10-4424-9a13-1f13c8dbca18"
      },
      "source": [
        "# Initialize\n",
        "mapper = km.KeplerMapper(verbose=1)\n",
        "# Create dictionary called 'graph' with nodes, edges and meta-information\n",
        "graph3 = mapper.map(projected_data2, nr_cubes=5, overlap_perc = 0.1 ,clusterer = DBSCAN(algorithm ='auto',eps = 100, leaf_size = 500, metric='euclidean',\n",
        "    metric_params=None, min_samples=10, n_jobs=-1, p=None))\n",
        "## All parameters are the same as before except for 'nr_cubes'\n",
        "\n",
        "html3=mapper.visualize(graph3, path_html=\"coloured2_Random-Forest-Rules-Final_clustering_output.html\",\n",
        "                       color_function = mapper_data['TARGET'].values,\n",
        "                       custom_tooltips = mapper_data['TARGET'].values)\n"
      ],
      "execution_count": 64,
      "outputs": [
        {
          "output_type": "stream",
          "text": [
            "KeplerMapper()\n",
            "Mapping on data shaped (22255, 2) using lens shaped (22255, 2)\n",
            "\n",
            "Creating 25 hypercubes.\n",
            "\n",
            "Created 72 edges and 25 nodes in 0:00:03.001972.\n",
            "Wrote visualization to: coloured2_Random-Forest-Rules-Final_clustering_output.html\n"
          ],
          "name": "stdout"
        }
      ]
    },
    {
      "cell_type": "markdown",
      "metadata": {
        "id": "5GVzUZZuePLz",
        "colab_type": "text"
      },
      "source": [
        "##### **Colouring using a different column**"
      ]
    },
    {
      "cell_type": "code",
      "metadata": {
        "id": "ZGqdNKzLjMon",
        "colab_type": "code",
        "colab": {
          "base_uri": "https://localhost:8080/",
          "height": 278
        },
        "outputId": "1b5ce950-535a-496d-87f5-7962f1790c59"
      },
      "source": [
        "for i in mapper_data.columns:\n",
        "  if len(set(mapper_data[i]))<=10:\n",
        "   print(i, len(set(mapper_data[i])))"
      ],
      "execution_count": 76,
      "outputs": [
        {
          "output_type": "stream",
          "text": [
            "PROC_CODE_12 2\n",
            "PROC_CODE_34 3\n",
            "PD1 4\n",
            "PD2 2\n",
            "PD3 2\n",
            "PD4 2\n",
            "PD5 5\n",
            "PD7 2\n",
            "PD11 2\n",
            "SETTLEMENT_CURRENCY 2\n",
            "DECISION 6\n",
            "TARGET 2\n",
            "C_100 2\n",
            "C_40 3\n",
            "E_COM_INDICATOR 3\n"
          ],
          "name": "stdout"
        }
      ]
    },
    {
      "cell_type": "markdown",
      "metadata": {
        "id": "IokXx-zakePl",
        "colab_type": "text"
      },
      "source": [
        "##### This is important because there are 10 distinct colours in a mapper graph that can be plotted by default, there are customizations possible but only possible to run on Jupyter notebook, will add that as a seperate file."
      ]
    },
    {
      "cell_type": "code",
      "metadata": {
        "id": "mO-Z7q6zRaFl",
        "colab_type": "code",
        "colab": {
          "base_uri": "https://localhost:8080/",
          "height": 34
        },
        "outputId": "24d51afd-1322-420c-a38d-5a9f6d907407"
      },
      "source": [
        "html4=mapper.visualize(graph2, path_html=\"coloured3_Random-Forest-Rules-Final_clustering_output.html\",\n",
        "                       color_function = mapper_data['PD5'].values,\n",
        "                       custom_tooltips = mapper_data['PD5'].values)"
      ],
      "execution_count": 77,
      "outputs": [
        {
          "output_type": "stream",
          "text": [
            "Wrote visualization to: coloured3_Random-Forest-Rules-Final_clustering_output.html\n"
          ],
          "name": "stdout"
        }
      ]
    },
    {
      "cell_type": "markdown",
      "metadata": {
        "id": "xEkghp5slSU3",
        "colab_type": "text"
      },
      "source": [
        "##### This graph is interesting because we can see a line of blue nodes in a field of yellow nodes, this is possible because there is a sufficient majority of one category in these blue nodes, and a majority of some other category in the yellow nodes. These are all categories of the variable 'PD5'. More such colours might be distinguishable when using a different palatte. We can choose to study the members of these blue nodes specifically for behaviour."
      ]
    },
    {
      "cell_type": "code",
      "metadata": {
        "id": "msFizKo3lxPQ",
        "colab_type": "code",
        "colab": {}
      },
      "source": [
        ""
      ],
      "execution_count": 0,
      "outputs": []
    },
    {
      "cell_type": "code",
      "metadata": {
        "id": "eWuGTvvVFAeG",
        "colab_type": "code",
        "colab": {}
      },
      "source": [
        ""
      ],
      "execution_count": 0,
      "outputs": []
    },
    {
      "cell_type": "code",
      "metadata": {
        "id": "_mh15LTxFAbK",
        "colab_type": "code",
        "colab": {}
      },
      "source": [
        ""
      ],
      "execution_count": 0,
      "outputs": []
    },
    {
      "cell_type": "markdown",
      "metadata": {
        "id": "LRqOPf2GIGKj",
        "colab_type": "text"
      },
      "source": [
        "### **ROUGH WORK**\n"
      ]
    },
    {
      "cell_type": "code",
      "metadata": {
        "id": "HL1R23XERaII",
        "colab_type": "code",
        "colab": {}
      },
      "source": [
        "#mapper.visualize(graph, path_html=\"psycho-scores-MST.html\",\n",
        "                 color_function=df['var_color'].values,\n",
        "                 custom_tooltips=df['var_color'].values)\n"
      ],
      "execution_count": 0,
      "outputs": []
    },
    {
      "cell_type": "code",
      "metadata": {
        "id": "IYM2q736CIqA",
        "colab_type": "code",
        "colab": {}
      },
      "source": [
        "data = np.random.random((2000, 2))\n",
        "mapper = km.KeplerMapper()\n",
        "lens = mapper.fit_transform(data)\n",
        "graph = mapper.map(lens, data)\n",
        "_ = mapper.visualize(graph, path_html=\"filename.html\")"
      ],
      "execution_count": 0,
      "outputs": []
    },
    {
      "cell_type": "code",
      "metadata": {
        "id": "lOa2FyBaCIu6",
        "colab_type": "code",
        "colab": {}
      },
      "source": [
        "display(\"filename.html\")"
      ],
      "execution_count": 0,
      "outputs": []
    },
    {
      "cell_type": "code",
      "metadata": {
        "id": "VPi8DL6hD-tE",
        "colab_type": "code",
        "colab": {}
      },
      "source": [
        "!ls '/gdrive/My Drive'"
      ],
      "execution_count": 0,
      "outputs": []
    },
    {
      "cell_type": "code",
      "metadata": {
        "id": "6ij-u8G2D-oJ",
        "colab_type": "code",
        "colab": {}
      },
      "source": [
        ""
      ],
      "execution_count": 0,
      "outputs": []
    },
    {
      "cell_type": "code",
      "metadata": {
        "id": "5dP54a0yD-iG",
        "colab_type": "code",
        "colab": {}
      },
      "source": [
        ""
      ],
      "execution_count": 0,
      "outputs": []
    }
  ]
}
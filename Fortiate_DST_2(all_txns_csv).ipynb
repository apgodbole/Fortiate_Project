{
  "nbformat": 4,
  "nbformat_minor": 0,
  "metadata": {
    "colab": {
      "name": "Fortiate_DST_2(all_txns.csv).ipynb",
      "provenance": [],
      "collapsed_sections": [],
      "machine_shape": "hm",
      "include_colab_link": true
    },
    "kernelspec": {
      "name": "python3",
      "display_name": "Python 3"
    }
  },
  "cells": [
    {
      "cell_type": "markdown",
      "metadata": {
        "id": "view-in-github",
        "colab_type": "text"
      },
      "source": [
        "<a href=\"https://colab.research.google.com/github/trinade96/Fortiate_Project/blob/master/Fortiate_DST_2(all_txns_csv).ipynb\" target=\"_parent\"><img src=\"https://colab.research.google.com/assets/colab-badge.svg\" alt=\"Open In Colab\"/></a>"
      ]
    },
    {
      "cell_type": "markdown",
      "metadata": {
        "id": "deoizWReVyzu",
        "colab_type": "text"
      },
      "source": [
        "### **DST 2(all_txns.csv)**\n",
        "##### Trina De"
      ]
    },
    {
      "cell_type": "markdown",
      "metadata": {
        "id": "F45C9SEqz80N",
        "colab_type": "text"
      },
      "source": [
        "##### **Packages Installed**"
      ]
    },
    {
      "cell_type": "code",
      "metadata": {
        "id": "xQCDE0HjaEAt",
        "colab_type": "code",
        "colab": {
          "base_uri": "https://localhost:8080/",
          "height": 321
        },
        "outputId": "b80587dc-55a6-469a-cc2e-0d3c145239c1"
      },
      "source": [
        "!pip install folium==0.2.1"
      ],
      "execution_count": 4,
      "outputs": [
        {
          "output_type": "stream",
          "text": [
            "Collecting folium==0.2.1\n",
            "\u001b[?25l  Downloading https://files.pythonhosted.org/packages/72/dd/75ced7437bfa7cb9a88b96ee0177953062803c3b4cde411a97d98c35adaf/folium-0.2.1.tar.gz (69kB)\n",
            "\r\u001b[K     |████▊                           | 10kB 17.6MB/s eta 0:00:01\r\u001b[K     |█████████▍                      | 20kB 1.8MB/s eta 0:00:01\r\u001b[K     |██████████████                  | 30kB 2.6MB/s eta 0:00:01\r\u001b[K     |██████████████████▊             | 40kB 1.7MB/s eta 0:00:01\r\u001b[K     |███████████████████████▍        | 51kB 2.1MB/s eta 0:00:01\r\u001b[K     |████████████████████████████    | 61kB 2.5MB/s eta 0:00:01\r\u001b[K     |████████████████████████████████| 71kB 2.1MB/s \n",
            "\u001b[?25hRequirement already satisfied: Jinja2 in /usr/local/lib/python3.6/dist-packages (from folium==0.2.1) (2.10.3)\n",
            "Requirement already satisfied: MarkupSafe>=0.23 in /usr/local/lib/python3.6/dist-packages (from Jinja2->folium==0.2.1) (1.1.1)\n",
            "Building wheels for collected packages: folium\n",
            "  Building wheel for folium (setup.py) ... \u001b[?25l\u001b[?25hdone\n",
            "  Created wheel for folium: filename=folium-0.2.1-cp36-none-any.whl size=79979 sha256=b29486a2c911484b7a4018233eb982de547a74d20dd7a81223e05d5cb943487e\n",
            "  Stored in directory: /root/.cache/pip/wheels/b8/09/f0/52d2ef419c2aaf4fb149f92a33e0008bdce7ae816f0dd8f0c5\n",
            "Successfully built folium\n",
            "\u001b[31mERROR: datascience 0.10.6 has requirement coverage==3.7.1, but you'll have coverage 4.1 which is incompatible.\u001b[0m\n",
            "Installing collected packages: folium\n",
            "  Found existing installation: folium 0.8.3\n",
            "    Uninstalling folium-0.8.3:\n",
            "      Successfully uninstalled folium-0.8.3\n",
            "Successfully installed folium-0.2.1\n"
          ],
          "name": "stdout"
        }
      ]
    },
    {
      "cell_type": "code",
      "metadata": {
        "id": "hZJeMoGTZr42",
        "colab_type": "code",
        "colab": {
          "base_uri": "https://localhost:8080/",
          "height": 161
        },
        "outputId": "2f5db8d1-6499-4cfb-e284-a769b66ef590"
      },
      "source": [
        "!pip install coverage==3.7.1"
      ],
      "execution_count": 5,
      "outputs": [
        {
          "output_type": "stream",
          "text": [
            "Processing /root/.cache/pip/wheels/68/58/66/f1fc9afad272df0df0fa38cdef34ee2d5d8d6a85f4eb5acab5/coverage-3.7.1-cp36-cp36m-linux_x86_64.whl\n",
            "\u001b[31mERROR: art 4.3 has requirement coverage>=4.1, but you'll have coverage 3.7.1 which is incompatible.\u001b[0m\n",
            "Installing collected packages: coverage\n",
            "  Found existing installation: coverage 4.1\n",
            "    Uninstalling coverage-4.1:\n",
            "      Successfully uninstalled coverage-4.1\n",
            "Successfully installed coverage-3.7.1\n"
          ],
          "name": "stdout"
        }
      ]
    },
    {
      "cell_type": "code",
      "metadata": {
        "id": "Q8NPBuujzl1P",
        "colab_type": "code",
        "colab": {
          "base_uri": "https://localhost:8080/",
          "height": 250
        },
        "outputId": "9c5dee14-80bd-4199-fd21-aaf2afc04d4c"
      },
      "source": [
        "!pip install pycm"
      ],
      "execution_count": 6,
      "outputs": [
        {
          "output_type": "stream",
          "text": [
            "Requirement already satisfied: pycm in /usr/local/lib/python3.6/dist-packages (2.5)\n",
            "Requirement already satisfied: numpy>=1.9.0 in /usr/local/lib/python3.6/dist-packages (from pycm) (1.17.4)\n",
            "Requirement already satisfied: art>=1.8 in /usr/local/lib/python3.6/dist-packages (from pycm) (4.3)\n",
            "Collecting coverage>=4.1\n",
            "  Using cached https://files.pythonhosted.org/packages/51/b1/13609068fff1c8c056f0c4601ad6985cf5c1bbfc529196ab08bd2a57dc39/coverage-4.5.4-cp36-cp36m-manylinux1_x86_64.whl\n",
            "\u001b[31mERROR: datascience 0.10.6 has requirement coverage==3.7.1, but you'll have coverage 4.5.4 which is incompatible.\u001b[0m\n",
            "\u001b[31mERROR: coveralls 0.5 has requirement coverage<3.999,>=3.6, but you'll have coverage 4.5.4 which is incompatible.\u001b[0m\n",
            "Installing collected packages: coverage\n",
            "  Found existing installation: coverage 3.7.1\n",
            "    Uninstalling coverage-3.7.1:\n",
            "      Successfully uninstalled coverage-3.7.1\n",
            "Successfully installed coverage-4.5.4\n"
          ],
          "name": "stdout"
        }
      ]
    },
    {
      "cell_type": "code",
      "metadata": {
        "id": "FOtvDA4bK27s",
        "colab_type": "code",
        "outputId": "8e67ba15-3f5f-4b6e-8c41-1a22b8012a4f",
        "colab": {
          "base_uri": "https://localhost:8080/",
          "height": 801
        }
      },
      "source": [
        "!pip install scikit-tda"
      ],
      "execution_count": 7,
      "outputs": [
        {
          "output_type": "stream",
          "text": [
            "Collecting scikit-tda\n",
            "  Downloading https://files.pythonhosted.org/packages/e2/67/14676df9d3c8fae3324f6a73e60e9b705c1dfea8131e275a313ab90bd09d/scikit_tda-0.0.3-py3-none-any.whl\n",
            "Requirement already satisfied: umap-learn in /usr/local/lib/python3.6/dist-packages (from scikit-tda) (0.3.10)\n",
            "Requirement already satisfied: pillow in /usr/local/lib/python3.6/dist-packages (from scikit-tda) (4.3.0)\n",
            "Collecting kmapper\n",
            "\u001b[?25l  Downloading https://files.pythonhosted.org/packages/fb/3f/a1290b9425a7e0ff4ae51a6e6ff68e50ad793b3460f435c2ec81c0383751/kmapper-1.2.0-py3-none-any.whl (93kB)\n",
            "\u001b[K     |████████████████████████████████| 102kB 3.1MB/s \n",
            "\u001b[?25hRequirement already satisfied: matplotlib in /usr/local/lib/python3.6/dist-packages (from scikit-tda) (3.1.2)\n",
            "Requirement already satisfied: scipy in /usr/local/lib/python3.6/dist-packages (from scikit-tda) (1.3.3)\n",
            "Collecting persim\n",
            "  Downloading https://files.pythonhosted.org/packages/71/4a/ac537e6743337b00a8b3ff8b0d967827d3b5cfd9afd3a0bd117f5809d4d2/persim-0.1.1-py3-none-any.whl\n",
            "Requirement already satisfied: numba in /usr/local/lib/python3.6/dist-packages (from scikit-tda) (0.40.1)\n",
            "Collecting tadasets\n",
            "  Downloading https://files.pythonhosted.org/packages/5b/06/d1b9edccfcd071b245b0d1ab4b22eb2ff7aaeaa6d015db58d701d9782122/tadasets-0.0.4-py3-none-any.whl\n",
            "Requirement already satisfied: scikit-learn in /usr/local/lib/python3.6/dist-packages (from scikit-tda) (0.21.3)\n",
            "Requirement already satisfied: numpy in /usr/local/lib/python3.6/dist-packages (from scikit-tda) (1.17.4)\n",
            "Collecting ripser\n",
            "\u001b[?25l  Downloading https://files.pythonhosted.org/packages/4c/17/d5e898161eb8e3b1084419bfc04adbe87d15075daa8e236df72dbe75167e/ripser-0.4.1.tar.gz (79kB)\n",
            "\u001b[K     |████████████████████████████████| 81kB 8.4MB/s \n",
            "\u001b[?25hRequirement already satisfied: Cython in /usr/local/lib/python3.6/dist-packages (from scikit-tda) (0.29.14)\n",
            "Requirement already satisfied: olefile in /usr/local/lib/python3.6/dist-packages (from pillow->scikit-tda) (0.46)\n",
            "Requirement already satisfied: Jinja2 in /usr/local/lib/python3.6/dist-packages (from kmapper->scikit-tda) (2.10.3)\n",
            "Requirement already satisfied: python-dateutil>=2.1 in /usr/local/lib/python3.6/dist-packages (from matplotlib->scikit-tda) (2.6.1)\n",
            "Requirement already satisfied: pyparsing!=2.0.4,!=2.1.2,!=2.1.6,>=2.0.1 in /usr/local/lib/python3.6/dist-packages (from matplotlib->scikit-tda) (2.4.5)\n",
            "Requirement already satisfied: cycler>=0.10 in /usr/local/lib/python3.6/dist-packages (from matplotlib->scikit-tda) (0.10.0)\n",
            "Requirement already satisfied: kiwisolver>=1.0.1 in /usr/local/lib/python3.6/dist-packages (from matplotlib->scikit-tda) (1.1.0)\n",
            "Collecting hopcroftkarp\n",
            "  Downloading https://files.pythonhosted.org/packages/6b/56/7b03eba3c43008c490c9d52e69ea5334b65955f66836eb4f1962f3b0d421/hopcroftkarp-1.2.5.tar.gz\n",
            "Requirement already satisfied: llvmlite>=0.25.0dev0 in /usr/local/lib/python3.6/dist-packages (from numba->scikit-tda) (0.30.0)\n",
            "Requirement already satisfied: joblib>=0.11 in /usr/local/lib/python3.6/dist-packages (from scikit-learn->scikit-tda) (0.14.0)\n",
            "Requirement already satisfied: MarkupSafe>=0.23 in /usr/local/lib/python3.6/dist-packages (from Jinja2->kmapper->scikit-tda) (1.1.1)\n",
            "Requirement already satisfied: six>=1.5 in /usr/local/lib/python3.6/dist-packages (from python-dateutil>=2.1->matplotlib->scikit-tda) (1.12.0)\n",
            "Requirement already satisfied: setuptools in /usr/local/lib/python3.6/dist-packages (from kiwisolver>=1.0.1->matplotlib->scikit-tda) (42.0.2)\n",
            "Building wheels for collected packages: ripser, hopcroftkarp\n",
            "  Building wheel for ripser (setup.py) ... \u001b[?25l\u001b[?25hdone\n",
            "  Created wheel for ripser: filename=ripser-0.4.1-cp36-cp36m-linux_x86_64.whl size=423311 sha256=5e418ca4b6befdfde82a5bb06db349b025d38cf60e3c37118e8d3d03d9707b1c\n",
            "  Stored in directory: /root/.cache/pip/wheels/d4/12/da/56d55c3af62ebd5e0684d521f3e58c1a85ac312502c9e2d47d\n",
            "  Building wheel for hopcroftkarp (setup.py) ... \u001b[?25l\u001b[?25hdone\n",
            "  Created wheel for hopcroftkarp: filename=hopcroftkarp-1.2.5-py2.py3-none-any.whl size=18091 sha256=f02d88634c9f48d1351de4939785a73ba9e46e610b85693b93730120118df0f0\n",
            "  Stored in directory: /root/.cache/pip/wheels/2b/e1/c9/1993c7f7f114b7d3fb2d3e895e02157a7ebf554861e9e54e01\n",
            "Successfully built ripser hopcroftkarp\n",
            "Installing collected packages: kmapper, hopcroftkarp, persim, tadasets, ripser, scikit-tda\n",
            "Successfully installed hopcroftkarp-1.2.5 kmapper-1.2.0 persim-0.1.1 ripser-0.4.1 scikit-tda-0.0.3 tadasets-0.0.4\n"
          ],
          "name": "stdout"
        }
      ]
    },
    {
      "cell_type": "code",
      "metadata": {
        "id": "RkoG8vCLNuHB",
        "colab_type": "code",
        "outputId": "828396b1-31b6-4a9b-f8d7-661f78d1eb7f",
        "colab": {
          "base_uri": "https://localhost:8080/",
          "height": 141
        }
      },
      "source": [
        "!pip install kmapper"
      ],
      "execution_count": 8,
      "outputs": [
        {
          "output_type": "stream",
          "text": [
            "Requirement already satisfied: kmapper in /usr/local/lib/python3.6/dist-packages (1.2.0)\n",
            "Requirement already satisfied: scikit-learn in /usr/local/lib/python3.6/dist-packages (from kmapper) (0.21.3)\n",
            "Requirement already satisfied: numpy in /usr/local/lib/python3.6/dist-packages (from kmapper) (1.17.4)\n",
            "Requirement already satisfied: Jinja2 in /usr/local/lib/python3.6/dist-packages (from kmapper) (2.10.3)\n",
            "Requirement already satisfied: scipy in /usr/local/lib/python3.6/dist-packages (from kmapper) (1.3.3)\n",
            "Requirement already satisfied: joblib>=0.11 in /usr/local/lib/python3.6/dist-packages (from scikit-learn->kmapper) (0.14.0)\n",
            "Requirement already satisfied: MarkupSafe>=0.23 in /usr/local/lib/python3.6/dist-packages (from Jinja2->kmapper) (1.1.1)\n"
          ],
          "name": "stdout"
        }
      ]
    },
    {
      "cell_type": "markdown",
      "metadata": {
        "id": "Uw407NMuV-M3",
        "colab_type": "text"
      },
      "source": [
        "##### **Packages Used**"
      ]
    },
    {
      "cell_type": "code",
      "metadata": {
        "id": "SHjgeKvh2Fko",
        "colab_type": "code",
        "colab": {}
      },
      "source": [
        "import numpy as np\n",
        "import pandas as pd\n",
        "import time\n",
        "from pandas.api.types import is_string_dtype\n",
        "from pandas.api.types import is_numeric_dtype\n",
        "from scipy.stats import spearmanr\n",
        "import pycm\n",
        "from pycm import *\n",
        "import kmapper as km\n",
        "from sklearn.cluster import DBSCAN\n",
        "import sklearn\n",
        "from sklearn import ensemble\n",
        "from sklearn.decomposition import PCA\n",
        "import matplotlib.pyplot as plt"
      ],
      "execution_count": 0,
      "outputs": []
    },
    {
      "cell_type": "markdown",
      "metadata": {
        "id": "ceuLXmOCWFQK",
        "colab_type": "text"
      },
      "source": [
        "##### **Loading Notebook from Google Drive**"
      ]
    },
    {
      "cell_type": "code",
      "metadata": {
        "id": "Si7cXn6A160V",
        "colab_type": "code",
        "outputId": "1cc1892d-1bbc-48b6-8783-69020b8f0adb",
        "colab": {
          "base_uri": "https://localhost:8080/",
          "height": 125
        }
      },
      "source": [
        "from google.colab import drive\n",
        "drive.mount('/gdrive')"
      ],
      "execution_count": 10,
      "outputs": [
        {
          "output_type": "stream",
          "text": [
            "Go to this URL in a browser: https://accounts.google.com/o/oauth2/auth?client_id=947318989803-6bn6qk8qdgf4n4g3pfee6491hc0brc4i.apps.googleusercontent.com&redirect_uri=urn%3aietf%3awg%3aoauth%3a2.0%3aoob&response_type=code&scope=email%20https%3a%2f%2fwww.googleapis.com%2fauth%2fdocs.test%20https%3a%2f%2fwww.googleapis.com%2fauth%2fdrive%20https%3a%2f%2fwww.googleapis.com%2fauth%2fdrive.photos.readonly%20https%3a%2f%2fwww.googleapis.com%2fauth%2fpeopleapi.readonly\n",
            "\n",
            "Enter your authorization code:\n",
            "··········\n",
            "Mounted at /gdrive\n"
          ],
          "name": "stdout"
        }
      ]
    },
    {
      "cell_type": "code",
      "metadata": {
        "id": "h4DWa7V43GxE",
        "colab_type": "code",
        "colab": {}
      },
      "source": [
        "!cd /gdrive/My\\ Drive/"
      ],
      "execution_count": 0,
      "outputs": []
    },
    {
      "cell_type": "code",
      "metadata": {
        "id": "5NSd0kTo3G6B",
        "colab_type": "code",
        "outputId": "334b3242-5b5e-43dd-ae59-1f5ed911dff1",
        "colab": {
          "base_uri": "https://localhost:8080/",
          "height": 72
        }
      },
      "source": [
        "data = pd.read_csv(\"/gdrive/My Drive/all_txns.csv\")"
      ],
      "execution_count": 5,
      "outputs": [
        {
          "output_type": "stream",
          "text": [
            "/usr/local/lib/python3.6/dist-packages/IPython/core/interactiveshell.py:2718: DtypeWarning: Columns (2,7,22,25,27,33,39,50,51,53,59,62,72,78,93) have mixed types. Specify dtype option on import or set low_memory=False.\n",
            "  interactivity=interactivity, compiler=compiler, result=result)\n"
          ],
          "name": "stderr"
        }
      ]
    },
    {
      "cell_type": "code",
      "metadata": {
        "id": "yEQhAkZ13G8C",
        "colab_type": "code",
        "outputId": "b2bedaf0-5197-46a8-e74f-3649074d0fe3",
        "colab": {
          "base_uri": "https://localhost:8080/",
          "height": 413
        }
      },
      "source": [
        "data.head()"
      ],
      "execution_count": 6,
      "outputs": [
        {
          "output_type": "execute_result",
          "data": {
            "text/html": [
              "<div>\n",
              "<style scoped>\n",
              "    .dataframe tbody tr th:only-of-type {\n",
              "        vertical-align: middle;\n",
              "    }\n",
              "\n",
              "    .dataframe tbody tr th {\n",
              "        vertical-align: top;\n",
              "    }\n",
              "\n",
              "    .dataframe thead th {\n",
              "        text-align: right;\n",
              "    }\n",
              "</style>\n",
              "<table border=\"1\" class=\"dataframe\">\n",
              "  <thead>\n",
              "    <tr style=\"text-align: right;\">\n",
              "      <th></th>\n",
              "      <th>V1</th>\n",
              "      <th>V2</th>\n",
              "      <th>V3</th>\n",
              "      <th>V4</th>\n",
              "      <th>V5</th>\n",
              "      <th>V6</th>\n",
              "      <th>V7</th>\n",
              "      <th>V8</th>\n",
              "      <th>V9</th>\n",
              "      <th>V10</th>\n",
              "      <th>V11</th>\n",
              "      <th>V12</th>\n",
              "      <th>V13</th>\n",
              "      <th>V14</th>\n",
              "      <th>V15</th>\n",
              "      <th>V16</th>\n",
              "      <th>V17</th>\n",
              "      <th>V18</th>\n",
              "      <th>V19</th>\n",
              "      <th>V20</th>\n",
              "      <th>V21</th>\n",
              "      <th>V22</th>\n",
              "      <th>V23</th>\n",
              "      <th>V24</th>\n",
              "      <th>V25</th>\n",
              "      <th>V26</th>\n",
              "      <th>V27</th>\n",
              "      <th>V28</th>\n",
              "      <th>V29</th>\n",
              "      <th>V30</th>\n",
              "      <th>V31</th>\n",
              "      <th>V32</th>\n",
              "      <th>V33</th>\n",
              "      <th>V34</th>\n",
              "      <th>V35</th>\n",
              "      <th>V36</th>\n",
              "      <th>V37</th>\n",
              "      <th>V38</th>\n",
              "      <th>V39</th>\n",
              "      <th>V40</th>\n",
              "      <th>...</th>\n",
              "      <th>V81</th>\n",
              "      <th>V82</th>\n",
              "      <th>V83</th>\n",
              "      <th>V84</th>\n",
              "      <th>V85</th>\n",
              "      <th>V86</th>\n",
              "      <th>V87</th>\n",
              "      <th>V88</th>\n",
              "      <th>V89</th>\n",
              "      <th>V90</th>\n",
              "      <th>V91</th>\n",
              "      <th>V92</th>\n",
              "      <th>V93</th>\n",
              "      <th>V94</th>\n",
              "      <th>V95</th>\n",
              "      <th>V96</th>\n",
              "      <th>V97</th>\n",
              "      <th>V98</th>\n",
              "      <th>V99</th>\n",
              "      <th>V100</th>\n",
              "      <th>V101</th>\n",
              "      <th>V102</th>\n",
              "      <th>V103</th>\n",
              "      <th>V104</th>\n",
              "      <th>V105</th>\n",
              "      <th>V106</th>\n",
              "      <th>V107</th>\n",
              "      <th>V108</th>\n",
              "      <th>V109</th>\n",
              "      <th>V110</th>\n",
              "      <th>V111</th>\n",
              "      <th>V112</th>\n",
              "      <th>V113</th>\n",
              "      <th>V114</th>\n",
              "      <th>V115</th>\n",
              "      <th>V116</th>\n",
              "      <th>V117</th>\n",
              "      <th>V118</th>\n",
              "      <th>V119</th>\n",
              "      <th>V120</th>\n",
              "    </tr>\n",
              "  </thead>\n",
              "  <tbody>\n",
              "    <tr>\n",
              "      <th>0</th>\n",
              "      <td>1</td>\n",
              "      <td>1100</td>\n",
              "      <td>500360265637</td>\n",
              "      <td>265637</td>\n",
              "      <td>20-JUL-18 11.34.26</td>\n",
              "      <td>20-JUL-18 11.34.26</td>\n",
              "      <td>0</td>\n",
              "      <td>0</td>\n",
              "      <td>20-JUL-18 11.34.27</td>\n",
              "      <td>3.871512e+14</td>\n",
              "      <td>NaN</td>\n",
              "      <td>?</td>\n",
              "      <td>?</td>\n",
              "      <td>?</td>\n",
              "      <td>29-MAR-16 09.02.47</td>\n",
              "      <td>01-MAR-20 00.00.00</td>\n",
              "      <td>704684</td>\n",
              "      <td>367123</td>\n",
              "      <td>0</td>\n",
              "      <td>40</td>\n",
              "      <td>0.0</td>\n",
              "      <td>1</td>\n",
              "      <td>0</td>\n",
              "      <td>0</td>\n",
              "      <td>9</td>\n",
              "      <td>4</td>\n",
              "      <td>0</td>\n",
              "      <td>2</td>\n",
              "      <td>0.0</td>\n",
              "      <td>0.0</td>\n",
              "      <td>0.0</td>\n",
              "      <td>1.0</td>\n",
              "      <td>0</td>\n",
              "      <td>???</td>\n",
              "      <td>220.00</td>\n",
              "      <td>0.0</td>\n",
              "      <td>356</td>\n",
              "      <td>0.0</td>\n",
              "      <td>220.00</td>\n",
              "      <td>356</td>\n",
              "      <td>...</td>\n",
              "      <td>NaN</td>\n",
              "      <td>NaN</td>\n",
              "      <td>NaN</td>\n",
              "      <td>AMI</td>\n",
              "      <td>ACS</td>\n",
              "      <td>784.0</td>\n",
              "      <td>NaN</td>\n",
              "      <td>NaN</td>\n",
              "      <td>0.0</td>\n",
              "      <td>0.0</td>\n",
              "      <td>NaN</td>\n",
              "      <td>NaN</td>\n",
              "      <td>NaN</td>\n",
              "      <td>0</td>\n",
              "      <td>NaN</td>\n",
              "      <td>NaN</td>\n",
              "      <td>AXASK05AEVV</td>\n",
              "      <td>5.0</td>\n",
              "      <td>NaN</td>\n",
              "      <td>NaN</td>\n",
              "      <td>NaN</td>\n",
              "      <td>485855.29</td>\n",
              "      <td>NaN</td>\n",
              "      <td>NaN</td>\n",
              "      <td>NaN</td>\n",
              "      <td>0</td>\n",
              "      <td>0</td>\n",
              "      <td>NaN</td>\n",
              "      <td>NaN</td>\n",
              "      <td>NaN</td>\n",
              "      <td>???</td>\n",
              "      <td>NaN</td>\n",
              "      <td>NaN</td>\n",
              "      <td>NaN</td>\n",
              "      <td>NaN</td>\n",
              "      <td>NaN</td>\n",
              "      <td>NaN</td>\n",
              "      <td>NaN</td>\n",
              "      <td>NaN</td>\n",
              "      <td>NaN</td>\n",
              "    </tr>\n",
              "    <tr>\n",
              "      <th>1</th>\n",
              "      <td>2</td>\n",
              "      <td>1100</td>\n",
              "      <td>500360403436</td>\n",
              "      <td>403436</td>\n",
              "      <td>20-JUL-18 11.35.39</td>\n",
              "      <td>20-JUL-18 11.35.39</td>\n",
              "      <td>0</td>\n",
              "      <td>0</td>\n",
              "      <td>20-JUL-18 11.35.39</td>\n",
              "      <td>3.871513e+14</td>\n",
              "      <td>NaN</td>\n",
              "      <td>?</td>\n",
              "      <td>?</td>\n",
              "      <td>?</td>\n",
              "      <td>03-SEP-16 19.58.40</td>\n",
              "      <td>01-SEP-20 00.00.00</td>\n",
              "      <td>704684</td>\n",
              "      <td>367123</td>\n",
              "      <td>0</td>\n",
              "      <td>40</td>\n",
              "      <td>0.0</td>\n",
              "      <td>1</td>\n",
              "      <td>0</td>\n",
              "      <td>0</td>\n",
              "      <td>9</td>\n",
              "      <td>1</td>\n",
              "      <td>0</td>\n",
              "      <td>2</td>\n",
              "      <td>0.0</td>\n",
              "      <td>0.0</td>\n",
              "      <td>0.0</td>\n",
              "      <td>1.0</td>\n",
              "      <td>0</td>\n",
              "      <td>???</td>\n",
              "      <td>42.00</td>\n",
              "      <td>0.0</td>\n",
              "      <td>356</td>\n",
              "      <td>0.0</td>\n",
              "      <td>42.00</td>\n",
              "      <td>356</td>\n",
              "      <td>...</td>\n",
              "      <td>NaN</td>\n",
              "      <td>NaN</td>\n",
              "      <td>NaN</td>\n",
              "      <td>AMI</td>\n",
              "      <td>ACS</td>\n",
              "      <td>26.0</td>\n",
              "      <td>NaN</td>\n",
              "      <td>NaN</td>\n",
              "      <td>0.0</td>\n",
              "      <td>0.0</td>\n",
              "      <td>NaN</td>\n",
              "      <td>NaN</td>\n",
              "      <td>NaN</td>\n",
              "      <td>0</td>\n",
              "      <td>NaN</td>\n",
              "      <td>NaN</td>\n",
              "      <td>AXASK05AEVV</td>\n",
              "      <td>5.0</td>\n",
              "      <td>NaN</td>\n",
              "      <td>NaN</td>\n",
              "      <td>NaN</td>\n",
              "      <td>117389.06</td>\n",
              "      <td>NaN</td>\n",
              "      <td>NaN</td>\n",
              "      <td>NaN</td>\n",
              "      <td>0</td>\n",
              "      <td>0</td>\n",
              "      <td>NaN</td>\n",
              "      <td>NaN</td>\n",
              "      <td>NaN</td>\n",
              "      <td>???</td>\n",
              "      <td>NaN</td>\n",
              "      <td>NaN</td>\n",
              "      <td>NaN</td>\n",
              "      <td>NaN</td>\n",
              "      <td>NaN</td>\n",
              "      <td>NaN</td>\n",
              "      <td>NaN</td>\n",
              "      <td>NaN</td>\n",
              "      <td>NaN</td>\n",
              "    </tr>\n",
              "    <tr>\n",
              "      <th>2</th>\n",
              "      <td>3</td>\n",
              "      <td>1100</td>\n",
              "      <td>500360483836</td>\n",
              "      <td>483836</td>\n",
              "      <td>20-JUL-18 11.35.48</td>\n",
              "      <td>20-JUL-18 11.35.48</td>\n",
              "      <td>0</td>\n",
              "      <td>0</td>\n",
              "      <td>20-JUL-18 11.35.48</td>\n",
              "      <td>3.871510e+14</td>\n",
              "      <td>NaN</td>\n",
              "      <td>?</td>\n",
              "      <td>?</td>\n",
              "      <td>?</td>\n",
              "      <td>02-DEC-17 19.48.22</td>\n",
              "      <td>01-DEC-22 00.00.00</td>\n",
              "      <td>704684</td>\n",
              "      <td>367123</td>\n",
              "      <td>0</td>\n",
              "      <td>40</td>\n",
              "      <td>0.0</td>\n",
              "      <td>1</td>\n",
              "      <td>0</td>\n",
              "      <td>0</td>\n",
              "      <td>9</td>\n",
              "      <td>4</td>\n",
              "      <td>0</td>\n",
              "      <td>2</td>\n",
              "      <td>0.0</td>\n",
              "      <td>0.0</td>\n",
              "      <td>0.0</td>\n",
              "      <td>1.0</td>\n",
              "      <td>0</td>\n",
              "      <td>???</td>\n",
              "      <td>108.32</td>\n",
              "      <td>0.0</td>\n",
              "      <td>356</td>\n",
              "      <td>0.0</td>\n",
              "      <td>108.32</td>\n",
              "      <td>356</td>\n",
              "      <td>...</td>\n",
              "      <td>NaN</td>\n",
              "      <td>NaN</td>\n",
              "      <td>NaN</td>\n",
              "      <td>AMI</td>\n",
              "      <td>ACS</td>\n",
              "      <td>917.0</td>\n",
              "      <td>NaN</td>\n",
              "      <td>NaN</td>\n",
              "      <td>0.0</td>\n",
              "      <td>0.0</td>\n",
              "      <td>NaN</td>\n",
              "      <td>NaN</td>\n",
              "      <td>NaN</td>\n",
              "      <td>0</td>\n",
              "      <td>NaN</td>\n",
              "      <td>NaN</td>\n",
              "      <td>AXASK05AEVV</td>\n",
              "      <td>5.0</td>\n",
              "      <td>NaN</td>\n",
              "      <td>NaN</td>\n",
              "      <td>NaN</td>\n",
              "      <td>102000.95</td>\n",
              "      <td>NaN</td>\n",
              "      <td>NaN</td>\n",
              "      <td>NaN</td>\n",
              "      <td>0</td>\n",
              "      <td>0</td>\n",
              "      <td>NaN</td>\n",
              "      <td>NaN</td>\n",
              "      <td>NaN</td>\n",
              "      <td>???</td>\n",
              "      <td>NaN</td>\n",
              "      <td>NaN</td>\n",
              "      <td>NaN</td>\n",
              "      <td>NaN</td>\n",
              "      <td>NaN</td>\n",
              "      <td>NaN</td>\n",
              "      <td>NaN</td>\n",
              "      <td>NaN</td>\n",
              "      <td>NaN</td>\n",
              "    </tr>\n",
              "    <tr>\n",
              "      <th>3</th>\n",
              "      <td>4</td>\n",
              "      <td>1100</td>\n",
              "      <td>500360094946</td>\n",
              "      <td>94946</td>\n",
              "      <td>20-JUL-18 11.36.09</td>\n",
              "      <td>20-JUL-18 11.36.09</td>\n",
              "      <td>0</td>\n",
              "      <td>3</td>\n",
              "      <td>20-JUL-18 11.36.09</td>\n",
              "      <td>3.871510e+14</td>\n",
              "      <td>NaN</td>\n",
              "      <td>?</td>\n",
              "      <td>?</td>\n",
              "      <td>?</td>\n",
              "      <td>23-JAN-18 19.34.41</td>\n",
              "      <td>01-JAN-23 00.00.00</td>\n",
              "      <td>704684</td>\n",
              "      <td>367123</td>\n",
              "      <td>0</td>\n",
              "      <td>40</td>\n",
              "      <td>0.0</td>\n",
              "      <td>1</td>\n",
              "      <td>0</td>\n",
              "      <td>0</td>\n",
              "      <td>9</td>\n",
              "      <td>4</td>\n",
              "      <td>0</td>\n",
              "      <td>2</td>\n",
              "      <td>0.0</td>\n",
              "      <td>0.0</td>\n",
              "      <td>0.0</td>\n",
              "      <td>1.0</td>\n",
              "      <td>0</td>\n",
              "      <td>???</td>\n",
              "      <td>173.04</td>\n",
              "      <td>0.0</td>\n",
              "      <td>356</td>\n",
              "      <td>0.0</td>\n",
              "      <td>173.04</td>\n",
              "      <td>356</td>\n",
              "      <td>...</td>\n",
              "      <td>NaN</td>\n",
              "      <td>NaN</td>\n",
              "      <td>NaN</td>\n",
              "      <td>AMI</td>\n",
              "      <td>ACS</td>\n",
              "      <td>917.0</td>\n",
              "      <td>NaN</td>\n",
              "      <td>NaN</td>\n",
              "      <td>0.0</td>\n",
              "      <td>0.0</td>\n",
              "      <td>NaN</td>\n",
              "      <td>NaN</td>\n",
              "      <td>NaN</td>\n",
              "      <td>0</td>\n",
              "      <td>NaN</td>\n",
              "      <td>NaN</td>\n",
              "      <td>AXASK05AEVV</td>\n",
              "      <td>5.0</td>\n",
              "      <td>NaN</td>\n",
              "      <td>NaN</td>\n",
              "      <td>NaN</td>\n",
              "      <td>59676.28</td>\n",
              "      <td>NaN</td>\n",
              "      <td>NaN</td>\n",
              "      <td>NaN</td>\n",
              "      <td>0</td>\n",
              "      <td>0</td>\n",
              "      <td>NaN</td>\n",
              "      <td>NaN</td>\n",
              "      <td>NaN</td>\n",
              "      <td>???</td>\n",
              "      <td>NaN</td>\n",
              "      <td>NaN</td>\n",
              "      <td>NaN</td>\n",
              "      <td>NaN</td>\n",
              "      <td>NaN</td>\n",
              "      <td>NaN</td>\n",
              "      <td>NaN</td>\n",
              "      <td>NaN</td>\n",
              "      <td>NaN</td>\n",
              "    </tr>\n",
              "    <tr>\n",
              "      <th>4</th>\n",
              "      <td>5</td>\n",
              "      <td>1100</td>\n",
              "      <td>500360135131</td>\n",
              "      <td>135131</td>\n",
              "      <td>20-JUL-18 11.36.13</td>\n",
              "      <td>20-JUL-18 11.36.13</td>\n",
              "      <td>0</td>\n",
              "      <td>0</td>\n",
              "      <td>20-JUL-18 11.36.13</td>\n",
              "      <td>3.871518e+14</td>\n",
              "      <td>NaN</td>\n",
              "      <td>?</td>\n",
              "      <td>?</td>\n",
              "      <td>?</td>\n",
              "      <td>26-APR-18 19.52.38</td>\n",
              "      <td>01-APR-23 00.00.00</td>\n",
              "      <td>704684</td>\n",
              "      <td>367123</td>\n",
              "      <td>0</td>\n",
              "      <td>40</td>\n",
              "      <td>0.0</td>\n",
              "      <td>1</td>\n",
              "      <td>0</td>\n",
              "      <td>0</td>\n",
              "      <td>9</td>\n",
              "      <td>4</td>\n",
              "      <td>0</td>\n",
              "      <td>2</td>\n",
              "      <td>0.0</td>\n",
              "      <td>0.0</td>\n",
              "      <td>0.0</td>\n",
              "      <td>1.0</td>\n",
              "      <td>0</td>\n",
              "      <td>???</td>\n",
              "      <td>241.00</td>\n",
              "      <td>0.0</td>\n",
              "      <td>356</td>\n",
              "      <td>0.0</td>\n",
              "      <td>241.00</td>\n",
              "      <td>356</td>\n",
              "      <td>...</td>\n",
              "      <td>NaN</td>\n",
              "      <td>NaN</td>\n",
              "      <td>NaN</td>\n",
              "      <td>AMI</td>\n",
              "      <td>ACS</td>\n",
              "      <td>917.0</td>\n",
              "      <td>NaN</td>\n",
              "      <td>NaN</td>\n",
              "      <td>0.0</td>\n",
              "      <td>0.0</td>\n",
              "      <td>NaN</td>\n",
              "      <td>NaN</td>\n",
              "      <td>NaN</td>\n",
              "      <td>0</td>\n",
              "      <td>NaN</td>\n",
              "      <td>NaN</td>\n",
              "      <td>AXASK05AEVV</td>\n",
              "      <td>5.0</td>\n",
              "      <td>NaN</td>\n",
              "      <td>NaN</td>\n",
              "      <td>NaN</td>\n",
              "      <td>50250.00</td>\n",
              "      <td>NaN</td>\n",
              "      <td>NaN</td>\n",
              "      <td>NaN</td>\n",
              "      <td>0</td>\n",
              "      <td>0</td>\n",
              "      <td>NaN</td>\n",
              "      <td>NaN</td>\n",
              "      <td>NaN</td>\n",
              "      <td>???</td>\n",
              "      <td>NaN</td>\n",
              "      <td>NaN</td>\n",
              "      <td>NaN</td>\n",
              "      <td>NaN</td>\n",
              "      <td>NaN</td>\n",
              "      <td>NaN</td>\n",
              "      <td>NaN</td>\n",
              "      <td>NaN</td>\n",
              "      <td>NaN</td>\n",
              "    </tr>\n",
              "  </tbody>\n",
              "</table>\n",
              "<p>5 rows × 120 columns</p>\n",
              "</div>"
            ],
            "text/plain": [
              "   V1    V2            V3      V4  ... V117 V118  V119 V120\n",
              "0   1  1100  500360265637  265637  ...  NaN  NaN   NaN  NaN\n",
              "1   2  1100  500360403436  403436  ...  NaN  NaN   NaN  NaN\n",
              "2   3  1100  500360483836  483836  ...  NaN  NaN   NaN  NaN\n",
              "3   4  1100  500360094946   94946  ...  NaN  NaN   NaN  NaN\n",
              "4   5  1100  500360135131  135131  ...  NaN  NaN   NaN  NaN\n",
              "\n",
              "[5 rows x 120 columns]"
            ]
          },
          "metadata": {
            "tags": []
          },
          "execution_count": 6
        }
      ]
    },
    {
      "cell_type": "code",
      "metadata": {
        "id": "2i57EVgY3G-3",
        "colab_type": "code",
        "outputId": "4f3e5cc4-45e9-498a-93f5-802ff2b2e648",
        "colab": {
          "base_uri": "https://localhost:8080/",
          "height": 34
        }
      },
      "source": [
        "len(data)"
      ],
      "execution_count": 7,
      "outputs": [
        {
          "output_type": "execute_result",
          "data": {
            "text/plain": [
              "65534"
            ]
          },
          "metadata": {
            "tags": []
          },
          "execution_count": 7
        }
      ]
    },
    {
      "cell_type": "code",
      "metadata": {
        "id": "-vcfbaJM-ED6",
        "colab_type": "code",
        "outputId": "036fd603-aa0d-4f98-9922-f5ec8f2bf138",
        "colab": {
          "base_uri": "https://localhost:8080/",
          "height": 413
        }
      },
      "source": [
        "data2=data.copy()\n",
        "data2.head()"
      ],
      "execution_count": 8,
      "outputs": [
        {
          "output_type": "execute_result",
          "data": {
            "text/html": [
              "<div>\n",
              "<style scoped>\n",
              "    .dataframe tbody tr th:only-of-type {\n",
              "        vertical-align: middle;\n",
              "    }\n",
              "\n",
              "    .dataframe tbody tr th {\n",
              "        vertical-align: top;\n",
              "    }\n",
              "\n",
              "    .dataframe thead th {\n",
              "        text-align: right;\n",
              "    }\n",
              "</style>\n",
              "<table border=\"1\" class=\"dataframe\">\n",
              "  <thead>\n",
              "    <tr style=\"text-align: right;\">\n",
              "      <th></th>\n",
              "      <th>V1</th>\n",
              "      <th>V2</th>\n",
              "      <th>V3</th>\n",
              "      <th>V4</th>\n",
              "      <th>V5</th>\n",
              "      <th>V6</th>\n",
              "      <th>V7</th>\n",
              "      <th>V8</th>\n",
              "      <th>V9</th>\n",
              "      <th>V10</th>\n",
              "      <th>V11</th>\n",
              "      <th>V12</th>\n",
              "      <th>V13</th>\n",
              "      <th>V14</th>\n",
              "      <th>V15</th>\n",
              "      <th>V16</th>\n",
              "      <th>V17</th>\n",
              "      <th>V18</th>\n",
              "      <th>V19</th>\n",
              "      <th>V20</th>\n",
              "      <th>V21</th>\n",
              "      <th>V22</th>\n",
              "      <th>V23</th>\n",
              "      <th>V24</th>\n",
              "      <th>V25</th>\n",
              "      <th>V26</th>\n",
              "      <th>V27</th>\n",
              "      <th>V28</th>\n",
              "      <th>V29</th>\n",
              "      <th>V30</th>\n",
              "      <th>V31</th>\n",
              "      <th>V32</th>\n",
              "      <th>V33</th>\n",
              "      <th>V34</th>\n",
              "      <th>V35</th>\n",
              "      <th>V36</th>\n",
              "      <th>V37</th>\n",
              "      <th>V38</th>\n",
              "      <th>V39</th>\n",
              "      <th>V40</th>\n",
              "      <th>...</th>\n",
              "      <th>V81</th>\n",
              "      <th>V82</th>\n",
              "      <th>V83</th>\n",
              "      <th>V84</th>\n",
              "      <th>V85</th>\n",
              "      <th>V86</th>\n",
              "      <th>V87</th>\n",
              "      <th>V88</th>\n",
              "      <th>V89</th>\n",
              "      <th>V90</th>\n",
              "      <th>V91</th>\n",
              "      <th>V92</th>\n",
              "      <th>V93</th>\n",
              "      <th>V94</th>\n",
              "      <th>V95</th>\n",
              "      <th>V96</th>\n",
              "      <th>V97</th>\n",
              "      <th>V98</th>\n",
              "      <th>V99</th>\n",
              "      <th>V100</th>\n",
              "      <th>V101</th>\n",
              "      <th>V102</th>\n",
              "      <th>V103</th>\n",
              "      <th>V104</th>\n",
              "      <th>V105</th>\n",
              "      <th>V106</th>\n",
              "      <th>V107</th>\n",
              "      <th>V108</th>\n",
              "      <th>V109</th>\n",
              "      <th>V110</th>\n",
              "      <th>V111</th>\n",
              "      <th>V112</th>\n",
              "      <th>V113</th>\n",
              "      <th>V114</th>\n",
              "      <th>V115</th>\n",
              "      <th>V116</th>\n",
              "      <th>V117</th>\n",
              "      <th>V118</th>\n",
              "      <th>V119</th>\n",
              "      <th>V120</th>\n",
              "    </tr>\n",
              "  </thead>\n",
              "  <tbody>\n",
              "    <tr>\n",
              "      <th>0</th>\n",
              "      <td>1</td>\n",
              "      <td>1100</td>\n",
              "      <td>500360265637</td>\n",
              "      <td>265637</td>\n",
              "      <td>20-JUL-18 11.34.26</td>\n",
              "      <td>20-JUL-18 11.34.26</td>\n",
              "      <td>0</td>\n",
              "      <td>0</td>\n",
              "      <td>20-JUL-18 11.34.27</td>\n",
              "      <td>3.871512e+14</td>\n",
              "      <td>NaN</td>\n",
              "      <td>?</td>\n",
              "      <td>?</td>\n",
              "      <td>?</td>\n",
              "      <td>29-MAR-16 09.02.47</td>\n",
              "      <td>01-MAR-20 00.00.00</td>\n",
              "      <td>704684</td>\n",
              "      <td>367123</td>\n",
              "      <td>0</td>\n",
              "      <td>40</td>\n",
              "      <td>0.0</td>\n",
              "      <td>1</td>\n",
              "      <td>0</td>\n",
              "      <td>0</td>\n",
              "      <td>9</td>\n",
              "      <td>4</td>\n",
              "      <td>0</td>\n",
              "      <td>2</td>\n",
              "      <td>0.0</td>\n",
              "      <td>0.0</td>\n",
              "      <td>0.0</td>\n",
              "      <td>1.0</td>\n",
              "      <td>0</td>\n",
              "      <td>???</td>\n",
              "      <td>220.00</td>\n",
              "      <td>0.0</td>\n",
              "      <td>356</td>\n",
              "      <td>0.0</td>\n",
              "      <td>220.00</td>\n",
              "      <td>356</td>\n",
              "      <td>...</td>\n",
              "      <td>NaN</td>\n",
              "      <td>NaN</td>\n",
              "      <td>NaN</td>\n",
              "      <td>AMI</td>\n",
              "      <td>ACS</td>\n",
              "      <td>784.0</td>\n",
              "      <td>NaN</td>\n",
              "      <td>NaN</td>\n",
              "      <td>0.0</td>\n",
              "      <td>0.0</td>\n",
              "      <td>NaN</td>\n",
              "      <td>NaN</td>\n",
              "      <td>NaN</td>\n",
              "      <td>0</td>\n",
              "      <td>NaN</td>\n",
              "      <td>NaN</td>\n",
              "      <td>AXASK05AEVV</td>\n",
              "      <td>5.0</td>\n",
              "      <td>NaN</td>\n",
              "      <td>NaN</td>\n",
              "      <td>NaN</td>\n",
              "      <td>485855.29</td>\n",
              "      <td>NaN</td>\n",
              "      <td>NaN</td>\n",
              "      <td>NaN</td>\n",
              "      <td>0</td>\n",
              "      <td>0</td>\n",
              "      <td>NaN</td>\n",
              "      <td>NaN</td>\n",
              "      <td>NaN</td>\n",
              "      <td>???</td>\n",
              "      <td>NaN</td>\n",
              "      <td>NaN</td>\n",
              "      <td>NaN</td>\n",
              "      <td>NaN</td>\n",
              "      <td>NaN</td>\n",
              "      <td>NaN</td>\n",
              "      <td>NaN</td>\n",
              "      <td>NaN</td>\n",
              "      <td>NaN</td>\n",
              "    </tr>\n",
              "    <tr>\n",
              "      <th>1</th>\n",
              "      <td>2</td>\n",
              "      <td>1100</td>\n",
              "      <td>500360403436</td>\n",
              "      <td>403436</td>\n",
              "      <td>20-JUL-18 11.35.39</td>\n",
              "      <td>20-JUL-18 11.35.39</td>\n",
              "      <td>0</td>\n",
              "      <td>0</td>\n",
              "      <td>20-JUL-18 11.35.39</td>\n",
              "      <td>3.871513e+14</td>\n",
              "      <td>NaN</td>\n",
              "      <td>?</td>\n",
              "      <td>?</td>\n",
              "      <td>?</td>\n",
              "      <td>03-SEP-16 19.58.40</td>\n",
              "      <td>01-SEP-20 00.00.00</td>\n",
              "      <td>704684</td>\n",
              "      <td>367123</td>\n",
              "      <td>0</td>\n",
              "      <td>40</td>\n",
              "      <td>0.0</td>\n",
              "      <td>1</td>\n",
              "      <td>0</td>\n",
              "      <td>0</td>\n",
              "      <td>9</td>\n",
              "      <td>1</td>\n",
              "      <td>0</td>\n",
              "      <td>2</td>\n",
              "      <td>0.0</td>\n",
              "      <td>0.0</td>\n",
              "      <td>0.0</td>\n",
              "      <td>1.0</td>\n",
              "      <td>0</td>\n",
              "      <td>???</td>\n",
              "      <td>42.00</td>\n",
              "      <td>0.0</td>\n",
              "      <td>356</td>\n",
              "      <td>0.0</td>\n",
              "      <td>42.00</td>\n",
              "      <td>356</td>\n",
              "      <td>...</td>\n",
              "      <td>NaN</td>\n",
              "      <td>NaN</td>\n",
              "      <td>NaN</td>\n",
              "      <td>AMI</td>\n",
              "      <td>ACS</td>\n",
              "      <td>26.0</td>\n",
              "      <td>NaN</td>\n",
              "      <td>NaN</td>\n",
              "      <td>0.0</td>\n",
              "      <td>0.0</td>\n",
              "      <td>NaN</td>\n",
              "      <td>NaN</td>\n",
              "      <td>NaN</td>\n",
              "      <td>0</td>\n",
              "      <td>NaN</td>\n",
              "      <td>NaN</td>\n",
              "      <td>AXASK05AEVV</td>\n",
              "      <td>5.0</td>\n",
              "      <td>NaN</td>\n",
              "      <td>NaN</td>\n",
              "      <td>NaN</td>\n",
              "      <td>117389.06</td>\n",
              "      <td>NaN</td>\n",
              "      <td>NaN</td>\n",
              "      <td>NaN</td>\n",
              "      <td>0</td>\n",
              "      <td>0</td>\n",
              "      <td>NaN</td>\n",
              "      <td>NaN</td>\n",
              "      <td>NaN</td>\n",
              "      <td>???</td>\n",
              "      <td>NaN</td>\n",
              "      <td>NaN</td>\n",
              "      <td>NaN</td>\n",
              "      <td>NaN</td>\n",
              "      <td>NaN</td>\n",
              "      <td>NaN</td>\n",
              "      <td>NaN</td>\n",
              "      <td>NaN</td>\n",
              "      <td>NaN</td>\n",
              "    </tr>\n",
              "    <tr>\n",
              "      <th>2</th>\n",
              "      <td>3</td>\n",
              "      <td>1100</td>\n",
              "      <td>500360483836</td>\n",
              "      <td>483836</td>\n",
              "      <td>20-JUL-18 11.35.48</td>\n",
              "      <td>20-JUL-18 11.35.48</td>\n",
              "      <td>0</td>\n",
              "      <td>0</td>\n",
              "      <td>20-JUL-18 11.35.48</td>\n",
              "      <td>3.871510e+14</td>\n",
              "      <td>NaN</td>\n",
              "      <td>?</td>\n",
              "      <td>?</td>\n",
              "      <td>?</td>\n",
              "      <td>02-DEC-17 19.48.22</td>\n",
              "      <td>01-DEC-22 00.00.00</td>\n",
              "      <td>704684</td>\n",
              "      <td>367123</td>\n",
              "      <td>0</td>\n",
              "      <td>40</td>\n",
              "      <td>0.0</td>\n",
              "      <td>1</td>\n",
              "      <td>0</td>\n",
              "      <td>0</td>\n",
              "      <td>9</td>\n",
              "      <td>4</td>\n",
              "      <td>0</td>\n",
              "      <td>2</td>\n",
              "      <td>0.0</td>\n",
              "      <td>0.0</td>\n",
              "      <td>0.0</td>\n",
              "      <td>1.0</td>\n",
              "      <td>0</td>\n",
              "      <td>???</td>\n",
              "      <td>108.32</td>\n",
              "      <td>0.0</td>\n",
              "      <td>356</td>\n",
              "      <td>0.0</td>\n",
              "      <td>108.32</td>\n",
              "      <td>356</td>\n",
              "      <td>...</td>\n",
              "      <td>NaN</td>\n",
              "      <td>NaN</td>\n",
              "      <td>NaN</td>\n",
              "      <td>AMI</td>\n",
              "      <td>ACS</td>\n",
              "      <td>917.0</td>\n",
              "      <td>NaN</td>\n",
              "      <td>NaN</td>\n",
              "      <td>0.0</td>\n",
              "      <td>0.0</td>\n",
              "      <td>NaN</td>\n",
              "      <td>NaN</td>\n",
              "      <td>NaN</td>\n",
              "      <td>0</td>\n",
              "      <td>NaN</td>\n",
              "      <td>NaN</td>\n",
              "      <td>AXASK05AEVV</td>\n",
              "      <td>5.0</td>\n",
              "      <td>NaN</td>\n",
              "      <td>NaN</td>\n",
              "      <td>NaN</td>\n",
              "      <td>102000.95</td>\n",
              "      <td>NaN</td>\n",
              "      <td>NaN</td>\n",
              "      <td>NaN</td>\n",
              "      <td>0</td>\n",
              "      <td>0</td>\n",
              "      <td>NaN</td>\n",
              "      <td>NaN</td>\n",
              "      <td>NaN</td>\n",
              "      <td>???</td>\n",
              "      <td>NaN</td>\n",
              "      <td>NaN</td>\n",
              "      <td>NaN</td>\n",
              "      <td>NaN</td>\n",
              "      <td>NaN</td>\n",
              "      <td>NaN</td>\n",
              "      <td>NaN</td>\n",
              "      <td>NaN</td>\n",
              "      <td>NaN</td>\n",
              "    </tr>\n",
              "    <tr>\n",
              "      <th>3</th>\n",
              "      <td>4</td>\n",
              "      <td>1100</td>\n",
              "      <td>500360094946</td>\n",
              "      <td>94946</td>\n",
              "      <td>20-JUL-18 11.36.09</td>\n",
              "      <td>20-JUL-18 11.36.09</td>\n",
              "      <td>0</td>\n",
              "      <td>3</td>\n",
              "      <td>20-JUL-18 11.36.09</td>\n",
              "      <td>3.871510e+14</td>\n",
              "      <td>NaN</td>\n",
              "      <td>?</td>\n",
              "      <td>?</td>\n",
              "      <td>?</td>\n",
              "      <td>23-JAN-18 19.34.41</td>\n",
              "      <td>01-JAN-23 00.00.00</td>\n",
              "      <td>704684</td>\n",
              "      <td>367123</td>\n",
              "      <td>0</td>\n",
              "      <td>40</td>\n",
              "      <td>0.0</td>\n",
              "      <td>1</td>\n",
              "      <td>0</td>\n",
              "      <td>0</td>\n",
              "      <td>9</td>\n",
              "      <td>4</td>\n",
              "      <td>0</td>\n",
              "      <td>2</td>\n",
              "      <td>0.0</td>\n",
              "      <td>0.0</td>\n",
              "      <td>0.0</td>\n",
              "      <td>1.0</td>\n",
              "      <td>0</td>\n",
              "      <td>???</td>\n",
              "      <td>173.04</td>\n",
              "      <td>0.0</td>\n",
              "      <td>356</td>\n",
              "      <td>0.0</td>\n",
              "      <td>173.04</td>\n",
              "      <td>356</td>\n",
              "      <td>...</td>\n",
              "      <td>NaN</td>\n",
              "      <td>NaN</td>\n",
              "      <td>NaN</td>\n",
              "      <td>AMI</td>\n",
              "      <td>ACS</td>\n",
              "      <td>917.0</td>\n",
              "      <td>NaN</td>\n",
              "      <td>NaN</td>\n",
              "      <td>0.0</td>\n",
              "      <td>0.0</td>\n",
              "      <td>NaN</td>\n",
              "      <td>NaN</td>\n",
              "      <td>NaN</td>\n",
              "      <td>0</td>\n",
              "      <td>NaN</td>\n",
              "      <td>NaN</td>\n",
              "      <td>AXASK05AEVV</td>\n",
              "      <td>5.0</td>\n",
              "      <td>NaN</td>\n",
              "      <td>NaN</td>\n",
              "      <td>NaN</td>\n",
              "      <td>59676.28</td>\n",
              "      <td>NaN</td>\n",
              "      <td>NaN</td>\n",
              "      <td>NaN</td>\n",
              "      <td>0</td>\n",
              "      <td>0</td>\n",
              "      <td>NaN</td>\n",
              "      <td>NaN</td>\n",
              "      <td>NaN</td>\n",
              "      <td>???</td>\n",
              "      <td>NaN</td>\n",
              "      <td>NaN</td>\n",
              "      <td>NaN</td>\n",
              "      <td>NaN</td>\n",
              "      <td>NaN</td>\n",
              "      <td>NaN</td>\n",
              "      <td>NaN</td>\n",
              "      <td>NaN</td>\n",
              "      <td>NaN</td>\n",
              "    </tr>\n",
              "    <tr>\n",
              "      <th>4</th>\n",
              "      <td>5</td>\n",
              "      <td>1100</td>\n",
              "      <td>500360135131</td>\n",
              "      <td>135131</td>\n",
              "      <td>20-JUL-18 11.36.13</td>\n",
              "      <td>20-JUL-18 11.36.13</td>\n",
              "      <td>0</td>\n",
              "      <td>0</td>\n",
              "      <td>20-JUL-18 11.36.13</td>\n",
              "      <td>3.871518e+14</td>\n",
              "      <td>NaN</td>\n",
              "      <td>?</td>\n",
              "      <td>?</td>\n",
              "      <td>?</td>\n",
              "      <td>26-APR-18 19.52.38</td>\n",
              "      <td>01-APR-23 00.00.00</td>\n",
              "      <td>704684</td>\n",
              "      <td>367123</td>\n",
              "      <td>0</td>\n",
              "      <td>40</td>\n",
              "      <td>0.0</td>\n",
              "      <td>1</td>\n",
              "      <td>0</td>\n",
              "      <td>0</td>\n",
              "      <td>9</td>\n",
              "      <td>4</td>\n",
              "      <td>0</td>\n",
              "      <td>2</td>\n",
              "      <td>0.0</td>\n",
              "      <td>0.0</td>\n",
              "      <td>0.0</td>\n",
              "      <td>1.0</td>\n",
              "      <td>0</td>\n",
              "      <td>???</td>\n",
              "      <td>241.00</td>\n",
              "      <td>0.0</td>\n",
              "      <td>356</td>\n",
              "      <td>0.0</td>\n",
              "      <td>241.00</td>\n",
              "      <td>356</td>\n",
              "      <td>...</td>\n",
              "      <td>NaN</td>\n",
              "      <td>NaN</td>\n",
              "      <td>NaN</td>\n",
              "      <td>AMI</td>\n",
              "      <td>ACS</td>\n",
              "      <td>917.0</td>\n",
              "      <td>NaN</td>\n",
              "      <td>NaN</td>\n",
              "      <td>0.0</td>\n",
              "      <td>0.0</td>\n",
              "      <td>NaN</td>\n",
              "      <td>NaN</td>\n",
              "      <td>NaN</td>\n",
              "      <td>0</td>\n",
              "      <td>NaN</td>\n",
              "      <td>NaN</td>\n",
              "      <td>AXASK05AEVV</td>\n",
              "      <td>5.0</td>\n",
              "      <td>NaN</td>\n",
              "      <td>NaN</td>\n",
              "      <td>NaN</td>\n",
              "      <td>50250.00</td>\n",
              "      <td>NaN</td>\n",
              "      <td>NaN</td>\n",
              "      <td>NaN</td>\n",
              "      <td>0</td>\n",
              "      <td>0</td>\n",
              "      <td>NaN</td>\n",
              "      <td>NaN</td>\n",
              "      <td>NaN</td>\n",
              "      <td>???</td>\n",
              "      <td>NaN</td>\n",
              "      <td>NaN</td>\n",
              "      <td>NaN</td>\n",
              "      <td>NaN</td>\n",
              "      <td>NaN</td>\n",
              "      <td>NaN</td>\n",
              "      <td>NaN</td>\n",
              "      <td>NaN</td>\n",
              "      <td>NaN</td>\n",
              "    </tr>\n",
              "  </tbody>\n",
              "</table>\n",
              "<p>5 rows × 120 columns</p>\n",
              "</div>"
            ],
            "text/plain": [
              "   V1    V2            V3      V4  ... V117 V118  V119 V120\n",
              "0   1  1100  500360265637  265637  ...  NaN  NaN   NaN  NaN\n",
              "1   2  1100  500360403436  403436  ...  NaN  NaN   NaN  NaN\n",
              "2   3  1100  500360483836  483836  ...  NaN  NaN   NaN  NaN\n",
              "3   4  1100  500360094946   94946  ...  NaN  NaN   NaN  NaN\n",
              "4   5  1100  500360135131  135131  ...  NaN  NaN   NaN  NaN\n",
              "\n",
              "[5 rows x 120 columns]"
            ]
          },
          "metadata": {
            "tags": []
          },
          "execution_count": 8
        }
      ]
    },
    {
      "cell_type": "markdown",
      "metadata": {
        "id": "kTP93pStWOth",
        "colab_type": "text"
      },
      "source": [
        "##### **Function to find categorical variables**"
      ]
    },
    {
      "cell_type": "code",
      "metadata": {
        "id": "flKQ9PcE3HCb",
        "colab_type": "code",
        "colab": {}
      },
      "source": [
        "#Function to find if a column is categorical or not and assign numerical encoding to it\n",
        "def check_categorical(l):\n",
        "  if(len(set(l))==(len(l))):\n",
        "    return False, l\n",
        "  elif(len(set(l))==1):\n",
        "    return False, l\n",
        "  else :\n",
        "    l = np.array(l)\n",
        "    c=0\n",
        "    for i in set(l):\n",
        "      l[np.where(l == i)] = c\n",
        "      c=c+1\n",
        "    return True, l"
      ],
      "execution_count": 0,
      "outputs": []
    },
    {
      "cell_type": "markdown",
      "metadata": {
        "id": "UnpeRUDjWhqt",
        "colab_type": "text"
      },
      "source": [
        "##### **Finding categorical variables for 'all_txns.csv'**"
      ]
    },
    {
      "cell_type": "code",
      "metadata": {
        "id": "xF9yneu-lmFB",
        "colab_type": "code",
        "colab": {}
      },
      "source": [
        "names = list(data2.columns)\n",
        "removable_indices =[]\n",
        "for col in data2.columns:\n",
        "  ## Removing columns that have NaNs\n",
        "  if(data2[col].isnull().sum()>0):\n",
        "    removable_indices.append(col)\n",
        "  ## Removing columns that have object data type such as date object or filled with '???'\n",
        "  if(data2[col].dtype.name == 'object'):\n",
        "    removable_indices.append(col)"
      ],
      "execution_count": 0,
      "outputs": []
    },
    {
      "cell_type": "code",
      "metadata": {
        "id": "TkQ1DmpFmFDu",
        "colab_type": "code",
        "colab": {}
      },
      "source": [
        "removable_indices = set(removable_indices)\n",
        "data2 = data2.drop(removable_indices,1)"
      ],
      "execution_count": 0,
      "outputs": []
    },
    {
      "cell_type": "code",
      "metadata": {
        "id": "Evl4tWPAmB62",
        "colab_type": "code",
        "colab": {
          "base_uri": "https://localhost:8080/",
          "height": 217
        },
        "outputId": "02934649-a821-4d09-e8a5-40941bcb2867"
      },
      "source": [
        "data2.head()"
      ],
      "execution_count": 12,
      "outputs": [
        {
          "output_type": "execute_result",
          "data": {
            "text/html": [
              "<div>\n",
              "<style scoped>\n",
              "    .dataframe tbody tr th:only-of-type {\n",
              "        vertical-align: middle;\n",
              "    }\n",
              "\n",
              "    .dataframe tbody tr th {\n",
              "        vertical-align: top;\n",
              "    }\n",
              "\n",
              "    .dataframe thead th {\n",
              "        text-align: right;\n",
              "    }\n",
              "</style>\n",
              "<table border=\"1\" class=\"dataframe\">\n",
              "  <thead>\n",
              "    <tr style=\"text-align: right;\">\n",
              "      <th></th>\n",
              "      <th>V1</th>\n",
              "      <th>V2</th>\n",
              "      <th>V4</th>\n",
              "      <th>V7</th>\n",
              "      <th>V10</th>\n",
              "      <th>V17</th>\n",
              "      <th>V18</th>\n",
              "      <th>V19</th>\n",
              "      <th>V20</th>\n",
              "      <th>V22</th>\n",
              "      <th>V25</th>\n",
              "      <th>V27</th>\n",
              "      <th>V35</th>\n",
              "      <th>V37</th>\n",
              "      <th>V38</th>\n",
              "      <th>V39</th>\n",
              "      <th>V41</th>\n",
              "      <th>V43</th>\n",
              "      <th>V47</th>\n",
              "      <th>V49</th>\n",
              "      <th>V50</th>\n",
              "      <th>V55</th>\n",
              "      <th>V59</th>\n",
              "      <th>V61</th>\n",
              "      <th>V62</th>\n",
              "      <th>V66</th>\n",
              "      <th>V67</th>\n",
              "      <th>V68</th>\n",
              "      <th>V69</th>\n",
              "      <th>V70</th>\n",
              "      <th>V71</th>\n",
              "      <th>V72</th>\n",
              "      <th>V106</th>\n",
              "      <th>V107</th>\n",
              "    </tr>\n",
              "  </thead>\n",
              "  <tbody>\n",
              "    <tr>\n",
              "      <th>0</th>\n",
              "      <td>1</td>\n",
              "      <td>1100</td>\n",
              "      <td>265637</td>\n",
              "      <td>0</td>\n",
              "      <td>3.871512e+14</td>\n",
              "      <td>704684</td>\n",
              "      <td>367123</td>\n",
              "      <td>0</td>\n",
              "      <td>40</td>\n",
              "      <td>1</td>\n",
              "      <td>9</td>\n",
              "      <td>0</td>\n",
              "      <td>220.00</td>\n",
              "      <td>356</td>\n",
              "      <td>0.0</td>\n",
              "      <td>220.00</td>\n",
              "      <td>0.0</td>\n",
              "      <td>215.89</td>\n",
              "      <td>0</td>\n",
              "      <td>356</td>\n",
              "      <td>123456</td>\n",
              "      <td>4722</td>\n",
              "      <td>6</td>\n",
              "      <td>0</td>\n",
              "      <td>4</td>\n",
              "      <td>4</td>\n",
              "      <td>1</td>\n",
              "      <td>0</td>\n",
              "      <td>1</td>\n",
              "      <td>1</td>\n",
              "      <td>0</td>\n",
              "      <td>200</td>\n",
              "      <td>0</td>\n",
              "      <td>0</td>\n",
              "    </tr>\n",
              "    <tr>\n",
              "      <th>1</th>\n",
              "      <td>2</td>\n",
              "      <td>1100</td>\n",
              "      <td>403436</td>\n",
              "      <td>0</td>\n",
              "      <td>3.871513e+14</td>\n",
              "      <td>704684</td>\n",
              "      <td>367123</td>\n",
              "      <td>0</td>\n",
              "      <td>40</td>\n",
              "      <td>1</td>\n",
              "      <td>9</td>\n",
              "      <td>0</td>\n",
              "      <td>42.00</td>\n",
              "      <td>356</td>\n",
              "      <td>0.0</td>\n",
              "      <td>42.00</td>\n",
              "      <td>0.0</td>\n",
              "      <td>41.21</td>\n",
              "      <td>0</td>\n",
              "      <td>356</td>\n",
              "      <td>123456</td>\n",
              "      <td>4722</td>\n",
              "      <td>6</td>\n",
              "      <td>0</td>\n",
              "      <td>4</td>\n",
              "      <td>4</td>\n",
              "      <td>1</td>\n",
              "      <td>0</td>\n",
              "      <td>1</td>\n",
              "      <td>1</td>\n",
              "      <td>0</td>\n",
              "      <td>200</td>\n",
              "      <td>0</td>\n",
              "      <td>0</td>\n",
              "    </tr>\n",
              "    <tr>\n",
              "      <th>2</th>\n",
              "      <td>3</td>\n",
              "      <td>1100</td>\n",
              "      <td>483836</td>\n",
              "      <td>0</td>\n",
              "      <td>3.871510e+14</td>\n",
              "      <td>704684</td>\n",
              "      <td>367123</td>\n",
              "      <td>0</td>\n",
              "      <td>40</td>\n",
              "      <td>1</td>\n",
              "      <td>9</td>\n",
              "      <td>0</td>\n",
              "      <td>108.32</td>\n",
              "      <td>356</td>\n",
              "      <td>0.0</td>\n",
              "      <td>108.32</td>\n",
              "      <td>0.0</td>\n",
              "      <td>106.40</td>\n",
              "      <td>0</td>\n",
              "      <td>356</td>\n",
              "      <td>123456</td>\n",
              "      <td>7399</td>\n",
              "      <td>6</td>\n",
              "      <td>0</td>\n",
              "      <td>4</td>\n",
              "      <td>4</td>\n",
              "      <td>1</td>\n",
              "      <td>0</td>\n",
              "      <td>1</td>\n",
              "      <td>1</td>\n",
              "      <td>0</td>\n",
              "      <td>200</td>\n",
              "      <td>0</td>\n",
              "      <td>0</td>\n",
              "    </tr>\n",
              "    <tr>\n",
              "      <th>3</th>\n",
              "      <td>4</td>\n",
              "      <td>1100</td>\n",
              "      <td>94946</td>\n",
              "      <td>0</td>\n",
              "      <td>3.871510e+14</td>\n",
              "      <td>704684</td>\n",
              "      <td>367123</td>\n",
              "      <td>0</td>\n",
              "      <td>40</td>\n",
              "      <td>1</td>\n",
              "      <td>9</td>\n",
              "      <td>0</td>\n",
              "      <td>173.04</td>\n",
              "      <td>356</td>\n",
              "      <td>0.0</td>\n",
              "      <td>173.04</td>\n",
              "      <td>0.0</td>\n",
              "      <td>169.98</td>\n",
              "      <td>0</td>\n",
              "      <td>356</td>\n",
              "      <td>123456</td>\n",
              "      <td>7399</td>\n",
              "      <td>6</td>\n",
              "      <td>0</td>\n",
              "      <td>4</td>\n",
              "      <td>4</td>\n",
              "      <td>1</td>\n",
              "      <td>0</td>\n",
              "      <td>1</td>\n",
              "      <td>1</td>\n",
              "      <td>0</td>\n",
              "      <td>200</td>\n",
              "      <td>0</td>\n",
              "      <td>0</td>\n",
              "    </tr>\n",
              "    <tr>\n",
              "      <th>4</th>\n",
              "      <td>5</td>\n",
              "      <td>1100</td>\n",
              "      <td>135131</td>\n",
              "      <td>0</td>\n",
              "      <td>3.871518e+14</td>\n",
              "      <td>704684</td>\n",
              "      <td>367123</td>\n",
              "      <td>0</td>\n",
              "      <td>40</td>\n",
              "      <td>1</td>\n",
              "      <td>9</td>\n",
              "      <td>0</td>\n",
              "      <td>241.00</td>\n",
              "      <td>356</td>\n",
              "      <td>0.0</td>\n",
              "      <td>241.00</td>\n",
              "      <td>0.0</td>\n",
              "      <td>236.73</td>\n",
              "      <td>0</td>\n",
              "      <td>356</td>\n",
              "      <td>123456</td>\n",
              "      <td>7399</td>\n",
              "      <td>6</td>\n",
              "      <td>0</td>\n",
              "      <td>4</td>\n",
              "      <td>4</td>\n",
              "      <td>1</td>\n",
              "      <td>0</td>\n",
              "      <td>1</td>\n",
              "      <td>1</td>\n",
              "      <td>0</td>\n",
              "      <td>200</td>\n",
              "      <td>0</td>\n",
              "      <td>0</td>\n",
              "    </tr>\n",
              "  </tbody>\n",
              "</table>\n",
              "</div>"
            ],
            "text/plain": [
              "   V1    V2      V4  V7           V10     V17  ...  V69  V70  V71  V72  V106  V107\n",
              "0   1  1100  265637   0  3.871512e+14  704684  ...    1    1    0  200     0     0\n",
              "1   2  1100  403436   0  3.871513e+14  704684  ...    1    1    0  200     0     0\n",
              "2   3  1100  483836   0  3.871510e+14  704684  ...    1    1    0  200     0     0\n",
              "3   4  1100   94946   0  3.871510e+14  704684  ...    1    1    0  200     0     0\n",
              "4   5  1100  135131   0  3.871518e+14  704684  ...    1    1    0  200     0     0\n",
              "\n",
              "[5 rows x 34 columns]"
            ]
          },
          "metadata": {
            "tags": []
          },
          "execution_count": 12
        }
      ]
    },
    {
      "cell_type": "code",
      "metadata": {
        "id": "k0nEZnh4mkUp",
        "colab_type": "code",
        "colab": {
          "base_uri": "https://localhost:8080/",
          "height": 34
        },
        "outputId": "6381c4ad-4ca9-4d12-a2b9-f2052e6fb364"
      },
      "source": [
        "data2.shape"
      ],
      "execution_count": 13,
      "outputs": [
        {
          "output_type": "execute_result",
          "data": {
            "text/plain": [
              "(65534, 34)"
            ]
          },
          "metadata": {
            "tags": []
          },
          "execution_count": 13
        }
      ]
    },
    {
      "cell_type": "code",
      "metadata": {
        "id": "KV9BybTF76E3",
        "colab_type": "code",
        "outputId": "a64f5027-b384-45ed-a707-2d2be075e408",
        "colab": {
          "base_uri": "https://localhost:8080/",
          "height": 638
        }
      },
      "source": [
        "start_time = time.time()\n",
        "names = list(data2.columns)\n",
        "for col in data2.columns:\n",
        "  print(col)\n",
        "  bool, new_col = check_categorical(list(data2[col]))\n",
        "  if(bool == True):\n",
        "    ## Changing categorical columns to encoded columns\n",
        "    data2[col] = new_col\n",
        "data2.head()\n",
        "end_time = time.time()\n",
        "print(\"Time taken to find and encode categorical columns : {} seconds\".format(end_time-start_time))"
      ],
      "execution_count": 14,
      "outputs": [
        {
          "output_type": "stream",
          "text": [
            "V1\n",
            "V2\n",
            "V4\n",
            "V7\n",
            "V10\n",
            "V17\n",
            "V18\n",
            "V19\n",
            "V20\n",
            "V22\n",
            "V25\n",
            "V27\n",
            "V35\n",
            "V37\n",
            "V38\n",
            "V39\n",
            "V41\n",
            "V43\n",
            "V47\n",
            "V49\n",
            "V50\n",
            "V55\n",
            "V59\n",
            "V61\n",
            "V62\n",
            "V66\n",
            "V67\n",
            "V68\n",
            "V69\n",
            "V70\n",
            "V71\n",
            "V72\n",
            "V106\n",
            "V107\n",
            "Time taken to find and encode categorical columns : 6.070633411407471 seconds\n"
          ],
          "name": "stdout"
        }
      ]
    },
    {
      "cell_type": "markdown",
      "metadata": {
        "id": "hhbR9hZyiJhM",
        "colab_type": "text"
      },
      "source": [
        "##### Time taken is around 8 seconds"
      ]
    },
    {
      "cell_type": "markdown",
      "metadata": {
        "id": "q86BHSGWYCHp",
        "colab_type": "text"
      },
      "source": [
        "##### **Writing encoded dataframe to google drive to be used directly for future purposes**"
      ]
    },
    {
      "cell_type": "code",
      "metadata": {
        "id": "P-2oQ4LrJjde",
        "colab_type": "code",
        "colab": {}
      },
      "source": [
        "data2.to_csv('data2.csv')\n",
        "!cp data2.csv /gdrive/My\\ Drive/encoded_data.csv"
      ],
      "execution_count": 0,
      "outputs": []
    },
    {
      "cell_type": "markdown",
      "metadata": {
        "id": "OQi24AtZQLI3",
        "colab_type": "text"
      },
      "source": [
        "##### **From now on we will be using encoded_data.csv for our purposes**"
      ]
    },
    {
      "cell_type": "code",
      "metadata": {
        "id": "X6HZsXgGQRJB",
        "colab_type": "code",
        "colab": {}
      },
      "source": [
        "encoded = pd.read_csv(\"/gdrive/My Drive/encoded_data.csv\")"
      ],
      "execution_count": 0,
      "outputs": []
    },
    {
      "cell_type": "code",
      "metadata": {
        "id": "_G6xI7hQTVb7",
        "colab_type": "code",
        "colab": {}
      },
      "source": [
        "## Dropping non-numeric columns after encoding \n",
        "for col in encoded.columns:\n",
        "  if(is_numeric_dtype(encoded[col])== False):\n",
        "    encoded = encoded.drop(col, 1)\n"
      ],
      "execution_count": 0,
      "outputs": []
    },
    {
      "cell_type": "code",
      "metadata": {
        "id": "xzXXu5t-W8Cc",
        "colab_type": "code",
        "outputId": "3bc2fe3d-702d-485a-f3f7-25dc16ea0efd",
        "colab": {
          "base_uri": "https://localhost:8080/",
          "height": 234
        }
      },
      "source": [
        "encoded.head()"
      ],
      "execution_count": 18,
      "outputs": [
        {
          "output_type": "execute_result",
          "data": {
            "text/html": [
              "<div>\n",
              "<style scoped>\n",
              "    .dataframe tbody tr th:only-of-type {\n",
              "        vertical-align: middle;\n",
              "    }\n",
              "\n",
              "    .dataframe tbody tr th {\n",
              "        vertical-align: top;\n",
              "    }\n",
              "\n",
              "    .dataframe thead th {\n",
              "        text-align: right;\n",
              "    }\n",
              "</style>\n",
              "<table border=\"1\" class=\"dataframe\">\n",
              "  <thead>\n",
              "    <tr style=\"text-align: right;\">\n",
              "      <th></th>\n",
              "      <th>Unnamed: 0</th>\n",
              "      <th>V1</th>\n",
              "      <th>V2</th>\n",
              "      <th>V4</th>\n",
              "      <th>V7</th>\n",
              "      <th>V10</th>\n",
              "      <th>V17</th>\n",
              "      <th>V18</th>\n",
              "      <th>V19</th>\n",
              "      <th>V20</th>\n",
              "      <th>V22</th>\n",
              "      <th>V25</th>\n",
              "      <th>V27</th>\n",
              "      <th>V35</th>\n",
              "      <th>V37</th>\n",
              "      <th>V38</th>\n",
              "      <th>V39</th>\n",
              "      <th>V41</th>\n",
              "      <th>V43</th>\n",
              "      <th>V47</th>\n",
              "      <th>V49</th>\n",
              "      <th>V50</th>\n",
              "      <th>V55</th>\n",
              "      <th>V59</th>\n",
              "      <th>V61</th>\n",
              "      <th>V62</th>\n",
              "      <th>V66</th>\n",
              "      <th>V67</th>\n",
              "      <th>V68</th>\n",
              "      <th>V69</th>\n",
              "      <th>V70</th>\n",
              "      <th>V71</th>\n",
              "      <th>V72</th>\n",
              "      <th>V106</th>\n",
              "      <th>V107</th>\n",
              "    </tr>\n",
              "  </thead>\n",
              "  <tbody>\n",
              "    <tr>\n",
              "      <th>0</th>\n",
              "      <td>0</td>\n",
              "      <td>1</td>\n",
              "      <td>1</td>\n",
              "      <td>1984</td>\n",
              "      <td>0</td>\n",
              "      <td>13343.0</td>\n",
              "      <td>704684</td>\n",
              "      <td>4</td>\n",
              "      <td>0</td>\n",
              "      <td>1</td>\n",
              "      <td>1</td>\n",
              "      <td>5</td>\n",
              "      <td>0</td>\n",
              "      <td>220.0</td>\n",
              "      <td>38</td>\n",
              "      <td>0.0</td>\n",
              "      <td>220.0</td>\n",
              "      <td>0.0</td>\n",
              "      <td>5447.0</td>\n",
              "      <td>0</td>\n",
              "      <td>53</td>\n",
              "      <td>120</td>\n",
              "      <td>66</td>\n",
              "      <td>1</td>\n",
              "      <td>0</td>\n",
              "      <td>0</td>\n",
              "      <td>1</td>\n",
              "      <td>1</td>\n",
              "      <td>0</td>\n",
              "      <td>1</td>\n",
              "      <td>1</td>\n",
              "      <td>0</td>\n",
              "      <td>200</td>\n",
              "      <td>0</td>\n",
              "      <td>0</td>\n",
              "    </tr>\n",
              "    <tr>\n",
              "      <th>1</th>\n",
              "      <td>1</td>\n",
              "      <td>2</td>\n",
              "      <td>1</td>\n",
              "      <td>5531</td>\n",
              "      <td>0</td>\n",
              "      <td>21775.0</td>\n",
              "      <td>704684</td>\n",
              "      <td>4</td>\n",
              "      <td>0</td>\n",
              "      <td>1</td>\n",
              "      <td>1</td>\n",
              "      <td>5</td>\n",
              "      <td>0</td>\n",
              "      <td>42.0</td>\n",
              "      <td>38</td>\n",
              "      <td>0.0</td>\n",
              "      <td>42.0</td>\n",
              "      <td>0.0</td>\n",
              "      <td>13289.0</td>\n",
              "      <td>0</td>\n",
              "      <td>53</td>\n",
              "      <td>120</td>\n",
              "      <td>66</td>\n",
              "      <td>1</td>\n",
              "      <td>0</td>\n",
              "      <td>0</td>\n",
              "      <td>1</td>\n",
              "      <td>1</td>\n",
              "      <td>0</td>\n",
              "      <td>1</td>\n",
              "      <td>1</td>\n",
              "      <td>0</td>\n",
              "      <td>200</td>\n",
              "      <td>0</td>\n",
              "      <td>0</td>\n",
              "    </tr>\n",
              "    <tr>\n",
              "      <th>2</th>\n",
              "      <td>2</td>\n",
              "      <td>3</td>\n",
              "      <td>1</td>\n",
              "      <td>45531</td>\n",
              "      <td>0</td>\n",
              "      <td>31570.0</td>\n",
              "      <td>704684</td>\n",
              "      <td>4</td>\n",
              "      <td>0</td>\n",
              "      <td>1</td>\n",
              "      <td>1</td>\n",
              "      <td>5</td>\n",
              "      <td>0</td>\n",
              "      <td>2721.0</td>\n",
              "      <td>38</td>\n",
              "      <td>0.0</td>\n",
              "      <td>11273.0</td>\n",
              "      <td>0.0</td>\n",
              "      <td>11681.0</td>\n",
              "      <td>0</td>\n",
              "      <td>53</td>\n",
              "      <td>120</td>\n",
              "      <td>131</td>\n",
              "      <td>1</td>\n",
              "      <td>0</td>\n",
              "      <td>0</td>\n",
              "      <td>1</td>\n",
              "      <td>1</td>\n",
              "      <td>0</td>\n",
              "      <td>1</td>\n",
              "      <td>1</td>\n",
              "      <td>0</td>\n",
              "      <td>200</td>\n",
              "      <td>0</td>\n",
              "      <td>0</td>\n",
              "    </tr>\n",
              "    <tr>\n",
              "      <th>3</th>\n",
              "      <td>3</td>\n",
              "      <td>4</td>\n",
              "      <td>1</td>\n",
              "      <td>47559</td>\n",
              "      <td>0</td>\n",
              "      <td>29973.0</td>\n",
              "      <td>704684</td>\n",
              "      <td>4</td>\n",
              "      <td>0</td>\n",
              "      <td>1</td>\n",
              "      <td>1</td>\n",
              "      <td>5</td>\n",
              "      <td>0</td>\n",
              "      <td>4349.0</td>\n",
              "      <td>38</td>\n",
              "      <td>0.0</td>\n",
              "      <td>4366.0</td>\n",
              "      <td>0.0</td>\n",
              "      <td>15618.0</td>\n",
              "      <td>0</td>\n",
              "      <td>53</td>\n",
              "      <td>120</td>\n",
              "      <td>131</td>\n",
              "      <td>1</td>\n",
              "      <td>0</td>\n",
              "      <td>0</td>\n",
              "      <td>1</td>\n",
              "      <td>1</td>\n",
              "      <td>0</td>\n",
              "      <td>1</td>\n",
              "      <td>1</td>\n",
              "      <td>0</td>\n",
              "      <td>200</td>\n",
              "      <td>0</td>\n",
              "      <td>0</td>\n",
              "    </tr>\n",
              "    <tr>\n",
              "      <th>4</th>\n",
              "      <td>4</td>\n",
              "      <td>5</td>\n",
              "      <td>1</td>\n",
              "      <td>2302</td>\n",
              "      <td>0</td>\n",
              "      <td>17465.0</td>\n",
              "      <td>704684</td>\n",
              "      <td>4</td>\n",
              "      <td>0</td>\n",
              "      <td>1</td>\n",
              "      <td>1</td>\n",
              "      <td>5</td>\n",
              "      <td>0</td>\n",
              "      <td>241.0</td>\n",
              "      <td>38</td>\n",
              "      <td>0.0</td>\n",
              "      <td>241.0</td>\n",
              "      <td>0.0</td>\n",
              "      <td>5932.0</td>\n",
              "      <td>0</td>\n",
              "      <td>53</td>\n",
              "      <td>120</td>\n",
              "      <td>131</td>\n",
              "      <td>1</td>\n",
              "      <td>0</td>\n",
              "      <td>0</td>\n",
              "      <td>1</td>\n",
              "      <td>1</td>\n",
              "      <td>0</td>\n",
              "      <td>1</td>\n",
              "      <td>1</td>\n",
              "      <td>0</td>\n",
              "      <td>200</td>\n",
              "      <td>0</td>\n",
              "      <td>0</td>\n",
              "    </tr>\n",
              "  </tbody>\n",
              "</table>\n",
              "</div>"
            ],
            "text/plain": [
              "   Unnamed: 0  V1  V2     V4  V7      V10  ...  V69  V70  V71  V72  V106  V107\n",
              "0           0   1   1   1984   0  13343.0  ...    1    1    0  200     0     0\n",
              "1           1   2   1   5531   0  21775.0  ...    1    1    0  200     0     0\n",
              "2           2   3   1  45531   0  31570.0  ...    1    1    0  200     0     0\n",
              "3           3   4   1  47559   0  29973.0  ...    1    1    0  200     0     0\n",
              "4           4   5   1   2302   0  17465.0  ...    1    1    0  200     0     0\n",
              "\n",
              "[5 rows x 35 columns]"
            ]
          },
          "metadata": {
            "tags": []
          },
          "execution_count": 18
        }
      ]
    },
    {
      "cell_type": "code",
      "metadata": {
        "id": "k5yRdFupnFvv",
        "colab_type": "code",
        "colab": {
          "base_uri": "https://localhost:8080/",
          "height": 34
        },
        "outputId": "d2cfd267-f897-41c7-aef8-0fdc0638d693"
      },
      "source": [
        "encoded.shape"
      ],
      "execution_count": 19,
      "outputs": [
        {
          "output_type": "execute_result",
          "data": {
            "text/plain": [
              "(65534, 35)"
            ]
          },
          "metadata": {
            "tags": []
          },
          "execution_count": 19
        }
      ]
    },
    {
      "cell_type": "code",
      "metadata": {
        "id": "3q9Ua20vZrRH",
        "colab_type": "code",
        "colab": {}
      },
      "source": [
        "## Dropping NaNs and object data types\n",
        "for col in encoded.columns:\n",
        "  if(encoded[col].isnull().sum()>0):\n",
        "    encoded = encoded.drop(col,1)\n",
        "  elif(encoded[col].dtype.name == 'object'):\n",
        "    encoded = encoded.drop(col,1)"
      ],
      "execution_count": 0,
      "outputs": []
    },
    {
      "cell_type": "code",
      "metadata": {
        "id": "j_CXe4lSaKho",
        "colab_type": "code",
        "outputId": "29721210-4077-44ac-c5a8-fb6f37194b27",
        "colab": {
          "base_uri": "https://localhost:8080/",
          "height": 234
        }
      },
      "source": [
        "encoded.head()"
      ],
      "execution_count": 21,
      "outputs": [
        {
          "output_type": "execute_result",
          "data": {
            "text/html": [
              "<div>\n",
              "<style scoped>\n",
              "    .dataframe tbody tr th:only-of-type {\n",
              "        vertical-align: middle;\n",
              "    }\n",
              "\n",
              "    .dataframe tbody tr th {\n",
              "        vertical-align: top;\n",
              "    }\n",
              "\n",
              "    .dataframe thead th {\n",
              "        text-align: right;\n",
              "    }\n",
              "</style>\n",
              "<table border=\"1\" class=\"dataframe\">\n",
              "  <thead>\n",
              "    <tr style=\"text-align: right;\">\n",
              "      <th></th>\n",
              "      <th>Unnamed: 0</th>\n",
              "      <th>V1</th>\n",
              "      <th>V2</th>\n",
              "      <th>V4</th>\n",
              "      <th>V7</th>\n",
              "      <th>V10</th>\n",
              "      <th>V17</th>\n",
              "      <th>V18</th>\n",
              "      <th>V19</th>\n",
              "      <th>V20</th>\n",
              "      <th>V22</th>\n",
              "      <th>V25</th>\n",
              "      <th>V27</th>\n",
              "      <th>V35</th>\n",
              "      <th>V37</th>\n",
              "      <th>V38</th>\n",
              "      <th>V39</th>\n",
              "      <th>V41</th>\n",
              "      <th>V43</th>\n",
              "      <th>V47</th>\n",
              "      <th>V49</th>\n",
              "      <th>V50</th>\n",
              "      <th>V55</th>\n",
              "      <th>V59</th>\n",
              "      <th>V61</th>\n",
              "      <th>V62</th>\n",
              "      <th>V66</th>\n",
              "      <th>V67</th>\n",
              "      <th>V68</th>\n",
              "      <th>V69</th>\n",
              "      <th>V70</th>\n",
              "      <th>V71</th>\n",
              "      <th>V72</th>\n",
              "      <th>V106</th>\n",
              "      <th>V107</th>\n",
              "    </tr>\n",
              "  </thead>\n",
              "  <tbody>\n",
              "    <tr>\n",
              "      <th>0</th>\n",
              "      <td>0</td>\n",
              "      <td>1</td>\n",
              "      <td>1</td>\n",
              "      <td>1984</td>\n",
              "      <td>0</td>\n",
              "      <td>13343.0</td>\n",
              "      <td>704684</td>\n",
              "      <td>4</td>\n",
              "      <td>0</td>\n",
              "      <td>1</td>\n",
              "      <td>1</td>\n",
              "      <td>5</td>\n",
              "      <td>0</td>\n",
              "      <td>220.0</td>\n",
              "      <td>38</td>\n",
              "      <td>0.0</td>\n",
              "      <td>220.0</td>\n",
              "      <td>0.0</td>\n",
              "      <td>5447.0</td>\n",
              "      <td>0</td>\n",
              "      <td>53</td>\n",
              "      <td>120</td>\n",
              "      <td>66</td>\n",
              "      <td>1</td>\n",
              "      <td>0</td>\n",
              "      <td>0</td>\n",
              "      <td>1</td>\n",
              "      <td>1</td>\n",
              "      <td>0</td>\n",
              "      <td>1</td>\n",
              "      <td>1</td>\n",
              "      <td>0</td>\n",
              "      <td>200</td>\n",
              "      <td>0</td>\n",
              "      <td>0</td>\n",
              "    </tr>\n",
              "    <tr>\n",
              "      <th>1</th>\n",
              "      <td>1</td>\n",
              "      <td>2</td>\n",
              "      <td>1</td>\n",
              "      <td>5531</td>\n",
              "      <td>0</td>\n",
              "      <td>21775.0</td>\n",
              "      <td>704684</td>\n",
              "      <td>4</td>\n",
              "      <td>0</td>\n",
              "      <td>1</td>\n",
              "      <td>1</td>\n",
              "      <td>5</td>\n",
              "      <td>0</td>\n",
              "      <td>42.0</td>\n",
              "      <td>38</td>\n",
              "      <td>0.0</td>\n",
              "      <td>42.0</td>\n",
              "      <td>0.0</td>\n",
              "      <td>13289.0</td>\n",
              "      <td>0</td>\n",
              "      <td>53</td>\n",
              "      <td>120</td>\n",
              "      <td>66</td>\n",
              "      <td>1</td>\n",
              "      <td>0</td>\n",
              "      <td>0</td>\n",
              "      <td>1</td>\n",
              "      <td>1</td>\n",
              "      <td>0</td>\n",
              "      <td>1</td>\n",
              "      <td>1</td>\n",
              "      <td>0</td>\n",
              "      <td>200</td>\n",
              "      <td>0</td>\n",
              "      <td>0</td>\n",
              "    </tr>\n",
              "    <tr>\n",
              "      <th>2</th>\n",
              "      <td>2</td>\n",
              "      <td>3</td>\n",
              "      <td>1</td>\n",
              "      <td>45531</td>\n",
              "      <td>0</td>\n",
              "      <td>31570.0</td>\n",
              "      <td>704684</td>\n",
              "      <td>4</td>\n",
              "      <td>0</td>\n",
              "      <td>1</td>\n",
              "      <td>1</td>\n",
              "      <td>5</td>\n",
              "      <td>0</td>\n",
              "      <td>2721.0</td>\n",
              "      <td>38</td>\n",
              "      <td>0.0</td>\n",
              "      <td>11273.0</td>\n",
              "      <td>0.0</td>\n",
              "      <td>11681.0</td>\n",
              "      <td>0</td>\n",
              "      <td>53</td>\n",
              "      <td>120</td>\n",
              "      <td>131</td>\n",
              "      <td>1</td>\n",
              "      <td>0</td>\n",
              "      <td>0</td>\n",
              "      <td>1</td>\n",
              "      <td>1</td>\n",
              "      <td>0</td>\n",
              "      <td>1</td>\n",
              "      <td>1</td>\n",
              "      <td>0</td>\n",
              "      <td>200</td>\n",
              "      <td>0</td>\n",
              "      <td>0</td>\n",
              "    </tr>\n",
              "    <tr>\n",
              "      <th>3</th>\n",
              "      <td>3</td>\n",
              "      <td>4</td>\n",
              "      <td>1</td>\n",
              "      <td>47559</td>\n",
              "      <td>0</td>\n",
              "      <td>29973.0</td>\n",
              "      <td>704684</td>\n",
              "      <td>4</td>\n",
              "      <td>0</td>\n",
              "      <td>1</td>\n",
              "      <td>1</td>\n",
              "      <td>5</td>\n",
              "      <td>0</td>\n",
              "      <td>4349.0</td>\n",
              "      <td>38</td>\n",
              "      <td>0.0</td>\n",
              "      <td>4366.0</td>\n",
              "      <td>0.0</td>\n",
              "      <td>15618.0</td>\n",
              "      <td>0</td>\n",
              "      <td>53</td>\n",
              "      <td>120</td>\n",
              "      <td>131</td>\n",
              "      <td>1</td>\n",
              "      <td>0</td>\n",
              "      <td>0</td>\n",
              "      <td>1</td>\n",
              "      <td>1</td>\n",
              "      <td>0</td>\n",
              "      <td>1</td>\n",
              "      <td>1</td>\n",
              "      <td>0</td>\n",
              "      <td>200</td>\n",
              "      <td>0</td>\n",
              "      <td>0</td>\n",
              "    </tr>\n",
              "    <tr>\n",
              "      <th>4</th>\n",
              "      <td>4</td>\n",
              "      <td>5</td>\n",
              "      <td>1</td>\n",
              "      <td>2302</td>\n",
              "      <td>0</td>\n",
              "      <td>17465.0</td>\n",
              "      <td>704684</td>\n",
              "      <td>4</td>\n",
              "      <td>0</td>\n",
              "      <td>1</td>\n",
              "      <td>1</td>\n",
              "      <td>5</td>\n",
              "      <td>0</td>\n",
              "      <td>241.0</td>\n",
              "      <td>38</td>\n",
              "      <td>0.0</td>\n",
              "      <td>241.0</td>\n",
              "      <td>0.0</td>\n",
              "      <td>5932.0</td>\n",
              "      <td>0</td>\n",
              "      <td>53</td>\n",
              "      <td>120</td>\n",
              "      <td>131</td>\n",
              "      <td>1</td>\n",
              "      <td>0</td>\n",
              "      <td>0</td>\n",
              "      <td>1</td>\n",
              "      <td>1</td>\n",
              "      <td>0</td>\n",
              "      <td>1</td>\n",
              "      <td>1</td>\n",
              "      <td>0</td>\n",
              "      <td>200</td>\n",
              "      <td>0</td>\n",
              "      <td>0</td>\n",
              "    </tr>\n",
              "  </tbody>\n",
              "</table>\n",
              "</div>"
            ],
            "text/plain": [
              "   Unnamed: 0  V1  V2     V4  V7      V10  ...  V69  V70  V71  V72  V106  V107\n",
              "0           0   1   1   1984   0  13343.0  ...    1    1    0  200     0     0\n",
              "1           1   2   1   5531   0  21775.0  ...    1    1    0  200     0     0\n",
              "2           2   3   1  45531   0  31570.0  ...    1    1    0  200     0     0\n",
              "3           3   4   1  47559   0  29973.0  ...    1    1    0  200     0     0\n",
              "4           4   5   1   2302   0  17465.0  ...    1    1    0  200     0     0\n",
              "\n",
              "[5 rows x 35 columns]"
            ]
          },
          "metadata": {
            "tags": []
          },
          "execution_count": 21
        }
      ]
    },
    {
      "cell_type": "code",
      "metadata": {
        "id": "m1X71HroLJUc",
        "colab_type": "code",
        "outputId": "60f7d394-b88c-47a8-cd01-ea5d5f91794b",
        "colab": {
          "base_uri": "https://localhost:8080/",
          "height": 34
        }
      },
      "source": [
        "encoded.shape"
      ],
      "execution_count": 22,
      "outputs": [
        {
          "output_type": "execute_result",
          "data": {
            "text/plain": [
              "(65534, 35)"
            ]
          },
          "metadata": {
            "tags": []
          },
          "execution_count": 22
        }
      ]
    },
    {
      "cell_type": "markdown",
      "metadata": {
        "id": "vSlwSYFUnO4y",
        "colab_type": "text"
      },
      "source": [
        "##### So there was no NaNs or object data type columns in encoded."
      ]
    },
    {
      "cell_type": "code",
      "metadata": {
        "id": "csrpwitUnOB8",
        "colab_type": "code",
        "colab": {}
      },
      "source": [
        "## Removing the float type data columns because they may be indicative of continuous variables. Good thing the encodings preserve the data types.\n",
        "## So if something was float originally so is the encoding.\n",
        "for col in encoded.columns:\n",
        "  if encoded[col].dtype == 'float':\n",
        "    encoded = encoded.drop(col,1)"
      ],
      "execution_count": 0,
      "outputs": []
    },
    {
      "cell_type": "code",
      "metadata": {
        "id": "Kudq5Pt0o_L9",
        "colab_type": "code",
        "colab": {
          "base_uri": "https://localhost:8080/",
          "height": 34
        },
        "outputId": "1fdb88ba-16ba-4100-8d25-2a3452584fb5"
      },
      "source": [
        "encoded.shape"
      ],
      "execution_count": 24,
      "outputs": [
        {
          "output_type": "execute_result",
          "data": {
            "text/plain": [
              "(65534, 29)"
            ]
          },
          "metadata": {
            "tags": []
          },
          "execution_count": 24
        }
      ]
    },
    {
      "cell_type": "code",
      "metadata": {
        "id": "Bf6witsRpqni",
        "colab_type": "code",
        "colab": {
          "base_uri": "https://localhost:8080/",
          "height": 87
        },
        "outputId": "5327f22f-627c-4251-e408-5a59f3134ec3"
      },
      "source": [
        "encoded.columns"
      ],
      "execution_count": 25,
      "outputs": [
        {
          "output_type": "execute_result",
          "data": {
            "text/plain": [
              "Index(['Unnamed: 0', 'V1', 'V2', 'V4', 'V7', 'V17', 'V18', 'V19', 'V20', 'V22',\n",
              "       'V25', 'V27', 'V37', 'V47', 'V49', 'V50', 'V55', 'V59', 'V61', 'V62',\n",
              "       'V66', 'V67', 'V68', 'V69', 'V70', 'V71', 'V72', 'V106', 'V107'],\n",
              "      dtype='object')"
            ]
          },
          "metadata": {
            "tags": []
          },
          "execution_count": 25
        }
      ]
    },
    {
      "cell_type": "code",
      "metadata": {
        "id": "fb6jYgXXpz6M",
        "colab_type": "code",
        "colab": {}
      },
      "source": [
        "encoded = encoded.drop('Unnamed: 0',1)"
      ],
      "execution_count": 0,
      "outputs": []
    },
    {
      "cell_type": "markdown",
      "metadata": {
        "id": "-Dqmy4-pqCiG",
        "colab_type": "text"
      },
      "source": [
        "##### **Function to create dataframe where all variables are normalized between 0 and 1**"
      ]
    },
    {
      "cell_type": "code",
      "metadata": {
        "id": "jWBSvEGSrVOL",
        "colab_type": "code",
        "colab": {}
      },
      "source": [
        "## Change the range between 0 and 1\n",
        "def normalize(df):\n",
        "  df_new=pd.DataFrame()\n",
        "  for col in df.columns:\n",
        "    l = list(df[col])\n",
        "    ## avoiding divisions by zero\n",
        "    if np.max(l) == 0 :\n",
        "      l = np.linspace(0,0,len(df[col]-1))\n",
        "    else:\n",
        "      l = l/np.max(l) \n",
        "    df_new[col]=l\n",
        "  return df_new"
      ],
      "execution_count": 0,
      "outputs": []
    },
    {
      "cell_type": "code",
      "metadata": {
        "id": "NhhEYB8FsJOD",
        "colab_type": "code",
        "colab": {
          "base_uri": "https://localhost:8080/",
          "height": 426
        },
        "outputId": "b4658ee9-4456-4c12-b8cd-6051846f940a"
      },
      "source": [
        "normalize(encoded)"
      ],
      "execution_count": 28,
      "outputs": [
        {
          "output_type": "execute_result",
          "data": {
            "text/html": [
              "<div>\n",
              "<style scoped>\n",
              "    .dataframe tbody tr th:only-of-type {\n",
              "        vertical-align: middle;\n",
              "    }\n",
              "\n",
              "    .dataframe tbody tr th {\n",
              "        vertical-align: top;\n",
              "    }\n",
              "\n",
              "    .dataframe thead th {\n",
              "        text-align: right;\n",
              "    }\n",
              "</style>\n",
              "<table border=\"1\" class=\"dataframe\">\n",
              "  <thead>\n",
              "    <tr style=\"text-align: right;\">\n",
              "      <th></th>\n",
              "      <th>V1</th>\n",
              "      <th>V2</th>\n",
              "      <th>V4</th>\n",
              "      <th>V7</th>\n",
              "      <th>V17</th>\n",
              "      <th>V18</th>\n",
              "      <th>V19</th>\n",
              "      <th>V20</th>\n",
              "      <th>V22</th>\n",
              "      <th>V25</th>\n",
              "      <th>V27</th>\n",
              "      <th>V37</th>\n",
              "      <th>V47</th>\n",
              "      <th>V49</th>\n",
              "      <th>V50</th>\n",
              "      <th>V55</th>\n",
              "      <th>V59</th>\n",
              "      <th>V61</th>\n",
              "      <th>V62</th>\n",
              "      <th>V66</th>\n",
              "      <th>V67</th>\n",
              "      <th>V68</th>\n",
              "      <th>V69</th>\n",
              "      <th>V70</th>\n",
              "      <th>V71</th>\n",
              "      <th>V72</th>\n",
              "      <th>V106</th>\n",
              "      <th>V107</th>\n",
              "    </tr>\n",
              "  </thead>\n",
              "  <tbody>\n",
              "    <tr>\n",
              "      <th>0</th>\n",
              "      <td>0.000015</td>\n",
              "      <td>1.0</td>\n",
              "      <td>0.031306</td>\n",
              "      <td>0.0</td>\n",
              "      <td>1.0</td>\n",
              "      <td>0.333333</td>\n",
              "      <td>0.0</td>\n",
              "      <td>0.5</td>\n",
              "      <td>0.142857</td>\n",
              "      <td>1.0</td>\n",
              "      <td>0.0</td>\n",
              "      <td>0.844444</td>\n",
              "      <td>0.0</td>\n",
              "      <td>0.80303</td>\n",
              "      <td>0.291262</td>\n",
              "      <td>0.228374</td>\n",
              "      <td>1.0</td>\n",
              "      <td>0.0</td>\n",
              "      <td>0.0</td>\n",
              "      <td>1.0</td>\n",
              "      <td>1.0</td>\n",
              "      <td>0.0</td>\n",
              "      <td>1.0</td>\n",
              "      <td>1.0</td>\n",
              "      <td>0.0</td>\n",
              "      <td>1.0</td>\n",
              "      <td>0.0</td>\n",
              "      <td>0.0</td>\n",
              "    </tr>\n",
              "    <tr>\n",
              "      <th>1</th>\n",
              "      <td>0.000031</td>\n",
              "      <td>1.0</td>\n",
              "      <td>0.087274</td>\n",
              "      <td>0.0</td>\n",
              "      <td>1.0</td>\n",
              "      <td>0.333333</td>\n",
              "      <td>0.0</td>\n",
              "      <td>0.5</td>\n",
              "      <td>0.142857</td>\n",
              "      <td>1.0</td>\n",
              "      <td>0.0</td>\n",
              "      <td>0.844444</td>\n",
              "      <td>0.0</td>\n",
              "      <td>0.80303</td>\n",
              "      <td>0.291262</td>\n",
              "      <td>0.228374</td>\n",
              "      <td>1.0</td>\n",
              "      <td>0.0</td>\n",
              "      <td>0.0</td>\n",
              "      <td>1.0</td>\n",
              "      <td>1.0</td>\n",
              "      <td>0.0</td>\n",
              "      <td>1.0</td>\n",
              "      <td>1.0</td>\n",
              "      <td>0.0</td>\n",
              "      <td>1.0</td>\n",
              "      <td>0.0</td>\n",
              "      <td>0.0</td>\n",
              "    </tr>\n",
              "    <tr>\n",
              "      <th>2</th>\n",
              "      <td>0.000046</td>\n",
              "      <td>1.0</td>\n",
              "      <td>0.718438</td>\n",
              "      <td>0.0</td>\n",
              "      <td>1.0</td>\n",
              "      <td>0.333333</td>\n",
              "      <td>0.0</td>\n",
              "      <td>0.5</td>\n",
              "      <td>0.142857</td>\n",
              "      <td>1.0</td>\n",
              "      <td>0.0</td>\n",
              "      <td>0.844444</td>\n",
              "      <td>0.0</td>\n",
              "      <td>0.80303</td>\n",
              "      <td>0.291262</td>\n",
              "      <td>0.453287</td>\n",
              "      <td>1.0</td>\n",
              "      <td>0.0</td>\n",
              "      <td>0.0</td>\n",
              "      <td>1.0</td>\n",
              "      <td>1.0</td>\n",
              "      <td>0.0</td>\n",
              "      <td>1.0</td>\n",
              "      <td>1.0</td>\n",
              "      <td>0.0</td>\n",
              "      <td>1.0</td>\n",
              "      <td>0.0</td>\n",
              "      <td>0.0</td>\n",
              "    </tr>\n",
              "    <tr>\n",
              "      <th>3</th>\n",
              "      <td>0.000061</td>\n",
              "      <td>1.0</td>\n",
              "      <td>0.750438</td>\n",
              "      <td>0.0</td>\n",
              "      <td>1.0</td>\n",
              "      <td>0.333333</td>\n",
              "      <td>0.0</td>\n",
              "      <td>0.5</td>\n",
              "      <td>0.142857</td>\n",
              "      <td>1.0</td>\n",
              "      <td>0.0</td>\n",
              "      <td>0.844444</td>\n",
              "      <td>0.0</td>\n",
              "      <td>0.80303</td>\n",
              "      <td>0.291262</td>\n",
              "      <td>0.453287</td>\n",
              "      <td>1.0</td>\n",
              "      <td>0.0</td>\n",
              "      <td>0.0</td>\n",
              "      <td>1.0</td>\n",
              "      <td>1.0</td>\n",
              "      <td>0.0</td>\n",
              "      <td>1.0</td>\n",
              "      <td>1.0</td>\n",
              "      <td>0.0</td>\n",
              "      <td>1.0</td>\n",
              "      <td>0.0</td>\n",
              "      <td>0.0</td>\n",
              "    </tr>\n",
              "    <tr>\n",
              "      <th>4</th>\n",
              "      <td>0.000076</td>\n",
              "      <td>1.0</td>\n",
              "      <td>0.036323</td>\n",
              "      <td>0.0</td>\n",
              "      <td>1.0</td>\n",
              "      <td>0.333333</td>\n",
              "      <td>0.0</td>\n",
              "      <td>0.5</td>\n",
              "      <td>0.142857</td>\n",
              "      <td>1.0</td>\n",
              "      <td>0.0</td>\n",
              "      <td>0.844444</td>\n",
              "      <td>0.0</td>\n",
              "      <td>0.80303</td>\n",
              "      <td>0.291262</td>\n",
              "      <td>0.453287</td>\n",
              "      <td>1.0</td>\n",
              "      <td>0.0</td>\n",
              "      <td>0.0</td>\n",
              "      <td>1.0</td>\n",
              "      <td>1.0</td>\n",
              "      <td>0.0</td>\n",
              "      <td>1.0</td>\n",
              "      <td>1.0</td>\n",
              "      <td>0.0</td>\n",
              "      <td>1.0</td>\n",
              "      <td>0.0</td>\n",
              "      <td>0.0</td>\n",
              "    </tr>\n",
              "    <tr>\n",
              "      <th>...</th>\n",
              "      <td>...</td>\n",
              "      <td>...</td>\n",
              "      <td>...</td>\n",
              "      <td>...</td>\n",
              "      <td>...</td>\n",
              "      <td>...</td>\n",
              "      <td>...</td>\n",
              "      <td>...</td>\n",
              "      <td>...</td>\n",
              "      <td>...</td>\n",
              "      <td>...</td>\n",
              "      <td>...</td>\n",
              "      <td>...</td>\n",
              "      <td>...</td>\n",
              "      <td>...</td>\n",
              "      <td>...</td>\n",
              "      <td>...</td>\n",
              "      <td>...</td>\n",
              "      <td>...</td>\n",
              "      <td>...</td>\n",
              "      <td>...</td>\n",
              "      <td>...</td>\n",
              "      <td>...</td>\n",
              "      <td>...</td>\n",
              "      <td>...</td>\n",
              "      <td>...</td>\n",
              "      <td>...</td>\n",
              "      <td>...</td>\n",
              "    </tr>\n",
              "    <tr>\n",
              "      <th>65529</th>\n",
              "      <td>0.999939</td>\n",
              "      <td>0.0</td>\n",
              "      <td>0.506288</td>\n",
              "      <td>0.0</td>\n",
              "      <td>1.0</td>\n",
              "      <td>0.750000</td>\n",
              "      <td>0.0</td>\n",
              "      <td>0.5</td>\n",
              "      <td>0.428571</td>\n",
              "      <td>0.0</td>\n",
              "      <td>1.0</td>\n",
              "      <td>0.844444</td>\n",
              "      <td>0.0</td>\n",
              "      <td>0.80303</td>\n",
              "      <td>0.235437</td>\n",
              "      <td>0.038062</td>\n",
              "      <td>1.0</td>\n",
              "      <td>0.0</td>\n",
              "      <td>0.0</td>\n",
              "      <td>0.0</td>\n",
              "      <td>1.0</td>\n",
              "      <td>0.0</td>\n",
              "      <td>1.0</td>\n",
              "      <td>1.0</td>\n",
              "      <td>0.0</td>\n",
              "      <td>1.0</td>\n",
              "      <td>0.0</td>\n",
              "      <td>0.0</td>\n",
              "    </tr>\n",
              "    <tr>\n",
              "      <th>65530</th>\n",
              "      <td>0.999954</td>\n",
              "      <td>0.0</td>\n",
              "      <td>0.506036</td>\n",
              "      <td>0.0</td>\n",
              "      <td>1.0</td>\n",
              "      <td>0.416667</td>\n",
              "      <td>0.0</td>\n",
              "      <td>0.5</td>\n",
              "      <td>0.428571</td>\n",
              "      <td>0.0</td>\n",
              "      <td>1.0</td>\n",
              "      <td>0.844444</td>\n",
              "      <td>0.0</td>\n",
              "      <td>0.80303</td>\n",
              "      <td>0.082524</td>\n",
              "      <td>0.332180</td>\n",
              "      <td>1.0</td>\n",
              "      <td>0.0</td>\n",
              "      <td>0.0</td>\n",
              "      <td>0.0</td>\n",
              "      <td>1.0</td>\n",
              "      <td>0.0</td>\n",
              "      <td>1.0</td>\n",
              "      <td>1.0</td>\n",
              "      <td>0.0</td>\n",
              "      <td>1.0</td>\n",
              "      <td>0.0</td>\n",
              "      <td>0.0</td>\n",
              "    </tr>\n",
              "    <tr>\n",
              "      <th>65531</th>\n",
              "      <td>0.999969</td>\n",
              "      <td>0.0</td>\n",
              "      <td>0.880899</td>\n",
              "      <td>0.0</td>\n",
              "      <td>1.0</td>\n",
              "      <td>0.750000</td>\n",
              "      <td>0.0</td>\n",
              "      <td>0.5</td>\n",
              "      <td>0.428571</td>\n",
              "      <td>0.0</td>\n",
              "      <td>1.0</td>\n",
              "      <td>0.844444</td>\n",
              "      <td>0.0</td>\n",
              "      <td>0.80303</td>\n",
              "      <td>0.567961</td>\n",
              "      <td>0.325260</td>\n",
              "      <td>1.0</td>\n",
              "      <td>0.0</td>\n",
              "      <td>0.0</td>\n",
              "      <td>0.0</td>\n",
              "      <td>1.0</td>\n",
              "      <td>0.0</td>\n",
              "      <td>1.0</td>\n",
              "      <td>1.0</td>\n",
              "      <td>0.0</td>\n",
              "      <td>1.0</td>\n",
              "      <td>0.0</td>\n",
              "      <td>0.0</td>\n",
              "    </tr>\n",
              "    <tr>\n",
              "      <th>65532</th>\n",
              "      <td>0.999985</td>\n",
              "      <td>0.0</td>\n",
              "      <td>0.507345</td>\n",
              "      <td>0.0</td>\n",
              "      <td>1.0</td>\n",
              "      <td>0.750000</td>\n",
              "      <td>0.0</td>\n",
              "      <td>0.5</td>\n",
              "      <td>0.428571</td>\n",
              "      <td>0.0</td>\n",
              "      <td>1.0</td>\n",
              "      <td>0.844444</td>\n",
              "      <td>0.0</td>\n",
              "      <td>0.80303</td>\n",
              "      <td>0.555825</td>\n",
              "      <td>0.280277</td>\n",
              "      <td>1.0</td>\n",
              "      <td>0.0</td>\n",
              "      <td>0.0</td>\n",
              "      <td>0.0</td>\n",
              "      <td>1.0</td>\n",
              "      <td>0.0</td>\n",
              "      <td>1.0</td>\n",
              "      <td>1.0</td>\n",
              "      <td>0.0</td>\n",
              "      <td>1.0</td>\n",
              "      <td>0.0</td>\n",
              "      <td>0.0</td>\n",
              "    </tr>\n",
              "    <tr>\n",
              "      <th>65533</th>\n",
              "      <td>1.000000</td>\n",
              "      <td>0.0</td>\n",
              "      <td>0.896710</td>\n",
              "      <td>0.0</td>\n",
              "      <td>1.0</td>\n",
              "      <td>0.750000</td>\n",
              "      <td>0.0</td>\n",
              "      <td>0.5</td>\n",
              "      <td>0.142857</td>\n",
              "      <td>0.0</td>\n",
              "      <td>0.0</td>\n",
              "      <td>0.844444</td>\n",
              "      <td>0.0</td>\n",
              "      <td>0.80303</td>\n",
              "      <td>0.757282</td>\n",
              "      <td>0.391003</td>\n",
              "      <td>1.0</td>\n",
              "      <td>0.0</td>\n",
              "      <td>0.0</td>\n",
              "      <td>0.0</td>\n",
              "      <td>1.0</td>\n",
              "      <td>0.0</td>\n",
              "      <td>1.0</td>\n",
              "      <td>1.0</td>\n",
              "      <td>0.0</td>\n",
              "      <td>1.0</td>\n",
              "      <td>0.0</td>\n",
              "      <td>0.0</td>\n",
              "    </tr>\n",
              "  </tbody>\n",
              "</table>\n",
              "<p>65534 rows × 28 columns</p>\n",
              "</div>"
            ],
            "text/plain": [
              "             V1   V2        V4   V7  V17  ...  V70  V71  V72  V106  V107\n",
              "0      0.000015  1.0  0.031306  0.0  1.0  ...  1.0  0.0  1.0   0.0   0.0\n",
              "1      0.000031  1.0  0.087274  0.0  1.0  ...  1.0  0.0  1.0   0.0   0.0\n",
              "2      0.000046  1.0  0.718438  0.0  1.0  ...  1.0  0.0  1.0   0.0   0.0\n",
              "3      0.000061  1.0  0.750438  0.0  1.0  ...  1.0  0.0  1.0   0.0   0.0\n",
              "4      0.000076  1.0  0.036323  0.0  1.0  ...  1.0  0.0  1.0   0.0   0.0\n",
              "...         ...  ...       ...  ...  ...  ...  ...  ...  ...   ...   ...\n",
              "65529  0.999939  0.0  0.506288  0.0  1.0  ...  1.0  0.0  1.0   0.0   0.0\n",
              "65530  0.999954  0.0  0.506036  0.0  1.0  ...  1.0  0.0  1.0   0.0   0.0\n",
              "65531  0.999969  0.0  0.880899  0.0  1.0  ...  1.0  0.0  1.0   0.0   0.0\n",
              "65532  0.999985  0.0  0.507345  0.0  1.0  ...  1.0  0.0  1.0   0.0   0.0\n",
              "65533  1.000000  0.0  0.896710  0.0  1.0  ...  1.0  0.0  1.0   0.0   0.0\n",
              "\n",
              "[65534 rows x 28 columns]"
            ]
          },
          "metadata": {
            "tags": []
          },
          "execution_count": 28
        }
      ]
    },
    {
      "cell_type": "code",
      "metadata": {
        "id": "rA03ASoMtm36",
        "colab_type": "code",
        "colab": {}
      },
      "source": [
        "encoded_normalized = normalize(encoded)"
      ],
      "execution_count": 0,
      "outputs": []
    },
    {
      "cell_type": "markdown",
      "metadata": {
        "id": "1kd5m5v_9oWo",
        "colab_type": "text"
      },
      "source": [
        "##### **Function to remove columns which are a list on distinct values for eg. the index**"
      ]
    },
    {
      "cell_type": "code",
      "metadata": {
        "id": "1NNJZgy29m3K",
        "colab_type": "code",
        "colab": {}
      },
      "source": [
        "def remove_index_like(df):\n",
        "  df_new = df.copy()\n",
        "  indices = []\n",
        "  for i in df_new.columns:\n",
        "    if len(df[i]) == len(set(df[i])):\n",
        "      indices.append(i)\n",
        "  df_new = df_new.drop(indices,1)\n",
        "  return df_new"
      ],
      "execution_count": 0,
      "outputs": []
    },
    {
      "cell_type": "code",
      "metadata": {
        "id": "G8eozlJU-63N",
        "colab_type": "code",
        "colab": {}
      },
      "source": [
        "encoded = remove_index_like(encoded)"
      ],
      "execution_count": 0,
      "outputs": []
    },
    {
      "cell_type": "code",
      "metadata": {
        "id": "TcTCXANb_DYI",
        "colab_type": "code",
        "colab": {
          "base_uri": "https://localhost:8080/",
          "height": 34
        },
        "outputId": "66a11719-5843-4950-c681-41e21488f3c6"
      },
      "source": [
        "encoded.shape"
      ],
      "execution_count": 32,
      "outputs": [
        {
          "output_type": "execute_result",
          "data": {
            "text/plain": [
              "(65534, 27)"
            ]
          },
          "metadata": {
            "tags": []
          },
          "execution_count": 32
        }
      ]
    },
    {
      "cell_type": "code",
      "metadata": {
        "id": "Luj0gQhR_Hh-",
        "colab_type": "code",
        "colab": {
          "base_uri": "https://localhost:8080/",
          "height": 34
        },
        "outputId": "93cb1508-0b46-47dc-81e5-502536cb8a27"
      },
      "source": [
        "encoded_normalized = remove_index_like(encoded_normalized)\n",
        "encoded_normalized.shape"
      ],
      "execution_count": 33,
      "outputs": [
        {
          "output_type": "execute_result",
          "data": {
            "text/plain": [
              "(65534, 27)"
            ]
          },
          "metadata": {
            "tags": []
          },
          "execution_count": 33
        }
      ]
    },
    {
      "cell_type": "markdown",
      "metadata": {
        "id": "Wpp72sYNbbbi",
        "colab_type": "text"
      },
      "source": [
        "##### **Correlation between columns of encoded data**"
      ]
    },
    {
      "cell_type": "markdown",
      "metadata": {
        "id": "kW4MMsd3ZaCm",
        "colab_type": "text"
      },
      "source": [
        "##### **Spearman's Rank Correlation**"
      ]
    },
    {
      "cell_type": "code",
      "metadata": {
        "id": "al_AsiPB_XeT",
        "colab_type": "code",
        "outputId": "9d6fc43c-cb63-4b39-9482-44b77156cca7",
        "colab": {
          "base_uri": "https://localhost:8080/",
          "height": 877
        }
      },
      "source": [
        "corr_spearman_df = encoded.corr(method='spearman')\n",
        "corr_spearman_df"
      ],
      "execution_count": 34,
      "outputs": [
        {
          "output_type": "execute_result",
          "data": {
            "text/html": [
              "<div>\n",
              "<style scoped>\n",
              "    .dataframe tbody tr th:only-of-type {\n",
              "        vertical-align: middle;\n",
              "    }\n",
              "\n",
              "    .dataframe tbody tr th {\n",
              "        vertical-align: top;\n",
              "    }\n",
              "\n",
              "    .dataframe thead th {\n",
              "        text-align: right;\n",
              "    }\n",
              "</style>\n",
              "<table border=\"1\" class=\"dataframe\">\n",
              "  <thead>\n",
              "    <tr style=\"text-align: right;\">\n",
              "      <th></th>\n",
              "      <th>V2</th>\n",
              "      <th>V4</th>\n",
              "      <th>V7</th>\n",
              "      <th>V17</th>\n",
              "      <th>V18</th>\n",
              "      <th>V19</th>\n",
              "      <th>V20</th>\n",
              "      <th>V22</th>\n",
              "      <th>V25</th>\n",
              "      <th>V27</th>\n",
              "      <th>V37</th>\n",
              "      <th>V47</th>\n",
              "      <th>V49</th>\n",
              "      <th>V50</th>\n",
              "      <th>V55</th>\n",
              "      <th>V59</th>\n",
              "      <th>V61</th>\n",
              "      <th>V62</th>\n",
              "      <th>V66</th>\n",
              "      <th>V67</th>\n",
              "      <th>V68</th>\n",
              "      <th>V69</th>\n",
              "      <th>V70</th>\n",
              "      <th>V71</th>\n",
              "      <th>V72</th>\n",
              "      <th>V106</th>\n",
              "      <th>V107</th>\n",
              "    </tr>\n",
              "  </thead>\n",
              "  <tbody>\n",
              "    <tr>\n",
              "      <th>V2</th>\n",
              "      <td>1.000000</td>\n",
              "      <td>-0.002267</td>\n",
              "      <td>NaN</td>\n",
              "      <td>NaN</td>\n",
              "      <td>-0.402743</td>\n",
              "      <td>-0.014277</td>\n",
              "      <td>-0.065482</td>\n",
              "      <td>-0.028335</td>\n",
              "      <td>0.969477</td>\n",
              "      <td>-0.098389</td>\n",
              "      <td>-0.008668</td>\n",
              "      <td>NaN</td>\n",
              "      <td>0.008561</td>\n",
              "      <td>-0.070602</td>\n",
              "      <td>0.057655</td>\n",
              "      <td>-0.128907</td>\n",
              "      <td>0.195165</td>\n",
              "      <td>0.043726</td>\n",
              "      <td>0.990214</td>\n",
              "      <td>-0.150347</td>\n",
              "      <td>0.122502</td>\n",
              "      <td>-0.195060</td>\n",
              "      <td>-0.150347</td>\n",
              "      <td>NaN</td>\n",
              "      <td>NaN</td>\n",
              "      <td>NaN</td>\n",
              "      <td>NaN</td>\n",
              "    </tr>\n",
              "    <tr>\n",
              "      <th>V4</th>\n",
              "      <td>-0.002267</td>\n",
              "      <td>1.000000</td>\n",
              "      <td>NaN</td>\n",
              "      <td>NaN</td>\n",
              "      <td>0.017972</td>\n",
              "      <td>-0.005003</td>\n",
              "      <td>0.008116</td>\n",
              "      <td>-0.010655</td>\n",
              "      <td>-0.001333</td>\n",
              "      <td>-0.029695</td>\n",
              "      <td>-0.003164</td>\n",
              "      <td>NaN</td>\n",
              "      <td>0.013828</td>\n",
              "      <td>0.000605</td>\n",
              "      <td>-0.013748</td>\n",
              "      <td>0.004278</td>\n",
              "      <td>-0.007442</td>\n",
              "      <td>0.000583</td>\n",
              "      <td>-0.002249</td>\n",
              "      <td>0.006769</td>\n",
              "      <td>-0.004496</td>\n",
              "      <td>0.007444</td>\n",
              "      <td>0.006769</td>\n",
              "      <td>NaN</td>\n",
              "      <td>NaN</td>\n",
              "      <td>NaN</td>\n",
              "      <td>NaN</td>\n",
              "    </tr>\n",
              "    <tr>\n",
              "      <th>V7</th>\n",
              "      <td>NaN</td>\n",
              "      <td>NaN</td>\n",
              "      <td>NaN</td>\n",
              "      <td>NaN</td>\n",
              "      <td>NaN</td>\n",
              "      <td>NaN</td>\n",
              "      <td>NaN</td>\n",
              "      <td>NaN</td>\n",
              "      <td>NaN</td>\n",
              "      <td>NaN</td>\n",
              "      <td>NaN</td>\n",
              "      <td>NaN</td>\n",
              "      <td>NaN</td>\n",
              "      <td>NaN</td>\n",
              "      <td>NaN</td>\n",
              "      <td>NaN</td>\n",
              "      <td>NaN</td>\n",
              "      <td>NaN</td>\n",
              "      <td>NaN</td>\n",
              "      <td>NaN</td>\n",
              "      <td>NaN</td>\n",
              "      <td>NaN</td>\n",
              "      <td>NaN</td>\n",
              "      <td>NaN</td>\n",
              "      <td>NaN</td>\n",
              "      <td>NaN</td>\n",
              "      <td>NaN</td>\n",
              "    </tr>\n",
              "    <tr>\n",
              "      <th>V17</th>\n",
              "      <td>NaN</td>\n",
              "      <td>NaN</td>\n",
              "      <td>NaN</td>\n",
              "      <td>NaN</td>\n",
              "      <td>NaN</td>\n",
              "      <td>NaN</td>\n",
              "      <td>NaN</td>\n",
              "      <td>NaN</td>\n",
              "      <td>NaN</td>\n",
              "      <td>NaN</td>\n",
              "      <td>NaN</td>\n",
              "      <td>NaN</td>\n",
              "      <td>NaN</td>\n",
              "      <td>NaN</td>\n",
              "      <td>NaN</td>\n",
              "      <td>NaN</td>\n",
              "      <td>NaN</td>\n",
              "      <td>NaN</td>\n",
              "      <td>NaN</td>\n",
              "      <td>NaN</td>\n",
              "      <td>NaN</td>\n",
              "      <td>NaN</td>\n",
              "      <td>NaN</td>\n",
              "      <td>NaN</td>\n",
              "      <td>NaN</td>\n",
              "      <td>NaN</td>\n",
              "      <td>NaN</td>\n",
              "    </tr>\n",
              "    <tr>\n",
              "      <th>V18</th>\n",
              "      <td>-0.402743</td>\n",
              "      <td>0.017972</td>\n",
              "      <td>NaN</td>\n",
              "      <td>NaN</td>\n",
              "      <td>1.000000</td>\n",
              "      <td>0.017176</td>\n",
              "      <td>-0.004814</td>\n",
              "      <td>0.113788</td>\n",
              "      <td>-0.398411</td>\n",
              "      <td>0.135669</td>\n",
              "      <td>0.148511</td>\n",
              "      <td>NaN</td>\n",
              "      <td>0.130110</td>\n",
              "      <td>0.057071</td>\n",
              "      <td>-0.008994</td>\n",
              "      <td>0.085259</td>\n",
              "      <td>-0.106974</td>\n",
              "      <td>-0.017610</td>\n",
              "      <td>-0.406723</td>\n",
              "      <td>0.091596</td>\n",
              "      <td>-0.083414</td>\n",
              "      <td>0.106975</td>\n",
              "      <td>0.091596</td>\n",
              "      <td>NaN</td>\n",
              "      <td>NaN</td>\n",
              "      <td>NaN</td>\n",
              "      <td>NaN</td>\n",
              "    </tr>\n",
              "    <tr>\n",
              "      <th>V19</th>\n",
              "      <td>-0.014277</td>\n",
              "      <td>-0.005003</td>\n",
              "      <td>NaN</td>\n",
              "      <td>NaN</td>\n",
              "      <td>0.017176</td>\n",
              "      <td>1.000000</td>\n",
              "      <td>0.196998</td>\n",
              "      <td>-0.020608</td>\n",
              "      <td>-0.009669</td>\n",
              "      <td>0.059290</td>\n",
              "      <td>0.000232</td>\n",
              "      <td>NaN</td>\n",
              "      <td>0.005180</td>\n",
              "      <td>0.017928</td>\n",
              "      <td>0.082231</td>\n",
              "      <td>0.003022</td>\n",
              "      <td>0.008375</td>\n",
              "      <td>-0.000624</td>\n",
              "      <td>-0.009990</td>\n",
              "      <td>0.003247</td>\n",
              "      <td>-0.002957</td>\n",
              "      <td>-0.008376</td>\n",
              "      <td>0.003247</td>\n",
              "      <td>NaN</td>\n",
              "      <td>NaN</td>\n",
              "      <td>NaN</td>\n",
              "      <td>NaN</td>\n",
              "    </tr>\n",
              "    <tr>\n",
              "      <th>V20</th>\n",
              "      <td>-0.065482</td>\n",
              "      <td>0.008116</td>\n",
              "      <td>NaN</td>\n",
              "      <td>NaN</td>\n",
              "      <td>-0.004814</td>\n",
              "      <td>0.196998</td>\n",
              "      <td>1.000000</td>\n",
              "      <td>-0.341511</td>\n",
              "      <td>-0.064778</td>\n",
              "      <td>-0.360057</td>\n",
              "      <td>0.021615</td>\n",
              "      <td>NaN</td>\n",
              "      <td>0.036549</td>\n",
              "      <td>-0.180234</td>\n",
              "      <td>-0.066230</td>\n",
              "      <td>0.013862</td>\n",
              "      <td>-0.017393</td>\n",
              "      <td>-0.002863</td>\n",
              "      <td>-0.066129</td>\n",
              "      <td>0.014893</td>\n",
              "      <td>-0.013562</td>\n",
              "      <td>0.017393</td>\n",
              "      <td>0.014893</td>\n",
              "      <td>NaN</td>\n",
              "      <td>NaN</td>\n",
              "      <td>NaN</td>\n",
              "      <td>NaN</td>\n",
              "    </tr>\n",
              "    <tr>\n",
              "      <th>V22</th>\n",
              "      <td>-0.028335</td>\n",
              "      <td>-0.010655</td>\n",
              "      <td>NaN</td>\n",
              "      <td>NaN</td>\n",
              "      <td>0.113788</td>\n",
              "      <td>-0.020608</td>\n",
              "      <td>-0.341511</td>\n",
              "      <td>1.000000</td>\n",
              "      <td>-0.049761</td>\n",
              "      <td>0.955708</td>\n",
              "      <td>0.071383</td>\n",
              "      <td>NaN</td>\n",
              "      <td>0.183200</td>\n",
              "      <td>0.093664</td>\n",
              "      <td>0.236110</td>\n",
              "      <td>-0.014631</td>\n",
              "      <td>0.011996</td>\n",
              "      <td>-0.009520</td>\n",
              "      <td>-0.029788</td>\n",
              "      <td>-0.011043</td>\n",
              "      <td>0.016967</td>\n",
              "      <td>-0.011977</td>\n",
              "      <td>-0.011043</td>\n",
              "      <td>NaN</td>\n",
              "      <td>NaN</td>\n",
              "      <td>NaN</td>\n",
              "      <td>NaN</td>\n",
              "    </tr>\n",
              "    <tr>\n",
              "      <th>V25</th>\n",
              "      <td>0.969477</td>\n",
              "      <td>-0.001333</td>\n",
              "      <td>NaN</td>\n",
              "      <td>NaN</td>\n",
              "      <td>-0.398411</td>\n",
              "      <td>-0.009669</td>\n",
              "      <td>-0.064778</td>\n",
              "      <td>-0.049761</td>\n",
              "      <td>1.000000</td>\n",
              "      <td>-0.108212</td>\n",
              "      <td>-0.011713</td>\n",
              "      <td>NaN</td>\n",
              "      <td>0.003238</td>\n",
              "      <td>-0.080031</td>\n",
              "      <td>0.060628</td>\n",
              "      <td>-0.211164</td>\n",
              "      <td>0.255035</td>\n",
              "      <td>0.044773</td>\n",
              "      <td>0.979564</td>\n",
              "      <td>-0.226787</td>\n",
              "      <td>0.206350</td>\n",
              "      <td>-0.255033</td>\n",
              "      <td>-0.226787</td>\n",
              "      <td>NaN</td>\n",
              "      <td>NaN</td>\n",
              "      <td>NaN</td>\n",
              "      <td>NaN</td>\n",
              "    </tr>\n",
              "    <tr>\n",
              "      <th>V27</th>\n",
              "      <td>-0.098389</td>\n",
              "      <td>-0.029695</td>\n",
              "      <td>NaN</td>\n",
              "      <td>NaN</td>\n",
              "      <td>0.135669</td>\n",
              "      <td>0.059290</td>\n",
              "      <td>-0.360057</td>\n",
              "      <td>0.955708</td>\n",
              "      <td>-0.108212</td>\n",
              "      <td>1.000000</td>\n",
              "      <td>0.073217</td>\n",
              "      <td>NaN</td>\n",
              "      <td>0.106978</td>\n",
              "      <td>0.111422</td>\n",
              "      <td>0.257812</td>\n",
              "      <td>-0.005663</td>\n",
              "      <td>0.003511</td>\n",
              "      <td>-0.010529</td>\n",
              "      <td>-0.096609</td>\n",
              "      <td>-0.006874</td>\n",
              "      <td>0.008014</td>\n",
              "      <td>-0.003529</td>\n",
              "      <td>-0.006874</td>\n",
              "      <td>NaN</td>\n",
              "      <td>NaN</td>\n",
              "      <td>NaN</td>\n",
              "      <td>NaN</td>\n",
              "    </tr>\n",
              "    <tr>\n",
              "      <th>V37</th>\n",
              "      <td>-0.008668</td>\n",
              "      <td>-0.003164</td>\n",
              "      <td>NaN</td>\n",
              "      <td>NaN</td>\n",
              "      <td>0.148511</td>\n",
              "      <td>0.000232</td>\n",
              "      <td>0.021615</td>\n",
              "      <td>0.071383</td>\n",
              "      <td>-0.011713</td>\n",
              "      <td>0.073217</td>\n",
              "      <td>1.000000</td>\n",
              "      <td>NaN</td>\n",
              "      <td>0.418433</td>\n",
              "      <td>0.072259</td>\n",
              "      <td>0.036309</td>\n",
              "      <td>0.007900</td>\n",
              "      <td>-0.007231</td>\n",
              "      <td>0.001202</td>\n",
              "      <td>-0.011058</td>\n",
              "      <td>0.006522</td>\n",
              "      <td>-0.008329</td>\n",
              "      <td>0.007246</td>\n",
              "      <td>0.006522</td>\n",
              "      <td>NaN</td>\n",
              "      <td>NaN</td>\n",
              "      <td>NaN</td>\n",
              "      <td>NaN</td>\n",
              "    </tr>\n",
              "    <tr>\n",
              "      <th>V47</th>\n",
              "      <td>NaN</td>\n",
              "      <td>NaN</td>\n",
              "      <td>NaN</td>\n",
              "      <td>NaN</td>\n",
              "      <td>NaN</td>\n",
              "      <td>NaN</td>\n",
              "      <td>NaN</td>\n",
              "      <td>NaN</td>\n",
              "      <td>NaN</td>\n",
              "      <td>NaN</td>\n",
              "      <td>NaN</td>\n",
              "      <td>NaN</td>\n",
              "      <td>NaN</td>\n",
              "      <td>NaN</td>\n",
              "      <td>NaN</td>\n",
              "      <td>NaN</td>\n",
              "      <td>NaN</td>\n",
              "      <td>NaN</td>\n",
              "      <td>NaN</td>\n",
              "      <td>NaN</td>\n",
              "      <td>NaN</td>\n",
              "      <td>NaN</td>\n",
              "      <td>NaN</td>\n",
              "      <td>NaN</td>\n",
              "      <td>NaN</td>\n",
              "      <td>NaN</td>\n",
              "      <td>NaN</td>\n",
              "    </tr>\n",
              "    <tr>\n",
              "      <th>V49</th>\n",
              "      <td>0.008561</td>\n",
              "      <td>0.013828</td>\n",
              "      <td>NaN</td>\n",
              "      <td>NaN</td>\n",
              "      <td>0.130110</td>\n",
              "      <td>0.005180</td>\n",
              "      <td>0.036549</td>\n",
              "      <td>0.183200</td>\n",
              "      <td>0.003238</td>\n",
              "      <td>0.106978</td>\n",
              "      <td>0.418433</td>\n",
              "      <td>NaN</td>\n",
              "      <td>1.000000</td>\n",
              "      <td>0.020620</td>\n",
              "      <td>0.022145</td>\n",
              "      <td>0.016677</td>\n",
              "      <td>-0.018816</td>\n",
              "      <td>0.001473</td>\n",
              "      <td>0.003936</td>\n",
              "      <td>0.020374</td>\n",
              "      <td>-0.017356</td>\n",
              "      <td>0.018850</td>\n",
              "      <td>0.020374</td>\n",
              "      <td>NaN</td>\n",
              "      <td>NaN</td>\n",
              "      <td>NaN</td>\n",
              "      <td>NaN</td>\n",
              "    </tr>\n",
              "    <tr>\n",
              "      <th>V50</th>\n",
              "      <td>-0.070602</td>\n",
              "      <td>0.000605</td>\n",
              "      <td>NaN</td>\n",
              "      <td>NaN</td>\n",
              "      <td>0.057071</td>\n",
              "      <td>0.017928</td>\n",
              "      <td>-0.180234</td>\n",
              "      <td>0.093664</td>\n",
              "      <td>-0.080031</td>\n",
              "      <td>0.111422</td>\n",
              "      <td>0.072259</td>\n",
              "      <td>NaN</td>\n",
              "      <td>0.020620</td>\n",
              "      <td>1.000000</td>\n",
              "      <td>0.086096</td>\n",
              "      <td>-0.009936</td>\n",
              "      <td>0.009618</td>\n",
              "      <td>-0.008950</td>\n",
              "      <td>-0.068520</td>\n",
              "      <td>-0.011417</td>\n",
              "      <td>0.012047</td>\n",
              "      <td>-0.009635</td>\n",
              "      <td>-0.011417</td>\n",
              "      <td>NaN</td>\n",
              "      <td>NaN</td>\n",
              "      <td>NaN</td>\n",
              "      <td>NaN</td>\n",
              "    </tr>\n",
              "    <tr>\n",
              "      <th>V55</th>\n",
              "      <td>0.057655</td>\n",
              "      <td>-0.013748</td>\n",
              "      <td>NaN</td>\n",
              "      <td>NaN</td>\n",
              "      <td>-0.008994</td>\n",
              "      <td>0.082231</td>\n",
              "      <td>-0.066230</td>\n",
              "      <td>0.236110</td>\n",
              "      <td>0.060628</td>\n",
              "      <td>0.257812</td>\n",
              "      <td>0.036309</td>\n",
              "      <td>NaN</td>\n",
              "      <td>0.022145</td>\n",
              "      <td>0.086096</td>\n",
              "      <td>1.000000</td>\n",
              "      <td>-0.003442</td>\n",
              "      <td>0.012776</td>\n",
              "      <td>-0.004622</td>\n",
              "      <td>0.058172</td>\n",
              "      <td>-0.007501</td>\n",
              "      <td>0.004495</td>\n",
              "      <td>-0.012789</td>\n",
              "      <td>-0.007501</td>\n",
              "      <td>NaN</td>\n",
              "      <td>NaN</td>\n",
              "      <td>NaN</td>\n",
              "      <td>NaN</td>\n",
              "    </tr>\n",
              "    <tr>\n",
              "      <th>V59</th>\n",
              "      <td>-0.128907</td>\n",
              "      <td>0.004278</td>\n",
              "      <td>NaN</td>\n",
              "      <td>NaN</td>\n",
              "      <td>0.085259</td>\n",
              "      <td>0.003022</td>\n",
              "      <td>0.013862</td>\n",
              "      <td>-0.014631</td>\n",
              "      <td>-0.211164</td>\n",
              "      <td>-0.005663</td>\n",
              "      <td>0.007900</td>\n",
              "      <td>NaN</td>\n",
              "      <td>0.016677</td>\n",
              "      <td>-0.009936</td>\n",
              "      <td>-0.003442</td>\n",
              "      <td>1.000000</td>\n",
              "      <td>-0.797284</td>\n",
              "      <td>-0.206548</td>\n",
              "      <td>-0.209625</td>\n",
              "      <td>0.930821</td>\n",
              "      <td>-0.978362</td>\n",
              "      <td>0.797006</td>\n",
              "      <td>0.930821</td>\n",
              "      <td>NaN</td>\n",
              "      <td>NaN</td>\n",
              "      <td>NaN</td>\n",
              "      <td>NaN</td>\n",
              "    </tr>\n",
              "    <tr>\n",
              "      <th>V61</th>\n",
              "      <td>0.195165</td>\n",
              "      <td>-0.007442</td>\n",
              "      <td>NaN</td>\n",
              "      <td>NaN</td>\n",
              "      <td>-0.106974</td>\n",
              "      <td>0.008375</td>\n",
              "      <td>-0.017393</td>\n",
              "      <td>0.011996</td>\n",
              "      <td>0.255035</td>\n",
              "      <td>0.003511</td>\n",
              "      <td>-0.007231</td>\n",
              "      <td>NaN</td>\n",
              "      <td>-0.018816</td>\n",
              "      <td>0.009618</td>\n",
              "      <td>0.012776</td>\n",
              "      <td>-0.797284</td>\n",
              "      <td>1.000000</td>\n",
              "      <td>0.165068</td>\n",
              "      <td>0.263016</td>\n",
              "      <td>-0.856262</td>\n",
              "      <td>0.779949</td>\n",
              "      <td>-0.999999</td>\n",
              "      <td>-0.856262</td>\n",
              "      <td>NaN</td>\n",
              "      <td>NaN</td>\n",
              "      <td>NaN</td>\n",
              "      <td>NaN</td>\n",
              "    </tr>\n",
              "    <tr>\n",
              "      <th>V62</th>\n",
              "      <td>0.043726</td>\n",
              "      <td>0.000583</td>\n",
              "      <td>NaN</td>\n",
              "      <td>NaN</td>\n",
              "      <td>-0.017610</td>\n",
              "      <td>-0.000624</td>\n",
              "      <td>-0.002863</td>\n",
              "      <td>-0.009520</td>\n",
              "      <td>0.044773</td>\n",
              "      <td>-0.010529</td>\n",
              "      <td>0.001202</td>\n",
              "      <td>NaN</td>\n",
              "      <td>0.001473</td>\n",
              "      <td>-0.008950</td>\n",
              "      <td>-0.004622</td>\n",
              "      <td>-0.206548</td>\n",
              "      <td>0.165068</td>\n",
              "      <td>1.000000</td>\n",
              "      <td>0.043298</td>\n",
              "      <td>-0.192259</td>\n",
              "      <td>-0.000361</td>\n",
              "      <td>-0.164620</td>\n",
              "      <td>-0.192259</td>\n",
              "      <td>NaN</td>\n",
              "      <td>NaN</td>\n",
              "      <td>NaN</td>\n",
              "      <td>NaN</td>\n",
              "    </tr>\n",
              "    <tr>\n",
              "      <th>V66</th>\n",
              "      <td>0.990214</td>\n",
              "      <td>-0.002249</td>\n",
              "      <td>NaN</td>\n",
              "      <td>NaN</td>\n",
              "      <td>-0.406723</td>\n",
              "      <td>-0.009990</td>\n",
              "      <td>-0.066129</td>\n",
              "      <td>-0.029788</td>\n",
              "      <td>0.979564</td>\n",
              "      <td>-0.096609</td>\n",
              "      <td>-0.011058</td>\n",
              "      <td>NaN</td>\n",
              "      <td>0.003936</td>\n",
              "      <td>-0.068520</td>\n",
              "      <td>0.058172</td>\n",
              "      <td>-0.209625</td>\n",
              "      <td>0.263016</td>\n",
              "      <td>0.043298</td>\n",
              "      <td>1.000000</td>\n",
              "      <td>-0.225205</td>\n",
              "      <td>0.205089</td>\n",
              "      <td>-0.263016</td>\n",
              "      <td>-0.225205</td>\n",
              "      <td>NaN</td>\n",
              "      <td>NaN</td>\n",
              "      <td>NaN</td>\n",
              "      <td>NaN</td>\n",
              "    </tr>\n",
              "    <tr>\n",
              "      <th>V67</th>\n",
              "      <td>-0.150347</td>\n",
              "      <td>0.006769</td>\n",
              "      <td>NaN</td>\n",
              "      <td>NaN</td>\n",
              "      <td>0.091596</td>\n",
              "      <td>0.003247</td>\n",
              "      <td>0.014893</td>\n",
              "      <td>-0.011043</td>\n",
              "      <td>-0.226787</td>\n",
              "      <td>-0.006874</td>\n",
              "      <td>0.006522</td>\n",
              "      <td>NaN</td>\n",
              "      <td>0.020374</td>\n",
              "      <td>-0.011417</td>\n",
              "      <td>-0.007501</td>\n",
              "      <td>0.930821</td>\n",
              "      <td>-0.856262</td>\n",
              "      <td>-0.192259</td>\n",
              "      <td>-0.225205</td>\n",
              "      <td>1.000000</td>\n",
              "      <td>-0.910680</td>\n",
              "      <td>0.856239</td>\n",
              "      <td>1.000000</td>\n",
              "      <td>NaN</td>\n",
              "      <td>NaN</td>\n",
              "      <td>NaN</td>\n",
              "      <td>NaN</td>\n",
              "    </tr>\n",
              "    <tr>\n",
              "      <th>V68</th>\n",
              "      <td>0.122502</td>\n",
              "      <td>-0.004496</td>\n",
              "      <td>NaN</td>\n",
              "      <td>NaN</td>\n",
              "      <td>-0.083414</td>\n",
              "      <td>-0.002957</td>\n",
              "      <td>-0.013562</td>\n",
              "      <td>0.016967</td>\n",
              "      <td>0.206350</td>\n",
              "      <td>0.008014</td>\n",
              "      <td>-0.008329</td>\n",
              "      <td>NaN</td>\n",
              "      <td>-0.017356</td>\n",
              "      <td>0.012047</td>\n",
              "      <td>0.004495</td>\n",
              "      <td>-0.978362</td>\n",
              "      <td>0.779949</td>\n",
              "      <td>-0.000361</td>\n",
              "      <td>0.205089</td>\n",
              "      <td>-0.910680</td>\n",
              "      <td>1.000000</td>\n",
              "      <td>-0.779760</td>\n",
              "      <td>-0.910680</td>\n",
              "      <td>NaN</td>\n",
              "      <td>NaN</td>\n",
              "      <td>NaN</td>\n",
              "      <td>NaN</td>\n",
              "    </tr>\n",
              "    <tr>\n",
              "      <th>V69</th>\n",
              "      <td>-0.195060</td>\n",
              "      <td>0.007444</td>\n",
              "      <td>NaN</td>\n",
              "      <td>NaN</td>\n",
              "      <td>0.106975</td>\n",
              "      <td>-0.008376</td>\n",
              "      <td>0.017393</td>\n",
              "      <td>-0.011977</td>\n",
              "      <td>-0.255033</td>\n",
              "      <td>-0.003529</td>\n",
              "      <td>0.007246</td>\n",
              "      <td>NaN</td>\n",
              "      <td>0.018850</td>\n",
              "      <td>-0.009635</td>\n",
              "      <td>-0.012789</td>\n",
              "      <td>0.797006</td>\n",
              "      <td>-0.999999</td>\n",
              "      <td>-0.164620</td>\n",
              "      <td>-0.263016</td>\n",
              "      <td>0.856239</td>\n",
              "      <td>-0.779760</td>\n",
              "      <td>1.000000</td>\n",
              "      <td>0.856239</td>\n",
              "      <td>NaN</td>\n",
              "      <td>NaN</td>\n",
              "      <td>NaN</td>\n",
              "      <td>NaN</td>\n",
              "    </tr>\n",
              "    <tr>\n",
              "      <th>V70</th>\n",
              "      <td>-0.150347</td>\n",
              "      <td>0.006769</td>\n",
              "      <td>NaN</td>\n",
              "      <td>NaN</td>\n",
              "      <td>0.091596</td>\n",
              "      <td>0.003247</td>\n",
              "      <td>0.014893</td>\n",
              "      <td>-0.011043</td>\n",
              "      <td>-0.226787</td>\n",
              "      <td>-0.006874</td>\n",
              "      <td>0.006522</td>\n",
              "      <td>NaN</td>\n",
              "      <td>0.020374</td>\n",
              "      <td>-0.011417</td>\n",
              "      <td>-0.007501</td>\n",
              "      <td>0.930821</td>\n",
              "      <td>-0.856262</td>\n",
              "      <td>-0.192259</td>\n",
              "      <td>-0.225205</td>\n",
              "      <td>1.000000</td>\n",
              "      <td>-0.910680</td>\n",
              "      <td>0.856239</td>\n",
              "      <td>1.000000</td>\n",
              "      <td>NaN</td>\n",
              "      <td>NaN</td>\n",
              "      <td>NaN</td>\n",
              "      <td>NaN</td>\n",
              "    </tr>\n",
              "    <tr>\n",
              "      <th>V71</th>\n",
              "      <td>NaN</td>\n",
              "      <td>NaN</td>\n",
              "      <td>NaN</td>\n",
              "      <td>NaN</td>\n",
              "      <td>NaN</td>\n",
              "      <td>NaN</td>\n",
              "      <td>NaN</td>\n",
              "      <td>NaN</td>\n",
              "      <td>NaN</td>\n",
              "      <td>NaN</td>\n",
              "      <td>NaN</td>\n",
              "      <td>NaN</td>\n",
              "      <td>NaN</td>\n",
              "      <td>NaN</td>\n",
              "      <td>NaN</td>\n",
              "      <td>NaN</td>\n",
              "      <td>NaN</td>\n",
              "      <td>NaN</td>\n",
              "      <td>NaN</td>\n",
              "      <td>NaN</td>\n",
              "      <td>NaN</td>\n",
              "      <td>NaN</td>\n",
              "      <td>NaN</td>\n",
              "      <td>NaN</td>\n",
              "      <td>NaN</td>\n",
              "      <td>NaN</td>\n",
              "      <td>NaN</td>\n",
              "    </tr>\n",
              "    <tr>\n",
              "      <th>V72</th>\n",
              "      <td>NaN</td>\n",
              "      <td>NaN</td>\n",
              "      <td>NaN</td>\n",
              "      <td>NaN</td>\n",
              "      <td>NaN</td>\n",
              "      <td>NaN</td>\n",
              "      <td>NaN</td>\n",
              "      <td>NaN</td>\n",
              "      <td>NaN</td>\n",
              "      <td>NaN</td>\n",
              "      <td>NaN</td>\n",
              "      <td>NaN</td>\n",
              "      <td>NaN</td>\n",
              "      <td>NaN</td>\n",
              "      <td>NaN</td>\n",
              "      <td>NaN</td>\n",
              "      <td>NaN</td>\n",
              "      <td>NaN</td>\n",
              "      <td>NaN</td>\n",
              "      <td>NaN</td>\n",
              "      <td>NaN</td>\n",
              "      <td>NaN</td>\n",
              "      <td>NaN</td>\n",
              "      <td>NaN</td>\n",
              "      <td>NaN</td>\n",
              "      <td>NaN</td>\n",
              "      <td>NaN</td>\n",
              "    </tr>\n",
              "    <tr>\n",
              "      <th>V106</th>\n",
              "      <td>NaN</td>\n",
              "      <td>NaN</td>\n",
              "      <td>NaN</td>\n",
              "      <td>NaN</td>\n",
              "      <td>NaN</td>\n",
              "      <td>NaN</td>\n",
              "      <td>NaN</td>\n",
              "      <td>NaN</td>\n",
              "      <td>NaN</td>\n",
              "      <td>NaN</td>\n",
              "      <td>NaN</td>\n",
              "      <td>NaN</td>\n",
              "      <td>NaN</td>\n",
              "      <td>NaN</td>\n",
              "      <td>NaN</td>\n",
              "      <td>NaN</td>\n",
              "      <td>NaN</td>\n",
              "      <td>NaN</td>\n",
              "      <td>NaN</td>\n",
              "      <td>NaN</td>\n",
              "      <td>NaN</td>\n",
              "      <td>NaN</td>\n",
              "      <td>NaN</td>\n",
              "      <td>NaN</td>\n",
              "      <td>NaN</td>\n",
              "      <td>NaN</td>\n",
              "      <td>NaN</td>\n",
              "    </tr>\n",
              "    <tr>\n",
              "      <th>V107</th>\n",
              "      <td>NaN</td>\n",
              "      <td>NaN</td>\n",
              "      <td>NaN</td>\n",
              "      <td>NaN</td>\n",
              "      <td>NaN</td>\n",
              "      <td>NaN</td>\n",
              "      <td>NaN</td>\n",
              "      <td>NaN</td>\n",
              "      <td>NaN</td>\n",
              "      <td>NaN</td>\n",
              "      <td>NaN</td>\n",
              "      <td>NaN</td>\n",
              "      <td>NaN</td>\n",
              "      <td>NaN</td>\n",
              "      <td>NaN</td>\n",
              "      <td>NaN</td>\n",
              "      <td>NaN</td>\n",
              "      <td>NaN</td>\n",
              "      <td>NaN</td>\n",
              "      <td>NaN</td>\n",
              "      <td>NaN</td>\n",
              "      <td>NaN</td>\n",
              "      <td>NaN</td>\n",
              "      <td>NaN</td>\n",
              "      <td>NaN</td>\n",
              "      <td>NaN</td>\n",
              "      <td>NaN</td>\n",
              "    </tr>\n",
              "  </tbody>\n",
              "</table>\n",
              "</div>"
            ],
            "text/plain": [
              "            V2        V4  V7  V17       V18  ...       V70  V71  V72  V106  V107\n",
              "V2    1.000000 -0.002267 NaN  NaN -0.402743  ... -0.150347  NaN  NaN   NaN   NaN\n",
              "V4   -0.002267  1.000000 NaN  NaN  0.017972  ...  0.006769  NaN  NaN   NaN   NaN\n",
              "V7         NaN       NaN NaN  NaN       NaN  ...       NaN  NaN  NaN   NaN   NaN\n",
              "V17        NaN       NaN NaN  NaN       NaN  ...       NaN  NaN  NaN   NaN   NaN\n",
              "V18  -0.402743  0.017972 NaN  NaN  1.000000  ...  0.091596  NaN  NaN   NaN   NaN\n",
              "V19  -0.014277 -0.005003 NaN  NaN  0.017176  ...  0.003247  NaN  NaN   NaN   NaN\n",
              "V20  -0.065482  0.008116 NaN  NaN -0.004814  ...  0.014893  NaN  NaN   NaN   NaN\n",
              "V22  -0.028335 -0.010655 NaN  NaN  0.113788  ... -0.011043  NaN  NaN   NaN   NaN\n",
              "V25   0.969477 -0.001333 NaN  NaN -0.398411  ... -0.226787  NaN  NaN   NaN   NaN\n",
              "V27  -0.098389 -0.029695 NaN  NaN  0.135669  ... -0.006874  NaN  NaN   NaN   NaN\n",
              "V37  -0.008668 -0.003164 NaN  NaN  0.148511  ...  0.006522  NaN  NaN   NaN   NaN\n",
              "V47        NaN       NaN NaN  NaN       NaN  ...       NaN  NaN  NaN   NaN   NaN\n",
              "V49   0.008561  0.013828 NaN  NaN  0.130110  ...  0.020374  NaN  NaN   NaN   NaN\n",
              "V50  -0.070602  0.000605 NaN  NaN  0.057071  ... -0.011417  NaN  NaN   NaN   NaN\n",
              "V55   0.057655 -0.013748 NaN  NaN -0.008994  ... -0.007501  NaN  NaN   NaN   NaN\n",
              "V59  -0.128907  0.004278 NaN  NaN  0.085259  ...  0.930821  NaN  NaN   NaN   NaN\n",
              "V61   0.195165 -0.007442 NaN  NaN -0.106974  ... -0.856262  NaN  NaN   NaN   NaN\n",
              "V62   0.043726  0.000583 NaN  NaN -0.017610  ... -0.192259  NaN  NaN   NaN   NaN\n",
              "V66   0.990214 -0.002249 NaN  NaN -0.406723  ... -0.225205  NaN  NaN   NaN   NaN\n",
              "V67  -0.150347  0.006769 NaN  NaN  0.091596  ...  1.000000  NaN  NaN   NaN   NaN\n",
              "V68   0.122502 -0.004496 NaN  NaN -0.083414  ... -0.910680  NaN  NaN   NaN   NaN\n",
              "V69  -0.195060  0.007444 NaN  NaN  0.106975  ...  0.856239  NaN  NaN   NaN   NaN\n",
              "V70  -0.150347  0.006769 NaN  NaN  0.091596  ...  1.000000  NaN  NaN   NaN   NaN\n",
              "V71        NaN       NaN NaN  NaN       NaN  ...       NaN  NaN  NaN   NaN   NaN\n",
              "V72        NaN       NaN NaN  NaN       NaN  ...       NaN  NaN  NaN   NaN   NaN\n",
              "V106       NaN       NaN NaN  NaN       NaN  ...       NaN  NaN  NaN   NaN   NaN\n",
              "V107       NaN       NaN NaN  NaN       NaN  ...       NaN  NaN  NaN   NaN   NaN\n",
              "\n",
              "[27 rows x 27 columns]"
            ]
          },
          "metadata": {
            "tags": []
          },
          "execution_count": 34
        }
      ]
    },
    {
      "cell_type": "markdown",
      "metadata": {
        "id": "irM2quJDqxOO",
        "colab_type": "text"
      },
      "source": [
        "##### **We will now try to return the pairs for which there is significant correlation between columns**"
      ]
    },
    {
      "cell_type": "code",
      "metadata": {
        "id": "r8OnnPJ9KJfX",
        "colab_type": "code",
        "colab": {}
      },
      "source": [
        "index_dict2={}\n",
        "for col in corr_spearman_df:\n",
        "  ## Picking out pairs for which the correlation is greater than 0.7 or by our understanding, high\n",
        "  index = np.where(abs(corr_spearman_df[col]) > 0.7)\n",
        "  ## Getting indices of such pairs\n",
        "  index_dict2[col]=index"
      ],
      "execution_count": 0,
      "outputs": []
    },
    {
      "cell_type": "code",
      "metadata": {
        "id": "1kBI-uR2KgfW",
        "colab_type": "code",
        "colab": {}
      },
      "source": [
        "names2=np.array(corr_spearman_df.columns)\n",
        "for key in index_dict2.keys():\n",
        "  ## Coverting the indices into column names\n",
        "  index_dict2[key]=names2[index_dict2[key][0]]"
      ],
      "execution_count": 0,
      "outputs": []
    },
    {
      "cell_type": "code",
      "metadata": {
        "id": "bmP2nKuSKnU5",
        "colab_type": "code",
        "outputId": "11dd0798-b22f-4630-b9d0-b72c0485c2f1",
        "colab": {
          "base_uri": "https://localhost:8080/",
          "height": 496
        }
      },
      "source": [
        "index_dict2"
      ],
      "execution_count": 37,
      "outputs": [
        {
          "output_type": "execute_result",
          "data": {
            "text/plain": [
              "{'V106': array([], dtype=object),\n",
              " 'V107': array([], dtype=object),\n",
              " 'V17': array([], dtype=object),\n",
              " 'V18': array(['V18'], dtype=object),\n",
              " 'V19': array(['V19'], dtype=object),\n",
              " 'V2': array(['V2', 'V25', 'V66'], dtype=object),\n",
              " 'V20': array(['V20'], dtype=object),\n",
              " 'V22': array(['V22', 'V27'], dtype=object),\n",
              " 'V25': array(['V2', 'V25', 'V66'], dtype=object),\n",
              " 'V27': array(['V22', 'V27'], dtype=object),\n",
              " 'V37': array(['V37'], dtype=object),\n",
              " 'V4': array(['V4'], dtype=object),\n",
              " 'V47': array([], dtype=object),\n",
              " 'V49': array(['V49'], dtype=object),\n",
              " 'V50': array(['V50'], dtype=object),\n",
              " 'V55': array(['V55'], dtype=object),\n",
              " 'V59': array(['V59', 'V61', 'V67', 'V68', 'V69', 'V70'], dtype=object),\n",
              " 'V61': array(['V59', 'V61', 'V67', 'V68', 'V69', 'V70'], dtype=object),\n",
              " 'V62': array(['V62'], dtype=object),\n",
              " 'V66': array(['V2', 'V25', 'V66'], dtype=object),\n",
              " 'V67': array(['V59', 'V61', 'V67', 'V68', 'V69', 'V70'], dtype=object),\n",
              " 'V68': array(['V59', 'V61', 'V67', 'V68', 'V69', 'V70'], dtype=object),\n",
              " 'V69': array(['V59', 'V61', 'V67', 'V68', 'V69', 'V70'], dtype=object),\n",
              " 'V7': array([], dtype=object),\n",
              " 'V70': array(['V59', 'V61', 'V67', 'V68', 'V69', 'V70'], dtype=object),\n",
              " 'V71': array([], dtype=object),\n",
              " 'V72': array([], dtype=object)}"
            ]
          },
          "metadata": {
            "tags": []
          },
          "execution_count": 37
        }
      ]
    },
    {
      "cell_type": "markdown",
      "metadata": {
        "id": "PSZAHEPV1Fp7",
        "colab_type": "text"
      },
      "source": [
        "##### **Doing the same for the normalized and encoded dataframe**"
      ]
    },
    {
      "cell_type": "code",
      "metadata": {
        "id": "Fm0g4wsE1Ex3",
        "colab_type": "code",
        "colab": {
          "base_uri": "https://localhost:8080/",
          "height": 34
        },
        "outputId": "70067fd0-3395-49d5-9ea6-e1c4fcde8527"
      },
      "source": [
        "start = time.time()\n",
        "corr_spearman_df_normed = encoded_normalized.corr(method='spearman')\n",
        "\n",
        "index_dict3={}\n",
        "for col in corr_spearman_df_normed:\n",
        "  index = np.where(abs(corr_spearman_df_normed[col]) > 0.7)\n",
        "  index_dict3[col]=index\n",
        "\n",
        "names3=np.array(corr_spearman_df_normed.columns)\n",
        "for key in index_dict3.keys():\n",
        "  index_dict3[key]=names3[index_dict3[key][0]]\n",
        "\n",
        "end = time.time()\n",
        "print(\"Time taken to create Correlation Dictionary for encoded and normalized dataframe is: {} seconds\".format(end-start))"
      ],
      "execution_count": 38,
      "outputs": [
        {
          "output_type": "stream",
          "text": [
            "Time taken to create Correlation Dictionary for encoded and normalized dataframe is: 1.9103021621704102 seconds\n"
          ],
          "name": "stdout"
        }
      ]
    },
    {
      "cell_type": "code",
      "metadata": {
        "id": "zR18y2Dr3zYW",
        "colab_type": "code",
        "colab": {
          "base_uri": "https://localhost:8080/",
          "height": 496
        },
        "outputId": "3f998b17-c82e-4647-9448-559dff8bf86e"
      },
      "source": [
        "index_dict3"
      ],
      "execution_count": 39,
      "outputs": [
        {
          "output_type": "execute_result",
          "data": {
            "text/plain": [
              "{'V106': array([], dtype=object),\n",
              " 'V107': array([], dtype=object),\n",
              " 'V17': array([], dtype=object),\n",
              " 'V18': array(['V18'], dtype=object),\n",
              " 'V19': array(['V19'], dtype=object),\n",
              " 'V2': array(['V2', 'V25', 'V66'], dtype=object),\n",
              " 'V20': array(['V20'], dtype=object),\n",
              " 'V22': array(['V22', 'V27'], dtype=object),\n",
              " 'V25': array(['V2', 'V25', 'V66'], dtype=object),\n",
              " 'V27': array(['V22', 'V27'], dtype=object),\n",
              " 'V37': array(['V37'], dtype=object),\n",
              " 'V4': array(['V4'], dtype=object),\n",
              " 'V47': array([], dtype=object),\n",
              " 'V49': array(['V49'], dtype=object),\n",
              " 'V50': array(['V50'], dtype=object),\n",
              " 'V55': array(['V55'], dtype=object),\n",
              " 'V59': array(['V59', 'V61', 'V67', 'V68', 'V69', 'V70'], dtype=object),\n",
              " 'V61': array(['V59', 'V61', 'V67', 'V68', 'V69', 'V70'], dtype=object),\n",
              " 'V62': array(['V62'], dtype=object),\n",
              " 'V66': array(['V2', 'V25', 'V66'], dtype=object),\n",
              " 'V67': array(['V59', 'V61', 'V67', 'V68', 'V69', 'V70'], dtype=object),\n",
              " 'V68': array(['V59', 'V61', 'V67', 'V68', 'V69', 'V70'], dtype=object),\n",
              " 'V69': array(['V59', 'V61', 'V67', 'V68', 'V69', 'V70'], dtype=object),\n",
              " 'V7': array([], dtype=object),\n",
              " 'V70': array(['V59', 'V61', 'V67', 'V68', 'V69', 'V70'], dtype=object),\n",
              " 'V71': array([], dtype=object),\n",
              " 'V72': array([], dtype=object)}"
            ]
          },
          "metadata": {
            "tags": []
          },
          "execution_count": 39
        }
      ]
    },
    {
      "cell_type": "markdown",
      "metadata": {
        "id": "RGrCg3gGZUBc",
        "colab_type": "text"
      },
      "source": [
        "##### **Pearson's Correlation**"
      ]
    },
    {
      "cell_type": "code",
      "metadata": {
        "id": "ZgUl6iDb_LRZ",
        "colab_type": "code",
        "outputId": "0219a733-5a24-4541-a98c-e98beff0b818",
        "colab": {
          "base_uri": "https://localhost:8080/",
          "height": 34
        }
      },
      "source": [
        "start = time.time()\n",
        "corr_pearson_df = encoded.corr(method='pearson')\n",
        "\n",
        "index_dict={}\n",
        "for col in corr_pearson_df:\n",
        "  ## picking out columns for which correlation with col is greater than 0.7\n",
        "  index = np.where(abs(corr_pearson_df[col]) > 0.7)\n",
        "  index_dict[col]=index\n",
        "\n",
        "names=np.array(corr_pearson_df.columns)\n",
        "for key in index_dict.keys():\n",
        "  index_dict[key]=names[index_dict[key][0]]\n",
        "\n",
        "end = time.time()\n",
        "print(\"Time taken to create Correlation Dictionary for only encoded dataframe is: {} seconds\".format(end-start))\n"
      ],
      "execution_count": 40,
      "outputs": [
        {
          "output_type": "stream",
          "text": [
            "Time taken to create Correlation Dictionary for only encoded dataframe is: 0.1296837329864502 seconds\n"
          ],
          "name": "stdout"
        }
      ]
    },
    {
      "cell_type": "code",
      "metadata": {
        "id": "zKOPAMMj5uW4",
        "colab_type": "code",
        "colab": {
          "base_uri": "https://localhost:8080/",
          "height": 496
        },
        "outputId": "2fb9867f-97ff-4b1b-daa7-f340707a6332"
      },
      "source": [
        "index_dict"
      ],
      "execution_count": 41,
      "outputs": [
        {
          "output_type": "execute_result",
          "data": {
            "text/plain": [
              "{'V106': array([], dtype=object),\n",
              " 'V107': array([], dtype=object),\n",
              " 'V17': array([], dtype=object),\n",
              " 'V18': array(['V18'], dtype=object),\n",
              " 'V19': array(['V19'], dtype=object),\n",
              " 'V2': array(['V2', 'V25', 'V66'], dtype=object),\n",
              " 'V20': array(['V20'], dtype=object),\n",
              " 'V22': array(['V22', 'V27'], dtype=object),\n",
              " 'V25': array(['V2', 'V25', 'V66'], dtype=object),\n",
              " 'V27': array(['V22', 'V27'], dtype=object),\n",
              " 'V37': array(['V37'], dtype=object),\n",
              " 'V4': array(['V4'], dtype=object),\n",
              " 'V47': array([], dtype=object),\n",
              " 'V49': array(['V49'], dtype=object),\n",
              " 'V50': array(['V50'], dtype=object),\n",
              " 'V55': array(['V55'], dtype=object),\n",
              " 'V59': array(['V59', 'V61', 'V67', 'V68', 'V69', 'V70'], dtype=object),\n",
              " 'V61': array(['V59', 'V61', 'V67', 'V68', 'V69', 'V70'], dtype=object),\n",
              " 'V62': array(['V62'], dtype=object),\n",
              " 'V66': array(['V2', 'V25', 'V66'], dtype=object),\n",
              " 'V67': array(['V59', 'V61', 'V67', 'V68', 'V69', 'V70'], dtype=object),\n",
              " 'V68': array(['V59', 'V61', 'V67', 'V68', 'V69', 'V70'], dtype=object),\n",
              " 'V69': array(['V59', 'V61', 'V67', 'V68', 'V69', 'V70'], dtype=object),\n",
              " 'V7': array([], dtype=object),\n",
              " 'V70': array(['V59', 'V61', 'V67', 'V68', 'V69', 'V70'], dtype=object),\n",
              " 'V71': array([], dtype=object),\n",
              " 'V72': array([], dtype=object)}"
            ]
          },
          "metadata": {
            "tags": []
          },
          "execution_count": 41
        }
      ]
    },
    {
      "cell_type": "markdown",
      "metadata": {
        "id": "kDWqahKaZFMi",
        "colab_type": "text"
      },
      "source": [
        "##### This does not make sense since this are not actual numerical values, encodings rather, so we cannot consider linear correlation between them. Also the NaNs appear when there are constants in the column. They will be weeded out when we consider significant correlations and will be removed before clustering."
      ]
    },
    {
      "cell_type": "markdown",
      "metadata": {
        "id": "otICJ2Q-vDzL",
        "colab_type": "text"
      },
      "source": [
        "##### **Goodman Kruskall's Lambda(for nominal)**\n",
        "##### **Do Goodman Kruskall's Gamma(for ordinal)**\n",
        "##### Is there something tolerant to both ? We will do it for both encoded and encoded_normalized"
      ]
    },
    {
      "cell_type": "markdown",
      "metadata": {
        "id": "d3mywjC_Ll6c",
        "colab_type": "text"
      },
      "source": [
        "##### **Function to remove constant values**\n"
      ]
    },
    {
      "cell_type": "code",
      "metadata": {
        "id": "DZiPS0k5LrW1",
        "colab_type": "code",
        "colab": {}
      },
      "source": [
        "def remove_constants(df):\n",
        "  df_new = df.copy()\n",
        "  indices = []\n",
        "  for col in df_new.columns:\n",
        "    if len(set(df_new[col])) == 1:\n",
        "      indices.append(col)\n",
        "  df_new = df_new.drop(indices,1)\n",
        "  return df_new"
      ],
      "execution_count": 0,
      "outputs": []
    },
    {
      "cell_type": "code",
      "metadata": {
        "id": "92b4TtRPMb8K",
        "colab_type": "code",
        "colab": {
          "base_uri": "https://localhost:8080/",
          "height": 34
        },
        "outputId": "cddec913-b009-4556-9405-e0c45439433b"
      },
      "source": [
        "encoded = remove_constants(encoded)\n",
        "encoded.shape"
      ],
      "execution_count": 54,
      "outputs": [
        {
          "output_type": "execute_result",
          "data": {
            "text/plain": [
              "(65534, 20)"
            ]
          },
          "metadata": {
            "tags": []
          },
          "execution_count": 54
        }
      ]
    },
    {
      "cell_type": "code",
      "metadata": {
        "id": "W1LGz8OB0jkE",
        "colab_type": "code",
        "colab": {
          "base_uri": "https://localhost:8080/",
          "height": 52
        },
        "outputId": "164c36e8-03c6-412c-96b1-869bd752678c"
      },
      "source": [
        "## For trial\n",
        "col1 = list(encoded[encoded.columns[0]])\n",
        "col2 = list(encoded[encoded.columns[1]])\n",
        "\n",
        "print(len(set(col1)))\n",
        "print(len(set(col2)))"
      ],
      "execution_count": 69,
      "outputs": [
        {
          "output_type": "stream",
          "text": [
            "2\n",
            "63363\n"
          ],
          "name": "stdout"
        }
      ]
    },
    {
      "cell_type": "code",
      "metadata": {
        "id": "4gGcu8SjCPyT",
        "colab_type": "code",
        "colab": {
          "base_uri": "https://localhost:8080/",
          "height": 197
        },
        "outputId": "0b9e117d-25b5-45fe-9316-0e3a07e7cf54"
      },
      "source": [
        "## We pick a random sample out of the columns for \n",
        "## c1 = np.random.choice(col1,1000,replace=False)\n",
        "## c2 = np.random.choice(col2,1000,replace=False)\n",
        "df = pd.DataFrame()\n",
        "df.insert(0,encoded.columns[0],col1)\n",
        "df.insert(1,encoded.columns[1],col2)\n",
        "df_test = df.sample(1000)\n",
        "df_test.head()"
      ],
      "execution_count": 66,
      "outputs": [
        {
          "output_type": "execute_result",
          "data": {
            "text/html": [
              "<div>\n",
              "<style scoped>\n",
              "    .dataframe tbody tr th:only-of-type {\n",
              "        vertical-align: middle;\n",
              "    }\n",
              "\n",
              "    .dataframe tbody tr th {\n",
              "        vertical-align: top;\n",
              "    }\n",
              "\n",
              "    .dataframe thead th {\n",
              "        text-align: right;\n",
              "    }\n",
              "</style>\n",
              "<table border=\"1\" class=\"dataframe\">\n",
              "  <thead>\n",
              "    <tr style=\"text-align: right;\">\n",
              "      <th></th>\n",
              "      <th>V2</th>\n",
              "      <th>V4</th>\n",
              "    </tr>\n",
              "  </thead>\n",
              "  <tbody>\n",
              "    <tr>\n",
              "      <th>32573</th>\n",
              "      <td>0</td>\n",
              "      <td>62242</td>\n",
              "    </tr>\n",
              "    <tr>\n",
              "      <th>47907</th>\n",
              "      <td>0</td>\n",
              "      <td>5751</td>\n",
              "    </tr>\n",
              "    <tr>\n",
              "      <th>41381</th>\n",
              "      <td>0</td>\n",
              "      <td>50481</td>\n",
              "    </tr>\n",
              "    <tr>\n",
              "      <th>52272</th>\n",
              "      <td>0</td>\n",
              "      <td>17944</td>\n",
              "    </tr>\n",
              "    <tr>\n",
              "      <th>54197</th>\n",
              "      <td>0</td>\n",
              "      <td>4590</td>\n",
              "    </tr>\n",
              "  </tbody>\n",
              "</table>\n",
              "</div>"
            ],
            "text/plain": [
              "       V2     V4\n",
              "32573   0  62242\n",
              "47907   0   5751\n",
              "41381   0  50481\n",
              "52272   0  17944\n",
              "54197   0   4590"
            ]
          },
          "metadata": {
            "tags": []
          },
          "execution_count": 66
        }
      ]
    },
    {
      "cell_type": "code",
      "metadata": {
        "id": "-ZJHp1rMOaLC",
        "colab_type": "code",
        "colab": {}
      },
      "source": [
        "cm = ConfusionMatrix(list(df_test[encoded.columns[0]]), list(df_test[encoded.columns[1]]))"
      ],
      "execution_count": 0,
      "outputs": []
    },
    {
      "cell_type": "code",
      "metadata": {
        "id": "TqXMGKcsGQfk",
        "colab_type": "code",
        "colab": {
          "base_uri": "https://localhost:8080/",
          "height": 34
        },
        "outputId": "711ca34b-3ee5-4608-d294-74f6c13cb0ec"
      },
      "source": [
        "## In this case null hypothesis is that the variables are independent and alternative is that they are not\n",
        "## We will reject the null hypothesis in case PValue is less than 0.05 and accept otherwise\n",
        "## For eg in this case we accept\n",
        "cm.PValue"
      ],
      "execution_count": 68,
      "outputs": [
        {
          "output_type": "execute_result",
          "data": {
            "text/plain": [
              "1"
            ]
          },
          "metadata": {
            "tags": []
          },
          "execution_count": 68
        }
      ]
    },
    {
      "cell_type": "markdown",
      "metadata": {
        "id": "eE5ezsN6HGAv",
        "colab_type": "text"
      },
      "source": [
        "##### Doing the test for all the pairs in the dataframe encoded\n"
      ]
    },
    {
      "cell_type": "code",
      "metadata": {
        "id": "dY_eUBIUHS4a",
        "colab_type": "code",
        "colab": {}
      },
      "source": [
        "names = encoded.columns\n",
        "names = sorted(names)"
      ],
      "execution_count": 0,
      "outputs": []
    },
    {
      "cell_type": "code",
      "metadata": {
        "id": "UBvW3nB6J3j-",
        "colab_type": "code",
        "colab": {
          "base_uri": "https://localhost:8080/",
          "height": 1000
        },
        "outputId": "d0716dde-4612-49f0-e95d-3dfcea272b8b"
      },
      "source": [
        "start = time.time()\n",
        "related = []\n",
        "pvalue = []\n",
        "for i in range(0,len(names)-1):\n",
        "  for j in range(i+1,len(names)):\n",
        "    n1 = names[i]\n",
        "    n2 = names[j]\n",
        "    df = pd.DataFrame()\n",
        "    df.insert(0,n1,col1)\n",
        "    df.insert(1,n2,col2)\n",
        "    df_test = df.sample(1000)\n",
        "    cm = ConfusionMatrix(list(df_test[n1]), list(df_test[n2]))\n",
        "    related.append([n1,n2])\n",
        "    pvalue.append(cm.PValue)\n",
        "      #print(\"{}\".fomat(n1+','+n2))\n",
        "    print(i,j)\n",
        "end = time.time()\n",
        "print(\"Time taken to get categorically related variables from encoded is : {}\".format(end-start))"
      ],
      "execution_count": 77,
      "outputs": [
        {
          "output_type": "stream",
          "text": [
            "0 1\n",
            "0 2\n",
            "0 3\n",
            "0 4\n",
            "0 5\n",
            "0 6\n",
            "0 7\n",
            "0 8\n",
            "0 9\n",
            "0 10\n",
            "0 11\n",
            "0 12\n",
            "0 13\n",
            "0 14\n",
            "0 15\n",
            "0 16\n",
            "0 17\n",
            "0 18\n",
            "0 19\n",
            "1 2\n",
            "1 3\n",
            "1 4\n",
            "1 5\n",
            "1 6\n",
            "1 7\n",
            "1 8\n",
            "1 9\n",
            "1 10\n",
            "1 11\n",
            "1 12\n",
            "1 13\n",
            "1 14\n",
            "1 15\n",
            "1 16\n",
            "1 17\n",
            "1 18\n",
            "1 19\n",
            "2 3\n",
            "2 4\n",
            "2 5\n",
            "2 6\n",
            "2 7\n",
            "2 8\n",
            "2 9\n",
            "2 10\n",
            "2 11\n",
            "2 12\n",
            "2 13\n",
            "2 14\n",
            "2 15\n",
            "2 16\n",
            "2 17\n",
            "2 18\n",
            "2 19\n",
            "3 4\n",
            "3 5\n",
            "3 6\n",
            "3 7\n",
            "3 8\n",
            "3 9\n",
            "3 10\n",
            "3 11\n",
            "3 12\n",
            "3 13\n",
            "3 14\n",
            "3 15\n",
            "3 16\n",
            "3 17\n",
            "3 18\n",
            "3 19\n",
            "4 5\n",
            "4 6\n",
            "4 7\n",
            "4 8\n",
            "4 9\n",
            "4 10\n",
            "4 11\n",
            "4 12\n",
            "4 13\n",
            "4 14\n",
            "4 15\n",
            "4 16\n",
            "4 17\n",
            "4 18\n",
            "4 19\n",
            "5 6\n",
            "5 7\n",
            "5 8\n",
            "5 9\n",
            "5 10\n",
            "5 11\n",
            "5 12\n",
            "5 13\n",
            "5 14\n",
            "5 15\n",
            "5 16\n",
            "5 17\n",
            "5 18\n",
            "5 19\n",
            "6 7\n",
            "6 8\n",
            "6 9\n",
            "6 10\n",
            "6 11\n",
            "6 12\n",
            "6 13\n",
            "6 14\n",
            "6 15\n",
            "6 16\n",
            "6 17\n",
            "6 18\n",
            "6 19\n",
            "7 8\n",
            "7 9\n",
            "7 10\n",
            "7 11\n",
            "7 12\n",
            "7 13\n",
            "7 14\n",
            "7 15\n",
            "7 16\n",
            "7 17\n",
            "7 18\n",
            "7 19\n",
            "8 9\n",
            "8 10\n",
            "8 11\n",
            "8 12\n",
            "8 13\n",
            "8 14\n",
            "8 15\n",
            "8 16\n",
            "8 17\n",
            "8 18\n",
            "8 19\n",
            "9 10\n",
            "9 11\n",
            "9 12\n",
            "9 13\n",
            "9 14\n",
            "9 15\n",
            "9 16\n",
            "9 17\n",
            "9 18\n",
            "9 19\n",
            "10 11\n",
            "10 12\n",
            "10 13\n",
            "10 14\n",
            "10 15\n",
            "10 16\n",
            "10 17\n",
            "10 18\n",
            "10 19\n",
            "11 12\n",
            "11 13\n",
            "11 14\n",
            "11 15\n",
            "11 16\n",
            "11 17\n",
            "11 18\n",
            "11 19\n",
            "12 13\n",
            "12 14\n",
            "12 15\n",
            "12 16\n",
            "12 17\n",
            "12 18\n",
            "12 19\n",
            "13 14\n",
            "13 15\n",
            "13 16\n",
            "13 17\n",
            "13 18\n",
            "13 19\n",
            "14 15\n",
            "14 16\n",
            "14 17\n",
            "14 18\n",
            "14 19\n",
            "15 16\n",
            "15 17\n",
            "15 18\n",
            "15 19\n",
            "16 17\n",
            "16 18\n",
            "16 19\n",
            "17 18\n",
            "17 19\n",
            "18 19\n",
            "Time taken to get categorically related variables from encoded is : 2147.77446269989\n"
          ],
          "name": "stdout"
        }
      ]
    },
    {
      "cell_type": "markdown",
      "metadata": {
        "id": "rzp43Z12ZZyD",
        "colab_type": "text"
      },
      "source": [
        "##### The time taken about is about 35 minutes."
      ]
    },
    {
      "cell_type": "code",
      "metadata": {
        "id": "zo8pyR0QMu6n",
        "colab_type": "code",
        "colab": {}
      },
      "source": [
        "## The following are the related columns \n",
        "related"
      ],
      "execution_count": 0,
      "outputs": []
    },
    {
      "cell_type": "code",
      "metadata": {
        "id": "x64g0AVCiKrm",
        "colab_type": "code",
        "colab": {}
      },
      "source": [
        "related_df = pd.DataFrame(columns = ['Categorical_1','Categorical_2', 'pvalue'])\n",
        "Categorical_1 = []\n",
        "Categorical_2 = []\n",
        "for i in range(0,len(related)):\n",
        "  Categorical_1.append(related[i][0])\n",
        "  Categorical_2.append(related[i][1])\n",
        "related_df['Categorical_1'] = Categorical_1\n",
        "related_df['Categorical_2'] = Categorical_2\n",
        "related_df['pvalue'] = pvalue"
      ],
      "execution_count": 0,
      "outputs": []
    },
    {
      "cell_type": "code",
      "metadata": {
        "id": "TpvekIohi4pW",
        "colab_type": "code",
        "colab": {
          "base_uri": "https://localhost:8080/",
          "height": 197
        },
        "outputId": "2c25ec1a-c931-4871-a24c-71f2f2334562"
      },
      "source": [
        "related_df.head()"
      ],
      "execution_count": 82,
      "outputs": [
        {
          "output_type": "execute_result",
          "data": {
            "text/html": [
              "<div>\n",
              "<style scoped>\n",
              "    .dataframe tbody tr th:only-of-type {\n",
              "        vertical-align: middle;\n",
              "    }\n",
              "\n",
              "    .dataframe tbody tr th {\n",
              "        vertical-align: top;\n",
              "    }\n",
              "\n",
              "    .dataframe thead th {\n",
              "        text-align: right;\n",
              "    }\n",
              "</style>\n",
              "<table border=\"1\" class=\"dataframe\">\n",
              "  <thead>\n",
              "    <tr style=\"text-align: right;\">\n",
              "      <th></th>\n",
              "      <th>Categorical_1</th>\n",
              "      <th>Categorical_2</th>\n",
              "      <th>pvalue</th>\n",
              "    </tr>\n",
              "  </thead>\n",
              "  <tbody>\n",
              "    <tr>\n",
              "      <th>0</th>\n",
              "      <td>V18</td>\n",
              "      <td>V19</td>\n",
              "      <td>1.0</td>\n",
              "    </tr>\n",
              "    <tr>\n",
              "      <th>1</th>\n",
              "      <td>V18</td>\n",
              "      <td>V2</td>\n",
              "      <td>1.0</td>\n",
              "    </tr>\n",
              "    <tr>\n",
              "      <th>2</th>\n",
              "      <td>V18</td>\n",
              "      <td>V20</td>\n",
              "      <td>1.0</td>\n",
              "    </tr>\n",
              "    <tr>\n",
              "      <th>3</th>\n",
              "      <td>V18</td>\n",
              "      <td>V22</td>\n",
              "      <td>1.0</td>\n",
              "    </tr>\n",
              "    <tr>\n",
              "      <th>4</th>\n",
              "      <td>V18</td>\n",
              "      <td>V25</td>\n",
              "      <td>1.0</td>\n",
              "    </tr>\n",
              "  </tbody>\n",
              "</table>\n",
              "</div>"
            ],
            "text/plain": [
              "  Categorical_1 Categorical_2  pvalue\n",
              "0           V18           V19     1.0\n",
              "1           V18            V2     1.0\n",
              "2           V18           V20     1.0\n",
              "3           V18           V22     1.0\n",
              "4           V18           V25     1.0"
            ]
          },
          "metadata": {
            "tags": []
          },
          "execution_count": 82
        }
      ]
    },
    {
      "cell_type": "code",
      "metadata": {
        "id": "OrwMmRbKmvkm",
        "colab_type": "code",
        "colab": {
          "base_uri": "https://localhost:8080/",
          "height": 406
        },
        "outputId": "67bbea53-c7ec-4440-b50a-ec05424c8be9"
      },
      "source": [
        "related_df[related_df['pvalue']<=1]"
      ],
      "execution_count": 101,
      "outputs": [
        {
          "output_type": "execute_result",
          "data": {
            "text/html": [
              "<div>\n",
              "<style scoped>\n",
              "    .dataframe tbody tr th:only-of-type {\n",
              "        vertical-align: middle;\n",
              "    }\n",
              "\n",
              "    .dataframe tbody tr th {\n",
              "        vertical-align: top;\n",
              "    }\n",
              "\n",
              "    .dataframe thead th {\n",
              "        text-align: right;\n",
              "    }\n",
              "</style>\n",
              "<table border=\"1\" class=\"dataframe\">\n",
              "  <thead>\n",
              "    <tr style=\"text-align: right;\">\n",
              "      <th></th>\n",
              "      <th>Categorical_1</th>\n",
              "      <th>Categorical_2</th>\n",
              "      <th>pvalue</th>\n",
              "    </tr>\n",
              "  </thead>\n",
              "  <tbody>\n",
              "    <tr>\n",
              "      <th>0</th>\n",
              "      <td>V18</td>\n",
              "      <td>V19</td>\n",
              "      <td>1.0</td>\n",
              "    </tr>\n",
              "    <tr>\n",
              "      <th>1</th>\n",
              "      <td>V18</td>\n",
              "      <td>V2</td>\n",
              "      <td>1.0</td>\n",
              "    </tr>\n",
              "    <tr>\n",
              "      <th>2</th>\n",
              "      <td>V18</td>\n",
              "      <td>V20</td>\n",
              "      <td>1.0</td>\n",
              "    </tr>\n",
              "    <tr>\n",
              "      <th>3</th>\n",
              "      <td>V18</td>\n",
              "      <td>V22</td>\n",
              "      <td>1.0</td>\n",
              "    </tr>\n",
              "    <tr>\n",
              "      <th>4</th>\n",
              "      <td>V18</td>\n",
              "      <td>V25</td>\n",
              "      <td>1.0</td>\n",
              "    </tr>\n",
              "    <tr>\n",
              "      <th>...</th>\n",
              "      <td>...</td>\n",
              "      <td>...</td>\n",
              "      <td>...</td>\n",
              "    </tr>\n",
              "    <tr>\n",
              "      <th>185</th>\n",
              "      <td>V67</td>\n",
              "      <td>V69</td>\n",
              "      <td>1.0</td>\n",
              "    </tr>\n",
              "    <tr>\n",
              "      <th>186</th>\n",
              "      <td>V67</td>\n",
              "      <td>V70</td>\n",
              "      <td>1.0</td>\n",
              "    </tr>\n",
              "    <tr>\n",
              "      <th>187</th>\n",
              "      <td>V68</td>\n",
              "      <td>V69</td>\n",
              "      <td>1.0</td>\n",
              "    </tr>\n",
              "    <tr>\n",
              "      <th>188</th>\n",
              "      <td>V68</td>\n",
              "      <td>V70</td>\n",
              "      <td>1.0</td>\n",
              "    </tr>\n",
              "    <tr>\n",
              "      <th>189</th>\n",
              "      <td>V69</td>\n",
              "      <td>V70</td>\n",
              "      <td>1.0</td>\n",
              "    </tr>\n",
              "  </tbody>\n",
              "</table>\n",
              "<p>190 rows × 3 columns</p>\n",
              "</div>"
            ],
            "text/plain": [
              "    Categorical_1 Categorical_2  pvalue\n",
              "0             V18           V19     1.0\n",
              "1             V18            V2     1.0\n",
              "2             V18           V20     1.0\n",
              "3             V18           V22     1.0\n",
              "4             V18           V25     1.0\n",
              "..            ...           ...     ...\n",
              "185           V67           V69     1.0\n",
              "186           V67           V70     1.0\n",
              "187           V68           V69     1.0\n",
              "188           V68           V70     1.0\n",
              "189           V69           V70     1.0\n",
              "\n",
              "[190 rows x 3 columns]"
            ]
          },
          "metadata": {
            "tags": []
          },
          "execution_count": 101
        }
      ]
    },
    {
      "cell_type": "markdown",
      "metadata": {
        "id": "I2mnOd5OnFpk",
        "colab_type": "text"
      },
      "source": [
        "##### So this method shows that none of the pairs of columns are dependent on each other."
      ]
    },
    {
      "cell_type": "markdown",
      "metadata": {
        "id": "-YKv-vqmbjIu",
        "colab_type": "text"
      },
      "source": [
        "### **Clustering using KMapper, pick clusters with more fraud data, using dataframe encoded**"
      ]
    },
    {
      "cell_type": "code",
      "metadata": {
        "id": "4d0AJ_Hok8rr",
        "colab_type": "code",
        "colab": {}
      },
      "source": [
        "encoded.to_csv('data_ready_for_clustering.csv')\n",
        "!cp data_ready_for_clustering.csv /gdrive/My\\ Drive/data_ready_for_clustering.csv"
      ],
      "execution_count": 0,
      "outputs": []
    },
    {
      "cell_type": "code",
      "metadata": {
        "id": "1EVahxVGlOJO",
        "colab_type": "code",
        "colab": {
          "base_uri": "https://localhost:8080/",
          "height": 34
        },
        "outputId": "405d0f70-a34d-48db-92f3-2b0722a49556"
      },
      "source": [
        "mapper_data = pd.read_csv('/gdrive/My Drive/data_ready_for_clustering.csv')\n",
        "mapper_data.shape"
      ],
      "execution_count": 16,
      "outputs": [
        {
          "output_type": "execute_result",
          "data": {
            "text/plain": [
              "(65534, 21)"
            ]
          },
          "metadata": {
            "tags": []
          },
          "execution_count": 16
        }
      ]
    },
    {
      "cell_type": "code",
      "metadata": {
        "id": "0hgIF-o2NuEX",
        "colab_type": "code",
        "colab": {}
      },
      "source": [
        "l=[]\n",
        "for i  in np.arange(1,len(mapper_data),1):\n",
        "  l.append(list(mapper_data.iloc[i,:]))\n",
        "l=np.array(l)"
      ],
      "execution_count": 0,
      "outputs": []
    },
    {
      "cell_type": "code",
      "metadata": {
        "id": "ZhhAB7wRdto2",
        "colab_type": "code",
        "colab": {
          "base_uri": "https://localhost:8080/",
          "height": 141
        },
        "outputId": "1bf9346e-7da4-4bdb-c427-72c859ec6251"
      },
      "source": [
        "l"
      ],
      "execution_count": 25,
      "outputs": [
        {
          "output_type": "execute_result",
          "data": {
            "text/plain": [
              "array([[    1,     1,  5531, ...,     0,     1,     1],\n",
              "       [    2,     1, 45531, ...,     0,     1,     1],\n",
              "       [    3,     1, 47559, ...,     0,     1,     1],\n",
              "       ...,\n",
              "       [65531,     0, 55827, ...,     0,     1,     1],\n",
              "       [65532,     0, 32153, ...,     0,     1,     1],\n",
              "       [65533,     0, 56829, ...,     0,     1,     1]])"
            ]
          },
          "metadata": {
            "tags": []
          },
          "execution_count": 25
        }
      ]
    },
    {
      "cell_type": "markdown",
      "metadata": {
        "id": "5ED8fcP7gLOh",
        "colab_type": "text"
      },
      "source": [
        "##### **Trials for the right parameters for clustering**"
      ]
    },
    {
      "cell_type": "markdown",
      "metadata": {
        "id": "e6PGGbvchwtr",
        "colab_type": "text"
      },
      "source": [
        "##### Here there are parameters like **nr_cubes**, inside DBScan algorithm,**eps**, **leaf_size**, **min_samples**, **metric** which are specific to problem which we try to optimize by trial. For many combinations of these parameters that are unsuitable for the dataset, the clustering would not work.\n",
        "\n",
        "https://scikit-learn.org/stable/modules/generated/sklearn.cluster.dbscan.html\n",
        "\n",
        "##### Look at the above link for details about arguments of DBScan"
      ]
    },
    {
      "cell_type": "code",
      "metadata": {
        "id": "8MriRQrWhOLm",
        "colab_type": "code",
        "colab": {
          "base_uri": "https://localhost:8080/",
          "height": 318
        },
        "outputId": "6e6f1b2e-b7d2-4e84-bc6a-a408a7cab5e0"
      },
      "source": [
        "# Initialize\n",
        "mapper = km.KeplerMapper(verbose=1)\n",
        "\n",
        "# Fit to and transform the data\n",
        "projected_data = mapper.fit_transform(l, projection=[0,1]) # X-Y axis\n",
        "\n",
        "# Create dictionary called 'graph' with nodes, edges and meta-information\n",
        "graph = mapper.map(projected_data, l, nr_cubes=10, overlap_perc = 0.1 ,clusterer = DBSCAN(algorithm ='auto',eps = 100, leaf_size = 500, metric='euclidean',\n",
        "    metric_params=None, min_samples=10, n_jobs=-1, p=None))\n",
        "\n",
        "# Visualize it\n",
        "html=mapper.visualize(graph, path_html=\"all_txns_clustering_output.html\",\n",
        "                 title=\"all_txns(eps = 100, min_samples  = 10, overlap_perc = 0.1)\")"
      ],
      "execution_count": 29,
      "outputs": [
        {
          "output_type": "stream",
          "text": [
            "KeplerMapper()\n",
            "..Composing projection pipeline of length 1:\n",
            "\tProjections: [0, 1]\n",
            "\tDistance matrices: False\n",
            "\tScalers: MinMaxScaler(copy=True, feature_range=(0, 1))\n",
            "..Projecting on data shaped (65533, 21)\n",
            "\n",
            "..Projecting data using: [0, 1]\n",
            "\n",
            "..Scaling with: MinMaxScaler(copy=True, feature_range=(0, 1))\n",
            "\n",
            "Mapping on data shaped (65533, 21) using lens shaped (65533, 2)\n",
            "\n",
            "Creating 100 hypercubes.\n",
            "\n",
            "Created 48 edges and 585 nodes in 0:00:02.528843.\n",
            "Wrote visualization to: all_txns_clustering_output.html\n"
          ],
          "name": "stdout"
        }
      ]
    },
    {
      "cell_type": "markdown",
      "metadata": {
        "id": "eW_nQYAehWyr",
        "colab_type": "text"
      },
      "source": [
        "##### These set of parameters do not help much giving rise to a huge number of clusters with low membership which makes it difficult to identify characteristics of clusters. There are a few edges for overlapping clusters but there those are less and not much connected, not helping significantly in inference."
      ]
    },
    {
      "cell_type": "code",
      "metadata": {
        "id": "nvqinr46NuCb",
        "colab_type": "code",
        "outputId": "5d0c8b8f-858f-44dc-9204-2a94e30ccc7b",
        "colab": {
          "base_uri": "https://localhost:8080/",
          "height": 318
        }
      },
      "source": [
        "# Initialize\n",
        "mapper = km.KeplerMapper(verbose=1)\n",
        "\n",
        "# Fit to and transform the data\n",
        "projected_data = mapper.fit_transform(l, projection=[0,1]) # X-Y axis\n",
        "\n",
        "# Create dictionary called 'graph' with nodes, edges and meta-information\n",
        "graph = mapper.map(projected_data, l, nr_cubes=10, overlap_perc = 0.4 ,clusterer = DBSCAN(algorithm ='auto',eps = 1000, leaf_size = 500, metric='euclidean',\n",
        "    metric_params=None, min_samples=10, n_jobs=-1, p=None))\n",
        "\n",
        "# Visualize it\n",
        "html=mapper.visualize(graph, path_html=\"all_txns_clustering_output.html\",\n",
        "                 title=\"all_txns(eps = 1000 , min_samples  = 10, overlap_perc = 0.4)\")"
      ],
      "execution_count": 28,
      "outputs": [
        {
          "output_type": "stream",
          "text": [
            "KeplerMapper()\n",
            "..Composing projection pipeline of length 1:\n",
            "\tProjections: [0, 1]\n",
            "\tDistance matrices: False\n",
            "\tScalers: MinMaxScaler(copy=True, feature_range=(0, 1))\n",
            "..Projecting on data shaped (65533, 21)\n",
            "\n",
            "..Projecting data using: [0, 1]\n",
            "\n",
            "..Scaling with: MinMaxScaler(copy=True, feature_range=(0, 1))\n",
            "\n",
            "Mapping on data shaped (65533, 21) using lens shaped (65533, 2)\n",
            "\n",
            "Creating 100 hypercubes.\n",
            "\n",
            "Created 11 edges and 14 nodes in 0:00:04.678482.\n",
            "Wrote visualization to: all_txns_clustering_output.html\n"
          ],
          "name": "stdout"
        }
      ]
    },
    {
      "cell_type": "markdown",
      "metadata": {
        "id": "EoyQ82AggVIp",
        "colab_type": "text"
      },
      "source": [
        "##### For this we can see a chain of nodes with two branchings of depth 1. For more details, please have a look at the html file. There are two nodes which are stand alone and compose less than 1 percent of the data points. It might be worthwhile to study these points seperately to identify features. Also we can study what changes across the chain to give rise to the different nodes."
      ]
    },
    {
      "cell_type": "markdown",
      "metadata": {
        "id": "9_-s-DZIk22z",
        "colab_type": "text"
      },
      "source": [
        "##### **Trying out a new projection function and clustering algorithm**"
      ]
    },
    {
      "cell_type": "code",
      "metadata": {
        "id": "9EcL8q0fj5UU",
        "colab_type": "code",
        "colab": {
          "base_uri": "https://localhost:8080/",
          "height": 107
        },
        "outputId": "6a61ceab-37f7-4a95-e51a-608f540ecd2c"
      },
      "source": [
        "model = ensemble.IsolationForest(random_state=1729)\n",
        "model.fit(l)\n",
        "lens1 = model.decision_function(l).reshape((l.shape[0], 1))"
      ],
      "execution_count": 31,
      "outputs": [
        {
          "output_type": "stream",
          "text": [
            "/usr/local/lib/python3.6/dist-packages/sklearn/ensemble/iforest.py:237: FutureWarning: default contamination parameter 0.1 will change in version 0.22 to \"auto\". This will change the predict method behavior.\n",
            "  FutureWarning)\n",
            "/usr/local/lib/python3.6/dist-packages/sklearn/ensemble/iforest.py:247: FutureWarning: behaviour=\"old\" is deprecated and will be removed in version 0.22. Please use behaviour=\"new\", which makes the decision_function change to match other anomaly detection algorithm API.\n",
            "  FutureWarning)\n"
          ],
          "name": "stderr"
        }
      ]
    },
    {
      "cell_type": "code",
      "metadata": {
        "id": "Xl9MMTQelSIf",
        "colab_type": "code",
        "colab": {
          "base_uri": "https://localhost:8080/",
          "height": 301
        },
        "outputId": "051ff2de-d877-4a43-c47c-79ddd5a25a89"
      },
      "source": [
        "lens2 = mapper.fit_transform(l, projection=\"l2norm\")\n",
        "lens = np.c_[lens1, lens2]\n",
        "\n",
        "graph2 = mapper.map(lens,\n",
        "                      l,\n",
        "                      nr_cubes=10,\n",
        "                      overlap_perc=0.4,\n",
        "                      clusterer=sklearn.cluster.KMeans(n_clusters=10,\n",
        "                                                       random_state=3471))\n",
        "\n",
        "html2=mapper.visualize(graph2, path_html=\"all_txns_clustering_KMeans.html\",\n",
        "                 title=\"all_txns(n_clusters = 10, overlap_perc = 0.4)\")"
      ],
      "execution_count": 33,
      "outputs": [
        {
          "output_type": "stream",
          "text": [
            "..Composing projection pipeline of length 1:\n",
            "\tProjections: l2norm\n",
            "\tDistance matrices: False\n",
            "\tScalers: MinMaxScaler(copy=True, feature_range=(0, 1))\n",
            "..Projecting on data shaped (65533, 21)\n",
            "\n",
            "..Projecting data using: l2norm\n",
            "\n",
            "..Scaling with: MinMaxScaler(copy=True, feature_range=(0, 1))\n",
            "\n",
            "Mapping on data shaped (65533, 21) using lens shaped (65533, 2)\n",
            "\n",
            "Creating 100 hypercubes.\n",
            "\n",
            "Created 4229 edges and 950 nodes in 0:00:23.704347.\n",
            "Wrote visualization to: all_txns_clustering_KMeans.html\n"
          ],
          "name": "stdout"
        }
      ]
    },
    {
      "cell_type": "markdown",
      "metadata": {
        "id": "bG3jgYwynRou",
        "colab_type": "text"
      },
      "source": [
        "##### This set of parameters is clearly not optimal since it gives rise to too many nodes and edges, but we can see a pattern of increasing membership in the nodes as we move along the mesh. The reason for such high number of nodes could be since we used the l2 norms which are mostly distinct. What is interesting is that there are some points which are isolated which can be useful in our case to study seperately."
      ]
    },
    {
      "cell_type": "code",
      "metadata": {
        "id": "-VYDYiqtnQwr",
        "colab_type": "code",
        "colab": {
          "base_uri": "https://localhost:8080/",
          "height": 372
        },
        "outputId": "62e6a1ef-79ef-4486-a6c6-62303d73d193"
      },
      "source": [
        "# model = ensemble.IsolationForest(random_state=1729)\n",
        "# model.fit(l)\n",
        "# lens1 = model.decision_function(l).reshape((l.shape[0], 1))\n",
        "\n",
        "#Since we wish to visualize we are forced to have number of components under PCA to 1\n",
        "lens3 = mapper.fit_transform(l, projection=PCA(n_components=1))\n",
        "\n",
        "lens13 = np.c_[lens1, lens3]\n",
        "\n",
        "graph3 = mapper.map(lens13,\n",
        "                      l,\n",
        "                      nr_cubes=10,\n",
        "                      overlap_perc=0.4,\n",
        "                      clusterer=sklearn.cluster.KMeans(n_clusters=5,\n",
        "                                                       random_state=3471))\n",
        "\n",
        "html3=mapper.visualize(graph3, path_html=\"all_txns_clustering_KMeans2.html\",\n",
        "                 title=\"all_txns(n_clusters = 5, overlap_perc = 0.4, PCA_n_components = 1)\")"
      ],
      "execution_count": 37,
      "outputs": [
        {
          "output_type": "stream",
          "text": [
            "..Composing projection pipeline of length 1:\n",
            "\tProjections: PCA(copy=True, iterated_power='auto', n_components=1, random_state=None,\n",
            "    svd_solver='auto', tol=0.0, whiten=False)\n",
            "\tDistance matrices: False\n",
            "\tScalers: MinMaxScaler(copy=True, feature_range=(0, 1))\n",
            "..Projecting on data shaped (65533, 21)\n",
            "\n",
            "..Projecting data using: \n",
            "\tPCA(copy=True, iterated_power='auto', n_components=1, random_state=None,\n",
            "    svd_solver='auto', tol=0.0, whiten=False)\n",
            "\n",
            "\n",
            "..Scaling with: MinMaxScaler(copy=True, feature_range=(0, 1))\n",
            "\n",
            "Mapping on data shaped (65533, 21) using lens shaped (65533, 2)\n",
            "\n",
            "Creating 100 hypercubes.\n",
            "\n",
            "Created 2418 edges and 475 nodes in 0:00:17.359103.\n",
            "Wrote visualization to: all_txns_clustering_KMeans2.html\n"
          ],
          "name": "stdout"
        }
      ]
    },
    {
      "cell_type": "markdown",
      "metadata": {
        "id": "gifrR8rgpcME",
        "colab_type": "text"
      },
      "source": [
        "##### This reduces the complexity of the graph but we no longer see the isolated points as we had seen before. Whether this projection combined with the clustering is better or not can only be judged by using this on labelled data."
      ]
    },
    {
      "cell_type": "code",
      "metadata": {
        "id": "XxQ4ElAwS8te",
        "colab_type": "code",
        "outputId": "3382022d-313e-4a42-9d8d-4ce56bbbf9f9",
        "colab": {
          "base_uri": "https://localhost:8080/",
          "height": 837
        }
      },
      "source": [
        "from kmapper import jupyter\n",
        "html=mapper.visualize(graph, path_html=\"all_txns_clustering_output.html\",\n",
        "                 title=\"all_txns(noise=0.03, factor=0.3)\")\n",
        "jupyter.display(path_html=\"all_txns_clustering_output.html\")"
      ],
      "execution_count": 0,
      "outputs": [
        {
          "output_type": "stream",
          "text": [
            "Wrote visualization to: all_txns_clustering_output.html\n"
          ],
          "name": "stdout"
        },
        {
          "output_type": "display_data",
          "data": {
            "text/html": [
              "<iframe src=all_txns_clustering_output.html width=100%% height=800 frameBorder=\"0\"></iframe>"
            ],
            "text/plain": [
              "<IPython.core.display.HTML object>"
            ]
          },
          "metadata": {
            "tags": []
          }
        }
      ]
    },
    {
      "cell_type": "markdown",
      "metadata": {
        "id": "RcG20WzkjE9G",
        "colab_type": "text"
      },
      "source": [
        "##### **Future Work**\n",
        "> 1. Try out Goodman Kruskal's Gamma and Lambda for tests of association between categorical variables.\n",
        "\n",
        "> 2. Try changing the projection and clustering algorithm to see if better results can be achieved, better results can only be judged based on labelled data."
      ]
    },
    {
      "cell_type": "markdown",
      "metadata": {
        "id": "pWuPWpaeKFuX",
        "colab_type": "text"
      },
      "source": [
        "### **Rough Work**"
      ]
    },
    {
      "cell_type": "code",
      "metadata": {
        "id": "6bLyLEbLHiSe",
        "colab_type": "code",
        "outputId": "1706bba1-7e04-4555-92c9-4dbb4b046963",
        "colab": {
          "base_uri": "https://localhost:8080/",
          "height": 50
        }
      },
      "source": [
        "names[index_dict['V13'][0]]"
      ],
      "execution_count": 0,
      "outputs": [
        {
          "output_type": "execute_result",
          "data": {
            "text/plain": [
              "array(['V12', 'V13', 'V14', 'V22', 'V24', 'V27', 'V28', 'V33', 'V34'],\n",
              "      dtype=object)"
            ]
          },
          "metadata": {
            "tags": []
          },
          "execution_count": 142
        }
      ]
    },
    {
      "cell_type": "code",
      "metadata": {
        "id": "SjVZ1ZzRXgAl",
        "colab_type": "code",
        "colab": {
          "base_uri": "https://localhost:8080/",
          "height": 212
        },
        "outputId": "f3eef15f-56e6-49c4-d93b-02abfe2083ee"
      },
      "source": [
        "start = time.time()\n",
        "for i in range(0,10):\n",
        "  print(i)\n",
        "end = time.time()\n",
        "print(\"Time taken:{} seconds\".format(end-start))"
      ],
      "execution_count": 17,
      "outputs": [
        {
          "output_type": "stream",
          "text": [
            "0\n",
            "1\n",
            "2\n",
            "3\n",
            "4\n",
            "5\n",
            "6\n",
            "7\n",
            "8\n",
            "9\n",
            "Time taken:0.0010488033294677734 seconds\n"
          ],
          "name": "stdout"
        }
      ]
    },
    {
      "cell_type": "code",
      "metadata": {
        "id": "606llOZspGGI",
        "colab_type": "code",
        "outputId": "a53f740b-ea71-41b2-fbc1-e25710c973a6",
        "colab": {
          "base_uri": "https://localhost:8080/",
          "height": 33
        }
      },
      "source": [
        "set(encoded['V17'])"
      ],
      "execution_count": 0,
      "outputs": [
        {
          "output_type": "execute_result",
          "data": {
            "text/plain": [
              "{704684}"
            ]
          },
          "metadata": {
            "tags": []
          },
          "execution_count": 77
        }
      ]
    },
    {
      "cell_type": "code",
      "metadata": {
        "id": "RWl4AdmfbtvC",
        "colab_type": "code",
        "colab": {}
      },
      "source": [
        ""
      ],
      "execution_count": 0,
      "outputs": []
    },
    {
      "cell_type": "code",
      "metadata": {
        "id": "XLn8gzQ5CgAC",
        "colab_type": "code",
        "outputId": "20ccb478-c9f4-4872-aefa-dcca68c5a024",
        "colab": {
          "base_uri": "https://localhost:8080/",
          "height": 33
        }
      },
      "source": [
        "data2['V81'].isnull().sum()"
      ],
      "execution_count": 0,
      "outputs": [
        {
          "output_type": "execute_result",
          "data": {
            "text/plain": [
              "65534"
            ]
          },
          "metadata": {
            "tags": []
          },
          "execution_count": 38
        }
      ]
    },
    {
      "cell_type": "code",
      "metadata": {
        "id": "ELz64RovFNiA",
        "colab_type": "code",
        "outputId": "4320c678-af93-45b8-dfe4-b679b8488a9a",
        "colab": {
          "base_uri": "https://localhost:8080/",
          "height": 33
        }
      },
      "source": [
        "data2['V34'].dtype.name"
      ],
      "execution_count": 0,
      "outputs": [
        {
          "output_type": "execute_result",
          "data": {
            "text/plain": [
              "'object'"
            ]
          },
          "metadata": {
            "tags": []
          },
          "execution_count": 39
        }
      ]
    },
    {
      "cell_type": "code",
      "metadata": {
        "id": "rkfDMlIQ8N1C",
        "colab_type": "code",
        "outputId": "bb611d5b-8120-4c75-d83f-50314aa9d7ab",
        "colab": {
          "base_uri": "https://localhost:8080/",
          "height": 33
        }
      },
      "source": [
        "len(data.columns)"
      ],
      "execution_count": 0,
      "outputs": [
        {
          "output_type": "execute_result",
          "data": {
            "text/plain": [
              "120"
            ]
          },
          "metadata": {
            "tags": []
          },
          "execution_count": 22
        }
      ]
    },
    {
      "cell_type": "code",
      "metadata": {
        "id": "pQmuNy7L6BhU",
        "colab_type": "code",
        "outputId": "fe45025c-e95b-4cd6-dffe-4370ec2f787e",
        "colab": {
          "base_uri": "https://localhost:8080/",
          "height": 33
        }
      },
      "source": [
        "l = data['V2']\n",
        "len(l)"
      ],
      "execution_count": 0,
      "outputs": [
        {
          "output_type": "execute_result",
          "data": {
            "text/plain": [
              "65534"
            ]
          },
          "metadata": {
            "tags": []
          },
          "execution_count": 9
        }
      ]
    },
    {
      "cell_type": "code",
      "metadata": {
        "id": "WhixDtPD6LK_",
        "colab_type": "code",
        "outputId": "8a1e27d2-35f2-4a5d-8334-81488d2694f3",
        "colab": {
          "base_uri": "https://localhost:8080/",
          "height": 33
        }
      },
      "source": [
        "len(set(l))"
      ],
      "execution_count": 0,
      "outputs": [
        {
          "output_type": "execute_result",
          "data": {
            "text/plain": [
              "2"
            ]
          },
          "metadata": {
            "tags": []
          },
          "execution_count": 11
        }
      ]
    },
    {
      "cell_type": "code",
      "metadata": {
        "id": "UX4Wo_Xo6X9y",
        "colab_type": "code",
        "colab": {}
      },
      "source": [
        "l=np.array(l)\n"
      ],
      "execution_count": 0,
      "outputs": []
    },
    {
      "cell_type": "code",
      "metadata": {
        "id": "4AV1FPw96ar4",
        "colab_type": "code",
        "colab": {}
      },
      "source": [
        "l[np.where(l == 1100)]=0\n",
        "l[np.where(l == 1200)]=1\n"
      ],
      "execution_count": 0,
      "outputs": []
    },
    {
      "cell_type": "code",
      "metadata": {
        "id": "4O4k24Co7Jt8",
        "colab_type": "code",
        "outputId": "76ec7bed-e411-49b4-aaf2-8a71c4113ae3",
        "colab": {
          "base_uri": "https://localhost:8080/",
          "height": 33
        }
      },
      "source": [
        "set(l)"
      ],
      "execution_count": 0,
      "outputs": [
        {
          "output_type": "execute_result",
          "data": {
            "text/plain": [
              "{1100, 1200}"
            ]
          },
          "metadata": {
            "tags": []
          },
          "execution_count": 17
        }
      ]
    },
    {
      "cell_type": "code",
      "metadata": {
        "id": "wa7t5uy47qdG",
        "colab_type": "code",
        "outputId": "d94f9c4b-95c4-44be-b328-28586ed8542c",
        "colab": {
          "base_uri": "https://localhost:8080/",
          "height": 33
        }
      },
      "source": [
        "set(l)\n"
      ],
      "execution_count": 0,
      "outputs": [
        {
          "output_type": "execute_result",
          "data": {
            "text/plain": [
              "{0, 1}"
            ]
          },
          "metadata": {
            "tags": []
          },
          "execution_count": 20
        }
      ]
    }
  ]
}
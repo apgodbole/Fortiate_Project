{
  "nbformat": 4,
  "nbformat_minor": 0,
  "metadata": {
    "colab": {
      "name": "TensorBoard_TL.ipynb",
      "provenance": [],
      "collapsed_sections": [],
      "authorship_tag": "ABX9TyPIXnikUM5F/poXgzojjTc0",
      "include_colab_link": true
    },
    "kernelspec": {
      "name": "python3",
      "display_name": "Python 3"
    }
  },
  "cells": [
    {
      "cell_type": "markdown",
      "metadata": {
        "id": "view-in-github",
        "colab_type": "text"
      },
      "source": [
        "<a href=\"https://colab.research.google.com/github/trinade96/Fortiate_Project/blob/master/TensorBoard_TL.ipynb\" target=\"_parent\"><img src=\"https://colab.research.google.com/assets/colab-badge.svg\" alt=\"Open In Colab\"/></a>"
      ]
    },
    {
      "cell_type": "markdown",
      "metadata": {
        "id": "gu5OP0HwxSWJ",
        "colab_type": "text"
      },
      "source": [
        "In this notebook we will be giving a demo about how to use TensorBoard to visualize and then how to continue training after a model has already been trained with some data. This is usually called 'Transfer Learning' since we are somehow transferring previous learning to new tasks."
      ]
    },
    {
      "cell_type": "markdown",
      "metadata": {
        "id": "4Gpi_SBfABIK",
        "colab_type": "text"
      },
      "source": [
        "##### **Packages Used**"
      ]
    },
    {
      "cell_type": "code",
      "metadata": {
        "id": "c3sDjtOm-72x",
        "colab_type": "code",
        "colab": {
          "base_uri": "https://localhost:8080/",
          "height": 159
        },
        "outputId": "4ee7b32e-5e64-47db-92c4-7626cba7861e"
      },
      "source": [
        "import numpy as np\n",
        "import pandas as pd\n",
        "import tensorflow as tf\n",
        "from tensorflow import keras\n",
        "from sklearn import preprocessing\n",
        "from sklearn.model_selection import train_test_split\n",
        "from sklearn import metrics\n",
        "from sklearn.metrics import mean_squared_error, classification_report, confusion_matrix, mean_absolute_error\n",
        "from scipy.stats import chi2_contingency as chi_test\n",
        "from sklearn.datasets import load_boston\n",
        "from pandas.api.types import is_float_dtype\n",
        "from sklearn.preprocessing import MinMaxScaler, OneHotEncoder, LabelEncoder\n",
        "import imblearn\n",
        "from imblearn.over_sampling import RandomOverSampler\n",
        "import seaborn as sns\n",
        "import matplotlib.pyplot as plt\n",
        "import itertools\n",
        "from tensorflow.keras.models import Sequential\n",
        "from tensorflow.keras.layers import Input, Dense, Conv2D, Flatten, Dropout, MaxPooling2D, BatchNormalization, GlobalAveragePooling2D\n",
        "from tensorflow.keras.models import Model\n",
        "from tensorflow.keras.preprocessing.image import ImageDataGenerator\n",
        "from tensorflow.keras.regularizers import l2\n",
        "from tensorflow.keras.optimizers import SGD,Adam\n",
        "from keras.utils import np_utils\n",
        "from tensorflow.keras import optimizers\n",
        "from tensorflow.keras.applications.inception_v3 import InceptionV3, preprocess_input as preprocess_inputV3"
      ],
      "execution_count": 2,
      "outputs": [
        {
          "output_type": "stream",
          "text": [
            "/usr/local/lib/python3.6/dist-packages/sklearn/externals/six.py:31: FutureWarning: The module is deprecated in version 0.21 and will be removed in version 0.23 since we've dropped support for Python 2.7. Please rely on the official version of six (https://pypi.org/project/six/).\n",
            "  \"(https://pypi.org/project/six/).\", FutureWarning)\n",
            "/usr/local/lib/python3.6/dist-packages/sklearn/utils/deprecation.py:144: FutureWarning: The sklearn.neighbors.base module is  deprecated in version 0.22 and will be removed in version 0.24. The corresponding classes / functions should instead be imported from sklearn.neighbors. Anything that cannot be imported from sklearn.neighbors is now part of the private API.\n",
            "  warnings.warn(message, FutureWarning)\n",
            "/usr/local/lib/python3.6/dist-packages/statsmodels/tools/_testing.py:19: FutureWarning: pandas.util.testing is deprecated. Use the functions in the public API at pandas.testing instead.\n",
            "  import pandas.util.testing as tm\n",
            "Using TensorFlow backend.\n"
          ],
          "name": "stderr"
        }
      ]
    },
    {
      "cell_type": "code",
      "metadata": {
        "id": "LU4Nf8_OJaWA",
        "colab_type": "code",
        "colab": {
          "base_uri": "https://localhost:8080/",
          "height": 34
        },
        "outputId": "15c8d7b7-48b7-4a56-e51d-24262304753d"
      },
      "source": [
        "print(tf.__version__)"
      ],
      "execution_count": 3,
      "outputs": [
        {
          "output_type": "stream",
          "text": [
            "2.2.0\n"
          ],
          "name": "stdout"
        }
      ]
    },
    {
      "cell_type": "markdown",
      "metadata": {
        "id": "9UF16BK8CPyz",
        "colab_type": "text"
      },
      "source": [
        "##### **Reading the data**"
      ]
    },
    {
      "cell_type": "code",
      "metadata": {
        "id": "ATPBi835yo-S",
        "colab_type": "code",
        "colab": {
          "base_uri": "https://localhost:8080/",
          "height": 52
        },
        "outputId": "624f99ab-df90-47d9-8fe0-fe57242de65f"
      },
      "source": [
        "from google.colab import drive\n",
        "#drive.flush_and_unmount()\n",
        "drive.mount('/gdrive')\n",
        "%cd /gdrive"
      ],
      "execution_count": 4,
      "outputs": [
        {
          "output_type": "stream",
          "text": [
            "Drive already mounted at /gdrive; to attempt to forcibly remount, call drive.mount(\"/gdrive\", force_remount=True).\n",
            "/gdrive\n"
          ],
          "name": "stdout"
        }
      ]
    },
    {
      "cell_type": "code",
      "metadata": {
        "id": "nE0nvA6bypBW",
        "colab_type": "code",
        "colab": {
          "base_uri": "https://localhost:8080/",
          "height": 313
        },
        "outputId": "1ad8ed97-8e0b-4ebe-8c4e-31477a5c5c52"
      },
      "source": [
        "data = pd.read_excel('/gdrive/My Drive/Random-Forest-Rules-Final-Rearranged-mindmap.xlsx')\n",
        "data.head()"
      ],
      "execution_count": 5,
      "outputs": [
        {
          "output_type": "execute_result",
          "data": {
            "text/html": [
              "<div>\n",
              "<style scoped>\n",
              "    .dataframe tbody tr th:only-of-type {\n",
              "        vertical-align: middle;\n",
              "    }\n",
              "\n",
              "    .dataframe tbody tr th {\n",
              "        vertical-align: top;\n",
              "    }\n",
              "\n",
              "    .dataframe thead th {\n",
              "        text-align: right;\n",
              "    }\n",
              "</style>\n",
              "<table border=\"1\" class=\"dataframe\">\n",
              "  <thead>\n",
              "    <tr style=\"text-align: right;\">\n",
              "      <th></th>\n",
              "      <th>TRANSACTION_CURRENCY</th>\n",
              "      <th>PD4</th>\n",
              "      <th>PD11</th>\n",
              "      <th>PROC_CODE_12</th>\n",
              "      <th>PD8</th>\n",
              "      <th>MCC</th>\n",
              "      <th>POS_ENTRY_MODE</th>\n",
              "      <th>SERVICE_CODE</th>\n",
              "      <th>BILLING_AMOUNT</th>\n",
              "      <th>TRANSACTION_LOCAL_DATE</th>\n",
              "      <th>TRANSMISSION_DATE_TIME</th>\n",
              "      <th>RESPONSE_DATE_TIME</th>\n",
              "      <th>PAN</th>\n",
              "      <th>VALID_FROM</th>\n",
              "      <th>EXPIRY_DATE</th>\n",
              "      <th>PROC_CODE_34</th>\n",
              "      <th>PROC_CODE_56</th>\n",
              "      <th>PD1</th>\n",
              "      <th>PD2</th>\n",
              "      <th>PD3</th>\n",
              "      <th>PD5</th>\n",
              "      <th>PD6</th>\n",
              "      <th>PD7</th>\n",
              "      <th>PD9</th>\n",
              "      <th>PD10</th>\n",
              "      <th>PD12</th>\n",
              "      <th>TRANSACTION_AMOUNT</th>\n",
              "      <th>BILLING_CURRENCY</th>\n",
              "      <th>CONVERSION_RATE_DATE</th>\n",
              "      <th>SETTLEMENT_AMOUNT</th>\n",
              "      <th>SETTLEMENT_CURRENCY</th>\n",
              "      <th>SETTLEMENT_DATE</th>\n",
              "      <th>ACQUIRING_COUNTRY_CODE</th>\n",
              "      <th>CARD_ACCEPTOR_TERM_ID</th>\n",
              "      <th>CARD_ACCEPTOR_ID</th>\n",
              "      <th>CARD_ACC_NAME_ADDRESS</th>\n",
              "      <th>AUTHORIZATION_CODE</th>\n",
              "      <th>DECISION</th>\n",
              "      <th>TARGET</th>\n",
              "      <th>C_100</th>\n",
              "      <th>C_40</th>\n",
              "      <th>C_20</th>\n",
              "      <th>ECOM_INFO</th>\n",
              "      <th>E_COM_INDICATOR</th>\n",
              "    </tr>\n",
              "  </thead>\n",
              "  <tbody>\n",
              "    <tr>\n",
              "      <th>0</th>\n",
              "      <td>CURR356</td>\n",
              "      <td>ATC9</td>\n",
              "      <td>TOC1</td>\n",
              "      <td>TC00</td>\n",
              "      <td>TVI0</td>\n",
              "      <td>MCC7399</td>\n",
              "      <td>NNN</td>\n",
              "      <td>UNK</td>\n",
              "      <td>147.84</td>\n",
              "      <td>21-MAR-18 11.33.24</td>\n",
              "      <td>21-MAR-18 11.33.24</td>\n",
              "      <td>21-MAR-18 11.33.24</td>\n",
              "      <td>A1586941252148110</td>\n",
              "      <td>21-AUG-17 17.10.11</td>\n",
              "      <td>01-APR-20 00.00.00</td>\n",
              "      <td>FR40</td>\n",
              "      <td>TO00</td>\n",
              "      <td>CRC1</td>\n",
              "      <td>CVC0</td>\n",
              "      <td>CCC0</td>\n",
              "      <td>PPI4</td>\n",
              "      <td>CPI0</td>\n",
              "      <td>TCR2</td>\n",
              "      <td>TCV0</td>\n",
              "      <td>TWC0</td>\n",
              "      <td>PEI0</td>\n",
              "      <td>147.84</td>\n",
              "      <td>CURR356</td>\n",
              "      <td>000</td>\n",
              "      <td>145.22</td>\n",
              "      <td>CURR356</td>\n",
              "      <td>22-MAR-18 00.00.00</td>\n",
              "      <td>CON356</td>\n",
              "      <td>6R00G052</td>\n",
              "      <td>9826826968</td>\n",
              "      <td>BOOK MY SHOW\\\\\\400049\\\\</td>\n",
              "      <td>800204</td>\n",
              "      <td>RESULT000</td>\n",
              "      <td>0</td>\n",
              "      <td>AMI</td>\n",
              "      <td>ACS</td>\n",
              "      <td>T0784</td>\n",
              "      <td>AXASK05AEVV</td>\n",
              "      <td>ECI05</td>\n",
              "    </tr>\n",
              "    <tr>\n",
              "      <th>1</th>\n",
              "      <td>CURR356</td>\n",
              "      <td>ATC9</td>\n",
              "      <td>TOC1</td>\n",
              "      <td>TC00</td>\n",
              "      <td>TVI0</td>\n",
              "      <td>MCC4814</td>\n",
              "      <td>NNN</td>\n",
              "      <td>UNK</td>\n",
              "      <td>399.00</td>\n",
              "      <td>21-MAR-18 11.34.15</td>\n",
              "      <td>21-MAR-18 11.34.15</td>\n",
              "      <td>21-MAR-18 11.34.15</td>\n",
              "      <td>A1586941241334010</td>\n",
              "      <td>06-APR-16 20.19.15</td>\n",
              "      <td>01-APR-20 00.00.00</td>\n",
              "      <td>FR40</td>\n",
              "      <td>TO00</td>\n",
              "      <td>CRC1</td>\n",
              "      <td>CVC0</td>\n",
              "      <td>CCC0</td>\n",
              "      <td>PPI4</td>\n",
              "      <td>CPI0</td>\n",
              "      <td>TCR2</td>\n",
              "      <td>TCV0</td>\n",
              "      <td>TWC0</td>\n",
              "      <td>PEI0</td>\n",
              "      <td>399.00</td>\n",
              "      <td>CURR356</td>\n",
              "      <td>000</td>\n",
              "      <td>391.94</td>\n",
              "      <td>CURR356</td>\n",
              "      <td>22-MAR-18 00.00.00</td>\n",
              "      <td>CON356</td>\n",
              "      <td>6R00G052</td>\n",
              "      <td>9822047692</td>\n",
              "      <td>PAYTM RETAIL -PG-ONLINE \\\\NOIDA\\201301\\</td>\n",
              "      <td>300255</td>\n",
              "      <td>RESULT000</td>\n",
              "      <td>0</td>\n",
              "      <td>AMI</td>\n",
              "      <td>ACS</td>\n",
              "      <td>T0797</td>\n",
              "      <td>AXASK05AEVV</td>\n",
              "      <td>ECI05</td>\n",
              "    </tr>\n",
              "    <tr>\n",
              "      <th>2</th>\n",
              "      <td>CURR356</td>\n",
              "      <td>ATC9</td>\n",
              "      <td>TOC1</td>\n",
              "      <td>TC00</td>\n",
              "      <td>TVI0</td>\n",
              "      <td>MCC7399</td>\n",
              "      <td>NNN</td>\n",
              "      <td>UNK</td>\n",
              "      <td>247.20</td>\n",
              "      <td>21-MAR-18 11.36.47</td>\n",
              "      <td>21-MAR-18 11.36.47</td>\n",
              "      <td>21-MAR-18 11.36.48</td>\n",
              "      <td>A1586941049519010</td>\n",
              "      <td>03-APR-18 14.19.03</td>\n",
              "      <td>01-APR-23 00.00.00</td>\n",
              "      <td>FR40</td>\n",
              "      <td>TO00</td>\n",
              "      <td>CRC1</td>\n",
              "      <td>CVC0</td>\n",
              "      <td>CCC0</td>\n",
              "      <td>PPI4</td>\n",
              "      <td>CPI0</td>\n",
              "      <td>TCR2</td>\n",
              "      <td>TCV0</td>\n",
              "      <td>TWC0</td>\n",
              "      <td>PEI0</td>\n",
              "      <td>247.20</td>\n",
              "      <td>CURR356</td>\n",
              "      <td>000</td>\n",
              "      <td>242.82</td>\n",
              "      <td>CURR356</td>\n",
              "      <td>22-MAR-18 00.00.00</td>\n",
              "      <td>CON356</td>\n",
              "      <td>6R00G052</td>\n",
              "      <td>9826826968</td>\n",
              "      <td>BOOK MY SHOW\\\\\\400049\\\\</td>\n",
              "      <td>700408</td>\n",
              "      <td>RESULT000</td>\n",
              "      <td>0</td>\n",
              "      <td>AMI</td>\n",
              "      <td>ACS</td>\n",
              "      <td>T0537</td>\n",
              "      <td>AXASK05AEVV</td>\n",
              "      <td>ECI05</td>\n",
              "    </tr>\n",
              "    <tr>\n",
              "      <th>3</th>\n",
              "      <td>CURR356</td>\n",
              "      <td>ATC9</td>\n",
              "      <td>TOC1</td>\n",
              "      <td>TC00</td>\n",
              "      <td>TVI0</td>\n",
              "      <td>MCC7399</td>\n",
              "      <td>NNN</td>\n",
              "      <td>UNK</td>\n",
              "      <td>359.00</td>\n",
              "      <td>21-MAR-18 11.39.44</td>\n",
              "      <td>21-MAR-18 11.39.44</td>\n",
              "      <td>21-MAR-18 11.39.44</td>\n",
              "      <td>A1586941050671000</td>\n",
              "      <td>20-APR-18 19.43.48</td>\n",
              "      <td>01-APR-23 00.00.00</td>\n",
              "      <td>FR40</td>\n",
              "      <td>TO00</td>\n",
              "      <td>CRC1</td>\n",
              "      <td>CVC0</td>\n",
              "      <td>CCC0</td>\n",
              "      <td>PPI4</td>\n",
              "      <td>CPI0</td>\n",
              "      <td>TCR2</td>\n",
              "      <td>TCV0</td>\n",
              "      <td>TWC0</td>\n",
              "      <td>PEI0</td>\n",
              "      <td>359.00</td>\n",
              "      <td>CURR356</td>\n",
              "      <td>000</td>\n",
              "      <td>352.65</td>\n",
              "      <td>CURR356</td>\n",
              "      <td>22-MAR-18 00.00.00</td>\n",
              "      <td>CON356</td>\n",
              "      <td>6R00G052</td>\n",
              "      <td>9826826968</td>\n",
              "      <td>BOOK MY SHOW\\\\\\400049\\\\</td>\n",
              "      <td>700585</td>\n",
              "      <td>RESULT000</td>\n",
              "      <td>0</td>\n",
              "      <td>AMI</td>\n",
              "      <td>ACS</td>\n",
              "      <td>T0796</td>\n",
              "      <td>AXASK05AEVV</td>\n",
              "      <td>ECI05</td>\n",
              "    </tr>\n",
              "    <tr>\n",
              "      <th>4</th>\n",
              "      <td>CURR356</td>\n",
              "      <td>ATC9</td>\n",
              "      <td>TOC1</td>\n",
              "      <td>TC00</td>\n",
              "      <td>TVI0</td>\n",
              "      <td>MCC5999</td>\n",
              "      <td>NNN</td>\n",
              "      <td>UNK</td>\n",
              "      <td>188.00</td>\n",
              "      <td>21-MAR-18 11.43.08</td>\n",
              "      <td>21-MAR-18 11.43.08</td>\n",
              "      <td>21-MAR-18 11.43.08</td>\n",
              "      <td>A1586941257961010</td>\n",
              "      <td>30-APR-16 20.49.02</td>\n",
              "      <td>01-APR-20 00.00.00</td>\n",
              "      <td>FR40</td>\n",
              "      <td>TO00</td>\n",
              "      <td>CRC1</td>\n",
              "      <td>CVC0</td>\n",
              "      <td>CCC0</td>\n",
              "      <td>PPI4</td>\n",
              "      <td>CPI0</td>\n",
              "      <td>TCR2</td>\n",
              "      <td>TCV0</td>\n",
              "      <td>TWC0</td>\n",
              "      <td>PEI0</td>\n",
              "      <td>188.00</td>\n",
              "      <td>CURR356</td>\n",
              "      <td>000</td>\n",
              "      <td>183.81</td>\n",
              "      <td>CURR356</td>\n",
              "      <td>22-MAR-18 00.00.00</td>\n",
              "      <td>CON356</td>\n",
              "      <td>6R00G052</td>\n",
              "      <td>9820524155</td>\n",
              "      <td>PAYTM.COM WALLET PG \\\\NOIDA\\201310\\\\</td>\n",
              "      <td>400788</td>\n",
              "      <td>RESULT000</td>\n",
              "      <td>0</td>\n",
              "      <td>AMI</td>\n",
              "      <td>ACS</td>\n",
              "      <td>T0784</td>\n",
              "      <td>AXASK05AEVV</td>\n",
              "      <td>ECI05</td>\n",
              "    </tr>\n",
              "  </tbody>\n",
              "</table>\n",
              "</div>"
            ],
            "text/plain": [
              "  TRANSACTION_CURRENCY   PD4  PD11  ...   C_20    ECOM_INFO E_COM_INDICATOR\n",
              "0              CURR356  ATC9  TOC1  ...  T0784  AXASK05AEVV           ECI05\n",
              "1              CURR356  ATC9  TOC1  ...  T0797  AXASK05AEVV           ECI05\n",
              "2              CURR356  ATC9  TOC1  ...  T0537  AXASK05AEVV           ECI05\n",
              "3              CURR356  ATC9  TOC1  ...  T0796  AXASK05AEVV           ECI05\n",
              "4              CURR356  ATC9  TOC1  ...  T0784  AXASK05AEVV           ECI05\n",
              "\n",
              "[5 rows x 44 columns]"
            ]
          },
          "metadata": {
            "tags": []
          },
          "execution_count": 5
        }
      ]
    },
    {
      "cell_type": "code",
      "metadata": {
        "id": "gfUyJgUCdwPK",
        "colab_type": "code",
        "colab": {
          "base_uri": "https://localhost:8080/",
          "height": 34
        },
        "outputId": "149a1afa-0293-4ea3-9322-3dd6112d5baa"
      },
      "source": [
        "data.shape"
      ],
      "execution_count": 6,
      "outputs": [
        {
          "output_type": "execute_result",
          "data": {
            "text/plain": [
              "(105271, 44)"
            ]
          },
          "metadata": {
            "tags": []
          },
          "execution_count": 6
        }
      ]
    },
    {
      "cell_type": "markdown",
      "metadata": {
        "id": "jD6LUEkXC5vr",
        "colab_type": "text"
      },
      "source": [
        "##### We will be treating the data a little differently here, not removing the NaNs but keeping them as a different category so it can be passed to the classifier so we don't loose too data"
      ]
    },
    {
      "cell_type": "code",
      "metadata": {
        "id": "PmTVoV0N_mHv",
        "colab_type": "code",
        "colab": {
          "base_uri": "https://localhost:8080/",
          "height": 781
        },
        "outputId": "04e88de5-88ab-40dd-8e79-f85860b17179"
      },
      "source": [
        "for col in data.keys():\n",
        "  data[col] = data[col].fillna(str(col+'NA'))\n",
        "  print(data[col].isnull().sum())"
      ],
      "execution_count": 7,
      "outputs": [
        {
          "output_type": "stream",
          "text": [
            "0\n",
            "0\n",
            "0\n",
            "0\n",
            "0\n",
            "0\n",
            "0\n",
            "0\n",
            "0\n",
            "0\n",
            "0\n",
            "0\n",
            "0\n",
            "0\n",
            "0\n",
            "0\n",
            "0\n",
            "0\n",
            "0\n",
            "0\n",
            "0\n",
            "0\n",
            "0\n",
            "0\n",
            "0\n",
            "0\n",
            "0\n",
            "0\n",
            "0\n",
            "0\n",
            "0\n",
            "0\n",
            "0\n",
            "0\n",
            "0\n",
            "0\n",
            "0\n",
            "0\n",
            "0\n",
            "0\n",
            "0\n",
            "0\n",
            "0\n",
            "0\n"
          ],
          "name": "stdout"
        }
      ]
    },
    {
      "cell_type": "code",
      "metadata": {
        "id": "d3gqOsKeE3Rd",
        "colab_type": "code",
        "colab": {
          "base_uri": "https://localhost:8080/",
          "height": 34
        },
        "outputId": "54515ccf-ba94-4ab7-a6c6-6e6619d1e98e"
      },
      "source": [
        "data.dropna(axis=0)\n",
        "data.shape"
      ],
      "execution_count": 8,
      "outputs": [
        {
          "output_type": "execute_result",
          "data": {
            "text/plain": [
              "(105271, 44)"
            ]
          },
          "metadata": {
            "tags": []
          },
          "execution_count": 8
        }
      ]
    },
    {
      "cell_type": "markdown",
      "metadata": {
        "id": "nV6JCW_yFLF_",
        "colab_type": "text"
      },
      "source": [
        "##### Now we will move onto to removing the index like columns and then encoding the dataset to be passed on to the classifier."
      ]
    },
    {
      "cell_type": "markdown",
      "metadata": {
        "id": "1kd5m5v_9oWo",
        "colab_type": "text"
      },
      "source": [
        "##### **Function to remove columns which are a list on distinct values for eg. the index**"
      ]
    },
    {
      "cell_type": "code",
      "metadata": {
        "id": "1NNJZgy29m3K",
        "colab_type": "code",
        "colab": {}
      },
      "source": [
        "def remove_index_like(df):\n",
        "  df_new = df.copy()\n",
        "  indices = []\n",
        "  for i in df_new.columns:\n",
        "    if len(df[i]) == len(set(df[i])):\n",
        "      indices.append(i)\n",
        "  df_new = df_new.drop(indices,1)\n",
        "  return df_new"
      ],
      "execution_count": 9,
      "outputs": []
    },
    {
      "cell_type": "code",
      "metadata": {
        "id": "G8eozlJU-63N",
        "colab_type": "code",
        "colab": {}
      },
      "source": [
        "data_dt = remove_index_like(data)"
      ],
      "execution_count": 11,
      "outputs": []
    },
    {
      "cell_type": "code",
      "metadata": {
        "id": "TcTCXANb_DYI",
        "colab_type": "code",
        "colab": {
          "base_uri": "https://localhost:8080/",
          "height": 34
        },
        "outputId": "699f7634-8870-4378-8dfa-f682512a9723"
      },
      "source": [
        "data_dt.shape"
      ],
      "execution_count": 12,
      "outputs": [
        {
          "output_type": "execute_result",
          "data": {
            "text/plain": [
              "(105271, 44)"
            ]
          },
          "metadata": {
            "tags": []
          },
          "execution_count": 12
        }
      ]
    },
    {
      "cell_type": "code",
      "metadata": {
        "id": "M4IPiosffuGB",
        "colab_type": "code",
        "colab": {
          "base_uri": "https://localhost:8080/",
          "height": 313
        },
        "outputId": "9f690c70-3a20-4822-bba4-d8b165181ec0"
      },
      "source": [
        "data_dt.head()"
      ],
      "execution_count": 13,
      "outputs": [
        {
          "output_type": "execute_result",
          "data": {
            "text/html": [
              "<div>\n",
              "<style scoped>\n",
              "    .dataframe tbody tr th:only-of-type {\n",
              "        vertical-align: middle;\n",
              "    }\n",
              "\n",
              "    .dataframe tbody tr th {\n",
              "        vertical-align: top;\n",
              "    }\n",
              "\n",
              "    .dataframe thead th {\n",
              "        text-align: right;\n",
              "    }\n",
              "</style>\n",
              "<table border=\"1\" class=\"dataframe\">\n",
              "  <thead>\n",
              "    <tr style=\"text-align: right;\">\n",
              "      <th></th>\n",
              "      <th>TRANSACTION_CURRENCY</th>\n",
              "      <th>PD4</th>\n",
              "      <th>PD11</th>\n",
              "      <th>PROC_CODE_12</th>\n",
              "      <th>PD8</th>\n",
              "      <th>MCC</th>\n",
              "      <th>POS_ENTRY_MODE</th>\n",
              "      <th>SERVICE_CODE</th>\n",
              "      <th>BILLING_AMOUNT</th>\n",
              "      <th>TRANSACTION_LOCAL_DATE</th>\n",
              "      <th>TRANSMISSION_DATE_TIME</th>\n",
              "      <th>RESPONSE_DATE_TIME</th>\n",
              "      <th>PAN</th>\n",
              "      <th>VALID_FROM</th>\n",
              "      <th>EXPIRY_DATE</th>\n",
              "      <th>PROC_CODE_34</th>\n",
              "      <th>PROC_CODE_56</th>\n",
              "      <th>PD1</th>\n",
              "      <th>PD2</th>\n",
              "      <th>PD3</th>\n",
              "      <th>PD5</th>\n",
              "      <th>PD6</th>\n",
              "      <th>PD7</th>\n",
              "      <th>PD9</th>\n",
              "      <th>PD10</th>\n",
              "      <th>PD12</th>\n",
              "      <th>TRANSACTION_AMOUNT</th>\n",
              "      <th>BILLING_CURRENCY</th>\n",
              "      <th>CONVERSION_RATE_DATE</th>\n",
              "      <th>SETTLEMENT_AMOUNT</th>\n",
              "      <th>SETTLEMENT_CURRENCY</th>\n",
              "      <th>SETTLEMENT_DATE</th>\n",
              "      <th>ACQUIRING_COUNTRY_CODE</th>\n",
              "      <th>CARD_ACCEPTOR_TERM_ID</th>\n",
              "      <th>CARD_ACCEPTOR_ID</th>\n",
              "      <th>CARD_ACC_NAME_ADDRESS</th>\n",
              "      <th>AUTHORIZATION_CODE</th>\n",
              "      <th>DECISION</th>\n",
              "      <th>TARGET</th>\n",
              "      <th>C_100</th>\n",
              "      <th>C_40</th>\n",
              "      <th>C_20</th>\n",
              "      <th>ECOM_INFO</th>\n",
              "      <th>E_COM_INDICATOR</th>\n",
              "    </tr>\n",
              "  </thead>\n",
              "  <tbody>\n",
              "    <tr>\n",
              "      <th>0</th>\n",
              "      <td>CURR356</td>\n",
              "      <td>ATC9</td>\n",
              "      <td>TOC1</td>\n",
              "      <td>TC00</td>\n",
              "      <td>TVI0</td>\n",
              "      <td>MCC7399</td>\n",
              "      <td>NNN</td>\n",
              "      <td>UNK</td>\n",
              "      <td>147.84</td>\n",
              "      <td>21-MAR-18 11.33.24</td>\n",
              "      <td>21-MAR-18 11.33.24</td>\n",
              "      <td>21-MAR-18 11.33.24</td>\n",
              "      <td>A1586941252148110</td>\n",
              "      <td>21-AUG-17 17.10.11</td>\n",
              "      <td>01-APR-20 00.00.00</td>\n",
              "      <td>FR40</td>\n",
              "      <td>TO00</td>\n",
              "      <td>CRC1</td>\n",
              "      <td>CVC0</td>\n",
              "      <td>CCC0</td>\n",
              "      <td>PPI4</td>\n",
              "      <td>CPI0</td>\n",
              "      <td>TCR2</td>\n",
              "      <td>TCV0</td>\n",
              "      <td>TWC0</td>\n",
              "      <td>PEI0</td>\n",
              "      <td>147.84</td>\n",
              "      <td>CURR356</td>\n",
              "      <td>000</td>\n",
              "      <td>145.22</td>\n",
              "      <td>CURR356</td>\n",
              "      <td>22-MAR-18 00.00.00</td>\n",
              "      <td>CON356</td>\n",
              "      <td>6R00G052</td>\n",
              "      <td>9826826968</td>\n",
              "      <td>BOOK MY SHOW\\\\\\400049\\\\</td>\n",
              "      <td>800204</td>\n",
              "      <td>RESULT000</td>\n",
              "      <td>0</td>\n",
              "      <td>AMI</td>\n",
              "      <td>ACS</td>\n",
              "      <td>T0784</td>\n",
              "      <td>AXASK05AEVV</td>\n",
              "      <td>ECI05</td>\n",
              "    </tr>\n",
              "    <tr>\n",
              "      <th>1</th>\n",
              "      <td>CURR356</td>\n",
              "      <td>ATC9</td>\n",
              "      <td>TOC1</td>\n",
              "      <td>TC00</td>\n",
              "      <td>TVI0</td>\n",
              "      <td>MCC4814</td>\n",
              "      <td>NNN</td>\n",
              "      <td>UNK</td>\n",
              "      <td>399.00</td>\n",
              "      <td>21-MAR-18 11.34.15</td>\n",
              "      <td>21-MAR-18 11.34.15</td>\n",
              "      <td>21-MAR-18 11.34.15</td>\n",
              "      <td>A1586941241334010</td>\n",
              "      <td>06-APR-16 20.19.15</td>\n",
              "      <td>01-APR-20 00.00.00</td>\n",
              "      <td>FR40</td>\n",
              "      <td>TO00</td>\n",
              "      <td>CRC1</td>\n",
              "      <td>CVC0</td>\n",
              "      <td>CCC0</td>\n",
              "      <td>PPI4</td>\n",
              "      <td>CPI0</td>\n",
              "      <td>TCR2</td>\n",
              "      <td>TCV0</td>\n",
              "      <td>TWC0</td>\n",
              "      <td>PEI0</td>\n",
              "      <td>399.00</td>\n",
              "      <td>CURR356</td>\n",
              "      <td>000</td>\n",
              "      <td>391.94</td>\n",
              "      <td>CURR356</td>\n",
              "      <td>22-MAR-18 00.00.00</td>\n",
              "      <td>CON356</td>\n",
              "      <td>6R00G052</td>\n",
              "      <td>9822047692</td>\n",
              "      <td>PAYTM RETAIL -PG-ONLINE \\\\NOIDA\\201301\\</td>\n",
              "      <td>300255</td>\n",
              "      <td>RESULT000</td>\n",
              "      <td>0</td>\n",
              "      <td>AMI</td>\n",
              "      <td>ACS</td>\n",
              "      <td>T0797</td>\n",
              "      <td>AXASK05AEVV</td>\n",
              "      <td>ECI05</td>\n",
              "    </tr>\n",
              "    <tr>\n",
              "      <th>2</th>\n",
              "      <td>CURR356</td>\n",
              "      <td>ATC9</td>\n",
              "      <td>TOC1</td>\n",
              "      <td>TC00</td>\n",
              "      <td>TVI0</td>\n",
              "      <td>MCC7399</td>\n",
              "      <td>NNN</td>\n",
              "      <td>UNK</td>\n",
              "      <td>247.20</td>\n",
              "      <td>21-MAR-18 11.36.47</td>\n",
              "      <td>21-MAR-18 11.36.47</td>\n",
              "      <td>21-MAR-18 11.36.48</td>\n",
              "      <td>A1586941049519010</td>\n",
              "      <td>03-APR-18 14.19.03</td>\n",
              "      <td>01-APR-23 00.00.00</td>\n",
              "      <td>FR40</td>\n",
              "      <td>TO00</td>\n",
              "      <td>CRC1</td>\n",
              "      <td>CVC0</td>\n",
              "      <td>CCC0</td>\n",
              "      <td>PPI4</td>\n",
              "      <td>CPI0</td>\n",
              "      <td>TCR2</td>\n",
              "      <td>TCV0</td>\n",
              "      <td>TWC0</td>\n",
              "      <td>PEI0</td>\n",
              "      <td>247.20</td>\n",
              "      <td>CURR356</td>\n",
              "      <td>000</td>\n",
              "      <td>242.82</td>\n",
              "      <td>CURR356</td>\n",
              "      <td>22-MAR-18 00.00.00</td>\n",
              "      <td>CON356</td>\n",
              "      <td>6R00G052</td>\n",
              "      <td>9826826968</td>\n",
              "      <td>BOOK MY SHOW\\\\\\400049\\\\</td>\n",
              "      <td>700408</td>\n",
              "      <td>RESULT000</td>\n",
              "      <td>0</td>\n",
              "      <td>AMI</td>\n",
              "      <td>ACS</td>\n",
              "      <td>T0537</td>\n",
              "      <td>AXASK05AEVV</td>\n",
              "      <td>ECI05</td>\n",
              "    </tr>\n",
              "    <tr>\n",
              "      <th>3</th>\n",
              "      <td>CURR356</td>\n",
              "      <td>ATC9</td>\n",
              "      <td>TOC1</td>\n",
              "      <td>TC00</td>\n",
              "      <td>TVI0</td>\n",
              "      <td>MCC7399</td>\n",
              "      <td>NNN</td>\n",
              "      <td>UNK</td>\n",
              "      <td>359.00</td>\n",
              "      <td>21-MAR-18 11.39.44</td>\n",
              "      <td>21-MAR-18 11.39.44</td>\n",
              "      <td>21-MAR-18 11.39.44</td>\n",
              "      <td>A1586941050671000</td>\n",
              "      <td>20-APR-18 19.43.48</td>\n",
              "      <td>01-APR-23 00.00.00</td>\n",
              "      <td>FR40</td>\n",
              "      <td>TO00</td>\n",
              "      <td>CRC1</td>\n",
              "      <td>CVC0</td>\n",
              "      <td>CCC0</td>\n",
              "      <td>PPI4</td>\n",
              "      <td>CPI0</td>\n",
              "      <td>TCR2</td>\n",
              "      <td>TCV0</td>\n",
              "      <td>TWC0</td>\n",
              "      <td>PEI0</td>\n",
              "      <td>359.00</td>\n",
              "      <td>CURR356</td>\n",
              "      <td>000</td>\n",
              "      <td>352.65</td>\n",
              "      <td>CURR356</td>\n",
              "      <td>22-MAR-18 00.00.00</td>\n",
              "      <td>CON356</td>\n",
              "      <td>6R00G052</td>\n",
              "      <td>9826826968</td>\n",
              "      <td>BOOK MY SHOW\\\\\\400049\\\\</td>\n",
              "      <td>700585</td>\n",
              "      <td>RESULT000</td>\n",
              "      <td>0</td>\n",
              "      <td>AMI</td>\n",
              "      <td>ACS</td>\n",
              "      <td>T0796</td>\n",
              "      <td>AXASK05AEVV</td>\n",
              "      <td>ECI05</td>\n",
              "    </tr>\n",
              "    <tr>\n",
              "      <th>4</th>\n",
              "      <td>CURR356</td>\n",
              "      <td>ATC9</td>\n",
              "      <td>TOC1</td>\n",
              "      <td>TC00</td>\n",
              "      <td>TVI0</td>\n",
              "      <td>MCC5999</td>\n",
              "      <td>NNN</td>\n",
              "      <td>UNK</td>\n",
              "      <td>188.00</td>\n",
              "      <td>21-MAR-18 11.43.08</td>\n",
              "      <td>21-MAR-18 11.43.08</td>\n",
              "      <td>21-MAR-18 11.43.08</td>\n",
              "      <td>A1586941257961010</td>\n",
              "      <td>30-APR-16 20.49.02</td>\n",
              "      <td>01-APR-20 00.00.00</td>\n",
              "      <td>FR40</td>\n",
              "      <td>TO00</td>\n",
              "      <td>CRC1</td>\n",
              "      <td>CVC0</td>\n",
              "      <td>CCC0</td>\n",
              "      <td>PPI4</td>\n",
              "      <td>CPI0</td>\n",
              "      <td>TCR2</td>\n",
              "      <td>TCV0</td>\n",
              "      <td>TWC0</td>\n",
              "      <td>PEI0</td>\n",
              "      <td>188.00</td>\n",
              "      <td>CURR356</td>\n",
              "      <td>000</td>\n",
              "      <td>183.81</td>\n",
              "      <td>CURR356</td>\n",
              "      <td>22-MAR-18 00.00.00</td>\n",
              "      <td>CON356</td>\n",
              "      <td>6R00G052</td>\n",
              "      <td>9820524155</td>\n",
              "      <td>PAYTM.COM WALLET PG \\\\NOIDA\\201310\\\\</td>\n",
              "      <td>400788</td>\n",
              "      <td>RESULT000</td>\n",
              "      <td>0</td>\n",
              "      <td>AMI</td>\n",
              "      <td>ACS</td>\n",
              "      <td>T0784</td>\n",
              "      <td>AXASK05AEVV</td>\n",
              "      <td>ECI05</td>\n",
              "    </tr>\n",
              "  </tbody>\n",
              "</table>\n",
              "</div>"
            ],
            "text/plain": [
              "  TRANSACTION_CURRENCY   PD4  PD11  ...   C_20    ECOM_INFO E_COM_INDICATOR\n",
              "0              CURR356  ATC9  TOC1  ...  T0784  AXASK05AEVV           ECI05\n",
              "1              CURR356  ATC9  TOC1  ...  T0797  AXASK05AEVV           ECI05\n",
              "2              CURR356  ATC9  TOC1  ...  T0537  AXASK05AEVV           ECI05\n",
              "3              CURR356  ATC9  TOC1  ...  T0796  AXASK05AEVV           ECI05\n",
              "4              CURR356  ATC9  TOC1  ...  T0784  AXASK05AEVV           ECI05\n",
              "\n",
              "[5 rows x 44 columns]"
            ]
          },
          "metadata": {
            "tags": []
          },
          "execution_count": 13
        }
      ]
    },
    {
      "cell_type": "markdown",
      "metadata": {
        "id": "5iikTIHoZnse",
        "colab_type": "text"
      },
      "source": [
        "##### So there are no index like columns here, so we can simply convert all of them via LabelEncoder to numeric encodings to be passed on to the decision tree, however we will first find out the float type columns and have them be as it is.\n"
      ]
    },
    {
      "cell_type": "markdown",
      "metadata": {
        "id": "d3mywjC_Ll6c",
        "colab_type": "text"
      },
      "source": [
        "##### **Function to remove constant values**\n"
      ]
    },
    {
      "cell_type": "code",
      "metadata": {
        "id": "DZiPS0k5LrW1",
        "colab_type": "code",
        "colab": {}
      },
      "source": [
        "def remove_constants(df):\n",
        "  df_new = df.copy()\n",
        "  indices = []\n",
        "  for col in df_new.columns:\n",
        "    if len(set(df_new[col])) == 1:\n",
        "      indices.append(col)\n",
        "  df_new = df_new.drop(indices,1)\n",
        "  return df_new"
      ],
      "execution_count": 14,
      "outputs": []
    },
    {
      "cell_type": "code",
      "metadata": {
        "id": "92b4TtRPMb8K",
        "colab_type": "code",
        "colab": {
          "base_uri": "https://localhost:8080/",
          "height": 34
        },
        "outputId": "2f34d602-b903-4009-d70a-fca4a08660fd"
      },
      "source": [
        "data_dt = remove_constants(data_dt)\n",
        "data_dt.shape"
      ],
      "execution_count": 15,
      "outputs": [
        {
          "output_type": "execute_result",
          "data": {
            "text/plain": [
              "(105271, 44)"
            ]
          },
          "metadata": {
            "tags": []
          },
          "execution_count": 15
        }
      ]
    },
    {
      "cell_type": "markdown",
      "metadata": {
        "id": "a68N3-0epzPz",
        "colab_type": "text"
      },
      "source": [
        "##### Therefore there are no constant columns in the dataset"
      ]
    },
    {
      "cell_type": "code",
      "metadata": {
        "id": "p94ZQxUl7xTJ",
        "colab_type": "code",
        "colab": {
          "base_uri": "https://localhost:8080/",
          "height": 225
        },
        "outputId": "d1e2f9c8-c9f8-4b46-d78f-34d5150ed59d"
      },
      "source": [
        "data_dt.columns"
      ],
      "execution_count": 16,
      "outputs": [
        {
          "output_type": "execute_result",
          "data": {
            "text/plain": [
              "Index(['TRANSACTION_CURRENCY', 'PD4', 'PD11', 'PROC_CODE_12', 'PD8', 'MCC',\n",
              "       'POS_ENTRY_MODE', 'SERVICE_CODE', 'BILLING_AMOUNT',\n",
              "       'TRANSACTION_LOCAL_DATE', 'TRANSMISSION_DATE_TIME',\n",
              "       'RESPONSE_DATE_TIME', 'PAN', 'VALID_FROM', 'EXPIRY_DATE',\n",
              "       'PROC_CODE_34', 'PROC_CODE_56', 'PD1', 'PD2', 'PD3', 'PD5', 'PD6',\n",
              "       'PD7', 'PD9', 'PD10', 'PD12', 'TRANSACTION_AMOUNT', 'BILLING_CURRENCY',\n",
              "       'CONVERSION_RATE_DATE', 'SETTLEMENT_AMOUNT', 'SETTLEMENT_CURRENCY',\n",
              "       'SETTLEMENT_DATE', 'ACQUIRING_COUNTRY_CODE', 'CARD_ACCEPTOR_TERM_ID',\n",
              "       'CARD_ACCEPTOR_ID', 'CARD_ACC_NAME_ADDRESS', 'AUTHORIZATION_CODE',\n",
              "       'DECISION', 'TARGET', 'C_100', 'C_40', 'C_20', 'ECOM_INFO',\n",
              "       'E_COM_INDICATOR'],\n",
              "      dtype='object')"
            ]
          },
          "metadata": {
            "tags": []
          },
          "execution_count": 16
        }
      ]
    },
    {
      "cell_type": "code",
      "metadata": {
        "id": "ilILRlB5AFsg",
        "colab_type": "code",
        "colab": {
          "base_uri": "https://localhost:8080/",
          "height": 34
        },
        "outputId": "041b529f-3473-4f8e-a91f-fdec2c757666"
      },
      "source": [
        "set(data_dt.E_COM_INDICATOR.astype('category').cat.codes)"
      ],
      "execution_count": 17,
      "outputs": [
        {
          "output_type": "execute_result",
          "data": {
            "text/plain": [
              "{0, 1, 2, 3, 4, 5, 6}"
            ]
          },
          "metadata": {
            "tags": []
          },
          "execution_count": 17
        }
      ]
    },
    {
      "cell_type": "code",
      "metadata": {
        "id": "cd14EmilHaiA",
        "colab_type": "code",
        "colab": {
          "base_uri": "https://localhost:8080/",
          "height": 618
        },
        "outputId": "f3dc49da-c003-400d-c1c6-3d05621c1954"
      },
      "source": [
        "data_dt2 = data_dt.copy()\n",
        "data_dt2"
      ],
      "execution_count": 18,
      "outputs": [
        {
          "output_type": "execute_result",
          "data": {
            "text/html": [
              "<div>\n",
              "<style scoped>\n",
              "    .dataframe tbody tr th:only-of-type {\n",
              "        vertical-align: middle;\n",
              "    }\n",
              "\n",
              "    .dataframe tbody tr th {\n",
              "        vertical-align: top;\n",
              "    }\n",
              "\n",
              "    .dataframe thead th {\n",
              "        text-align: right;\n",
              "    }\n",
              "</style>\n",
              "<table border=\"1\" class=\"dataframe\">\n",
              "  <thead>\n",
              "    <tr style=\"text-align: right;\">\n",
              "      <th></th>\n",
              "      <th>TRANSACTION_CURRENCY</th>\n",
              "      <th>PD4</th>\n",
              "      <th>PD11</th>\n",
              "      <th>PROC_CODE_12</th>\n",
              "      <th>PD8</th>\n",
              "      <th>MCC</th>\n",
              "      <th>POS_ENTRY_MODE</th>\n",
              "      <th>SERVICE_CODE</th>\n",
              "      <th>BILLING_AMOUNT</th>\n",
              "      <th>TRANSACTION_LOCAL_DATE</th>\n",
              "      <th>TRANSMISSION_DATE_TIME</th>\n",
              "      <th>RESPONSE_DATE_TIME</th>\n",
              "      <th>PAN</th>\n",
              "      <th>VALID_FROM</th>\n",
              "      <th>EXPIRY_DATE</th>\n",
              "      <th>PROC_CODE_34</th>\n",
              "      <th>PROC_CODE_56</th>\n",
              "      <th>PD1</th>\n",
              "      <th>PD2</th>\n",
              "      <th>PD3</th>\n",
              "      <th>PD5</th>\n",
              "      <th>PD6</th>\n",
              "      <th>PD7</th>\n",
              "      <th>PD9</th>\n",
              "      <th>PD10</th>\n",
              "      <th>PD12</th>\n",
              "      <th>TRANSACTION_AMOUNT</th>\n",
              "      <th>BILLING_CURRENCY</th>\n",
              "      <th>CONVERSION_RATE_DATE</th>\n",
              "      <th>SETTLEMENT_AMOUNT</th>\n",
              "      <th>SETTLEMENT_CURRENCY</th>\n",
              "      <th>SETTLEMENT_DATE</th>\n",
              "      <th>ACQUIRING_COUNTRY_CODE</th>\n",
              "      <th>CARD_ACCEPTOR_TERM_ID</th>\n",
              "      <th>CARD_ACCEPTOR_ID</th>\n",
              "      <th>CARD_ACC_NAME_ADDRESS</th>\n",
              "      <th>AUTHORIZATION_CODE</th>\n",
              "      <th>DECISION</th>\n",
              "      <th>TARGET</th>\n",
              "      <th>C_100</th>\n",
              "      <th>C_40</th>\n",
              "      <th>C_20</th>\n",
              "      <th>ECOM_INFO</th>\n",
              "      <th>E_COM_INDICATOR</th>\n",
              "    </tr>\n",
              "  </thead>\n",
              "  <tbody>\n",
              "    <tr>\n",
              "      <th>0</th>\n",
              "      <td>CURR356</td>\n",
              "      <td>ATC9</td>\n",
              "      <td>TOC1</td>\n",
              "      <td>TC00</td>\n",
              "      <td>TVI0</td>\n",
              "      <td>MCC7399</td>\n",
              "      <td>NNN</td>\n",
              "      <td>UNK</td>\n",
              "      <td>147.84</td>\n",
              "      <td>21-MAR-18 11.33.24</td>\n",
              "      <td>21-MAR-18 11.33.24</td>\n",
              "      <td>21-MAR-18 11.33.24</td>\n",
              "      <td>A1586941252148110</td>\n",
              "      <td>21-AUG-17 17.10.11</td>\n",
              "      <td>01-APR-20 00.00.00</td>\n",
              "      <td>FR40</td>\n",
              "      <td>TO00</td>\n",
              "      <td>CRC1</td>\n",
              "      <td>CVC0</td>\n",
              "      <td>CCC0</td>\n",
              "      <td>PPI4</td>\n",
              "      <td>CPI0</td>\n",
              "      <td>TCR2</td>\n",
              "      <td>TCV0</td>\n",
              "      <td>TWC0</td>\n",
              "      <td>PEI0</td>\n",
              "      <td>147.84</td>\n",
              "      <td>CURR356</td>\n",
              "      <td>000</td>\n",
              "      <td>145.22</td>\n",
              "      <td>CURR356</td>\n",
              "      <td>22-MAR-18 00.00.00</td>\n",
              "      <td>CON356</td>\n",
              "      <td>6R00G052</td>\n",
              "      <td>9826826968</td>\n",
              "      <td>BOOK MY SHOW\\\\\\400049\\\\</td>\n",
              "      <td>800204</td>\n",
              "      <td>RESULT000</td>\n",
              "      <td>0</td>\n",
              "      <td>AMI</td>\n",
              "      <td>ACS</td>\n",
              "      <td>T0784</td>\n",
              "      <td>AXASK05AEVV</td>\n",
              "      <td>ECI05</td>\n",
              "    </tr>\n",
              "    <tr>\n",
              "      <th>1</th>\n",
              "      <td>CURR356</td>\n",
              "      <td>ATC9</td>\n",
              "      <td>TOC1</td>\n",
              "      <td>TC00</td>\n",
              "      <td>TVI0</td>\n",
              "      <td>MCC4814</td>\n",
              "      <td>NNN</td>\n",
              "      <td>UNK</td>\n",
              "      <td>399.00</td>\n",
              "      <td>21-MAR-18 11.34.15</td>\n",
              "      <td>21-MAR-18 11.34.15</td>\n",
              "      <td>21-MAR-18 11.34.15</td>\n",
              "      <td>A1586941241334010</td>\n",
              "      <td>06-APR-16 20.19.15</td>\n",
              "      <td>01-APR-20 00.00.00</td>\n",
              "      <td>FR40</td>\n",
              "      <td>TO00</td>\n",
              "      <td>CRC1</td>\n",
              "      <td>CVC0</td>\n",
              "      <td>CCC0</td>\n",
              "      <td>PPI4</td>\n",
              "      <td>CPI0</td>\n",
              "      <td>TCR2</td>\n",
              "      <td>TCV0</td>\n",
              "      <td>TWC0</td>\n",
              "      <td>PEI0</td>\n",
              "      <td>399.00</td>\n",
              "      <td>CURR356</td>\n",
              "      <td>000</td>\n",
              "      <td>391.94</td>\n",
              "      <td>CURR356</td>\n",
              "      <td>22-MAR-18 00.00.00</td>\n",
              "      <td>CON356</td>\n",
              "      <td>6R00G052</td>\n",
              "      <td>9822047692</td>\n",
              "      <td>PAYTM RETAIL -PG-ONLINE \\\\NOIDA\\201301\\</td>\n",
              "      <td>300255</td>\n",
              "      <td>RESULT000</td>\n",
              "      <td>0</td>\n",
              "      <td>AMI</td>\n",
              "      <td>ACS</td>\n",
              "      <td>T0797</td>\n",
              "      <td>AXASK05AEVV</td>\n",
              "      <td>ECI05</td>\n",
              "    </tr>\n",
              "    <tr>\n",
              "      <th>2</th>\n",
              "      <td>CURR356</td>\n",
              "      <td>ATC9</td>\n",
              "      <td>TOC1</td>\n",
              "      <td>TC00</td>\n",
              "      <td>TVI0</td>\n",
              "      <td>MCC7399</td>\n",
              "      <td>NNN</td>\n",
              "      <td>UNK</td>\n",
              "      <td>247.20</td>\n",
              "      <td>21-MAR-18 11.36.47</td>\n",
              "      <td>21-MAR-18 11.36.47</td>\n",
              "      <td>21-MAR-18 11.36.48</td>\n",
              "      <td>A1586941049519010</td>\n",
              "      <td>03-APR-18 14.19.03</td>\n",
              "      <td>01-APR-23 00.00.00</td>\n",
              "      <td>FR40</td>\n",
              "      <td>TO00</td>\n",
              "      <td>CRC1</td>\n",
              "      <td>CVC0</td>\n",
              "      <td>CCC0</td>\n",
              "      <td>PPI4</td>\n",
              "      <td>CPI0</td>\n",
              "      <td>TCR2</td>\n",
              "      <td>TCV0</td>\n",
              "      <td>TWC0</td>\n",
              "      <td>PEI0</td>\n",
              "      <td>247.20</td>\n",
              "      <td>CURR356</td>\n",
              "      <td>000</td>\n",
              "      <td>242.82</td>\n",
              "      <td>CURR356</td>\n",
              "      <td>22-MAR-18 00.00.00</td>\n",
              "      <td>CON356</td>\n",
              "      <td>6R00G052</td>\n",
              "      <td>9826826968</td>\n",
              "      <td>BOOK MY SHOW\\\\\\400049\\\\</td>\n",
              "      <td>700408</td>\n",
              "      <td>RESULT000</td>\n",
              "      <td>0</td>\n",
              "      <td>AMI</td>\n",
              "      <td>ACS</td>\n",
              "      <td>T0537</td>\n",
              "      <td>AXASK05AEVV</td>\n",
              "      <td>ECI05</td>\n",
              "    </tr>\n",
              "    <tr>\n",
              "      <th>3</th>\n",
              "      <td>CURR356</td>\n",
              "      <td>ATC9</td>\n",
              "      <td>TOC1</td>\n",
              "      <td>TC00</td>\n",
              "      <td>TVI0</td>\n",
              "      <td>MCC7399</td>\n",
              "      <td>NNN</td>\n",
              "      <td>UNK</td>\n",
              "      <td>359.00</td>\n",
              "      <td>21-MAR-18 11.39.44</td>\n",
              "      <td>21-MAR-18 11.39.44</td>\n",
              "      <td>21-MAR-18 11.39.44</td>\n",
              "      <td>A1586941050671000</td>\n",
              "      <td>20-APR-18 19.43.48</td>\n",
              "      <td>01-APR-23 00.00.00</td>\n",
              "      <td>FR40</td>\n",
              "      <td>TO00</td>\n",
              "      <td>CRC1</td>\n",
              "      <td>CVC0</td>\n",
              "      <td>CCC0</td>\n",
              "      <td>PPI4</td>\n",
              "      <td>CPI0</td>\n",
              "      <td>TCR2</td>\n",
              "      <td>TCV0</td>\n",
              "      <td>TWC0</td>\n",
              "      <td>PEI0</td>\n",
              "      <td>359.00</td>\n",
              "      <td>CURR356</td>\n",
              "      <td>000</td>\n",
              "      <td>352.65</td>\n",
              "      <td>CURR356</td>\n",
              "      <td>22-MAR-18 00.00.00</td>\n",
              "      <td>CON356</td>\n",
              "      <td>6R00G052</td>\n",
              "      <td>9826826968</td>\n",
              "      <td>BOOK MY SHOW\\\\\\400049\\\\</td>\n",
              "      <td>700585</td>\n",
              "      <td>RESULT000</td>\n",
              "      <td>0</td>\n",
              "      <td>AMI</td>\n",
              "      <td>ACS</td>\n",
              "      <td>T0796</td>\n",
              "      <td>AXASK05AEVV</td>\n",
              "      <td>ECI05</td>\n",
              "    </tr>\n",
              "    <tr>\n",
              "      <th>4</th>\n",
              "      <td>CURR356</td>\n",
              "      <td>ATC9</td>\n",
              "      <td>TOC1</td>\n",
              "      <td>TC00</td>\n",
              "      <td>TVI0</td>\n",
              "      <td>MCC5999</td>\n",
              "      <td>NNN</td>\n",
              "      <td>UNK</td>\n",
              "      <td>188.00</td>\n",
              "      <td>21-MAR-18 11.43.08</td>\n",
              "      <td>21-MAR-18 11.43.08</td>\n",
              "      <td>21-MAR-18 11.43.08</td>\n",
              "      <td>A1586941257961010</td>\n",
              "      <td>30-APR-16 20.49.02</td>\n",
              "      <td>01-APR-20 00.00.00</td>\n",
              "      <td>FR40</td>\n",
              "      <td>TO00</td>\n",
              "      <td>CRC1</td>\n",
              "      <td>CVC0</td>\n",
              "      <td>CCC0</td>\n",
              "      <td>PPI4</td>\n",
              "      <td>CPI0</td>\n",
              "      <td>TCR2</td>\n",
              "      <td>TCV0</td>\n",
              "      <td>TWC0</td>\n",
              "      <td>PEI0</td>\n",
              "      <td>188.00</td>\n",
              "      <td>CURR356</td>\n",
              "      <td>000</td>\n",
              "      <td>183.81</td>\n",
              "      <td>CURR356</td>\n",
              "      <td>22-MAR-18 00.00.00</td>\n",
              "      <td>CON356</td>\n",
              "      <td>6R00G052</td>\n",
              "      <td>9820524155</td>\n",
              "      <td>PAYTM.COM WALLET PG \\\\NOIDA\\201310\\\\</td>\n",
              "      <td>400788</td>\n",
              "      <td>RESULT000</td>\n",
              "      <td>0</td>\n",
              "      <td>AMI</td>\n",
              "      <td>ACS</td>\n",
              "      <td>T0784</td>\n",
              "      <td>AXASK05AEVV</td>\n",
              "      <td>ECI05</td>\n",
              "    </tr>\n",
              "    <tr>\n",
              "      <th>...</th>\n",
              "      <td>...</td>\n",
              "      <td>...</td>\n",
              "      <td>...</td>\n",
              "      <td>...</td>\n",
              "      <td>...</td>\n",
              "      <td>...</td>\n",
              "      <td>...</td>\n",
              "      <td>...</td>\n",
              "      <td>...</td>\n",
              "      <td>...</td>\n",
              "      <td>...</td>\n",
              "      <td>...</td>\n",
              "      <td>...</td>\n",
              "      <td>...</td>\n",
              "      <td>...</td>\n",
              "      <td>...</td>\n",
              "      <td>...</td>\n",
              "      <td>...</td>\n",
              "      <td>...</td>\n",
              "      <td>...</td>\n",
              "      <td>...</td>\n",
              "      <td>...</td>\n",
              "      <td>...</td>\n",
              "      <td>...</td>\n",
              "      <td>...</td>\n",
              "      <td>...</td>\n",
              "      <td>...</td>\n",
              "      <td>...</td>\n",
              "      <td>...</td>\n",
              "      <td>...</td>\n",
              "      <td>...</td>\n",
              "      <td>...</td>\n",
              "      <td>...</td>\n",
              "      <td>...</td>\n",
              "      <td>...</td>\n",
              "      <td>...</td>\n",
              "      <td>...</td>\n",
              "      <td>...</td>\n",
              "      <td>...</td>\n",
              "      <td>...</td>\n",
              "      <td>...</td>\n",
              "      <td>...</td>\n",
              "      <td>...</td>\n",
              "      <td>...</td>\n",
              "    </tr>\n",
              "    <tr>\n",
              "      <th>105266</th>\n",
              "      <td>CURR356</td>\n",
              "      <td>ATCX</td>\n",
              "      <td>TOCX</td>\n",
              "      <td>TC26</td>\n",
              "      <td>TVIX</td>\n",
              "      <td>MCC6012</td>\n",
              "      <td>NNN</td>\n",
              "      <td>UNK</td>\n",
              "      <td>10.00</td>\n",
              "      <td>22-MAR-18 20.33.27</td>\n",
              "      <td>22-MAR-18 20.33.27</td>\n",
              "      <td>22-MAR-18 15.03.28</td>\n",
              "      <td>A5756981000264010</td>\n",
              "      <td>01-DEC-49 00.00.00</td>\n",
              "      <td>01-DEC-50 00.00.00</td>\n",
              "      <td>FR00</td>\n",
              "      <td>TO00</td>\n",
              "      <td>CRCX</td>\n",
              "      <td>CVCX</td>\n",
              "      <td>CCCX</td>\n",
              "      <td>PPIX</td>\n",
              "      <td>CPIX</td>\n",
              "      <td>TCRX</td>\n",
              "      <td>TCVX</td>\n",
              "      <td>TWCX</td>\n",
              "      <td>PEIX</td>\n",
              "      <td>10.00</td>\n",
              "      <td>CURR356</td>\n",
              "      <td>000</td>\n",
              "      <td>10.00</td>\n",
              "      <td>CURR356</td>\n",
              "      <td>SETTLEMENT_DATENA</td>\n",
              "      <td>CON356</td>\n",
              "      <td>RVMTTERM</td>\n",
              "      <td>100008</td>\n",
              "      <td>mVisa merchant           mVisa paymentIN</td>\n",
              "      <td>062910</td>\n",
              "      <td>RESULT000</td>\n",
              "      <td>0</td>\n",
              "      <td>MOB</td>\n",
              "      <td>ITB</td>\n",
              "      <td>T0011</td>\n",
              "      <td>ECOM_INFONA</td>\n",
              "      <td>ECINA</td>\n",
              "    </tr>\n",
              "    <tr>\n",
              "      <th>105267</th>\n",
              "      <td>CURR356</td>\n",
              "      <td>ATC0</td>\n",
              "      <td>TOC0</td>\n",
              "      <td>TC00</td>\n",
              "      <td>TVI0</td>\n",
              "      <td>MCC5399</td>\n",
              "      <td>NNN</td>\n",
              "      <td>UNK</td>\n",
              "      <td>18000.00</td>\n",
              "      <td>22-MAR-18 20.37.09</td>\n",
              "      <td>22-MAR-18 20.37.09</td>\n",
              "      <td>22-MAR-18 20.37.09</td>\n",
              "      <td>A5357314011150000</td>\n",
              "      <td>27-JUN-17 19.40.21</td>\n",
              "      <td>01-JUN-22 00.00.00</td>\n",
              "      <td>FR00</td>\n",
              "      <td>TO98</td>\n",
              "      <td>CRC0</td>\n",
              "      <td>CVC0</td>\n",
              "      <td>CCC0</td>\n",
              "      <td>PPI0</td>\n",
              "      <td>CPI0</td>\n",
              "      <td>TCR1</td>\n",
              "      <td>TCV0</td>\n",
              "      <td>TWC0</td>\n",
              "      <td>PEI0</td>\n",
              "      <td>18000.00</td>\n",
              "      <td>CURR356</td>\n",
              "      <td>000</td>\n",
              "      <td>18000.00</td>\n",
              "      <td>CURR356</td>\n",
              "      <td>22-MAR-18 00.00.00</td>\n",
              "      <td>CON356</td>\n",
              "      <td>RVMTTERM</td>\n",
              "      <td>100008</td>\n",
              "      <td>FARHAT JHAHAN DURRANI    INDORE       IN</td>\n",
              "      <td>374229</td>\n",
              "      <td>RESULT000</td>\n",
              "      <td>0</td>\n",
              "      <td>MOB</td>\n",
              "      <td>ITB</td>\n",
              "      <td>T0011</td>\n",
              "      <td>ECOM_INFONA</td>\n",
              "      <td>ECINA</td>\n",
              "    </tr>\n",
              "    <tr>\n",
              "      <th>105268</th>\n",
              "      <td>CURR356</td>\n",
              "      <td>ATCX</td>\n",
              "      <td>TOCX</td>\n",
              "      <td>TC26</td>\n",
              "      <td>TVIX</td>\n",
              "      <td>MCC6012</td>\n",
              "      <td>NNN</td>\n",
              "      <td>UNK</td>\n",
              "      <td>18000.00</td>\n",
              "      <td>22-MAR-18 20.37.09</td>\n",
              "      <td>22-MAR-18 20.37.09</td>\n",
              "      <td>22-MAR-18 15.07.10</td>\n",
              "      <td>A5756981000264010</td>\n",
              "      <td>01-DEC-49 00.00.00</td>\n",
              "      <td>01-DEC-50 00.00.00</td>\n",
              "      <td>FR00</td>\n",
              "      <td>TO00</td>\n",
              "      <td>CRCX</td>\n",
              "      <td>CVCX</td>\n",
              "      <td>CCCX</td>\n",
              "      <td>PPIX</td>\n",
              "      <td>CPIX</td>\n",
              "      <td>TCRX</td>\n",
              "      <td>TCVX</td>\n",
              "      <td>TWCX</td>\n",
              "      <td>PEIX</td>\n",
              "      <td>18000.00</td>\n",
              "      <td>CURR356</td>\n",
              "      <td>000</td>\n",
              "      <td>18000.00</td>\n",
              "      <td>CURR356</td>\n",
              "      <td>SETTLEMENT_DATENA</td>\n",
              "      <td>CON356</td>\n",
              "      <td>RVMTTERM</td>\n",
              "      <td>100008</td>\n",
              "      <td>mVisa merchant           mVisa paymentIN</td>\n",
              "      <td>062926</td>\n",
              "      <td>RESULT000</td>\n",
              "      <td>0</td>\n",
              "      <td>MOB</td>\n",
              "      <td>ITB</td>\n",
              "      <td>T0011</td>\n",
              "      <td>ECOM_INFONA</td>\n",
              "      <td>ECINA</td>\n",
              "    </tr>\n",
              "    <tr>\n",
              "      <th>105269</th>\n",
              "      <td>CURR356</td>\n",
              "      <td>ATC0</td>\n",
              "      <td>TOC0</td>\n",
              "      <td>TC00</td>\n",
              "      <td>TVI0</td>\n",
              "      <td>MCC4812</td>\n",
              "      <td>NNN</td>\n",
              "      <td>UNK</td>\n",
              "      <td>18100.00</td>\n",
              "      <td>22-MAR-18 20.39.09</td>\n",
              "      <td>22-MAR-18 20.39.09</td>\n",
              "      <td>22-MAR-18 20.39.09</td>\n",
              "      <td>A5357314011150000</td>\n",
              "      <td>27-JUN-17 19.40.21</td>\n",
              "      <td>01-JUN-22 00.00.00</td>\n",
              "      <td>FR00</td>\n",
              "      <td>TO98</td>\n",
              "      <td>CRC0</td>\n",
              "      <td>CVC0</td>\n",
              "      <td>CCC0</td>\n",
              "      <td>PPI0</td>\n",
              "      <td>CPI0</td>\n",
              "      <td>TCR1</td>\n",
              "      <td>TCV0</td>\n",
              "      <td>TWC0</td>\n",
              "      <td>PEI0</td>\n",
              "      <td>18100.00</td>\n",
              "      <td>CURR356</td>\n",
              "      <td>000</td>\n",
              "      <td>18100.00</td>\n",
              "      <td>CURR356</td>\n",
              "      <td>22-MAR-18 00.00.00</td>\n",
              "      <td>CON356</td>\n",
              "      <td>RVMTTERM</td>\n",
              "      <td>100008</td>\n",
              "      <td>RABBANI TELECOM          INDORE       IN</td>\n",
              "      <td>274349</td>\n",
              "      <td>RESULT000</td>\n",
              "      <td>0</td>\n",
              "      <td>MOB</td>\n",
              "      <td>ITB</td>\n",
              "      <td>T0011</td>\n",
              "      <td>ECOM_INFONA</td>\n",
              "      <td>ECINA</td>\n",
              "    </tr>\n",
              "    <tr>\n",
              "      <th>105270</th>\n",
              "      <td>CURR356</td>\n",
              "      <td>ATCX</td>\n",
              "      <td>TOCX</td>\n",
              "      <td>TC26</td>\n",
              "      <td>TVIX</td>\n",
              "      <td>MCC6012</td>\n",
              "      <td>NNN</td>\n",
              "      <td>UNK</td>\n",
              "      <td>18100.00</td>\n",
              "      <td>22-MAR-18 20.39.09</td>\n",
              "      <td>22-MAR-18 20.39.09</td>\n",
              "      <td>22-MAR-18 15.09.10</td>\n",
              "      <td>A5756981001605260</td>\n",
              "      <td>01-DEC-49 00.00.00</td>\n",
              "      <td>01-DEC-50 00.00.00</td>\n",
              "      <td>FR00</td>\n",
              "      <td>TO00</td>\n",
              "      <td>CRCX</td>\n",
              "      <td>CVCX</td>\n",
              "      <td>CCCX</td>\n",
              "      <td>PPIX</td>\n",
              "      <td>CPIX</td>\n",
              "      <td>TCRX</td>\n",
              "      <td>TCVX</td>\n",
              "      <td>TWCX</td>\n",
              "      <td>PEIX</td>\n",
              "      <td>18100.00</td>\n",
              "      <td>CURR356</td>\n",
              "      <td>000</td>\n",
              "      <td>18100.00</td>\n",
              "      <td>CURR356</td>\n",
              "      <td>SETTLEMENT_DATENA</td>\n",
              "      <td>CON356</td>\n",
              "      <td>RVMTTERM</td>\n",
              "      <td>100008</td>\n",
              "      <td>mVisa merchant           mVisa paymentIN</td>\n",
              "      <td>077943</td>\n",
              "      <td>RESULT000</td>\n",
              "      <td>0</td>\n",
              "      <td>MOB</td>\n",
              "      <td>ITB</td>\n",
              "      <td>T0011</td>\n",
              "      <td>T</td>\n",
              "      <td>ECINA</td>\n",
              "    </tr>\n",
              "  </tbody>\n",
              "</table>\n",
              "<p>105271 rows × 44 columns</p>\n",
              "</div>"
            ],
            "text/plain": [
              "       TRANSACTION_CURRENCY   PD4  PD11  ...   C_20    ECOM_INFO E_COM_INDICATOR\n",
              "0                   CURR356  ATC9  TOC1  ...  T0784  AXASK05AEVV           ECI05\n",
              "1                   CURR356  ATC9  TOC1  ...  T0797  AXASK05AEVV           ECI05\n",
              "2                   CURR356  ATC9  TOC1  ...  T0537  AXASK05AEVV           ECI05\n",
              "3                   CURR356  ATC9  TOC1  ...  T0796  AXASK05AEVV           ECI05\n",
              "4                   CURR356  ATC9  TOC1  ...  T0784  AXASK05AEVV           ECI05\n",
              "...                     ...   ...   ...  ...    ...          ...             ...\n",
              "105266              CURR356  ATCX  TOCX  ...  T0011  ECOM_INFONA           ECINA\n",
              "105267              CURR356  ATC0  TOC0  ...  T0011  ECOM_INFONA           ECINA\n",
              "105268              CURR356  ATCX  TOCX  ...  T0011  ECOM_INFONA           ECINA\n",
              "105269              CURR356  ATC0  TOC0  ...  T0011  ECOM_INFONA           ECINA\n",
              "105270              CURR356  ATCX  TOCX  ...  T0011            T           ECINA\n",
              "\n",
              "[105271 rows x 44 columns]"
            ]
          },
          "metadata": {
            "tags": []
          },
          "execution_count": 18
        }
      ]
    },
    {
      "cell_type": "code",
      "metadata": {
        "id": "zL2zu3u4CX5m",
        "colab_type": "code",
        "colab": {
          "base_uri": "https://localhost:8080/",
          "height": 331
        },
        "outputId": "beb54235-c52d-437c-c834-f8feabae156b"
      },
      "source": [
        "# So what we will be doing here is that other than the float columns we will be converting all the other columns necessarily to strings\n",
        "float_cols = []\n",
        "for col in data_dt2.columns:\n",
        "  if data_dt2[col].dtype == 'float64':\n",
        "    float_cols.append(col)\n",
        "\n",
        "print(float_cols)\n",
        "data_dt2 = data_dt2.drop(float_cols,axis=1)\n",
        "data_dt2.head()\n",
        "#data_dt_custom = data_dt[[x for x in data_dt.columns if x not in ['CONVERSION_RATE_DATE','CARD_ACCEPTOR_ID','AUTHORIZATION_CODE','TARGET']]]\n",
        "#data_dt_custom.head()"
      ],
      "execution_count": 19,
      "outputs": [
        {
          "output_type": "stream",
          "text": [
            "['BILLING_AMOUNT', 'TRANSACTION_AMOUNT', 'SETTLEMENT_AMOUNT']\n"
          ],
          "name": "stdout"
        },
        {
          "output_type": "execute_result",
          "data": {
            "text/html": [
              "<div>\n",
              "<style scoped>\n",
              "    .dataframe tbody tr th:only-of-type {\n",
              "        vertical-align: middle;\n",
              "    }\n",
              "\n",
              "    .dataframe tbody tr th {\n",
              "        vertical-align: top;\n",
              "    }\n",
              "\n",
              "    .dataframe thead th {\n",
              "        text-align: right;\n",
              "    }\n",
              "</style>\n",
              "<table border=\"1\" class=\"dataframe\">\n",
              "  <thead>\n",
              "    <tr style=\"text-align: right;\">\n",
              "      <th></th>\n",
              "      <th>TRANSACTION_CURRENCY</th>\n",
              "      <th>PD4</th>\n",
              "      <th>PD11</th>\n",
              "      <th>PROC_CODE_12</th>\n",
              "      <th>PD8</th>\n",
              "      <th>MCC</th>\n",
              "      <th>POS_ENTRY_MODE</th>\n",
              "      <th>SERVICE_CODE</th>\n",
              "      <th>TRANSACTION_LOCAL_DATE</th>\n",
              "      <th>TRANSMISSION_DATE_TIME</th>\n",
              "      <th>RESPONSE_DATE_TIME</th>\n",
              "      <th>PAN</th>\n",
              "      <th>VALID_FROM</th>\n",
              "      <th>EXPIRY_DATE</th>\n",
              "      <th>PROC_CODE_34</th>\n",
              "      <th>PROC_CODE_56</th>\n",
              "      <th>PD1</th>\n",
              "      <th>PD2</th>\n",
              "      <th>PD3</th>\n",
              "      <th>PD5</th>\n",
              "      <th>PD6</th>\n",
              "      <th>PD7</th>\n",
              "      <th>PD9</th>\n",
              "      <th>PD10</th>\n",
              "      <th>PD12</th>\n",
              "      <th>BILLING_CURRENCY</th>\n",
              "      <th>CONVERSION_RATE_DATE</th>\n",
              "      <th>SETTLEMENT_CURRENCY</th>\n",
              "      <th>SETTLEMENT_DATE</th>\n",
              "      <th>ACQUIRING_COUNTRY_CODE</th>\n",
              "      <th>CARD_ACCEPTOR_TERM_ID</th>\n",
              "      <th>CARD_ACCEPTOR_ID</th>\n",
              "      <th>CARD_ACC_NAME_ADDRESS</th>\n",
              "      <th>AUTHORIZATION_CODE</th>\n",
              "      <th>DECISION</th>\n",
              "      <th>TARGET</th>\n",
              "      <th>C_100</th>\n",
              "      <th>C_40</th>\n",
              "      <th>C_20</th>\n",
              "      <th>ECOM_INFO</th>\n",
              "      <th>E_COM_INDICATOR</th>\n",
              "    </tr>\n",
              "  </thead>\n",
              "  <tbody>\n",
              "    <tr>\n",
              "      <th>0</th>\n",
              "      <td>CURR356</td>\n",
              "      <td>ATC9</td>\n",
              "      <td>TOC1</td>\n",
              "      <td>TC00</td>\n",
              "      <td>TVI0</td>\n",
              "      <td>MCC7399</td>\n",
              "      <td>NNN</td>\n",
              "      <td>UNK</td>\n",
              "      <td>21-MAR-18 11.33.24</td>\n",
              "      <td>21-MAR-18 11.33.24</td>\n",
              "      <td>21-MAR-18 11.33.24</td>\n",
              "      <td>A1586941252148110</td>\n",
              "      <td>21-AUG-17 17.10.11</td>\n",
              "      <td>01-APR-20 00.00.00</td>\n",
              "      <td>FR40</td>\n",
              "      <td>TO00</td>\n",
              "      <td>CRC1</td>\n",
              "      <td>CVC0</td>\n",
              "      <td>CCC0</td>\n",
              "      <td>PPI4</td>\n",
              "      <td>CPI0</td>\n",
              "      <td>TCR2</td>\n",
              "      <td>TCV0</td>\n",
              "      <td>TWC0</td>\n",
              "      <td>PEI0</td>\n",
              "      <td>CURR356</td>\n",
              "      <td>000</td>\n",
              "      <td>CURR356</td>\n",
              "      <td>22-MAR-18 00.00.00</td>\n",
              "      <td>CON356</td>\n",
              "      <td>6R00G052</td>\n",
              "      <td>9826826968</td>\n",
              "      <td>BOOK MY SHOW\\\\\\400049\\\\</td>\n",
              "      <td>800204</td>\n",
              "      <td>RESULT000</td>\n",
              "      <td>0</td>\n",
              "      <td>AMI</td>\n",
              "      <td>ACS</td>\n",
              "      <td>T0784</td>\n",
              "      <td>AXASK05AEVV</td>\n",
              "      <td>ECI05</td>\n",
              "    </tr>\n",
              "    <tr>\n",
              "      <th>1</th>\n",
              "      <td>CURR356</td>\n",
              "      <td>ATC9</td>\n",
              "      <td>TOC1</td>\n",
              "      <td>TC00</td>\n",
              "      <td>TVI0</td>\n",
              "      <td>MCC4814</td>\n",
              "      <td>NNN</td>\n",
              "      <td>UNK</td>\n",
              "      <td>21-MAR-18 11.34.15</td>\n",
              "      <td>21-MAR-18 11.34.15</td>\n",
              "      <td>21-MAR-18 11.34.15</td>\n",
              "      <td>A1586941241334010</td>\n",
              "      <td>06-APR-16 20.19.15</td>\n",
              "      <td>01-APR-20 00.00.00</td>\n",
              "      <td>FR40</td>\n",
              "      <td>TO00</td>\n",
              "      <td>CRC1</td>\n",
              "      <td>CVC0</td>\n",
              "      <td>CCC0</td>\n",
              "      <td>PPI4</td>\n",
              "      <td>CPI0</td>\n",
              "      <td>TCR2</td>\n",
              "      <td>TCV0</td>\n",
              "      <td>TWC0</td>\n",
              "      <td>PEI0</td>\n",
              "      <td>CURR356</td>\n",
              "      <td>000</td>\n",
              "      <td>CURR356</td>\n",
              "      <td>22-MAR-18 00.00.00</td>\n",
              "      <td>CON356</td>\n",
              "      <td>6R00G052</td>\n",
              "      <td>9822047692</td>\n",
              "      <td>PAYTM RETAIL -PG-ONLINE \\\\NOIDA\\201301\\</td>\n",
              "      <td>300255</td>\n",
              "      <td>RESULT000</td>\n",
              "      <td>0</td>\n",
              "      <td>AMI</td>\n",
              "      <td>ACS</td>\n",
              "      <td>T0797</td>\n",
              "      <td>AXASK05AEVV</td>\n",
              "      <td>ECI05</td>\n",
              "    </tr>\n",
              "    <tr>\n",
              "      <th>2</th>\n",
              "      <td>CURR356</td>\n",
              "      <td>ATC9</td>\n",
              "      <td>TOC1</td>\n",
              "      <td>TC00</td>\n",
              "      <td>TVI0</td>\n",
              "      <td>MCC7399</td>\n",
              "      <td>NNN</td>\n",
              "      <td>UNK</td>\n",
              "      <td>21-MAR-18 11.36.47</td>\n",
              "      <td>21-MAR-18 11.36.47</td>\n",
              "      <td>21-MAR-18 11.36.48</td>\n",
              "      <td>A1586941049519010</td>\n",
              "      <td>03-APR-18 14.19.03</td>\n",
              "      <td>01-APR-23 00.00.00</td>\n",
              "      <td>FR40</td>\n",
              "      <td>TO00</td>\n",
              "      <td>CRC1</td>\n",
              "      <td>CVC0</td>\n",
              "      <td>CCC0</td>\n",
              "      <td>PPI4</td>\n",
              "      <td>CPI0</td>\n",
              "      <td>TCR2</td>\n",
              "      <td>TCV0</td>\n",
              "      <td>TWC0</td>\n",
              "      <td>PEI0</td>\n",
              "      <td>CURR356</td>\n",
              "      <td>000</td>\n",
              "      <td>CURR356</td>\n",
              "      <td>22-MAR-18 00.00.00</td>\n",
              "      <td>CON356</td>\n",
              "      <td>6R00G052</td>\n",
              "      <td>9826826968</td>\n",
              "      <td>BOOK MY SHOW\\\\\\400049\\\\</td>\n",
              "      <td>700408</td>\n",
              "      <td>RESULT000</td>\n",
              "      <td>0</td>\n",
              "      <td>AMI</td>\n",
              "      <td>ACS</td>\n",
              "      <td>T0537</td>\n",
              "      <td>AXASK05AEVV</td>\n",
              "      <td>ECI05</td>\n",
              "    </tr>\n",
              "    <tr>\n",
              "      <th>3</th>\n",
              "      <td>CURR356</td>\n",
              "      <td>ATC9</td>\n",
              "      <td>TOC1</td>\n",
              "      <td>TC00</td>\n",
              "      <td>TVI0</td>\n",
              "      <td>MCC7399</td>\n",
              "      <td>NNN</td>\n",
              "      <td>UNK</td>\n",
              "      <td>21-MAR-18 11.39.44</td>\n",
              "      <td>21-MAR-18 11.39.44</td>\n",
              "      <td>21-MAR-18 11.39.44</td>\n",
              "      <td>A1586941050671000</td>\n",
              "      <td>20-APR-18 19.43.48</td>\n",
              "      <td>01-APR-23 00.00.00</td>\n",
              "      <td>FR40</td>\n",
              "      <td>TO00</td>\n",
              "      <td>CRC1</td>\n",
              "      <td>CVC0</td>\n",
              "      <td>CCC0</td>\n",
              "      <td>PPI4</td>\n",
              "      <td>CPI0</td>\n",
              "      <td>TCR2</td>\n",
              "      <td>TCV0</td>\n",
              "      <td>TWC0</td>\n",
              "      <td>PEI0</td>\n",
              "      <td>CURR356</td>\n",
              "      <td>000</td>\n",
              "      <td>CURR356</td>\n",
              "      <td>22-MAR-18 00.00.00</td>\n",
              "      <td>CON356</td>\n",
              "      <td>6R00G052</td>\n",
              "      <td>9826826968</td>\n",
              "      <td>BOOK MY SHOW\\\\\\400049\\\\</td>\n",
              "      <td>700585</td>\n",
              "      <td>RESULT000</td>\n",
              "      <td>0</td>\n",
              "      <td>AMI</td>\n",
              "      <td>ACS</td>\n",
              "      <td>T0796</td>\n",
              "      <td>AXASK05AEVV</td>\n",
              "      <td>ECI05</td>\n",
              "    </tr>\n",
              "    <tr>\n",
              "      <th>4</th>\n",
              "      <td>CURR356</td>\n",
              "      <td>ATC9</td>\n",
              "      <td>TOC1</td>\n",
              "      <td>TC00</td>\n",
              "      <td>TVI0</td>\n",
              "      <td>MCC5999</td>\n",
              "      <td>NNN</td>\n",
              "      <td>UNK</td>\n",
              "      <td>21-MAR-18 11.43.08</td>\n",
              "      <td>21-MAR-18 11.43.08</td>\n",
              "      <td>21-MAR-18 11.43.08</td>\n",
              "      <td>A1586941257961010</td>\n",
              "      <td>30-APR-16 20.49.02</td>\n",
              "      <td>01-APR-20 00.00.00</td>\n",
              "      <td>FR40</td>\n",
              "      <td>TO00</td>\n",
              "      <td>CRC1</td>\n",
              "      <td>CVC0</td>\n",
              "      <td>CCC0</td>\n",
              "      <td>PPI4</td>\n",
              "      <td>CPI0</td>\n",
              "      <td>TCR2</td>\n",
              "      <td>TCV0</td>\n",
              "      <td>TWC0</td>\n",
              "      <td>PEI0</td>\n",
              "      <td>CURR356</td>\n",
              "      <td>000</td>\n",
              "      <td>CURR356</td>\n",
              "      <td>22-MAR-18 00.00.00</td>\n",
              "      <td>CON356</td>\n",
              "      <td>6R00G052</td>\n",
              "      <td>9820524155</td>\n",
              "      <td>PAYTM.COM WALLET PG \\\\NOIDA\\201310\\\\</td>\n",
              "      <td>400788</td>\n",
              "      <td>RESULT000</td>\n",
              "      <td>0</td>\n",
              "      <td>AMI</td>\n",
              "      <td>ACS</td>\n",
              "      <td>T0784</td>\n",
              "      <td>AXASK05AEVV</td>\n",
              "      <td>ECI05</td>\n",
              "    </tr>\n",
              "  </tbody>\n",
              "</table>\n",
              "</div>"
            ],
            "text/plain": [
              "  TRANSACTION_CURRENCY   PD4  PD11  ...   C_20    ECOM_INFO E_COM_INDICATOR\n",
              "0              CURR356  ATC9  TOC1  ...  T0784  AXASK05AEVV           ECI05\n",
              "1              CURR356  ATC9  TOC1  ...  T0797  AXASK05AEVV           ECI05\n",
              "2              CURR356  ATC9  TOC1  ...  T0537  AXASK05AEVV           ECI05\n",
              "3              CURR356  ATC9  TOC1  ...  T0796  AXASK05AEVV           ECI05\n",
              "4              CURR356  ATC9  TOC1  ...  T0784  AXASK05AEVV           ECI05\n",
              "\n",
              "[5 rows x 41 columns]"
            ]
          },
          "metadata": {
            "tags": []
          },
          "execution_count": 19
        }
      ]
    },
    {
      "cell_type": "markdown",
      "metadata": {
        "id": "QriE_Bo3hBh9",
        "colab_type": "text"
      },
      "source": [
        "##### **Label Encoding of the categorical columns and the keeping the float columns as is**"
      ]
    },
    {
      "cell_type": "code",
      "metadata": {
        "id": "x7Sl9SaFhQsl",
        "colab_type": "code",
        "colab": {
          "base_uri": "https://localhost:8080/",
          "height": 226
        },
        "outputId": "7190a4cd-bee4-494d-daff-34b8b47a926b"
      },
      "source": [
        "data_dt_custom = pd.DataFrame()\n",
        "for col in data_dt2.columns:\n",
        "  le = LabelEncoder()\n",
        "  le.fit(data_dt2[col])\n",
        "  data_dt_custom[col] = le.transform(data_dt2[col])\n",
        "\n",
        "for col in float_cols:\n",
        "  data_dt_custom[col] = data_dt[col]\n",
        "\n",
        "data_dt_custom.head()"
      ],
      "execution_count": 20,
      "outputs": [
        {
          "output_type": "execute_result",
          "data": {
            "text/html": [
              "<div>\n",
              "<style scoped>\n",
              "    .dataframe tbody tr th:only-of-type {\n",
              "        vertical-align: middle;\n",
              "    }\n",
              "\n",
              "    .dataframe tbody tr th {\n",
              "        vertical-align: top;\n",
              "    }\n",
              "\n",
              "    .dataframe thead th {\n",
              "        text-align: right;\n",
              "    }\n",
              "</style>\n",
              "<table border=\"1\" class=\"dataframe\">\n",
              "  <thead>\n",
              "    <tr style=\"text-align: right;\">\n",
              "      <th></th>\n",
              "      <th>TRANSACTION_CURRENCY</th>\n",
              "      <th>PD4</th>\n",
              "      <th>PD11</th>\n",
              "      <th>PROC_CODE_12</th>\n",
              "      <th>PD8</th>\n",
              "      <th>MCC</th>\n",
              "      <th>POS_ENTRY_MODE</th>\n",
              "      <th>SERVICE_CODE</th>\n",
              "      <th>TRANSACTION_LOCAL_DATE</th>\n",
              "      <th>TRANSMISSION_DATE_TIME</th>\n",
              "      <th>RESPONSE_DATE_TIME</th>\n",
              "      <th>PAN</th>\n",
              "      <th>VALID_FROM</th>\n",
              "      <th>EXPIRY_DATE</th>\n",
              "      <th>PROC_CODE_34</th>\n",
              "      <th>PROC_CODE_56</th>\n",
              "      <th>PD1</th>\n",
              "      <th>PD2</th>\n",
              "      <th>PD3</th>\n",
              "      <th>PD5</th>\n",
              "      <th>PD6</th>\n",
              "      <th>PD7</th>\n",
              "      <th>PD9</th>\n",
              "      <th>PD10</th>\n",
              "      <th>PD12</th>\n",
              "      <th>BILLING_CURRENCY</th>\n",
              "      <th>CONVERSION_RATE_DATE</th>\n",
              "      <th>SETTLEMENT_CURRENCY</th>\n",
              "      <th>SETTLEMENT_DATE</th>\n",
              "      <th>ACQUIRING_COUNTRY_CODE</th>\n",
              "      <th>CARD_ACCEPTOR_TERM_ID</th>\n",
              "      <th>CARD_ACCEPTOR_ID</th>\n",
              "      <th>CARD_ACC_NAME_ADDRESS</th>\n",
              "      <th>AUTHORIZATION_CODE</th>\n",
              "      <th>DECISION</th>\n",
              "      <th>TARGET</th>\n",
              "      <th>C_100</th>\n",
              "      <th>C_40</th>\n",
              "      <th>C_20</th>\n",
              "      <th>ECOM_INFO</th>\n",
              "      <th>E_COM_INDICATOR</th>\n",
              "      <th>BILLING_AMOUNT</th>\n",
              "      <th>TRANSACTION_AMOUNT</th>\n",
              "      <th>SETTLEMENT_AMOUNT</th>\n",
              "    </tr>\n",
              "  </thead>\n",
              "  <tbody>\n",
              "    <tr>\n",
              "      <th>0</th>\n",
              "      <td>14</td>\n",
              "      <td>5</td>\n",
              "      <td>1</td>\n",
              "      <td>0</td>\n",
              "      <td>0</td>\n",
              "      <td>258</td>\n",
              "      <td>14</td>\n",
              "      <td>6</td>\n",
              "      <td>9</td>\n",
              "      <td>0</td>\n",
              "      <td>0</td>\n",
              "      <td>934</td>\n",
              "      <td>28389</td>\n",
              "      <td>1</td>\n",
              "      <td>4</td>\n",
              "      <td>0</td>\n",
              "      <td>1</td>\n",
              "      <td>0</td>\n",
              "      <td>0</td>\n",
              "      <td>4</td>\n",
              "      <td>0</td>\n",
              "      <td>1</td>\n",
              "      <td>0</td>\n",
              "      <td>0</td>\n",
              "      <td>0</td>\n",
              "      <td>1</td>\n",
              "      <td>0</td>\n",
              "      <td>1</td>\n",
              "      <td>1</td>\n",
              "      <td>29</td>\n",
              "      <td>40758</td>\n",
              "      <td>27991</td>\n",
              "      <td>5564</td>\n",
              "      <td>70860</td>\n",
              "      <td>0</td>\n",
              "      <td>0</td>\n",
              "      <td>0</td>\n",
              "      <td>0</td>\n",
              "      <td>594</td>\n",
              "      <td>21702</td>\n",
              "      <td>3</td>\n",
              "      <td>147.84</td>\n",
              "      <td>147.84</td>\n",
              "      <td>145.22</td>\n",
              "    </tr>\n",
              "    <tr>\n",
              "      <th>1</th>\n",
              "      <td>14</td>\n",
              "      <td>5</td>\n",
              "      <td>1</td>\n",
              "      <td>0</td>\n",
              "      <td>0</td>\n",
              "      <td>100</td>\n",
              "      <td>14</td>\n",
              "      <td>6</td>\n",
              "      <td>10</td>\n",
              "      <td>1</td>\n",
              "      <td>1</td>\n",
              "      <td>875</td>\n",
              "      <td>7515</td>\n",
              "      <td>1</td>\n",
              "      <td>4</td>\n",
              "      <td>0</td>\n",
              "      <td>1</td>\n",
              "      <td>0</td>\n",
              "      <td>0</td>\n",
              "      <td>4</td>\n",
              "      <td>0</td>\n",
              "      <td>1</td>\n",
              "      <td>0</td>\n",
              "      <td>0</td>\n",
              "      <td>0</td>\n",
              "      <td>1</td>\n",
              "      <td>0</td>\n",
              "      <td>1</td>\n",
              "      <td>1</td>\n",
              "      <td>29</td>\n",
              "      <td>40758</td>\n",
              "      <td>27698</td>\n",
              "      <td>28286</td>\n",
              "      <td>16588</td>\n",
              "      <td>0</td>\n",
              "      <td>0</td>\n",
              "      <td>0</td>\n",
              "      <td>0</td>\n",
              "      <td>602</td>\n",
              "      <td>21702</td>\n",
              "      <td>3</td>\n",
              "      <td>399.00</td>\n",
              "      <td>399.00</td>\n",
              "      <td>391.94</td>\n",
              "    </tr>\n",
              "    <tr>\n",
              "      <th>2</th>\n",
              "      <td>14</td>\n",
              "      <td>5</td>\n",
              "      <td>1</td>\n",
              "      <td>0</td>\n",
              "      <td>0</td>\n",
              "      <td>258</td>\n",
              "      <td>14</td>\n",
              "      <td>6</td>\n",
              "      <td>11</td>\n",
              "      <td>2</td>\n",
              "      <td>2</td>\n",
              "      <td>492</td>\n",
              "      <td>2951</td>\n",
              "      <td>4</td>\n",
              "      <td>4</td>\n",
              "      <td>0</td>\n",
              "      <td>1</td>\n",
              "      <td>0</td>\n",
              "      <td>0</td>\n",
              "      <td>4</td>\n",
              "      <td>0</td>\n",
              "      <td>1</td>\n",
              "      <td>0</td>\n",
              "      <td>0</td>\n",
              "      <td>0</td>\n",
              "      <td>1</td>\n",
              "      <td>0</td>\n",
              "      <td>1</td>\n",
              "      <td>1</td>\n",
              "      <td>29</td>\n",
              "      <td>40758</td>\n",
              "      <td>27991</td>\n",
              "      <td>5564</td>\n",
              "      <td>59898</td>\n",
              "      <td>0</td>\n",
              "      <td>0</td>\n",
              "      <td>0</td>\n",
              "      <td>0</td>\n",
              "      <td>419</td>\n",
              "      <td>21702</td>\n",
              "      <td>3</td>\n",
              "      <td>247.20</td>\n",
              "      <td>247.20</td>\n",
              "      <td>242.82</td>\n",
              "    </tr>\n",
              "    <tr>\n",
              "      <th>3</th>\n",
              "      <td>14</td>\n",
              "      <td>5</td>\n",
              "      <td>1</td>\n",
              "      <td>0</td>\n",
              "      <td>0</td>\n",
              "      <td>258</td>\n",
              "      <td>14</td>\n",
              "      <td>6</td>\n",
              "      <td>12</td>\n",
              "      <td>3</td>\n",
              "      <td>3</td>\n",
              "      <td>529</td>\n",
              "      <td>26953</td>\n",
              "      <td>4</td>\n",
              "      <td>4</td>\n",
              "      <td>0</td>\n",
              "      <td>1</td>\n",
              "      <td>0</td>\n",
              "      <td>0</td>\n",
              "      <td>4</td>\n",
              "      <td>0</td>\n",
              "      <td>1</td>\n",
              "      <td>0</td>\n",
              "      <td>0</td>\n",
              "      <td>0</td>\n",
              "      <td>1</td>\n",
              "      <td>0</td>\n",
              "      <td>1</td>\n",
              "      <td>1</td>\n",
              "      <td>29</td>\n",
              "      <td>40758</td>\n",
              "      <td>27991</td>\n",
              "      <td>5564</td>\n",
              "      <td>59907</td>\n",
              "      <td>0</td>\n",
              "      <td>0</td>\n",
              "      <td>0</td>\n",
              "      <td>0</td>\n",
              "      <td>601</td>\n",
              "      <td>21702</td>\n",
              "      <td>3</td>\n",
              "      <td>359.00</td>\n",
              "      <td>359.00</td>\n",
              "      <td>352.65</td>\n",
              "    </tr>\n",
              "    <tr>\n",
              "      <th>4</th>\n",
              "      <td>14</td>\n",
              "      <td>5</td>\n",
              "      <td>1</td>\n",
              "      <td>0</td>\n",
              "      <td>0</td>\n",
              "      <td>217</td>\n",
              "      <td>14</td>\n",
              "      <td>6</td>\n",
              "      <td>15</td>\n",
              "      <td>6</td>\n",
              "      <td>5</td>\n",
              "      <td>961</td>\n",
              "      <td>43447</td>\n",
              "      <td>1</td>\n",
              "      <td>4</td>\n",
              "      <td>0</td>\n",
              "      <td>1</td>\n",
              "      <td>0</td>\n",
              "      <td>0</td>\n",
              "      <td>4</td>\n",
              "      <td>0</td>\n",
              "      <td>1</td>\n",
              "      <td>0</td>\n",
              "      <td>0</td>\n",
              "      <td>0</td>\n",
              "      <td>1</td>\n",
              "      <td>0</td>\n",
              "      <td>1</td>\n",
              "      <td>1</td>\n",
              "      <td>29</td>\n",
              "      <td>40758</td>\n",
              "      <td>27548</td>\n",
              "      <td>28293</td>\n",
              "      <td>27344</td>\n",
              "      <td>0</td>\n",
              "      <td>0</td>\n",
              "      <td>0</td>\n",
              "      <td>0</td>\n",
              "      <td>594</td>\n",
              "      <td>21702</td>\n",
              "      <td>3</td>\n",
              "      <td>188.00</td>\n",
              "      <td>188.00</td>\n",
              "      <td>183.81</td>\n",
              "    </tr>\n",
              "  </tbody>\n",
              "</table>\n",
              "</div>"
            ],
            "text/plain": [
              "   TRANSACTION_CURRENCY  PD4  ...  TRANSACTION_AMOUNT  SETTLEMENT_AMOUNT\n",
              "0                    14    5  ...              147.84             145.22\n",
              "1                    14    5  ...              399.00             391.94\n",
              "2                    14    5  ...              247.20             242.82\n",
              "3                    14    5  ...              359.00             352.65\n",
              "4                    14    5  ...              188.00             183.81\n",
              "\n",
              "[5 rows x 44 columns]"
            ]
          },
          "metadata": {
            "tags": []
          },
          "execution_count": 20
        }
      ]
    },
    {
      "cell_type": "code",
      "metadata": {
        "id": "tv8MXPIxjIAJ",
        "colab_type": "code",
        "colab": {
          "base_uri": "https://localhost:8080/",
          "height": 764
        },
        "outputId": "938c782f-2ca2-4fc3-90e1-52326df11334"
      },
      "source": [
        "label_column = 'E_COM_INDICATOR'\n",
        "input_columns = [x for x in data_dt_custom.columns if x != 'E_COM_INDICATOR']\n",
        "input_columns"
      ],
      "execution_count": 21,
      "outputs": [
        {
          "output_type": "execute_result",
          "data": {
            "text/plain": [
              "['TRANSACTION_CURRENCY',\n",
              " 'PD4',\n",
              " 'PD11',\n",
              " 'PROC_CODE_12',\n",
              " 'PD8',\n",
              " 'MCC',\n",
              " 'POS_ENTRY_MODE',\n",
              " 'SERVICE_CODE',\n",
              " 'TRANSACTION_LOCAL_DATE',\n",
              " 'TRANSMISSION_DATE_TIME',\n",
              " 'RESPONSE_DATE_TIME',\n",
              " 'PAN',\n",
              " 'VALID_FROM',\n",
              " 'EXPIRY_DATE',\n",
              " 'PROC_CODE_34',\n",
              " 'PROC_CODE_56',\n",
              " 'PD1',\n",
              " 'PD2',\n",
              " 'PD3',\n",
              " 'PD5',\n",
              " 'PD6',\n",
              " 'PD7',\n",
              " 'PD9',\n",
              " 'PD10',\n",
              " 'PD12',\n",
              " 'BILLING_CURRENCY',\n",
              " 'CONVERSION_RATE_DATE',\n",
              " 'SETTLEMENT_CURRENCY',\n",
              " 'SETTLEMENT_DATE',\n",
              " 'ACQUIRING_COUNTRY_CODE',\n",
              " 'CARD_ACCEPTOR_TERM_ID',\n",
              " 'CARD_ACCEPTOR_ID',\n",
              " 'CARD_ACC_NAME_ADDRESS',\n",
              " 'AUTHORIZATION_CODE',\n",
              " 'DECISION',\n",
              " 'TARGET',\n",
              " 'C_100',\n",
              " 'C_40',\n",
              " 'C_20',\n",
              " 'ECOM_INFO',\n",
              " 'BILLING_AMOUNT',\n",
              " 'TRANSACTION_AMOUNT',\n",
              " 'SETTLEMENT_AMOUNT']"
            ]
          },
          "metadata": {
            "tags": []
          },
          "execution_count": 21
        }
      ]
    },
    {
      "cell_type": "markdown",
      "metadata": {
        "id": "g94Hc6Kot_-P",
        "colab_type": "text"
      },
      "source": [
        "##### **We will try to do something similar using TensorBoard**\n",
        "For reference look at the following link: <br>\n",
        "https://www.tensorflow.org/tensorboard/get_started\n"
      ]
    },
    {
      "cell_type": "code",
      "metadata": {
        "id": "sZ1436haIAk2",
        "colab_type": "code",
        "colab": {}
      },
      "source": [
        "# Load the TensorBoard notebook extension\n",
        "%load_ext tensorboard\n"
      ],
      "execution_count": 22,
      "outputs": []
    },
    {
      "cell_type": "code",
      "metadata": {
        "id": "M-Sm2ZqhuRI2",
        "colab_type": "code",
        "colab": {}
      },
      "source": [
        "# Clear any logs from previous runs\n",
        "!rm -rf ./logs/"
      ],
      "execution_count": 23,
      "outputs": []
    },
    {
      "cell_type": "code",
      "metadata": {
        "id": "tzhnauqHIAih",
        "colab_type": "code",
        "colab": {
          "base_uri": "https://localhost:8080/",
          "height": 52
        },
        "outputId": "4e30478e-a427-49c1-ccf5-b0eed2979068"
      },
      "source": [
        "import datetime\n",
        "\n",
        "# Dividing the data into train_test_split\n",
        "X = np.asarray(data_dt_custom[input_columns])\n",
        "y = np.asarray(data_dt_custom[label_column])\n",
        "#y = np.array(data_dt_final.loc[:,'TARGET'])\n",
        "print(X.shape)\n",
        "print(y.shape)"
      ],
      "execution_count": 24,
      "outputs": [
        {
          "output_type": "stream",
          "text": [
            "(105271, 43)\n",
            "(105271,)\n"
          ],
          "name": "stdout"
        }
      ]
    },
    {
      "cell_type": "code",
      "metadata": {
        "id": "H0OJp6-zlIO6",
        "colab_type": "code",
        "colab": {
          "base_uri": "https://localhost:8080/",
          "height": 86
        },
        "outputId": "59a18664-8369-4ff5-e619-5cf87ab93f8f"
      },
      "source": [
        "X_train, X_test, y_train, y_test = train_test_split(X, y, test_size = 0.1, shuffle=True)\n",
        "print(X_train.shape)\n",
        "print(X_test.shape)\n",
        "print(y_train.shape)\n",
        "print(y_test.shape)"
      ],
      "execution_count": 25,
      "outputs": [
        {
          "output_type": "stream",
          "text": [
            "(94743, 43)\n",
            "(10528, 43)\n",
            "(94743,)\n",
            "(10528,)\n"
          ],
          "name": "stdout"
        }
      ]
    },
    {
      "cell_type": "code",
      "metadata": {
        "id": "-167LwAx1Jbd",
        "colab_type": "code",
        "colab": {}
      },
      "source": [
        "callback = tf.keras.callbacks.EarlyStopping(monitor='val_loss', patience=20,mode=\"auto\")\n",
        "#Regularizer = l2(0.001)"
      ],
      "execution_count": 26,
      "outputs": []
    },
    {
      "cell_type": "code",
      "metadata": {
        "id": "2j3nZtQIIAVM",
        "colab_type": "code",
        "colab": {}
      },
      "source": [
        "def create_model():\n",
        "  return tf.keras.models.Sequential([\n",
        "    tf.keras.layers.Flatten(input_shape=(43,)),\n",
        "    tf.keras.layers.Dense(512, activation='relu'),\n",
        "    tf.keras.layers.Dropout(0.2),\n",
        "    tf.keras.layers.Dense(7, activation='softmax')  # This number after Dense changes according to the number of categories in the target variable we are trying to predict\n",
        "  ])"
      ],
      "execution_count": 27,
      "outputs": []
    },
    {
      "cell_type": "code",
      "metadata": {
        "id": "eZqnP1qzeka2",
        "colab_type": "code",
        "colab": {}
      },
      "source": [
        "model = create_model()\n",
        "model.compile(optimizer='adam',\n",
        "              loss='sparse_categorical_crossentropy',\n",
        "              metrics=['accuracy'])\n"
      ],
      "execution_count": 28,
      "outputs": []
    },
    {
      "cell_type": "markdown",
      "metadata": {
        "id": "GS9AUq_Xux-8",
        "colab_type": "text"
      },
      "source": [
        "##### **Fitting the model**"
      ]
    },
    {
      "cell_type": "code",
      "metadata": {
        "id": "6oylVJpNj2Ct",
        "colab_type": "code",
        "colab": {
          "base_uri": "https://localhost:8080/",
          "height": 1000
        },
        "outputId": "dc05c540-05d6-490a-8c89-8a320ffef336"
      },
      "source": [
        "log_dir = \"/tmp/logs/fit/\" + datetime.datetime.now().strftime(\"%Y%m%d-%H%M%S\")\n",
        "tensorboard_callback = tf.keras.callbacks.TensorBoard(log_dir=log_dir, histogram_freq=1)\n",
        "\n",
        "\n",
        "# Would be preferable to try with around 40 epochs in retrospect, since with 20 which was tried it doesn't quite converge yet\n",
        "history = model.fit(x=X_train, \n",
        "          y=y_train, \n",
        "          epochs=40, \n",
        "          validation_data=(X_test, y_test), \n",
        "          callbacks=[tensorboard_callback, callback])\n"
      ],
      "execution_count": 29,
      "outputs": [
        {
          "output_type": "stream",
          "text": [
            "Epoch 1/40\n",
            "2961/2961 [==============================] - 8s 3ms/step - loss: 215.5624 - accuracy: 0.7558 - val_loss: 5.8082 - val_accuracy: 0.7921\n",
            "Epoch 2/40\n",
            "2961/2961 [==============================] - 8s 3ms/step - loss: 27.1209 - accuracy: 0.7552 - val_loss: 2.3725 - val_accuracy: 0.7875\n",
            "Epoch 3/40\n",
            "2961/2961 [==============================] - 7s 3ms/step - loss: 14.5260 - accuracy: 0.7737 - val_loss: 1.1018 - val_accuracy: 0.8004\n",
            "Epoch 4/40\n",
            "2961/2961 [==============================] - 8s 3ms/step - loss: 8.1035 - accuracy: 0.7610 - val_loss: 0.7926 - val_accuracy: 0.7960\n",
            "Epoch 5/40\n",
            "2961/2961 [==============================] - 8s 3ms/step - loss: 5.0416 - accuracy: 0.7589 - val_loss: 16.7191 - val_accuracy: 0.8042\n",
            "Epoch 6/40\n",
            "2961/2961 [==============================] - 8s 3ms/step - loss: 9.9524 - accuracy: 0.7655 - val_loss: 0.7336 - val_accuracy: 0.7941\n",
            "Epoch 7/40\n",
            "2961/2961 [==============================] - 8s 3ms/step - loss: 4.9556 - accuracy: 0.7545 - val_loss: 0.6917 - val_accuracy: 0.8013\n",
            "Epoch 8/40\n",
            "2961/2961 [==============================] - 9s 3ms/step - loss: 5.3484 - accuracy: 0.7586 - val_loss: 0.8115 - val_accuracy: 0.8028\n",
            "Epoch 9/40\n",
            "2961/2961 [==============================] - 12s 4ms/step - loss: 4.3980 - accuracy: 0.7582 - val_loss: 0.7678 - val_accuracy: 0.7634\n",
            "Epoch 10/40\n",
            "2961/2961 [==============================] - 10s 4ms/step - loss: 3.8419 - accuracy: 0.7521 - val_loss: 0.6784 - val_accuracy: 0.8055\n",
            "Epoch 11/40\n",
            "2961/2961 [==============================] - 8s 3ms/step - loss: 5.7945 - accuracy: 0.7571 - val_loss: 0.7043 - val_accuracy: 0.7941\n",
            "Epoch 12/40\n",
            "2961/2961 [==============================] - 8s 3ms/step - loss: 0.8274 - accuracy: 0.7600 - val_loss: 0.6963 - val_accuracy: 0.7976\n",
            "Epoch 13/40\n",
            "2961/2961 [==============================] - 8s 3ms/step - loss: 2.8075 - accuracy: 0.7631 - val_loss: 0.6759 - val_accuracy: 0.8068\n",
            "Epoch 14/40\n",
            "2961/2961 [==============================] - 8s 3ms/step - loss: 4.1569 - accuracy: 0.7574 - val_loss: 0.7107 - val_accuracy: 0.7935\n",
            "Epoch 15/40\n",
            "2961/2961 [==============================] - 8s 3ms/step - loss: 1.0238 - accuracy: 0.7589 - val_loss: 0.6921 - val_accuracy: 0.7993\n",
            "Epoch 16/40\n",
            "2961/2961 [==============================] - 8s 3ms/step - loss: 2.7788 - accuracy: 0.7616 - val_loss: 0.7317 - val_accuracy: 0.7812\n",
            "Epoch 17/40\n",
            "2961/2961 [==============================] - 11s 4ms/step - loss: 2.1228 - accuracy: 0.7710 - val_loss: 0.6842 - val_accuracy: 0.7993\n",
            "Epoch 18/40\n",
            "2961/2961 [==============================] - 8s 3ms/step - loss: 1.9984 - accuracy: 0.7798 - val_loss: 0.6967 - val_accuracy: 0.7950\n",
            "Epoch 19/40\n",
            "2961/2961 [==============================] - 8s 3ms/step - loss: 0.7469 - accuracy: 0.7810 - val_loss: 0.7049 - val_accuracy: 0.7914\n",
            "Epoch 20/40\n",
            "2961/2961 [==============================] - 7s 2ms/step - loss: 0.7467 - accuracy: 0.7803 - val_loss: 0.6783 - val_accuracy: 0.8075\n",
            "Epoch 21/40\n",
            "2961/2961 [==============================] - 8s 3ms/step - loss: 1.4196 - accuracy: 0.7765 - val_loss: 0.7062 - val_accuracy: 0.7912\n",
            "Epoch 22/40\n",
            "2961/2961 [==============================] - 8s 3ms/step - loss: 2.1022 - accuracy: 0.7776 - val_loss: 0.7379 - val_accuracy: 0.8026\n",
            "Epoch 23/40\n",
            "2961/2961 [==============================] - 8s 3ms/step - loss: 1.9237 - accuracy: 0.7422 - val_loss: 0.8504 - val_accuracy: 0.7232\n",
            "Epoch 24/40\n",
            "2961/2961 [==============================] - 8s 3ms/step - loss: 1.7016 - accuracy: 0.7405 - val_loss: 0.8973 - val_accuracy: 0.6978\n",
            "Epoch 25/40\n",
            "2961/2961 [==============================] - 8s 3ms/step - loss: 0.9333 - accuracy: 0.7544 - val_loss: 3.5622 - val_accuracy: 0.7825\n",
            "Epoch 26/40\n",
            "2961/2961 [==============================] - 8s 3ms/step - loss: 1.6620 - accuracy: 0.7745 - val_loss: 0.7809 - val_accuracy: 0.7583\n",
            "Epoch 27/40\n",
            "2961/2961 [==============================] - 8s 3ms/step - loss: 0.7722 - accuracy: 0.7720 - val_loss: 0.7105 - val_accuracy: 0.7893\n",
            "Epoch 28/40\n",
            "2961/2961 [==============================] - 7s 3ms/step - loss: 0.7546 - accuracy: 0.7771 - val_loss: 0.7180 - val_accuracy: 0.7856\n",
            "Epoch 29/40\n",
            "2961/2961 [==============================] - 8s 3ms/step - loss: 0.8317 - accuracy: 0.7807 - val_loss: 0.7143 - val_accuracy: 0.7979\n",
            "Epoch 30/40\n",
            "2961/2961 [==============================] - 8s 3ms/step - loss: 1.0610 - accuracy: 0.7759 - val_loss: 0.7426 - val_accuracy: 0.7751\n",
            "Epoch 31/40\n",
            "2961/2961 [==============================] - 8s 3ms/step - loss: 0.7673 - accuracy: 0.7731 - val_loss: 0.6971 - val_accuracy: 0.7963\n",
            "Epoch 32/40\n",
            "2961/2961 [==============================] - 8s 3ms/step - loss: 0.7776 - accuracy: 0.7834 - val_loss: 0.7100 - val_accuracy: 0.7988\n",
            "Epoch 33/40\n",
            "2961/2961 [==============================] - 8s 3ms/step - loss: 0.9450 - accuracy: 0.7790 - val_loss: 0.7302 - val_accuracy: 0.7812\n"
          ],
          "name": "stdout"
        }
      ]
    },
    {
      "cell_type": "markdown",
      "metadata": {
        "id": "sxGacoJdu26w",
        "colab_type": "text"
      },
      "source": [
        "##### The training and validation accuracies do not look too bad, quite close and not overfitted since it doesn't perform too poorly on the validation data set. But it may be a good idea to continue training to achieve more accuracy. It got stopped because of the callback function which said that if we don't see and improvement in validation accuracy for 20 consecutive epochs then stop the training. For more details  and better explanation on this look at the following link: <br>\n",
        "https://keras.io/api/callbacks/"
      ]
    },
    {
      "cell_type": "code",
      "metadata": {
        "id": "w6e6xNup2-So",
        "colab_type": "code",
        "colab": {
          "base_uri": "https://localhost:8080/",
          "height": 52
        },
        "outputId": "cf3c61b3-0f1e-4849-ba14-73003ae8d5ec"
      },
      "source": [
        "model.evaluate(X_test,y_test)"
      ],
      "execution_count": 30,
      "outputs": [
        {
          "output_type": "stream",
          "text": [
            "329/329 [==============================] - 0s 1ms/step - loss: 0.7302 - accuracy: 0.7812\n"
          ],
          "name": "stdout"
        },
        {
          "output_type": "execute_result",
          "data": {
            "text/plain": [
              "[0.7302234768867493, 0.78125]"
            ]
          },
          "metadata": {
            "tags": []
          },
          "execution_count": 30
        }
      ]
    },
    {
      "cell_type": "markdown",
      "metadata": {
        "id": "TAp-4ajg3MZ-",
        "colab_type": "text"
      },
      "source": [
        "##### The first value in the array gives the loss on the test dataset and the next gives the accuracy where the accoracy is a value between 0 and 1."
      ]
    },
    {
      "cell_type": "code",
      "metadata": {
        "id": "UQWyfwpB3aYK",
        "colab_type": "code",
        "colab": {}
      },
      "source": [
        "acc = history.history['accuracy']\n",
        "val_acc = history.history['val_accuracy']\n",
        "\n",
        "loss = history.history['loss']\n",
        "val_loss = history.history['val_loss']\n"
      ],
      "execution_count": 31,
      "outputs": []
    },
    {
      "cell_type": "code",
      "metadata": {
        "id": "SoA7n1fp4MuH",
        "colab_type": "code",
        "colab": {}
      },
      "source": [
        "initial_epochs = 33"
      ],
      "execution_count": 33,
      "outputs": []
    },
    {
      "cell_type": "code",
      "metadata": {
        "id": "fUm4npfR3oJg",
        "colab_type": "code",
        "colab": {
          "base_uri": "https://localhost:8080/",
          "height": 513
        },
        "outputId": "79e3048f-feba-4e85-8261-7bd456048fff"
      },
      "source": [
        "\n",
        "\n",
        "plt.figure(figsize=(8, 8))\n",
        "plt.subplot(2, 1, 1)\n",
        "plt.plot(acc, label='Training Accuracy')\n",
        "plt.plot(val_acc, label='Validation Accuracy')\n",
        "plt.ylim([0.5, 1])\n",
        "plt.plot([initial_epochs-1,initial_epochs-1],\n",
        "          plt.ylim(), label='Start Fine Tuning')\n",
        "plt.legend(loc='lower right')\n",
        "plt.title('Training and Validation Accuracy')\n",
        "\n",
        "plt.subplot(2, 1, 2)\n",
        "plt.plot(loss, label='Training Loss')\n",
        "plt.plot(val_loss, label='Validation Loss')\n",
        "#plt.ylim([0, 1.0])\n",
        "plt.plot([initial_epochs-1,initial_epochs-1],\n",
        "         plt.ylim(), label='Start Fine Tuning')\n",
        "plt.legend(loc='upper right')\n",
        "plt.title('Training and Validation Loss')\n",
        "plt.xlabel('epoch')\n",
        "plt.show()\n"
      ],
      "execution_count": 34,
      "outputs": [
        {
          "output_type": "display_data",
          "data": {
            "image/png": "[encoded data removed]",
            "text/plain": [
              "<Figure size 576x576 with 2 Axes>"
            ]
          },
          "metadata": {
            "tags": [],
            "needs_background": "light"
          }
        }
      ]
    },
    {
      "cell_type": "code",
      "metadata": {
        "id": "eFd2knfEuXOr",
        "colab_type": "code",
        "colab": {}
      },
      "source": [
        "#%tensorboard --logdir /tmp/logs/fit\n",
        "# Uncomment and run above line to see TensorBoard "
      ],
      "execution_count": 2,
      "outputs": []
    },
    {
      "cell_type": "markdown",
      "metadata": {
        "id": "h7kFnG4Tv3Z1",
        "colab_type": "text"
      },
      "source": [
        "##### **Adding more epochs**"
      ]
    },
    {
      "cell_type": "code",
      "metadata": {
        "id": "NVxPU1dZ1ois",
        "colab_type": "code",
        "colab": {
          "base_uri": "https://localhost:8080/",
          "height": 399
        },
        "outputId": "5b41c3d2-1254-4212-fcfe-a1bd17a13d4c"
      },
      "source": [
        "# What is happening here is that we are learning starting the model parameteres as it were at the end of the last training.\n",
        "fine_tune_epochs = 10\n",
        "total_epochs =  initial_epochs + fine_tune_epochs\n",
        "\n",
        "history_fine = model.fit(x=X_train, \n",
        "                        y=y_train, \n",
        "                        validation_data=(X_test, y_test), \n",
        "                        callbacks=[tensorboard_callback, callback],\n",
        "                         epochs=total_epochs,\n",
        "                         initial_epoch =  history.epoch[-1])\n"
      ],
      "execution_count": 35,
      "outputs": [
        {
          "output_type": "stream",
          "text": [
            "Epoch 33/43\n",
            "2961/2961 [==============================] - 8s 3ms/step - loss: 0.7717 - accuracy: 0.7736 - val_loss: 0.7248 - val_accuracy: 0.7827\n",
            "Epoch 34/43\n",
            "2961/2961 [==============================] - 7s 3ms/step - loss: 0.7665 - accuracy: 0.7796 - val_loss: 0.7201 - val_accuracy: 0.7850\n",
            "Epoch 35/43\n",
            "2961/2961 [==============================] - 7s 2ms/step - loss: 0.7586 - accuracy: 0.7806 - val_loss: 0.6915 - val_accuracy: 0.7964\n",
            "Epoch 36/43\n",
            "2961/2961 [==============================] - 7s 2ms/step - loss: 0.9066 - accuracy: 0.7777 - val_loss: 0.7046 - val_accuracy: 0.7919\n",
            "Epoch 37/43\n",
            "2961/2961 [==============================] - 8s 3ms/step - loss: 0.7795 - accuracy: 0.7734 - val_loss: 0.7358 - val_accuracy: 0.7790\n",
            "Epoch 38/43\n",
            "2961/2961 [==============================] - 7s 2ms/step - loss: 0.9836 - accuracy: 0.7819 - val_loss: 0.7125 - val_accuracy: 0.7875\n",
            "Epoch 39/43\n",
            "2961/2961 [==============================] - 8s 3ms/step - loss: 0.7874 - accuracy: 0.7780 - val_loss: 0.6948 - val_accuracy: 0.7950\n",
            "Epoch 40/43\n",
            "2961/2961 [==============================] - 7s 3ms/step - loss: 0.7436 - accuracy: 0.7842 - val_loss: 0.7045 - val_accuracy: 0.7915\n",
            "Epoch 41/43\n",
            "2961/2961 [==============================] - 7s 3ms/step - loss: 0.8265 - accuracy: 0.7778 - val_loss: 0.7194 - val_accuracy: 0.7852\n",
            "Epoch 42/43\n",
            "2961/2961 [==============================] - 8s 3ms/step - loss: 0.9702 - accuracy: 0.7862 - val_loss: 0.7220 - val_accuracy: 0.7841\n",
            "Epoch 43/43\n",
            "2961/2961 [==============================] - 7s 3ms/step - loss: 0.7566 - accuracy: 0.7829 - val_loss: 0.7162 - val_accuracy: 0.7864\n"
          ],
          "name": "stdout"
        }
      ]
    },
    {
      "cell_type": "code",
      "metadata": {
        "id": "YIKAneQ450CV",
        "colab_type": "code",
        "colab": {
          "base_uri": "https://localhost:8080/",
          "height": 52
        },
        "outputId": "0a087ff1-20df-4175-eac2-92cf5a89e4aa"
      },
      "source": [
        "model.evaluate(X_test,y_test)"
      ],
      "execution_count": 36,
      "outputs": [
        {
          "output_type": "stream",
          "text": [
            "329/329 [==============================] - 0s 1ms/step - loss: 0.7162 - accuracy: 0.7864\n"
          ],
          "name": "stdout"
        },
        {
          "output_type": "execute_result",
          "data": {
            "text/plain": [
              "[0.7162405848503113, 0.7863791584968567]"
            ]
          },
          "metadata": {
            "tags": []
          },
          "execution_count": 36
        }
      ]
    },
    {
      "cell_type": "markdown",
      "metadata": {
        "id": "odYN8Jpk55zj",
        "colab_type": "text"
      },
      "source": [
        "##### We see the accuracy has increased only a little, the correct way is to try to first have the accuracies converge in the first training and then we can expect to see a a significant increase in the second part of the training. For more information look at the following link: <br>\n",
        "https://www.tensorflow.org/tutorials/images/transfer_learning"
      ]
    },
    {
      "cell_type": "code",
      "metadata": {
        "id": "MILUo1Jw1onl",
        "colab_type": "code",
        "colab": {}
      },
      "source": [
        "acc += history_fine.history['accuracy']\n",
        "val_acc += history_fine.history['val_accuracy']\n",
        "\n",
        "loss += history_fine.history['loss']\n",
        "val_loss += history_fine.history['val_loss']\n"
      ],
      "execution_count": 37,
      "outputs": []
    },
    {
      "cell_type": "code",
      "metadata": {
        "id": "iJ5ZNqAg1otn",
        "colab_type": "code",
        "colab": {
          "base_uri": "https://localhost:8080/",
          "height": 513
        },
        "outputId": "8176daa3-14c0-47ed-b1f1-d0ecc1737a62"
      },
      "source": [
        "plt.figure(figsize=(8, 8))\n",
        "plt.subplot(2, 1, 1)\n",
        "plt.plot(acc, label='Training Accuracy')\n",
        "plt.plot(val_acc, label='Validation Accuracy')\n",
        "plt.ylim([0.5, 1])\n",
        "plt.plot([initial_epochs-1,initial_epochs-1],\n",
        "          plt.ylim(), label='Start Fine Tuning')\n",
        "plt.legend(loc='lower right')\n",
        "plt.title('Training and Validation Accuracy')\n",
        "\n",
        "plt.subplot(2, 1, 2)\n",
        "plt.plot(loss, label='Training Loss')\n",
        "plt.plot(val_loss, label='Validation Loss')\n",
        "#plt.ylim([0, 1.0])\n",
        "plt.plot([initial_epochs-1,initial_epochs-1],\n",
        "         plt.ylim(), label='Start Fine Tuning')\n",
        "plt.legend(loc='upper right')\n",
        "plt.title('Training and Validation Loss')\n",
        "plt.xlabel('epoch')\n",
        "plt.show()\n"
      ],
      "execution_count": 38,
      "outputs": [
        {
          "output_type": "display_data",
          "data": {
            "image/png": "[encoded data removed]",
            "text/plain": [
              "<Figure size 576x576 with 2 Axes>"
            ]
          },
          "metadata": {
            "tags": [],
            "needs_background": "light"
          }
        }
      ]
    },
    {
      "cell_type": "code",
      "metadata": {
        "id": "lRqEtApx1osU",
        "colab_type": "code",
        "colab": {}
      },
      "source": [
        "#%tensorboard --logdir /tmp/logs/fit\n",
        "# Uncomment and run above line to see TensorBoard "
      ],
      "execution_count": null,
      "outputs": []
    },
    {
      "cell_type": "markdown",
      "metadata": {
        "id": "izgVjYzL7K04",
        "colab_type": "text"
      },
      "source": [
        "##### **Plotting a confusion matrix of the predictions made by this network**"
      ]
    },
    {
      "cell_type": "code",
      "metadata": {
        "id": "kHm3qoAq9St2",
        "colab_type": "code",
        "colab": {
          "base_uri": "https://localhost:8080/",
          "height": 34
        },
        "outputId": "21acd370-327a-4022-cad5-f38c5dba92ba"
      },
      "source": [
        "predictions = model.predict(X_test)\n",
        "len(predictions)"
      ],
      "execution_count": 39,
      "outputs": [
        {
          "output_type": "execute_result",
          "data": {
            "text/plain": [
              "10528"
            ]
          },
          "metadata": {
            "tags": []
          },
          "execution_count": 39
        }
      ]
    },
    {
      "cell_type": "code",
      "metadata": {
        "id": "muTAkYzu-D3S",
        "colab_type": "code",
        "colab": {
          "base_uri": "https://localhost:8080/",
          "height": 34
        },
        "outputId": "508b1f06-6a62-48c7-981d-558d056fbd35"
      },
      "source": [
        "pred_classes = np.argmax(predictions, axis=-1)\n",
        "pred_classes"
      ],
      "execution_count": 40,
      "outputs": [
        {
          "output_type": "execute_result",
          "data": {
            "text/plain": [
              "array([6, 6, 3, ..., 6, 6, 6])"
            ]
          },
          "metadata": {
            "tags": []
          },
          "execution_count": 40
        }
      ]
    },
    {
      "cell_type": "code",
      "metadata": {
        "id": "EB91DHkg1omA",
        "colab_type": "code",
        "colab": {}
      },
      "source": [
        "def plot_confusion_matrix(cm, classes,\n",
        "                          normalize=False,\n",
        "                          title='Confusion matrix',\n",
        "                          cmap=plt.cm.Blues):\n",
        "    \"\"\"\n",
        "    This function prints and plots the confusion matrix.\n",
        "    Normalization can be applied by setting `normalize=True`.\n",
        "    \"\"\"\n",
        "    plt.figure(figsize = (5,5))\n",
        "    plt.imshow(cm, interpolation='nearest', cmap=cmap)\n",
        "    plt.title(title)\n",
        "    plt.colorbar()\n",
        "    tick_marks = np.arange(len(classes))\n",
        "    plt.xticks(tick_marks, classes, rotation=90)\n",
        "    plt.yticks(tick_marks, classes)\n",
        "    if normalize:\n",
        "        cm = cm.astype('float') / cm.sum(axis=1)[:, np.newaxis]\n",
        "\n",
        "    thresh = cm.max() / 2.\n",
        "    for i, j in itertools.product(range(cm.shape[0]), range(cm.shape[1])):\n",
        "        plt.text(j, i, cm[i, j],\n",
        "                 horizontalalignment=\"center\",\n",
        "                 color=\"white\" if cm[i, j] > thresh else \"black\")\n",
        "    plt.tight_layout()\n",
        "    plt.ylabel('True label')\n",
        "    plt.xlabel('Predicted label')"
      ],
      "execution_count": 41,
      "outputs": []
    },
    {
      "cell_type": "code",
      "metadata": {
        "id": "2KLhtsV29CQN",
        "colab_type": "code",
        "colab": {
          "base_uri": "https://localhost:8080/",
          "height": 364
        },
        "outputId": "6b7541eb-9f37-4a3b-f969-ff368d3f23f6"
      },
      "source": [
        "confusion_mtx = confusion_matrix(y_test, pred_classes) \n",
        "plot_confusion_matrix(confusion_mtx, classes = list(set(data_dt['E_COM_INDICATOR']))) \n",
        "plt.show()"
      ],
      "execution_count": 42,
      "outputs": [
        {
          "output_type": "display_data",
          "data": {
            "image/png": "[encoded data removed]",
            "text/plain": [
              "<Figure size 360x360 with 2 Axes>"
            ]
          },
          "metadata": {
            "tags": [],
            "needs_background": "light"
          }
        }
      ]
    },
    {
      "cell_type": "markdown",
      "metadata": {
        "id": "K_owz8m8HBqp",
        "colab_type": "text"
      },
      "source": [
        "##### So we see that maximum accuracy is achieved on the class 'ECI01', 'ECI05' and correctly guessed one datapoint in 'ECI07'"
      ]
    },
    {
      "cell_type": "code",
      "metadata": {
        "id": "iG5LD7nZGwkL",
        "colab_type": "code",
        "colab": {
          "base_uri": "https://localhost:8080/",
          "height": 34
        },
        "outputId": "666e203f-e567-44cd-c29e-25edfa81e121"
      },
      "source": [
        "import platform\n",
        "print(platform.python_version())"
      ],
      "execution_count": 49,
      "outputs": [
        {
          "output_type": "stream",
          "text": [
            "3.6.9\n"
          ],
          "name": "stdout"
        }
      ]
    },
    {
      "cell_type": "code",
      "metadata": {
        "id": "RBH7f2Vs9CN0",
        "colab_type": "code",
        "colab": {}
      },
      "source": [
        ""
      ],
      "execution_count": null,
      "outputs": []
    },
    {
      "cell_type": "markdown",
      "metadata": {
        "id": "fm8TXYJg2rB3",
        "colab_type": "text"
      },
      "source": [
        "### **ROUGH WORK**"
      ]
    },
    {
      "cell_type": "code",
      "metadata": {
        "id": "LD-sIXY_1ogL",
        "colab_type": "code",
        "colab": {}
      },
      "source": [
        "#https://www.tensorflow.org/tutorials/estimator/keras_model_to_estimator\n"
      ],
      "execution_count": null,
      "outputs": []
    }
  ]
}
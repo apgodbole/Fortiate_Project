{
  "nbformat": 4,
  "nbformat_minor": 0,
  "metadata": {
    "colab": {
      "name": "Fortiate_DST_14.ipynb",
      "provenance": [],
      "collapsed_sections": [],
      "include_colab_link": true
    },
    "kernelspec": {
      "name": "python3",
      "display_name": "Python 3"
    }
  },
  "cells": [
    {
      "cell_type": "markdown",
      "metadata": {
        "id": "view-in-github",
        "colab_type": "text"
      },
      "source": [
        "<a href=\"https://colab.research.google.com/github/trinade96/Fortiate_Project/blob/master/Fortiate_DST_14.ipynb\" target=\"_parent\"><img src=\"https://colab.research.google.com/assets/colab-badge.svg\" alt=\"Open In Colab\"/></a>"
      ]
    },
    {
      "cell_type": "markdown",
      "metadata": {
        "id": "hZZXnjyrmf67",
        "colab_type": "text"
      },
      "source": [
        "##### **Trina De**\n",
        "\n",
        "##### In this notebook, we will try to find appropriate distributions for continuous variables, instead of a point estimate here we will have a range that we can say with some confidence that our values will lie in."
      ]
    },
    {
      "cell_type": "code",
      "metadata": {
        "id": "xQCDE0HjaEAt",
        "colab_type": "code",
        "outputId": "dbdbcbdb-5692-417d-eb3e-f3229b0cabb8",
        "colab": {
          "base_uri": "https://localhost:8080/",
          "height": 261
        }
      },
      "source": [
        "!pip install folium==0.2.1"
      ],
      "execution_count": 2,
      "outputs": [
        {
          "output_type": "stream",
          "text": [
            "Collecting folium==0.2.1\n",
            "\u001b[?25l  Downloading https://files.pythonhosted.org/packages/72/dd/75ced7437bfa7cb9a88b96ee0177953062803c3b4cde411a97d98c35adaf/folium-0.2.1.tar.gz (69kB)\n",
            "\r\u001b[K     |████▊                           | 10kB 21.1MB/s eta 0:00:01\r\u001b[K     |█████████▍                      | 20kB 5.4MB/s eta 0:00:01\r\u001b[K     |██████████████                  | 30kB 5.4MB/s eta 0:00:01\r\u001b[K     |██████████████████▊             | 40kB 5.7MB/s eta 0:00:01\r\u001b[K     |███████████████████████▍        | 51kB 5.8MB/s eta 0:00:01\r\u001b[K     |████████████████████████████    | 61kB 6.8MB/s eta 0:00:01\r\u001b[K     |████████████████████████████████| 71kB 4.4MB/s \n",
            "\u001b[?25hRequirement already satisfied: Jinja2 in /usr/local/lib/python3.6/dist-packages (from folium==0.2.1) (2.10.3)\n",
            "Requirement already satisfied: MarkupSafe>=0.23 in /usr/local/lib/python3.6/dist-packages (from Jinja2->folium==0.2.1) (1.1.1)\n",
            "Building wheels for collected packages: folium\n",
            "  Building wheel for folium (setup.py) ... \u001b[?25l\u001b[?25hdone\n",
            "  Created wheel for folium: filename=folium-0.2.1-cp36-none-any.whl size=79979 sha256=a5e375345d0e2bd635d9d77a81bc93804fb8426664cfe53637a13293a7045632\n",
            "  Stored in directory: /root/.cache/pip/wheels/b8/09/f0/52d2ef419c2aaf4fb149f92a33e0008bdce7ae816f0dd8f0c5\n",
            "Successfully built folium\n",
            "Installing collected packages: folium\n",
            "  Found existing installation: folium 0.8.3\n",
            "    Uninstalling folium-0.8.3:\n",
            "      Successfully uninstalled folium-0.8.3\n",
            "Successfully installed folium-0.2.1\n"
          ],
          "name": "stdout"
        }
      ]
    },
    {
      "cell_type": "code",
      "metadata": {
        "id": "hZJeMoGTZr42",
        "colab_type": "code",
        "outputId": "1f16002a-caa6-41c0-8c19-140733f7690b",
        "colab": {
          "base_uri": "https://localhost:8080/",
          "height": 33
        }
      },
      "source": [
        "!pip install coverage==3.7.1"
      ],
      "execution_count": 3,
      "outputs": [
        {
          "output_type": "stream",
          "text": [
            "Requirement already satisfied: coverage==3.7.1 in /usr/local/lib/python3.6/dist-packages (3.7.1)\n"
          ],
          "name": "stdout"
        }
      ]
    },
    {
      "cell_type": "code",
      "metadata": {
        "id": "Q8NPBuujzl1P",
        "colab_type": "code",
        "outputId": "b2251c73-18d9-497e-d624-f4909f625388",
        "colab": {
          "base_uri": "https://localhost:8080/",
          "height": 293
        }
      },
      "source": [
        "!pip install pycm"
      ],
      "execution_count": 4,
      "outputs": [
        {
          "output_type": "stream",
          "text": [
            "Collecting pycm\n",
            "\u001b[?25l  Downloading https://files.pythonhosted.org/packages/cb/0b/da5b285528def59a12a4b39ed9cc7d0fd45ae8d64d81a4eeec2450c1510d/pycm-2.5-py2.py3-none-any.whl (52kB)\n",
            "\r\u001b[K     |██████▎                         | 10kB 20.4MB/s eta 0:00:01\r\u001b[K     |████████████▋                   | 20kB 5.5MB/s eta 0:00:01\r\u001b[K     |██████████████████▉             | 30kB 7.9MB/s eta 0:00:01\r\u001b[K     |█████████████████████████▏      | 40kB 5.4MB/s eta 0:00:01\r\u001b[K     |███████████████████████████████▍| 51kB 6.5MB/s eta 0:00:01\r\u001b[K     |████████████████████████████████| 61kB 4.2MB/s \n",
            "\u001b[?25hCollecting art>=1.8\n",
            "\u001b[?25l  Downloading https://files.pythonhosted.org/packages/80/a2/0eb2e8c80ce1f1b04485b14d807968fe8d85d3f70015e4b66615d4a8254b/art-4.4-py2.py3-none-any.whl (516kB)\n",
            "\r\u001b[K     |▋                               | 10kB 20.5MB/s eta 0:00:01\r\u001b[K     |█▎                              | 20kB 25.0MB/s eta 0:00:01\r\u001b[K     |██                              | 30kB 29.8MB/s eta 0:00:01\r\u001b[K     |██▌                             | 40kB 32.5MB/s eta 0:00:01\r\u001b[K     |███▏                            | 51kB 15.3MB/s eta 0:00:01\r\u001b[K     |███▉                            | 61kB 17.1MB/s eta 0:00:01\r\u001b[K     |████▍                           | 71kB 18.3MB/s eta 0:00:01\r\u001b[K     |█████                           | 81kB 19.6MB/s eta 0:00:01\r\u001b[K     |█████▊                          | 92kB 21.2MB/s eta 0:00:01\r\u001b[K     |██████▍                         | 102kB 22.6MB/s eta 0:00:01\r\u001b[K     |███████                         | 112kB 22.6MB/s eta 0:00:01\r\u001b[K     |███████▋                        | 122kB 22.6MB/s eta 0:00:01\r\u001b[K     |████████▎                       | 133kB 22.6MB/s eta 0:00:01\r\u001b[K     |████████▉                       | 143kB 22.6MB/s eta 0:00:01\r\u001b[K     |█████████▌                      | 153kB 22.6MB/s eta 0:00:01\r\u001b[K     |██████████▏                     | 163kB 22.6MB/s eta 0:00:01\r\u001b[K     |██████████▉                     | 174kB 22.6MB/s eta 0:00:01\r\u001b[K     |███████████▍                    | 184kB 22.6MB/s eta 0:00:01\r\u001b[K     |████████████                    | 194kB 22.6MB/s eta 0:00:01\r\u001b[K     |████████████▊                   | 204kB 22.6MB/s eta 0:00:01\r\u001b[K     |█████████████▎                  | 215kB 22.6MB/s eta 0:00:01\r\u001b[K     |██████████████                  | 225kB 22.6MB/s eta 0:00:01\r\u001b[K     |██████████████▋                 | 235kB 22.6MB/s eta 0:00:01\r\u001b[K     |███████████████▎                | 245kB 22.6MB/s eta 0:00:01\r\u001b[K     |███████████████▉                | 256kB 22.6MB/s eta 0:00:01\r\u001b[K     |████████████████▌               | 266kB 22.6MB/s eta 0:00:01\r\u001b[K     |█████████████████▏              | 276kB 22.6MB/s eta 0:00:01\r\u001b[K     |█████████████████▊              | 286kB 22.6MB/s eta 0:00:01\r\u001b[K     |██████████████████▍             | 296kB 22.6MB/s eta 0:00:01\r\u001b[K     |███████████████████             | 307kB 22.6MB/s eta 0:00:01\r\u001b[K     |███████████████████▊            | 317kB 22.6MB/s eta 0:00:01\r\u001b[K     |████████████████████▎           | 327kB 22.6MB/s eta 0:00:01\r\u001b[K     |█████████████████████           | 337kB 22.6MB/s eta 0:00:01\r\u001b[K     |█████████████████████▋          | 348kB 22.6MB/s eta 0:00:01\r\u001b[K     |██████████████████████▏         | 358kB 22.6MB/s eta 0:00:01\r\u001b[K     |██████████████████████▉         | 368kB 22.6MB/s eta 0:00:01\r\u001b[K     |███████████████████████▌        | 378kB 22.6MB/s eta 0:00:01\r\u001b[K     |████████████████████████▏       | 389kB 22.6MB/s eta 0:00:01\r\u001b[K     |████████████████████████▊       | 399kB 22.6MB/s eta 0:00:01\r\u001b[K     |█████████████████████████▍      | 409kB 22.6MB/s eta 0:00:01\r\u001b[K     |██████████████████████████      | 419kB 22.6MB/s eta 0:00:01\r\u001b[K     |██████████████████████████▋     | 430kB 22.6MB/s eta 0:00:01\r\u001b[K     |███████████████████████████▎    | 440kB 22.6MB/s eta 0:00:01\r\u001b[K     |████████████████████████████    | 450kB 22.6MB/s eta 0:00:01\r\u001b[K     |████████████████████████████▋   | 460kB 22.6MB/s eta 0:00:01\r\u001b[K     |█████████████████████████████▏  | 471kB 22.6MB/s eta 0:00:01\r\u001b[K     |█████████████████████████████▉  | 481kB 22.6MB/s eta 0:00:01\r\u001b[K     |██████████████████████████████▌ | 491kB 22.6MB/s eta 0:00:01\r\u001b[K     |███████████████████████████████ | 501kB 22.6MB/s eta 0:00:01\r\u001b[K     |███████████████████████████████▊| 512kB 22.6MB/s eta 0:00:01\r\u001b[K     |████████████████████████████████| 522kB 22.6MB/s \n",
            "\u001b[?25hRequirement already satisfied: numpy>=1.9.0 in /usr/local/lib/python3.6/dist-packages (from pycm) (1.17.4)\n",
            "Collecting coverage>=4.1\n",
            "\u001b[?25l  Downloading https://files.pythonhosted.org/packages/5e/65/8560458e9d2d682a842b08e30161c2c22047fec6f7bde45cc2fc4c0f30b8/coverage-5.0.1-cp36-cp36m-manylinux1_x86_64.whl (226kB)\n",
            "\r\u001b[K     |█▌                              | 10kB 22.3MB/s eta 0:00:01\r\u001b[K     |███                             | 20kB 26.8MB/s eta 0:00:01\r\u001b[K     |████▍                           | 30kB 34.0MB/s eta 0:00:01\r\u001b[K     |█████▉                          | 40kB 39.8MB/s eta 0:00:01\r\u001b[K     |███████▎                        | 51kB 43.9MB/s eta 0:00:01\r\u001b[K     |████████▊                       | 61kB 48.5MB/s eta 0:00:01\r\u001b[K     |██████████▏                     | 71kB 50.9MB/s eta 0:00:01\r\u001b[K     |███████████▋                    | 81kB 52.7MB/s eta 0:00:01\r\u001b[K     |█████████████                   | 92kB 55.6MB/s eta 0:00:01\r\u001b[K     |██████████████▌                 | 102kB 57.1MB/s eta 0:00:01\r\u001b[K     |████████████████                | 112kB 57.1MB/s eta 0:00:01\r\u001b[K     |█████████████████▍              | 122kB 57.1MB/s eta 0:00:01\r\u001b[K     |██████████████████▉             | 133kB 57.1MB/s eta 0:00:01\r\u001b[K     |████████████████████▎           | 143kB 57.1MB/s eta 0:00:01\r\u001b[K     |█████████████████████▊          | 153kB 57.1MB/s eta 0:00:01\r\u001b[K     |███████████████████████▏        | 163kB 57.1MB/s eta 0:00:01\r\u001b[K     |████████████████████████▋       | 174kB 57.1MB/s eta 0:00:01\r\u001b[K     |██████████████████████████      | 184kB 57.1MB/s eta 0:00:01\r\u001b[K     |███████████████████████████▌    | 194kB 57.1MB/s eta 0:00:01\r\u001b[K     |█████████████████████████████   | 204kB 57.1MB/s eta 0:00:01\r\u001b[K     |██████████████████████████████▍ | 215kB 57.1MB/s eta 0:00:01\r\u001b[K     |███████████████████████████████▉| 225kB 57.1MB/s eta 0:00:01\r\u001b[K     |████████████████████████████████| 235kB 57.1MB/s \n",
            "\u001b[31mERROR: datascience 0.10.6 has requirement coverage==3.7.1, but you'll have coverage 5.0.1 which is incompatible.\u001b[0m\n",
            "\u001b[31mERROR: coveralls 0.5 has requirement coverage<3.999,>=3.6, but you'll have coverage 5.0.1 which is incompatible.\u001b[0m\n",
            "\u001b[?25hInstalling collected packages: coverage, art, pycm\n",
            "  Found existing installation: coverage 3.7.1\n",
            "    Uninstalling coverage-3.7.1:\n",
            "      Successfully uninstalled coverage-3.7.1\n",
            "Successfully installed art-4.4 coverage-5.0.1 pycm-2.5\n"
          ],
          "name": "stdout"
        }
      ]
    },
    {
      "cell_type": "code",
      "metadata": {
        "id": "FOtvDA4bK27s",
        "colab_type": "code",
        "outputId": "d2210d66-4887-4e9a-ab73-42b8cef176c0",
        "colab": {
          "base_uri": "https://localhost:8080/",
          "height": 716
        }
      },
      "source": [
        "!pip install scikit-tda"
      ],
      "execution_count": 5,
      "outputs": [
        {
          "output_type": "stream",
          "text": [
            "Collecting scikit-tda\n",
            "  Downloading https://files.pythonhosted.org/packages/e2/67/14676df9d3c8fae3324f6a73e60e9b705c1dfea8131e275a313ab90bd09d/scikit_tda-0.0.3-py3-none-any.whl\n",
            "Requirement already satisfied: pillow in /usr/local/lib/python3.6/dist-packages (from scikit-tda) (4.3.0)\n",
            "Requirement already satisfied: numba in /usr/local/lib/python3.6/dist-packages (from scikit-tda) (0.40.1)\n",
            "Requirement already satisfied: scipy in /usr/local/lib/python3.6/dist-packages (from scikit-tda) (1.3.3)\n",
            "Requirement already satisfied: matplotlib in /usr/local/lib/python3.6/dist-packages (from scikit-tda) (3.1.2)\n",
            "Requirement already satisfied: Cython in /usr/local/lib/python3.6/dist-packages (from scikit-tda) (0.29.14)\n",
            "Collecting tadasets\n",
            "  Downloading https://files.pythonhosted.org/packages/5b/06/d1b9edccfcd071b245b0d1ab4b22eb2ff7aaeaa6d015db58d701d9782122/tadasets-0.0.4-py3-none-any.whl\n",
            "Requirement already satisfied: numpy in /usr/local/lib/python3.6/dist-packages (from scikit-tda) (1.17.4)\n",
            "Collecting ripser\n",
            "\u001b[?25l  Downloading https://files.pythonhosted.org/packages/4c/17/d5e898161eb8e3b1084419bfc04adbe87d15075daa8e236df72dbe75167e/ripser-0.4.1.tar.gz (79kB)\n",
            "\r\u001b[K     |████▏                           | 10kB 16.8MB/s eta 0:00:01\r\u001b[K     |████████▎                       | 20kB 23.0MB/s eta 0:00:01\r\u001b[K     |████████████▍                   | 30kB 10.2MB/s eta 0:00:01\r\u001b[K     |████████████████▌               | 40kB 10.6MB/s eta 0:00:01\r\u001b[K     |████████████████████▋           | 51kB 11.2MB/s eta 0:00:01\r\u001b[K     |████████████████████████▊       | 61kB 10.1MB/s eta 0:00:01\r\u001b[K     |████████████████████████████▉   | 71kB 10.2MB/s eta 0:00:01\r\u001b[K     |████████████████████████████████| 81kB 5.3MB/s \n",
            "\u001b[?25hRequirement already satisfied: umap-learn in /usr/local/lib/python3.6/dist-packages (from scikit-tda) (0.3.10)\n",
            "Collecting persim\n",
            "  Downloading https://files.pythonhosted.org/packages/71/4a/ac537e6743337b00a8b3ff8b0d967827d3b5cfd9afd3a0bd117f5809d4d2/persim-0.1.1-py3-none-any.whl\n",
            "Requirement already satisfied: scikit-learn in /usr/local/lib/python3.6/dist-packages (from scikit-tda) (0.21.3)\n",
            "Collecting kmapper\n",
            "\u001b[?25l  Downloading https://files.pythonhosted.org/packages/fb/3f/a1290b9425a7e0ff4ae51a6e6ff68e50ad793b3460f435c2ec81c0383751/kmapper-1.2.0-py3-none-any.whl (93kB)\n",
            "\u001b[K     |████████████████████████████████| 102kB 7.3MB/s \n",
            "\u001b[?25hRequirement already satisfied: olefile in /usr/local/lib/python3.6/dist-packages (from pillow->scikit-tda) (0.46)\n",
            "Requirement already satisfied: llvmlite>=0.25.0dev0 in /usr/local/lib/python3.6/dist-packages (from numba->scikit-tda) (0.30.0)\n",
            "Requirement already satisfied: python-dateutil>=2.1 in /usr/local/lib/python3.6/dist-packages (from matplotlib->scikit-tda) (2.6.1)\n",
            "Requirement already satisfied: pyparsing!=2.0.4,!=2.1.2,!=2.1.6,>=2.0.1 in /usr/local/lib/python3.6/dist-packages (from matplotlib->scikit-tda) (2.4.5)\n",
            "Requirement already satisfied: cycler>=0.10 in /usr/local/lib/python3.6/dist-packages (from matplotlib->scikit-tda) (0.10.0)\n",
            "Requirement already satisfied: kiwisolver>=1.0.1 in /usr/local/lib/python3.6/dist-packages (from matplotlib->scikit-tda) (1.1.0)\n",
            "Collecting hopcroftkarp\n",
            "  Downloading https://files.pythonhosted.org/packages/6b/56/7b03eba3c43008c490c9d52e69ea5334b65955f66836eb4f1962f3b0d421/hopcroftkarp-1.2.5.tar.gz\n",
            "Requirement already satisfied: joblib>=0.11 in /usr/local/lib/python3.6/dist-packages (from scikit-learn->scikit-tda) (0.14.1)\n",
            "Requirement already satisfied: Jinja2 in /usr/local/lib/python3.6/dist-packages (from kmapper->scikit-tda) (2.10.3)\n",
            "Requirement already satisfied: six>=1.5 in /usr/local/lib/python3.6/dist-packages (from python-dateutil>=2.1->matplotlib->scikit-tda) (1.12.0)\n",
            "Requirement already satisfied: setuptools in /usr/local/lib/python3.6/dist-packages (from kiwisolver>=1.0.1->matplotlib->scikit-tda) (42.0.2)\n",
            "Requirement already satisfied: MarkupSafe>=0.23 in /usr/local/lib/python3.6/dist-packages (from Jinja2->kmapper->scikit-tda) (1.1.1)\n",
            "Building wheels for collected packages: ripser, hopcroftkarp\n",
            "  Building wheel for ripser (setup.py) ... \u001b[?25l\u001b[?25hdone\n",
            "  Created wheel for ripser: filename=ripser-0.4.1-cp36-cp36m-linux_x86_64.whl size=423272 sha256=c1ce65c9c790954d0fc5a05bb61f8492807ec2fb29a37d4f8751195069731bb5\n",
            "  Stored in directory: /root/.cache/pip/wheels/d4/12/da/56d55c3af62ebd5e0684d521f3e58c1a85ac312502c9e2d47d\n",
            "  Building wheel for hopcroftkarp (setup.py) ... \u001b[?25l\u001b[?25hdone\n",
            "  Created wheel for hopcroftkarp: filename=hopcroftkarp-1.2.5-py2.py3-none-any.whl size=18091 sha256=d6b6f3d375912824bec91f59b5806e5b70a3698de2aa02bc4d316c0dbce1cd53\n",
            "  Stored in directory: /root/.cache/pip/wheels/2b/e1/c9/1993c7f7f114b7d3fb2d3e895e02157a7ebf554861e9e54e01\n",
            "Successfully built ripser hopcroftkarp\n",
            "Installing collected packages: tadasets, hopcroftkarp, persim, ripser, kmapper, scikit-tda\n",
            "Successfully installed hopcroftkarp-1.2.5 kmapper-1.2.0 persim-0.1.1 ripser-0.4.1 scikit-tda-0.0.3 tadasets-0.0.4\n"
          ],
          "name": "stdout"
        }
      ]
    },
    {
      "cell_type": "code",
      "metadata": {
        "id": "RkoG8vCLNuHB",
        "colab_type": "code",
        "outputId": "1b4f2a0b-4bcf-4ba8-fbc7-fcf05ce5f7a4",
        "colab": {
          "base_uri": "https://localhost:8080/",
          "height": 131
        }
      },
      "source": [
        "!pip install kmapper"
      ],
      "execution_count": 6,
      "outputs": [
        {
          "output_type": "stream",
          "text": [
            "Requirement already satisfied: kmapper in /usr/local/lib/python3.6/dist-packages (1.2.0)\n",
            "Requirement already satisfied: numpy in /usr/local/lib/python3.6/dist-packages (from kmapper) (1.17.4)\n",
            "Requirement already satisfied: scikit-learn in /usr/local/lib/python3.6/dist-packages (from kmapper) (0.21.3)\n",
            "Requirement already satisfied: scipy in /usr/local/lib/python3.6/dist-packages (from kmapper) (1.3.3)\n",
            "Requirement already satisfied: Jinja2 in /usr/local/lib/python3.6/dist-packages (from kmapper) (2.10.3)\n",
            "Requirement already satisfied: joblib>=0.11 in /usr/local/lib/python3.6/dist-packages (from scikit-learn->kmapper) (0.14.1)\n",
            "Requirement already satisfied: MarkupSafe>=0.23 in /usr/local/lib/python3.6/dist-packages (from Jinja2->kmapper) (1.1.1)\n"
          ],
          "name": "stdout"
        }
      ]
    },
    {
      "cell_type": "markdown",
      "metadata": {
        "id": "Uw407NMuV-M3",
        "colab_type": "text"
      },
      "source": [
        "##### **Packages Used**"
      ]
    },
    {
      "cell_type": "code",
      "metadata": {
        "id": "SHjgeKvh2Fko",
        "colab_type": "code",
        "colab": {}
      },
      "source": [
        "import numpy as np\n",
        "import pandas as pd\n",
        "import time\n",
        "from pandas.api.types import is_string_dtype\n",
        "from pandas.api.types import is_numeric_dtype\n",
        "from scipy.stats import spearmanr\n",
        "import pycm\n",
        "from pycm import *\n",
        "import kmapper as km\n",
        "from sklearn.cluster import DBSCAN\n",
        "import sklearn\n",
        "from sklearn import ensemble\n",
        "from sklearn.decomposition import PCA\n",
        "import warnings\n",
        "import statsmodels as sm\n",
        "import matplotlib\n",
        "import matplotlib.pyplot as plt\n",
        "import scipy\n",
        "import scipy.stats"
      ],
      "execution_count": 0,
      "outputs": []
    },
    {
      "cell_type": "markdown",
      "metadata": {
        "id": "ceuLXmOCWFQK",
        "colab_type": "text"
      },
      "source": [
        "##### **Loading Notebook from Google Drive**"
      ]
    },
    {
      "cell_type": "code",
      "metadata": {
        "id": "Si7cXn6A160V",
        "colab_type": "code",
        "outputId": "dd95fd83-4974-4fbe-f241-7c7fd3959035",
        "colab": {
          "base_uri": "https://localhost:8080/",
          "height": 118
        }
      },
      "source": [
        "from google.colab import drive\n",
        "drive.mount('/gdrive')"
      ],
      "execution_count": 8,
      "outputs": [
        {
          "output_type": "stream",
          "text": [
            "Go to this URL in a browser: https://accounts.google.com/o/oauth2/auth?client_id=947318989803-6bn6qk8qdgf4n4g3pfee6491hc0brc4i.apps.googleusercontent.com&redirect_uri=urn%3aietf%3awg%3aoauth%3a2.0%3aoob&response_type=code&scope=email%20https%3a%2f%2fwww.googleapis.com%2fauth%2fdocs.test%20https%3a%2f%2fwww.googleapis.com%2fauth%2fdrive%20https%3a%2f%2fwww.googleapis.com%2fauth%2fdrive.photos.readonly%20https%3a%2f%2fwww.googleapis.com%2fauth%2fpeopleapi.readonly\n",
            "\n",
            "Enter your authorization code:\n",
            "··········\n",
            "Mounted at /gdrive\n"
          ],
          "name": "stdout"
        }
      ]
    },
    {
      "cell_type": "code",
      "metadata": {
        "id": "h4DWa7V43GxE",
        "colab_type": "code",
        "colab": {}
      },
      "source": [
        "!cd /gdrive/My\\ Drive/"
      ],
      "execution_count": 0,
      "outputs": []
    },
    {
      "cell_type": "code",
      "metadata": {
        "colab_type": "code",
        "outputId": "b2acf549-0352-4c23-e3ea-9d78234d5ac0",
        "id": "JQamBvI16-Q9",
        "colab": {
          "base_uri": "https://localhost:8080/",
          "height": 433
        }
      },
      "source": [
        "missing_values = [\"n/a\", \"na\", \"--\", ' ', \"NAN\",\"nan\",\"NA\",\"NaN\"]\n",
        "data = pd.read_csv(\"/gdrive/My Drive/all_txns.csv\",na_values=missing_values)\n",
        "data.head()"
      ],
      "execution_count": 10,
      "outputs": [
        {
          "output_type": "stream",
          "text": [
            "/usr/local/lib/python3.6/dist-packages/IPython/core/interactiveshell.py:2718: DtypeWarning: Columns (2,7,22,25,27,33,39,50,51,53,59,62,72,78,93) have mixed types. Specify dtype option on import or set low_memory=False.\n",
            "  interactivity=interactivity, compiler=compiler, result=result)\n"
          ],
          "name": "stderr"
        },
        {
          "output_type": "execute_result",
          "data": {
            "text/html": [
              "<div>\n",
              "<style scoped>\n",
              "    .dataframe tbody tr th:only-of-type {\n",
              "        vertical-align: middle;\n",
              "    }\n",
              "\n",
              "    .dataframe tbody tr th {\n",
              "        vertical-align: top;\n",
              "    }\n",
              "\n",
              "    .dataframe thead th {\n",
              "        text-align: right;\n",
              "    }\n",
              "</style>\n",
              "<table border=\"1\" class=\"dataframe\">\n",
              "  <thead>\n",
              "    <tr style=\"text-align: right;\">\n",
              "      <th></th>\n",
              "      <th>V1</th>\n",
              "      <th>V2</th>\n",
              "      <th>V3</th>\n",
              "      <th>V4</th>\n",
              "      <th>V5</th>\n",
              "      <th>V6</th>\n",
              "      <th>V7</th>\n",
              "      <th>V8</th>\n",
              "      <th>V9</th>\n",
              "      <th>V10</th>\n",
              "      <th>V11</th>\n",
              "      <th>V12</th>\n",
              "      <th>V13</th>\n",
              "      <th>V14</th>\n",
              "      <th>V15</th>\n",
              "      <th>V16</th>\n",
              "      <th>V17</th>\n",
              "      <th>V18</th>\n",
              "      <th>V19</th>\n",
              "      <th>V20</th>\n",
              "      <th>V21</th>\n",
              "      <th>V22</th>\n",
              "      <th>V23</th>\n",
              "      <th>V24</th>\n",
              "      <th>V25</th>\n",
              "      <th>V26</th>\n",
              "      <th>V27</th>\n",
              "      <th>V28</th>\n",
              "      <th>V29</th>\n",
              "      <th>V30</th>\n",
              "      <th>V31</th>\n",
              "      <th>V32</th>\n",
              "      <th>V33</th>\n",
              "      <th>V34</th>\n",
              "      <th>V35</th>\n",
              "      <th>V36</th>\n",
              "      <th>V37</th>\n",
              "      <th>V38</th>\n",
              "      <th>V39</th>\n",
              "      <th>V40</th>\n",
              "      <th>...</th>\n",
              "      <th>V81</th>\n",
              "      <th>V82</th>\n",
              "      <th>V83</th>\n",
              "      <th>V84</th>\n",
              "      <th>V85</th>\n",
              "      <th>V86</th>\n",
              "      <th>V87</th>\n",
              "      <th>V88</th>\n",
              "      <th>V89</th>\n",
              "      <th>V90</th>\n",
              "      <th>V91</th>\n",
              "      <th>V92</th>\n",
              "      <th>V93</th>\n",
              "      <th>V94</th>\n",
              "      <th>V95</th>\n",
              "      <th>V96</th>\n",
              "      <th>V97</th>\n",
              "      <th>V98</th>\n",
              "      <th>V99</th>\n",
              "      <th>V100</th>\n",
              "      <th>V101</th>\n",
              "      <th>V102</th>\n",
              "      <th>V103</th>\n",
              "      <th>V104</th>\n",
              "      <th>V105</th>\n",
              "      <th>V106</th>\n",
              "      <th>V107</th>\n",
              "      <th>V108</th>\n",
              "      <th>V109</th>\n",
              "      <th>V110</th>\n",
              "      <th>V111</th>\n",
              "      <th>V112</th>\n",
              "      <th>V113</th>\n",
              "      <th>V114</th>\n",
              "      <th>V115</th>\n",
              "      <th>V116</th>\n",
              "      <th>V117</th>\n",
              "      <th>V118</th>\n",
              "      <th>V119</th>\n",
              "      <th>V120</th>\n",
              "    </tr>\n",
              "  </thead>\n",
              "  <tbody>\n",
              "    <tr>\n",
              "      <th>0</th>\n",
              "      <td>1</td>\n",
              "      <td>1100</td>\n",
              "      <td>500360265637</td>\n",
              "      <td>265637</td>\n",
              "      <td>20-JUL-18 11.34.26</td>\n",
              "      <td>20-JUL-18 11.34.26</td>\n",
              "      <td>0</td>\n",
              "      <td>0</td>\n",
              "      <td>20-JUL-18 11.34.27</td>\n",
              "      <td>3.871512e+14</td>\n",
              "      <td>NaN</td>\n",
              "      <td>?</td>\n",
              "      <td>?</td>\n",
              "      <td>?</td>\n",
              "      <td>29-MAR-16 09.02.47</td>\n",
              "      <td>01-MAR-20 00.00.00</td>\n",
              "      <td>704684</td>\n",
              "      <td>367123</td>\n",
              "      <td>0</td>\n",
              "      <td>40</td>\n",
              "      <td>0.0</td>\n",
              "      <td>1</td>\n",
              "      <td>0</td>\n",
              "      <td>0</td>\n",
              "      <td>9</td>\n",
              "      <td>4</td>\n",
              "      <td>0</td>\n",
              "      <td>2</td>\n",
              "      <td>0.0</td>\n",
              "      <td>0.0</td>\n",
              "      <td>0.0</td>\n",
              "      <td>1.0</td>\n",
              "      <td>0</td>\n",
              "      <td>???</td>\n",
              "      <td>220.00</td>\n",
              "      <td>0.0</td>\n",
              "      <td>356</td>\n",
              "      <td>0.0</td>\n",
              "      <td>220.00</td>\n",
              "      <td>356</td>\n",
              "      <td>...</td>\n",
              "      <td>NaN</td>\n",
              "      <td>NaN</td>\n",
              "      <td>NaN</td>\n",
              "      <td>AMI</td>\n",
              "      <td>ACS</td>\n",
              "      <td>784.0</td>\n",
              "      <td>NaN</td>\n",
              "      <td>NaN</td>\n",
              "      <td>0.0</td>\n",
              "      <td>0.0</td>\n",
              "      <td>NaN</td>\n",
              "      <td>NaN</td>\n",
              "      <td>NaN</td>\n",
              "      <td>0</td>\n",
              "      <td>NaN</td>\n",
              "      <td>NaN</td>\n",
              "      <td>AXASK05AEVV</td>\n",
              "      <td>5.0</td>\n",
              "      <td>NaN</td>\n",
              "      <td>NaN</td>\n",
              "      <td>NaN</td>\n",
              "      <td>485855.29</td>\n",
              "      <td>NaN</td>\n",
              "      <td>NaN</td>\n",
              "      <td>NaN</td>\n",
              "      <td>0</td>\n",
              "      <td>0</td>\n",
              "      <td>NaN</td>\n",
              "      <td>NaN</td>\n",
              "      <td>NaN</td>\n",
              "      <td>???</td>\n",
              "      <td>NaN</td>\n",
              "      <td>NaN</td>\n",
              "      <td>NaN</td>\n",
              "      <td>NaN</td>\n",
              "      <td>NaN</td>\n",
              "      <td>NaN</td>\n",
              "      <td>NaN</td>\n",
              "      <td>NaN</td>\n",
              "      <td>NaN</td>\n",
              "    </tr>\n",
              "    <tr>\n",
              "      <th>1</th>\n",
              "      <td>2</td>\n",
              "      <td>1100</td>\n",
              "      <td>500360403436</td>\n",
              "      <td>403436</td>\n",
              "      <td>20-JUL-18 11.35.39</td>\n",
              "      <td>20-JUL-18 11.35.39</td>\n",
              "      <td>0</td>\n",
              "      <td>0</td>\n",
              "      <td>20-JUL-18 11.35.39</td>\n",
              "      <td>3.871513e+14</td>\n",
              "      <td>NaN</td>\n",
              "      <td>?</td>\n",
              "      <td>?</td>\n",
              "      <td>?</td>\n",
              "      <td>03-SEP-16 19.58.40</td>\n",
              "      <td>01-SEP-20 00.00.00</td>\n",
              "      <td>704684</td>\n",
              "      <td>367123</td>\n",
              "      <td>0</td>\n",
              "      <td>40</td>\n",
              "      <td>0.0</td>\n",
              "      <td>1</td>\n",
              "      <td>0</td>\n",
              "      <td>0</td>\n",
              "      <td>9</td>\n",
              "      <td>1</td>\n",
              "      <td>0</td>\n",
              "      <td>2</td>\n",
              "      <td>0.0</td>\n",
              "      <td>0.0</td>\n",
              "      <td>0.0</td>\n",
              "      <td>1.0</td>\n",
              "      <td>0</td>\n",
              "      <td>???</td>\n",
              "      <td>42.00</td>\n",
              "      <td>0.0</td>\n",
              "      <td>356</td>\n",
              "      <td>0.0</td>\n",
              "      <td>42.00</td>\n",
              "      <td>356</td>\n",
              "      <td>...</td>\n",
              "      <td>NaN</td>\n",
              "      <td>NaN</td>\n",
              "      <td>NaN</td>\n",
              "      <td>AMI</td>\n",
              "      <td>ACS</td>\n",
              "      <td>26.0</td>\n",
              "      <td>NaN</td>\n",
              "      <td>NaN</td>\n",
              "      <td>0.0</td>\n",
              "      <td>0.0</td>\n",
              "      <td>NaN</td>\n",
              "      <td>NaN</td>\n",
              "      <td>NaN</td>\n",
              "      <td>0</td>\n",
              "      <td>NaN</td>\n",
              "      <td>NaN</td>\n",
              "      <td>AXASK05AEVV</td>\n",
              "      <td>5.0</td>\n",
              "      <td>NaN</td>\n",
              "      <td>NaN</td>\n",
              "      <td>NaN</td>\n",
              "      <td>117389.06</td>\n",
              "      <td>NaN</td>\n",
              "      <td>NaN</td>\n",
              "      <td>NaN</td>\n",
              "      <td>0</td>\n",
              "      <td>0</td>\n",
              "      <td>NaN</td>\n",
              "      <td>NaN</td>\n",
              "      <td>NaN</td>\n",
              "      <td>???</td>\n",
              "      <td>NaN</td>\n",
              "      <td>NaN</td>\n",
              "      <td>NaN</td>\n",
              "      <td>NaN</td>\n",
              "      <td>NaN</td>\n",
              "      <td>NaN</td>\n",
              "      <td>NaN</td>\n",
              "      <td>NaN</td>\n",
              "      <td>NaN</td>\n",
              "    </tr>\n",
              "    <tr>\n",
              "      <th>2</th>\n",
              "      <td>3</td>\n",
              "      <td>1100</td>\n",
              "      <td>500360483836</td>\n",
              "      <td>483836</td>\n",
              "      <td>20-JUL-18 11.35.48</td>\n",
              "      <td>20-JUL-18 11.35.48</td>\n",
              "      <td>0</td>\n",
              "      <td>0</td>\n",
              "      <td>20-JUL-18 11.35.48</td>\n",
              "      <td>3.871510e+14</td>\n",
              "      <td>NaN</td>\n",
              "      <td>?</td>\n",
              "      <td>?</td>\n",
              "      <td>?</td>\n",
              "      <td>02-DEC-17 19.48.22</td>\n",
              "      <td>01-DEC-22 00.00.00</td>\n",
              "      <td>704684</td>\n",
              "      <td>367123</td>\n",
              "      <td>0</td>\n",
              "      <td>40</td>\n",
              "      <td>0.0</td>\n",
              "      <td>1</td>\n",
              "      <td>0</td>\n",
              "      <td>0</td>\n",
              "      <td>9</td>\n",
              "      <td>4</td>\n",
              "      <td>0</td>\n",
              "      <td>2</td>\n",
              "      <td>0.0</td>\n",
              "      <td>0.0</td>\n",
              "      <td>0.0</td>\n",
              "      <td>1.0</td>\n",
              "      <td>0</td>\n",
              "      <td>???</td>\n",
              "      <td>108.32</td>\n",
              "      <td>0.0</td>\n",
              "      <td>356</td>\n",
              "      <td>0.0</td>\n",
              "      <td>108.32</td>\n",
              "      <td>356</td>\n",
              "      <td>...</td>\n",
              "      <td>NaN</td>\n",
              "      <td>NaN</td>\n",
              "      <td>NaN</td>\n",
              "      <td>AMI</td>\n",
              "      <td>ACS</td>\n",
              "      <td>917.0</td>\n",
              "      <td>NaN</td>\n",
              "      <td>NaN</td>\n",
              "      <td>0.0</td>\n",
              "      <td>0.0</td>\n",
              "      <td>NaN</td>\n",
              "      <td>NaN</td>\n",
              "      <td>NaN</td>\n",
              "      <td>0</td>\n",
              "      <td>NaN</td>\n",
              "      <td>NaN</td>\n",
              "      <td>AXASK05AEVV</td>\n",
              "      <td>5.0</td>\n",
              "      <td>NaN</td>\n",
              "      <td>NaN</td>\n",
              "      <td>NaN</td>\n",
              "      <td>102000.95</td>\n",
              "      <td>NaN</td>\n",
              "      <td>NaN</td>\n",
              "      <td>NaN</td>\n",
              "      <td>0</td>\n",
              "      <td>0</td>\n",
              "      <td>NaN</td>\n",
              "      <td>NaN</td>\n",
              "      <td>NaN</td>\n",
              "      <td>???</td>\n",
              "      <td>NaN</td>\n",
              "      <td>NaN</td>\n",
              "      <td>NaN</td>\n",
              "      <td>NaN</td>\n",
              "      <td>NaN</td>\n",
              "      <td>NaN</td>\n",
              "      <td>NaN</td>\n",
              "      <td>NaN</td>\n",
              "      <td>NaN</td>\n",
              "    </tr>\n",
              "    <tr>\n",
              "      <th>3</th>\n",
              "      <td>4</td>\n",
              "      <td>1100</td>\n",
              "      <td>500360094946</td>\n",
              "      <td>94946</td>\n",
              "      <td>20-JUL-18 11.36.09</td>\n",
              "      <td>20-JUL-18 11.36.09</td>\n",
              "      <td>0</td>\n",
              "      <td>3</td>\n",
              "      <td>20-JUL-18 11.36.09</td>\n",
              "      <td>3.871510e+14</td>\n",
              "      <td>NaN</td>\n",
              "      <td>?</td>\n",
              "      <td>?</td>\n",
              "      <td>?</td>\n",
              "      <td>23-JAN-18 19.34.41</td>\n",
              "      <td>01-JAN-23 00.00.00</td>\n",
              "      <td>704684</td>\n",
              "      <td>367123</td>\n",
              "      <td>0</td>\n",
              "      <td>40</td>\n",
              "      <td>0.0</td>\n",
              "      <td>1</td>\n",
              "      <td>0</td>\n",
              "      <td>0</td>\n",
              "      <td>9</td>\n",
              "      <td>4</td>\n",
              "      <td>0</td>\n",
              "      <td>2</td>\n",
              "      <td>0.0</td>\n",
              "      <td>0.0</td>\n",
              "      <td>0.0</td>\n",
              "      <td>1.0</td>\n",
              "      <td>0</td>\n",
              "      <td>???</td>\n",
              "      <td>173.04</td>\n",
              "      <td>0.0</td>\n",
              "      <td>356</td>\n",
              "      <td>0.0</td>\n",
              "      <td>173.04</td>\n",
              "      <td>356</td>\n",
              "      <td>...</td>\n",
              "      <td>NaN</td>\n",
              "      <td>NaN</td>\n",
              "      <td>NaN</td>\n",
              "      <td>AMI</td>\n",
              "      <td>ACS</td>\n",
              "      <td>917.0</td>\n",
              "      <td>NaN</td>\n",
              "      <td>NaN</td>\n",
              "      <td>0.0</td>\n",
              "      <td>0.0</td>\n",
              "      <td>NaN</td>\n",
              "      <td>NaN</td>\n",
              "      <td>NaN</td>\n",
              "      <td>0</td>\n",
              "      <td>NaN</td>\n",
              "      <td>NaN</td>\n",
              "      <td>AXASK05AEVV</td>\n",
              "      <td>5.0</td>\n",
              "      <td>NaN</td>\n",
              "      <td>NaN</td>\n",
              "      <td>NaN</td>\n",
              "      <td>59676.28</td>\n",
              "      <td>NaN</td>\n",
              "      <td>NaN</td>\n",
              "      <td>NaN</td>\n",
              "      <td>0</td>\n",
              "      <td>0</td>\n",
              "      <td>NaN</td>\n",
              "      <td>NaN</td>\n",
              "      <td>NaN</td>\n",
              "      <td>???</td>\n",
              "      <td>NaN</td>\n",
              "      <td>NaN</td>\n",
              "      <td>NaN</td>\n",
              "      <td>NaN</td>\n",
              "      <td>NaN</td>\n",
              "      <td>NaN</td>\n",
              "      <td>NaN</td>\n",
              "      <td>NaN</td>\n",
              "      <td>NaN</td>\n",
              "    </tr>\n",
              "    <tr>\n",
              "      <th>4</th>\n",
              "      <td>5</td>\n",
              "      <td>1100</td>\n",
              "      <td>500360135131</td>\n",
              "      <td>135131</td>\n",
              "      <td>20-JUL-18 11.36.13</td>\n",
              "      <td>20-JUL-18 11.36.13</td>\n",
              "      <td>0</td>\n",
              "      <td>0</td>\n",
              "      <td>20-JUL-18 11.36.13</td>\n",
              "      <td>3.871518e+14</td>\n",
              "      <td>NaN</td>\n",
              "      <td>?</td>\n",
              "      <td>?</td>\n",
              "      <td>?</td>\n",
              "      <td>26-APR-18 19.52.38</td>\n",
              "      <td>01-APR-23 00.00.00</td>\n",
              "      <td>704684</td>\n",
              "      <td>367123</td>\n",
              "      <td>0</td>\n",
              "      <td>40</td>\n",
              "      <td>0.0</td>\n",
              "      <td>1</td>\n",
              "      <td>0</td>\n",
              "      <td>0</td>\n",
              "      <td>9</td>\n",
              "      <td>4</td>\n",
              "      <td>0</td>\n",
              "      <td>2</td>\n",
              "      <td>0.0</td>\n",
              "      <td>0.0</td>\n",
              "      <td>0.0</td>\n",
              "      <td>1.0</td>\n",
              "      <td>0</td>\n",
              "      <td>???</td>\n",
              "      <td>241.00</td>\n",
              "      <td>0.0</td>\n",
              "      <td>356</td>\n",
              "      <td>0.0</td>\n",
              "      <td>241.00</td>\n",
              "      <td>356</td>\n",
              "      <td>...</td>\n",
              "      <td>NaN</td>\n",
              "      <td>NaN</td>\n",
              "      <td>NaN</td>\n",
              "      <td>AMI</td>\n",
              "      <td>ACS</td>\n",
              "      <td>917.0</td>\n",
              "      <td>NaN</td>\n",
              "      <td>NaN</td>\n",
              "      <td>0.0</td>\n",
              "      <td>0.0</td>\n",
              "      <td>NaN</td>\n",
              "      <td>NaN</td>\n",
              "      <td>NaN</td>\n",
              "      <td>0</td>\n",
              "      <td>NaN</td>\n",
              "      <td>NaN</td>\n",
              "      <td>AXASK05AEVV</td>\n",
              "      <td>5.0</td>\n",
              "      <td>NaN</td>\n",
              "      <td>NaN</td>\n",
              "      <td>NaN</td>\n",
              "      <td>50250.00</td>\n",
              "      <td>NaN</td>\n",
              "      <td>NaN</td>\n",
              "      <td>NaN</td>\n",
              "      <td>0</td>\n",
              "      <td>0</td>\n",
              "      <td>NaN</td>\n",
              "      <td>NaN</td>\n",
              "      <td>NaN</td>\n",
              "      <td>???</td>\n",
              "      <td>NaN</td>\n",
              "      <td>NaN</td>\n",
              "      <td>NaN</td>\n",
              "      <td>NaN</td>\n",
              "      <td>NaN</td>\n",
              "      <td>NaN</td>\n",
              "      <td>NaN</td>\n",
              "      <td>NaN</td>\n",
              "      <td>NaN</td>\n",
              "    </tr>\n",
              "  </tbody>\n",
              "</table>\n",
              "<p>5 rows × 120 columns</p>\n",
              "</div>"
            ],
            "text/plain": [
              "   V1    V2            V3      V4  ... V117 V118  V119 V120\n",
              "0   1  1100  500360265637  265637  ...  NaN  NaN   NaN  NaN\n",
              "1   2  1100  500360403436  403436  ...  NaN  NaN   NaN  NaN\n",
              "2   3  1100  500360483836  483836  ...  NaN  NaN   NaN  NaN\n",
              "3   4  1100  500360094946   94946  ...  NaN  NaN   NaN  NaN\n",
              "4   5  1100  500360135131  135131  ...  NaN  NaN   NaN  NaN\n",
              "\n",
              "[5 rows x 120 columns]"
            ]
          },
          "metadata": {
            "tags": []
          },
          "execution_count": 10
        }
      ]
    },
    {
      "cell_type": "markdown",
      "metadata": {
        "id": "I_e9_D6A6u1K",
        "colab_type": "text"
      },
      "source": [
        "##### **Removing completely NaN and constant columns**\n"
      ]
    },
    {
      "cell_type": "code",
      "metadata": {
        "id": "XsP29A8EkbAD",
        "colab_type": "code",
        "outputId": "66dfb116-cf19-4423-f378-3442f223e5d3",
        "colab": {
          "base_uri": "https://localhost:8080/",
          "height": 33
        }
      },
      "source": [
        "indices1 = []\n",
        "indices2 = []\n",
        "start = time.time()\n",
        "for col in data.columns:\n",
        "  if data[col].isnull().sum() == len(data[col]):\n",
        "    indices1.append(col)\n",
        "  elif len(set(data[col])) == 1:\n",
        "    indices2.append(col)\n",
        "data=data.drop(indices1 + indices2,1)\n",
        "data.shape\n",
        "end = time.time()\n",
        "print(\"Time taken to drop NaN and constant columns are:{}\".format(end-start))"
      ],
      "execution_count": 11,
      "outputs": [
        {
          "output_type": "stream",
          "text": [
            "Time taken to drop NaN and constant columns are:65.91899156570435\n"
          ],
          "name": "stdout"
        }
      ]
    },
    {
      "cell_type": "markdown",
      "metadata": {
        "id": "rkeRt3X_lgUP",
        "colab_type": "text"
      },
      "source": [
        "##### It takes roughly about a minute to drop all the NaN and constant columns."
      ]
    },
    {
      "cell_type": "markdown",
      "metadata": {
        "id": "1AGpCGVqL7mG",
        "colab_type": "text"
      },
      "source": [
        "##### **Put column data type identifiers everywhere and for the NaNs we will convert them to a string or fixed number so that we can identify that as a category or a missing value later**"
      ]
    },
    {
      "cell_type": "code",
      "metadata": {
        "id": "lA8bBbuH1Wh1",
        "colab_type": "code",
        "colab": {}
      },
      "source": [
        "# Function that only checks categorical\n",
        "def check_categorical(l):\n",
        "   if(len(set(l))==(len(l))):\n",
        "     return False\n",
        "   elif(len(set(l))==1):\n",
        "     return False\n",
        "   else :\n",
        "     return True"
      ],
      "execution_count": 0,
      "outputs": []
    },
    {
      "cell_type": "markdown",
      "metadata": {
        "id": "ofijASS6waNw",
        "colab_type": "text"
      },
      "source": [
        "##### The column identifier code is twitched a bit here. Here is a column is of dtype 'float' we no longer check to see if it is categorical or not. We assume that it cannot be categorical and assign it the column identifier 'Float'."
      ]
    },
    {
      "cell_type": "code",
      "metadata": {
        "id": "u0ev1hwZMAc7",
        "colab_type": "code",
        "outputId": "b9cb0318-bea4-4386-aac7-bc435bbf92d5",
        "colab": {
          "base_uri": "https://localhost:8080/",
          "height": 326
        }
      },
      "source": [
        "column_identifiers = {}\n",
        "start = time.time()\n",
        "for col in data.columns:\n",
        "  l = data[col][pd.notna(data[col])]\n",
        "  #now we will start working with l\n",
        "  \n",
        "  if(l.dtype == 'O' ):\n",
        "    data[col][pd.isna(data[col])] = 'unknown_Python_object'\n",
        "    column_identifiers[col] = 'Categorical'\n",
        "  elif(l.dtype == 'object'):\n",
        "    data[col][pd.isna(data[col])] = 'unknown_object_type'\n",
        "    column_identifiers[col] = 'Categorical'\n",
        "  elif(l.dtype == 'int64'):\n",
        "    if(check_categorical(l) == True):\n",
        "      data[col][pd.isna(data[col])] = 'unknown_numeric_category'\n",
        "      column_identifiers[col] = 'Categorical'\n",
        "    else:\n",
        "      data[col][pd.isna(data[col])] = -1\n",
        "      column_identifiers[col] = 'Integer'\n",
        "  elif(l.dtype == 'float'):\n",
        "    # if(check_categorical(l) == True):\n",
        "    #   data[col][pd.isna(data[col])] = 'unknown_float_category'\n",
        "    #   column_identifiers[col] = 'Categorical'\n",
        "    # else:\n",
        "      data[col][pd.isna(data[col])] = -1.0\n",
        "      column_identifiers[col] = 'Float'\n",
        "  elif(l.dtype == 'str'):\n",
        "      data[col][pd.isna(data[col])] = -'unknown_string'\n",
        "      column_identifiers[col] = 'String'\n",
        "end = time.time()\n",
        "print(\"Time taken to assign column datatypes:{}\".format(end-start))\n"
      ],
      "execution_count": 13,
      "outputs": [
        {
          "output_type": "stream",
          "text": [
            "/usr/local/lib/python3.6/dist-packages/ipykernel_launcher.py:18: SettingWithCopyWarning: \n",
            "A value is trying to be set on a copy of a slice from a DataFrame\n",
            "\n",
            "See the caveats in the documentation: http://pandas.pydata.org/pandas-docs/stable/user_guide/indexing.html#returning-a-view-versus-a-copy\n",
            "/usr/local/lib/python3.6/dist-packages/ipykernel_launcher.py:15: SettingWithCopyWarning: \n",
            "A value is trying to be set on a copy of a slice from a DataFrame\n",
            "\n",
            "See the caveats in the documentation: http://pandas.pydata.org/pandas-docs/stable/user_guide/indexing.html#returning-a-view-versus-a-copy\n",
            "  from ipykernel import kernelapp as app\n",
            "/usr/local/lib/python3.6/dist-packages/ipykernel_launcher.py:8: SettingWithCopyWarning: \n",
            "A value is trying to be set on a copy of a slice from a DataFrame\n",
            "\n",
            "See the caveats in the documentation: http://pandas.pydata.org/pandas-docs/stable/user_guide/indexing.html#returning-a-view-versus-a-copy\n",
            "  \n",
            "/usr/local/lib/python3.6/dist-packages/ipykernel_launcher.py:25: SettingWithCopyWarning: \n",
            "A value is trying to be set on a copy of a slice from a DataFrame\n",
            "\n",
            "See the caveats in the documentation: http://pandas.pydata.org/pandas-docs/stable/user_guide/indexing.html#returning-a-view-versus-a-copy\n"
          ],
          "name": "stderr"
        },
        {
          "output_type": "stream",
          "text": [
            "Time taken to assign column datatypes:0.656181812286377\n"
          ],
          "name": "stdout"
        }
      ]
    },
    {
      "cell_type": "code",
      "metadata": {
        "id": "rZwt-fdLRaw_",
        "colab_type": "code",
        "outputId": "08693e31-f658-4e72-dd2d-be135800a96c",
        "colab": {
          "base_uri": "https://localhost:8080/",
          "height": 1000
        }
      },
      "source": [
        "column_identifiers"
      ],
      "execution_count": 14,
      "outputs": [
        {
          "output_type": "execute_result",
          "data": {
            "text/plain": [
              "{'V1': 'Integer',\n",
              " 'V10': 'Float',\n",
              " 'V102': 'Float',\n",
              " 'V113': 'Categorical',\n",
              " 'V114': 'Categorical',\n",
              " 'V12': 'Categorical',\n",
              " 'V13': 'Categorical',\n",
              " 'V14': 'Categorical',\n",
              " 'V15': 'Categorical',\n",
              " 'V16': 'Categorical',\n",
              " 'V18': 'Categorical',\n",
              " 'V19': 'Categorical',\n",
              " 'V2': 'Categorical',\n",
              " 'V20': 'Categorical',\n",
              " 'V21': 'Float',\n",
              " 'V22': 'Categorical',\n",
              " 'V23': 'Categorical',\n",
              " 'V24': 'Categorical',\n",
              " 'V25': 'Categorical',\n",
              " 'V26': 'Categorical',\n",
              " 'V27': 'Categorical',\n",
              " 'V28': 'Categorical',\n",
              " 'V29': 'Float',\n",
              " 'V3': 'Categorical',\n",
              " 'V30': 'Float',\n",
              " 'V31': 'Float',\n",
              " 'V32': 'Float',\n",
              " 'V33': 'Categorical',\n",
              " 'V34': 'Categorical',\n",
              " 'V35': 'Float',\n",
              " 'V36': 'Float',\n",
              " 'V37': 'Categorical',\n",
              " 'V38': 'Float',\n",
              " 'V39': 'Float',\n",
              " 'V4': 'Categorical',\n",
              " 'V40': 'Categorical',\n",
              " 'V41': 'Float',\n",
              " 'V43': 'Float',\n",
              " 'V44': 'Categorical',\n",
              " 'V48': 'Float',\n",
              " 'V49': 'Categorical',\n",
              " 'V5': 'Categorical',\n",
              " 'V50': 'Categorical',\n",
              " 'V51': 'Categorical',\n",
              " 'V52': 'Categorical',\n",
              " 'V53': 'Float',\n",
              " 'V54': 'Categorical',\n",
              " 'V55': 'Categorical',\n",
              " 'V56': 'Categorical',\n",
              " 'V57': 'Categorical',\n",
              " 'V58': 'Categorical',\n",
              " 'V59': 'Categorical',\n",
              " 'V6': 'Categorical',\n",
              " 'V60': 'Categorical',\n",
              " 'V61': 'Categorical',\n",
              " 'V62': 'Categorical',\n",
              " 'V63': 'Categorical',\n",
              " 'V66': 'Categorical',\n",
              " 'V67': 'Categorical',\n",
              " 'V68': 'Categorical',\n",
              " 'V69': 'Categorical',\n",
              " 'V70': 'Categorical',\n",
              " 'V73': 'Categorical',\n",
              " 'V76': 'Float',\n",
              " 'V77': 'Float',\n",
              " 'V79': 'Categorical',\n",
              " 'V8': 'Categorical',\n",
              " 'V84': 'Categorical',\n",
              " 'V85': 'Categorical',\n",
              " 'V86': 'Float',\n",
              " 'V89': 'Float',\n",
              " 'V9': 'Categorical',\n",
              " 'V90': 'Float',\n",
              " 'V94': 'Categorical',\n",
              " 'V97': 'Categorical',\n",
              " 'V98': 'Float'}"
            ]
          },
          "metadata": {
            "tags": []
          },
          "execution_count": 14
        }
      ]
    },
    {
      "cell_type": "markdown",
      "metadata": {
        "id": "h4pAKF3_zPQF",
        "colab_type": "text"
      },
      "source": [
        "##### **Seperating out the columns as type 'Float', 'Integer', 'Categorical'**"
      ]
    },
    {
      "cell_type": "code",
      "metadata": {
        "id": "y4zBoGGezZPu",
        "colab_type": "code",
        "outputId": "dd8c8467-9cdc-4242-f177-bbae41f1c564",
        "colab": {
          "base_uri": "https://localhost:8080/",
          "height": 86
        }
      },
      "source": [
        "int_list = []\n",
        "flo_list = []\n",
        "cat_list = []\n",
        "for key in column_identifiers.keys():\n",
        "  if column_identifiers[key] == 'Categorical':\n",
        "    cat_list.append(key)\n",
        "  elif column_identifiers[key] == 'Float':\n",
        "    flo_list.append(key)\n",
        "  elif column_identifiers[key] == 'Integer':\n",
        "    int_list.append(key)\n",
        "print(int_list)\n",
        "print(flo_list)\n",
        "print(cat_list)\n"
      ],
      "execution_count": 15,
      "outputs": [
        {
          "output_type": "stream",
          "text": [
            "['V1']\n",
            "['V10', 'V21', 'V29', 'V30', 'V31', 'V32', 'V35', 'V36', 'V38', 'V39', 'V41', 'V43', 'V48', 'V53', 'V76', 'V77', 'V86', 'V89', 'V90', 'V98', 'V102']\n",
            "['V2', 'V3', 'V4', 'V5', 'V6', 'V8', 'V9', 'V12', 'V13', 'V14', 'V15', 'V16', 'V18', 'V19', 'V20', 'V22', 'V23', 'V24', 'V25', 'V26', 'V27', 'V28', 'V33', 'V34', 'V37', 'V40', 'V44', 'V49', 'V50', 'V51', 'V52', 'V54', 'V55', 'V56', 'V57', 'V58', 'V59', 'V60', 'V61', 'V62', 'V63', 'V66', 'V67', 'V68', 'V69', 'V70', 'V73', 'V79', 'V84', 'V85', 'V94', 'V97', 'V113', 'V114']\n"
          ],
          "name": "stdout"
        }
      ]
    },
    {
      "cell_type": "code",
      "metadata": {
        "id": "8hHB7l_lrmfk",
        "colab_type": "code",
        "outputId": "3f749509-425a-4fbc-9ece-002bd05e142c",
        "colab": {
          "base_uri": "https://localhost:8080/",
          "height": 373
        }
      },
      "source": [
        "data.head()"
      ],
      "execution_count": 16,
      "outputs": [
        {
          "output_type": "execute_result",
          "data": {
            "text/html": [
              "<div>\n",
              "<style scoped>\n",
              "    .dataframe tbody tr th:only-of-type {\n",
              "        vertical-align: middle;\n",
              "    }\n",
              "\n",
              "    .dataframe tbody tr th {\n",
              "        vertical-align: top;\n",
              "    }\n",
              "\n",
              "    .dataframe thead th {\n",
              "        text-align: right;\n",
              "    }\n",
              "</style>\n",
              "<table border=\"1\" class=\"dataframe\">\n",
              "  <thead>\n",
              "    <tr style=\"text-align: right;\">\n",
              "      <th></th>\n",
              "      <th>V1</th>\n",
              "      <th>V2</th>\n",
              "      <th>V3</th>\n",
              "      <th>V4</th>\n",
              "      <th>V5</th>\n",
              "      <th>V6</th>\n",
              "      <th>V8</th>\n",
              "      <th>V9</th>\n",
              "      <th>V10</th>\n",
              "      <th>V12</th>\n",
              "      <th>V13</th>\n",
              "      <th>V14</th>\n",
              "      <th>V15</th>\n",
              "      <th>V16</th>\n",
              "      <th>V18</th>\n",
              "      <th>V19</th>\n",
              "      <th>V20</th>\n",
              "      <th>V21</th>\n",
              "      <th>V22</th>\n",
              "      <th>V23</th>\n",
              "      <th>V24</th>\n",
              "      <th>V25</th>\n",
              "      <th>V26</th>\n",
              "      <th>V27</th>\n",
              "      <th>V28</th>\n",
              "      <th>V29</th>\n",
              "      <th>V30</th>\n",
              "      <th>V31</th>\n",
              "      <th>V32</th>\n",
              "      <th>V33</th>\n",
              "      <th>V34</th>\n",
              "      <th>V35</th>\n",
              "      <th>V36</th>\n",
              "      <th>V37</th>\n",
              "      <th>V38</th>\n",
              "      <th>V39</th>\n",
              "      <th>V40</th>\n",
              "      <th>V41</th>\n",
              "      <th>V43</th>\n",
              "      <th>V44</th>\n",
              "      <th>V48</th>\n",
              "      <th>V49</th>\n",
              "      <th>V50</th>\n",
              "      <th>V51</th>\n",
              "      <th>V52</th>\n",
              "      <th>V53</th>\n",
              "      <th>V54</th>\n",
              "      <th>V55</th>\n",
              "      <th>V56</th>\n",
              "      <th>V57</th>\n",
              "      <th>V58</th>\n",
              "      <th>V59</th>\n",
              "      <th>V60</th>\n",
              "      <th>V61</th>\n",
              "      <th>V62</th>\n",
              "      <th>V63</th>\n",
              "      <th>V66</th>\n",
              "      <th>V67</th>\n",
              "      <th>V68</th>\n",
              "      <th>V69</th>\n",
              "      <th>V70</th>\n",
              "      <th>V73</th>\n",
              "      <th>V76</th>\n",
              "      <th>V77</th>\n",
              "      <th>V79</th>\n",
              "      <th>V84</th>\n",
              "      <th>V85</th>\n",
              "      <th>V86</th>\n",
              "      <th>V89</th>\n",
              "      <th>V90</th>\n",
              "      <th>V94</th>\n",
              "      <th>V97</th>\n",
              "      <th>V98</th>\n",
              "      <th>V102</th>\n",
              "      <th>V113</th>\n",
              "      <th>V114</th>\n",
              "    </tr>\n",
              "  </thead>\n",
              "  <tbody>\n",
              "    <tr>\n",
              "      <th>0</th>\n",
              "      <td>1</td>\n",
              "      <td>1100</td>\n",
              "      <td>500360265637</td>\n",
              "      <td>265637</td>\n",
              "      <td>20-JUL-18 11.34.26</td>\n",
              "      <td>20-JUL-18 11.34.26</td>\n",
              "      <td>0</td>\n",
              "      <td>20-JUL-18 11.34.27</td>\n",
              "      <td>3.871512e+14</td>\n",
              "      <td>?</td>\n",
              "      <td>?</td>\n",
              "      <td>?</td>\n",
              "      <td>29-MAR-16 09.02.47</td>\n",
              "      <td>01-MAR-20 00.00.00</td>\n",
              "      <td>367123</td>\n",
              "      <td>0</td>\n",
              "      <td>40</td>\n",
              "      <td>0.0</td>\n",
              "      <td>1</td>\n",
              "      <td>0</td>\n",
              "      <td>0</td>\n",
              "      <td>9</td>\n",
              "      <td>4</td>\n",
              "      <td>0</td>\n",
              "      <td>2</td>\n",
              "      <td>0.0</td>\n",
              "      <td>0.0</td>\n",
              "      <td>0.0</td>\n",
              "      <td>1.0</td>\n",
              "      <td>0</td>\n",
              "      <td>???</td>\n",
              "      <td>220.00</td>\n",
              "      <td>0.0</td>\n",
              "      <td>356</td>\n",
              "      <td>0.0</td>\n",
              "      <td>220.00</td>\n",
              "      <td>356</td>\n",
              "      <td>0.0</td>\n",
              "      <td>215.89</td>\n",
              "      <td>356</td>\n",
              "      <td>0.0</td>\n",
              "      <td>356</td>\n",
              "      <td>123456</td>\n",
              "      <td>777777</td>\n",
              "      <td>356</td>\n",
              "      <td>123456.0</td>\n",
              "      <td>777777</td>\n",
              "      <td>4722</td>\n",
              "      <td>6R00G052</td>\n",
              "      <td>9825368954</td>\n",
              "      <td>PAY U OLA CABS PG \\\\\\122001\\\\</td>\n",
              "      <td>6</td>\n",
              "      <td>200267</td>\n",
              "      <td>0</td>\n",
              "      <td>4</td>\n",
              "      <td>2</td>\n",
              "      <td>4</td>\n",
              "      <td>1</td>\n",
              "      <td>0</td>\n",
              "      <td>1</td>\n",
              "      <td>1</td>\n",
              "      <td>1001</td>\n",
              "      <td>-1.0</td>\n",
              "      <td>2.0</td>\n",
              "      <td>6078503409872</td>\n",
              "      <td>AMI</td>\n",
              "      <td>ACS</td>\n",
              "      <td>784.0</td>\n",
              "      <td>0.0</td>\n",
              "      <td>0.0</td>\n",
              "      <td>0</td>\n",
              "      <td>AXASK05AEVV</td>\n",
              "      <td>5.0</td>\n",
              "      <td>485855.29</td>\n",
              "      <td>unknown_Python_object</td>\n",
              "      <td>unknown_Python_object</td>\n",
              "    </tr>\n",
              "    <tr>\n",
              "      <th>1</th>\n",
              "      <td>2</td>\n",
              "      <td>1100</td>\n",
              "      <td>500360403436</td>\n",
              "      <td>403436</td>\n",
              "      <td>20-JUL-18 11.35.39</td>\n",
              "      <td>20-JUL-18 11.35.39</td>\n",
              "      <td>0</td>\n",
              "      <td>20-JUL-18 11.35.39</td>\n",
              "      <td>3.871513e+14</td>\n",
              "      <td>?</td>\n",
              "      <td>?</td>\n",
              "      <td>?</td>\n",
              "      <td>03-SEP-16 19.58.40</td>\n",
              "      <td>01-SEP-20 00.00.00</td>\n",
              "      <td>367123</td>\n",
              "      <td>0</td>\n",
              "      <td>40</td>\n",
              "      <td>0.0</td>\n",
              "      <td>1</td>\n",
              "      <td>0</td>\n",
              "      <td>0</td>\n",
              "      <td>9</td>\n",
              "      <td>1</td>\n",
              "      <td>0</td>\n",
              "      <td>2</td>\n",
              "      <td>0.0</td>\n",
              "      <td>0.0</td>\n",
              "      <td>0.0</td>\n",
              "      <td>1.0</td>\n",
              "      <td>0</td>\n",
              "      <td>???</td>\n",
              "      <td>42.00</td>\n",
              "      <td>0.0</td>\n",
              "      <td>356</td>\n",
              "      <td>0.0</td>\n",
              "      <td>42.00</td>\n",
              "      <td>356</td>\n",
              "      <td>0.0</td>\n",
              "      <td>41.21</td>\n",
              "      <td>356</td>\n",
              "      <td>0.0</td>\n",
              "      <td>356</td>\n",
              "      <td>123456</td>\n",
              "      <td>777777</td>\n",
              "      <td>356</td>\n",
              "      <td>123456.0</td>\n",
              "      <td>777777</td>\n",
              "      <td>4722</td>\n",
              "      <td>6R00G052</td>\n",
              "      <td>9825393929</td>\n",
              "      <td>PAYTM.COM TRAVEL PG \\\\NOIDA\\201310\\\\</td>\n",
              "      <td>6</td>\n",
              "      <td>200340</td>\n",
              "      <td>0</td>\n",
              "      <td>4</td>\n",
              "      <td>2</td>\n",
              "      <td>4</td>\n",
              "      <td>1</td>\n",
              "      <td>0</td>\n",
              "      <td>1</td>\n",
              "      <td>1</td>\n",
              "      <td>1001</td>\n",
              "      <td>-1.0</td>\n",
              "      <td>2.0</td>\n",
              "      <td>6051404919372</td>\n",
              "      <td>AMI</td>\n",
              "      <td>ACS</td>\n",
              "      <td>26.0</td>\n",
              "      <td>0.0</td>\n",
              "      <td>0.0</td>\n",
              "      <td>0</td>\n",
              "      <td>AXASK05AEVV</td>\n",
              "      <td>5.0</td>\n",
              "      <td>117389.06</td>\n",
              "      <td>unknown_Python_object</td>\n",
              "      <td>unknown_Python_object</td>\n",
              "    </tr>\n",
              "    <tr>\n",
              "      <th>2</th>\n",
              "      <td>3</td>\n",
              "      <td>1100</td>\n",
              "      <td>500360483836</td>\n",
              "      <td>483836</td>\n",
              "      <td>20-JUL-18 11.35.48</td>\n",
              "      <td>20-JUL-18 11.35.48</td>\n",
              "      <td>0</td>\n",
              "      <td>20-JUL-18 11.35.48</td>\n",
              "      <td>3.871510e+14</td>\n",
              "      <td>?</td>\n",
              "      <td>?</td>\n",
              "      <td>?</td>\n",
              "      <td>02-DEC-17 19.48.22</td>\n",
              "      <td>01-DEC-22 00.00.00</td>\n",
              "      <td>367123</td>\n",
              "      <td>0</td>\n",
              "      <td>40</td>\n",
              "      <td>0.0</td>\n",
              "      <td>1</td>\n",
              "      <td>0</td>\n",
              "      <td>0</td>\n",
              "      <td>9</td>\n",
              "      <td>4</td>\n",
              "      <td>0</td>\n",
              "      <td>2</td>\n",
              "      <td>0.0</td>\n",
              "      <td>0.0</td>\n",
              "      <td>0.0</td>\n",
              "      <td>1.0</td>\n",
              "      <td>0</td>\n",
              "      <td>???</td>\n",
              "      <td>108.32</td>\n",
              "      <td>0.0</td>\n",
              "      <td>356</td>\n",
              "      <td>0.0</td>\n",
              "      <td>108.32</td>\n",
              "      <td>356</td>\n",
              "      <td>0.0</td>\n",
              "      <td>106.40</td>\n",
              "      <td>356</td>\n",
              "      <td>0.0</td>\n",
              "      <td>356</td>\n",
              "      <td>123456</td>\n",
              "      <td>777777</td>\n",
              "      <td>356</td>\n",
              "      <td>123456.0</td>\n",
              "      <td>777777</td>\n",
              "      <td>7399</td>\n",
              "      <td>6R00G052</td>\n",
              "      <td>9826826968</td>\n",
              "      <td>BOOK MY SHOW\\\\\\400049\\\\</td>\n",
              "      <td>6</td>\n",
              "      <td>200348</td>\n",
              "      <td>0</td>\n",
              "      <td>4</td>\n",
              "      <td>2</td>\n",
              "      <td>4</td>\n",
              "      <td>1</td>\n",
              "      <td>0</td>\n",
              "      <td>1</td>\n",
              "      <td>1</td>\n",
              "      <td>1001</td>\n",
              "      <td>-1.0</td>\n",
              "      <td>2.0</td>\n",
              "      <td>6039443564572</td>\n",
              "      <td>AMI</td>\n",
              "      <td>ACS</td>\n",
              "      <td>917.0</td>\n",
              "      <td>0.0</td>\n",
              "      <td>0.0</td>\n",
              "      <td>0</td>\n",
              "      <td>AXASK05AEVV</td>\n",
              "      <td>5.0</td>\n",
              "      <td>102000.95</td>\n",
              "      <td>unknown_Python_object</td>\n",
              "      <td>unknown_Python_object</td>\n",
              "    </tr>\n",
              "    <tr>\n",
              "      <th>3</th>\n",
              "      <td>4</td>\n",
              "      <td>1100</td>\n",
              "      <td>500360094946</td>\n",
              "      <td>94946</td>\n",
              "      <td>20-JUL-18 11.36.09</td>\n",
              "      <td>20-JUL-18 11.36.09</td>\n",
              "      <td>3</td>\n",
              "      <td>20-JUL-18 11.36.09</td>\n",
              "      <td>3.871510e+14</td>\n",
              "      <td>?</td>\n",
              "      <td>?</td>\n",
              "      <td>?</td>\n",
              "      <td>23-JAN-18 19.34.41</td>\n",
              "      <td>01-JAN-23 00.00.00</td>\n",
              "      <td>367123</td>\n",
              "      <td>0</td>\n",
              "      <td>40</td>\n",
              "      <td>0.0</td>\n",
              "      <td>1</td>\n",
              "      <td>0</td>\n",
              "      <td>0</td>\n",
              "      <td>9</td>\n",
              "      <td>4</td>\n",
              "      <td>0</td>\n",
              "      <td>2</td>\n",
              "      <td>0.0</td>\n",
              "      <td>0.0</td>\n",
              "      <td>0.0</td>\n",
              "      <td>1.0</td>\n",
              "      <td>0</td>\n",
              "      <td>???</td>\n",
              "      <td>173.04</td>\n",
              "      <td>0.0</td>\n",
              "      <td>356</td>\n",
              "      <td>0.0</td>\n",
              "      <td>173.04</td>\n",
              "      <td>356</td>\n",
              "      <td>0.0</td>\n",
              "      <td>169.98</td>\n",
              "      <td>356</td>\n",
              "      <td>0.0</td>\n",
              "      <td>356</td>\n",
              "      <td>123456</td>\n",
              "      <td>777777</td>\n",
              "      <td>356</td>\n",
              "      <td>123456.0</td>\n",
              "      <td>777777</td>\n",
              "      <td>7399</td>\n",
              "      <td>6R00G052</td>\n",
              "      <td>9826826968</td>\n",
              "      <td>BOOK MY SHOW\\\\\\400049\\\\</td>\n",
              "      <td>6</td>\n",
              "      <td>500370</td>\n",
              "      <td>0</td>\n",
              "      <td>4</td>\n",
              "      <td>2</td>\n",
              "      <td>4</td>\n",
              "      <td>1</td>\n",
              "      <td>0</td>\n",
              "      <td>1</td>\n",
              "      <td>1</td>\n",
              "      <td>1001</td>\n",
              "      <td>-1.0</td>\n",
              "      <td>2.0</td>\n",
              "      <td>6039440900571</td>\n",
              "      <td>AMI</td>\n",
              "      <td>ACS</td>\n",
              "      <td>917.0</td>\n",
              "      <td>0.0</td>\n",
              "      <td>0.0</td>\n",
              "      <td>0</td>\n",
              "      <td>AXASK05AEVV</td>\n",
              "      <td>5.0</td>\n",
              "      <td>59676.28</td>\n",
              "      <td>unknown_Python_object</td>\n",
              "      <td>unknown_Python_object</td>\n",
              "    </tr>\n",
              "    <tr>\n",
              "      <th>4</th>\n",
              "      <td>5</td>\n",
              "      <td>1100</td>\n",
              "      <td>500360135131</td>\n",
              "      <td>135131</td>\n",
              "      <td>20-JUL-18 11.36.13</td>\n",
              "      <td>20-JUL-18 11.36.13</td>\n",
              "      <td>0</td>\n",
              "      <td>20-JUL-18 11.36.13</td>\n",
              "      <td>3.871518e+14</td>\n",
              "      <td>?</td>\n",
              "      <td>?</td>\n",
              "      <td>?</td>\n",
              "      <td>26-APR-18 19.52.38</td>\n",
              "      <td>01-APR-23 00.00.00</td>\n",
              "      <td>367123</td>\n",
              "      <td>0</td>\n",
              "      <td>40</td>\n",
              "      <td>0.0</td>\n",
              "      <td>1</td>\n",
              "      <td>0</td>\n",
              "      <td>0</td>\n",
              "      <td>9</td>\n",
              "      <td>4</td>\n",
              "      <td>0</td>\n",
              "      <td>2</td>\n",
              "      <td>0.0</td>\n",
              "      <td>0.0</td>\n",
              "      <td>0.0</td>\n",
              "      <td>1.0</td>\n",
              "      <td>0</td>\n",
              "      <td>???</td>\n",
              "      <td>241.00</td>\n",
              "      <td>0.0</td>\n",
              "      <td>356</td>\n",
              "      <td>0.0</td>\n",
              "      <td>241.00</td>\n",
              "      <td>356</td>\n",
              "      <td>0.0</td>\n",
              "      <td>236.73</td>\n",
              "      <td>356</td>\n",
              "      <td>0.0</td>\n",
              "      <td>356</td>\n",
              "      <td>123456</td>\n",
              "      <td>777777</td>\n",
              "      <td>356</td>\n",
              "      <td>123456.0</td>\n",
              "      <td>777777</td>\n",
              "      <td>7399</td>\n",
              "      <td>6R00G052</td>\n",
              "      <td>9826826968</td>\n",
              "      <td>BOOK MY SHOW\\\\\\400049\\\\</td>\n",
              "      <td>6</td>\n",
              "      <td>400374</td>\n",
              "      <td>0</td>\n",
              "      <td>4</td>\n",
              "      <td>2</td>\n",
              "      <td>4</td>\n",
              "      <td>1</td>\n",
              "      <td>0</td>\n",
              "      <td>1</td>\n",
              "      <td>1</td>\n",
              "      <td>1001</td>\n",
              "      <td>-1.0</td>\n",
              "      <td>2.0</td>\n",
              "      <td>6039450425576</td>\n",
              "      <td>AMI</td>\n",
              "      <td>ACS</td>\n",
              "      <td>917.0</td>\n",
              "      <td>0.0</td>\n",
              "      <td>0.0</td>\n",
              "      <td>0</td>\n",
              "      <td>AXASK05AEVV</td>\n",
              "      <td>5.0</td>\n",
              "      <td>50250.00</td>\n",
              "      <td>unknown_Python_object</td>\n",
              "      <td>unknown_Python_object</td>\n",
              "    </tr>\n",
              "  </tbody>\n",
              "</table>\n",
              "</div>"
            ],
            "text/plain": [
              "   V1    V2  ...                   V113                   V114\n",
              "0   1  1100  ...  unknown_Python_object  unknown_Python_object\n",
              "1   2  1100  ...  unknown_Python_object  unknown_Python_object\n",
              "2   3  1100  ...  unknown_Python_object  unknown_Python_object\n",
              "3   4  1100  ...  unknown_Python_object  unknown_Python_object\n",
              "4   5  1100  ...  unknown_Python_object  unknown_Python_object\n",
              "\n",
              "[5 rows x 76 columns]"
            ]
          },
          "metadata": {
            "tags": []
          },
          "execution_count": 16
        }
      ]
    },
    {
      "cell_type": "markdown",
      "metadata": {
        "id": "ojGYIyoY2X7a",
        "colab_type": "text"
      },
      "source": [
        "##### We will drop columns 'V5' , 'V6', 'V9',  'V15', 'V16' from the categorical list because those are date columns which we will deal with differently.\n"
      ]
    },
    {
      "cell_type": "code",
      "metadata": {
        "id": "UOyIHccb2W5G",
        "colab_type": "code",
        "outputId": "19179acb-97fa-43f5-a2cd-939f7388f640",
        "colab": {
          "base_uri": "https://localhost:8080/",
          "height": 813
        }
      },
      "source": [
        "remove = ['V5','V6','V9','V15','V16']\n",
        "for i in remove:\n",
        "  cat_list = list(filter(lambda a: a != i, cat_list))\n",
        "cat_list"
      ],
      "execution_count": 17,
      "outputs": [
        {
          "output_type": "execute_result",
          "data": {
            "text/plain": [
              "['V2',\n",
              " 'V3',\n",
              " 'V4',\n",
              " 'V8',\n",
              " 'V12',\n",
              " 'V13',\n",
              " 'V14',\n",
              " 'V18',\n",
              " 'V19',\n",
              " 'V20',\n",
              " 'V22',\n",
              " 'V23',\n",
              " 'V24',\n",
              " 'V25',\n",
              " 'V26',\n",
              " 'V27',\n",
              " 'V28',\n",
              " 'V33',\n",
              " 'V34',\n",
              " 'V37',\n",
              " 'V40',\n",
              " 'V44',\n",
              " 'V49',\n",
              " 'V50',\n",
              " 'V51',\n",
              " 'V52',\n",
              " 'V54',\n",
              " 'V55',\n",
              " 'V56',\n",
              " 'V57',\n",
              " 'V58',\n",
              " 'V59',\n",
              " 'V60',\n",
              " 'V61',\n",
              " 'V62',\n",
              " 'V63',\n",
              " 'V66',\n",
              " 'V67',\n",
              " 'V68',\n",
              " 'V69',\n",
              " 'V70',\n",
              " 'V73',\n",
              " 'V79',\n",
              " 'V84',\n",
              " 'V85',\n",
              " 'V94',\n",
              " 'V97',\n",
              " 'V113',\n",
              " 'V114']"
            ]
          },
          "metadata": {
            "tags": []
          },
          "execution_count": 17
        }
      ]
    },
    {
      "cell_type": "markdown",
      "metadata": {
        "id": "fSqqFy63rxJ3",
        "colab_type": "text"
      },
      "source": [
        "##### This notebook is same as Fortiate_DST_5(all_txns.csv) upto this point. After this is where we digress, we will try out a few distributions to fit the continuous columns.\n",
        "##### We will now proceed to fit models using different distributions:\n",
        "> Categorical vs. Continuous\n",
        "\n",
        "\n"
      ]
    },
    {
      "cell_type": "markdown",
      "metadata": {
        "id": "zzFYpo5MsxUJ",
        "colab_type": "text"
      },
      "source": [
        "##### **Empirical CDF**"
      ]
    },
    {
      "cell_type": "markdown",
      "metadata": {
        "id": "vLF7zAU9tRah",
        "colab_type": "text"
      },
      "source": [
        "##### First we will filter out corresponding to one particular category of a categorical variable. Then we will try and fit distributions to the values of the continuous variable corresponding to that category."
      ]
    },
    {
      "cell_type": "code",
      "metadata": {
        "id": "gDWPxQzqsv-k",
        "colab_type": "code",
        "colab": {}
      },
      "source": [
        "def cumf(x):\n",
        "    sorted_x = sorted(x)\n",
        "    ecdf = []\n",
        "    for i in x:\n",
        "        count = 0\n",
        "        for j in sorted_x:\n",
        "            if j <= i:\n",
        "                count += 1\n",
        "        ecdf.append(count/len(x))\n",
        "    return ecdf    "
      ],
      "execution_count": 0,
      "outputs": []
    },
    {
      "cell_type": "markdown",
      "metadata": {
        "id": "v7Wx_v60zXuv",
        "colab_type": "text"
      },
      "source": [
        "##### What is returned from the function cumf is the ECDF of the column x\n"
      ]
    },
    {
      "cell_type": "markdown",
      "metadata": {
        "id": "FMyX9horzq22",
        "colab_type": "text"
      },
      "source": [
        "##### Here we will again use the concept of Long Nominal and Short Nominal to divide up the Categorical Columns"
      ]
    },
    {
      "cell_type": "markdown",
      "metadata": {
        "id": "9XGpYNxwWfp4",
        "colab_type": "text"
      },
      "source": [
        "##### We should now divide up the categorical into LN(Long Nominal) and SN(Short Nominal)"
      ]
    },
    {
      "cell_type": "code",
      "metadata": {
        "id": "Nc6iS6Q9YEl1",
        "colab_type": "code",
        "outputId": "652290f6-1223-4ac5-de5f-43f7272757c6",
        "colab": {
          "base_uri": "https://localhost:8080/",
          "height": 53
        }
      },
      "source": [
        "categorical_type = {}\n",
        "for c in cat_list:\n",
        "  if(len(set(data[c]))>40):\n",
        "    categorical_type[c] = 'LN'\n",
        "  else:\n",
        "    categorical_type[c] = 'SN'\n",
        "print(categorical_type)"
      ],
      "execution_count": 19,
      "outputs": [
        {
          "output_type": "stream",
          "text": [
            "{'V2': 'SN', 'V3': 'LN', 'V4': 'LN', 'V8': 'SN', 'V12': 'SN', 'V13': 'SN', 'V14': 'SN', 'V18': 'SN', 'V19': 'SN', 'V20': 'SN', 'V22': 'SN', 'V23': 'SN', 'V24': 'SN', 'V25': 'SN', 'V26': 'SN', 'V27': 'SN', 'V28': 'SN', 'V33': 'SN', 'V34': 'SN', 'V37': 'LN', 'V40': 'SN', 'V44': 'SN', 'V49': 'LN', 'V50': 'LN', 'V51': 'SN', 'V52': 'LN', 'V54': 'SN', 'V55': 'LN', 'V56': 'LN', 'V57': 'LN', 'V58': 'LN', 'V59': 'SN', 'V60': 'LN', 'V61': 'SN', 'V62': 'SN', 'V63': 'SN', 'V66': 'SN', 'V67': 'SN', 'V68': 'SN', 'V69': 'SN', 'V70': 'SN', 'V73': 'SN', 'V79': 'LN', 'V84': 'SN', 'V85': 'SN', 'V94': 'SN', 'V97': 'LN', 'V113': 'SN', 'V114': 'SN'}\n"
          ],
          "name": "stdout"
        }
      ]
    },
    {
      "cell_type": "markdown",
      "metadata": {
        "id": "E0cNoZLH7vds",
        "colab_type": "text"
      },
      "source": [
        "##### We will choose one of the Short Nominal Variables to filter our dataframe by and then apply ECDF to it."
      ]
    },
    {
      "cell_type": "code",
      "metadata": {
        "id": "n2u63xXcswT7",
        "colab_type": "code",
        "colab": {}
      },
      "source": [
        "## Function that takes a category from a categorical column and returns the dataframe filtered according to it\n",
        "def df_filtered(df,col1,col2,val): # Here col1 refers to the categorical column and col2 refers to the continuous column that we will be fitting an empirical cdf to\n",
        "## val refers to the values of the categorical column col1 that we are filtering by\n",
        "  df_temp = df[df[col1] == val][[col1,col2]]\n",
        "  return df_temp"
      ],
      "execution_count": 0,
      "outputs": []
    },
    {
      "cell_type": "code",
      "metadata": {
        "id": "4GacXYOmKfUQ",
        "colab_type": "code",
        "colab": {}
      },
      "source": [
        "## Setting as defaults\n",
        "col1 = 'V2'\n",
        "col2 = 'V10'\n",
        "val = 1100"
      ],
      "execution_count": 0,
      "outputs": []
    },
    {
      "cell_type": "code",
      "metadata": {
        "id": "8Z9sXjATswdW",
        "colab_type": "code",
        "colab": {
          "base_uri": "https://localhost:8080/",
          "height": 391
        },
        "outputId": "3449b0b8-e7de-474d-a78e-531d0fcc7477"
      },
      "source": [
        "df_filtered(data,'V2','V10',1100)"
      ],
      "execution_count": 21,
      "outputs": [
        {
          "output_type": "execute_result",
          "data": {
            "text/html": [
              "<div>\n",
              "<style scoped>\n",
              "    .dataframe tbody tr th:only-of-type {\n",
              "        vertical-align: middle;\n",
              "    }\n",
              "\n",
              "    .dataframe tbody tr th {\n",
              "        vertical-align: top;\n",
              "    }\n",
              "\n",
              "    .dataframe thead th {\n",
              "        text-align: right;\n",
              "    }\n",
              "</style>\n",
              "<table border=\"1\" class=\"dataframe\">\n",
              "  <thead>\n",
              "    <tr style=\"text-align: right;\">\n",
              "      <th></th>\n",
              "      <th>V2</th>\n",
              "      <th>V10</th>\n",
              "    </tr>\n",
              "  </thead>\n",
              "  <tbody>\n",
              "    <tr>\n",
              "      <th>0</th>\n",
              "      <td>1100</td>\n",
              "      <td>3.871512e+14</td>\n",
              "    </tr>\n",
              "    <tr>\n",
              "      <th>1</th>\n",
              "      <td>1100</td>\n",
              "      <td>3.871513e+14</td>\n",
              "    </tr>\n",
              "    <tr>\n",
              "      <th>2</th>\n",
              "      <td>1100</td>\n",
              "      <td>3.871510e+14</td>\n",
              "    </tr>\n",
              "    <tr>\n",
              "      <th>3</th>\n",
              "      <td>1100</td>\n",
              "      <td>3.871510e+14</td>\n",
              "    </tr>\n",
              "    <tr>\n",
              "      <th>4</th>\n",
              "      <td>1100</td>\n",
              "      <td>3.871518e+14</td>\n",
              "    </tr>\n",
              "    <tr>\n",
              "      <th>...</th>\n",
              "      <td>...</td>\n",
              "      <td>...</td>\n",
              "    </tr>\n",
              "    <tr>\n",
              "      <th>2558</th>\n",
              "      <td>1100</td>\n",
              "      <td>3.871517e+14</td>\n",
              "    </tr>\n",
              "    <tr>\n",
              "      <th>2559</th>\n",
              "      <td>1100</td>\n",
              "      <td>3.871512e+14</td>\n",
              "    </tr>\n",
              "    <tr>\n",
              "      <th>2560</th>\n",
              "      <td>1100</td>\n",
              "      <td>3.871512e+14</td>\n",
              "    </tr>\n",
              "    <tr>\n",
              "      <th>2561</th>\n",
              "      <td>1100</td>\n",
              "      <td>3.871511e+14</td>\n",
              "    </tr>\n",
              "    <tr>\n",
              "      <th>2562</th>\n",
              "      <td>1100</td>\n",
              "      <td>3.871510e+14</td>\n",
              "    </tr>\n",
              "  </tbody>\n",
              "</table>\n",
              "<p>2515 rows × 2 columns</p>\n",
              "</div>"
            ],
            "text/plain": [
              "        V2           V10\n",
              "0     1100  3.871512e+14\n",
              "1     1100  3.871513e+14\n",
              "2     1100  3.871510e+14\n",
              "3     1100  3.871510e+14\n",
              "4     1100  3.871518e+14\n",
              "...    ...           ...\n",
              "2558  1100  3.871517e+14\n",
              "2559  1100  3.871512e+14\n",
              "2560  1100  3.871512e+14\n",
              "2561  1100  3.871511e+14\n",
              "2562  1100  3.871510e+14\n",
              "\n",
              "[2515 rows x 2 columns]"
            ]
          },
          "metadata": {
            "tags": []
          },
          "execution_count": 21
        }
      ]
    },
    {
      "cell_type": "code",
      "metadata": {
        "id": "QideOO96swjO",
        "colab_type": "code",
        "colab": {
          "base_uri": "https://localhost:8080/",
          "height": 191
        },
        "outputId": "d551c20a-150f-4e03-c873-13359457d509"
      },
      "source": [
        "df_extracted = df_filtered(data,'V2','V10',1100)\n",
        "df_extracted['ecdf'] = cumf(list(df_extracted['V10']))\n",
        "df_extracted.head()"
      ],
      "execution_count": 55,
      "outputs": [
        {
          "output_type": "execute_result",
          "data": {
            "text/html": [
              "<div>\n",
              "<style scoped>\n",
              "    .dataframe tbody tr th:only-of-type {\n",
              "        vertical-align: middle;\n",
              "    }\n",
              "\n",
              "    .dataframe tbody tr th {\n",
              "        vertical-align: top;\n",
              "    }\n",
              "\n",
              "    .dataframe thead th {\n",
              "        text-align: right;\n",
              "    }\n",
              "</style>\n",
              "<table border=\"1\" class=\"dataframe\">\n",
              "  <thead>\n",
              "    <tr style=\"text-align: right;\">\n",
              "      <th></th>\n",
              "      <th>V2</th>\n",
              "      <th>V10</th>\n",
              "      <th>ecdf</th>\n",
              "    </tr>\n",
              "  </thead>\n",
              "  <tbody>\n",
              "    <tr>\n",
              "      <th>0</th>\n",
              "      <td>1100</td>\n",
              "      <td>3.871512e+14</td>\n",
              "      <td>0.596024</td>\n",
              "    </tr>\n",
              "    <tr>\n",
              "      <th>1</th>\n",
              "      <td>1100</td>\n",
              "      <td>3.871513e+14</td>\n",
              "      <td>0.721670</td>\n",
              "    </tr>\n",
              "    <tr>\n",
              "      <th>2</th>\n",
              "      <td>1100</td>\n",
              "      <td>3.871510e+14</td>\n",
              "      <td>0.043738</td>\n",
              "    </tr>\n",
              "    <tr>\n",
              "      <th>3</th>\n",
              "      <td>1100</td>\n",
              "      <td>3.871510e+14</td>\n",
              "      <td>0.278330</td>\n",
              "    </tr>\n",
              "    <tr>\n",
              "      <th>4</th>\n",
              "      <td>1100</td>\n",
              "      <td>3.871518e+14</td>\n",
              "      <td>0.958250</td>\n",
              "    </tr>\n",
              "  </tbody>\n",
              "</table>\n",
              "</div>"
            ],
            "text/plain": [
              "     V2           V10      ecdf\n",
              "0  1100  3.871512e+14  0.596024\n",
              "1  1100  3.871513e+14  0.721670\n",
              "2  1100  3.871510e+14  0.043738\n",
              "3  1100  3.871510e+14  0.278330\n",
              "4  1100  3.871518e+14  0.958250"
            ]
          },
          "metadata": {
            "tags": []
          },
          "execution_count": 55
        }
      ]
    },
    {
      "cell_type": "markdown",
      "metadata": {
        "id": "gH_PZcjcFz9I",
        "colab_type": "text"
      },
      "source": [
        "##### So our outliers will be those for which the ECDF suggests that they lie outside the 95 percent confidence interval of the distribution based on the fitted distribution."
      ]
    },
    {
      "cell_type": "code",
      "metadata": {
        "id": "5iI2miVrswmQ",
        "colab_type": "code",
        "colab": {}
      },
      "source": [
        "def outliers_ecdf(ys):\n",
        "    # quartile_1, quartile_3 = np.percentile(ys, [25, 75])\n",
        "    # iqr = quartile_3 - quartile_1\n",
        "    # lower_bound = quartile_1 - (iqr * 1.5)\n",
        "    # upper_bound = quartile_3 + (iqr * 1.5)\n",
        "    upper_bound = 0.975\n",
        "    lower_bound = 0.025\n",
        "    #return np.where((ys > upper_bound) | (ys < lower_bound))\n",
        "    return np.where((ys>upper_bound)),np.where((ys<lower_bound))\n"
      ],
      "execution_count": 0,
      "outputs": []
    },
    {
      "cell_type": "code",
      "metadata": {
        "id": "MawkrDMBHAEz",
        "colab_type": "code",
        "colab": {
          "base_uri": "https://localhost:8080/",
          "height": 212
        },
        "outputId": "978bae3f-bc1e-477e-90d3-cf0ed9442cfd"
      },
      "source": [
        "outliers_ecdf(df_extracted['ecdf'])"
      ],
      "execution_count": 35,
      "outputs": [
        {
          "output_type": "execute_result",
          "data": {
            "text/plain": [
              "((array([  50,  125,  338,  346,  354,  370,  463,  533,  575,  697,  745,\n",
              "          800,  801,  808,  959,  999, 1008, 1018, 1030, 1079, 1164, 1175,\n",
              "         1211, 1314, 1321, 1526, 1537, 1566, 1580, 1765, 1803, 1813, 1826,\n",
              "         1829, 1833, 1855, 2067, 2071, 2077, 2133, 2145, 2148, 2156, 2159,\n",
              "         2160, 2167, 2182, 2199, 2200, 2202, 2283, 2288, 2293, 2296, 2307,\n",
              "         2311, 2323, 2327, 2375, 2397, 2455, 2466, 2508]),),\n",
              " (array([  45,  149,  204,  246,  267,  276,  385,  391,  392,  459,  527,\n",
              "          544,  581,  598,  638,  641,  643,  679,  734,  833,  838,  871,\n",
              "          896,  911,  914,  917,  921,  970, 1007, 1017, 1056, 1116, 1150,\n",
              "         1154, 1162, 1174, 1183, 1295, 1401, 1429, 1446, 1544, 1554, 1687,\n",
              "         1747, 1767, 1783, 1807, 1808, 1851, 2004, 2139, 2151, 2185, 2247,\n",
              "         2268, 2347, 2409, 2490, 2498]),))"
            ]
          },
          "metadata": {
            "tags": []
          },
          "execution_count": 35
        }
      ]
    },
    {
      "cell_type": "markdown",
      "metadata": {
        "id": "iXT9qCncHm56",
        "colab_type": "text"
      },
      "source": [
        "##### In the following piece of code we will find the cutoffs on the upper and lower side to look out for when looking at this continuous variable for this particular category. Keep in mind that there will be changes to this value as more and more data is seen and more accurate ideas about the actual distribution develops."
      ]
    },
    {
      "cell_type": "code",
      "metadata": {
        "colab_type": "code",
        "id": "4tnJF-84KY0u",
        "colab": {
          "base_uri": "https://localhost:8080/",
          "height": 131
        },
        "outputId": "3a6a4c74-4301-495a-8b26-d15274334f42"
      },
      "source": [
        "upper_cutoff = np.min(df_extracted[col2][outliers_ecdf(df_extracted['ecdf'])[0][0]])\n",
        "lower_cutoff = np.min(df_extracted[col2][outliers_ecdf(df_extracted['ecdf'])[1][0]])\n"
      ],
      "execution_count": 57,
      "outputs": [
        {
          "output_type": "stream",
          "text": [
            "/usr/local/lib/python3.6/dist-packages/pandas/core/series.py:1146: FutureWarning: \n",
            "Passing list-likes to .loc or [] with any missing label will raise\n",
            "KeyError in the future, you can use .reindex() as an alternative.\n",
            "\n",
            "See the documentation here:\n",
            "https://pandas.pydata.org/pandas-docs/stable/user_guide/indexing.html#deprecate-loc-reindex-listlike\n",
            "  return self.loc[key]\n"
          ],
          "name": "stderr"
        }
      ]
    },
    {
      "cell_type": "code",
      "metadata": {
        "id": "810zTUkJHljS",
        "colab_type": "code",
        "colab": {
          "base_uri": "https://localhost:8080/",
          "height": 50
        },
        "outputId": "00a2a113-91e4-4b20-d065-0dd8757701cb"
      },
      "source": [
        "## Here we take minimum of those crossing the upper bound and maximum of those crossing the lower bound as warning limits to check in the future\n",
        "print(\"Check if values of {} corresponding to {} in {} are greater than: {}\".format(col2,val,col1,upper_cutoff))\n",
        "print(\"Check if values of {} corresponding to {} in {} are lesser than: {}\".format(col2,val,col1,lower_cutoff))"
      ],
      "execution_count": 58,
      "outputs": [
        {
          "output_type": "stream",
          "text": [
            "Check if values of V10 corresponding to 1100 in V2 are greater than: 387151007327755.0\n",
            "Check if values of V10 corresponding to 1100 in V2 are lesser than: 387151000454753.0\n"
          ],
          "name": "stdout"
        }
      ]
    },
    {
      "cell_type": "markdown",
      "metadata": {
        "id": "T4i3foCQSwbT",
        "colab_type": "text"
      },
      "source": [
        "### **Fitting some standard distributions to find if any of them fits**"
      ]
    },
    {
      "cell_type": "code",
      "metadata": {
        "id": "CMLGzC6KdWs4",
        "colab_type": "code",
        "colab": {
          "base_uri": "https://localhost:8080/",
          "height": 765
        },
        "outputId": "dbcf75c2-2a62-4806-ae80-212cde215cbf"
      },
      "source": [
        "x = scipy.arange(len(df_extracted[col2]))\n",
        "y = df_extracted[col2]\n",
        "size = len(df_extracted[col2])\n",
        "h = plt.hist(y, bins=range(48))\n",
        "\n",
        "dist_names = ['gamma', 'beta', 'rayleigh', 'norm', 'pareto']\n",
        "\n",
        "for dist_name in dist_names:\n",
        "    dist = getattr(scipy.stats, dist_name)\n",
        "    param = dist.fit(y)\n",
        "    pdf_fitted = dist.pdf(x, *param[:-2], loc=param[-2], scale=param[-1]) * size\n",
        "    plt.plot(pdf_fitted, label=dist_name)\n",
        "    plt.xlim(0,47)\n",
        "plt.legend(loc='upper right')\n",
        "plt.show()"
      ],
      "execution_count": 77,
      "outputs": [
        {
          "output_type": "stream",
          "text": [
            "/usr/local/lib/python3.6/dist-packages/scipy/stats/_continuous_distns.py:515: RuntimeWarning: invalid value encountered in sqrt\n",
            "  sk = 2*(b-a)*np.sqrt(a + b + 1) / (a + b + 2) / np.sqrt(a*b)\n",
            "/usr/local/lib/python3.6/dist-packages/scipy/stats/_distn_infrastructure.py:2381: RuntimeWarning: invalid value encountered in double_scalars\n",
            "  Lhat = muhat - Shat*mu\n"
          ],
          "name": "stderr"
        },
        {
          "output_type": "display_data",
          "data": {
            "image/png": "[encoded data removed]",
            "text/plain": [
              "<Figure size 1152x864 with 1 Axes>"
            ]
          },
          "metadata": {
            "tags": []
          }
        }
      ]
    },
    {
      "cell_type": "markdown",
      "metadata": {
        "id": "zXjGm5MFesmb",
        "colab_type": "text"
      },
      "source": [
        "##### The fitting is obviously bad here. Maybe we need to consider more distributions here"
      ]
    },
    {
      "cell_type": "code",
      "metadata": {
        "id": "vCMZp_qyeLlM",
        "colab_type": "code",
        "colab": {
          "base_uri": "https://localhost:8080/",
          "height": 33
        },
        "outputId": "57ac6633-b3e5-4074-eff5-95e81a0b5988"
      },
      "source": [
        "y = scipy.int_(scipy.round_(scipy.stats.vonmises.rvs(5,size=size)*47))\n",
        "len(y)"
      ],
      "execution_count": 74,
      "outputs": [
        {
          "output_type": "execute_result",
          "data": {
            "text/plain": [
              "2515"
            ]
          },
          "metadata": {
            "tags": []
          },
          "execution_count": 74
        }
      ]
    },
    {
      "cell_type": "markdown",
      "metadata": {
        "id": "YdDv_t6re12D",
        "colab_type": "text"
      },
      "source": [
        "##### **Second fitting method as judged by SSE**"
      ]
    },
    {
      "cell_type": "code",
      "metadata": {
        "id": "ru-zZRzpTr08",
        "colab_type": "code",
        "colab": {}
      },
      "source": [
        "%matplotlib inline\n",
        "\n",
        "matplotlib.rcParams['figure.figsize'] = (16.0, 12.0)\n",
        "matplotlib.style.use('ggplot')"
      ],
      "execution_count": 0,
      "outputs": []
    },
    {
      "cell_type": "code",
      "metadata": {
        "id": "0gCWjXF9US0t",
        "colab_type": "code",
        "colab": {}
      },
      "source": [
        "# Create models from data\n",
        "def best_fit_distribution(data, bins=200, ax=None):\n",
        "    \"\"\"Model data by finding best fit distribution to data\"\"\"\n",
        "    # Get histogram of original data\n",
        "    y, x = np.histogram(data, bins=bins, density=True)\n",
        "    x = (x + np.roll(x, -1))[:-1] / 2.0\n",
        "\n",
        "    # Distributions to check\n",
        "    DISTRIBUTIONS = [        \n",
        "         st.alpha,st.anglit,st.arcsine,st.beta,st.betaprime,st.bradford,st.burr,st.cauchy,st.chi,st.chi2,st.cosine]\n",
        "    # ,\n",
        "    #     st.dgamma,st.dweibull,st.erlang,st.expon,st.exponnorm,st.exponweib,st.exponpow,st.f,st.fatiguelife,st.fisk,\n",
        "    #     st.foldcauchy,st.foldnorm,st.frechet_r,st.frechet_l,st.genlogistic,st.genpareto,st.gennorm,st.genexpon,\n",
        "    #     st.genextreme,st.gausshyper,st.gamma,st.gengamma,st.genhalflogistic,st.gilbrat,st.gompertz,st.gumbel_r,\n",
        "    #     st.gumbel_l,st.halfcauchy,st.halflogistic,st.halfnorm,st.halfgennorm,st.hypsecant,st.invgamma,st.invgauss,\n",
        "    #     st.invweibull,st.johnsonsb,st.johnsonsu,st.ksone,st.kstwobign,st.laplace,st.levy,st.levy_l,st.levy_stable,\n",
        "    #     st.logistic,st.loggamma,st.loglaplace,st.lognorm,st.lomax,st.maxwell,st.mielke,st.nakagami,st.ncx2,st.ncf,\n",
        "    #     st.nct,st.norm,st.pareto,st.pearson3,st.powerlaw,st.powerlognorm,st.powernorm,st.rdist,st.reciprocal,\n",
        "    #     st.rayleigh,st.rice,st.recipinvgauss,st.semicircular,st.t,st.triang,st.truncexpon,st.truncnorm,st.tukeylambda,\n",
        "    #     st.uniform,st.vonmises,st.vonmises_line,st.wald,st.weibull_min,st.weibull_max,st.wrapcauchy\n",
        "    # ]\n",
        "\n",
        "    # Best holders\n",
        "    best_distribution = st.norm\n",
        "    best_params = (0.0, 1.0)\n",
        "    best_sse = np.inf\n",
        "\n",
        "    # Estimate distribution parameters from data\n",
        "    for distribution in DISTRIBUTIONS:\n",
        "\n",
        "        # Try to fit the distribution\n",
        "        try:\n",
        "            # Ignore warnings from data that can't be fit\n",
        "            with warnings.catch_warnings():\n",
        "                warnings.filterwarnings('ignore')\n",
        "\n",
        "                # fit dist to data\n",
        "                params = distribution.fit(data)\n",
        "\n",
        "                # Separate parts of parameters\n",
        "                arg = params[:-2]\n",
        "                loc = params[-2]\n",
        "                scale = params[-1]\n",
        "\n",
        "                # Calculate fitted PDF and error with fit in distribution\n",
        "                pdf = distribution.pdf(x, loc=loc, scale=scale, *arg)\n",
        "                sse = np.sum(np.power(y - pdf, 2.0))\n",
        "\n",
        "                # if axis pass in add to plot\n",
        "                try:\n",
        "                    if ax:\n",
        "                        pd.Series(pdf, x).plot(ax=ax)\n",
        "                    end\n",
        "                except Exception:\n",
        "                    pass\n",
        "\n",
        "                # identify if this distribution is better\n",
        "                if best_sse > sse > 0:\n",
        "                    best_distribution = distribution\n",
        "                    best_params = params\n",
        "                    best_sse = sse\n",
        "\n",
        "        except Exception:\n",
        "            pass\n",
        "\n",
        "    return (best_distribution.name, best_params)"
      ],
      "execution_count": 0,
      "outputs": []
    },
    {
      "cell_type": "code",
      "metadata": {
        "id": "aLlKFLdWUm6N",
        "colab_type": "code",
        "colab": {}
      },
      "source": [
        "def make_pdf(dist, params, size=10000):\n",
        "    \"\"\"Generate distributions's Probability Distribution Function \"\"\"\n",
        "\n",
        "    # Separate parts of parameters\n",
        "    arg = params[:-2]\n",
        "    loc = params[-2]\n",
        "    scale = params[-1]\n",
        "\n",
        "    # Get sane start and end points of distribution\n",
        "    start = dist.ppf(0.01, *arg, loc=loc, scale=scale) if arg else dist.ppf(0.01, loc=loc, scale=scale)\n",
        "    end = dist.ppf(0.99, *arg, loc=loc, scale=scale) if arg else dist.ppf(0.99, loc=loc, scale=scale)\n",
        "\n",
        "    # Build PDF and turn into pandas Series\n",
        "    x = np.linspace(start, end, size)\n",
        "    y = dist.pdf(x, loc=loc, scale=scale, *arg)\n",
        "    pdf = pd.Series(y, x)\n",
        "\n",
        "    return pdf"
      ],
      "execution_count": 0,
      "outputs": []
    },
    {
      "cell_type": "code",
      "metadata": {
        "id": "X4IyXuPDVK0T",
        "colab_type": "code",
        "colab": {}
      },
      "source": [
        "# Load data from statsmodels datasets\n",
        "data  = df_extracted[col2]\n",
        "#data = pd.Series(sm.datasets.elnino.load_pandas().data.set_index('YEAR').values.ravel())"
      ],
      "execution_count": 0,
      "outputs": []
    },
    {
      "cell_type": "code",
      "metadata": {
        "id": "i-8Icul0VQ1w",
        "colab_type": "code",
        "colab": {
          "base_uri": "https://localhost:8080/",
          "height": 556
        },
        "outputId": "d2e53694-0e16-4000-cb58-dcf967f018b7"
      },
      "source": [
        "# Plot for comparison\n",
        "plt.figure(figsize=(12,8))\n",
        "ax = data.plot(kind='hist', bins=50, normed=True, alpha=0.5) #, #color=plt.rcParams['axes.color_cycle'][1])\n",
        "# Save plot limits\n",
        "dataYLim = ax.get_ylim()"
      ],
      "execution_count": 80,
      "outputs": [
        {
          "output_type": "stream",
          "text": [
            "/usr/local/lib/python3.6/dist-packages/pandas/plotting/_matplotlib/hist.py:62: MatplotlibDeprecationWarning: \n",
            "The 'normed' kwarg was deprecated in Matplotlib 2.1 and will be removed in 3.1. Use 'density' instead.\n",
            "  n, bins, patches = ax.hist(y, bins=bins, bottom=bottom, **kwds)\n"
          ],
          "name": "stderr"
        },
        {
          "output_type": "display_data",
          "data": {
            "image/png": "[encoded data removed]",
            "text/plain": [
              "<Figure size 864x576 with 1 Axes>"
            ]
          },
          "metadata": {
            "tags": []
          }
        }
      ]
    },
    {
      "cell_type": "code",
      "metadata": {
        "id": "yBCjna1AVyJH",
        "colab_type": "code",
        "colab": {}
      },
      "source": [
        "# Find best fit distribution\n",
        "best_fit_name, best_fit_params = best_fit_distribution(data, 200, ax)\n",
        "best_dist = getattr(st, best_fit_name)"
      ],
      "execution_count": 0,
      "outputs": []
    },
    {
      "cell_type": "code",
      "metadata": {
        "id": "bvt96APcS2jR",
        "colab_type": "code",
        "colab": {
          "base_uri": "https://localhost:8080/",
          "height": 597
        },
        "outputId": "91364f26-b485-49a4-ee17-5dce83b79130"
      },
      "source": [
        "\n",
        "\n",
        "# Update plots\n",
        "ax.set_ylim(dataYLim)\n",
        "ax.set_title(u'El Niño sea temp.\\n All Fitted Distributions')\n",
        "ax.set_xlabel(u'Temp (°C)')\n",
        "ax.set_ylabel('Frequency')\n",
        "\n",
        "# Make PDF with best params \n",
        "pdf = make_pdf(best_dist, best_fit_params)\n",
        "\n",
        "# Display\n",
        "plt.figure(figsize=(12,8))\n",
        "ax = pdf.plot(lw=2, label='PDF', legend=True)\n",
        "data.plot(kind='hist', bins=50, normed=True, alpha=0.5, label='Data', legend=True, ax=ax)\n",
        "\n",
        "param_names = (best_dist.shapes + ', loc, scale').split(', ') if best_dist.shapes else ['loc', 'scale']\n",
        "param_str = ', '.join(['{}={:0.2f}'.format(k,v) for k,v in zip(param_names, best_fit_params)])\n",
        "dist_str = '{}({})'.format(best_fit_name, param_str)\n",
        "\n",
        "ax.set_title(u'Col2 with best fit distribution \\n' + dist_str)\n",
        "ax.set_xlabel(u'Values')\n",
        "ax.set_ylabel('Frequency')"
      ],
      "execution_count": 83,
      "outputs": [
        {
          "output_type": "stream",
          "text": [
            "/usr/local/lib/python3.6/dist-packages/pandas/plotting/_matplotlib/hist.py:62: MatplotlibDeprecationWarning: \n",
            "The 'normed' kwarg was deprecated in Matplotlib 2.1 and will be removed in 3.1. Use 'density' instead.\n",
            "  n, bins, patches = ax.hist(y, bins=bins, bottom=bottom, **kwds)\n"
          ],
          "name": "stderr"
        },
        {
          "output_type": "execute_result",
          "data": {
            "text/plain": [
              "Text(0, 0.5, 'Frequency')"
            ]
          },
          "metadata": {
            "tags": []
          },
          "execution_count": 83
        },
        {
          "output_type": "display_data",
          "data": {
            "image/png": "[encoded data removed]",
            "text/plain": [
              "<Figure size 864x576 with 1 Axes>"
            ]
          },
          "metadata": {
            "tags": []
          }
        }
      ]
    },
    {
      "cell_type": "markdown",
      "metadata": {
        "id": "WsKlUKz9fiEz",
        "colab_type": "text"
      },
      "source": [
        "##### We can gradually keep adding more and more distributions from the list called DISTRIBUTIONS above to find out which distributions provide a better fit and the number of distributions it is feasible for us to check within a reasonable amount of time.\n",
        "\n",
        "##### Out of the distributions we had currently, the Chi distribution seems to have fitted it the best.\n"
      ]
    },
    {
      "cell_type": "markdown",
      "metadata": {
        "id": "NW9R5LNoLFyu",
        "colab_type": "text"
      },
      "source": [
        "### **ROUGH WORK**"
      ]
    },
    {
      "cell_type": "code",
      "metadata": {
        "id": "xVxgmP8BLIYK",
        "colab_type": "code",
        "colab": {
          "base_uri": "https://localhost:8080/",
          "height": 33
        },
        "outputId": "3fb4888b-4e19-4999-f992-346d9fb43a3a"
      },
      "source": [
        "np.min(df_extracted[col2][outliers_ecdf(df_extracted['ecdf'])[0][0]])"
      ],
      "execution_count": 41,
      "outputs": [
        {
          "output_type": "execute_result",
          "data": {
            "text/plain": [
              "387151007327755.0"
            ]
          },
          "metadata": {
            "tags": []
          },
          "execution_count": 41
        }
      ]
    },
    {
      "cell_type": "code",
      "metadata": {
        "id": "YLNqgPJ4NqoG",
        "colab_type": "code",
        "colab": {
          "base_uri": "https://localhost:8080/",
          "height": 1000
        },
        "outputId": "ebdfcf64-f3bf-4b5f-dee5-6f6c019b37b3"
      },
      "source": [
        "sorted(df_extracted[col2][outliers_ecdf(df_extracted['ecdf'])[0][0]])"
      ],
      "execution_count": 45,
      "outputs": [
        {
          "output_type": "execute_result",
          "data": {
            "text/plain": [
              "[387151007327755.0,\n",
              " 387151008330758.0,\n",
              " 387151008609755.0,\n",
              " 387151010546755.0,\n",
              " 387151013254752.0,\n",
              " 387151017061758.0,\n",
              " 387151017330757.0,\n",
              " 387151021064755.0,\n",
              " 387151042250756.0,\n",
              " 387151043293771.0,\n",
              " 387151043408759.0,\n",
              " 387151044578758.0,\n",
              " 387151045400754.0,\n",
              " 387151045933754.0,\n",
              " 387151047098752.0,\n",
              " 387151047287753.0,\n",
              " 387151047809754.0,\n",
              " 387151049001756.0,\n",
              " 387151049329761.0,\n",
              " 387151051122755.0,\n",
              " 387151052594761.0,\n",
              " 387151053682756.0,\n",
              " 387151054895761.0,\n",
              " 387151055683752.0,\n",
              " 387151204221761.0,\n",
              " 387151268516757.0,\n",
              " 387151274214760.0,\n",
              " 387151706359752.0,\n",
              " 387151706803759.0,\n",
              " 387151706861757.0,\n",
              " 387151805557761.0,\n",
              " 387151811888770.0,\n",
              " 387151814823756.0,\n",
              " 387151816039757.0,\n",
              " 387151816200755.0,\n",
              " 387151816439759.0,\n",
              " 387151817109757.0,\n",
              " 387151817138756.0,\n",
              " 387151817193759.0,\n",
              " 387151817425757.0,\n",
              " 387151817505756.0,\n",
              " 387151817857761.0,\n",
              " 387151818104756.0,\n",
              " 387151818271754.0,\n",
              " 387151818492753.0,\n",
              " 387151818546759.0,\n",
              " 387151818546759.0,\n",
              " 387151818748761.0,\n",
              " 387151818824759.0,\n",
              " 387151818824759.0,\n",
              " 387151818824759.0,\n",
              " 387151818896756.0,\n",
              " 387151818896756.0,\n",
              " 387151818896756.0,\n",
              " 387151818905757.0,\n",
              " 387151818998760.0,\n",
              " 387151819000756.0,\n",
              " 387151819080758.0,\n",
              " 387151819080758.0,\n",
              " 387151819429757.0,\n",
              " 387151819429757.0,\n",
              " 387151819435754.0,\n",
              " 387151819493760.0]"
            ]
          },
          "metadata": {
            "tags": []
          },
          "execution_count": 45
        }
      ]
    },
    {
      "cell_type": "code",
      "metadata": {
        "id": "1xHgasQ3NxlB",
        "colab_type": "code",
        "colab": {
          "base_uri": "https://localhost:8080/",
          "height": 1000
        },
        "outputId": "68bb5ddb-8688-45b3-ce62-34045afce699"
      },
      "source": [
        "sorted(df_extracted[col2][outliers_ecdf(df_extracted['ecdf'])[1][0]])"
      ],
      "execution_count": 46,
      "outputs": [
        {
          "output_type": "stream",
          "text": [
            "/usr/local/lib/python3.6/dist-packages/pandas/core/series.py:1146: FutureWarning: \n",
            "Passing list-likes to .loc or [] with any missing label will raise\n",
            "KeyError in the future, you can use .reindex() as an alternative.\n",
            "\n",
            "See the documentation here:\n",
            "https://pandas.pydata.org/pandas-docs/stable/user_guide/indexing.html#deprecate-loc-reindex-listlike\n",
            "  return self.loc[key]\n"
          ],
          "name": "stderr"
        },
        {
          "output_type": "execute_result",
          "data": {
            "text/plain": [
              "[387151000454753.0,\n",
              " 387151000458755.0,\n",
              " 387151001731762.0,\n",
              " 387151003998763.0,\n",
              " 387151003998763.0,\n",
              " 387151004235961.0,\n",
              " 387151004362763.0,\n",
              " 387151005428771.0,\n",
              " 387151005428771.0,\n",
              " 387151005656759.0,\n",
              " 387151005656759.0,\n",
              " 387151005695755.0,\n",
              " 387151005703759.0,\n",
              " 387151005711752.0,\n",
              " 387151005711752.0,\n",
              " 387151005810752.0,\n",
              " 387151005810752.0,\n",
              " 387151005817757.0,\n",
              " 387151005924760.0,\n",
              " 387151005930758.0,\n",
              " 387151005938761.0,\n",
              " 387151005974755.0,\n",
              " 387151005974755.0,\n",
              " 387151005974755.0,\n",
              " 387151005974755.0,\n",
              " 387151005977759.0,\n",
              " 387151005992756.0,\n",
              " 387151005998753.0,\n",
              " 387151005998753.0,\n",
              " 387151006097753.0,\n",
              " 387151006185758.0,\n",
              " 387151006185758.0,\n",
              " 387151006211770.0,\n",
              " 387151006278761.0,\n",
              " 387151006301761.0,\n",
              " 387151006337755.0,\n",
              " 387151006443761.0,\n",
              " 387151006615754.0,\n",
              " 387151006630753.0,\n",
              " 387151006630753.0,\n",
              " 387151006644969.0,\n",
              " 387151006644969.0,\n",
              " 387151006644969.0,\n",
              " 387151006801760.0,\n",
              " 387151041662753.0,\n",
              " 387151047434760.0,\n",
              " 387151047623759.0,\n",
              " 387151048642758.0,\n",
              " 387151052978759.0,\n",
              " 387151053791753.0,\n",
              " 387151217473753.0,\n",
              " 387151248639752.0,\n",
              " 387151250005761.0,\n",
              " 387151266024753.0,\n",
              " 387151266664855.0,\n",
              " 387151275517756.0,\n",
              " 387151276961755.0,\n",
              " 387151809422754.0,\n",
              " 387151813569756.0,\n",
              " nan]"
            ]
          },
          "metadata": {
            "tags": []
          },
          "execution_count": 46
        }
      ]
    },
    {
      "cell_type": "code",
      "metadata": {
        "id": "ujspctx4Sb5x",
        "colab_type": "code",
        "colab": {
          "base_uri": "https://localhost:8080/",
          "height": 147
        },
        "outputId": "1135180a-0479-495e-dee8-f52fe386039d"
      },
      "source": [
        "set(df_extracted[col2][outliers_ecdf(df_extracted['ecdf'])[1][0]]).intersection(df_extracted[col2][outliers_ecdf(df_extracted['ecdf'])[0][0]])"
      ],
      "execution_count": 56,
      "outputs": [
        {
          "output_type": "stream",
          "text": [
            "/usr/local/lib/python3.6/dist-packages/pandas/core/series.py:1146: FutureWarning: \n",
            "Passing list-likes to .loc or [] with any missing label will raise\n",
            "KeyError in the future, you can use .reindex() as an alternative.\n",
            "\n",
            "See the documentation here:\n",
            "https://pandas.pydata.org/pandas-docs/stable/user_guide/indexing.html#deprecate-loc-reindex-listlike\n",
            "  return self.loc[key]\n"
          ],
          "name": "stderr"
        },
        {
          "output_type": "execute_result",
          "data": {
            "text/plain": [
              "set()"
            ]
          },
          "metadata": {
            "tags": []
          },
          "execution_count": 56
        }
      ]
    }
  ]
}
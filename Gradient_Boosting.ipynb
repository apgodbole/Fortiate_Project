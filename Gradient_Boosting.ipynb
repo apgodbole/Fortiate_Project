{
  "nbformat": 4,
  "nbformat_minor": 0,
  "metadata": {
    "colab": {
      "name": "Gradient_Boosting.ipynb",
      "provenance": [],
      "collapsed_sections": [],
      "toc_visible": true,
      "authorship_tag": "ABX9TyOGejZulqye1seX17nyYgjc",
      "include_colab_link": true
    },
    "kernelspec": {
      "name": "python3",
      "display_name": "Python 3"
    }
  },
  "cells": [
    {
      "cell_type": "markdown",
      "metadata": {
        "id": "view-in-github",
        "colab_type": "text"
      },
      "source": [
        "<a href=\"https://colab.research.google.com/github/trinade96/Fortiate_Project/blob/master/Gradient_Boosting.ipynb\" target=\"_parent\"><img src=\"https://colab.research.google.com/assets/colab-badge.svg\" alt=\"Open In Colab\"/></a>"
      ]
    },
    {
      "cell_type": "markdown",
      "metadata": {
        "id": "yvSMdrI7xd7V",
        "colab_type": "text"
      },
      "source": [
        "##### In this notebook we will be looking at Gradient Bossting which are closely related with AdaBoost (Ensemble method) and Random Forest, Decision Trees. So while going through this it would be good to keep these topics in mind.\n",
        "For understanding look at the following link: <br>\n",
        "https://www.displayr.com/gradient-boosting-the-coolest-kid-on-the-machine-learning-block/ <br>\n",
        "https://towardsdatascience.com/machine-learning-part-18-boosting-algorithms-gradient-boosting-in-python-ef5ae6965be4"
      ]
    },
    {
      "cell_type": "code",
      "metadata": {
        "id": "XedG1_PK2qms",
        "colab_type": "code",
        "colab": {
          "base_uri": "https://localhost:8080/",
          "height": 121
        },
        "outputId": "5a56e6f2-dfd9-4b7a-b2f5-9703f6d71ce5"
      },
      "source": [
        "!pip install imblearn"
      ],
      "execution_count": 72,
      "outputs": [
        {
          "output_type": "stream",
          "text": [
            "Requirement already satisfied: imblearn in /usr/local/lib/python3.6/dist-packages (0.0)\n",
            "Requirement already satisfied: imbalanced-learn in /usr/local/lib/python3.6/dist-packages (from imblearn) (0.4.3)\n",
            "Requirement already satisfied: scipy>=0.13.3 in /usr/local/lib/python3.6/dist-packages (from imbalanced-learn->imblearn) (1.4.1)\n",
            "Requirement already satisfied: numpy>=1.8.2 in /usr/local/lib/python3.6/dist-packages (from imbalanced-learn->imblearn) (1.18.5)\n",
            "Requirement already satisfied: scikit-learn>=0.20 in /usr/local/lib/python3.6/dist-packages (from imbalanced-learn->imblearn) (0.22.2.post1)\n",
            "Requirement already satisfied: joblib>=0.11 in /usr/local/lib/python3.6/dist-packages (from scikit-learn>=0.20->imbalanced-learn->imblearn) (0.15.1)\n"
          ],
          "name": "stdout"
        }
      ]
    },
    {
      "cell_type": "markdown",
      "metadata": {
        "id": "2-Ay6bopyEV5",
        "colab_type": "text"
      },
      "source": [
        "##### **Packages Used**"
      ]
    },
    {
      "cell_type": "code",
      "metadata": {
        "id": "bW_blEANxaYc",
        "colab_type": "code",
        "colab": {}
      },
      "source": [
        "from sklearn.ensemble import GradientBoostingRegressor, GradientBoostingClassifier\n",
        "import numpy as np\n",
        "import pandas as pd\n",
        "from sklearn import preprocessing\n",
        "from sklearn.model_selection import train_test_split\n",
        "from sklearn import metrics\n",
        "from sklearn.metrics import mean_squared_error, classification_report, confusion_matrix, mean_absolute_error\n",
        "from sklearn.datasets import load_boston\n",
        "from pandas.api.types import is_float_dtype\n",
        "from sklearn.preprocessing import MinMaxScaler\n",
        "from xgboost import XGBClassifier\n",
        "import imblearn\n",
        "from imblearn.over_sampling import RandomOverSampler\n",
        "import seaborn as sns\n",
        "import matplotlib.pyplot as plt\n",
        "import itertools"
      ],
      "execution_count": 73,
      "outputs": []
    },
    {
      "cell_type": "markdown",
      "metadata": {
        "id": "OIGXZsWqylBa",
        "colab_type": "text"
      },
      "source": [
        "##### **Reading the Data**"
      ]
    },
    {
      "cell_type": "code",
      "metadata": {
        "id": "ATPBi835yo-S",
        "colab_type": "code",
        "colab": {
          "base_uri": "https://localhost:8080/",
          "height": 52
        },
        "outputId": "f77ac33c-9855-43a7-e334-539db00891cf"
      },
      "source": [
        "from google.colab import drive\n",
        "drive.mount('/gdrive')\n",
        "%cd /gdrive"
      ],
      "execution_count": 2,
      "outputs": [
        {
          "output_type": "stream",
          "text": [
            "Drive already mounted at /gdrive; to attempt to forcibly remount, call drive.mount(\"/gdrive\", force_remount=True).\n",
            "/gdrive\n"
          ],
          "name": "stdout"
        }
      ]
    },
    {
      "cell_type": "code",
      "metadata": {
        "id": "nE0nvA6bypBW",
        "colab_type": "code",
        "colab": {
          "base_uri": "https://localhost:8080/",
          "height": 313
        },
        "outputId": "d6de031b-864f-4b92-9d58-6fef271e0e03"
      },
      "source": [
        "data = pd.read_excel('/gdrive/My Drive/Random-Forest-Rules-Final-Rearranged-mindmap.xlsx')\n",
        "data.head()"
      ],
      "execution_count": 3,
      "outputs": [
        {
          "output_type": "execute_result",
          "data": {
            "text/html": [
              "<div>\n",
              "<style scoped>\n",
              "    .dataframe tbody tr th:only-of-type {\n",
              "        vertical-align: middle;\n",
              "    }\n",
              "\n",
              "    .dataframe tbody tr th {\n",
              "        vertical-align: top;\n",
              "    }\n",
              "\n",
              "    .dataframe thead th {\n",
              "        text-align: right;\n",
              "    }\n",
              "</style>\n",
              "<table border=\"1\" class=\"dataframe\">\n",
              "  <thead>\n",
              "    <tr style=\"text-align: right;\">\n",
              "      <th></th>\n",
              "      <th>TRANSACTION_CURRENCY</th>\n",
              "      <th>PD4</th>\n",
              "      <th>PD11</th>\n",
              "      <th>PROC_CODE_12</th>\n",
              "      <th>PD8</th>\n",
              "      <th>MCC</th>\n",
              "      <th>POS_ENTRY_MODE</th>\n",
              "      <th>SERVICE_CODE</th>\n",
              "      <th>BILLING_AMOUNT</th>\n",
              "      <th>TRANSACTION_LOCAL_DATE</th>\n",
              "      <th>TRANSMISSION_DATE_TIME</th>\n",
              "      <th>RESPONSE_DATE_TIME</th>\n",
              "      <th>PAN</th>\n",
              "      <th>VALID_FROM</th>\n",
              "      <th>EXPIRY_DATE</th>\n",
              "      <th>PROC_CODE_34</th>\n",
              "      <th>PROC_CODE_56</th>\n",
              "      <th>PD1</th>\n",
              "      <th>PD2</th>\n",
              "      <th>PD3</th>\n",
              "      <th>PD5</th>\n",
              "      <th>PD6</th>\n",
              "      <th>PD7</th>\n",
              "      <th>PD9</th>\n",
              "      <th>PD10</th>\n",
              "      <th>PD12</th>\n",
              "      <th>TRANSACTION_AMOUNT</th>\n",
              "      <th>BILLING_CURRENCY</th>\n",
              "      <th>CONVERSION_RATE_DATE</th>\n",
              "      <th>SETTLEMENT_AMOUNT</th>\n",
              "      <th>SETTLEMENT_CURRENCY</th>\n",
              "      <th>SETTLEMENT_DATE</th>\n",
              "      <th>ACQUIRING_COUNTRY_CODE</th>\n",
              "      <th>CARD_ACCEPTOR_TERM_ID</th>\n",
              "      <th>CARD_ACCEPTOR_ID</th>\n",
              "      <th>CARD_ACC_NAME_ADDRESS</th>\n",
              "      <th>AUTHORIZATION_CODE</th>\n",
              "      <th>DECISION</th>\n",
              "      <th>TARGET</th>\n",
              "      <th>C_100</th>\n",
              "      <th>C_40</th>\n",
              "      <th>C_20</th>\n",
              "      <th>ECOM_INFO</th>\n",
              "      <th>E_COM_INDICATOR</th>\n",
              "    </tr>\n",
              "  </thead>\n",
              "  <tbody>\n",
              "    <tr>\n",
              "      <th>0</th>\n",
              "      <td>CURR356</td>\n",
              "      <td>ATC9</td>\n",
              "      <td>TOC1</td>\n",
              "      <td>TC00</td>\n",
              "      <td>TVI0</td>\n",
              "      <td>MCC7399</td>\n",
              "      <td>NNN</td>\n",
              "      <td>UNK</td>\n",
              "      <td>147.84</td>\n",
              "      <td>21-MAR-18 11.33.24</td>\n",
              "      <td>21-MAR-18 11.33.24</td>\n",
              "      <td>21-MAR-18 11.33.24</td>\n",
              "      <td>A1586941252148110</td>\n",
              "      <td>21-AUG-17 17.10.11</td>\n",
              "      <td>01-APR-20 00.00.00</td>\n",
              "      <td>FR40</td>\n",
              "      <td>TO00</td>\n",
              "      <td>CRC1</td>\n",
              "      <td>CVC0</td>\n",
              "      <td>CCC0</td>\n",
              "      <td>PPI4</td>\n",
              "      <td>CPI0</td>\n",
              "      <td>TCR2</td>\n",
              "      <td>TCV0</td>\n",
              "      <td>TWC0</td>\n",
              "      <td>PEI0</td>\n",
              "      <td>147.84</td>\n",
              "      <td>CURR356</td>\n",
              "      <td>000</td>\n",
              "      <td>145.22</td>\n",
              "      <td>CURR356</td>\n",
              "      <td>22-MAR-18 00.00.00</td>\n",
              "      <td>CON356</td>\n",
              "      <td>6R00G052</td>\n",
              "      <td>9826826968</td>\n",
              "      <td>BOOK MY SHOW\\\\\\400049\\\\</td>\n",
              "      <td>800204</td>\n",
              "      <td>RESULT000</td>\n",
              "      <td>0</td>\n",
              "      <td>AMI</td>\n",
              "      <td>ACS</td>\n",
              "      <td>T0784</td>\n",
              "      <td>AXASK05AEVV</td>\n",
              "      <td>ECI05</td>\n",
              "    </tr>\n",
              "    <tr>\n",
              "      <th>1</th>\n",
              "      <td>CURR356</td>\n",
              "      <td>ATC9</td>\n",
              "      <td>TOC1</td>\n",
              "      <td>TC00</td>\n",
              "      <td>TVI0</td>\n",
              "      <td>MCC4814</td>\n",
              "      <td>NNN</td>\n",
              "      <td>UNK</td>\n",
              "      <td>399.00</td>\n",
              "      <td>21-MAR-18 11.34.15</td>\n",
              "      <td>21-MAR-18 11.34.15</td>\n",
              "      <td>21-MAR-18 11.34.15</td>\n",
              "      <td>A1586941241334010</td>\n",
              "      <td>06-APR-16 20.19.15</td>\n",
              "      <td>01-APR-20 00.00.00</td>\n",
              "      <td>FR40</td>\n",
              "      <td>TO00</td>\n",
              "      <td>CRC1</td>\n",
              "      <td>CVC0</td>\n",
              "      <td>CCC0</td>\n",
              "      <td>PPI4</td>\n",
              "      <td>CPI0</td>\n",
              "      <td>TCR2</td>\n",
              "      <td>TCV0</td>\n",
              "      <td>TWC0</td>\n",
              "      <td>PEI0</td>\n",
              "      <td>399.00</td>\n",
              "      <td>CURR356</td>\n",
              "      <td>000</td>\n",
              "      <td>391.94</td>\n",
              "      <td>CURR356</td>\n",
              "      <td>22-MAR-18 00.00.00</td>\n",
              "      <td>CON356</td>\n",
              "      <td>6R00G052</td>\n",
              "      <td>9822047692</td>\n",
              "      <td>PAYTM RETAIL -PG-ONLINE \\\\NOIDA\\201301\\</td>\n",
              "      <td>300255</td>\n",
              "      <td>RESULT000</td>\n",
              "      <td>0</td>\n",
              "      <td>AMI</td>\n",
              "      <td>ACS</td>\n",
              "      <td>T0797</td>\n",
              "      <td>AXASK05AEVV</td>\n",
              "      <td>ECI05</td>\n",
              "    </tr>\n",
              "    <tr>\n",
              "      <th>2</th>\n",
              "      <td>CURR356</td>\n",
              "      <td>ATC9</td>\n",
              "      <td>TOC1</td>\n",
              "      <td>TC00</td>\n",
              "      <td>TVI0</td>\n",
              "      <td>MCC7399</td>\n",
              "      <td>NNN</td>\n",
              "      <td>UNK</td>\n",
              "      <td>247.20</td>\n",
              "      <td>21-MAR-18 11.36.47</td>\n",
              "      <td>21-MAR-18 11.36.47</td>\n",
              "      <td>21-MAR-18 11.36.48</td>\n",
              "      <td>A1586941049519010</td>\n",
              "      <td>03-APR-18 14.19.03</td>\n",
              "      <td>01-APR-23 00.00.00</td>\n",
              "      <td>FR40</td>\n",
              "      <td>TO00</td>\n",
              "      <td>CRC1</td>\n",
              "      <td>CVC0</td>\n",
              "      <td>CCC0</td>\n",
              "      <td>PPI4</td>\n",
              "      <td>CPI0</td>\n",
              "      <td>TCR2</td>\n",
              "      <td>TCV0</td>\n",
              "      <td>TWC0</td>\n",
              "      <td>PEI0</td>\n",
              "      <td>247.20</td>\n",
              "      <td>CURR356</td>\n",
              "      <td>000</td>\n",
              "      <td>242.82</td>\n",
              "      <td>CURR356</td>\n",
              "      <td>22-MAR-18 00.00.00</td>\n",
              "      <td>CON356</td>\n",
              "      <td>6R00G052</td>\n",
              "      <td>9826826968</td>\n",
              "      <td>BOOK MY SHOW\\\\\\400049\\\\</td>\n",
              "      <td>700408</td>\n",
              "      <td>RESULT000</td>\n",
              "      <td>0</td>\n",
              "      <td>AMI</td>\n",
              "      <td>ACS</td>\n",
              "      <td>T0537</td>\n",
              "      <td>AXASK05AEVV</td>\n",
              "      <td>ECI05</td>\n",
              "    </tr>\n",
              "    <tr>\n",
              "      <th>3</th>\n",
              "      <td>CURR356</td>\n",
              "      <td>ATC9</td>\n",
              "      <td>TOC1</td>\n",
              "      <td>TC00</td>\n",
              "      <td>TVI0</td>\n",
              "      <td>MCC7399</td>\n",
              "      <td>NNN</td>\n",
              "      <td>UNK</td>\n",
              "      <td>359.00</td>\n",
              "      <td>21-MAR-18 11.39.44</td>\n",
              "      <td>21-MAR-18 11.39.44</td>\n",
              "      <td>21-MAR-18 11.39.44</td>\n",
              "      <td>A1586941050671000</td>\n",
              "      <td>20-APR-18 19.43.48</td>\n",
              "      <td>01-APR-23 00.00.00</td>\n",
              "      <td>FR40</td>\n",
              "      <td>TO00</td>\n",
              "      <td>CRC1</td>\n",
              "      <td>CVC0</td>\n",
              "      <td>CCC0</td>\n",
              "      <td>PPI4</td>\n",
              "      <td>CPI0</td>\n",
              "      <td>TCR2</td>\n",
              "      <td>TCV0</td>\n",
              "      <td>TWC0</td>\n",
              "      <td>PEI0</td>\n",
              "      <td>359.00</td>\n",
              "      <td>CURR356</td>\n",
              "      <td>000</td>\n",
              "      <td>352.65</td>\n",
              "      <td>CURR356</td>\n",
              "      <td>22-MAR-18 00.00.00</td>\n",
              "      <td>CON356</td>\n",
              "      <td>6R00G052</td>\n",
              "      <td>9826826968</td>\n",
              "      <td>BOOK MY SHOW\\\\\\400049\\\\</td>\n",
              "      <td>700585</td>\n",
              "      <td>RESULT000</td>\n",
              "      <td>0</td>\n",
              "      <td>AMI</td>\n",
              "      <td>ACS</td>\n",
              "      <td>T0796</td>\n",
              "      <td>AXASK05AEVV</td>\n",
              "      <td>ECI05</td>\n",
              "    </tr>\n",
              "    <tr>\n",
              "      <th>4</th>\n",
              "      <td>CURR356</td>\n",
              "      <td>ATC9</td>\n",
              "      <td>TOC1</td>\n",
              "      <td>TC00</td>\n",
              "      <td>TVI0</td>\n",
              "      <td>MCC5999</td>\n",
              "      <td>NNN</td>\n",
              "      <td>UNK</td>\n",
              "      <td>188.00</td>\n",
              "      <td>21-MAR-18 11.43.08</td>\n",
              "      <td>21-MAR-18 11.43.08</td>\n",
              "      <td>21-MAR-18 11.43.08</td>\n",
              "      <td>A1586941257961010</td>\n",
              "      <td>30-APR-16 20.49.02</td>\n",
              "      <td>01-APR-20 00.00.00</td>\n",
              "      <td>FR40</td>\n",
              "      <td>TO00</td>\n",
              "      <td>CRC1</td>\n",
              "      <td>CVC0</td>\n",
              "      <td>CCC0</td>\n",
              "      <td>PPI4</td>\n",
              "      <td>CPI0</td>\n",
              "      <td>TCR2</td>\n",
              "      <td>TCV0</td>\n",
              "      <td>TWC0</td>\n",
              "      <td>PEI0</td>\n",
              "      <td>188.00</td>\n",
              "      <td>CURR356</td>\n",
              "      <td>000</td>\n",
              "      <td>183.81</td>\n",
              "      <td>CURR356</td>\n",
              "      <td>22-MAR-18 00.00.00</td>\n",
              "      <td>CON356</td>\n",
              "      <td>6R00G052</td>\n",
              "      <td>9820524155</td>\n",
              "      <td>PAYTM.COM WALLET PG \\\\NOIDA\\201310\\\\</td>\n",
              "      <td>400788</td>\n",
              "      <td>RESULT000</td>\n",
              "      <td>0</td>\n",
              "      <td>AMI</td>\n",
              "      <td>ACS</td>\n",
              "      <td>T0784</td>\n",
              "      <td>AXASK05AEVV</td>\n",
              "      <td>ECI05</td>\n",
              "    </tr>\n",
              "  </tbody>\n",
              "</table>\n",
              "</div>"
            ],
            "text/plain": [
              "  TRANSACTION_CURRENCY   PD4  PD11  ...   C_20    ECOM_INFO E_COM_INDICATOR\n",
              "0              CURR356  ATC9  TOC1  ...  T0784  AXASK05AEVV           ECI05\n",
              "1              CURR356  ATC9  TOC1  ...  T0797  AXASK05AEVV           ECI05\n",
              "2              CURR356  ATC9  TOC1  ...  T0537  AXASK05AEVV           ECI05\n",
              "3              CURR356  ATC9  TOC1  ...  T0796  AXASK05AEVV           ECI05\n",
              "4              CURR356  ATC9  TOC1  ...  T0784  AXASK05AEVV           ECI05\n",
              "\n",
              "[5 rows x 44 columns]"
            ]
          },
          "metadata": {
            "tags": []
          },
          "execution_count": 3
        }
      ]
    },
    {
      "cell_type": "code",
      "metadata": {
        "id": "gfUyJgUCdwPK",
        "colab_type": "code",
        "colab": {
          "base_uri": "https://localhost:8080/",
          "height": 34
        },
        "outputId": "73d34eb8-1e64-44c6-ba12-d25a47037e05"
      },
      "source": [
        "data.shape"
      ],
      "execution_count": 4,
      "outputs": [
        {
          "output_type": "execute_result",
          "data": {
            "text/plain": [
              "(105271, 44)"
            ]
          },
          "metadata": {
            "tags": []
          },
          "execution_count": 4
        }
      ]
    },
    {
      "cell_type": "markdown",
      "metadata": {
        "id": "GX6BGk-0oGjM",
        "colab_type": "text"
      },
      "source": [
        "##### **Encoding the data**"
      ]
    },
    {
      "cell_type": "markdown",
      "metadata": {
        "id": "jD6LUEkXC5vr",
        "colab_type": "text"
      },
      "source": [
        "##### We will be treating the data a little differently here, not removing the NaNs but keeping them as a different category so it can be passed to the classifier so we don't loose too data"
      ]
    },
    {
      "cell_type": "code",
      "metadata": {
        "id": "PmTVoV0N_mHv",
        "colab_type": "code",
        "colab": {
          "base_uri": "https://localhost:8080/",
          "height": 781
        },
        "outputId": "1eacb75a-b224-4a85-b613-fa694700ece2"
      },
      "source": [
        "for col in data.keys():\n",
        "  data[col] = data[col].fillna(str(col))\n",
        "  print(data[col].isnull().sum())"
      ],
      "execution_count": 5,
      "outputs": [
        {
          "output_type": "stream",
          "text": [
            "0\n",
            "0\n",
            "0\n",
            "0\n",
            "0\n",
            "0\n",
            "0\n",
            "0\n",
            "0\n",
            "0\n",
            "0\n",
            "0\n",
            "0\n",
            "0\n",
            "0\n",
            "0\n",
            "0\n",
            "0\n",
            "0\n",
            "0\n",
            "0\n",
            "0\n",
            "0\n",
            "0\n",
            "0\n",
            "0\n",
            "0\n",
            "0\n",
            "0\n",
            "0\n",
            "0\n",
            "0\n",
            "0\n",
            "0\n",
            "0\n",
            "0\n",
            "0\n",
            "0\n",
            "0\n",
            "0\n",
            "0\n",
            "0\n",
            "0\n",
            "0\n"
          ],
          "name": "stdout"
        }
      ]
    },
    {
      "cell_type": "code",
      "metadata": {
        "id": "d3gqOsKeE3Rd",
        "colab_type": "code",
        "colab": {
          "base_uri": "https://localhost:8080/",
          "height": 34
        },
        "outputId": "be3aa1ce-7361-45e9-f33c-b829312b3f03"
      },
      "source": [
        "data.dropna(axis=0)\n",
        "data.shape"
      ],
      "execution_count": 6,
      "outputs": [
        {
          "output_type": "execute_result",
          "data": {
            "text/plain": [
              "(105271, 44)"
            ]
          },
          "metadata": {
            "tags": []
          },
          "execution_count": 6
        }
      ]
    },
    {
      "cell_type": "markdown",
      "metadata": {
        "id": "nV6JCW_yFLF_",
        "colab_type": "text"
      },
      "source": [
        "##### Now we will move onto to removing the index like columns and then encoding the dataset to be passed on to the classifier."
      ]
    },
    {
      "cell_type": "markdown",
      "metadata": {
        "id": "1kd5m5v_9oWo",
        "colab_type": "text"
      },
      "source": [
        "##### **Function to remove columns which are a list on distinct values for eg. the index**"
      ]
    },
    {
      "cell_type": "code",
      "metadata": {
        "id": "1NNJZgy29m3K",
        "colab_type": "code",
        "colab": {}
      },
      "source": [
        "def remove_index_like(df):\n",
        "  df_new = df.copy()\n",
        "  indices = []\n",
        "  for i in df_new.columns:\n",
        "    if len(df[i]) == len(set(df[i])):\n",
        "      indices.append(i)\n",
        "  df_new = df_new.drop(indices,1)\n",
        "  return df_new"
      ],
      "execution_count": 7,
      "outputs": []
    },
    {
      "cell_type": "code",
      "metadata": {
        "id": "G8eozlJU-63N",
        "colab_type": "code",
        "colab": {}
      },
      "source": [
        "data_dt = remove_index_like(data)"
      ],
      "execution_count": 8,
      "outputs": []
    },
    {
      "cell_type": "code",
      "metadata": {
        "id": "TcTCXANb_DYI",
        "colab_type": "code",
        "colab": {
          "base_uri": "https://localhost:8080/",
          "height": 34
        },
        "outputId": "ca20d6a5-6af0-4042-fd50-a864667b5706"
      },
      "source": [
        "data_dt.shape"
      ],
      "execution_count": 9,
      "outputs": [
        {
          "output_type": "execute_result",
          "data": {
            "text/plain": [
              "(105271, 44)"
            ]
          },
          "metadata": {
            "tags": []
          },
          "execution_count": 9
        }
      ]
    },
    {
      "cell_type": "code",
      "metadata": {
        "id": "M4IPiosffuGB",
        "colab_type": "code",
        "colab": {
          "base_uri": "https://localhost:8080/",
          "height": 313
        },
        "outputId": "eaadab58-f02f-4365-c0ed-6453c3ef0de5"
      },
      "source": [
        "data_dt.head()"
      ],
      "execution_count": 10,
      "outputs": [
        {
          "output_type": "execute_result",
          "data": {
            "text/html": [
              "<div>\n",
              "<style scoped>\n",
              "    .dataframe tbody tr th:only-of-type {\n",
              "        vertical-align: middle;\n",
              "    }\n",
              "\n",
              "    .dataframe tbody tr th {\n",
              "        vertical-align: top;\n",
              "    }\n",
              "\n",
              "    .dataframe thead th {\n",
              "        text-align: right;\n",
              "    }\n",
              "</style>\n",
              "<table border=\"1\" class=\"dataframe\">\n",
              "  <thead>\n",
              "    <tr style=\"text-align: right;\">\n",
              "      <th></th>\n",
              "      <th>TRANSACTION_CURRENCY</th>\n",
              "      <th>PD4</th>\n",
              "      <th>PD11</th>\n",
              "      <th>PROC_CODE_12</th>\n",
              "      <th>PD8</th>\n",
              "      <th>MCC</th>\n",
              "      <th>POS_ENTRY_MODE</th>\n",
              "      <th>SERVICE_CODE</th>\n",
              "      <th>BILLING_AMOUNT</th>\n",
              "      <th>TRANSACTION_LOCAL_DATE</th>\n",
              "      <th>TRANSMISSION_DATE_TIME</th>\n",
              "      <th>RESPONSE_DATE_TIME</th>\n",
              "      <th>PAN</th>\n",
              "      <th>VALID_FROM</th>\n",
              "      <th>EXPIRY_DATE</th>\n",
              "      <th>PROC_CODE_34</th>\n",
              "      <th>PROC_CODE_56</th>\n",
              "      <th>PD1</th>\n",
              "      <th>PD2</th>\n",
              "      <th>PD3</th>\n",
              "      <th>PD5</th>\n",
              "      <th>PD6</th>\n",
              "      <th>PD7</th>\n",
              "      <th>PD9</th>\n",
              "      <th>PD10</th>\n",
              "      <th>PD12</th>\n",
              "      <th>TRANSACTION_AMOUNT</th>\n",
              "      <th>BILLING_CURRENCY</th>\n",
              "      <th>CONVERSION_RATE_DATE</th>\n",
              "      <th>SETTLEMENT_AMOUNT</th>\n",
              "      <th>SETTLEMENT_CURRENCY</th>\n",
              "      <th>SETTLEMENT_DATE</th>\n",
              "      <th>ACQUIRING_COUNTRY_CODE</th>\n",
              "      <th>CARD_ACCEPTOR_TERM_ID</th>\n",
              "      <th>CARD_ACCEPTOR_ID</th>\n",
              "      <th>CARD_ACC_NAME_ADDRESS</th>\n",
              "      <th>AUTHORIZATION_CODE</th>\n",
              "      <th>DECISION</th>\n",
              "      <th>TARGET</th>\n",
              "      <th>C_100</th>\n",
              "      <th>C_40</th>\n",
              "      <th>C_20</th>\n",
              "      <th>ECOM_INFO</th>\n",
              "      <th>E_COM_INDICATOR</th>\n",
              "    </tr>\n",
              "  </thead>\n",
              "  <tbody>\n",
              "    <tr>\n",
              "      <th>0</th>\n",
              "      <td>CURR356</td>\n",
              "      <td>ATC9</td>\n",
              "      <td>TOC1</td>\n",
              "      <td>TC00</td>\n",
              "      <td>TVI0</td>\n",
              "      <td>MCC7399</td>\n",
              "      <td>NNN</td>\n",
              "      <td>UNK</td>\n",
              "      <td>147.84</td>\n",
              "      <td>21-MAR-18 11.33.24</td>\n",
              "      <td>21-MAR-18 11.33.24</td>\n",
              "      <td>21-MAR-18 11.33.24</td>\n",
              "      <td>A1586941252148110</td>\n",
              "      <td>21-AUG-17 17.10.11</td>\n",
              "      <td>01-APR-20 00.00.00</td>\n",
              "      <td>FR40</td>\n",
              "      <td>TO00</td>\n",
              "      <td>CRC1</td>\n",
              "      <td>CVC0</td>\n",
              "      <td>CCC0</td>\n",
              "      <td>PPI4</td>\n",
              "      <td>CPI0</td>\n",
              "      <td>TCR2</td>\n",
              "      <td>TCV0</td>\n",
              "      <td>TWC0</td>\n",
              "      <td>PEI0</td>\n",
              "      <td>147.84</td>\n",
              "      <td>CURR356</td>\n",
              "      <td>000</td>\n",
              "      <td>145.22</td>\n",
              "      <td>CURR356</td>\n",
              "      <td>22-MAR-18 00.00.00</td>\n",
              "      <td>CON356</td>\n",
              "      <td>6R00G052</td>\n",
              "      <td>9826826968</td>\n",
              "      <td>BOOK MY SHOW\\\\\\400049\\\\</td>\n",
              "      <td>800204</td>\n",
              "      <td>RESULT000</td>\n",
              "      <td>0</td>\n",
              "      <td>AMI</td>\n",
              "      <td>ACS</td>\n",
              "      <td>T0784</td>\n",
              "      <td>AXASK05AEVV</td>\n",
              "      <td>ECI05</td>\n",
              "    </tr>\n",
              "    <tr>\n",
              "      <th>1</th>\n",
              "      <td>CURR356</td>\n",
              "      <td>ATC9</td>\n",
              "      <td>TOC1</td>\n",
              "      <td>TC00</td>\n",
              "      <td>TVI0</td>\n",
              "      <td>MCC4814</td>\n",
              "      <td>NNN</td>\n",
              "      <td>UNK</td>\n",
              "      <td>399.00</td>\n",
              "      <td>21-MAR-18 11.34.15</td>\n",
              "      <td>21-MAR-18 11.34.15</td>\n",
              "      <td>21-MAR-18 11.34.15</td>\n",
              "      <td>A1586941241334010</td>\n",
              "      <td>06-APR-16 20.19.15</td>\n",
              "      <td>01-APR-20 00.00.00</td>\n",
              "      <td>FR40</td>\n",
              "      <td>TO00</td>\n",
              "      <td>CRC1</td>\n",
              "      <td>CVC0</td>\n",
              "      <td>CCC0</td>\n",
              "      <td>PPI4</td>\n",
              "      <td>CPI0</td>\n",
              "      <td>TCR2</td>\n",
              "      <td>TCV0</td>\n",
              "      <td>TWC0</td>\n",
              "      <td>PEI0</td>\n",
              "      <td>399.00</td>\n",
              "      <td>CURR356</td>\n",
              "      <td>000</td>\n",
              "      <td>391.94</td>\n",
              "      <td>CURR356</td>\n",
              "      <td>22-MAR-18 00.00.00</td>\n",
              "      <td>CON356</td>\n",
              "      <td>6R00G052</td>\n",
              "      <td>9822047692</td>\n",
              "      <td>PAYTM RETAIL -PG-ONLINE \\\\NOIDA\\201301\\</td>\n",
              "      <td>300255</td>\n",
              "      <td>RESULT000</td>\n",
              "      <td>0</td>\n",
              "      <td>AMI</td>\n",
              "      <td>ACS</td>\n",
              "      <td>T0797</td>\n",
              "      <td>AXASK05AEVV</td>\n",
              "      <td>ECI05</td>\n",
              "    </tr>\n",
              "    <tr>\n",
              "      <th>2</th>\n",
              "      <td>CURR356</td>\n",
              "      <td>ATC9</td>\n",
              "      <td>TOC1</td>\n",
              "      <td>TC00</td>\n",
              "      <td>TVI0</td>\n",
              "      <td>MCC7399</td>\n",
              "      <td>NNN</td>\n",
              "      <td>UNK</td>\n",
              "      <td>247.20</td>\n",
              "      <td>21-MAR-18 11.36.47</td>\n",
              "      <td>21-MAR-18 11.36.47</td>\n",
              "      <td>21-MAR-18 11.36.48</td>\n",
              "      <td>A1586941049519010</td>\n",
              "      <td>03-APR-18 14.19.03</td>\n",
              "      <td>01-APR-23 00.00.00</td>\n",
              "      <td>FR40</td>\n",
              "      <td>TO00</td>\n",
              "      <td>CRC1</td>\n",
              "      <td>CVC0</td>\n",
              "      <td>CCC0</td>\n",
              "      <td>PPI4</td>\n",
              "      <td>CPI0</td>\n",
              "      <td>TCR2</td>\n",
              "      <td>TCV0</td>\n",
              "      <td>TWC0</td>\n",
              "      <td>PEI0</td>\n",
              "      <td>247.20</td>\n",
              "      <td>CURR356</td>\n",
              "      <td>000</td>\n",
              "      <td>242.82</td>\n",
              "      <td>CURR356</td>\n",
              "      <td>22-MAR-18 00.00.00</td>\n",
              "      <td>CON356</td>\n",
              "      <td>6R00G052</td>\n",
              "      <td>9826826968</td>\n",
              "      <td>BOOK MY SHOW\\\\\\400049\\\\</td>\n",
              "      <td>700408</td>\n",
              "      <td>RESULT000</td>\n",
              "      <td>0</td>\n",
              "      <td>AMI</td>\n",
              "      <td>ACS</td>\n",
              "      <td>T0537</td>\n",
              "      <td>AXASK05AEVV</td>\n",
              "      <td>ECI05</td>\n",
              "    </tr>\n",
              "    <tr>\n",
              "      <th>3</th>\n",
              "      <td>CURR356</td>\n",
              "      <td>ATC9</td>\n",
              "      <td>TOC1</td>\n",
              "      <td>TC00</td>\n",
              "      <td>TVI0</td>\n",
              "      <td>MCC7399</td>\n",
              "      <td>NNN</td>\n",
              "      <td>UNK</td>\n",
              "      <td>359.00</td>\n",
              "      <td>21-MAR-18 11.39.44</td>\n",
              "      <td>21-MAR-18 11.39.44</td>\n",
              "      <td>21-MAR-18 11.39.44</td>\n",
              "      <td>A1586941050671000</td>\n",
              "      <td>20-APR-18 19.43.48</td>\n",
              "      <td>01-APR-23 00.00.00</td>\n",
              "      <td>FR40</td>\n",
              "      <td>TO00</td>\n",
              "      <td>CRC1</td>\n",
              "      <td>CVC0</td>\n",
              "      <td>CCC0</td>\n",
              "      <td>PPI4</td>\n",
              "      <td>CPI0</td>\n",
              "      <td>TCR2</td>\n",
              "      <td>TCV0</td>\n",
              "      <td>TWC0</td>\n",
              "      <td>PEI0</td>\n",
              "      <td>359.00</td>\n",
              "      <td>CURR356</td>\n",
              "      <td>000</td>\n",
              "      <td>352.65</td>\n",
              "      <td>CURR356</td>\n",
              "      <td>22-MAR-18 00.00.00</td>\n",
              "      <td>CON356</td>\n",
              "      <td>6R00G052</td>\n",
              "      <td>9826826968</td>\n",
              "      <td>BOOK MY SHOW\\\\\\400049\\\\</td>\n",
              "      <td>700585</td>\n",
              "      <td>RESULT000</td>\n",
              "      <td>0</td>\n",
              "      <td>AMI</td>\n",
              "      <td>ACS</td>\n",
              "      <td>T0796</td>\n",
              "      <td>AXASK05AEVV</td>\n",
              "      <td>ECI05</td>\n",
              "    </tr>\n",
              "    <tr>\n",
              "      <th>4</th>\n",
              "      <td>CURR356</td>\n",
              "      <td>ATC9</td>\n",
              "      <td>TOC1</td>\n",
              "      <td>TC00</td>\n",
              "      <td>TVI0</td>\n",
              "      <td>MCC5999</td>\n",
              "      <td>NNN</td>\n",
              "      <td>UNK</td>\n",
              "      <td>188.00</td>\n",
              "      <td>21-MAR-18 11.43.08</td>\n",
              "      <td>21-MAR-18 11.43.08</td>\n",
              "      <td>21-MAR-18 11.43.08</td>\n",
              "      <td>A1586941257961010</td>\n",
              "      <td>30-APR-16 20.49.02</td>\n",
              "      <td>01-APR-20 00.00.00</td>\n",
              "      <td>FR40</td>\n",
              "      <td>TO00</td>\n",
              "      <td>CRC1</td>\n",
              "      <td>CVC0</td>\n",
              "      <td>CCC0</td>\n",
              "      <td>PPI4</td>\n",
              "      <td>CPI0</td>\n",
              "      <td>TCR2</td>\n",
              "      <td>TCV0</td>\n",
              "      <td>TWC0</td>\n",
              "      <td>PEI0</td>\n",
              "      <td>188.00</td>\n",
              "      <td>CURR356</td>\n",
              "      <td>000</td>\n",
              "      <td>183.81</td>\n",
              "      <td>CURR356</td>\n",
              "      <td>22-MAR-18 00.00.00</td>\n",
              "      <td>CON356</td>\n",
              "      <td>6R00G052</td>\n",
              "      <td>9820524155</td>\n",
              "      <td>PAYTM.COM WALLET PG \\\\NOIDA\\201310\\\\</td>\n",
              "      <td>400788</td>\n",
              "      <td>RESULT000</td>\n",
              "      <td>0</td>\n",
              "      <td>AMI</td>\n",
              "      <td>ACS</td>\n",
              "      <td>T0784</td>\n",
              "      <td>AXASK05AEVV</td>\n",
              "      <td>ECI05</td>\n",
              "    </tr>\n",
              "  </tbody>\n",
              "</table>\n",
              "</div>"
            ],
            "text/plain": [
              "  TRANSACTION_CURRENCY   PD4  PD11  ...   C_20    ECOM_INFO E_COM_INDICATOR\n",
              "0              CURR356  ATC9  TOC1  ...  T0784  AXASK05AEVV           ECI05\n",
              "1              CURR356  ATC9  TOC1  ...  T0797  AXASK05AEVV           ECI05\n",
              "2              CURR356  ATC9  TOC1  ...  T0537  AXASK05AEVV           ECI05\n",
              "3              CURR356  ATC9  TOC1  ...  T0796  AXASK05AEVV           ECI05\n",
              "4              CURR356  ATC9  TOC1  ...  T0784  AXASK05AEVV           ECI05\n",
              "\n",
              "[5 rows x 44 columns]"
            ]
          },
          "metadata": {
            "tags": []
          },
          "execution_count": 10
        }
      ]
    },
    {
      "cell_type": "markdown",
      "metadata": {
        "id": "5iikTIHoZnse",
        "colab_type": "text"
      },
      "source": [
        "##### So there are no index like columns here, so we can simply convert all of them via LabelEncoder to numeric encodings to be passed on to the decision tree, however we will first find out the float type columns and have them be as it is.\n"
      ]
    },
    {
      "cell_type": "markdown",
      "metadata": {
        "id": "d3mywjC_Ll6c",
        "colab_type": "text"
      },
      "source": [
        "##### **Function to remove constant values**\n"
      ]
    },
    {
      "cell_type": "code",
      "metadata": {
        "id": "DZiPS0k5LrW1",
        "colab_type": "code",
        "colab": {}
      },
      "source": [
        "def remove_constants(df):\n",
        "  df_new = df.copy()\n",
        "  indices = []\n",
        "  for col in df_new.columns:\n",
        "    if len(set(df_new[col])) == 1:\n",
        "      indices.append(col)\n",
        "  df_new = df_new.drop(indices,1)\n",
        "  return df_new"
      ],
      "execution_count": 11,
      "outputs": []
    },
    {
      "cell_type": "code",
      "metadata": {
        "id": "92b4TtRPMb8K",
        "colab_type": "code",
        "colab": {
          "base_uri": "https://localhost:8080/",
          "height": 34
        },
        "outputId": "35416787-c42e-4b75-b6d3-51f92b8a4648"
      },
      "source": [
        "data_dt = remove_constants(data_dt)\n",
        "data_dt.shape"
      ],
      "execution_count": 12,
      "outputs": [
        {
          "output_type": "execute_result",
          "data": {
            "text/plain": [
              "(105271, 44)"
            ]
          },
          "metadata": {
            "tags": []
          },
          "execution_count": 12
        }
      ]
    },
    {
      "cell_type": "markdown",
      "metadata": {
        "id": "a68N3-0epzPz",
        "colab_type": "text"
      },
      "source": [
        "##### Therefore there are no constant columns in the dataset"
      ]
    },
    {
      "cell_type": "code",
      "metadata": {
        "id": "p94ZQxUl7xTJ",
        "colab_type": "code",
        "colab": {
          "base_uri": "https://localhost:8080/",
          "height": 225
        },
        "outputId": "e3f3ba27-f301-4a4e-a509-136e693e67f6"
      },
      "source": [
        "data_dt.columns"
      ],
      "execution_count": 13,
      "outputs": [
        {
          "output_type": "execute_result",
          "data": {
            "text/plain": [
              "Index(['TRANSACTION_CURRENCY', 'PD4', 'PD11', 'PROC_CODE_12', 'PD8', 'MCC',\n",
              "       'POS_ENTRY_MODE', 'SERVICE_CODE', 'BILLING_AMOUNT',\n",
              "       'TRANSACTION_LOCAL_DATE', 'TRANSMISSION_DATE_TIME',\n",
              "       'RESPONSE_DATE_TIME', 'PAN', 'VALID_FROM', 'EXPIRY_DATE',\n",
              "       'PROC_CODE_34', 'PROC_CODE_56', 'PD1', 'PD2', 'PD3', 'PD5', 'PD6',\n",
              "       'PD7', 'PD9', 'PD10', 'PD12', 'TRANSACTION_AMOUNT', 'BILLING_CURRENCY',\n",
              "       'CONVERSION_RATE_DATE', 'SETTLEMENT_AMOUNT', 'SETTLEMENT_CURRENCY',\n",
              "       'SETTLEMENT_DATE', 'ACQUIRING_COUNTRY_CODE', 'CARD_ACCEPTOR_TERM_ID',\n",
              "       'CARD_ACCEPTOR_ID', 'CARD_ACC_NAME_ADDRESS', 'AUTHORIZATION_CODE',\n",
              "       'DECISION', 'TARGET', 'C_100', 'C_40', 'C_20', 'ECOM_INFO',\n",
              "       'E_COM_INDICATOR'],\n",
              "      dtype='object')"
            ]
          },
          "metadata": {
            "tags": []
          },
          "execution_count": 13
        }
      ]
    },
    {
      "cell_type": "markdown",
      "metadata": {
        "id": "kTP93pStWOth",
        "colab_type": "text"
      },
      "source": [
        "##### **Function to find float type columns in the dataframe**"
      ]
    },
    {
      "cell_type": "code",
      "metadata": {
        "id": "flKQ9PcE3HCb",
        "colab_type": "code",
        "colab": {}
      },
      "source": [
        "#Function to find if a column is categorical or not and assign numerical encoding to it\n",
        "def check_float(df):\n",
        "  ## Keeping float data type columns as it is \n",
        "  float_cols = []\n",
        "  new_df = pd.DataFrame()\n",
        "  for col in df.columns:\n",
        "    if(is_float_dtype(df[col])== True):\n",
        "      new_df[col] = df[col]\n",
        "      float_cols.append(col)\n",
        "  return new_df, float_cols"
      ],
      "execution_count": 14,
      "outputs": []
    },
    {
      "cell_type": "code",
      "metadata": {
        "id": "9PQZi4IxktfF",
        "colab_type": "code",
        "colab": {
          "base_uri": "https://localhost:8080/",
          "height": 34
        },
        "outputId": "ced03548-5570-41af-f50c-86aed43a15fb"
      },
      "source": [
        "float_df, float_cols = check_float(data_dt)\n",
        "float_cols"
      ],
      "execution_count": 15,
      "outputs": [
        {
          "output_type": "execute_result",
          "data": {
            "text/plain": [
              "['BILLING_AMOUNT', 'TRANSACTION_AMOUNT', 'SETTLEMENT_AMOUNT']"
            ]
          },
          "metadata": {
            "tags": []
          },
          "execution_count": 15
        }
      ]
    },
    {
      "cell_type": "code",
      "metadata": {
        "id": "YrJowQOxlNFO",
        "colab_type": "code",
        "colab": {
          "base_uri": "https://localhost:8080/",
          "height": 206
        },
        "outputId": "18329018-0498-4ab9-cad2-be229984dba8"
      },
      "source": [
        "float_df.head()"
      ],
      "execution_count": 16,
      "outputs": [
        {
          "output_type": "execute_result",
          "data": {
            "text/html": [
              "<div>\n",
              "<style scoped>\n",
              "    .dataframe tbody tr th:only-of-type {\n",
              "        vertical-align: middle;\n",
              "    }\n",
              "\n",
              "    .dataframe tbody tr th {\n",
              "        vertical-align: top;\n",
              "    }\n",
              "\n",
              "    .dataframe thead th {\n",
              "        text-align: right;\n",
              "    }\n",
              "</style>\n",
              "<table border=\"1\" class=\"dataframe\">\n",
              "  <thead>\n",
              "    <tr style=\"text-align: right;\">\n",
              "      <th></th>\n",
              "      <th>BILLING_AMOUNT</th>\n",
              "      <th>TRANSACTION_AMOUNT</th>\n",
              "      <th>SETTLEMENT_AMOUNT</th>\n",
              "    </tr>\n",
              "  </thead>\n",
              "  <tbody>\n",
              "    <tr>\n",
              "      <th>0</th>\n",
              "      <td>147.84</td>\n",
              "      <td>147.84</td>\n",
              "      <td>145.22</td>\n",
              "    </tr>\n",
              "    <tr>\n",
              "      <th>1</th>\n",
              "      <td>399.00</td>\n",
              "      <td>399.00</td>\n",
              "      <td>391.94</td>\n",
              "    </tr>\n",
              "    <tr>\n",
              "      <th>2</th>\n",
              "      <td>247.20</td>\n",
              "      <td>247.20</td>\n",
              "      <td>242.82</td>\n",
              "    </tr>\n",
              "    <tr>\n",
              "      <th>3</th>\n",
              "      <td>359.00</td>\n",
              "      <td>359.00</td>\n",
              "      <td>352.65</td>\n",
              "    </tr>\n",
              "    <tr>\n",
              "      <th>4</th>\n",
              "      <td>188.00</td>\n",
              "      <td>188.00</td>\n",
              "      <td>183.81</td>\n",
              "    </tr>\n",
              "  </tbody>\n",
              "</table>\n",
              "</div>"
            ],
            "text/plain": [
              "   BILLING_AMOUNT  TRANSACTION_AMOUNT  SETTLEMENT_AMOUNT\n",
              "0          147.84              147.84             145.22\n",
              "1          399.00              399.00             391.94\n",
              "2          247.20              247.20             242.82\n",
              "3          359.00              359.00             352.65\n",
              "4          188.00              188.00             183.81"
            ]
          },
          "metadata": {
            "tags": []
          },
          "execution_count": 16
        }
      ]
    },
    {
      "cell_type": "code",
      "metadata": {
        "id": "WoIAynSClW7T",
        "colab_type": "code",
        "colab": {
          "base_uri": "https://localhost:8080/",
          "height": 34
        },
        "outputId": "46bd06ed-e1af-424a-a61f-c33ec14476a9"
      },
      "source": [
        "data_dt2 = data_dt.drop(float_cols,1)\n",
        "data_dt2.shape"
      ],
      "execution_count": 17,
      "outputs": [
        {
          "output_type": "execute_result",
          "data": {
            "text/plain": [
              "(105271, 41)"
            ]
          },
          "metadata": {
            "tags": []
          },
          "execution_count": 17
        }
      ]
    },
    {
      "cell_type": "code",
      "metadata": {
        "id": "xkFXhrTVZ1R7",
        "colab_type": "code",
        "colab": {
          "base_uri": "https://localhost:8080/",
          "height": 226
        },
        "outputId": "b3a4a26f-7f09-425c-f816-8402242e0e51"
      },
      "source": [
        "data_dt_final = data_dt2.apply(preprocessing.LabelEncoder().fit_transform)\n",
        "data_dt_final.head()"
      ],
      "execution_count": 18,
      "outputs": [
        {
          "output_type": "execute_result",
          "data": {
            "text/html": [
              "<div>\n",
              "<style scoped>\n",
              "    .dataframe tbody tr th:only-of-type {\n",
              "        vertical-align: middle;\n",
              "    }\n",
              "\n",
              "    .dataframe tbody tr th {\n",
              "        vertical-align: top;\n",
              "    }\n",
              "\n",
              "    .dataframe thead th {\n",
              "        text-align: right;\n",
              "    }\n",
              "</style>\n",
              "<table border=\"1\" class=\"dataframe\">\n",
              "  <thead>\n",
              "    <tr style=\"text-align: right;\">\n",
              "      <th></th>\n",
              "      <th>TRANSACTION_CURRENCY</th>\n",
              "      <th>PD4</th>\n",
              "      <th>PD11</th>\n",
              "      <th>PROC_CODE_12</th>\n",
              "      <th>PD8</th>\n",
              "      <th>MCC</th>\n",
              "      <th>POS_ENTRY_MODE</th>\n",
              "      <th>SERVICE_CODE</th>\n",
              "      <th>TRANSACTION_LOCAL_DATE</th>\n",
              "      <th>TRANSMISSION_DATE_TIME</th>\n",
              "      <th>RESPONSE_DATE_TIME</th>\n",
              "      <th>PAN</th>\n",
              "      <th>VALID_FROM</th>\n",
              "      <th>EXPIRY_DATE</th>\n",
              "      <th>PROC_CODE_34</th>\n",
              "      <th>PROC_CODE_56</th>\n",
              "      <th>PD1</th>\n",
              "      <th>PD2</th>\n",
              "      <th>PD3</th>\n",
              "      <th>PD5</th>\n",
              "      <th>PD6</th>\n",
              "      <th>PD7</th>\n",
              "      <th>PD9</th>\n",
              "      <th>PD10</th>\n",
              "      <th>PD12</th>\n",
              "      <th>BILLING_CURRENCY</th>\n",
              "      <th>CONVERSION_RATE_DATE</th>\n",
              "      <th>SETTLEMENT_CURRENCY</th>\n",
              "      <th>SETTLEMENT_DATE</th>\n",
              "      <th>ACQUIRING_COUNTRY_CODE</th>\n",
              "      <th>CARD_ACCEPTOR_TERM_ID</th>\n",
              "      <th>CARD_ACCEPTOR_ID</th>\n",
              "      <th>CARD_ACC_NAME_ADDRESS</th>\n",
              "      <th>AUTHORIZATION_CODE</th>\n",
              "      <th>DECISION</th>\n",
              "      <th>TARGET</th>\n",
              "      <th>C_100</th>\n",
              "      <th>C_40</th>\n",
              "      <th>C_20</th>\n",
              "      <th>ECOM_INFO</th>\n",
              "      <th>E_COM_INDICATOR</th>\n",
              "    </tr>\n",
              "  </thead>\n",
              "  <tbody>\n",
              "    <tr>\n",
              "      <th>0</th>\n",
              "      <td>14</td>\n",
              "      <td>5</td>\n",
              "      <td>1</td>\n",
              "      <td>0</td>\n",
              "      <td>0</td>\n",
              "      <td>258</td>\n",
              "      <td>14</td>\n",
              "      <td>6</td>\n",
              "      <td>9</td>\n",
              "      <td>0</td>\n",
              "      <td>0</td>\n",
              "      <td>934</td>\n",
              "      <td>28389</td>\n",
              "      <td>1</td>\n",
              "      <td>4</td>\n",
              "      <td>0</td>\n",
              "      <td>1</td>\n",
              "      <td>0</td>\n",
              "      <td>0</td>\n",
              "      <td>4</td>\n",
              "      <td>0</td>\n",
              "      <td>1</td>\n",
              "      <td>0</td>\n",
              "      <td>0</td>\n",
              "      <td>0</td>\n",
              "      <td>1</td>\n",
              "      <td>0</td>\n",
              "      <td>1</td>\n",
              "      <td>1</td>\n",
              "      <td>29</td>\n",
              "      <td>40758</td>\n",
              "      <td>27991</td>\n",
              "      <td>5564</td>\n",
              "      <td>70860</td>\n",
              "      <td>0</td>\n",
              "      <td>0</td>\n",
              "      <td>0</td>\n",
              "      <td>0</td>\n",
              "      <td>594</td>\n",
              "      <td>21702</td>\n",
              "      <td>3</td>\n",
              "    </tr>\n",
              "    <tr>\n",
              "      <th>1</th>\n",
              "      <td>14</td>\n",
              "      <td>5</td>\n",
              "      <td>1</td>\n",
              "      <td>0</td>\n",
              "      <td>0</td>\n",
              "      <td>100</td>\n",
              "      <td>14</td>\n",
              "      <td>6</td>\n",
              "      <td>10</td>\n",
              "      <td>1</td>\n",
              "      <td>1</td>\n",
              "      <td>875</td>\n",
              "      <td>7515</td>\n",
              "      <td>1</td>\n",
              "      <td>4</td>\n",
              "      <td>0</td>\n",
              "      <td>1</td>\n",
              "      <td>0</td>\n",
              "      <td>0</td>\n",
              "      <td>4</td>\n",
              "      <td>0</td>\n",
              "      <td>1</td>\n",
              "      <td>0</td>\n",
              "      <td>0</td>\n",
              "      <td>0</td>\n",
              "      <td>1</td>\n",
              "      <td>0</td>\n",
              "      <td>1</td>\n",
              "      <td>1</td>\n",
              "      <td>29</td>\n",
              "      <td>40758</td>\n",
              "      <td>27698</td>\n",
              "      <td>28286</td>\n",
              "      <td>16588</td>\n",
              "      <td>0</td>\n",
              "      <td>0</td>\n",
              "      <td>0</td>\n",
              "      <td>0</td>\n",
              "      <td>602</td>\n",
              "      <td>21702</td>\n",
              "      <td>3</td>\n",
              "    </tr>\n",
              "    <tr>\n",
              "      <th>2</th>\n",
              "      <td>14</td>\n",
              "      <td>5</td>\n",
              "      <td>1</td>\n",
              "      <td>0</td>\n",
              "      <td>0</td>\n",
              "      <td>258</td>\n",
              "      <td>14</td>\n",
              "      <td>6</td>\n",
              "      <td>11</td>\n",
              "      <td>2</td>\n",
              "      <td>2</td>\n",
              "      <td>492</td>\n",
              "      <td>2951</td>\n",
              "      <td>4</td>\n",
              "      <td>4</td>\n",
              "      <td>0</td>\n",
              "      <td>1</td>\n",
              "      <td>0</td>\n",
              "      <td>0</td>\n",
              "      <td>4</td>\n",
              "      <td>0</td>\n",
              "      <td>1</td>\n",
              "      <td>0</td>\n",
              "      <td>0</td>\n",
              "      <td>0</td>\n",
              "      <td>1</td>\n",
              "      <td>0</td>\n",
              "      <td>1</td>\n",
              "      <td>1</td>\n",
              "      <td>29</td>\n",
              "      <td>40758</td>\n",
              "      <td>27991</td>\n",
              "      <td>5564</td>\n",
              "      <td>59898</td>\n",
              "      <td>0</td>\n",
              "      <td>0</td>\n",
              "      <td>0</td>\n",
              "      <td>0</td>\n",
              "      <td>419</td>\n",
              "      <td>21702</td>\n",
              "      <td>3</td>\n",
              "    </tr>\n",
              "    <tr>\n",
              "      <th>3</th>\n",
              "      <td>14</td>\n",
              "      <td>5</td>\n",
              "      <td>1</td>\n",
              "      <td>0</td>\n",
              "      <td>0</td>\n",
              "      <td>258</td>\n",
              "      <td>14</td>\n",
              "      <td>6</td>\n",
              "      <td>12</td>\n",
              "      <td>3</td>\n",
              "      <td>3</td>\n",
              "      <td>529</td>\n",
              "      <td>26953</td>\n",
              "      <td>4</td>\n",
              "      <td>4</td>\n",
              "      <td>0</td>\n",
              "      <td>1</td>\n",
              "      <td>0</td>\n",
              "      <td>0</td>\n",
              "      <td>4</td>\n",
              "      <td>0</td>\n",
              "      <td>1</td>\n",
              "      <td>0</td>\n",
              "      <td>0</td>\n",
              "      <td>0</td>\n",
              "      <td>1</td>\n",
              "      <td>0</td>\n",
              "      <td>1</td>\n",
              "      <td>1</td>\n",
              "      <td>29</td>\n",
              "      <td>40758</td>\n",
              "      <td>27991</td>\n",
              "      <td>5564</td>\n",
              "      <td>59907</td>\n",
              "      <td>0</td>\n",
              "      <td>0</td>\n",
              "      <td>0</td>\n",
              "      <td>0</td>\n",
              "      <td>601</td>\n",
              "      <td>21702</td>\n",
              "      <td>3</td>\n",
              "    </tr>\n",
              "    <tr>\n",
              "      <th>4</th>\n",
              "      <td>14</td>\n",
              "      <td>5</td>\n",
              "      <td>1</td>\n",
              "      <td>0</td>\n",
              "      <td>0</td>\n",
              "      <td>217</td>\n",
              "      <td>14</td>\n",
              "      <td>6</td>\n",
              "      <td>15</td>\n",
              "      <td>6</td>\n",
              "      <td>5</td>\n",
              "      <td>961</td>\n",
              "      <td>43447</td>\n",
              "      <td>1</td>\n",
              "      <td>4</td>\n",
              "      <td>0</td>\n",
              "      <td>1</td>\n",
              "      <td>0</td>\n",
              "      <td>0</td>\n",
              "      <td>4</td>\n",
              "      <td>0</td>\n",
              "      <td>1</td>\n",
              "      <td>0</td>\n",
              "      <td>0</td>\n",
              "      <td>0</td>\n",
              "      <td>1</td>\n",
              "      <td>0</td>\n",
              "      <td>1</td>\n",
              "      <td>1</td>\n",
              "      <td>29</td>\n",
              "      <td>40758</td>\n",
              "      <td>27548</td>\n",
              "      <td>28293</td>\n",
              "      <td>27344</td>\n",
              "      <td>0</td>\n",
              "      <td>0</td>\n",
              "      <td>0</td>\n",
              "      <td>0</td>\n",
              "      <td>594</td>\n",
              "      <td>21702</td>\n",
              "      <td>3</td>\n",
              "    </tr>\n",
              "  </tbody>\n",
              "</table>\n",
              "</div>"
            ],
            "text/plain": [
              "   TRANSACTION_CURRENCY  PD4  PD11  ...  C_20  ECOM_INFO  E_COM_INDICATOR\n",
              "0                    14    5     1  ...   594      21702                3\n",
              "1                    14    5     1  ...   602      21702                3\n",
              "2                    14    5     1  ...   419      21702                3\n",
              "3                    14    5     1  ...   601      21702                3\n",
              "4                    14    5     1  ...   594      21702                3\n",
              "\n",
              "[5 rows x 41 columns]"
            ]
          },
          "metadata": {
            "tags": []
          },
          "execution_count": 18
        }
      ]
    },
    {
      "cell_type": "code",
      "metadata": {
        "id": "yZ0KeR0Dmefz",
        "colab_type": "code",
        "colab": {
          "base_uri": "https://localhost:8080/",
          "height": 34
        },
        "outputId": "4e176bf1-1059-4c7d-933d-b6a44dbd2c70"
      },
      "source": [
        "#Reinstating the float columns as they are back into the data frame\n",
        "for f in float_cols:\n",
        "  data_dt_final[f] = data_dt[f]\n",
        "\n",
        "data_dt_final.shape\n"
      ],
      "execution_count": 19,
      "outputs": [
        {
          "output_type": "execute_result",
          "data": {
            "text/plain": [
              "(105271, 44)"
            ]
          },
          "metadata": {
            "tags": []
          },
          "execution_count": 19
        }
      ]
    },
    {
      "cell_type": "code",
      "metadata": {
        "id": "dB9xK2dYowI1",
        "colab_type": "code",
        "colab": {
          "base_uri": "https://localhost:8080/",
          "height": 226
        },
        "outputId": "7543e384-d830-44d6-96a3-60066024479c"
      },
      "source": [
        "data_dt_final.head()"
      ],
      "execution_count": 20,
      "outputs": [
        {
          "output_type": "execute_result",
          "data": {
            "text/html": [
              "<div>\n",
              "<style scoped>\n",
              "    .dataframe tbody tr th:only-of-type {\n",
              "        vertical-align: middle;\n",
              "    }\n",
              "\n",
              "    .dataframe tbody tr th {\n",
              "        vertical-align: top;\n",
              "    }\n",
              "\n",
              "    .dataframe thead th {\n",
              "        text-align: right;\n",
              "    }\n",
              "</style>\n",
              "<table border=\"1\" class=\"dataframe\">\n",
              "  <thead>\n",
              "    <tr style=\"text-align: right;\">\n",
              "      <th></th>\n",
              "      <th>TRANSACTION_CURRENCY</th>\n",
              "      <th>PD4</th>\n",
              "      <th>PD11</th>\n",
              "      <th>PROC_CODE_12</th>\n",
              "      <th>PD8</th>\n",
              "      <th>MCC</th>\n",
              "      <th>POS_ENTRY_MODE</th>\n",
              "      <th>SERVICE_CODE</th>\n",
              "      <th>TRANSACTION_LOCAL_DATE</th>\n",
              "      <th>TRANSMISSION_DATE_TIME</th>\n",
              "      <th>RESPONSE_DATE_TIME</th>\n",
              "      <th>PAN</th>\n",
              "      <th>VALID_FROM</th>\n",
              "      <th>EXPIRY_DATE</th>\n",
              "      <th>PROC_CODE_34</th>\n",
              "      <th>PROC_CODE_56</th>\n",
              "      <th>PD1</th>\n",
              "      <th>PD2</th>\n",
              "      <th>PD3</th>\n",
              "      <th>PD5</th>\n",
              "      <th>PD6</th>\n",
              "      <th>PD7</th>\n",
              "      <th>PD9</th>\n",
              "      <th>PD10</th>\n",
              "      <th>PD12</th>\n",
              "      <th>BILLING_CURRENCY</th>\n",
              "      <th>CONVERSION_RATE_DATE</th>\n",
              "      <th>SETTLEMENT_CURRENCY</th>\n",
              "      <th>SETTLEMENT_DATE</th>\n",
              "      <th>ACQUIRING_COUNTRY_CODE</th>\n",
              "      <th>CARD_ACCEPTOR_TERM_ID</th>\n",
              "      <th>CARD_ACCEPTOR_ID</th>\n",
              "      <th>CARD_ACC_NAME_ADDRESS</th>\n",
              "      <th>AUTHORIZATION_CODE</th>\n",
              "      <th>DECISION</th>\n",
              "      <th>TARGET</th>\n",
              "      <th>C_100</th>\n",
              "      <th>C_40</th>\n",
              "      <th>C_20</th>\n",
              "      <th>ECOM_INFO</th>\n",
              "      <th>E_COM_INDICATOR</th>\n",
              "      <th>BILLING_AMOUNT</th>\n",
              "      <th>TRANSACTION_AMOUNT</th>\n",
              "      <th>SETTLEMENT_AMOUNT</th>\n",
              "    </tr>\n",
              "  </thead>\n",
              "  <tbody>\n",
              "    <tr>\n",
              "      <th>0</th>\n",
              "      <td>14</td>\n",
              "      <td>5</td>\n",
              "      <td>1</td>\n",
              "      <td>0</td>\n",
              "      <td>0</td>\n",
              "      <td>258</td>\n",
              "      <td>14</td>\n",
              "      <td>6</td>\n",
              "      <td>9</td>\n",
              "      <td>0</td>\n",
              "      <td>0</td>\n",
              "      <td>934</td>\n",
              "      <td>28389</td>\n",
              "      <td>1</td>\n",
              "      <td>4</td>\n",
              "      <td>0</td>\n",
              "      <td>1</td>\n",
              "      <td>0</td>\n",
              "      <td>0</td>\n",
              "      <td>4</td>\n",
              "      <td>0</td>\n",
              "      <td>1</td>\n",
              "      <td>0</td>\n",
              "      <td>0</td>\n",
              "      <td>0</td>\n",
              "      <td>1</td>\n",
              "      <td>0</td>\n",
              "      <td>1</td>\n",
              "      <td>1</td>\n",
              "      <td>29</td>\n",
              "      <td>40758</td>\n",
              "      <td>27991</td>\n",
              "      <td>5564</td>\n",
              "      <td>70860</td>\n",
              "      <td>0</td>\n",
              "      <td>0</td>\n",
              "      <td>0</td>\n",
              "      <td>0</td>\n",
              "      <td>594</td>\n",
              "      <td>21702</td>\n",
              "      <td>3</td>\n",
              "      <td>147.84</td>\n",
              "      <td>147.84</td>\n",
              "      <td>145.22</td>\n",
              "    </tr>\n",
              "    <tr>\n",
              "      <th>1</th>\n",
              "      <td>14</td>\n",
              "      <td>5</td>\n",
              "      <td>1</td>\n",
              "      <td>0</td>\n",
              "      <td>0</td>\n",
              "      <td>100</td>\n",
              "      <td>14</td>\n",
              "      <td>6</td>\n",
              "      <td>10</td>\n",
              "      <td>1</td>\n",
              "      <td>1</td>\n",
              "      <td>875</td>\n",
              "      <td>7515</td>\n",
              "      <td>1</td>\n",
              "      <td>4</td>\n",
              "      <td>0</td>\n",
              "      <td>1</td>\n",
              "      <td>0</td>\n",
              "      <td>0</td>\n",
              "      <td>4</td>\n",
              "      <td>0</td>\n",
              "      <td>1</td>\n",
              "      <td>0</td>\n",
              "      <td>0</td>\n",
              "      <td>0</td>\n",
              "      <td>1</td>\n",
              "      <td>0</td>\n",
              "      <td>1</td>\n",
              "      <td>1</td>\n",
              "      <td>29</td>\n",
              "      <td>40758</td>\n",
              "      <td>27698</td>\n",
              "      <td>28286</td>\n",
              "      <td>16588</td>\n",
              "      <td>0</td>\n",
              "      <td>0</td>\n",
              "      <td>0</td>\n",
              "      <td>0</td>\n",
              "      <td>602</td>\n",
              "      <td>21702</td>\n",
              "      <td>3</td>\n",
              "      <td>399.00</td>\n",
              "      <td>399.00</td>\n",
              "      <td>391.94</td>\n",
              "    </tr>\n",
              "    <tr>\n",
              "      <th>2</th>\n",
              "      <td>14</td>\n",
              "      <td>5</td>\n",
              "      <td>1</td>\n",
              "      <td>0</td>\n",
              "      <td>0</td>\n",
              "      <td>258</td>\n",
              "      <td>14</td>\n",
              "      <td>6</td>\n",
              "      <td>11</td>\n",
              "      <td>2</td>\n",
              "      <td>2</td>\n",
              "      <td>492</td>\n",
              "      <td>2951</td>\n",
              "      <td>4</td>\n",
              "      <td>4</td>\n",
              "      <td>0</td>\n",
              "      <td>1</td>\n",
              "      <td>0</td>\n",
              "      <td>0</td>\n",
              "      <td>4</td>\n",
              "      <td>0</td>\n",
              "      <td>1</td>\n",
              "      <td>0</td>\n",
              "      <td>0</td>\n",
              "      <td>0</td>\n",
              "      <td>1</td>\n",
              "      <td>0</td>\n",
              "      <td>1</td>\n",
              "      <td>1</td>\n",
              "      <td>29</td>\n",
              "      <td>40758</td>\n",
              "      <td>27991</td>\n",
              "      <td>5564</td>\n",
              "      <td>59898</td>\n",
              "      <td>0</td>\n",
              "      <td>0</td>\n",
              "      <td>0</td>\n",
              "      <td>0</td>\n",
              "      <td>419</td>\n",
              "      <td>21702</td>\n",
              "      <td>3</td>\n",
              "      <td>247.20</td>\n",
              "      <td>247.20</td>\n",
              "      <td>242.82</td>\n",
              "    </tr>\n",
              "    <tr>\n",
              "      <th>3</th>\n",
              "      <td>14</td>\n",
              "      <td>5</td>\n",
              "      <td>1</td>\n",
              "      <td>0</td>\n",
              "      <td>0</td>\n",
              "      <td>258</td>\n",
              "      <td>14</td>\n",
              "      <td>6</td>\n",
              "      <td>12</td>\n",
              "      <td>3</td>\n",
              "      <td>3</td>\n",
              "      <td>529</td>\n",
              "      <td>26953</td>\n",
              "      <td>4</td>\n",
              "      <td>4</td>\n",
              "      <td>0</td>\n",
              "      <td>1</td>\n",
              "      <td>0</td>\n",
              "      <td>0</td>\n",
              "      <td>4</td>\n",
              "      <td>0</td>\n",
              "      <td>1</td>\n",
              "      <td>0</td>\n",
              "      <td>0</td>\n",
              "      <td>0</td>\n",
              "      <td>1</td>\n",
              "      <td>0</td>\n",
              "      <td>1</td>\n",
              "      <td>1</td>\n",
              "      <td>29</td>\n",
              "      <td>40758</td>\n",
              "      <td>27991</td>\n",
              "      <td>5564</td>\n",
              "      <td>59907</td>\n",
              "      <td>0</td>\n",
              "      <td>0</td>\n",
              "      <td>0</td>\n",
              "      <td>0</td>\n",
              "      <td>601</td>\n",
              "      <td>21702</td>\n",
              "      <td>3</td>\n",
              "      <td>359.00</td>\n",
              "      <td>359.00</td>\n",
              "      <td>352.65</td>\n",
              "    </tr>\n",
              "    <tr>\n",
              "      <th>4</th>\n",
              "      <td>14</td>\n",
              "      <td>5</td>\n",
              "      <td>1</td>\n",
              "      <td>0</td>\n",
              "      <td>0</td>\n",
              "      <td>217</td>\n",
              "      <td>14</td>\n",
              "      <td>6</td>\n",
              "      <td>15</td>\n",
              "      <td>6</td>\n",
              "      <td>5</td>\n",
              "      <td>961</td>\n",
              "      <td>43447</td>\n",
              "      <td>1</td>\n",
              "      <td>4</td>\n",
              "      <td>0</td>\n",
              "      <td>1</td>\n",
              "      <td>0</td>\n",
              "      <td>0</td>\n",
              "      <td>4</td>\n",
              "      <td>0</td>\n",
              "      <td>1</td>\n",
              "      <td>0</td>\n",
              "      <td>0</td>\n",
              "      <td>0</td>\n",
              "      <td>1</td>\n",
              "      <td>0</td>\n",
              "      <td>1</td>\n",
              "      <td>1</td>\n",
              "      <td>29</td>\n",
              "      <td>40758</td>\n",
              "      <td>27548</td>\n",
              "      <td>28293</td>\n",
              "      <td>27344</td>\n",
              "      <td>0</td>\n",
              "      <td>0</td>\n",
              "      <td>0</td>\n",
              "      <td>0</td>\n",
              "      <td>594</td>\n",
              "      <td>21702</td>\n",
              "      <td>3</td>\n",
              "      <td>188.00</td>\n",
              "      <td>188.00</td>\n",
              "      <td>183.81</td>\n",
              "    </tr>\n",
              "  </tbody>\n",
              "</table>\n",
              "</div>"
            ],
            "text/plain": [
              "   TRANSACTION_CURRENCY  PD4  ...  TRANSACTION_AMOUNT  SETTLEMENT_AMOUNT\n",
              "0                    14    5  ...              147.84             145.22\n",
              "1                    14    5  ...              399.00             391.94\n",
              "2                    14    5  ...              247.20             242.82\n",
              "3                    14    5  ...              359.00             352.65\n",
              "4                    14    5  ...              188.00             183.81\n",
              "\n",
              "[5 rows x 44 columns]"
            ]
          },
          "metadata": {
            "tags": []
          },
          "execution_count": 20
        }
      ]
    },
    {
      "cell_type": "markdown",
      "metadata": {
        "id": "eVDUGa1fs3m4",
        "colab_type": "text"
      },
      "source": [
        "##### We are going to be using the column 'E_COM_INDICATOR' as our target variable here\n"
      ]
    },
    {
      "cell_type": "markdown",
      "metadata": {
        "id": "wtZHj9hGzS4K",
        "colab_type": "text"
      },
      "source": [
        "##### **Trial run Gradient Boosting Regressor**"
      ]
    },
    {
      "cell_type": "code",
      "metadata": {
        "id": "uSCXZGHvypDz",
        "colab_type": "code",
        "colab": {}
      },
      "source": [
        "boston = load_boston()\n",
        "X = pd.DataFrame(boston.data, columns=boston.feature_names)\n",
        "y = pd.Series(boston.target)"
      ],
      "execution_count": 21,
      "outputs": []
    },
    {
      "cell_type": "code",
      "metadata": {
        "id": "MWM3VfArypGj",
        "colab_type": "code",
        "colab": {
          "base_uri": "https://localhost:8080/",
          "height": 424
        },
        "outputId": "fe1b7af8-7be8-4dd9-d191-d684732e62b3"
      },
      "source": [
        "X"
      ],
      "execution_count": 22,
      "outputs": [
        {
          "output_type": "execute_result",
          "data": {
            "text/html": [
              "<div>\n",
              "<style scoped>\n",
              "    .dataframe tbody tr th:only-of-type {\n",
              "        vertical-align: middle;\n",
              "    }\n",
              "\n",
              "    .dataframe tbody tr th {\n",
              "        vertical-align: top;\n",
              "    }\n",
              "\n",
              "    .dataframe thead th {\n",
              "        text-align: right;\n",
              "    }\n",
              "</style>\n",
              "<table border=\"1\" class=\"dataframe\">\n",
              "  <thead>\n",
              "    <tr style=\"text-align: right;\">\n",
              "      <th></th>\n",
              "      <th>CRIM</th>\n",
              "      <th>ZN</th>\n",
              "      <th>INDUS</th>\n",
              "      <th>CHAS</th>\n",
              "      <th>NOX</th>\n",
              "      <th>RM</th>\n",
              "      <th>AGE</th>\n",
              "      <th>DIS</th>\n",
              "      <th>RAD</th>\n",
              "      <th>TAX</th>\n",
              "      <th>PTRATIO</th>\n",
              "      <th>B</th>\n",
              "      <th>LSTAT</th>\n",
              "    </tr>\n",
              "  </thead>\n",
              "  <tbody>\n",
              "    <tr>\n",
              "      <th>0</th>\n",
              "      <td>0.00632</td>\n",
              "      <td>18.0</td>\n",
              "      <td>2.31</td>\n",
              "      <td>0.0</td>\n",
              "      <td>0.538</td>\n",
              "      <td>6.575</td>\n",
              "      <td>65.2</td>\n",
              "      <td>4.0900</td>\n",
              "      <td>1.0</td>\n",
              "      <td>296.0</td>\n",
              "      <td>15.3</td>\n",
              "      <td>396.90</td>\n",
              "      <td>4.98</td>\n",
              "    </tr>\n",
              "    <tr>\n",
              "      <th>1</th>\n",
              "      <td>0.02731</td>\n",
              "      <td>0.0</td>\n",
              "      <td>7.07</td>\n",
              "      <td>0.0</td>\n",
              "      <td>0.469</td>\n",
              "      <td>6.421</td>\n",
              "      <td>78.9</td>\n",
              "      <td>4.9671</td>\n",
              "      <td>2.0</td>\n",
              "      <td>242.0</td>\n",
              "      <td>17.8</td>\n",
              "      <td>396.90</td>\n",
              "      <td>9.14</td>\n",
              "    </tr>\n",
              "    <tr>\n",
              "      <th>2</th>\n",
              "      <td>0.02729</td>\n",
              "      <td>0.0</td>\n",
              "      <td>7.07</td>\n",
              "      <td>0.0</td>\n",
              "      <td>0.469</td>\n",
              "      <td>7.185</td>\n",
              "      <td>61.1</td>\n",
              "      <td>4.9671</td>\n",
              "      <td>2.0</td>\n",
              "      <td>242.0</td>\n",
              "      <td>17.8</td>\n",
              "      <td>392.83</td>\n",
              "      <td>4.03</td>\n",
              "    </tr>\n",
              "    <tr>\n",
              "      <th>3</th>\n",
              "      <td>0.03237</td>\n",
              "      <td>0.0</td>\n",
              "      <td>2.18</td>\n",
              "      <td>0.0</td>\n",
              "      <td>0.458</td>\n",
              "      <td>6.998</td>\n",
              "      <td>45.8</td>\n",
              "      <td>6.0622</td>\n",
              "      <td>3.0</td>\n",
              "      <td>222.0</td>\n",
              "      <td>18.7</td>\n",
              "      <td>394.63</td>\n",
              "      <td>2.94</td>\n",
              "    </tr>\n",
              "    <tr>\n",
              "      <th>4</th>\n",
              "      <td>0.06905</td>\n",
              "      <td>0.0</td>\n",
              "      <td>2.18</td>\n",
              "      <td>0.0</td>\n",
              "      <td>0.458</td>\n",
              "      <td>7.147</td>\n",
              "      <td>54.2</td>\n",
              "      <td>6.0622</td>\n",
              "      <td>3.0</td>\n",
              "      <td>222.0</td>\n",
              "      <td>18.7</td>\n",
              "      <td>396.90</td>\n",
              "      <td>5.33</td>\n",
              "    </tr>\n",
              "    <tr>\n",
              "      <th>...</th>\n",
              "      <td>...</td>\n",
              "      <td>...</td>\n",
              "      <td>...</td>\n",
              "      <td>...</td>\n",
              "      <td>...</td>\n",
              "      <td>...</td>\n",
              "      <td>...</td>\n",
              "      <td>...</td>\n",
              "      <td>...</td>\n",
              "      <td>...</td>\n",
              "      <td>...</td>\n",
              "      <td>...</td>\n",
              "      <td>...</td>\n",
              "    </tr>\n",
              "    <tr>\n",
              "      <th>501</th>\n",
              "      <td>0.06263</td>\n",
              "      <td>0.0</td>\n",
              "      <td>11.93</td>\n",
              "      <td>0.0</td>\n",
              "      <td>0.573</td>\n",
              "      <td>6.593</td>\n",
              "      <td>69.1</td>\n",
              "      <td>2.4786</td>\n",
              "      <td>1.0</td>\n",
              "      <td>273.0</td>\n",
              "      <td>21.0</td>\n",
              "      <td>391.99</td>\n",
              "      <td>9.67</td>\n",
              "    </tr>\n",
              "    <tr>\n",
              "      <th>502</th>\n",
              "      <td>0.04527</td>\n",
              "      <td>0.0</td>\n",
              "      <td>11.93</td>\n",
              "      <td>0.0</td>\n",
              "      <td>0.573</td>\n",
              "      <td>6.120</td>\n",
              "      <td>76.7</td>\n",
              "      <td>2.2875</td>\n",
              "      <td>1.0</td>\n",
              "      <td>273.0</td>\n",
              "      <td>21.0</td>\n",
              "      <td>396.90</td>\n",
              "      <td>9.08</td>\n",
              "    </tr>\n",
              "    <tr>\n",
              "      <th>503</th>\n",
              "      <td>0.06076</td>\n",
              "      <td>0.0</td>\n",
              "      <td>11.93</td>\n",
              "      <td>0.0</td>\n",
              "      <td>0.573</td>\n",
              "      <td>6.976</td>\n",
              "      <td>91.0</td>\n",
              "      <td>2.1675</td>\n",
              "      <td>1.0</td>\n",
              "      <td>273.0</td>\n",
              "      <td>21.0</td>\n",
              "      <td>396.90</td>\n",
              "      <td>5.64</td>\n",
              "    </tr>\n",
              "    <tr>\n",
              "      <th>504</th>\n",
              "      <td>0.10959</td>\n",
              "      <td>0.0</td>\n",
              "      <td>11.93</td>\n",
              "      <td>0.0</td>\n",
              "      <td>0.573</td>\n",
              "      <td>6.794</td>\n",
              "      <td>89.3</td>\n",
              "      <td>2.3889</td>\n",
              "      <td>1.0</td>\n",
              "      <td>273.0</td>\n",
              "      <td>21.0</td>\n",
              "      <td>393.45</td>\n",
              "      <td>6.48</td>\n",
              "    </tr>\n",
              "    <tr>\n",
              "      <th>505</th>\n",
              "      <td>0.04741</td>\n",
              "      <td>0.0</td>\n",
              "      <td>11.93</td>\n",
              "      <td>0.0</td>\n",
              "      <td>0.573</td>\n",
              "      <td>6.030</td>\n",
              "      <td>80.8</td>\n",
              "      <td>2.5050</td>\n",
              "      <td>1.0</td>\n",
              "      <td>273.0</td>\n",
              "      <td>21.0</td>\n",
              "      <td>396.90</td>\n",
              "      <td>7.88</td>\n",
              "    </tr>\n",
              "  </tbody>\n",
              "</table>\n",
              "<p>506 rows × 13 columns</p>\n",
              "</div>"
            ],
            "text/plain": [
              "        CRIM    ZN  INDUS  CHAS    NOX  ...  RAD    TAX  PTRATIO       B  LSTAT\n",
              "0    0.00632  18.0   2.31   0.0  0.538  ...  1.0  296.0     15.3  396.90   4.98\n",
              "1    0.02731   0.0   7.07   0.0  0.469  ...  2.0  242.0     17.8  396.90   9.14\n",
              "2    0.02729   0.0   7.07   0.0  0.469  ...  2.0  242.0     17.8  392.83   4.03\n",
              "3    0.03237   0.0   2.18   0.0  0.458  ...  3.0  222.0     18.7  394.63   2.94\n",
              "4    0.06905   0.0   2.18   0.0  0.458  ...  3.0  222.0     18.7  396.90   5.33\n",
              "..       ...   ...    ...   ...    ...  ...  ...    ...      ...     ...    ...\n",
              "501  0.06263   0.0  11.93   0.0  0.573  ...  1.0  273.0     21.0  391.99   9.67\n",
              "502  0.04527   0.0  11.93   0.0  0.573  ...  1.0  273.0     21.0  396.90   9.08\n",
              "503  0.06076   0.0  11.93   0.0  0.573  ...  1.0  273.0     21.0  396.90   5.64\n",
              "504  0.10959   0.0  11.93   0.0  0.573  ...  1.0  273.0     21.0  393.45   6.48\n",
              "505  0.04741   0.0  11.93   0.0  0.573  ...  1.0  273.0     21.0  396.90   7.88\n",
              "\n",
              "[506 rows x 13 columns]"
            ]
          },
          "metadata": {
            "tags": []
          },
          "execution_count": 22
        }
      ]
    },
    {
      "cell_type": "code",
      "metadata": {
        "id": "8pTwSaaizjc1",
        "colab_type": "code",
        "colab": {
          "base_uri": "https://localhost:8080/",
          "height": 225
        },
        "outputId": "6ef492d4-92a7-4cbe-f796-b86417d860af"
      },
      "source": [
        "y"
      ],
      "execution_count": 23,
      "outputs": [
        {
          "output_type": "execute_result",
          "data": {
            "text/plain": [
              "0      24.0\n",
              "1      21.6\n",
              "2      34.7\n",
              "3      33.4\n",
              "4      36.2\n",
              "       ... \n",
              "501    22.4\n",
              "502    20.6\n",
              "503    23.9\n",
              "504    22.0\n",
              "505    11.9\n",
              "Length: 506, dtype: float64"
            ]
          },
          "metadata": {
            "tags": []
          },
          "execution_count": 23
        }
      ]
    },
    {
      "cell_type": "code",
      "metadata": {
        "id": "KQuP6Hiozleu",
        "colab_type": "code",
        "colab": {}
      },
      "source": [
        "X_train, X_test, y_train, y_test = train_test_split(X, y)"
      ],
      "execution_count": 24,
      "outputs": []
    },
    {
      "cell_type": "code",
      "metadata": {
        "id": "yiGEqsLozlm2",
        "colab_type": "code",
        "colab": {
          "base_uri": "https://localhost:8080/",
          "height": 173
        },
        "outputId": "c08d271e-46ef-4185-bda7-603c2ec8ce39"
      },
      "source": [
        "regressor = GradientBoostingRegressor(\n",
        "    max_depth=2,\n",
        "    n_estimators=3,\n",
        "    learning_rate=1.0\n",
        ")\n",
        "regressor.fit(X_train, y_train)"
      ],
      "execution_count": 25,
      "outputs": [
        {
          "output_type": "execute_result",
          "data": {
            "text/plain": [
              "GradientBoostingRegressor(alpha=0.9, ccp_alpha=0.0, criterion='friedman_mse',\n",
              "                          init=None, learning_rate=1.0, loss='ls', max_depth=2,\n",
              "                          max_features=None, max_leaf_nodes=None,\n",
              "                          min_impurity_decrease=0.0, min_impurity_split=None,\n",
              "                          min_samples_leaf=1, min_samples_split=2,\n",
              "                          min_weight_fraction_leaf=0.0, n_estimators=3,\n",
              "                          n_iter_no_change=None, presort='deprecated',\n",
              "                          random_state=None, subsample=1.0, tol=0.0001,\n",
              "                          validation_fraction=0.1, verbose=0, warm_start=False)"
            ]
          },
          "metadata": {
            "tags": []
          },
          "execution_count": 25
        }
      ]
    },
    {
      "cell_type": "code",
      "metadata": {
        "id": "S95Nrwiezlk1",
        "colab_type": "code",
        "colab": {}
      },
      "source": [
        "errors = [mean_squared_error(y_test, y_pred) for y_pred in regressor.staged_predict(X_test)]\n",
        "best_n_estimators = np.argmin(errors)"
      ],
      "execution_count": 26,
      "outputs": []
    },
    {
      "cell_type": "code",
      "metadata": {
        "id": "HvBGrDjkzljA",
        "colab_type": "code",
        "colab": {
          "base_uri": "https://localhost:8080/",
          "height": 173
        },
        "outputId": "d612c87e-45b6-4d93-eebf-92d443ef31a7"
      },
      "source": [
        "best_regressor = GradientBoostingRegressor(\n",
        "    max_depth=2,\n",
        "    n_estimators=best_n_estimators,\n",
        "    learning_rate=1.0\n",
        ")\n",
        "best_regressor.fit(X_train, y_train)"
      ],
      "execution_count": 27,
      "outputs": [
        {
          "output_type": "execute_result",
          "data": {
            "text/plain": [
              "GradientBoostingRegressor(alpha=0.9, ccp_alpha=0.0, criterion='friedman_mse',\n",
              "                          init=None, learning_rate=1.0, loss='ls', max_depth=2,\n",
              "                          max_features=None, max_leaf_nodes=None,\n",
              "                          min_impurity_decrease=0.0, min_impurity_split=None,\n",
              "                          min_samples_leaf=1, min_samples_split=2,\n",
              "                          min_weight_fraction_leaf=0.0, n_estimators=1,\n",
              "                          n_iter_no_change=None, presort='deprecated',\n",
              "                          random_state=None, subsample=1.0, tol=0.0001,\n",
              "                          validation_fraction=0.1, verbose=0, warm_start=False)"
            ]
          },
          "metadata": {
            "tags": []
          },
          "execution_count": 27
        }
      ]
    },
    {
      "cell_type": "code",
      "metadata": {
        "id": "g1qH3SAl0cn-",
        "colab_type": "code",
        "colab": {
          "base_uri": "https://localhost:8080/",
          "height": 34
        },
        "outputId": "f6a0fedd-d7a9-437b-a4e8-2c39094bce96"
      },
      "source": [
        "y_pred = best_regressor.predict(X_test)\n",
        "mean_absolute_error(y_test, y_pred)"
      ],
      "execution_count": 28,
      "outputs": [
        {
          "output_type": "execute_result",
          "data": {
            "text/plain": [
              "3.5753357485309056"
            ]
          },
          "metadata": {
            "tags": []
          },
          "execution_count": 28
        }
      ]
    },
    {
      "cell_type": "markdown",
      "metadata": {
        "id": "B-ESEBg_wK0O",
        "colab_type": "text"
      },
      "source": [
        "###### **Gradient Boosting Regressor**"
      ]
    },
    {
      "cell_type": "code",
      "metadata": {
        "id": "7_DpFibzoJvF",
        "colab_type": "code",
        "colab": {
          "base_uri": "https://localhost:8080/",
          "height": 34
        },
        "outputId": "5e326886-93f0-4046-9934-4747731a3a75"
      },
      "source": [
        "set(data_dt_final['E_COM_INDICATOR'])"
      ],
      "execution_count": 29,
      "outputs": [
        {
          "output_type": "execute_result",
          "data": {
            "text/plain": [
              "{0, 1, 2, 3, 4, 5, 6}"
            ]
          },
          "metadata": {
            "tags": []
          },
          "execution_count": 29
        }
      ]
    },
    {
      "cell_type": "code",
      "metadata": {
        "id": "yYxK5mS9t3DD",
        "colab_type": "code",
        "colab": {}
      },
      "source": [
        "label_col = 'E_COM_INDICATOR'"
      ],
      "execution_count": 30,
      "outputs": []
    },
    {
      "cell_type": "code",
      "metadata": {
        "id": "y_MzNnSPoJyt",
        "colab_type": "code",
        "colab": {}
      },
      "source": [
        "cols = [col for col in data_dt_final.columns if col not in [label_col]]\n",
        "X = data_dt_final[cols]\n",
        "y = data_dt_final[label_col]"
      ],
      "execution_count": 31,
      "outputs": []
    },
    {
      "cell_type": "code",
      "metadata": {
        "id": "3gChxE2boJ5i",
        "colab_type": "code",
        "colab": {}
      },
      "source": [
        "X_train, X_test, y_train, y_test = train_test_split(X, y, test_size = 0.1)"
      ],
      "execution_count": 32,
      "outputs": []
    },
    {
      "cell_type": "code",
      "metadata": {
        "id": "iG_tOQyXuYTe",
        "colab_type": "code",
        "colab": {
          "base_uri": "https://localhost:8080/",
          "height": 173
        },
        "outputId": "b32ea25d-1bd6-4ca1-f588-5d60f46b1701"
      },
      "source": [
        "regressor = GradientBoostingRegressor(\n",
        "    max_depth=2,\n",
        "    n_estimators=3,\n",
        "    learning_rate=1.0\n",
        ")\n",
        "regressor.fit(X_train, y_train)"
      ],
      "execution_count": 33,
      "outputs": [
        {
          "output_type": "execute_result",
          "data": {
            "text/plain": [
              "GradientBoostingRegressor(alpha=0.9, ccp_alpha=0.0, criterion='friedman_mse',\n",
              "                          init=None, learning_rate=1.0, loss='ls', max_depth=2,\n",
              "                          max_features=None, max_leaf_nodes=None,\n",
              "                          min_impurity_decrease=0.0, min_impurity_split=None,\n",
              "                          min_samples_leaf=1, min_samples_split=2,\n",
              "                          min_weight_fraction_leaf=0.0, n_estimators=3,\n",
              "                          n_iter_no_change=None, presort='deprecated',\n",
              "                          random_state=None, subsample=1.0, tol=0.0001,\n",
              "                          validation_fraction=0.1, verbose=0, warm_start=False)"
            ]
          },
          "metadata": {
            "tags": []
          },
          "execution_count": 33
        }
      ]
    },
    {
      "cell_type": "code",
      "metadata": {
        "id": "HTFRPHB_uYW_",
        "colab_type": "code",
        "colab": {}
      },
      "source": [
        "errors = [mean_squared_error(y_test, y_pred) for y_pred in regressor.staged_predict(X_test)]\n",
        "best_n_estimators = np.argmin(errors)"
      ],
      "execution_count": 34,
      "outputs": []
    },
    {
      "cell_type": "code",
      "metadata": {
        "id": "IDcbFDvcuyYI",
        "colab_type": "code",
        "colab": {
          "base_uri": "https://localhost:8080/",
          "height": 173
        },
        "outputId": "69cb1ed1-cd88-4648-9d12-21f191bcf390"
      },
      "source": [
        "best_regressor = GradientBoostingRegressor(\n",
        "    max_depth=2,\n",
        "    n_estimators=best_n_estimators,\n",
        "    learning_rate=1.0\n",
        ")\n",
        "best_regressor.fit(X_train, y_train)"
      ],
      "execution_count": 35,
      "outputs": [
        {
          "output_type": "execute_result",
          "data": {
            "text/plain": [
              "GradientBoostingRegressor(alpha=0.9, ccp_alpha=0.0, criterion='friedman_mse',\n",
              "                          init=None, learning_rate=1.0, loss='ls', max_depth=2,\n",
              "                          max_features=None, max_leaf_nodes=None,\n",
              "                          min_impurity_decrease=0.0, min_impurity_split=None,\n",
              "                          min_samples_leaf=1, min_samples_split=2,\n",
              "                          min_weight_fraction_leaf=0.0, n_estimators=2,\n",
              "                          n_iter_no_change=None, presort='deprecated',\n",
              "                          random_state=None, subsample=1.0, tol=0.0001,\n",
              "                          validation_fraction=0.1, verbose=0, warm_start=False)"
            ]
          },
          "metadata": {
            "tags": []
          },
          "execution_count": 35
        }
      ]
    },
    {
      "cell_type": "code",
      "metadata": {
        "id": "8Ml_-90Ouyck",
        "colab_type": "code",
        "colab": {
          "base_uri": "https://localhost:8080/",
          "height": 34
        },
        "outputId": "dfdcd678-faf5-4521-b420-c31d6ea4a08c"
      },
      "source": [
        "y_pred = best_regressor.predict(X_test)\n",
        "mean_absolute_error(y_test, y_pred)"
      ],
      "execution_count": 36,
      "outputs": [
        {
          "output_type": "execute_result",
          "data": {
            "text/plain": [
              "0.12506589996627634"
            ]
          },
          "metadata": {
            "tags": []
          },
          "execution_count": 36
        }
      ]
    },
    {
      "cell_type": "code",
      "metadata": {
        "id": "Omv1z448uYQz",
        "colab_type": "code",
        "colab": {
          "base_uri": "https://localhost:8080/",
          "height": 34
        },
        "outputId": "cc852caa-8b37-4ad5-ff13-80932e46b95f"
      },
      "source": [
        "best_regressor.score(X_test,y_test)"
      ],
      "execution_count": 37,
      "outputs": [
        {
          "output_type": "execute_result",
          "data": {
            "text/plain": [
              "0.944188710241969"
            ]
          },
          "metadata": {
            "tags": []
          },
          "execution_count": 37
        }
      ]
    },
    {
      "cell_type": "markdown",
      "metadata": {
        "id": "mCCkUm5Yv_O1",
        "colab_type": "text"
      },
      "source": [
        "##### Gradient Boosting seems to do well here. But Gradient Boosting Regressor considers all the predictors by their numerical values alone and not as classes. That's why we now move on to Gradient Boosting Classifiers which considers the predictors are classes."
      ]
    },
    {
      "cell_type": "markdown",
      "metadata": {
        "id": "jVGTIRfixzC8",
        "colab_type": "text"
      },
      "source": [
        "##### **Gradient Boosting Classifier**"
      ]
    },
    {
      "cell_type": "code",
      "metadata": {
        "id": "OriODGjSSqTV",
        "colab_type": "code",
        "colab": {}
      },
      "source": [
        "scaler = MinMaxScaler()\n",
        "X_train = scaler.fit_transform(X_train)\n",
        "X_test = scaler.transform(X_test)"
      ],
      "execution_count": 39,
      "outputs": []
    },
    {
      "cell_type": "code",
      "metadata": {
        "id": "PSR7l96LSqxv",
        "colab_type": "code",
        "colab": {}
      },
      "source": [
        "state = 0  \n",
        "test_size = 0.1\n",
        "\n",
        "X_train, X_val, y_train, y_val = train_test_split(X_train, y_train,  \n",
        "    test_size=test_size, random_state=state)"
      ],
      "execution_count": 40,
      "outputs": []
    },
    {
      "cell_type": "code",
      "metadata": {
        "id": "NAJSMnTTYVd5",
        "colab_type": "code",
        "colab": {
          "base_uri": "https://localhost:8080/",
          "height": 86
        },
        "outputId": "207d8cce-74dc-43a7-9976-c0bd64867c3a"
      },
      "source": [
        "print(X_train.shape)\n",
        "print(X_test.shape)\n",
        "print(y_train.shape)\n",
        "print(y_test.shape)"
      ],
      "execution_count": 46,
      "outputs": [
        {
          "output_type": "stream",
          "text": [
            "(85268, 43)\n",
            "(10528, 43)\n",
            "(85268,)\n",
            "(10528,)\n"
          ],
          "name": "stdout"
        }
      ]
    },
    {
      "cell_type": "code",
      "metadata": {
        "id": "696GukoJSq1F",
        "colab_type": "code",
        "colab": {
          "base_uri": "https://localhost:8080/",
          "height": 382
        },
        "outputId": "5f839d20-1dee-4afd-fa8a-e38c2a29b983"
      },
      "source": [
        "lr_list = [0.05, 0.075, 0.1, 0.25, 0.5, 0.75, 1]\n",
        "\n",
        "for learning_rate in lr_list:\n",
        "    gb_clf = GradientBoostingClassifier(n_estimators=20, learning_rate=learning_rate, max_features=2, max_depth=2, random_state=0)\n",
        "    gb_clf.fit(X_train, y_train)\n",
        "\n",
        "    print(\"Learning rate: \", learning_rate)\n",
        "    print(\"Accuracy score (training): {0:.3f}\".format(gb_clf.score(X_train, y_train)))\n",
        "    print(\"Accuracy score (validation): {0:.3f}\".format(gb_clf.score(X_val, y_val)))"
      ],
      "execution_count": 41,
      "outputs": [
        {
          "output_type": "stream",
          "text": [
            "Learning rate:  0.05\n",
            "Accuracy score (training): 0.949\n",
            "Accuracy score (validation): 0.947\n",
            "Learning rate:  0.075\n",
            "Accuracy score (training): 0.968\n",
            "Accuracy score (validation): 0.967\n",
            "Learning rate:  0.1\n",
            "Accuracy score (training): 0.968\n",
            "Accuracy score (validation): 0.967\n",
            "Learning rate:  0.25\n",
            "Accuracy score (training): 0.984\n",
            "Accuracy score (validation): 0.982\n",
            "Learning rate:  0.5\n",
            "Accuracy score (training): 0.994\n",
            "Accuracy score (validation): 0.993\n",
            "Learning rate:  0.75\n",
            "Accuracy score (training): 0.979\n",
            "Accuracy score (validation): 0.978\n",
            "Learning rate:  1\n",
            "Accuracy score (training): 0.240\n",
            "Accuracy score (validation): 0.236\n"
          ],
          "name": "stdout"
        }
      ]
    },
    {
      "cell_type": "markdown",
      "metadata": {
        "id": "tvarDy6aT9JP",
        "colab_type": "text"
      },
      "source": [
        "##### Therefore we see that the best on the training set is for learning rate 0.75. That is the one we will be using on our test set."
      ]
    },
    {
      "cell_type": "code",
      "metadata": {
        "id": "zKppdcspSqQj",
        "colab_type": "code",
        "colab": {
          "base_uri": "https://localhost:8080/",
          "height": 367
        },
        "outputId": "248c7297-dff7-4506-f4a5-75eb502c473b"
      },
      "source": [
        "gb_clf2 = GradientBoostingClassifier(n_estimators=20, learning_rate=0.75, max_features=2, max_depth=2, random_state=0)\n",
        "gb_clf2.fit(X_train, y_train)\n",
        "predictions = gb_clf2.predict(X_val)\n",
        "\n",
        "#print(\"Confusion Matrix:\")\n",
        "#print(confusion_matrix(y_val, predictions))\n",
        "\n",
        "print(\"Classification Report\")\n",
        "print(classification_report(y_val, predictions))"
      ],
      "execution_count": 43,
      "outputs": [
        {
          "output_type": "stream",
          "text": [
            "Classification Report\n",
            "              precision    recall  f1-score   support\n",
            "\n",
            "           0       0.87      0.87      0.87       126\n",
            "           1       0.00      0.00      0.00         3\n",
            "           2       0.98      0.98      0.98      1015\n",
            "           3       1.00      0.93      0.96      2088\n",
            "           4       0.00      0.00      0.00         0\n",
            "           5       0.88      0.94      0.91       209\n",
            "           6       1.00      1.00      1.00      6034\n",
            "\n",
            "    accuracy                           0.98      9475\n",
            "   macro avg       0.67      0.68      0.67      9475\n",
            "weighted avg       0.99      0.98      0.98      9475\n",
            "\n"
          ],
          "name": "stdout"
        },
        {
          "output_type": "stream",
          "text": [
            "/usr/local/lib/python3.6/dist-packages/sklearn/metrics/_classification.py:1272: UndefinedMetricWarning: Precision and F-score are ill-defined and being set to 0.0 in labels with no predicted samples. Use `zero_division` parameter to control this behavior.\n",
            "  _warn_prf(average, modifier, msg_start, len(result))\n",
            "/usr/local/lib/python3.6/dist-packages/sklearn/metrics/_classification.py:1272: UndefinedMetricWarning: Recall and F-score are ill-defined and being set to 0.0 in labels with no true samples. Use `zero_division` parameter to control this behavior.\n",
            "  _warn_prf(average, modifier, msg_start, len(result))\n"
          ],
          "name": "stderr"
        }
      ]
    },
    {
      "cell_type": "markdown",
      "metadata": {
        "id": "i59JbnClVkyh",
        "colab_type": "text"
      },
      "source": [
        "##### Now we are getting the warnings because there are values in the true values of the 'E_COM_INDICATOR' that are not there in the predictions, this is needed for the f1_score computation and thus there is the error. The following is a way to avoid this error, where we will only compute the f1_score based on the distinct labels that are there in the predictions."
      ]
    },
    {
      "cell_type": "code",
      "metadata": {
        "id": "Cbymnkljx4kP",
        "colab_type": "code",
        "colab": {
          "base_uri": "https://localhost:8080/",
          "height": 34
        },
        "outputId": "0c4ab636-8190-4164-ac6c-b8a2f16bcd33"
      },
      "source": [
        "metrics.f1_score(y_val, predictions, average='weighted', labels=np.unique(predictions))"
      ],
      "execution_count": 45,
      "outputs": [
        {
          "output_type": "execute_result",
          "data": {
            "text/plain": [
              "0.9850051259822526"
            ]
          },
          "metadata": {
            "tags": []
          },
          "execution_count": 45
        }
      ]
    },
    {
      "cell_type": "markdown",
      "metadata": {
        "id": "Mvwun3O7WljX",
        "colab_type": "text"
      },
      "source": [
        "##### This is a better assurance that the performance of our classifier is good. We can also find the best value of n_estimators using the same method. For more details on hyperparameter tuning on Gradient Boosting and details look at the following link: <br>\n",
        "https://www.analyticsvidhya.com/blog/2016/02/complete-guide-parameter-tuning-gradient-boosting-gbm-python/"
      ]
    },
    {
      "cell_type": "markdown",
      "metadata": {
        "id": "Q9SatoFg0tw-",
        "colab_type": "text"
      },
      "source": [
        "##### For more metrics of evaluation in appropriate setups look at the following link: <br> https://scikit-learn.org/stable/modules/model_evaluation.html"
      ]
    },
    {
      "cell_type": "code",
      "metadata": {
        "id": "JDDR4XfjY7ys",
        "colab_type": "code",
        "colab": {}
      },
      "source": [
        "errors = [mean_squared_error(y_val, y_pred) for y_pred in gb_clf2.staged_predict(X_val)]\n",
        "best_n_estimators = np.argmin(errors)"
      ],
      "execution_count": 48,
      "outputs": []
    },
    {
      "cell_type": "code",
      "metadata": {
        "id": "47kCMDwuW_5g",
        "colab_type": "code",
        "colab": {
          "base_uri": "https://localhost:8080/",
          "height": 34
        },
        "outputId": "6951112a-dc1c-4c4a-fa4e-04c647319ade"
      },
      "source": [
        "best_n_estimators"
      ],
      "execution_count": 49,
      "outputs": [
        {
          "output_type": "execute_result",
          "data": {
            "text/plain": [
              "18"
            ]
          },
          "metadata": {
            "tags": []
          },
          "execution_count": 49
        }
      ]
    },
    {
      "cell_type": "code",
      "metadata": {
        "id": "Z57Gvpb6W__L",
        "colab_type": "code",
        "colab": {}
      },
      "source": [
        "gb_clf3 = GradientBoostingClassifier(n_estimators=best_n_estimators, learning_rate=0.75, max_features=2, max_depth=2, random_state=0)\n",
        "gb_clf3.fit(X_train, y_train)\n",
        "predictions = gb_clf3.predict(X_val)\n"
      ],
      "execution_count": 50,
      "outputs": []
    },
    {
      "cell_type": "code",
      "metadata": {
        "id": "GETVUsA5XAC9",
        "colab_type": "code",
        "colab": {
          "base_uri": "https://localhost:8080/",
          "height": 34
        },
        "outputId": "f1ed2904-5481-4c1a-f128-2682f534d6c9"
      },
      "source": [
        "metrics.f1_score(y_val, predictions, average='weighted', labels=np.unique(predictions))"
      ],
      "execution_count": 51,
      "outputs": [
        {
          "output_type": "execute_result",
          "data": {
            "text/plain": [
              "0.9904636537697218"
            ]
          },
          "metadata": {
            "tags": []
          },
          "execution_count": 51
        }
      ]
    },
    {
      "cell_type": "markdown",
      "metadata": {
        "id": "FluKaFutaIe_",
        "colab_type": "text"
      },
      "source": [
        "##### This causes an increase in f1_score thus making for a better predictor"
      ]
    },
    {
      "cell_type": "markdown",
      "metadata": {
        "id": "JqTcdU80q3dP",
        "colab_type": "text"
      },
      "source": [
        "##### **Comparing with the XGBoost Classifier which stands for Extreme Gradient Boosting**\n",
        "Was done by Aritra in DST_5"
      ]
    },
    {
      "cell_type": "code",
      "metadata": {
        "id": "af9_FOUvW_9s",
        "colab_type": "code",
        "colab": {
          "base_uri": "https://localhost:8080/",
          "height": 139
        },
        "outputId": "9d697151-8944-4aea-a770-8d0c09ac1e90"
      },
      "source": [
        "xgb_clf = XGBClassifier(n_estimators=best_n_estimators, learning_rate=0.75, max_features=2, max_depth=2, random_state=0)\n",
        "xgb_clf.fit(X_train, y_train)"
      ],
      "execution_count": 54,
      "outputs": [
        {
          "output_type": "execute_result",
          "data": {
            "text/plain": [
              "XGBClassifier(base_score=0.5, booster='gbtree', colsample_bylevel=1,\n",
              "              colsample_bynode=1, colsample_bytree=1, gamma=0,\n",
              "              learning_rate=0.75, max_delta_step=0, max_depth=2, max_features=2,\n",
              "              min_child_weight=1, missing=None, n_estimators=18, n_jobs=1,\n",
              "              nthread=None, objective='multi:softprob', random_state=0,\n",
              "              reg_alpha=0, reg_lambda=1, scale_pos_weight=1, seed=None,\n",
              "              silent=None, subsample=1, verbosity=1)"
            ]
          },
          "metadata": {
            "tags": []
          },
          "execution_count": 54
        }
      ]
    },
    {
      "cell_type": "code",
      "metadata": {
        "id": "yGP0Aqw5sleR",
        "colab_type": "code",
        "colab": {
          "base_uri": "https://localhost:8080/",
          "height": 34
        },
        "outputId": "cff7f498-954d-4a2d-d644-8e6ba559acc3"
      },
      "source": [
        "score = xgb_clf.score(X_val, y_val)\n",
        "print(score)"
      ],
      "execution_count": 55,
      "outputs": [
        {
          "output_type": "stream",
          "text": [
            "0.9992612137203166\n"
          ],
          "name": "stdout"
        }
      ]
    },
    {
      "cell_type": "code",
      "metadata": {
        "id": "uOnXm1umtajK",
        "colab_type": "code",
        "colab": {
          "base_uri": "https://localhost:8080/",
          "height": 34
        },
        "outputId": "c7d3bc6b-408b-44b2-a22a-34d92c88b88b"
      },
      "source": [
        "predictions = xgb_clf.predict(X_val)\n",
        "metrics.f1_score(y_val, predictions, average='weighted', labels=np.unique(predictions))"
      ],
      "execution_count": 56,
      "outputs": [
        {
          "output_type": "execute_result",
          "data": {
            "text/plain": [
              "0.9992104701417234"
            ]
          },
          "metadata": {
            "tags": []
          },
          "execution_count": 56
        }
      ]
    },
    {
      "cell_type": "markdown",
      "metadata": {
        "id": "pijgyBsqtQ6i",
        "colab_type": "text"
      },
      "source": [
        "##### The XGBoost Classifier seems to do even better\n"
      ]
    },
    {
      "cell_type": "markdown",
      "metadata": {
        "id": "U9WWJAAJt5Iz",
        "colab_type": "text"
      },
      "source": [
        "##### **Lastly we will try to see if we can somehow fix the imbalance in the data**\n",
        "This was already done by Aritra is DST_5 and I am checking to see if it improves the f1_score or accuracy here"
      ]
    },
    {
      "cell_type": "code",
      "metadata": {
        "id": "Ow9o2eDBwLFX",
        "colab_type": "code",
        "colab": {
          "base_uri": "https://localhost:8080/",
          "height": 353
        },
        "outputId": "429a82ee-3c67-4e9a-9bdb-430c572d2b03"
      },
      "source": [
        "sns.countplot(data_dt_final['E_COM_INDICATOR'])"
      ],
      "execution_count": 58,
      "outputs": [
        {
          "output_type": "stream",
          "text": [
            "/usr/local/lib/python3.6/dist-packages/statsmodels/tools/_testing.py:19: FutureWarning: pandas.util.testing is deprecated. Use the functions in the public API at pandas.testing instead.\n",
            "  import pandas.util.testing as tm\n"
          ],
          "name": "stderr"
        },
        {
          "output_type": "execute_result",
          "data": {
            "text/plain": [
              "<matplotlib.axes._subplots.AxesSubplot at 0x7f2bd4b00240>"
            ]
          },
          "metadata": {
            "tags": []
          },
          "execution_count": 58
        },
        {
          "output_type": "display_data",
          "data": {
            "image/png": "[encoded data removed]",
            "text/plain": [
              "<Figure size 432x288 with 1 Axes>"
            ]
          },
          "metadata": {
            "tags": [],
            "needs_background": "light"
          }
        }
      ]
    },
    {
      "cell_type": "markdown",
      "metadata": {
        "id": "sOb6_BZcwc97",
        "colab_type": "text"
      },
      "source": [
        "The values don't seem balanced so we will try to see if by oversampling and undersampling we can do that."
      ]
    },
    {
      "cell_type": "code",
      "metadata": {
        "id": "6mMMAgz4slig",
        "colab_type": "code",
        "colab": {
          "base_uri": "https://localhost:8080/",
          "height": 106
        },
        "outputId": "c62ab809-ba7f-4a18-e542-b6632f8e5c26"
      },
      "source": [
        "ros = RandomOverSampler(ratio='auto')\n",
        "X_trainRos, y_trainRos = ros.fit_sample(X_train, y_train)\n",
        "X_valRos, y_valRos = ros.fit_sample(X_val, y_val)"
      ],
      "execution_count": 64,
      "outputs": [
        {
          "output_type": "stream",
          "text": [
            "/usr/local/lib/python3.6/dist-packages/sklearn/utils/deprecation.py:87: FutureWarning: Function safe_indexing is deprecated; safe_indexing is deprecated in version 0.22 and will be removed in version 0.24.\n",
            "  warnings.warn(msg, category=FutureWarning)\n",
            "/usr/local/lib/python3.6/dist-packages/sklearn/utils/deprecation.py:87: FutureWarning: Function safe_indexing is deprecated; safe_indexing is deprecated in version 0.22 and will be removed in version 0.24.\n",
            "  warnings.warn(msg, category=FutureWarning)\n"
          ],
          "name": "stderr"
        }
      ]
    },
    {
      "cell_type": "code",
      "metadata": {
        "id": "63ocXcEFslbv",
        "colab_type": "code",
        "colab": {
          "base_uri": "https://localhost:8080/",
          "height": 139
        },
        "outputId": "3e9b6ea0-71ac-48ab-c17d-6e0921736fde"
      },
      "source": [
        "xgb_clf2 = XGBClassifier(n_estimators=best_n_estimators, learning_rate=0.75, max_features=2, max_depth=2, random_state=0)\n",
        "xgb_clf2.fit(X_trainRos, y_trainRos)"
      ],
      "execution_count": 66,
      "outputs": [
        {
          "output_type": "execute_result",
          "data": {
            "text/plain": [
              "XGBClassifier(base_score=0.5, booster='gbtree', colsample_bylevel=1,\n",
              "              colsample_bynode=1, colsample_bytree=1, gamma=0,\n",
              "              learning_rate=0.75, max_delta_step=0, max_depth=2, max_features=2,\n",
              "              min_child_weight=1, missing=None, n_estimators=18, n_jobs=1,\n",
              "              nthread=None, objective='multi:softprob', random_state=0,\n",
              "              reg_alpha=0, reg_lambda=1, scale_pos_weight=1, seed=None,\n",
              "              silent=None, subsample=1, verbosity=1)"
            ]
          },
          "metadata": {
            "tags": []
          },
          "execution_count": 66
        }
      ]
    },
    {
      "cell_type": "code",
      "metadata": {
        "id": "SF2f1ZpAy_nq",
        "colab_type": "code",
        "colab": {
          "base_uri": "https://localhost:8080/",
          "height": 34
        },
        "outputId": "ba82191c-caeb-4e7d-86f7-18b9a1a1f970"
      },
      "source": [
        "score = xgb_clf2.score(X_valRos, y_valRos)\n",
        "print(score)"
      ],
      "execution_count": 67,
      "outputs": [
        {
          "output_type": "stream",
          "text": [
            "0.9410562368799028\n"
          ],
          "name": "stdout"
        }
      ]
    },
    {
      "cell_type": "code",
      "metadata": {
        "id": "Zd1dzP-ay_w3",
        "colab_type": "code",
        "colab": {
          "base_uri": "https://localhost:8080/",
          "height": 34
        },
        "outputId": "c1610d44-4927-457f-fc6a-337c5044accb"
      },
      "source": [
        "predictions = xgb_clf2.predict(X_valRos)\n",
        "metrics.f1_score(y_valRos, predictions, average='weighted', labels=np.unique(predictions))"
      ],
      "execution_count": 68,
      "outputs": [
        {
          "output_type": "execute_result",
          "data": {
            "text/plain": [
              "0.9396662301214798"
            ]
          },
          "metadata": {
            "tags": []
          },
          "execution_count": 68
        }
      ]
    },
    {
      "cell_type": "markdown",
      "metadata": {
        "id": "2jjz9iuPz35U",
        "colab_type": "text"
      },
      "source": [
        "##### The f1_score seems to reduce slightly but is still very good and the previous model seems to be overfitted a little, this is encountered somewhat here and makes a more robust classifier."
      ]
    },
    {
      "cell_type": "code",
      "metadata": {
        "id": "zGmDir3Jy_vZ",
        "colab_type": "code",
        "colab": {}
      },
      "source": [
        "def plot_confusion_matrix(cm, classes,\n",
        "                          normalize=False,\n",
        "                          title='Confusion matrix',\n",
        "                          cmap=plt.cm.Blues):\n",
        "    \"\"\"\n",
        "    This function prints and plots the confusion matrix.\n",
        "    Normalization can be applied by setting `normalize=True`.\n",
        "    \"\"\"\n",
        "    plt.figure(figsize = (5,5))\n",
        "    plt.imshow(cm, interpolation='nearest', cmap=cmap)\n",
        "    plt.title(title)\n",
        "    plt.colorbar()\n",
        "    tick_marks = np.arange(len(classes))\n",
        "    plt.xticks(tick_marks, classes, rotation=90)\n",
        "    plt.yticks(tick_marks, classes)\n",
        "    if normalize:\n",
        "        cm = cm.astype('float') / cm.sum(axis=1)[:, np.newaxis]\n",
        "\n",
        "    thresh = cm.max() / 2.\n",
        "    for i, j in itertools.product(range(cm.shape[0]), range(cm.shape[1])):\n",
        "        plt.text(j, i, cm[i, j],\n",
        "                 horizontalalignment=\"center\",\n",
        "                 color=\"white\" if cm[i, j] > thresh else \"black\")\n",
        "    plt.tight_layout()\n",
        "    plt.ylabel('True label')\n",
        "    plt.xlabel('Predicted label')"
      ],
      "execution_count": 69,
      "outputs": []
    },
    {
      "cell_type": "code",
      "metadata": {
        "id": "XzQ23Rtl0jgJ",
        "colab_type": "code",
        "colab": {
          "base_uri": "https://localhost:8080/",
          "height": 369
        },
        "outputId": "ea94915c-325f-434f-c331-8d2f7940a475"
      },
      "source": [
        "confusion_mtx = confusion_matrix(y_valRos, predictions) \n",
        "plot_confusion_matrix(confusion_mtx, classes = list(set(data_dt_final['E_COM_INDICATOR']))) \n",
        "plt.show()"
      ],
      "execution_count": 71,
      "outputs": [
        {
          "output_type": "display_data",
          "data": {
            "image/png": "[encoded data removed]",
            "text/plain": [
              "<Figure size 360x360 with 2 Axes>"
            ]
          },
          "metadata": {
            "tags": [],
            "needs_background": "light"
          }
        }
      ]
    },
    {
      "cell_type": "markdown",
      "metadata": {
        "id": "Irmh7RYX14b2",
        "colab_type": "text"
      },
      "source": [
        "##### We can plot similar confusion matrices for the other classifiers and compare, the aim is to get most values on the diagonal since that means that the true label and the predicted label matches"
      ]
    },
    {
      "cell_type": "markdown",
      "metadata": {
        "id": "4CPQRNaU3CIR",
        "colab_type": "text"
      },
      "source": [
        "### **ROUGH WORK**"
      ]
    },
    {
      "cell_type": "code",
      "metadata": {
        "id": "-03o_rAP0jlP",
        "colab_type": "code",
        "colab": {}
      },
      "source": [
        ""
      ],
      "execution_count": null,
      "outputs": []
    },
    {
      "cell_type": "code",
      "metadata": {
        "id": "95yfzcvFy_tQ",
        "colab_type": "code",
        "colab": {}
      },
      "source": [
        ""
      ],
      "execution_count": null,
      "outputs": []
    },
    {
      "cell_type": "code",
      "metadata": {
        "id": "RRRz6B950crF",
        "colab_type": "code",
        "colab": {}
      },
      "source": [
        "## To Do\n"
      ],
      "execution_count": 38,
      "outputs": []
    },
    {
      "cell_type": "code",
      "metadata": {
        "id": "DjBGiHq10cvJ",
        "colab_type": "code",
        "colab": {}
      },
      "source": [
        ""
      ],
      "execution_count": 38,
      "outputs": []
    }
  ]
}
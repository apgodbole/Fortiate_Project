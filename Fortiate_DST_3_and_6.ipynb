{
  "nbformat": 4,
  "nbformat_minor": 0,
  "metadata": {
    "colab": {
      "name": "Fortiate_DST_3_and_6.ipynb",
      "provenance": [],
      "collapsed_sections": [],
      "include_colab_link": true
    },
    "kernelspec": {
      "name": "python3",
      "display_name": "Python 3"
    }
  },
  "cells": [
    {
      "cell_type": "markdown",
      "metadata": {
        "id": "view-in-github",
        "colab_type": "text"
      },
      "source": [
        "<a href=\"https://colab.research.google.com/github/trinade96/Fortiate_Project/blob/master/Fortiate_DST_3_and_6.ipynb\" target=\"_parent\"><img src=\"https://colab.research.google.com/assets/colab-badge.svg\" alt=\"Open In Colab\"/></a>"
      ]
    },
    {
      "cell_type": "markdown",
      "metadata": {
        "id": "S26biy4-rQdJ",
        "colab_type": "text"
      },
      "source": [
        "##### Trina De"
      ]
    },
    {
      "cell_type": "markdown",
      "metadata": {
        "id": "sjcdlEEFruAq",
        "colab_type": "text"
      },
      "source": [
        "##### **Packages Used**"
      ]
    },
    {
      "cell_type": "code",
      "metadata": {
        "id": "jQTsiBp_rGEN",
        "colab_type": "code",
        "colab": {}
      },
      "source": [
        "import numpy as np \n",
        "import pandas as pd\n",
        "from datetime import date\n",
        "import time"
      ],
      "execution_count": 0,
      "outputs": []
    },
    {
      "cell_type": "markdown",
      "metadata": {
        "id": "T03l22fttMG9",
        "colab_type": "text"
      },
      "source": [
        "##### **Loading the data**"
      ]
    },
    {
      "cell_type": "code",
      "metadata": {
        "id": "swv8dnXZr6Ww",
        "colab_type": "code",
        "outputId": "996cbbf9-50ba-41fa-f105-83d3f0b3c1fe",
        "colab": {
          "base_uri": "https://localhost:8080/",
          "height": 146
        }
      },
      "source": [
        "from google.colab import drive\n",
        "drive.mount('/gdrive',force_remount=True)\n",
        "%cd /gdrive"
      ],
      "execution_count": 2,
      "outputs": [
        {
          "output_type": "stream",
          "text": [
            "Go to this URL in a browser: https://accounts.google.com/o/oauth2/auth?client_id=947318989803-6bn6qk8qdgf4n4g3pfee6491hc0brc4i.apps.googleusercontent.com&redirect_uri=urn%3aietf%3awg%3aoauth%3a2.0%3aoob&response_type=code&scope=email%20https%3a%2f%2fwww.googleapis.com%2fauth%2fdocs.test%20https%3a%2f%2fwww.googleapis.com%2fauth%2fdrive%20https%3a%2f%2fwww.googleapis.com%2fauth%2fdrive.photos.readonly%20https%3a%2f%2fwww.googleapis.com%2fauth%2fpeopleapi.readonly\n",
            "\n",
            "Enter your authorization code:\n",
            "··········\n",
            "Mounted at /gdrive\n",
            "/gdrive\n"
          ],
          "name": "stdout"
        }
      ]
    },
    {
      "cell_type": "markdown",
      "metadata": {
        "id": "1bzKcmJHtV-Y",
        "colab_type": "text"
      },
      "source": [
        "##### **Reading the Data**"
      ]
    },
    {
      "cell_type": "code",
      "metadata": {
        "id": "5NSd0kTo3G6B",
        "colab_type": "code",
        "outputId": "cfc11fea-6b9a-4709-a8c3-2751da41d0e1",
        "colab": {
          "base_uri": "https://localhost:8080/",
          "height": 452
        }
      },
      "source": [
        "missing_values = [\"n/a\", \"na\", \"--\", ' ', \"NAN\",\"nan\",\"NA\",\"NaN\"]\n",
        "data = pd.read_excel(\"/gdrive/My Drive/DATA FOR ALL TEAMS-25MB.xlsx\",na_values=missing_values)\n",
        "data.head()"
      ],
      "execution_count": 3,
      "outputs": [
        {
          "output_type": "execute_result",
          "data": {
            "text/html": [
              "<div>\n",
              "<style scoped>\n",
              "    .dataframe tbody tr th:only-of-type {\n",
              "        vertical-align: middle;\n",
              "    }\n",
              "\n",
              "    .dataframe tbody tr th {\n",
              "        vertical-align: top;\n",
              "    }\n",
              "\n",
              "    .dataframe thead th {\n",
              "        text-align: right;\n",
              "    }\n",
              "</style>\n",
              "<table border=\"1\" class=\"dataframe\">\n",
              "  <thead>\n",
              "    <tr style=\"text-align: right;\">\n",
              "      <th></th>\n",
              "      <th>Card-Wallet-Token ID</th>\n",
              "      <th>PROCESSING_CODE</th>\n",
              "      <th>TRANSACTION_AMOUNT</th>\n",
              "      <th>SETTLEMENT_AMOUNT</th>\n",
              "      <th>BILLING_AMOUNT</th>\n",
              "      <th>Transaction Date and Time</th>\n",
              "      <th>CONVERSION_RATE</th>\n",
              "      <th>Expiry Date</th>\n",
              "      <th>CONVERSION_RATE_DATE</th>\n",
              "      <th>Merchant Category Code</th>\n",
              "      <th>ACQUIRING_COUNTRY_CODE</th>\n",
              "      <th>POS entry Mode</th>\n",
              "      <th>ACQUIRER_INSTITUTION_CODE</th>\n",
              "      <th>Authorization Code</th>\n",
              "      <th>Approval Decision</th>\n",
              "      <th>Card Service Code</th>\n",
              "      <th>TID</th>\n",
              "      <th>MID</th>\n",
              "      <th>MERCHANT NAME AND ADDRESS</th>\n",
              "      <th>Private Data 48</th>\n",
              "      <th>Transaction Category Code</th>\n",
              "      <th>DE48 Data Length</th>\n",
              "      <th>TRANSACTION_CURRENCY</th>\n",
              "      <th>SETTLEMENT_CURRENCY</th>\n",
              "      <th>BILLING_CURRENCY</th>\n",
              "      <th>POS_DATA</th>\n",
              "      <th>Interface ID</th>\n",
              "      <th>Terminal Type</th>\n",
              "      <th>Token Data-C1</th>\n",
              "      <th>Additional Payment Info</th>\n",
              "      <th>Ecommerce Data</th>\n",
              "      <th>ECI Indicator</th>\n",
              "      <th>Remaining Balance</th>\n",
              "      <th>Private Data - Additional Info</th>\n",
              "      <th>Token Data</th>\n",
              "      <th>TARGET</th>\n",
              "    </tr>\n",
              "  </thead>\n",
              "  <tbody>\n",
              "    <tr>\n",
              "      <th>0</th>\n",
              "      <td>DE2</td>\n",
              "      <td>DE3</td>\n",
              "      <td>DE4</td>\n",
              "      <td>DE5</td>\n",
              "      <td>DE6</td>\n",
              "      <td>DE7</td>\n",
              "      <td>DE9</td>\n",
              "      <td>DE14</td>\n",
              "      <td>DE16</td>\n",
              "      <td>DE18</td>\n",
              "      <td>DE19</td>\n",
              "      <td>DE22</td>\n",
              "      <td>DE32</td>\n",
              "      <td>DE38</td>\n",
              "      <td>DE39</td>\n",
              "      <td>DE40</td>\n",
              "      <td>DE41</td>\n",
              "      <td>DE42</td>\n",
              "      <td>DE43</td>\n",
              "      <td>DE48</td>\n",
              "      <td>Private Data 48-1</td>\n",
              "      <td>Private Data 48-2</td>\n",
              "      <td>DE49</td>\n",
              "      <td>DE50</td>\n",
              "      <td>DE51</td>\n",
              "      <td>DE61</td>\n",
              "      <td>DE4801</td>\n",
              "      <td>DE4801</td>\n",
              "      <td>DE4803</td>\n",
              "      <td>DE4804</td>\n",
              "      <td>DE4805</td>\n",
              "      <td>DE4806</td>\n",
              "      <td>DE4807</td>\n",
              "      <td>DE4808</td>\n",
              "      <td>DE4809</td>\n",
              "      <td>DE4810</td>\n",
              "    </tr>\n",
              "    <tr>\n",
              "      <th>1</th>\n",
              "      <td>6086941819072006</td>\n",
              "      <td>174000</td>\n",
              "      <td>7000</td>\n",
              "      <td>7000</td>\n",
              "      <td>7000</td>\n",
              "      <td>22-MAR-18 09.10.37</td>\n",
              "      <td>0</td>\n",
              "      <td>01-JUL-23 00.00.00</td>\n",
              "      <td>NaN</td>\n",
              "      <td>6011</td>\n",
              "      <td>356</td>\n",
              "      <td>???</td>\n",
              "      <td>544921</td>\n",
              "      <td>533038</td>\n",
              "      <td>000</td>\n",
              "      <td>201</td>\n",
              "      <td>GYACBB04</td>\n",
              "      <td>1005044921</td>\n",
              "      <td>LXFC BTNK LTD.KHURDT OR IN</td>\n",
              "      <td>NaN</td>\n",
              "      <td>NaN</td>\n",
              "      <td>NaN</td>\n",
              "      <td>356</td>\n",
              "      <td>356</td>\n",
              "      <td>356</td>\n",
              "      <td>210201210141</td>\n",
              "      <td>IN1</td>\n",
              "      <td>ATM</td>\n",
              "      <td>0917</td>\n",
              "      <td>NaN</td>\n",
              "      <td>NaN</td>\n",
              "      <td>NaN</td>\n",
              "      <td>35000</td>\n",
              "      <td>NaN</td>\n",
              "      <td>NaN</td>\n",
              "      <td>NaN</td>\n",
              "    </tr>\n",
              "    <tr>\n",
              "      <th>2</th>\n",
              "      <td>6086941026163002</td>\n",
              "      <td>174000</td>\n",
              "      <td>2000</td>\n",
              "      <td>2000</td>\n",
              "      <td>2000</td>\n",
              "      <td>22-MAR-18 12.28.15</td>\n",
              "      <td>0</td>\n",
              "      <td>01-DEC-22 00.00.00</td>\n",
              "      <td>NaN</td>\n",
              "      <td>6011</td>\n",
              "      <td>356</td>\n",
              "      <td>???</td>\n",
              "      <td>544921</td>\n",
              "      <td>944896</td>\n",
              "      <td>000</td>\n",
              "      <td>201</td>\n",
              "      <td>JSEWLK06</td>\n",
              "      <td>1005044921</td>\n",
              "      <td>LXFC BTNK LTD.LUCKNOWUP IN</td>\n",
              "      <td>NaN</td>\n",
              "      <td>NaN</td>\n",
              "      <td>NaN</td>\n",
              "      <td>356</td>\n",
              "      <td>356</td>\n",
              "      <td>356</td>\n",
              "      <td>210201210141</td>\n",
              "      <td>IN1</td>\n",
              "      <td>ATM</td>\n",
              "      <td>0796</td>\n",
              "      <td>NaN</td>\n",
              "      <td>NaN</td>\n",
              "      <td>NaN</td>\n",
              "      <td>44000</td>\n",
              "      <td>NaN</td>\n",
              "      <td>NaN</td>\n",
              "      <td>NaN</td>\n",
              "    </tr>\n",
              "    <tr>\n",
              "      <th>3</th>\n",
              "      <td>6086941026163002</td>\n",
              "      <td>174000</td>\n",
              "      <td>1000</td>\n",
              "      <td>1000</td>\n",
              "      <td>1000</td>\n",
              "      <td>22-MAR-18 14.51.45</td>\n",
              "      <td>0</td>\n",
              "      <td>01-DEC-22 00.00.00</td>\n",
              "      <td>NaN</td>\n",
              "      <td>6011</td>\n",
              "      <td>356</td>\n",
              "      <td>???</td>\n",
              "      <td>544921</td>\n",
              "      <td>153505</td>\n",
              "      <td>000</td>\n",
              "      <td>201</td>\n",
              "      <td>JSEWLK06</td>\n",
              "      <td>1005044921</td>\n",
              "      <td>LXFC BTNK LTD.LUCKNOWUP IN</td>\n",
              "      <td>NaN</td>\n",
              "      <td>NaN</td>\n",
              "      <td>NaN</td>\n",
              "      <td>356</td>\n",
              "      <td>356</td>\n",
              "      <td>356</td>\n",
              "      <td>210201210141</td>\n",
              "      <td>IN1</td>\n",
              "      <td>ATM</td>\n",
              "      <td>0796</td>\n",
              "      <td>NaN</td>\n",
              "      <td>NaN</td>\n",
              "      <td>NaN</td>\n",
              "      <td>42000</td>\n",
              "      <td>NaN</td>\n",
              "      <td>NaN</td>\n",
              "      <td>NaN</td>\n",
              "    </tr>\n",
              "    <tr>\n",
              "      <th>4</th>\n",
              "      <td>6086941055683003</td>\n",
              "      <td>174000</td>\n",
              "      <td>4500</td>\n",
              "      <td>28.59</td>\n",
              "      <td>2034.06</td>\n",
              "      <td>22-MAR-18 15.50.10</td>\n",
              "      <td>56874000</td>\n",
              "      <td>01-JUL-23 00.00.00</td>\n",
              "      <td>NaN</td>\n",
              "      <td>6011</td>\n",
              "      <td>144</td>\n",
              "      <td>???</td>\n",
              "      <td>544921</td>\n",
              "      <td>757011</td>\n",
              "      <td>000</td>\n",
              "      <td>201</td>\n",
              "      <td>A9021311</td>\n",
              "      <td>1144000031</td>\n",
              "      <td>STMPTTH BTNK TTMCTSHLK</td>\n",
              "      <td>NaN</td>\n",
              "      <td>NaN</td>\n",
              "      <td>NaN</td>\n",
              "      <td>144</td>\n",
              "      <td>840</td>\n",
              "      <td>356</td>\n",
              "      <td>210201210141</td>\n",
              "      <td>IN1</td>\n",
              "      <td>ATM</td>\n",
              "      <td>0797</td>\n",
              "      <td>NaN</td>\n",
              "      <td>NaN</td>\n",
              "      <td>NaN</td>\n",
              "      <td>14791.4</td>\n",
              "      <td>NaN</td>\n",
              "      <td>NaN</td>\n",
              "      <td>NaN</td>\n",
              "    </tr>\n",
              "  </tbody>\n",
              "</table>\n",
              "</div>"
            ],
            "text/plain": [
              "  Card-Wallet-Token ID PROCESSING_CODE  ... Token Data  TARGET\n",
              "0                  DE2             DE3  ...     DE4809  DE4810\n",
              "1     6086941819072006          174000  ...        NaN     NaN\n",
              "2     6086941026163002          174000  ...        NaN     NaN\n",
              "3     6086941026163002          174000  ...        NaN     NaN\n",
              "4     6086941055683003          174000  ...        NaN     NaN\n",
              "\n",
              "[5 rows x 36 columns]"
            ]
          },
          "metadata": {
            "tags": []
          },
          "execution_count": 3
        }
      ]
    },
    {
      "cell_type": "code",
      "metadata": {
        "id": "TppOQRSwpSd5",
        "colab_type": "code",
        "outputId": "1044866f-75b8-47db-dfbc-cf352528db6e",
        "colab": {
          "base_uri": "https://localhost:8080/",
          "height": 469
        }
      },
      "source": [
        "data2 = data.iloc[1:,:]\n",
        "data2.head()"
      ],
      "execution_count": 4,
      "outputs": [
        {
          "output_type": "execute_result",
          "data": {
            "text/html": [
              "<div>\n",
              "<style scoped>\n",
              "    .dataframe tbody tr th:only-of-type {\n",
              "        vertical-align: middle;\n",
              "    }\n",
              "\n",
              "    .dataframe tbody tr th {\n",
              "        vertical-align: top;\n",
              "    }\n",
              "\n",
              "    .dataframe thead th {\n",
              "        text-align: right;\n",
              "    }\n",
              "</style>\n",
              "<table border=\"1\" class=\"dataframe\">\n",
              "  <thead>\n",
              "    <tr style=\"text-align: right;\">\n",
              "      <th></th>\n",
              "      <th>Card-Wallet-Token ID</th>\n",
              "      <th>PROCESSING_CODE</th>\n",
              "      <th>TRANSACTION_AMOUNT</th>\n",
              "      <th>SETTLEMENT_AMOUNT</th>\n",
              "      <th>BILLING_AMOUNT</th>\n",
              "      <th>Transaction Date and Time</th>\n",
              "      <th>CONVERSION_RATE</th>\n",
              "      <th>Expiry Date</th>\n",
              "      <th>CONVERSION_RATE_DATE</th>\n",
              "      <th>Merchant Category Code</th>\n",
              "      <th>ACQUIRING_COUNTRY_CODE</th>\n",
              "      <th>POS entry Mode</th>\n",
              "      <th>ACQUIRER_INSTITUTION_CODE</th>\n",
              "      <th>Authorization Code</th>\n",
              "      <th>Approval Decision</th>\n",
              "      <th>Card Service Code</th>\n",
              "      <th>TID</th>\n",
              "      <th>MID</th>\n",
              "      <th>MERCHANT NAME AND ADDRESS</th>\n",
              "      <th>Private Data 48</th>\n",
              "      <th>Transaction Category Code</th>\n",
              "      <th>DE48 Data Length</th>\n",
              "      <th>TRANSACTION_CURRENCY</th>\n",
              "      <th>SETTLEMENT_CURRENCY</th>\n",
              "      <th>BILLING_CURRENCY</th>\n",
              "      <th>POS_DATA</th>\n",
              "      <th>Interface ID</th>\n",
              "      <th>Terminal Type</th>\n",
              "      <th>Token Data-C1</th>\n",
              "      <th>Additional Payment Info</th>\n",
              "      <th>Ecommerce Data</th>\n",
              "      <th>ECI Indicator</th>\n",
              "      <th>Remaining Balance</th>\n",
              "      <th>Private Data - Additional Info</th>\n",
              "      <th>Token Data</th>\n",
              "      <th>TARGET</th>\n",
              "    </tr>\n",
              "  </thead>\n",
              "  <tbody>\n",
              "    <tr>\n",
              "      <th>1</th>\n",
              "      <td>6086941819072006</td>\n",
              "      <td>174000</td>\n",
              "      <td>7000</td>\n",
              "      <td>7000</td>\n",
              "      <td>7000</td>\n",
              "      <td>22-MAR-18 09.10.37</td>\n",
              "      <td>0</td>\n",
              "      <td>01-JUL-23 00.00.00</td>\n",
              "      <td>NaN</td>\n",
              "      <td>6011</td>\n",
              "      <td>356</td>\n",
              "      <td>???</td>\n",
              "      <td>544921</td>\n",
              "      <td>533038</td>\n",
              "      <td>000</td>\n",
              "      <td>201</td>\n",
              "      <td>GYACBB04</td>\n",
              "      <td>1005044921</td>\n",
              "      <td>LXFC BTNK LTD.KHURDT OR IN</td>\n",
              "      <td>NaN</td>\n",
              "      <td>NaN</td>\n",
              "      <td>NaN</td>\n",
              "      <td>356</td>\n",
              "      <td>356</td>\n",
              "      <td>356</td>\n",
              "      <td>210201210141</td>\n",
              "      <td>IN1</td>\n",
              "      <td>ATM</td>\n",
              "      <td>0917</td>\n",
              "      <td>NaN</td>\n",
              "      <td>NaN</td>\n",
              "      <td>NaN</td>\n",
              "      <td>35000</td>\n",
              "      <td>NaN</td>\n",
              "      <td>NaN</td>\n",
              "      <td>NaN</td>\n",
              "    </tr>\n",
              "    <tr>\n",
              "      <th>2</th>\n",
              "      <td>6086941026163002</td>\n",
              "      <td>174000</td>\n",
              "      <td>2000</td>\n",
              "      <td>2000</td>\n",
              "      <td>2000</td>\n",
              "      <td>22-MAR-18 12.28.15</td>\n",
              "      <td>0</td>\n",
              "      <td>01-DEC-22 00.00.00</td>\n",
              "      <td>NaN</td>\n",
              "      <td>6011</td>\n",
              "      <td>356</td>\n",
              "      <td>???</td>\n",
              "      <td>544921</td>\n",
              "      <td>944896</td>\n",
              "      <td>000</td>\n",
              "      <td>201</td>\n",
              "      <td>JSEWLK06</td>\n",
              "      <td>1005044921</td>\n",
              "      <td>LXFC BTNK LTD.LUCKNOWUP IN</td>\n",
              "      <td>NaN</td>\n",
              "      <td>NaN</td>\n",
              "      <td>NaN</td>\n",
              "      <td>356</td>\n",
              "      <td>356</td>\n",
              "      <td>356</td>\n",
              "      <td>210201210141</td>\n",
              "      <td>IN1</td>\n",
              "      <td>ATM</td>\n",
              "      <td>0796</td>\n",
              "      <td>NaN</td>\n",
              "      <td>NaN</td>\n",
              "      <td>NaN</td>\n",
              "      <td>44000</td>\n",
              "      <td>NaN</td>\n",
              "      <td>NaN</td>\n",
              "      <td>NaN</td>\n",
              "    </tr>\n",
              "    <tr>\n",
              "      <th>3</th>\n",
              "      <td>6086941026163002</td>\n",
              "      <td>174000</td>\n",
              "      <td>1000</td>\n",
              "      <td>1000</td>\n",
              "      <td>1000</td>\n",
              "      <td>22-MAR-18 14.51.45</td>\n",
              "      <td>0</td>\n",
              "      <td>01-DEC-22 00.00.00</td>\n",
              "      <td>NaN</td>\n",
              "      <td>6011</td>\n",
              "      <td>356</td>\n",
              "      <td>???</td>\n",
              "      <td>544921</td>\n",
              "      <td>153505</td>\n",
              "      <td>000</td>\n",
              "      <td>201</td>\n",
              "      <td>JSEWLK06</td>\n",
              "      <td>1005044921</td>\n",
              "      <td>LXFC BTNK LTD.LUCKNOWUP IN</td>\n",
              "      <td>NaN</td>\n",
              "      <td>NaN</td>\n",
              "      <td>NaN</td>\n",
              "      <td>356</td>\n",
              "      <td>356</td>\n",
              "      <td>356</td>\n",
              "      <td>210201210141</td>\n",
              "      <td>IN1</td>\n",
              "      <td>ATM</td>\n",
              "      <td>0796</td>\n",
              "      <td>NaN</td>\n",
              "      <td>NaN</td>\n",
              "      <td>NaN</td>\n",
              "      <td>42000</td>\n",
              "      <td>NaN</td>\n",
              "      <td>NaN</td>\n",
              "      <td>NaN</td>\n",
              "    </tr>\n",
              "    <tr>\n",
              "      <th>4</th>\n",
              "      <td>6086941055683003</td>\n",
              "      <td>174000</td>\n",
              "      <td>4500</td>\n",
              "      <td>28.59</td>\n",
              "      <td>2034.06</td>\n",
              "      <td>22-MAR-18 15.50.10</td>\n",
              "      <td>56874000</td>\n",
              "      <td>01-JUL-23 00.00.00</td>\n",
              "      <td>NaN</td>\n",
              "      <td>6011</td>\n",
              "      <td>144</td>\n",
              "      <td>???</td>\n",
              "      <td>544921</td>\n",
              "      <td>757011</td>\n",
              "      <td>000</td>\n",
              "      <td>201</td>\n",
              "      <td>A9021311</td>\n",
              "      <td>1144000031</td>\n",
              "      <td>STMPTTH BTNK TTMCTSHLK</td>\n",
              "      <td>NaN</td>\n",
              "      <td>NaN</td>\n",
              "      <td>NaN</td>\n",
              "      <td>144</td>\n",
              "      <td>840</td>\n",
              "      <td>356</td>\n",
              "      <td>210201210141</td>\n",
              "      <td>IN1</td>\n",
              "      <td>ATM</td>\n",
              "      <td>0797</td>\n",
              "      <td>NaN</td>\n",
              "      <td>NaN</td>\n",
              "      <td>NaN</td>\n",
              "      <td>14791.4</td>\n",
              "      <td>NaN</td>\n",
              "      <td>NaN</td>\n",
              "      <td>NaN</td>\n",
              "    </tr>\n",
              "    <tr>\n",
              "      <th>5</th>\n",
              "      <td>6086941020177008</td>\n",
              "      <td>004000</td>\n",
              "      <td>499</td>\n",
              "      <td>7.14</td>\n",
              "      <td>499</td>\n",
              "      <td>22-MAR-18 02.35.44</td>\n",
              "      <td>0</td>\n",
              "      <td>01-DEC-22 00.00.00</td>\n",
              "      <td>NaN</td>\n",
              "      <td>5967</td>\n",
              "      <td>840</td>\n",
              "      <td>???</td>\n",
              "      <td>370100</td>\n",
              "      <td>954345</td>\n",
              "      <td>000</td>\n",
              "      <td>201</td>\n",
              "      <td>FN90G440</td>\n",
              "      <td>9590108460</td>\n",
              "      <td>GOOGLE SERDICES \\\\MOUNTTIN DIEW\\94043 \\</td>\n",
              "      <td>NaN</td>\n",
              "      <td>NaN</td>\n",
              "      <td>NaN</td>\n",
              "      <td>356</td>\n",
              "      <td>840</td>\n",
              "      <td>356</td>\n",
              "      <td>200111100040</td>\n",
              "      <td>IN1</td>\n",
              "      <td>POS</td>\n",
              "      <td>0797</td>\n",
              "      <td>NaN</td>\n",
              "      <td>NaN</td>\n",
              "      <td>NaN</td>\n",
              "      <td>177495</td>\n",
              "      <td>NaN</td>\n",
              "      <td>NaN</td>\n",
              "      <td>NaN</td>\n",
              "    </tr>\n",
              "  </tbody>\n",
              "</table>\n",
              "</div>"
            ],
            "text/plain": [
              "  Card-Wallet-Token ID PROCESSING_CODE  ... Token Data TARGET\n",
              "1     6086941819072006          174000  ...        NaN    NaN\n",
              "2     6086941026163002          174000  ...        NaN    NaN\n",
              "3     6086941026163002          174000  ...        NaN    NaN\n",
              "4     6086941055683003          174000  ...        NaN    NaN\n",
              "5     6086941020177008          004000  ...        NaN    NaN\n",
              "\n",
              "[5 rows x 36 columns]"
            ]
          },
          "metadata": {
            "tags": []
          },
          "execution_count": 4
        }
      ]
    },
    {
      "cell_type": "markdown",
      "metadata": {
        "id": "vwzNsu_oKm0q",
        "colab_type": "text"
      },
      "source": [
        "##### **Changing non NaNs in 'TARGET' column to 'Not Fraud'**"
      ]
    },
    {
      "cell_type": "code",
      "metadata": {
        "id": "sCw2r4l5z-GP",
        "colab_type": "code",
        "outputId": "469ae21d-b89e-41dc-fbc5-414ad2e0822b",
        "colab": {
          "base_uri": "https://localhost:8080/",
          "height": 144
        }
      },
      "source": [
        "data2['TARGET'] = [x if x == 'Fraud' else 'Not Fraud' for x in list(data2['TARGET'])]\n",
        "set(data2['TARGET'])"
      ],
      "execution_count": 5,
      "outputs": [
        {
          "output_type": "stream",
          "text": [
            "/usr/local/lib/python3.6/dist-packages/ipykernel_launcher.py:1: SettingWithCopyWarning: \n",
            "A value is trying to be set on a copy of a slice from a DataFrame.\n",
            "Try using .loc[row_indexer,col_indexer] = value instead\n",
            "\n",
            "See the caveats in the documentation: http://pandas.pydata.org/pandas-docs/stable/user_guide/indexing.html#returning-a-view-versus-a-copy\n",
            "  \"\"\"Entry point for launching an IPython kernel.\n"
          ],
          "name": "stderr"
        },
        {
          "output_type": "execute_result",
          "data": {
            "text/plain": [
              "{'Fraud', 'Not Fraud'}"
            ]
          },
          "metadata": {
            "tags": []
          },
          "execution_count": 5
        }
      ]
    },
    {
      "cell_type": "code",
      "metadata": {
        "id": "FwqjoOPnz-AC",
        "colab_type": "code",
        "outputId": "87ac44d9-55c9-4e2c-ce80-aabff6f237d0",
        "colab": {
          "base_uri": "https://localhost:8080/",
          "height": 469
        }
      },
      "source": [
        "data2.head()"
      ],
      "execution_count": 6,
      "outputs": [
        {
          "output_type": "execute_result",
          "data": {
            "text/html": [
              "<div>\n",
              "<style scoped>\n",
              "    .dataframe tbody tr th:only-of-type {\n",
              "        vertical-align: middle;\n",
              "    }\n",
              "\n",
              "    .dataframe tbody tr th {\n",
              "        vertical-align: top;\n",
              "    }\n",
              "\n",
              "    .dataframe thead th {\n",
              "        text-align: right;\n",
              "    }\n",
              "</style>\n",
              "<table border=\"1\" class=\"dataframe\">\n",
              "  <thead>\n",
              "    <tr style=\"text-align: right;\">\n",
              "      <th></th>\n",
              "      <th>Card-Wallet-Token ID</th>\n",
              "      <th>PROCESSING_CODE</th>\n",
              "      <th>TRANSACTION_AMOUNT</th>\n",
              "      <th>SETTLEMENT_AMOUNT</th>\n",
              "      <th>BILLING_AMOUNT</th>\n",
              "      <th>Transaction Date and Time</th>\n",
              "      <th>CONVERSION_RATE</th>\n",
              "      <th>Expiry Date</th>\n",
              "      <th>CONVERSION_RATE_DATE</th>\n",
              "      <th>Merchant Category Code</th>\n",
              "      <th>ACQUIRING_COUNTRY_CODE</th>\n",
              "      <th>POS entry Mode</th>\n",
              "      <th>ACQUIRER_INSTITUTION_CODE</th>\n",
              "      <th>Authorization Code</th>\n",
              "      <th>Approval Decision</th>\n",
              "      <th>Card Service Code</th>\n",
              "      <th>TID</th>\n",
              "      <th>MID</th>\n",
              "      <th>MERCHANT NAME AND ADDRESS</th>\n",
              "      <th>Private Data 48</th>\n",
              "      <th>Transaction Category Code</th>\n",
              "      <th>DE48 Data Length</th>\n",
              "      <th>TRANSACTION_CURRENCY</th>\n",
              "      <th>SETTLEMENT_CURRENCY</th>\n",
              "      <th>BILLING_CURRENCY</th>\n",
              "      <th>POS_DATA</th>\n",
              "      <th>Interface ID</th>\n",
              "      <th>Terminal Type</th>\n",
              "      <th>Token Data-C1</th>\n",
              "      <th>Additional Payment Info</th>\n",
              "      <th>Ecommerce Data</th>\n",
              "      <th>ECI Indicator</th>\n",
              "      <th>Remaining Balance</th>\n",
              "      <th>Private Data - Additional Info</th>\n",
              "      <th>Token Data</th>\n",
              "      <th>TARGET</th>\n",
              "    </tr>\n",
              "  </thead>\n",
              "  <tbody>\n",
              "    <tr>\n",
              "      <th>1</th>\n",
              "      <td>6086941819072006</td>\n",
              "      <td>174000</td>\n",
              "      <td>7000</td>\n",
              "      <td>7000</td>\n",
              "      <td>7000</td>\n",
              "      <td>22-MAR-18 09.10.37</td>\n",
              "      <td>0</td>\n",
              "      <td>01-JUL-23 00.00.00</td>\n",
              "      <td>NaN</td>\n",
              "      <td>6011</td>\n",
              "      <td>356</td>\n",
              "      <td>???</td>\n",
              "      <td>544921</td>\n",
              "      <td>533038</td>\n",
              "      <td>000</td>\n",
              "      <td>201</td>\n",
              "      <td>GYACBB04</td>\n",
              "      <td>1005044921</td>\n",
              "      <td>LXFC BTNK LTD.KHURDT OR IN</td>\n",
              "      <td>NaN</td>\n",
              "      <td>NaN</td>\n",
              "      <td>NaN</td>\n",
              "      <td>356</td>\n",
              "      <td>356</td>\n",
              "      <td>356</td>\n",
              "      <td>210201210141</td>\n",
              "      <td>IN1</td>\n",
              "      <td>ATM</td>\n",
              "      <td>0917</td>\n",
              "      <td>NaN</td>\n",
              "      <td>NaN</td>\n",
              "      <td>NaN</td>\n",
              "      <td>35000</td>\n",
              "      <td>NaN</td>\n",
              "      <td>NaN</td>\n",
              "      <td>Not Fraud</td>\n",
              "    </tr>\n",
              "    <tr>\n",
              "      <th>2</th>\n",
              "      <td>6086941026163002</td>\n",
              "      <td>174000</td>\n",
              "      <td>2000</td>\n",
              "      <td>2000</td>\n",
              "      <td>2000</td>\n",
              "      <td>22-MAR-18 12.28.15</td>\n",
              "      <td>0</td>\n",
              "      <td>01-DEC-22 00.00.00</td>\n",
              "      <td>NaN</td>\n",
              "      <td>6011</td>\n",
              "      <td>356</td>\n",
              "      <td>???</td>\n",
              "      <td>544921</td>\n",
              "      <td>944896</td>\n",
              "      <td>000</td>\n",
              "      <td>201</td>\n",
              "      <td>JSEWLK06</td>\n",
              "      <td>1005044921</td>\n",
              "      <td>LXFC BTNK LTD.LUCKNOWUP IN</td>\n",
              "      <td>NaN</td>\n",
              "      <td>NaN</td>\n",
              "      <td>NaN</td>\n",
              "      <td>356</td>\n",
              "      <td>356</td>\n",
              "      <td>356</td>\n",
              "      <td>210201210141</td>\n",
              "      <td>IN1</td>\n",
              "      <td>ATM</td>\n",
              "      <td>0796</td>\n",
              "      <td>NaN</td>\n",
              "      <td>NaN</td>\n",
              "      <td>NaN</td>\n",
              "      <td>44000</td>\n",
              "      <td>NaN</td>\n",
              "      <td>NaN</td>\n",
              "      <td>Not Fraud</td>\n",
              "    </tr>\n",
              "    <tr>\n",
              "      <th>3</th>\n",
              "      <td>6086941026163002</td>\n",
              "      <td>174000</td>\n",
              "      <td>1000</td>\n",
              "      <td>1000</td>\n",
              "      <td>1000</td>\n",
              "      <td>22-MAR-18 14.51.45</td>\n",
              "      <td>0</td>\n",
              "      <td>01-DEC-22 00.00.00</td>\n",
              "      <td>NaN</td>\n",
              "      <td>6011</td>\n",
              "      <td>356</td>\n",
              "      <td>???</td>\n",
              "      <td>544921</td>\n",
              "      <td>153505</td>\n",
              "      <td>000</td>\n",
              "      <td>201</td>\n",
              "      <td>JSEWLK06</td>\n",
              "      <td>1005044921</td>\n",
              "      <td>LXFC BTNK LTD.LUCKNOWUP IN</td>\n",
              "      <td>NaN</td>\n",
              "      <td>NaN</td>\n",
              "      <td>NaN</td>\n",
              "      <td>356</td>\n",
              "      <td>356</td>\n",
              "      <td>356</td>\n",
              "      <td>210201210141</td>\n",
              "      <td>IN1</td>\n",
              "      <td>ATM</td>\n",
              "      <td>0796</td>\n",
              "      <td>NaN</td>\n",
              "      <td>NaN</td>\n",
              "      <td>NaN</td>\n",
              "      <td>42000</td>\n",
              "      <td>NaN</td>\n",
              "      <td>NaN</td>\n",
              "      <td>Not Fraud</td>\n",
              "    </tr>\n",
              "    <tr>\n",
              "      <th>4</th>\n",
              "      <td>6086941055683003</td>\n",
              "      <td>174000</td>\n",
              "      <td>4500</td>\n",
              "      <td>28.59</td>\n",
              "      <td>2034.06</td>\n",
              "      <td>22-MAR-18 15.50.10</td>\n",
              "      <td>56874000</td>\n",
              "      <td>01-JUL-23 00.00.00</td>\n",
              "      <td>NaN</td>\n",
              "      <td>6011</td>\n",
              "      <td>144</td>\n",
              "      <td>???</td>\n",
              "      <td>544921</td>\n",
              "      <td>757011</td>\n",
              "      <td>000</td>\n",
              "      <td>201</td>\n",
              "      <td>A9021311</td>\n",
              "      <td>1144000031</td>\n",
              "      <td>STMPTTH BTNK TTMCTSHLK</td>\n",
              "      <td>NaN</td>\n",
              "      <td>NaN</td>\n",
              "      <td>NaN</td>\n",
              "      <td>144</td>\n",
              "      <td>840</td>\n",
              "      <td>356</td>\n",
              "      <td>210201210141</td>\n",
              "      <td>IN1</td>\n",
              "      <td>ATM</td>\n",
              "      <td>0797</td>\n",
              "      <td>NaN</td>\n",
              "      <td>NaN</td>\n",
              "      <td>NaN</td>\n",
              "      <td>14791.4</td>\n",
              "      <td>NaN</td>\n",
              "      <td>NaN</td>\n",
              "      <td>Not Fraud</td>\n",
              "    </tr>\n",
              "    <tr>\n",
              "      <th>5</th>\n",
              "      <td>6086941020177008</td>\n",
              "      <td>004000</td>\n",
              "      <td>499</td>\n",
              "      <td>7.14</td>\n",
              "      <td>499</td>\n",
              "      <td>22-MAR-18 02.35.44</td>\n",
              "      <td>0</td>\n",
              "      <td>01-DEC-22 00.00.00</td>\n",
              "      <td>NaN</td>\n",
              "      <td>5967</td>\n",
              "      <td>840</td>\n",
              "      <td>???</td>\n",
              "      <td>370100</td>\n",
              "      <td>954345</td>\n",
              "      <td>000</td>\n",
              "      <td>201</td>\n",
              "      <td>FN90G440</td>\n",
              "      <td>9590108460</td>\n",
              "      <td>GOOGLE SERDICES \\\\MOUNTTIN DIEW\\94043 \\</td>\n",
              "      <td>NaN</td>\n",
              "      <td>NaN</td>\n",
              "      <td>NaN</td>\n",
              "      <td>356</td>\n",
              "      <td>840</td>\n",
              "      <td>356</td>\n",
              "      <td>200111100040</td>\n",
              "      <td>IN1</td>\n",
              "      <td>POS</td>\n",
              "      <td>0797</td>\n",
              "      <td>NaN</td>\n",
              "      <td>NaN</td>\n",
              "      <td>NaN</td>\n",
              "      <td>177495</td>\n",
              "      <td>NaN</td>\n",
              "      <td>NaN</td>\n",
              "      <td>Not Fraud</td>\n",
              "    </tr>\n",
              "  </tbody>\n",
              "</table>\n",
              "</div>"
            ],
            "text/plain": [
              "  Card-Wallet-Token ID PROCESSING_CODE  ... Token Data     TARGET\n",
              "1     6086941819072006          174000  ...        NaN  Not Fraud\n",
              "2     6086941026163002          174000  ...        NaN  Not Fraud\n",
              "3     6086941026163002          174000  ...        NaN  Not Fraud\n",
              "4     6086941055683003          174000  ...        NaN  Not Fraud\n",
              "5     6086941020177008          004000  ...        NaN  Not Fraud\n",
              "\n",
              "[5 rows x 36 columns]"
            ]
          },
          "metadata": {
            "tags": []
          },
          "execution_count": 6
        }
      ]
    },
    {
      "cell_type": "code",
      "metadata": {
        "id": "4e_Y7yHdvWNx",
        "colab_type": "code",
        "outputId": "fab3778f-9a1c-47b3-afd1-4781bf5ba8c6",
        "colab": {
          "base_uri": "https://localhost:8080/",
          "height": 35
        }
      },
      "source": [
        "data2.shape"
      ],
      "execution_count": 7,
      "outputs": [
        {
          "output_type": "execute_result",
          "data": {
            "text/plain": [
              "(996861, 36)"
            ]
          },
          "metadata": {
            "tags": []
          },
          "execution_count": 7
        }
      ]
    },
    {
      "cell_type": "markdown",
      "metadata": {
        "id": "Jxz3keJnu5t0",
        "colab_type": "text"
      },
      "source": [
        "##### **Removing columns full of NaNs**"
      ]
    },
    {
      "cell_type": "code",
      "metadata": {
        "id": "Enp8nFoxu9uf",
        "colab_type": "code",
        "colab": {}
      },
      "source": [
        "indices = []\n",
        "for i in data2.columns:\n",
        "  if(pd.isna(data2[i]).sum() == len(data2)):\n",
        "    indices.append(i)\n",
        "data2 = data2.drop(indices,axis = 1)"
      ],
      "execution_count": 0,
      "outputs": []
    },
    {
      "cell_type": "code",
      "metadata": {
        "id": "HG2PnLQNwBA7",
        "colab_type": "code",
        "outputId": "55e5f139-06a1-4a9f-dfa7-f4d31321e774",
        "colab": {
          "base_uri": "https://localhost:8080/",
          "height": 35
        }
      },
      "source": [
        "indices"
      ],
      "execution_count": 9,
      "outputs": [
        {
          "output_type": "execute_result",
          "data": {
            "text/plain": [
              "[]"
            ]
          },
          "metadata": {
            "tags": []
          },
          "execution_count": 9
        }
      ]
    },
    {
      "cell_type": "code",
      "metadata": {
        "id": "tMomzTWRvfqF",
        "colab_type": "code",
        "outputId": "964d623d-ce54-4f24-efe7-9477d771636e",
        "colab": {
          "base_uri": "https://localhost:8080/",
          "height": 35
        }
      },
      "source": [
        "data2.shape"
      ],
      "execution_count": 10,
      "outputs": [
        {
          "output_type": "execute_result",
          "data": {
            "text/plain": [
              "(996861, 36)"
            ]
          },
          "metadata": {
            "tags": []
          },
          "execution_count": 10
        }
      ]
    },
    {
      "cell_type": "markdown",
      "metadata": {
        "id": "7bBiFz30wDJT",
        "colab_type": "text"
      },
      "source": [
        "##### So we see that none of the columns are full of NaNs, so we retain all 36 of the columns"
      ]
    },
    {
      "cell_type": "markdown",
      "metadata": {
        "id": "35hOhywgurLo",
        "colab_type": "text"
      },
      "source": [
        "##### **Dealing with the date type columns**"
      ]
    },
    {
      "cell_type": "markdown",
      "metadata": {
        "id": "h12c3m1rwYjj",
        "colab_type": "text"
      },
      "source": [
        "##### First we will pick out the date type columns. We make this assumption that the columns which are of date type have the term 'DATE' or some form of the word in the name.\n"
      ]
    },
    {
      "cell_type": "code",
      "metadata": {
        "id": "JxRaVkoDwqGM",
        "colab_type": "code",
        "outputId": "5b43b5bd-930c-4898-8562-923cd319dfd8",
        "colab": {
          "base_uri": "https://localhost:8080/",
          "height": 672
        }
      },
      "source": [
        "names = []\n",
        "for i in data2.columns:\n",
        "  names.append(i.upper())\n",
        "names\n"
      ],
      "execution_count": 11,
      "outputs": [
        {
          "output_type": "execute_result",
          "data": {
            "text/plain": [
              "['CARD-WALLET-TOKEN ID',\n",
              " 'PROCESSING_CODE',\n",
              " 'TRANSACTION_AMOUNT',\n",
              " 'SETTLEMENT_AMOUNT',\n",
              " 'BILLING_AMOUNT',\n",
              " 'TRANSACTION DATE AND TIME',\n",
              " 'CONVERSION_RATE',\n",
              " 'EXPIRY DATE',\n",
              " 'CONVERSION_RATE_DATE',\n",
              " 'MERCHANT CATEGORY CODE',\n",
              " 'ACQUIRING_COUNTRY_CODE',\n",
              " 'POS ENTRY MODE',\n",
              " 'ACQUIRER_INSTITUTION_CODE',\n",
              " 'AUTHORIZATION CODE',\n",
              " 'APPROVAL DECISION',\n",
              " 'CARD SERVICE CODE',\n",
              " 'TID',\n",
              " 'MID',\n",
              " 'MERCHANT NAME AND ADDRESS',\n",
              " 'PRIVATE DATA 48',\n",
              " 'TRANSACTION CATEGORY CODE',\n",
              " 'DE48 DATA LENGTH',\n",
              " 'TRANSACTION_CURRENCY',\n",
              " 'SETTLEMENT_CURRENCY',\n",
              " 'BILLING_CURRENCY',\n",
              " 'POS_DATA',\n",
              " 'INTERFACE ID',\n",
              " 'TERMINAL TYPE',\n",
              " 'TOKEN DATA-C1',\n",
              " 'ADDITIONAL PAYMENT INFO',\n",
              " 'ECOMMERCE DATA',\n",
              " 'ECI INDICATOR',\n",
              " 'REMAINING BALANCE',\n",
              " 'PRIVATE DATA - ADDITIONAL INFO',\n",
              " 'TOKEN DATA',\n",
              " 'TARGET']"
            ]
          },
          "metadata": {
            "tags": []
          },
          "execution_count": 11
        }
      ]
    },
    {
      "cell_type": "code",
      "metadata": {
        "id": "sObDChw3OWUX",
        "colab_type": "code",
        "colab": {}
      },
      "source": [
        "data2.columns = names"
      ],
      "execution_count": 0,
      "outputs": []
    },
    {
      "cell_type": "code",
      "metadata": {
        "id": "cojacikHwqKw",
        "colab_type": "code",
        "outputId": "ba4f8698-68bf-4c14-a13e-07dd7a670be9",
        "colab": {
          "base_uri": "https://localhost:8080/",
          "height": 35
        }
      },
      "source": [
        "date_columns = []\n",
        "for i in names:\n",
        "  if(i.find('DATE') >= 0):\n",
        "    date_columns.append(i)\n",
        "date_columns"
      ],
      "execution_count": 13,
      "outputs": [
        {
          "output_type": "execute_result",
          "data": {
            "text/plain": [
              "['TRANSACTION DATE AND TIME', 'EXPIRY DATE', 'CONVERSION_RATE_DATE']"
            ]
          },
          "metadata": {
            "tags": []
          },
          "execution_count": 13
        }
      ]
    },
    {
      "cell_type": "markdown",
      "metadata": {
        "id": "WCeA3LeQymaq",
        "colab_type": "text"
      },
      "source": [
        "##### Therefore these are my date columns, we will out checks on them to rule out cases of Fraud.\n",
        "##### We will compare the transaction date with the current date range and compare it with the conversion rate date which should also be in the vicinity. As for the expiry date we assume that it cannot be before the transaction date and not more than 10 years ahead of the transaction date. Later on we can impose more conditions of similar nature if we want. For this changes will have to be made to the code."
      ]
    },
    {
      "cell_type": "code",
      "metadata": {
        "id": "snueR9f4xCrS",
        "colab_type": "code",
        "outputId": "fb7ce58d-50b5-4e5d-85d6-d112fd6ed619",
        "colab": {
          "base_uri": "https://localhost:8080/",
          "height": 35
        }
      },
      "source": [
        "data2['TRANSACTION DATE AND TIME'][1].split(' ')"
      ],
      "execution_count": 14,
      "outputs": [
        {
          "output_type": "execute_result",
          "data": {
            "text/plain": [
              "['22-MAR-18', '09.10.37']"
            ]
          },
          "metadata": {
            "tags": []
          },
          "execution_count": 14
        }
      ]
    },
    {
      "cell_type": "code",
      "metadata": {
        "id": "a_5la2skU0PK",
        "colab_type": "code",
        "outputId": "d91b20d4-4559-46f6-a2ff-d8e83c47d59d",
        "colab": {
          "base_uri": "https://localhost:8080/",
          "height": 35
        }
      },
      "source": [
        "today = date.today()\n",
        "current_date = today.strftime(\"%d-%m-%y\")\n",
        "print(current_date)"
      ],
      "execution_count": 15,
      "outputs": [
        {
          "output_type": "stream",
          "text": [
            "13-01-20\n"
          ],
          "name": "stdout"
        }
      ]
    },
    {
      "cell_type": "code",
      "metadata": {
        "id": "d79g9K1XWJcH",
        "colab_type": "code",
        "colab": {}
      },
      "source": [
        "## creating a dictionary to match the months to their respective serial numbers\n",
        "month_dict = {'JAN':1,'FEB':2,'MAR':3,'APR':4,'MAY':5,'JUN':6,'JUL':7,'AUG':8,'SEP':9,'OCT':10,'NOV':11,'DEC':12}\n",
        "## checking is current date is after the transaction date or not because we certainly cannot have a date from the future here\n",
        "date_1, time_1 = data2['TRANSACTION DATE AND TIME'][1].split(' ')\n"
      ],
      "execution_count": 0,
      "outputs": []
    },
    {
      "cell_type": "code",
      "metadata": {
        "id": "Jc5E5tcIZnZg",
        "colab_type": "code",
        "colab": {}
      },
      "source": [
        "##splitting the date into month day and year and checking for its validity\n",
        "def check_transact_date(d):\n",
        "  today = date.today()\n",
        "  day, month, year = d.split('-')\n",
        "  if (int(year)>int(today.strftime(\"%y\"))):\n",
        "    return 1\n",
        "  elif(int(year)==int(today.strftime(\"%y\"))) and (month_dict[month]>int(today.strftime(\"%m\"))):\n",
        "    return 1\n",
        "  elif(int(year)==int(today.strftime(\"%y\"))) and (month_dict[month]==int(today.strftime(\"%m\"))) and (int(day)>int(today.strftime(\"%d\"))):\n",
        "    return 1\n",
        "  else:\n",
        "    return 0"
      ],
      "execution_count": 0,
      "outputs": []
    },
    {
      "cell_type": "code",
      "metadata": {
        "id": "g0VOs6XTf2Ma",
        "colab_type": "code",
        "colab": {}
      },
      "source": [
        "##checking transaction date and time because it definitely cannot be more than the current time\n",
        "def check_transact_date_and_time(d,t):\n",
        "  hours, mins, secs = t.split('.')\n",
        "  today = date.today()\n",
        "  day, month, year = d.split('-')\n",
        "  if(check_transact_date(d)==1): ## checking to see if the date is valid, if not it makes no sense to check time\n",
        "    return 1\n",
        "  elif(int(year)==int(today.strftime(\"%y\"))) and (month_dict[month]==int(today.strftime(\"%m\"))) and (int(day)==int(today.strftime(\"%d\"))):\n",
        "    now = datetime.now()\n",
        "    if(int(now.strftime(\"%H\"))<int(hours)):\n",
        "      return 1\n",
        "    elif(int(now.strftime(\"%H\"))==int(hours)) and (int(now.strftime(\"%M\"))<int(mins)):\n",
        "      return 1\n",
        "    elif(int(now.strftime(\"%H\"))==int(hours)) and (int(now.strftime(\"%M\"))==int(mins)) and (int(now.strftime(\"%S\"))<int(secs)):\n",
        "      return 1\n",
        "    else:\n",
        "      return 0\n",
        "  else:\n",
        "    return 0"
      ],
      "execution_count": 0,
      "outputs": []
    },
    {
      "cell_type": "code",
      "metadata": {
        "id": "AImBuuot77xb",
        "colab_type": "code",
        "outputId": "c8fc6cfd-3cf5-41cb-ee8c-5e3c65fe484d",
        "colab": {
          "base_uri": "https://localhost:8080/",
          "height": 163
        }
      },
      "source": [
        "## Now we will find the transactions that are found as frauds on the basis of the above check on transaction date and time\n",
        "transact_date_fraud_indices = []\n",
        "data2_temp = data2[pd.isna(data2['TRANSACTION DATE AND TIME'])==False]\n",
        "data2_temp['new_index'] =  np.arange(1,len(data2_temp)+1,1)\n",
        "#data2_temp.set_index(index,inplace=True)\n",
        "data2_temp.set_index(['new_index'], inplace = True) \n",
        "start = time.time()\n",
        "for i in np.arange(1,len(data2_temp),1):\n",
        "  date_1, time_1 = data2_temp['TRANSACTION DATE AND TIME'][i].split(' ')\n",
        "  if (check_transact_date_and_time(date_1,time_1)==1):\n",
        "    transact_date_fraud_indices.append(i)\n",
        "end = time.time()\n",
        "print('Time taken to find fraud cases: {}'.format(end-start))\n",
        "print(len(transact_date_fraud_indices))"
      ],
      "execution_count": 19,
      "outputs": [
        {
          "output_type": "stream",
          "text": [
            "/usr/local/lib/python3.6/dist-packages/ipykernel_launcher.py:3: SettingWithCopyWarning: \n",
            "A value is trying to be set on a copy of a slice from a DataFrame.\n",
            "Try using .loc[row_indexer,col_indexer] = value instead\n",
            "\n",
            "See the caveats in the documentation: http://pandas.pydata.org/pandas-docs/stable/user_guide/indexing.html#returning-a-view-versus-a-copy\n",
            "  This is separate from the ipykernel package so we can avoid doing imports until\n"
          ],
          "name": "stderr"
        },
        {
          "output_type": "stream",
          "text": [
            "Time taken to find fraud cases: 1.212996244430542\n",
            "0\n"
          ],
          "name": "stdout"
        }
      ]
    },
    {
      "cell_type": "markdown",
      "metadata": {
        "id": "ym0MCRG2-Zjo",
        "colab_type": "text"
      },
      "source": [
        "##### So we can therefore conclude that there are no frauds in terms of the transaction date"
      ]
    },
    {
      "cell_type": "markdown",
      "metadata": {
        "id": "Xk9Y0QSD-sQv",
        "colab_type": "text"
      },
      "source": [
        "##### As for the conversion rate date we can similarly just apply the 'check_transact_date' function to the find the set of valid dates since the rule applied is the same that it cannot be further ahead than the current date. As for how far it can go in the backward direction, it can be decided upon and changed later."
      ]
    },
    {
      "cell_type": "code",
      "metadata": {
        "id": "FbYti27MwqEI",
        "colab_type": "code",
        "outputId": "c9daf3bf-d97e-4d73-b0d7-4c17faf54290",
        "colab": {
          "base_uri": "https://localhost:8080/",
          "height": 163
        }
      },
      "source": [
        "## Now we will find the frauds that were on the basis of the check on conversion dates\n",
        "conversion_date_fraud_indices = []\n",
        "data2_temp = data2[pd.isna(data2['CONVERSION_RATE_DATE'])==False]\n",
        "data2_temp['new_index'] =  np.arange(1,len(data2_temp)+1,1)\n",
        "#data2_temp.set_index(index,inplace=True)\n",
        "data2_temp.set_index(['new_index'], inplace = True) \n",
        "start = time.time()\n",
        "for i in np.arange(1,len(data2_temp),1):\n",
        "  date_1, time_1 = data2_temp['CONVERSION_RATE_DATE'][i].split(' ')\n",
        "  if (check_transact_date_and_time(date_1, time_1)==1):\n",
        "    conversion_date_fraud_indices.append(i)\n",
        "end = time.time()\n",
        "print('Time taken to find fraud cases: {}'.format(end-start))\n",
        "print(len(conversion_date_fraud_indices))"
      ],
      "execution_count": 20,
      "outputs": [
        {
          "output_type": "stream",
          "text": [
            "Time taken to find fraud cases: 0.03531289100646973\n",
            "0\n"
          ],
          "name": "stdout"
        },
        {
          "output_type": "stream",
          "text": [
            "/usr/local/lib/python3.6/dist-packages/ipykernel_launcher.py:3: SettingWithCopyWarning: \n",
            "A value is trying to be set on a copy of a slice from a DataFrame.\n",
            "Try using .loc[row_indexer,col_indexer] = value instead\n",
            "\n",
            "See the caveats in the documentation: http://pandas.pydata.org/pandas-docs/stable/user_guide/indexing.html#returning-a-view-versus-a-copy\n",
            "  This is separate from the ipykernel package so we can avoid doing imports until\n"
          ],
          "name": "stderr"
        }
      ]
    },
    {
      "cell_type": "markdown",
      "metadata": {
        "id": "GoLPmP0RI7bo",
        "colab_type": "text"
      },
      "source": [
        "##### Therefore there are no frauds on the basis of coversion rate dates either"
      ]
    },
    {
      "cell_type": "markdown",
      "metadata": {
        "id": "ToRoN1CtJyBD",
        "colab_type": "text"
      },
      "source": [
        "##### Now we will check for frauds on the basis of the expiry date of the transaction method ususally cards. We note that the expiry date cannot be less than the date of the transaction or even more than 10 years ahead, a slight change in function that checks the transaction dates helps us check this. The time is always 00.00.00 so we no longer have to check the time."
      ]
    },
    {
      "cell_type": "code",
      "metadata": {
        "id": "xJEwCOKLI6g3",
        "colab_type": "code",
        "colab": {}
      },
      "source": [
        "def check_expiry_date(d1, d2): ## Here d1 is the expiry date and d2 is the transaction date\n",
        "  day1, month1, year1 = d1.split('-')\n",
        "  day2, month2, year2 = d2.split('-')\n",
        "  if (int(year1)<int(year2)) or (int(year1)>int(year2)+15):\n",
        "    return 1\n",
        "  elif(int(year1)==int(year2)) and (month_dict[month1]<month_dict[month2]):\n",
        "    return 1\n",
        "  elif(int(year1)==int(year2)) and (month_dict[month1]==month_dict[month2]) and (int(day1)<int(day2)):\n",
        "    return 1\n",
        "  else:\n",
        "    return 0"
      ],
      "execution_count": 0,
      "outputs": []
    },
    {
      "cell_type": "code",
      "metadata": {
        "id": "6t_e98v4OT5p",
        "colab_type": "code",
        "outputId": "88e8c359-737f-4bca-cd1a-60d3fa0534bb",
        "colab": {
          "base_uri": "https://localhost:8080/",
          "height": 35
        }
      },
      "source": [
        "check_expiry_date('23-SEP-49','25-DEC-20')"
      ],
      "execution_count": 22,
      "outputs": [
        {
          "output_type": "execute_result",
          "data": {
            "text/plain": [
              "1"
            ]
          },
          "metadata": {
            "tags": []
          },
          "execution_count": 22
        }
      ]
    },
    {
      "cell_type": "markdown",
      "metadata": {
        "id": "moDSVyT2Onti",
        "colab_type": "text"
      },
      "source": [
        "##### Here the error is that the expiry date is more than 15 years ahead of the transaction date which is usually not the case in real life."
      ]
    },
    {
      "cell_type": "code",
      "metadata": {
        "id": "TsUqP4-cK15r",
        "colab_type": "code",
        "outputId": "83152af1-c970-458c-cbfc-2e4c1ca71803",
        "colab": {
          "base_uri": "https://localhost:8080/",
          "height": 53
        }
      },
      "source": [
        "## Now we will find the frauds that were on the basis of expiry dates\n",
        "expiry_date_fraud_indices = []\n",
        "data2_temp = data2[pd.isna(data2['EXPIRY DATE'])==False]\n",
        "data2_temp = data2_temp[pd.isna(data2_temp['TRANSACTION DATE AND TIME'])==False]\n",
        "data2_temp['new_index'] =  np.arange(1,len(data2_temp)+1,1)\n",
        "#data2_temp.set_index(index,inplace=True)\n",
        "data2_temp.set_index(['new_index'], inplace = True) \n",
        "start = time.time()\n",
        "for i in np.arange(1,len(data2_temp),1):\n",
        "  date_1, time_1 = data2_temp['EXPIRY DATE'][i].split(' ')\n",
        "  date_2, time_2 = data2_temp['TRANSACTION DATE AND TIME'][i].split(' ')\n",
        "  if (check_expiry_date(date_1,date_2)==1):\n",
        "    expiry_date_fraud_indices.append(i)\n",
        "end = time.time()\n",
        "print('Time taken to find fraud cases: {}'.format(end-start))\n",
        "print(len(expiry_date_fraud_indices))"
      ],
      "execution_count": 24,
      "outputs": [
        {
          "output_type": "stream",
          "text": [
            "Time taken to find fraud cases: 1.0639889240264893\n",
            "0\n"
          ],
          "name": "stdout"
        }
      ]
    },
    {
      "cell_type": "markdown",
      "metadata": {
        "id": "PxCsy7WyYL7k",
        "colab_type": "text"
      },
      "source": [
        "##### Unfortunately there are no frauds on the basis of expiry dates either. We can modify the code for other more stringent conditions in the future. Moving forward we will have all supervised learning algorithms that will look at cases of fraud to identify patterns.\n"
      ]
    },
    {
      "cell_type": "code",
      "metadata": {
        "id": "GJko5tMRYK-0",
        "colab_type": "code",
        "colab": {}
      },
      "source": [
        ""
      ],
      "execution_count": 0,
      "outputs": []
    },
    {
      "cell_type": "markdown",
      "metadata": {
        "id": "YJHcQPdfvnYk",
        "colab_type": "text"
      },
      "source": [
        "##### **ROUGH WORK**"
      ]
    },
    {
      "cell_type": "code",
      "metadata": {
        "id": "QoyheClwATXn",
        "colab_type": "code",
        "outputId": "1621e0f4-cd3c-45d8-f080-0edb571f923d",
        "colab": {
          "base_uri": "https://localhost:8080/",
          "height": 417
        }
      },
      "source": [
        "data2.reset_index(inplace=True,drop=True)\n",
        "data2_temp.head()"
      ],
      "execution_count": 0,
      "outputs": [
        {
          "output_type": "execute_result",
          "data": {
            "text/html": [
              "<div>\n",
              "<style scoped>\n",
              "    .dataframe tbody tr th:only-of-type {\n",
              "        vertical-align: middle;\n",
              "    }\n",
              "\n",
              "    .dataframe tbody tr th {\n",
              "        vertical-align: top;\n",
              "    }\n",
              "\n",
              "    .dataframe thead th {\n",
              "        text-align: right;\n",
              "    }\n",
              "</style>\n",
              "<table border=\"1\" class=\"dataframe\">\n",
              "  <thead>\n",
              "    <tr style=\"text-align: right;\">\n",
              "      <th></th>\n",
              "      <th>CARD-WALLET-TOKEN ID</th>\n",
              "      <th>PROCESSING_CODE</th>\n",
              "      <th>TRANSACTION_AMOUNT</th>\n",
              "      <th>SETTLEMENT_AMOUNT</th>\n",
              "      <th>BILLING_AMOUNT</th>\n",
              "      <th>TRANSACTION DATE AND TIME</th>\n",
              "      <th>CONVERSION_RATE</th>\n",
              "      <th>EXPIRY DATE</th>\n",
              "      <th>CONVERSION_RATE_DATE</th>\n",
              "      <th>MERCHANT CATEGORY CODE</th>\n",
              "      <th>ACQUIRING_COUNTRY_CODE</th>\n",
              "      <th>POS ENTRY MODE</th>\n",
              "      <th>ACQUIRER_INSTITUTION_CODE</th>\n",
              "      <th>AUTHORIZATION CODE</th>\n",
              "      <th>APPROVAL DECISION</th>\n",
              "      <th>CARD SERVICE CODE</th>\n",
              "      <th>TID</th>\n",
              "      <th>MID</th>\n",
              "      <th>MERCHANT NAME AND ADDRESS</th>\n",
              "      <th>PRIVATE DATA 48</th>\n",
              "      <th>TRANSACTION CATEGORY CODE</th>\n",
              "      <th>DE48 DATA LENGTH</th>\n",
              "      <th>TRANSACTION_CURRENCY</th>\n",
              "      <th>SETTLEMENT_CURRENCY</th>\n",
              "      <th>BILLING_CURRENCY</th>\n",
              "      <th>POS_DATA</th>\n",
              "      <th>INTERFACE ID</th>\n",
              "      <th>TERMINAL TYPE</th>\n",
              "      <th>TOKEN DATA-C1</th>\n",
              "      <th>ADDITIONAL PAYMENT INFO</th>\n",
              "      <th>ECOMMERCE DATA</th>\n",
              "      <th>ECI INDICATOR</th>\n",
              "      <th>REMAINING BALANCE</th>\n",
              "      <th>PRIVATE DATA - ADDITIONAL INFO</th>\n",
              "      <th>TOKEN DATA</th>\n",
              "      <th>TARGET</th>\n",
              "    </tr>\n",
              "  </thead>\n",
              "  <tbody>\n",
              "    <tr>\n",
              "      <th>664</th>\n",
              "      <td>6086941023394006</td>\n",
              "      <td>004000</td>\n",
              "      <td>182.03</td>\n",
              "      <td>12518.2</td>\n",
              "      <td>12518.2</td>\n",
              "      <td>22-MAR-18 03.34.13</td>\n",
              "      <td>1</td>\n",
              "      <td>01-DEC-22 00.00.00</td>\n",
              "      <td>22-JUL-18 00.00.00</td>\n",
              "      <td>7011</td>\n",
              "      <td>834</td>\n",
              "      <td>???</td>\n",
              "      <td>370100</td>\n",
              "      <td>??????</td>\n",
              "      <td>117</td>\n",
              "      <td>201</td>\n",
              "      <td>2S90GE04</td>\n",
              "      <td>9734114549</td>\n",
              "      <td>KISIWT ON THE BE301579\\\\ZTNZIBTR\\\\\\834</td>\n",
              "      <td>NaN</td>\n",
              "      <td>NaN</td>\n",
              "      <td>NaN</td>\n",
              "      <td>840</td>\n",
              "      <td>356</td>\n",
              "      <td>356</td>\n",
              "      <td>510101513301</td>\n",
              "      <td>IN1</td>\n",
              "      <td>POS</td>\n",
              "      <td>0784</td>\n",
              "      <td>NaN</td>\n",
              "      <td>NaN</td>\n",
              "      <td>NaN</td>\n",
              "      <td>NaN</td>\n",
              "      <td>NaN</td>\n",
              "      <td>NaN</td>\n",
              "      <td>Fraud</td>\n",
              "    </tr>\n",
              "    <tr>\n",
              "      <th>41769</th>\n",
              "      <td>6854591729122000</td>\n",
              "      <td>000000</td>\n",
              "      <td>3500</td>\n",
              "      <td>50.91</td>\n",
              "      <td>3500</td>\n",
              "      <td>22-MAR-18 01.09.34</td>\n",
              "      <td>0</td>\n",
              "      <td>01-MAY-23 00.00.00</td>\n",
              "      <td>21-JUL-18 00.00.00</td>\n",
              "      <td>7011</td>\n",
              "      <td>356</td>\n",
              "      <td>051</td>\n",
              "      <td>007064</td>\n",
              "      <td>??????</td>\n",
              "      <td>100</td>\n",
              "      <td>206</td>\n",
              "      <td>90106669</td>\n",
              "      <td>THE ONTIME HOTE</td>\n",
              "      <td>THE ONTIME HOTEL       KALYAN        IND</td>\n",
              "      <td>???</td>\n",
              "      <td>?</td>\n",
              "      <td>??</td>\n",
              "      <td>356</td>\n",
              "      <td>840</td>\n",
              "      <td>356</td>\n",
              "      <td>310101500001</td>\n",
              "      <td>IN9</td>\n",
              "      <td>POS</td>\n",
              "      <td>0153</td>\n",
              "      <td>MPLP2FNP5</td>\n",
              "      <td>NaN</td>\n",
              "      <td>NaN</td>\n",
              "      <td>NaN</td>\n",
              "      <td>0000000000900356400059</td>\n",
              "      <td>NaN</td>\n",
              "      <td>Not Fraud</td>\n",
              "    </tr>\n",
              "    <tr>\n",
              "      <th>41784</th>\n",
              "      <td>6854593019894000</td>\n",
              "      <td>000000</td>\n",
              "      <td>49000</td>\n",
              "      <td>712.73</td>\n",
              "      <td>49000</td>\n",
              "      <td>22-MAR-18 10.39.43</td>\n",
              "      <td>0</td>\n",
              "      <td>01-MAR-23 00.00.00</td>\n",
              "      <td>21-JUL-18 00.00.00</td>\n",
              "      <td>5812</td>\n",
              "      <td>356</td>\n",
              "      <td>051</td>\n",
              "      <td>017014</td>\n",
              "      <td>??????</td>\n",
              "      <td>100</td>\n",
              "      <td>226</td>\n",
              "      <td>42263068</td>\n",
              "      <td>42MS00000286253</td>\n",
              "      <td>MSW*DICTORY ENTERPRISE Bangalore     IND</td>\n",
              "      <td>????</td>\n",
              "      <td>?</td>\n",
              "      <td>???</td>\n",
              "      <td>356</td>\n",
              "      <td>840</td>\n",
              "      <td>356</td>\n",
              "      <td>310101500001</td>\n",
              "      <td>IN9</td>\n",
              "      <td>POS</td>\n",
              "      <td>NaN</td>\n",
              "      <td>MPL2C5RJC</td>\n",
              "      <td>NaN</td>\n",
              "      <td>NaN</td>\n",
              "      <td>NaN</td>\n",
              "      <td>0000000009500356560028</td>\n",
              "      <td>NaN</td>\n",
              "      <td>Fraud</td>\n",
              "    </tr>\n",
              "    <tr>\n",
              "      <th>41785</th>\n",
              "      <td>6854592107326000</td>\n",
              "      <td>171000</td>\n",
              "      <td>5000</td>\n",
              "      <td>72.73</td>\n",
              "      <td>5000</td>\n",
              "      <td>22-MAR-18 10.41.17</td>\n",
              "      <td>0</td>\n",
              "      <td>01-JUN-23 00.00.00</td>\n",
              "      <td>21-JUL-18 00.00.00</td>\n",
              "      <td>6011</td>\n",
              "      <td>356</td>\n",
              "      <td>901</td>\n",
              "      <td>088792</td>\n",
              "      <td>??????</td>\n",
              "      <td>100</td>\n",
              "      <td>206</td>\n",
              "      <td>90328012</td>\n",
              "      <td>SBI BHANDARA AT</td>\n",
              "      <td>SBI BHANDARA ATM 12    THARSA        IND</td>\n",
              "      <td>???</td>\n",
              "      <td>?</td>\n",
              "      <td>??</td>\n",
              "      <td>356</td>\n",
              "      <td>840</td>\n",
              "      <td>356</td>\n",
              "      <td>210301200001</td>\n",
              "      <td>IN9</td>\n",
              "      <td>POS</td>\n",
              "      <td>NaN</td>\n",
              "      <td>MPL1UVCLA</td>\n",
              "      <td>NaN</td>\n",
              "      <td>NaN</td>\n",
              "      <td>NaN</td>\n",
              "      <td>1010000001200356441104</td>\n",
              "      <td>NaN</td>\n",
              "      <td>Fraud</td>\n",
              "    </tr>\n",
              "    <tr>\n",
              "      <th>41786</th>\n",
              "      <td>6854592107326000</td>\n",
              "      <td>171000</td>\n",
              "      <td>10000</td>\n",
              "      <td>145.45</td>\n",
              "      <td>10000</td>\n",
              "      <td>22-MAR-18 10.41.48</td>\n",
              "      <td>0</td>\n",
              "      <td>01-JUN-23 00.00.00</td>\n",
              "      <td>21-JUL-18 00.00.00</td>\n",
              "      <td>6011</td>\n",
              "      <td>356</td>\n",
              "      <td>901</td>\n",
              "      <td>088792</td>\n",
              "      <td>??????</td>\n",
              "      <td>100</td>\n",
              "      <td>206</td>\n",
              "      <td>90328012</td>\n",
              "      <td>SBI BHANDARA AT</td>\n",
              "      <td>SBI BHANDARA ATM 12    THARSA        IND</td>\n",
              "      <td>???</td>\n",
              "      <td>?</td>\n",
              "      <td>??</td>\n",
              "      <td>356</td>\n",
              "      <td>840</td>\n",
              "      <td>356</td>\n",
              "      <td>210301200001</td>\n",
              "      <td>IN9</td>\n",
              "      <td>POS</td>\n",
              "      <td>NaN</td>\n",
              "      <td>MPL1VKDDS</td>\n",
              "      <td>NaN</td>\n",
              "      <td>NaN</td>\n",
              "      <td>NaN</td>\n",
              "      <td>1010000001200356441104</td>\n",
              "      <td>NaN</td>\n",
              "      <td>Fraud</td>\n",
              "    </tr>\n",
              "  </tbody>\n",
              "</table>\n",
              "</div>"
            ],
            "text/plain": [
              "      CARD-WALLET-TOKEN ID PROCESSING_CODE  ... TOKEN DATA     TARGET\n",
              "664       6086941023394006          004000  ...        NaN      Fraud\n",
              "41769     6854591729122000          000000  ...        NaN  Not Fraud\n",
              "41784     6854593019894000          000000  ...        NaN      Fraud\n",
              "41785     6854592107326000          171000  ...        NaN      Fraud\n",
              "41786     6854592107326000          171000  ...        NaN      Fraud\n",
              "\n",
              "[5 rows x 36 columns]"
            ]
          },
          "metadata": {
            "tags": []
          },
          "execution_count": 84
        }
      ]
    },
    {
      "cell_type": "code",
      "metadata": {
        "id": "WS9rMq-bA-wG",
        "colab_type": "code",
        "outputId": "a68a5203-3a5a-48fb-fe70-f7f8f65c2c87",
        "colab": {
          "base_uri": "https://localhost:8080/",
          "height": 34
        }
      },
      "source": [
        "data2_temp['CONVERSION_RATE_DATE'][664]"
      ],
      "execution_count": 0,
      "outputs": [
        {
          "output_type": "execute_result",
          "data": {
            "text/plain": [
              "'22-JUL-18 00.00.00'"
            ]
          },
          "metadata": {
            "tags": []
          },
          "execution_count": 85
        }
      ]
    },
    {
      "cell_type": "code",
      "metadata": {
        "id": "T4FMLUfSr6gz",
        "colab_type": "code",
        "outputId": "77748cf4-93a6-4326-ea73-345db6d58109",
        "colab": {
          "base_uri": "https://localhost:8080/",
          "height": 33
        }
      },
      "source": [
        "pd.isna(data2['CONVERSION_RATE_DATE']).sum()"
      ],
      "execution_count": 0,
      "outputs": [
        {
          "output_type": "execute_result",
          "data": {
            "text/plain": [
              "995661"
            ]
          },
          "metadata": {
            "tags": []
          },
          "execution_count": 11
        }
      ]
    },
    {
      "cell_type": "code",
      "metadata": {
        "id": "VPpAIAeLxCkh",
        "colab_type": "code",
        "outputId": "6932759f-34dd-4327-9c97-de8c01c96a60",
        "colab": {
          "base_uri": "https://localhost:8080/",
          "height": 33
        }
      },
      "source": [
        "('abs123').upper()"
      ],
      "execution_count": 0,
      "outputs": [
        {
          "output_type": "execute_result",
          "data": {
            "text/plain": [
              "'ABS123'"
            ]
          },
          "metadata": {
            "tags": []
          },
          "execution_count": 14
        }
      ]
    },
    {
      "cell_type": "code",
      "metadata": {
        "id": "CwtjxmcuxCnm",
        "colab_type": "code",
        "outputId": "e8c806c0-68f6-4dbf-8405-40cf98d3df13",
        "colab": {
          "base_uri": "https://localhost:8080/",
          "height": 33
        }
      },
      "source": [
        "'geeks'.find('e')"
      ],
      "execution_count": 0,
      "outputs": [
        {
          "output_type": "execute_result",
          "data": {
            "text/plain": [
              "1"
            ]
          },
          "metadata": {
            "tags": []
          },
          "execution_count": 21
        }
      ]
    },
    {
      "cell_type": "code",
      "metadata": {
        "id": "DyGhj3CZetf6",
        "colab_type": "code",
        "outputId": "29bf7aa7-a055-444f-bcba-b218e9ce8326",
        "colab": {
          "base_uri": "https://localhost:8080/",
          "height": 34
        }
      },
      "source": [
        "check_transact_date(date_1)"
      ],
      "execution_count": 0,
      "outputs": [
        {
          "output_type": "execute_result",
          "data": {
            "text/plain": [
              "0"
            ]
          },
          "metadata": {
            "tags": []
          },
          "execution_count": 49
        }
      ]
    },
    {
      "cell_type": "code",
      "metadata": {
        "id": "bX-OUtatqTKV",
        "colab_type": "code",
        "outputId": "11bdff59-ef6f-4dcf-ff6f-f8720bdb49d8",
        "colab": {
          "base_uri": "https://localhost:8080/",
          "height": 34
        }
      },
      "source": [
        "check_transact_date_and_time(date_1,time_1)"
      ],
      "execution_count": 0,
      "outputs": [
        {
          "output_type": "execute_result",
          "data": {
            "text/plain": [
              "0"
            ]
          },
          "metadata": {
            "tags": []
          },
          "execution_count": 53
        }
      ]
    },
    {
      "cell_type": "code",
      "metadata": {
        "id": "vXYyLjc8qebG",
        "colab_type": "code",
        "outputId": "1a15159c-1c71-4e73-eb40-740dc84189c0",
        "colab": {
          "base_uri": "https://localhost:8080/",
          "height": 34
        }
      },
      "source": [
        "check_transact_date_and_time(d='13-JAN-20',t='22.30.10')"
      ],
      "execution_count": 0,
      "outputs": [
        {
          "output_type": "execute_result",
          "data": {
            "text/plain": [
              "1"
            ]
          },
          "metadata": {
            "tags": []
          },
          "execution_count": 66
        }
      ]
    },
    {
      "cell_type": "code",
      "metadata": {
        "id": "zgzMcol0VNho",
        "colab_type": "code",
        "outputId": "1b31cb6f-8af0-4b00-b882-ad10768bd83e",
        "colab": {
          "base_uri": "https://localhost:8080/",
          "height": 34
        }
      },
      "source": [
        "func = lambda s: s[:2].upper() + s[2:].lower() if s else ''\n",
        "date, time = data2['TRANSACTION DATE AND TIME'][1].split(' ')\n",
        "func(date)"
      ],
      "execution_count": 0,
      "outputs": [
        {
          "output_type": "execute_result",
          "data": {
            "text/plain": [
              "'22-mar-18'"
            ]
          },
          "metadata": {
            "tags": []
          },
          "execution_count": 36
        }
      ]
    },
    {
      "cell_type": "code",
      "metadata": {
        "id": "eUryAXB4xCin",
        "colab_type": "code",
        "outputId": "73440cd6-0994-4dd8-87c6-53981e78590d",
        "colab": {
          "base_uri": "https://localhost:8080/",
          "height": 87
        }
      },
      "source": [
        "\n",
        "\n",
        "# dd/mm/YY\n",
        "d1 = today.strftime(\"%d/%m/%Y\")\n",
        "print(\"d1 =\", d1)\n",
        "# Textual month, day and year\t\n",
        "d2 = today.strftime(\"%B %d, %Y\")\n",
        "print(\"d2 =\", d2)\n",
        "# mm/dd/y\n",
        "d3 = today.strftime(\"%m/%d/%y\")\n",
        "print(\"d3 =\", d3)\n",
        "# Month abbreviation, day and year\t\n",
        "d4 = today.strftime(\"%b-%d-%y\")\n",
        "print(\"d4 =\", d4)"
      ],
      "execution_count": 0,
      "outputs": [
        {
          "output_type": "stream",
          "text": [
            "d1 = 13/01/2020\n",
            "d2 = January 13, 2020\n",
            "d3 = 01/13/20\n",
            "d4 = Jan-13-20\n"
          ],
          "name": "stdout"
        }
      ]
    },
    {
      "cell_type": "code",
      "metadata": {
        "id": "KsS-eBO7xCgp",
        "colab_type": "code",
        "outputId": "0ea0270a-dc5e-40e6-ec9b-f95350518262",
        "colab": {
          "base_uri": "https://localhost:8080/",
          "height": 52
        }
      },
      "source": [
        "from datetime import datetime\n",
        "# datetime object containing current date and time\n",
        "now = datetime.now()\n",
        " \n",
        "print(\"now =\", now)\n",
        "# dd/mm/YY H:M:S\n",
        "dt_string = now.strftime(\"%d/%m/%Y %H:%M:%S\")\n",
        "print(\"date and time =\", dt_string)"
      ],
      "execution_count": 0,
      "outputs": [
        {
          "output_type": "stream",
          "text": [
            "now = 2020-01-13 14:23:54.203888\n",
            "date and time = 13/01/2020 14:23:54\n"
          ],
          "name": "stdout"
        }
      ]
    },
    {
      "cell_type": "code",
      "metadata": {
        "id": "j8LboxrzxCd0",
        "colab_type": "code",
        "outputId": "7fd85cf5-73d8-41b1-b869-eb928c959876",
        "colab": {
          "base_uri": "https://localhost:8080/",
          "height": 434
        }
      },
      "source": [
        "data2_temp = data2[pd.isna(data2['TRANSACTION DATE AND TIME'])==False]\n",
        "data2_temp.head()"
      ],
      "execution_count": 0,
      "outputs": [
        {
          "output_type": "execute_result",
          "data": {
            "text/html": [
              "<div>\n",
              "<style scoped>\n",
              "    .dataframe tbody tr th:only-of-type {\n",
              "        vertical-align: middle;\n",
              "    }\n",
              "\n",
              "    .dataframe tbody tr th {\n",
              "        vertical-align: top;\n",
              "    }\n",
              "\n",
              "    .dataframe thead th {\n",
              "        text-align: right;\n",
              "    }\n",
              "</style>\n",
              "<table border=\"1\" class=\"dataframe\">\n",
              "  <thead>\n",
              "    <tr style=\"text-align: right;\">\n",
              "      <th></th>\n",
              "      <th>CARD-WALLET-TOKEN ID</th>\n",
              "      <th>PROCESSING_CODE</th>\n",
              "      <th>TRANSACTION_AMOUNT</th>\n",
              "      <th>SETTLEMENT_AMOUNT</th>\n",
              "      <th>BILLING_AMOUNT</th>\n",
              "      <th>TRANSACTION DATE AND TIME</th>\n",
              "      <th>CONVERSION_RATE</th>\n",
              "      <th>EXPIRY DATE</th>\n",
              "      <th>CONVERSION_RATE_DATE</th>\n",
              "      <th>MERCHANT CATEGORY CODE</th>\n",
              "      <th>ACQUIRING_COUNTRY_CODE</th>\n",
              "      <th>POS ENTRY MODE</th>\n",
              "      <th>ACQUIRER_INSTITUTION_CODE</th>\n",
              "      <th>AUTHORIZATION CODE</th>\n",
              "      <th>APPROVAL DECISION</th>\n",
              "      <th>CARD SERVICE CODE</th>\n",
              "      <th>TID</th>\n",
              "      <th>MID</th>\n",
              "      <th>MERCHANT NAME AND ADDRESS</th>\n",
              "      <th>PRIVATE DATA 48</th>\n",
              "      <th>TRANSACTION CATEGORY CODE</th>\n",
              "      <th>DE48 DATA LENGTH</th>\n",
              "      <th>TRANSACTION_CURRENCY</th>\n",
              "      <th>SETTLEMENT_CURRENCY</th>\n",
              "      <th>BILLING_CURRENCY</th>\n",
              "      <th>POS_DATA</th>\n",
              "      <th>INTERFACE ID</th>\n",
              "      <th>TERMINAL TYPE</th>\n",
              "      <th>TOKEN DATA-C1</th>\n",
              "      <th>ADDITIONAL PAYMENT INFO</th>\n",
              "      <th>ECOMMERCE DATA</th>\n",
              "      <th>ECI INDICATOR</th>\n",
              "      <th>REMAINING BALANCE</th>\n",
              "      <th>PRIVATE DATA - ADDITIONAL INFO</th>\n",
              "      <th>TOKEN DATA</th>\n",
              "      <th>TARGET</th>\n",
              "    </tr>\n",
              "  </thead>\n",
              "  <tbody>\n",
              "    <tr>\n",
              "      <th>1</th>\n",
              "      <td>6086941819072006</td>\n",
              "      <td>174000</td>\n",
              "      <td>7000</td>\n",
              "      <td>7000</td>\n",
              "      <td>7000</td>\n",
              "      <td>22-MAR-18 09.10.37</td>\n",
              "      <td>0</td>\n",
              "      <td>01-JUL-23 00.00.00</td>\n",
              "      <td>NaN</td>\n",
              "      <td>6011</td>\n",
              "      <td>356</td>\n",
              "      <td>???</td>\n",
              "      <td>544921</td>\n",
              "      <td>533038</td>\n",
              "      <td>000</td>\n",
              "      <td>201</td>\n",
              "      <td>GYACBB04</td>\n",
              "      <td>1005044921</td>\n",
              "      <td>LXFC BTNK LTD.KHURDT OR IN</td>\n",
              "      <td>NaN</td>\n",
              "      <td>NaN</td>\n",
              "      <td>NaN</td>\n",
              "      <td>356</td>\n",
              "      <td>356</td>\n",
              "      <td>356</td>\n",
              "      <td>210201210141</td>\n",
              "      <td>IN1</td>\n",
              "      <td>ATM</td>\n",
              "      <td>0917</td>\n",
              "      <td>NaN</td>\n",
              "      <td>NaN</td>\n",
              "      <td>NaN</td>\n",
              "      <td>35000</td>\n",
              "      <td>NaN</td>\n",
              "      <td>NaN</td>\n",
              "      <td>Not Fraud</td>\n",
              "    </tr>\n",
              "    <tr>\n",
              "      <th>2</th>\n",
              "      <td>6086941026163002</td>\n",
              "      <td>174000</td>\n",
              "      <td>2000</td>\n",
              "      <td>2000</td>\n",
              "      <td>2000</td>\n",
              "      <td>22-MAR-18 12.28.15</td>\n",
              "      <td>0</td>\n",
              "      <td>01-DEC-22 00.00.00</td>\n",
              "      <td>NaN</td>\n",
              "      <td>6011</td>\n",
              "      <td>356</td>\n",
              "      <td>???</td>\n",
              "      <td>544921</td>\n",
              "      <td>944896</td>\n",
              "      <td>000</td>\n",
              "      <td>201</td>\n",
              "      <td>JSEWLK06</td>\n",
              "      <td>1005044921</td>\n",
              "      <td>LXFC BTNK LTD.LUCKNOWUP IN</td>\n",
              "      <td>NaN</td>\n",
              "      <td>NaN</td>\n",
              "      <td>NaN</td>\n",
              "      <td>356</td>\n",
              "      <td>356</td>\n",
              "      <td>356</td>\n",
              "      <td>210201210141</td>\n",
              "      <td>IN1</td>\n",
              "      <td>ATM</td>\n",
              "      <td>0796</td>\n",
              "      <td>NaN</td>\n",
              "      <td>NaN</td>\n",
              "      <td>NaN</td>\n",
              "      <td>44000</td>\n",
              "      <td>NaN</td>\n",
              "      <td>NaN</td>\n",
              "      <td>Not Fraud</td>\n",
              "    </tr>\n",
              "    <tr>\n",
              "      <th>3</th>\n",
              "      <td>6086941026163002</td>\n",
              "      <td>174000</td>\n",
              "      <td>1000</td>\n",
              "      <td>1000</td>\n",
              "      <td>1000</td>\n",
              "      <td>22-MAR-18 14.51.45</td>\n",
              "      <td>0</td>\n",
              "      <td>01-DEC-22 00.00.00</td>\n",
              "      <td>NaN</td>\n",
              "      <td>6011</td>\n",
              "      <td>356</td>\n",
              "      <td>???</td>\n",
              "      <td>544921</td>\n",
              "      <td>153505</td>\n",
              "      <td>000</td>\n",
              "      <td>201</td>\n",
              "      <td>JSEWLK06</td>\n",
              "      <td>1005044921</td>\n",
              "      <td>LXFC BTNK LTD.LUCKNOWUP IN</td>\n",
              "      <td>NaN</td>\n",
              "      <td>NaN</td>\n",
              "      <td>NaN</td>\n",
              "      <td>356</td>\n",
              "      <td>356</td>\n",
              "      <td>356</td>\n",
              "      <td>210201210141</td>\n",
              "      <td>IN1</td>\n",
              "      <td>ATM</td>\n",
              "      <td>0796</td>\n",
              "      <td>NaN</td>\n",
              "      <td>NaN</td>\n",
              "      <td>NaN</td>\n",
              "      <td>42000</td>\n",
              "      <td>NaN</td>\n",
              "      <td>NaN</td>\n",
              "      <td>Not Fraud</td>\n",
              "    </tr>\n",
              "    <tr>\n",
              "      <th>4</th>\n",
              "      <td>6086941055683003</td>\n",
              "      <td>174000</td>\n",
              "      <td>4500</td>\n",
              "      <td>28.59</td>\n",
              "      <td>2034.06</td>\n",
              "      <td>22-MAR-18 15.50.10</td>\n",
              "      <td>56874000</td>\n",
              "      <td>01-JUL-23 00.00.00</td>\n",
              "      <td>NaN</td>\n",
              "      <td>6011</td>\n",
              "      <td>144</td>\n",
              "      <td>???</td>\n",
              "      <td>544921</td>\n",
              "      <td>757011</td>\n",
              "      <td>000</td>\n",
              "      <td>201</td>\n",
              "      <td>A9021311</td>\n",
              "      <td>1144000031</td>\n",
              "      <td>STMPTTH BTNK TTMCTSHLK</td>\n",
              "      <td>NaN</td>\n",
              "      <td>NaN</td>\n",
              "      <td>NaN</td>\n",
              "      <td>144</td>\n",
              "      <td>840</td>\n",
              "      <td>356</td>\n",
              "      <td>210201210141</td>\n",
              "      <td>IN1</td>\n",
              "      <td>ATM</td>\n",
              "      <td>0797</td>\n",
              "      <td>NaN</td>\n",
              "      <td>NaN</td>\n",
              "      <td>NaN</td>\n",
              "      <td>14791.4</td>\n",
              "      <td>NaN</td>\n",
              "      <td>NaN</td>\n",
              "      <td>Not Fraud</td>\n",
              "    </tr>\n",
              "    <tr>\n",
              "      <th>5</th>\n",
              "      <td>6086941020177008</td>\n",
              "      <td>004000</td>\n",
              "      <td>499</td>\n",
              "      <td>7.14</td>\n",
              "      <td>499</td>\n",
              "      <td>22-MAR-18 02.35.44</td>\n",
              "      <td>0</td>\n",
              "      <td>01-DEC-22 00.00.00</td>\n",
              "      <td>NaN</td>\n",
              "      <td>5967</td>\n",
              "      <td>840</td>\n",
              "      <td>???</td>\n",
              "      <td>370100</td>\n",
              "      <td>954345</td>\n",
              "      <td>000</td>\n",
              "      <td>201</td>\n",
              "      <td>FN90G440</td>\n",
              "      <td>9590108460</td>\n",
              "      <td>GOOGLE SERDICES \\\\MOUNTTIN DIEW\\94043 \\</td>\n",
              "      <td>NaN</td>\n",
              "      <td>NaN</td>\n",
              "      <td>NaN</td>\n",
              "      <td>356</td>\n",
              "      <td>840</td>\n",
              "      <td>356</td>\n",
              "      <td>200111100040</td>\n",
              "      <td>IN1</td>\n",
              "      <td>POS</td>\n",
              "      <td>0797</td>\n",
              "      <td>NaN</td>\n",
              "      <td>NaN</td>\n",
              "      <td>NaN</td>\n",
              "      <td>177495</td>\n",
              "      <td>NaN</td>\n",
              "      <td>NaN</td>\n",
              "      <td>Not Fraud</td>\n",
              "    </tr>\n",
              "  </tbody>\n",
              "</table>\n",
              "</div>"
            ],
            "text/plain": [
              "  CARD-WALLET-TOKEN ID PROCESSING_CODE  ... TOKEN DATA     TARGET\n",
              "1     6086941819072006          174000  ...        NaN  Not Fraud\n",
              "2     6086941026163002          174000  ...        NaN  Not Fraud\n",
              "3     6086941026163002          174000  ...        NaN  Not Fraud\n",
              "4     6086941055683003          174000  ...        NaN  Not Fraud\n",
              "5     6086941020177008          004000  ...        NaN  Not Fraud\n",
              "\n",
              "[5 rows x 36 columns]"
            ]
          },
          "metadata": {
            "tags": []
          },
          "execution_count": 69
        }
      ]
    }
  ]
}
{
  "nbformat": 4,
  "nbformat_minor": 0,
  "metadata": {
    "colab": {
      "name": "Fortiate_DST_3_and_6.ipynb",
      "provenance": [],
      "collapsed_sections": [],
      "include_colab_link": true
    },
    "kernelspec": {
      "name": "python3",
      "display_name": "Python 3"
    }
  },
  "cells": [
    {
      "cell_type": "markdown",
      "metadata": {
        "id": "view-in-github",
        "colab_type": "text"
      },
      "source": [
        "<a href=\"https://colab.research.google.com/github/trinade96/Fortiate_Project/blob/master/Fortiate_DST_3_and_6.ipynb\" target=\"_parent\"><img src=\"https://colab.research.google.com/assets/colab-badge.svg\" alt=\"Open In Colab\"/></a>"
      ]
    },
    {
      "cell_type": "markdown",
      "metadata": {
        "id": "S26biy4-rQdJ",
        "colab_type": "text"
      },
      "source": [
        "##### Trina De"
      ]
    },
    {
      "cell_type": "markdown",
      "metadata": {
        "id": "sjcdlEEFruAq",
        "colab_type": "text"
      },
      "source": [
        "##### **Packages Used**"
      ]
    },
    {
      "cell_type": "code",
      "metadata": {
        "id": "jQTsiBp_rGEN",
        "colab_type": "code",
        "colab": {}
      },
      "source": [
        "import numpy as np \n",
        "import pandas as pd\n",
        "from datetime import date\n",
        "import time"
      ],
      "execution_count": 0,
      "outputs": []
    },
    {
      "cell_type": "markdown",
      "metadata": {
        "id": "T03l22fttMG9",
        "colab_type": "text"
      },
      "source": [
        "##### **Loading the data**"
      ]
    },
    {
      "cell_type": "code",
      "metadata": {
        "id": "swv8dnXZr6Ww",
        "colab_type": "code",
        "outputId": "da4f36aa-d55a-43f4-bdff-90919352e7bb",
        "colab": {
          "base_uri": "https://localhost:8080/",
          "height": 149
        }
      },
      "source": [
        "from google.colab import drive\n",
        "drive.mount('/gdrive',force_remount=True)\n",
        "%cd /gdrive"
      ],
      "execution_count": 2,
      "outputs": [
        {
          "output_type": "stream",
          "text": [
            "Go to this URL in a browser: https://accounts.google.com/o/oauth2/auth?client_id=947318989803-6bn6qk8qdgf4n4g3pfee6491hc0brc4i.apps.googleusercontent.com&redirect_uri=urn%3aietf%3awg%3aoauth%3a2.0%3aoob&response_type=code&scope=email%20https%3a%2f%2fwww.googleapis.com%2fauth%2fdocs.test%20https%3a%2f%2fwww.googleapis.com%2fauth%2fdrive%20https%3a%2f%2fwww.googleapis.com%2fauth%2fdrive.photos.readonly%20https%3a%2f%2fwww.googleapis.com%2fauth%2fpeopleapi.readonly\n",
            "\n",
            "Enter your authorization code:\n",
            "··········\n",
            "Mounted at /gdrive\n",
            "/gdrive\n"
          ],
          "name": "stdout"
        }
      ]
    },
    {
      "cell_type": "markdown",
      "metadata": {
        "id": "1bzKcmJHtV-Y",
        "colab_type": "text"
      },
      "source": [
        "##### **Reading the Data**"
      ]
    },
    {
      "cell_type": "code",
      "metadata": {
        "id": "5NSd0kTo3G6B",
        "colab_type": "code",
        "outputId": "c73aec2c-d346-4241-cd5f-ca8eab861468",
        "colab": {
          "base_uri": "https://localhost:8080/",
          "height": 452
        }
      },
      "source": [
        "missing_values = [\"n/a\", \"na\", \"--\", ' ', \"NAN\",\"nan\",\"NA\",\"NaN\"]\n",
        "data = pd.read_excel(\"/gdrive/My Drive/DATA FOR ALL TEAMS-25MB.xlsx\",na_values=missing_values)\n",
        "data.head()"
      ],
      "execution_count": 3,
      "outputs": [
        {
          "output_type": "execute_result",
          "data": {
            "text/html": [
              "<div>\n",
              "<style scoped>\n",
              "    .dataframe tbody tr th:only-of-type {\n",
              "        vertical-align: middle;\n",
              "    }\n",
              "\n",
              "    .dataframe tbody tr th {\n",
              "        vertical-align: top;\n",
              "    }\n",
              "\n",
              "    .dataframe thead th {\n",
              "        text-align: right;\n",
              "    }\n",
              "</style>\n",
              "<table border=\"1\" class=\"dataframe\">\n",
              "  <thead>\n",
              "    <tr style=\"text-align: right;\">\n",
              "      <th></th>\n",
              "      <th>Card-Wallet-Token ID</th>\n",
              "      <th>PROCESSING_CODE</th>\n",
              "      <th>TRANSACTION_AMOUNT</th>\n",
              "      <th>SETTLEMENT_AMOUNT</th>\n",
              "      <th>BILLING_AMOUNT</th>\n",
              "      <th>Transaction Date and Time</th>\n",
              "      <th>CONVERSION_RATE</th>\n",
              "      <th>Expiry Date</th>\n",
              "      <th>CONVERSION_RATE_DATE</th>\n",
              "      <th>Merchant Category Code</th>\n",
              "      <th>ACQUIRING_COUNTRY_CODE</th>\n",
              "      <th>POS entry Mode</th>\n",
              "      <th>ACQUIRER_INSTITUTION_CODE</th>\n",
              "      <th>Authorization Code</th>\n",
              "      <th>Approval Decision</th>\n",
              "      <th>Card Service Code</th>\n",
              "      <th>TID</th>\n",
              "      <th>MID</th>\n",
              "      <th>MERCHANT NAME AND ADDRESS</th>\n",
              "      <th>Private Data 48</th>\n",
              "      <th>Transaction Category Code</th>\n",
              "      <th>DE48 Data Length</th>\n",
              "      <th>TRANSACTION_CURRENCY</th>\n",
              "      <th>SETTLEMENT_CURRENCY</th>\n",
              "      <th>BILLING_CURRENCY</th>\n",
              "      <th>POS_DATA</th>\n",
              "      <th>Interface ID</th>\n",
              "      <th>Terminal Type</th>\n",
              "      <th>Token Data-C1</th>\n",
              "      <th>Additional Payment Info</th>\n",
              "      <th>Ecommerce Data</th>\n",
              "      <th>ECI Indicator</th>\n",
              "      <th>Remaining Balance</th>\n",
              "      <th>Private Data - Additional Info</th>\n",
              "      <th>Token Data</th>\n",
              "      <th>TARGET</th>\n",
              "    </tr>\n",
              "  </thead>\n",
              "  <tbody>\n",
              "    <tr>\n",
              "      <th>0</th>\n",
              "      <td>DE2</td>\n",
              "      <td>DE3</td>\n",
              "      <td>DE4</td>\n",
              "      <td>DE5</td>\n",
              "      <td>DE6</td>\n",
              "      <td>DE7</td>\n",
              "      <td>DE9</td>\n",
              "      <td>DE14</td>\n",
              "      <td>DE16</td>\n",
              "      <td>DE18</td>\n",
              "      <td>DE19</td>\n",
              "      <td>DE22</td>\n",
              "      <td>DE32</td>\n",
              "      <td>DE38</td>\n",
              "      <td>DE39</td>\n",
              "      <td>DE40</td>\n",
              "      <td>DE41</td>\n",
              "      <td>DE42</td>\n",
              "      <td>DE43</td>\n",
              "      <td>DE48</td>\n",
              "      <td>Private Data 48-1</td>\n",
              "      <td>Private Data 48-2</td>\n",
              "      <td>DE49</td>\n",
              "      <td>DE50</td>\n",
              "      <td>DE51</td>\n",
              "      <td>DE61</td>\n",
              "      <td>DE4801</td>\n",
              "      <td>DE4801</td>\n",
              "      <td>DE4803</td>\n",
              "      <td>DE4804</td>\n",
              "      <td>DE4805</td>\n",
              "      <td>DE4806</td>\n",
              "      <td>DE4807</td>\n",
              "      <td>DE4808</td>\n",
              "      <td>DE4809</td>\n",
              "      <td>DE4810</td>\n",
              "    </tr>\n",
              "    <tr>\n",
              "      <th>1</th>\n",
              "      <td>6086941819072006</td>\n",
              "      <td>174000</td>\n",
              "      <td>7000</td>\n",
              "      <td>7000</td>\n",
              "      <td>7000</td>\n",
              "      <td>22-MAR-18 09.10.37</td>\n",
              "      <td>0</td>\n",
              "      <td>01-JUL-23 00.00.00</td>\n",
              "      <td>NaN</td>\n",
              "      <td>6011</td>\n",
              "      <td>356</td>\n",
              "      <td>???</td>\n",
              "      <td>544921</td>\n",
              "      <td>533038</td>\n",
              "      <td>000</td>\n",
              "      <td>201</td>\n",
              "      <td>GYACBB04</td>\n",
              "      <td>1005044921</td>\n",
              "      <td>LXFC BTNK LTD.KHURDT OR IN</td>\n",
              "      <td>NaN</td>\n",
              "      <td>NaN</td>\n",
              "      <td>NaN</td>\n",
              "      <td>356</td>\n",
              "      <td>356</td>\n",
              "      <td>356</td>\n",
              "      <td>210201210141</td>\n",
              "      <td>IN1</td>\n",
              "      <td>ATM</td>\n",
              "      <td>0917</td>\n",
              "      <td>NaN</td>\n",
              "      <td>NaN</td>\n",
              "      <td>NaN</td>\n",
              "      <td>35000</td>\n",
              "      <td>NaN</td>\n",
              "      <td>NaN</td>\n",
              "      <td>NaN</td>\n",
              "    </tr>\n",
              "    <tr>\n",
              "      <th>2</th>\n",
              "      <td>6086941026163002</td>\n",
              "      <td>174000</td>\n",
              "      <td>2000</td>\n",
              "      <td>2000</td>\n",
              "      <td>2000</td>\n",
              "      <td>22-MAR-18 12.28.15</td>\n",
              "      <td>0</td>\n",
              "      <td>01-DEC-22 00.00.00</td>\n",
              "      <td>NaN</td>\n",
              "      <td>6011</td>\n",
              "      <td>356</td>\n",
              "      <td>???</td>\n",
              "      <td>544921</td>\n",
              "      <td>944896</td>\n",
              "      <td>000</td>\n",
              "      <td>201</td>\n",
              "      <td>JSEWLK06</td>\n",
              "      <td>1005044921</td>\n",
              "      <td>LXFC BTNK LTD.LUCKNOWUP IN</td>\n",
              "      <td>NaN</td>\n",
              "      <td>NaN</td>\n",
              "      <td>NaN</td>\n",
              "      <td>356</td>\n",
              "      <td>356</td>\n",
              "      <td>356</td>\n",
              "      <td>210201210141</td>\n",
              "      <td>IN1</td>\n",
              "      <td>ATM</td>\n",
              "      <td>0796</td>\n",
              "      <td>NaN</td>\n",
              "      <td>NaN</td>\n",
              "      <td>NaN</td>\n",
              "      <td>44000</td>\n",
              "      <td>NaN</td>\n",
              "      <td>NaN</td>\n",
              "      <td>NaN</td>\n",
              "    </tr>\n",
              "    <tr>\n",
              "      <th>3</th>\n",
              "      <td>6086941026163002</td>\n",
              "      <td>174000</td>\n",
              "      <td>1000</td>\n",
              "      <td>1000</td>\n",
              "      <td>1000</td>\n",
              "      <td>22-MAR-18 14.51.45</td>\n",
              "      <td>0</td>\n",
              "      <td>01-DEC-22 00.00.00</td>\n",
              "      <td>NaN</td>\n",
              "      <td>6011</td>\n",
              "      <td>356</td>\n",
              "      <td>???</td>\n",
              "      <td>544921</td>\n",
              "      <td>153505</td>\n",
              "      <td>000</td>\n",
              "      <td>201</td>\n",
              "      <td>JSEWLK06</td>\n",
              "      <td>1005044921</td>\n",
              "      <td>LXFC BTNK LTD.LUCKNOWUP IN</td>\n",
              "      <td>NaN</td>\n",
              "      <td>NaN</td>\n",
              "      <td>NaN</td>\n",
              "      <td>356</td>\n",
              "      <td>356</td>\n",
              "      <td>356</td>\n",
              "      <td>210201210141</td>\n",
              "      <td>IN1</td>\n",
              "      <td>ATM</td>\n",
              "      <td>0796</td>\n",
              "      <td>NaN</td>\n",
              "      <td>NaN</td>\n",
              "      <td>NaN</td>\n",
              "      <td>42000</td>\n",
              "      <td>NaN</td>\n",
              "      <td>NaN</td>\n",
              "      <td>NaN</td>\n",
              "    </tr>\n",
              "    <tr>\n",
              "      <th>4</th>\n",
              "      <td>6086941055683003</td>\n",
              "      <td>174000</td>\n",
              "      <td>4500</td>\n",
              "      <td>28.59</td>\n",
              "      <td>2034.06</td>\n",
              "      <td>22-MAR-18 15.50.10</td>\n",
              "      <td>56874000</td>\n",
              "      <td>01-JUL-23 00.00.00</td>\n",
              "      <td>NaN</td>\n",
              "      <td>6011</td>\n",
              "      <td>144</td>\n",
              "      <td>???</td>\n",
              "      <td>544921</td>\n",
              "      <td>757011</td>\n",
              "      <td>000</td>\n",
              "      <td>201</td>\n",
              "      <td>A9021311</td>\n",
              "      <td>1144000031</td>\n",
              "      <td>STMPTTH BTNK TTMCTSHLK</td>\n",
              "      <td>NaN</td>\n",
              "      <td>NaN</td>\n",
              "      <td>NaN</td>\n",
              "      <td>144</td>\n",
              "      <td>840</td>\n",
              "      <td>356</td>\n",
              "      <td>210201210141</td>\n",
              "      <td>IN1</td>\n",
              "      <td>ATM</td>\n",
              "      <td>0797</td>\n",
              "      <td>NaN</td>\n",
              "      <td>NaN</td>\n",
              "      <td>NaN</td>\n",
              "      <td>14791.4</td>\n",
              "      <td>NaN</td>\n",
              "      <td>NaN</td>\n",
              "      <td>NaN</td>\n",
              "    </tr>\n",
              "  </tbody>\n",
              "</table>\n",
              "</div>"
            ],
            "text/plain": [
              "  Card-Wallet-Token ID PROCESSING_CODE  ... Token Data  TARGET\n",
              "0                  DE2             DE3  ...     DE4809  DE4810\n",
              "1     6086941819072006          174000  ...        NaN     NaN\n",
              "2     6086941026163002          174000  ...        NaN     NaN\n",
              "3     6086941026163002          174000  ...        NaN     NaN\n",
              "4     6086941055683003          174000  ...        NaN     NaN\n",
              "\n",
              "[5 rows x 36 columns]"
            ]
          },
          "metadata": {
            "tags": []
          },
          "execution_count": 3
        }
      ]
    },
    {
      "cell_type": "code",
      "metadata": {
        "id": "TppOQRSwpSd5",
        "colab_type": "code",
        "outputId": "e082216e-2fe3-458d-c7e5-6f230ca9213b",
        "colab": {
          "base_uri": "https://localhost:8080/",
          "height": 469
        }
      },
      "source": [
        "data2 = data.iloc[1:,:]\n",
        "data2.head()"
      ],
      "execution_count": 4,
      "outputs": [
        {
          "output_type": "execute_result",
          "data": {
            "text/html": [
              "<div>\n",
              "<style scoped>\n",
              "    .dataframe tbody tr th:only-of-type {\n",
              "        vertical-align: middle;\n",
              "    }\n",
              "\n",
              "    .dataframe tbody tr th {\n",
              "        vertical-align: top;\n",
              "    }\n",
              "\n",
              "    .dataframe thead th {\n",
              "        text-align: right;\n",
              "    }\n",
              "</style>\n",
              "<table border=\"1\" class=\"dataframe\">\n",
              "  <thead>\n",
              "    <tr style=\"text-align: right;\">\n",
              "      <th></th>\n",
              "      <th>Card-Wallet-Token ID</th>\n",
              "      <th>PROCESSING_CODE</th>\n",
              "      <th>TRANSACTION_AMOUNT</th>\n",
              "      <th>SETTLEMENT_AMOUNT</th>\n",
              "      <th>BILLING_AMOUNT</th>\n",
              "      <th>Transaction Date and Time</th>\n",
              "      <th>CONVERSION_RATE</th>\n",
              "      <th>Expiry Date</th>\n",
              "      <th>CONVERSION_RATE_DATE</th>\n",
              "      <th>Merchant Category Code</th>\n",
              "      <th>ACQUIRING_COUNTRY_CODE</th>\n",
              "      <th>POS entry Mode</th>\n",
              "      <th>ACQUIRER_INSTITUTION_CODE</th>\n",
              "      <th>Authorization Code</th>\n",
              "      <th>Approval Decision</th>\n",
              "      <th>Card Service Code</th>\n",
              "      <th>TID</th>\n",
              "      <th>MID</th>\n",
              "      <th>MERCHANT NAME AND ADDRESS</th>\n",
              "      <th>Private Data 48</th>\n",
              "      <th>Transaction Category Code</th>\n",
              "      <th>DE48 Data Length</th>\n",
              "      <th>TRANSACTION_CURRENCY</th>\n",
              "      <th>SETTLEMENT_CURRENCY</th>\n",
              "      <th>BILLING_CURRENCY</th>\n",
              "      <th>POS_DATA</th>\n",
              "      <th>Interface ID</th>\n",
              "      <th>Terminal Type</th>\n",
              "      <th>Token Data-C1</th>\n",
              "      <th>Additional Payment Info</th>\n",
              "      <th>Ecommerce Data</th>\n",
              "      <th>ECI Indicator</th>\n",
              "      <th>Remaining Balance</th>\n",
              "      <th>Private Data - Additional Info</th>\n",
              "      <th>Token Data</th>\n",
              "      <th>TARGET</th>\n",
              "    </tr>\n",
              "  </thead>\n",
              "  <tbody>\n",
              "    <tr>\n",
              "      <th>1</th>\n",
              "      <td>6086941819072006</td>\n",
              "      <td>174000</td>\n",
              "      <td>7000</td>\n",
              "      <td>7000</td>\n",
              "      <td>7000</td>\n",
              "      <td>22-MAR-18 09.10.37</td>\n",
              "      <td>0</td>\n",
              "      <td>01-JUL-23 00.00.00</td>\n",
              "      <td>NaN</td>\n",
              "      <td>6011</td>\n",
              "      <td>356</td>\n",
              "      <td>???</td>\n",
              "      <td>544921</td>\n",
              "      <td>533038</td>\n",
              "      <td>000</td>\n",
              "      <td>201</td>\n",
              "      <td>GYACBB04</td>\n",
              "      <td>1005044921</td>\n",
              "      <td>LXFC BTNK LTD.KHURDT OR IN</td>\n",
              "      <td>NaN</td>\n",
              "      <td>NaN</td>\n",
              "      <td>NaN</td>\n",
              "      <td>356</td>\n",
              "      <td>356</td>\n",
              "      <td>356</td>\n",
              "      <td>210201210141</td>\n",
              "      <td>IN1</td>\n",
              "      <td>ATM</td>\n",
              "      <td>0917</td>\n",
              "      <td>NaN</td>\n",
              "      <td>NaN</td>\n",
              "      <td>NaN</td>\n",
              "      <td>35000</td>\n",
              "      <td>NaN</td>\n",
              "      <td>NaN</td>\n",
              "      <td>NaN</td>\n",
              "    </tr>\n",
              "    <tr>\n",
              "      <th>2</th>\n",
              "      <td>6086941026163002</td>\n",
              "      <td>174000</td>\n",
              "      <td>2000</td>\n",
              "      <td>2000</td>\n",
              "      <td>2000</td>\n",
              "      <td>22-MAR-18 12.28.15</td>\n",
              "      <td>0</td>\n",
              "      <td>01-DEC-22 00.00.00</td>\n",
              "      <td>NaN</td>\n",
              "      <td>6011</td>\n",
              "      <td>356</td>\n",
              "      <td>???</td>\n",
              "      <td>544921</td>\n",
              "      <td>944896</td>\n",
              "      <td>000</td>\n",
              "      <td>201</td>\n",
              "      <td>JSEWLK06</td>\n",
              "      <td>1005044921</td>\n",
              "      <td>LXFC BTNK LTD.LUCKNOWUP IN</td>\n",
              "      <td>NaN</td>\n",
              "      <td>NaN</td>\n",
              "      <td>NaN</td>\n",
              "      <td>356</td>\n",
              "      <td>356</td>\n",
              "      <td>356</td>\n",
              "      <td>210201210141</td>\n",
              "      <td>IN1</td>\n",
              "      <td>ATM</td>\n",
              "      <td>0796</td>\n",
              "      <td>NaN</td>\n",
              "      <td>NaN</td>\n",
              "      <td>NaN</td>\n",
              "      <td>44000</td>\n",
              "      <td>NaN</td>\n",
              "      <td>NaN</td>\n",
              "      <td>NaN</td>\n",
              "    </tr>\n",
              "    <tr>\n",
              "      <th>3</th>\n",
              "      <td>6086941026163002</td>\n",
              "      <td>174000</td>\n",
              "      <td>1000</td>\n",
              "      <td>1000</td>\n",
              "      <td>1000</td>\n",
              "      <td>22-MAR-18 14.51.45</td>\n",
              "      <td>0</td>\n",
              "      <td>01-DEC-22 00.00.00</td>\n",
              "      <td>NaN</td>\n",
              "      <td>6011</td>\n",
              "      <td>356</td>\n",
              "      <td>???</td>\n",
              "      <td>544921</td>\n",
              "      <td>153505</td>\n",
              "      <td>000</td>\n",
              "      <td>201</td>\n",
              "      <td>JSEWLK06</td>\n",
              "      <td>1005044921</td>\n",
              "      <td>LXFC BTNK LTD.LUCKNOWUP IN</td>\n",
              "      <td>NaN</td>\n",
              "      <td>NaN</td>\n",
              "      <td>NaN</td>\n",
              "      <td>356</td>\n",
              "      <td>356</td>\n",
              "      <td>356</td>\n",
              "      <td>210201210141</td>\n",
              "      <td>IN1</td>\n",
              "      <td>ATM</td>\n",
              "      <td>0796</td>\n",
              "      <td>NaN</td>\n",
              "      <td>NaN</td>\n",
              "      <td>NaN</td>\n",
              "      <td>42000</td>\n",
              "      <td>NaN</td>\n",
              "      <td>NaN</td>\n",
              "      <td>NaN</td>\n",
              "    </tr>\n",
              "    <tr>\n",
              "      <th>4</th>\n",
              "      <td>6086941055683003</td>\n",
              "      <td>174000</td>\n",
              "      <td>4500</td>\n",
              "      <td>28.59</td>\n",
              "      <td>2034.06</td>\n",
              "      <td>22-MAR-18 15.50.10</td>\n",
              "      <td>56874000</td>\n",
              "      <td>01-JUL-23 00.00.00</td>\n",
              "      <td>NaN</td>\n",
              "      <td>6011</td>\n",
              "      <td>144</td>\n",
              "      <td>???</td>\n",
              "      <td>544921</td>\n",
              "      <td>757011</td>\n",
              "      <td>000</td>\n",
              "      <td>201</td>\n",
              "      <td>A9021311</td>\n",
              "      <td>1144000031</td>\n",
              "      <td>STMPTTH BTNK TTMCTSHLK</td>\n",
              "      <td>NaN</td>\n",
              "      <td>NaN</td>\n",
              "      <td>NaN</td>\n",
              "      <td>144</td>\n",
              "      <td>840</td>\n",
              "      <td>356</td>\n",
              "      <td>210201210141</td>\n",
              "      <td>IN1</td>\n",
              "      <td>ATM</td>\n",
              "      <td>0797</td>\n",
              "      <td>NaN</td>\n",
              "      <td>NaN</td>\n",
              "      <td>NaN</td>\n",
              "      <td>14791.4</td>\n",
              "      <td>NaN</td>\n",
              "      <td>NaN</td>\n",
              "      <td>NaN</td>\n",
              "    </tr>\n",
              "    <tr>\n",
              "      <th>5</th>\n",
              "      <td>6086941020177008</td>\n",
              "      <td>004000</td>\n",
              "      <td>499</td>\n",
              "      <td>7.14</td>\n",
              "      <td>499</td>\n",
              "      <td>22-MAR-18 02.35.44</td>\n",
              "      <td>0</td>\n",
              "      <td>01-DEC-22 00.00.00</td>\n",
              "      <td>NaN</td>\n",
              "      <td>5967</td>\n",
              "      <td>840</td>\n",
              "      <td>???</td>\n",
              "      <td>370100</td>\n",
              "      <td>954345</td>\n",
              "      <td>000</td>\n",
              "      <td>201</td>\n",
              "      <td>FN90G440</td>\n",
              "      <td>9590108460</td>\n",
              "      <td>GOOGLE SERDICES \\\\MOUNTTIN DIEW\\94043 \\</td>\n",
              "      <td>NaN</td>\n",
              "      <td>NaN</td>\n",
              "      <td>NaN</td>\n",
              "      <td>356</td>\n",
              "      <td>840</td>\n",
              "      <td>356</td>\n",
              "      <td>200111100040</td>\n",
              "      <td>IN1</td>\n",
              "      <td>POS</td>\n",
              "      <td>0797</td>\n",
              "      <td>NaN</td>\n",
              "      <td>NaN</td>\n",
              "      <td>NaN</td>\n",
              "      <td>177495</td>\n",
              "      <td>NaN</td>\n",
              "      <td>NaN</td>\n",
              "      <td>NaN</td>\n",
              "    </tr>\n",
              "  </tbody>\n",
              "</table>\n",
              "</div>"
            ],
            "text/plain": [
              "  Card-Wallet-Token ID PROCESSING_CODE  ... Token Data TARGET\n",
              "1     6086941819072006          174000  ...        NaN    NaN\n",
              "2     6086941026163002          174000  ...        NaN    NaN\n",
              "3     6086941026163002          174000  ...        NaN    NaN\n",
              "4     6086941055683003          174000  ...        NaN    NaN\n",
              "5     6086941020177008          004000  ...        NaN    NaN\n",
              "\n",
              "[5 rows x 36 columns]"
            ]
          },
          "metadata": {
            "tags": []
          },
          "execution_count": 4
        }
      ]
    },
    {
      "cell_type": "markdown",
      "metadata": {
        "id": "vwzNsu_oKm0q",
        "colab_type": "text"
      },
      "source": [
        "##### **Changing non NaNs in 'TARGET' column to 'Not Fraud'**"
      ]
    },
    {
      "cell_type": "code",
      "metadata": {
        "id": "sCw2r4l5z-GP",
        "colab_type": "code",
        "outputId": "0a23a6d4-eb35-4b23-b2a5-7e552c7176d2",
        "colab": {
          "base_uri": "https://localhost:8080/",
          "height": 168
        }
      },
      "source": [
        "data2['TARGET'] = [x if x == 'Fraud' else 'Not Fraud' for x in list(data2['TARGET'])]\n",
        "set(data2['TARGET'])"
      ],
      "execution_count": 5,
      "outputs": [
        {
          "output_type": "stream",
          "text": [
            "/usr/local/lib/python3.6/dist-packages/ipykernel_launcher.py:1: SettingWithCopyWarning: \n",
            "A value is trying to be set on a copy of a slice from a DataFrame.\n",
            "Try using .loc[row_indexer,col_indexer] = value instead\n",
            "\n",
            "See the caveats in the documentation: http://pandas.pydata.org/pandas-docs/stable/user_guide/indexing.html#returning-a-view-versus-a-copy\n",
            "  \"\"\"Entry point for launching an IPython kernel.\n"
          ],
          "name": "stderr"
        },
        {
          "output_type": "execute_result",
          "data": {
            "text/plain": [
              "{'Fraud', 'Not Fraud'}"
            ]
          },
          "metadata": {
            "tags": []
          },
          "execution_count": 5
        }
      ]
    },
    {
      "cell_type": "code",
      "metadata": {
        "id": "FwqjoOPnz-AC",
        "colab_type": "code",
        "outputId": "e5591677-6db4-4f7b-9e7c-c9d7e0d0a410",
        "colab": {
          "base_uri": "https://localhost:8080/",
          "height": 469
        }
      },
      "source": [
        "data2.head()"
      ],
      "execution_count": 6,
      "outputs": [
        {
          "output_type": "execute_result",
          "data": {
            "text/html": [
              "<div>\n",
              "<style scoped>\n",
              "    .dataframe tbody tr th:only-of-type {\n",
              "        vertical-align: middle;\n",
              "    }\n",
              "\n",
              "    .dataframe tbody tr th {\n",
              "        vertical-align: top;\n",
              "    }\n",
              "\n",
              "    .dataframe thead th {\n",
              "        text-align: right;\n",
              "    }\n",
              "</style>\n",
              "<table border=\"1\" class=\"dataframe\">\n",
              "  <thead>\n",
              "    <tr style=\"text-align: right;\">\n",
              "      <th></th>\n",
              "      <th>Card-Wallet-Token ID</th>\n",
              "      <th>PROCESSING_CODE</th>\n",
              "      <th>TRANSACTION_AMOUNT</th>\n",
              "      <th>SETTLEMENT_AMOUNT</th>\n",
              "      <th>BILLING_AMOUNT</th>\n",
              "      <th>Transaction Date and Time</th>\n",
              "      <th>CONVERSION_RATE</th>\n",
              "      <th>Expiry Date</th>\n",
              "      <th>CONVERSION_RATE_DATE</th>\n",
              "      <th>Merchant Category Code</th>\n",
              "      <th>ACQUIRING_COUNTRY_CODE</th>\n",
              "      <th>POS entry Mode</th>\n",
              "      <th>ACQUIRER_INSTITUTION_CODE</th>\n",
              "      <th>Authorization Code</th>\n",
              "      <th>Approval Decision</th>\n",
              "      <th>Card Service Code</th>\n",
              "      <th>TID</th>\n",
              "      <th>MID</th>\n",
              "      <th>MERCHANT NAME AND ADDRESS</th>\n",
              "      <th>Private Data 48</th>\n",
              "      <th>Transaction Category Code</th>\n",
              "      <th>DE48 Data Length</th>\n",
              "      <th>TRANSACTION_CURRENCY</th>\n",
              "      <th>SETTLEMENT_CURRENCY</th>\n",
              "      <th>BILLING_CURRENCY</th>\n",
              "      <th>POS_DATA</th>\n",
              "      <th>Interface ID</th>\n",
              "      <th>Terminal Type</th>\n",
              "      <th>Token Data-C1</th>\n",
              "      <th>Additional Payment Info</th>\n",
              "      <th>Ecommerce Data</th>\n",
              "      <th>ECI Indicator</th>\n",
              "      <th>Remaining Balance</th>\n",
              "      <th>Private Data - Additional Info</th>\n",
              "      <th>Token Data</th>\n",
              "      <th>TARGET</th>\n",
              "    </tr>\n",
              "  </thead>\n",
              "  <tbody>\n",
              "    <tr>\n",
              "      <th>1</th>\n",
              "      <td>6086941819072006</td>\n",
              "      <td>174000</td>\n",
              "      <td>7000</td>\n",
              "      <td>7000</td>\n",
              "      <td>7000</td>\n",
              "      <td>22-MAR-18 09.10.37</td>\n",
              "      <td>0</td>\n",
              "      <td>01-JUL-23 00.00.00</td>\n",
              "      <td>NaN</td>\n",
              "      <td>6011</td>\n",
              "      <td>356</td>\n",
              "      <td>???</td>\n",
              "      <td>544921</td>\n",
              "      <td>533038</td>\n",
              "      <td>000</td>\n",
              "      <td>201</td>\n",
              "      <td>GYACBB04</td>\n",
              "      <td>1005044921</td>\n",
              "      <td>LXFC BTNK LTD.KHURDT OR IN</td>\n",
              "      <td>NaN</td>\n",
              "      <td>NaN</td>\n",
              "      <td>NaN</td>\n",
              "      <td>356</td>\n",
              "      <td>356</td>\n",
              "      <td>356</td>\n",
              "      <td>210201210141</td>\n",
              "      <td>IN1</td>\n",
              "      <td>ATM</td>\n",
              "      <td>0917</td>\n",
              "      <td>NaN</td>\n",
              "      <td>NaN</td>\n",
              "      <td>NaN</td>\n",
              "      <td>35000</td>\n",
              "      <td>NaN</td>\n",
              "      <td>NaN</td>\n",
              "      <td>Not Fraud</td>\n",
              "    </tr>\n",
              "    <tr>\n",
              "      <th>2</th>\n",
              "      <td>6086941026163002</td>\n",
              "      <td>174000</td>\n",
              "      <td>2000</td>\n",
              "      <td>2000</td>\n",
              "      <td>2000</td>\n",
              "      <td>22-MAR-18 12.28.15</td>\n",
              "      <td>0</td>\n",
              "      <td>01-DEC-22 00.00.00</td>\n",
              "      <td>NaN</td>\n",
              "      <td>6011</td>\n",
              "      <td>356</td>\n",
              "      <td>???</td>\n",
              "      <td>544921</td>\n",
              "      <td>944896</td>\n",
              "      <td>000</td>\n",
              "      <td>201</td>\n",
              "      <td>JSEWLK06</td>\n",
              "      <td>1005044921</td>\n",
              "      <td>LXFC BTNK LTD.LUCKNOWUP IN</td>\n",
              "      <td>NaN</td>\n",
              "      <td>NaN</td>\n",
              "      <td>NaN</td>\n",
              "      <td>356</td>\n",
              "      <td>356</td>\n",
              "      <td>356</td>\n",
              "      <td>210201210141</td>\n",
              "      <td>IN1</td>\n",
              "      <td>ATM</td>\n",
              "      <td>0796</td>\n",
              "      <td>NaN</td>\n",
              "      <td>NaN</td>\n",
              "      <td>NaN</td>\n",
              "      <td>44000</td>\n",
              "      <td>NaN</td>\n",
              "      <td>NaN</td>\n",
              "      <td>Not Fraud</td>\n",
              "    </tr>\n",
              "    <tr>\n",
              "      <th>3</th>\n",
              "      <td>6086941026163002</td>\n",
              "      <td>174000</td>\n",
              "      <td>1000</td>\n",
              "      <td>1000</td>\n",
              "      <td>1000</td>\n",
              "      <td>22-MAR-18 14.51.45</td>\n",
              "      <td>0</td>\n",
              "      <td>01-DEC-22 00.00.00</td>\n",
              "      <td>NaN</td>\n",
              "      <td>6011</td>\n",
              "      <td>356</td>\n",
              "      <td>???</td>\n",
              "      <td>544921</td>\n",
              "      <td>153505</td>\n",
              "      <td>000</td>\n",
              "      <td>201</td>\n",
              "      <td>JSEWLK06</td>\n",
              "      <td>1005044921</td>\n",
              "      <td>LXFC BTNK LTD.LUCKNOWUP IN</td>\n",
              "      <td>NaN</td>\n",
              "      <td>NaN</td>\n",
              "      <td>NaN</td>\n",
              "      <td>356</td>\n",
              "      <td>356</td>\n",
              "      <td>356</td>\n",
              "      <td>210201210141</td>\n",
              "      <td>IN1</td>\n",
              "      <td>ATM</td>\n",
              "      <td>0796</td>\n",
              "      <td>NaN</td>\n",
              "      <td>NaN</td>\n",
              "      <td>NaN</td>\n",
              "      <td>42000</td>\n",
              "      <td>NaN</td>\n",
              "      <td>NaN</td>\n",
              "      <td>Not Fraud</td>\n",
              "    </tr>\n",
              "    <tr>\n",
              "      <th>4</th>\n",
              "      <td>6086941055683003</td>\n",
              "      <td>174000</td>\n",
              "      <td>4500</td>\n",
              "      <td>28.59</td>\n",
              "      <td>2034.06</td>\n",
              "      <td>22-MAR-18 15.50.10</td>\n",
              "      <td>56874000</td>\n",
              "      <td>01-JUL-23 00.00.00</td>\n",
              "      <td>NaN</td>\n",
              "      <td>6011</td>\n",
              "      <td>144</td>\n",
              "      <td>???</td>\n",
              "      <td>544921</td>\n",
              "      <td>757011</td>\n",
              "      <td>000</td>\n",
              "      <td>201</td>\n",
              "      <td>A9021311</td>\n",
              "      <td>1144000031</td>\n",
              "      <td>STMPTTH BTNK TTMCTSHLK</td>\n",
              "      <td>NaN</td>\n",
              "      <td>NaN</td>\n",
              "      <td>NaN</td>\n",
              "      <td>144</td>\n",
              "      <td>840</td>\n",
              "      <td>356</td>\n",
              "      <td>210201210141</td>\n",
              "      <td>IN1</td>\n",
              "      <td>ATM</td>\n",
              "      <td>0797</td>\n",
              "      <td>NaN</td>\n",
              "      <td>NaN</td>\n",
              "      <td>NaN</td>\n",
              "      <td>14791.4</td>\n",
              "      <td>NaN</td>\n",
              "      <td>NaN</td>\n",
              "      <td>Not Fraud</td>\n",
              "    </tr>\n",
              "    <tr>\n",
              "      <th>5</th>\n",
              "      <td>6086941020177008</td>\n",
              "      <td>004000</td>\n",
              "      <td>499</td>\n",
              "      <td>7.14</td>\n",
              "      <td>499</td>\n",
              "      <td>22-MAR-18 02.35.44</td>\n",
              "      <td>0</td>\n",
              "      <td>01-DEC-22 00.00.00</td>\n",
              "      <td>NaN</td>\n",
              "      <td>5967</td>\n",
              "      <td>840</td>\n",
              "      <td>???</td>\n",
              "      <td>370100</td>\n",
              "      <td>954345</td>\n",
              "      <td>000</td>\n",
              "      <td>201</td>\n",
              "      <td>FN90G440</td>\n",
              "      <td>9590108460</td>\n",
              "      <td>GOOGLE SERDICES \\\\MOUNTTIN DIEW\\94043 \\</td>\n",
              "      <td>NaN</td>\n",
              "      <td>NaN</td>\n",
              "      <td>NaN</td>\n",
              "      <td>356</td>\n",
              "      <td>840</td>\n",
              "      <td>356</td>\n",
              "      <td>200111100040</td>\n",
              "      <td>IN1</td>\n",
              "      <td>POS</td>\n",
              "      <td>0797</td>\n",
              "      <td>NaN</td>\n",
              "      <td>NaN</td>\n",
              "      <td>NaN</td>\n",
              "      <td>177495</td>\n",
              "      <td>NaN</td>\n",
              "      <td>NaN</td>\n",
              "      <td>Not Fraud</td>\n",
              "    </tr>\n",
              "  </tbody>\n",
              "</table>\n",
              "</div>"
            ],
            "text/plain": [
              "  Card-Wallet-Token ID PROCESSING_CODE  ... Token Data     TARGET\n",
              "1     6086941819072006          174000  ...        NaN  Not Fraud\n",
              "2     6086941026163002          174000  ...        NaN  Not Fraud\n",
              "3     6086941026163002          174000  ...        NaN  Not Fraud\n",
              "4     6086941055683003          174000  ...        NaN  Not Fraud\n",
              "5     6086941020177008          004000  ...        NaN  Not Fraud\n",
              "\n",
              "[5 rows x 36 columns]"
            ]
          },
          "metadata": {
            "tags": []
          },
          "execution_count": 6
        }
      ]
    },
    {
      "cell_type": "code",
      "metadata": {
        "id": "4e_Y7yHdvWNx",
        "colab_type": "code",
        "outputId": "53631904-8033-401b-9c88-0efc6bd82242",
        "colab": {
          "base_uri": "https://localhost:8080/",
          "height": 36
        }
      },
      "source": [
        "data2.shape"
      ],
      "execution_count": 7,
      "outputs": [
        {
          "output_type": "execute_result",
          "data": {
            "text/plain": [
              "(996861, 36)"
            ]
          },
          "metadata": {
            "tags": []
          },
          "execution_count": 7
        }
      ]
    },
    {
      "cell_type": "markdown",
      "metadata": {
        "id": "Jxz3keJnu5t0",
        "colab_type": "text"
      },
      "source": [
        "##### **Removing columns full of NaNs**"
      ]
    },
    {
      "cell_type": "code",
      "metadata": {
        "id": "Enp8nFoxu9uf",
        "colab_type": "code",
        "colab": {}
      },
      "source": [
        "indices = []\n",
        "for i in data2.columns:\n",
        "  if(pd.isna(data2[i]).sum() == len(data2)):\n",
        "    indices.append(i)\n",
        "data2 = data2.drop(indices,axis = 1)"
      ],
      "execution_count": 0,
      "outputs": []
    },
    {
      "cell_type": "code",
      "metadata": {
        "id": "HG2PnLQNwBA7",
        "colab_type": "code",
        "outputId": "3e3b5c7d-8690-42f2-bb7c-6a337a10659a",
        "colab": {
          "base_uri": "https://localhost:8080/",
          "height": 36
        }
      },
      "source": [
        "indices"
      ],
      "execution_count": 9,
      "outputs": [
        {
          "output_type": "execute_result",
          "data": {
            "text/plain": [
              "[]"
            ]
          },
          "metadata": {
            "tags": []
          },
          "execution_count": 9
        }
      ]
    },
    {
      "cell_type": "code",
      "metadata": {
        "id": "tMomzTWRvfqF",
        "colab_type": "code",
        "outputId": "896d3cd8-c5b4-4139-c9ac-6d336c3e99ec",
        "colab": {
          "base_uri": "https://localhost:8080/",
          "height": 36
        }
      },
      "source": [
        "data2.shape"
      ],
      "execution_count": 10,
      "outputs": [
        {
          "output_type": "execute_result",
          "data": {
            "text/plain": [
              "(996861, 36)"
            ]
          },
          "metadata": {
            "tags": []
          },
          "execution_count": 10
        }
      ]
    },
    {
      "cell_type": "markdown",
      "metadata": {
        "id": "7bBiFz30wDJT",
        "colab_type": "text"
      },
      "source": [
        "##### So we see that none of the columns are full of NaNs, so we retain all 36 of the columns"
      ]
    },
    {
      "cell_type": "markdown",
      "metadata": {
        "id": "35hOhywgurLo",
        "colab_type": "text"
      },
      "source": [
        "##### **Dealing with the date type columns**"
      ]
    },
    {
      "cell_type": "markdown",
      "metadata": {
        "id": "h12c3m1rwYjj",
        "colab_type": "text"
      },
      "source": [
        "##### First we will pick out the date type columns. We make this assumption that the columns which are of date type have the term 'DATE' or some form of the word in the name.\n"
      ]
    },
    {
      "cell_type": "code",
      "metadata": {
        "id": "JxRaVkoDwqGM",
        "colab_type": "code",
        "outputId": "1e05406f-6767-466f-ab23-64be837d81d2",
        "colab": {
          "base_uri": "https://localhost:8080/",
          "height": 690
        }
      },
      "source": [
        "names = []\n",
        "for i in data2.columns:\n",
        "  names.append(i.upper())\n",
        "names\n"
      ],
      "execution_count": 11,
      "outputs": [
        {
          "output_type": "execute_result",
          "data": {
            "text/plain": [
              "['CARD-WALLET-TOKEN ID',\n",
              " 'PROCESSING_CODE',\n",
              " 'TRANSACTION_AMOUNT',\n",
              " 'SETTLEMENT_AMOUNT',\n",
              " 'BILLING_AMOUNT',\n",
              " 'TRANSACTION DATE AND TIME',\n",
              " 'CONVERSION_RATE',\n",
              " 'EXPIRY DATE',\n",
              " 'CONVERSION_RATE_DATE',\n",
              " 'MERCHANT CATEGORY CODE',\n",
              " 'ACQUIRING_COUNTRY_CODE',\n",
              " 'POS ENTRY MODE',\n",
              " 'ACQUIRER_INSTITUTION_CODE',\n",
              " 'AUTHORIZATION CODE',\n",
              " 'APPROVAL DECISION',\n",
              " 'CARD SERVICE CODE',\n",
              " 'TID',\n",
              " 'MID',\n",
              " 'MERCHANT NAME AND ADDRESS',\n",
              " 'PRIVATE DATA 48',\n",
              " 'TRANSACTION CATEGORY CODE',\n",
              " 'DE48 DATA LENGTH',\n",
              " 'TRANSACTION_CURRENCY',\n",
              " 'SETTLEMENT_CURRENCY',\n",
              " 'BILLING_CURRENCY',\n",
              " 'POS_DATA',\n",
              " 'INTERFACE ID',\n",
              " 'TERMINAL TYPE',\n",
              " 'TOKEN DATA-C1',\n",
              " 'ADDITIONAL PAYMENT INFO',\n",
              " 'ECOMMERCE DATA',\n",
              " 'ECI INDICATOR',\n",
              " 'REMAINING BALANCE',\n",
              " 'PRIVATE DATA - ADDITIONAL INFO',\n",
              " 'TOKEN DATA',\n",
              " 'TARGET']"
            ]
          },
          "metadata": {
            "tags": []
          },
          "execution_count": 11
        }
      ]
    },
    {
      "cell_type": "code",
      "metadata": {
        "id": "sObDChw3OWUX",
        "colab_type": "code",
        "colab": {}
      },
      "source": [
        "data2.columns = names"
      ],
      "execution_count": 0,
      "outputs": []
    },
    {
      "cell_type": "code",
      "metadata": {
        "id": "cojacikHwqKw",
        "colab_type": "code",
        "outputId": "b0efc985-6a7e-4c32-b83c-c84dab732288",
        "colab": {
          "base_uri": "https://localhost:8080/",
          "height": 36
        }
      },
      "source": [
        "date_columns = []\n",
        "for i in names:\n",
        "  if(i.find('DATE') >= 0):\n",
        "    date_columns.append(i)\n",
        "date_columns"
      ],
      "execution_count": 13,
      "outputs": [
        {
          "output_type": "execute_result",
          "data": {
            "text/plain": [
              "['TRANSACTION DATE AND TIME', 'EXPIRY DATE', 'CONVERSION_RATE_DATE']"
            ]
          },
          "metadata": {
            "tags": []
          },
          "execution_count": 13
        }
      ]
    },
    {
      "cell_type": "markdown",
      "metadata": {
        "id": "WCeA3LeQymaq",
        "colab_type": "text"
      },
      "source": [
        "##### Therefore these are my date columns, we will out checks on them to rule out cases of Fraud.\n",
        "##### We will compare the transaction date with the current date range and compare it with the conversion rate date which should also be in the vicinity. As for the expiry date we assume that it cannot be before the transaction date and not more than 10 years ahead of the transaction date. Later on we can impose more conditions of similar nature if we want. For this changes will have to be made to the code."
      ]
    },
    {
      "cell_type": "code",
      "metadata": {
        "id": "snueR9f4xCrS",
        "colab_type": "code",
        "outputId": "0aceb786-4e5f-4a24-c871-0e03838b6ec9",
        "colab": {
          "base_uri": "https://localhost:8080/",
          "height": 36
        }
      },
      "source": [
        "data2['TRANSACTION DATE AND TIME'][1].split(' ')"
      ],
      "execution_count": 14,
      "outputs": [
        {
          "output_type": "execute_result",
          "data": {
            "text/plain": [
              "['22-MAR-18', '09.10.37']"
            ]
          },
          "metadata": {
            "tags": []
          },
          "execution_count": 14
        }
      ]
    },
    {
      "cell_type": "code",
      "metadata": {
        "id": "a_5la2skU0PK",
        "colab_type": "code",
        "outputId": "e4740d06-ecb4-43a5-c5c8-d31f4848ea8e",
        "colab": {
          "base_uri": "https://localhost:8080/",
          "height": 36
        }
      },
      "source": [
        "today = date.today()\n",
        "current_date = today.strftime(\"%d-%m-%y\")\n",
        "print(current_date)"
      ],
      "execution_count": 15,
      "outputs": [
        {
          "output_type": "stream",
          "text": [
            "23-01-20\n"
          ],
          "name": "stdout"
        }
      ]
    },
    {
      "cell_type": "code",
      "metadata": {
        "id": "d79g9K1XWJcH",
        "colab_type": "code",
        "colab": {}
      },
      "source": [
        "## creating a dictionary to match the months to their respective serial numbers\n",
        "month_dict = {'JAN':1,'FEB':2,'MAR':3,'APR':4,'MAY':5,'JUN':6,'JUL':7,'AUG':8,'SEP':9,'OCT':10,'NOV':11,'DEC':12}\n",
        "## checking is current date is after the transaction date or not because we certainly cannot have a date from the future here\n",
        "date_1, time_1 = data2['TRANSACTION DATE AND TIME'][1].split(' ')\n"
      ],
      "execution_count": 0,
      "outputs": []
    },
    {
      "cell_type": "code",
      "metadata": {
        "id": "Jc5E5tcIZnZg",
        "colab_type": "code",
        "colab": {}
      },
      "source": [
        "##splitting the date into month day and year and checking for its validity\n",
        "def check_transact_date(d):\n",
        "  today = date.today()\n",
        "  day, month, year = d.split('-')\n",
        "  if (int(year)>int(today.strftime(\"%y\"))):\n",
        "    return 1\n",
        "  elif(int(year)==int(today.strftime(\"%y\"))) and (month_dict[month]>int(today.strftime(\"%m\"))):\n",
        "    return 1\n",
        "  elif(int(year)==int(today.strftime(\"%y\"))) and (month_dict[month]==int(today.strftime(\"%m\"))) and (int(day)>int(today.strftime(\"%d\"))):\n",
        "    return 1\n",
        "  else:\n",
        "    return 0"
      ],
      "execution_count": 0,
      "outputs": []
    },
    {
      "cell_type": "code",
      "metadata": {
        "id": "g0VOs6XTf2Ma",
        "colab_type": "code",
        "colab": {}
      },
      "source": [
        "##checking transaction date and time because it definitely cannot be more than the current time\n",
        "def check_transact_date_and_time(d,t):\n",
        "  hours, mins, secs = t.split('.')\n",
        "  today = date.today()\n",
        "  day, month, year = d.split('-')\n",
        "  if(check_transact_date(d)==1): ## checking to see if the date is valid, if not it makes no sense to check time\n",
        "    return 1\n",
        "  elif(int(year)==int(today.strftime(\"%y\"))) and (month_dict[month]==int(today.strftime(\"%m\"))) and (int(day)==int(today.strftime(\"%d\"))):\n",
        "    now = datetime.now()\n",
        "    if(int(now.strftime(\"%H\"))<int(hours)):\n",
        "      return 1\n",
        "    elif(int(now.strftime(\"%H\"))==int(hours)) and (int(now.strftime(\"%M\"))<int(mins)):\n",
        "      return 1\n",
        "    elif(int(now.strftime(\"%H\"))==int(hours)) and (int(now.strftime(\"%M\"))==int(mins)) and (int(now.strftime(\"%S\"))<int(secs)):\n",
        "      return 1\n",
        "    else:\n",
        "      return 0\n",
        "  else:\n",
        "    return 0"
      ],
      "execution_count": 0,
      "outputs": []
    },
    {
      "cell_type": "code",
      "metadata": {
        "id": "AImBuuot77xb",
        "colab_type": "code",
        "outputId": "4e98830c-0a71-4c85-cd26-1362fa73fc48",
        "colab": {
          "base_uri": "https://localhost:8080/",
          "height": 187
        }
      },
      "source": [
        "## Now we will find the transactions that are found as frauds on the basis of the above check on transaction date and time\n",
        "transact_date_fraud_indices = []\n",
        "data2_temp = data2[pd.isna(data2['TRANSACTION DATE AND TIME'])==False]\n",
        "data2_temp['new_index'] =  np.arange(1,len(data2_temp)+1,1)\n",
        "#data2_temp.set_index(index,inplace=True)\n",
        "data2_temp.set_index(['new_index'], inplace = True) \n",
        "start = time.time()\n",
        "for i in np.arange(1,len(data2_temp),1):\n",
        "  date_1, time_1 = data2_temp['TRANSACTION DATE AND TIME'][i].split(' ')\n",
        "  if (check_transact_date_and_time(date_1,time_1)==1):\n",
        "    transact_date_fraud_indices.append(i)\n",
        "end = time.time()\n",
        "print('Time taken to find fraud cases: {}'.format(end-start))\n",
        "print(len(transact_date_fraud_indices))"
      ],
      "execution_count": 19,
      "outputs": [
        {
          "output_type": "stream",
          "text": [
            "/usr/local/lib/python3.6/dist-packages/ipykernel_launcher.py:3: SettingWithCopyWarning: \n",
            "A value is trying to be set on a copy of a slice from a DataFrame.\n",
            "Try using .loc[row_indexer,col_indexer] = value instead\n",
            "\n",
            "See the caveats in the documentation: http://pandas.pydata.org/pandas-docs/stable/user_guide/indexing.html#returning-a-view-versus-a-copy\n",
            "  This is separate from the ipykernel package so we can avoid doing imports until\n"
          ],
          "name": "stderr"
        },
        {
          "output_type": "stream",
          "text": [
            "Time taken to find fraud cases: 1.2209937572479248\n",
            "0\n"
          ],
          "name": "stdout"
        }
      ]
    },
    {
      "cell_type": "markdown",
      "metadata": {
        "id": "ym0MCRG2-Zjo",
        "colab_type": "text"
      },
      "source": [
        "##### So we can therefore conclude that there are no frauds in terms of the transaction date"
      ]
    },
    {
      "cell_type": "markdown",
      "metadata": {
        "id": "Xk9Y0QSD-sQv",
        "colab_type": "text"
      },
      "source": [
        "##### As for the conversion rate date we can similarly just apply the 'check_transact_date' function to the find the set of valid dates since the rule applied is the same that it cannot be further ahead than the current date. As for how far it can go in the backward direction, it can be decided upon and changed later."
      ]
    },
    {
      "cell_type": "code",
      "metadata": {
        "id": "FbYti27MwqEI",
        "colab_type": "code",
        "outputId": "d7eb1990-8424-44eb-c0e5-867802a3b31c",
        "colab": {
          "base_uri": "https://localhost:8080/",
          "height": 187
        }
      },
      "source": [
        "## Now we will find the frauds that were on the basis of the check on conversion dates\n",
        "conversion_date_fraud_indices = []\n",
        "data2_temp = data2[pd.isna(data2['CONVERSION_RATE_DATE'])==False]\n",
        "data2_temp['new_index'] =  np.arange(1,len(data2_temp)+1,1)\n",
        "#data2_temp.set_index(index,inplace=True)\n",
        "data2_temp.set_index(['new_index'], inplace = True) \n",
        "start = time.time()\n",
        "for i in np.arange(1,len(data2_temp),1):\n",
        "  date_1, time_1 = data2_temp['CONVERSION_RATE_DATE'][i].split(' ')\n",
        "  if (check_transact_date_and_time(date_1, time_1)==1):\n",
        "    conversion_date_fraud_indices.append(i)\n",
        "end = time.time()\n",
        "print('Time taken to find fraud cases: {}'.format(end-start))\n",
        "print(len(conversion_date_fraud_indices))"
      ],
      "execution_count": 20,
      "outputs": [
        {
          "output_type": "stream",
          "text": [
            "Time taken to find fraud cases: 0.03341245651245117\n",
            "0\n"
          ],
          "name": "stdout"
        },
        {
          "output_type": "stream",
          "text": [
            "/usr/local/lib/python3.6/dist-packages/ipykernel_launcher.py:3: SettingWithCopyWarning: \n",
            "A value is trying to be set on a copy of a slice from a DataFrame.\n",
            "Try using .loc[row_indexer,col_indexer] = value instead\n",
            "\n",
            "See the caveats in the documentation: http://pandas.pydata.org/pandas-docs/stable/user_guide/indexing.html#returning-a-view-versus-a-copy\n",
            "  This is separate from the ipykernel package so we can avoid doing imports until\n"
          ],
          "name": "stderr"
        }
      ]
    },
    {
      "cell_type": "markdown",
      "metadata": {
        "id": "GoLPmP0RI7bo",
        "colab_type": "text"
      },
      "source": [
        "##### Therefore there are no frauds on the basis of coversion rate dates either"
      ]
    },
    {
      "cell_type": "markdown",
      "metadata": {
        "id": "ToRoN1CtJyBD",
        "colab_type": "text"
      },
      "source": [
        "##### Now we will check for frauds on the basis of the expiry date of the transaction method ususally cards. We note that the expiry date cannot be less than the date of the transaction or even more than 10 years ahead, a slight change in function that checks the transaction dates helps us check this. The time is always 00.00.00 so we no longer have to check the time."
      ]
    },
    {
      "cell_type": "code",
      "metadata": {
        "id": "xJEwCOKLI6g3",
        "colab_type": "code",
        "colab": {}
      },
      "source": [
        "def check_expiry_date(d1, d2): ## Here d1 is the expiry date and d2 is the transaction date\n",
        "  day1, month1, year1 = d1.split('-')\n",
        "  day2, month2, year2 = d2.split('-')\n",
        "  if (int(year1)<int(year2)) or (int(year1)>int(year2)+15):\n",
        "    return 1\n",
        "  elif(int(year1)==int(year2)) and (month_dict[month1]<month_dict[month2]):\n",
        "    return 1\n",
        "  elif(int(year1)==int(year2)) and (month_dict[month1]==month_dict[month2]) and (int(day1)<int(day2)):\n",
        "    return 1\n",
        "  else:\n",
        "    return 0"
      ],
      "execution_count": 0,
      "outputs": []
    },
    {
      "cell_type": "code",
      "metadata": {
        "id": "6t_e98v4OT5p",
        "colab_type": "code",
        "outputId": "3a21dad2-ab65-42ee-d531-41f9284b1324",
        "colab": {
          "base_uri": "https://localhost:8080/",
          "height": 36
        }
      },
      "source": [
        "check_expiry_date('23-SEP-49','25-DEC-20')"
      ],
      "execution_count": 22,
      "outputs": [
        {
          "output_type": "execute_result",
          "data": {
            "text/plain": [
              "1"
            ]
          },
          "metadata": {
            "tags": []
          },
          "execution_count": 22
        }
      ]
    },
    {
      "cell_type": "markdown",
      "metadata": {
        "id": "moDSVyT2Onti",
        "colab_type": "text"
      },
      "source": [
        "##### Here the error is that the expiry date is more than 15 years ahead of the transaction date which is usually not the case in real life."
      ]
    },
    {
      "cell_type": "code",
      "metadata": {
        "id": "TsUqP4-cK15r",
        "colab_type": "code",
        "outputId": "89d988e5-e07c-49ed-b10a-b4787e9ca433",
        "colab": {
          "base_uri": "https://localhost:8080/",
          "height": 54
        }
      },
      "source": [
        "## Now we will find the frauds that were on the basis of expiry dates\n",
        "expiry_date_fraud_indices = []\n",
        "data2_temp = data2[pd.isna(data2['EXPIRY DATE'])==False]\n",
        "data2_temp = data2_temp[pd.isna(data2_temp['TRANSACTION DATE AND TIME'])==False]\n",
        "data2_temp['new_index'] =  np.arange(1,len(data2_temp)+1,1)\n",
        "#data2_temp.set_index(index,inplace=True)\n",
        "data2_temp.set_index(['new_index'], inplace = True) \n",
        "start = time.time()\n",
        "for i in np.arange(1,len(data2_temp),1):\n",
        "  date_1, time_1 = data2_temp['EXPIRY DATE'][i].split(' ')\n",
        "  date_2, time_2 = data2_temp['TRANSACTION DATE AND TIME'][i].split(' ')\n",
        "  if (check_expiry_date(date_1,date_2)==1):\n",
        "    expiry_date_fraud_indices.append(i)\n",
        "end = time.time()\n",
        "print('Time taken to find fraud cases: {}'.format(end-start))\n",
        "print(len(expiry_date_fraud_indices))"
      ],
      "execution_count": 23,
      "outputs": [
        {
          "output_type": "stream",
          "text": [
            "Time taken to find fraud cases: 1.0801365375518799\n",
            "0\n"
          ],
          "name": "stdout"
        }
      ]
    },
    {
      "cell_type": "markdown",
      "metadata": {
        "id": "zCot2DogPaMC",
        "colab_type": "text"
      },
      "source": [
        "##### Unfortunately there are no data elements which are frauds on the basis of expiry dates as well. We will have to delve further to identify them as frauds. Further on we will be dealing with supervised learning algorithms to identify frauds. So it will be something that looks at fraud data and in the future identifies patterns on the basis of that."
      ]
    },
    {
      "cell_type": "markdown",
      "metadata": {
        "id": "oxNpyMB1Mzpq",
        "colab_type": "text"
      },
      "source": [
        "#### **ADABOOST ALGORITHM**"
      ]
    },
    {
      "cell_type": "markdown",
      "metadata": {
        "id": "Q7GguQPnEb-r",
        "colab_type": "text"
      },
      "source": [
        "##### Now we will try to use adaptive boosting technique to try and better the results of the Nano-models.\n",
        "##### First we will start with a small introduction to **AdaBoost**, what it does as an alogirthm, what are the major steps and how it applies to our case here.\n",
        "\n",
        ">**Step 1:** Initialize the sample weights\n",
        "In first step of AdaBoost each sample is associated with a weight that indicates how important it is with regards to the classification. Initially, all the samples have identical weights (1 divided by the total number of samples).\n",
        "\n",
        ">**Step 2:** Build a decision tree with each feature, classify the data and evaluate the result\n",
        "Next, for each feature, we build a decision tree with a depth of desired length(usually taken as 1 or 2). Then, we use every decision tree to classify the data. Afterwards, we compare the predictions made by each tree with the actual labels in the training set. The feature and corresponding tree that did the best job of classifying the training samples becomes the next tree in the forest.\n",
        "\n",
        ">**Step 3:** Calculate the significance of the tree in the final classification.\n",
        "Once we have decided on a decision tree. We use the proceeding formula to calculate the amount of say the it has in the final classification.\n",
        "\n",
        "$$Significance = \\frac{1}{2}*log(\\frac{1-total\\ error}{toral\\ error})$$\n",
        ">Where the total error is the sum of the weights of the incorrectly classified samples.\n",
        "\n",
        "> **Step 4:** Update the sample weights so that the next decision tree will take the errors made by the preceding decision tree into account.\n",
        "We look at the samples that the current tree classified incorrectly and increase their associated weights using the following formula.\n",
        "\n",
        "$$New\\ Sample\\ Weight = sample\\ weight * e^{significance}$$\n",
        "\n",
        ">**Step 5:** Form a new dataset. We start by making a new and empty dataset that is the same size as the original. Then, imagine a roulette table where each pocket corresponds to a sample weight. We select numbers between 0 and 1 at random. The location where each number falls determines which sample we place in the new dataset. Since the samples that were incorrectly classified have higher weights in relation to the others, the likelihood that the random number falls under their slice of the distribution is greater. Therefore, the new dataset will have a tendency to contain multiple copies of the samples that were misclassified by the previous tree. As a result, when we go back to the step where we evaluate the predictions made by each decision tree, the one with the highest score will have correctly classified the samples the previous tree misclassified.\n",
        "\n",
        ">**Step 6:** Repeat steps 2 through 5 until the number of iterations equals the number specified by the hyperparameter (i.e. number of estimators)\n",
        "\n",
        ">**Step 7:** Use the forest of decision trees to make predictions on data outside of the training set. The AdaBoost model makes predictions by having each tree in the forest classify the sample. Then, we split the trees into groups according to their decisions. For each group, we add up the significance of every tree inside the group. The final classification made by the forest as a whole is determined by the group with the largest sum.\n",
        "\n"
      ]
    },
    {
      "cell_type": "markdown",
      "metadata": {
        "id": "IK6Kuug6EV4U",
        "colab_type": "text"
      },
      "source": [
        "##### Now we will try to use Adaptive Boosting techinque to achieve the classification of transaction as frauds and not frauds.\n",
        "##### But before that it is important to weed out columns which are not at all helpful such as the date type columns and those which are unique for each row."
      ]
    },
    {
      "cell_type": "markdown",
      "metadata": {
        "id": "kCW5-DER7f34",
        "colab_type": "text"
      },
      "source": [
        "##### **Dropping Date columns**"
      ]
    },
    {
      "cell_type": "code",
      "metadata": {
        "id": "Gn6_EiiZEkZp",
        "colab_type": "code",
        "outputId": "2c759da1-2c03-4f13-fdf1-335c154e8203",
        "colab": {
          "base_uri": "https://localhost:8080/",
          "height": 241
        }
      },
      "source": [
        "data2_copy = data2.copy()\n",
        "data2_copy = data2_copy.drop(date_columns,axis = 1)\n",
        "data2_copy.columns"
      ],
      "execution_count": 24,
      "outputs": [
        {
          "output_type": "execute_result",
          "data": {
            "text/plain": [
              "Index(['CARD-WALLET-TOKEN ID', 'PROCESSING_CODE', 'TRANSACTION_AMOUNT',\n",
              "       'SETTLEMENT_AMOUNT', 'BILLING_AMOUNT', 'CONVERSION_RATE',\n",
              "       'MERCHANT CATEGORY CODE', 'ACQUIRING_COUNTRY_CODE', 'POS ENTRY MODE',\n",
              "       'ACQUIRER_INSTITUTION_CODE', 'AUTHORIZATION CODE', 'APPROVAL DECISION',\n",
              "       'CARD SERVICE CODE', 'TID', 'MID', 'MERCHANT NAME AND ADDRESS',\n",
              "       'PRIVATE DATA 48', 'TRANSACTION CATEGORY CODE', 'DE48 DATA LENGTH',\n",
              "       'TRANSACTION_CURRENCY', 'SETTLEMENT_CURRENCY', 'BILLING_CURRENCY',\n",
              "       'POS_DATA', 'INTERFACE ID', 'TERMINAL TYPE', 'TOKEN DATA-C1',\n",
              "       'ADDITIONAL PAYMENT INFO', 'ECOMMERCE DATA', 'ECI INDICATOR',\n",
              "       'REMAINING BALANCE', 'PRIVATE DATA - ADDITIONAL INFO', 'TOKEN DATA',\n",
              "       'TARGET'],\n",
              "      dtype='object')"
            ]
          },
          "metadata": {
            "tags": []
          },
          "execution_count": 24
        }
      ]
    },
    {
      "cell_type": "markdown",
      "metadata": {
        "id": "JL4FKvZp9LiI",
        "colab_type": "text"
      },
      "source": [
        "##### **Removing constant columns and those which are unique to each row**"
      ]
    },
    {
      "cell_type": "code",
      "metadata": {
        "id": "zjzpMTmPEU2i",
        "colab_type": "code",
        "outputId": "804f30ba-d69f-4c54-a428-b7ac78ea2332",
        "colab": {
          "base_uri": "https://localhost:8080/",
          "height": 36
        }
      },
      "source": [
        "removable_indices1 = []\n",
        "removable_indices2 = []\n",
        "for i in data2_copy.columns:\n",
        "  if(len(set(data2_copy[i]))==len(data2_copy)):\n",
        "    removables_indices.append(i)\n",
        "  elif(len(set(data2_copy))==1):\n",
        "    removable_indices2.append(i)\n",
        "data2_copy = data2_copy.drop(removable_indices1,axis=1)\n",
        "data2_copy = data2_copy.drop(removable_indices2,axis=1)\n",
        "len(data2_copy.columns)"
      ],
      "execution_count": 25,
      "outputs": [
        {
          "output_type": "execute_result",
          "data": {
            "text/plain": [
              "33"
            ]
          },
          "metadata": {
            "tags": []
          },
          "execution_count": 25
        }
      ]
    },
    {
      "cell_type": "markdown",
      "metadata": {
        "id": "F-s13kJa-PnT",
        "colab_type": "text"
      },
      "source": [
        "##### So out of 36 columns we are left with 33 columns which we can now input to our AdaBoost classifier. "
      ]
    },
    {
      "cell_type": "code",
      "metadata": {
        "id": "KplhjJHlLzyQ",
        "colab_type": "code",
        "outputId": "c71e0d33-c391-41f9-e607-956a896aa21b",
        "colab": {
          "base_uri": "https://localhost:8080/",
          "height": 653
        }
      },
      "source": [
        "data2_copy.dtypes"
      ],
      "execution_count": 26,
      "outputs": [
        {
          "output_type": "execute_result",
          "data": {
            "text/plain": [
              "CARD-WALLET-TOKEN ID              object\n",
              "PROCESSING_CODE                   object\n",
              "TRANSACTION_AMOUNT                object\n",
              "SETTLEMENT_AMOUNT                 object\n",
              "BILLING_AMOUNT                    object\n",
              "CONVERSION_RATE                   object\n",
              "MERCHANT CATEGORY CODE            object\n",
              "ACQUIRING_COUNTRY_CODE            object\n",
              "POS ENTRY MODE                    object\n",
              "ACQUIRER_INSTITUTION_CODE         object\n",
              "AUTHORIZATION CODE                object\n",
              "APPROVAL DECISION                 object\n",
              "CARD SERVICE CODE                 object\n",
              "TID                               object\n",
              "MID                               object\n",
              "MERCHANT NAME AND ADDRESS         object\n",
              "PRIVATE DATA 48                   object\n",
              "TRANSACTION CATEGORY CODE         object\n",
              "DE48 DATA LENGTH                  object\n",
              "TRANSACTION_CURRENCY              object\n",
              "SETTLEMENT_CURRENCY               object\n",
              "BILLING_CURRENCY                  object\n",
              "POS_DATA                          object\n",
              "INTERFACE ID                      object\n",
              "TERMINAL TYPE                     object\n",
              "TOKEN DATA-C1                     object\n",
              "ADDITIONAL PAYMENT INFO           object\n",
              "ECOMMERCE DATA                    object\n",
              "ECI INDICATOR                     object\n",
              "REMAINING BALANCE                 object\n",
              "PRIVATE DATA - ADDITIONAL INFO    object\n",
              "TOKEN DATA                        object\n",
              "TARGET                            object\n",
              "dtype: object"
            ]
          },
          "metadata": {
            "tags": []
          },
          "execution_count": 26
        }
      ]
    },
    {
      "cell_type": "markdown",
      "metadata": {
        "id": "TWxO-zEsK-Jv",
        "colab_type": "text"
      },
      "source": [
        "##### Changing question marks in the columns to numeric constants"
      ]
    },
    {
      "cell_type": "code",
      "metadata": {
        "id": "7BCz_VYfMcZ8",
        "colab_type": "code",
        "colab": {}
      },
      "source": [
        "## for i in data2_copy.columns:\n",
        "cols = data2_copy.columns\n",
        "for col in cols:\n",
        "  l = data2_copy[col]\n",
        "  new_list = []\n",
        "  for i in l:\n",
        "    if pd.isna(i):\n",
        "      new_list.append(i)\n",
        "    elif str(i)[0] == '?':\n",
        "      new_list.append('0')\n",
        "    else:\n",
        "      new_list.append(i)\n",
        "  data2_copy[col] = new_list\n",
        "# l=data2_copy[cols[8]]\n",
        "# type(l)\n",
        "# l.str.count('?')"
      ],
      "execution_count": 0,
      "outputs": []
    },
    {
      "cell_type": "code",
      "metadata": {
        "id": "t51hHwnLhHzK",
        "colab_type": "code",
        "outputId": "50fbf082-bed1-4f4f-83e9-5b0413cd2719",
        "colab": {
          "base_uri": "https://localhost:8080/",
          "height": 452
        }
      },
      "source": [
        "data2_copy.head()"
      ],
      "execution_count": 28,
      "outputs": [
        {
          "output_type": "execute_result",
          "data": {
            "text/html": [
              "<div>\n",
              "<style scoped>\n",
              "    .dataframe tbody tr th:only-of-type {\n",
              "        vertical-align: middle;\n",
              "    }\n",
              "\n",
              "    .dataframe tbody tr th {\n",
              "        vertical-align: top;\n",
              "    }\n",
              "\n",
              "    .dataframe thead th {\n",
              "        text-align: right;\n",
              "    }\n",
              "</style>\n",
              "<table border=\"1\" class=\"dataframe\">\n",
              "  <thead>\n",
              "    <tr style=\"text-align: right;\">\n",
              "      <th></th>\n",
              "      <th>CARD-WALLET-TOKEN ID</th>\n",
              "      <th>PROCESSING_CODE</th>\n",
              "      <th>TRANSACTION_AMOUNT</th>\n",
              "      <th>SETTLEMENT_AMOUNT</th>\n",
              "      <th>BILLING_AMOUNT</th>\n",
              "      <th>CONVERSION_RATE</th>\n",
              "      <th>MERCHANT CATEGORY CODE</th>\n",
              "      <th>ACQUIRING_COUNTRY_CODE</th>\n",
              "      <th>POS ENTRY MODE</th>\n",
              "      <th>ACQUIRER_INSTITUTION_CODE</th>\n",
              "      <th>AUTHORIZATION CODE</th>\n",
              "      <th>APPROVAL DECISION</th>\n",
              "      <th>CARD SERVICE CODE</th>\n",
              "      <th>TID</th>\n",
              "      <th>MID</th>\n",
              "      <th>MERCHANT NAME AND ADDRESS</th>\n",
              "      <th>PRIVATE DATA 48</th>\n",
              "      <th>TRANSACTION CATEGORY CODE</th>\n",
              "      <th>DE48 DATA LENGTH</th>\n",
              "      <th>TRANSACTION_CURRENCY</th>\n",
              "      <th>SETTLEMENT_CURRENCY</th>\n",
              "      <th>BILLING_CURRENCY</th>\n",
              "      <th>POS_DATA</th>\n",
              "      <th>INTERFACE ID</th>\n",
              "      <th>TERMINAL TYPE</th>\n",
              "      <th>TOKEN DATA-C1</th>\n",
              "      <th>ADDITIONAL PAYMENT INFO</th>\n",
              "      <th>ECOMMERCE DATA</th>\n",
              "      <th>ECI INDICATOR</th>\n",
              "      <th>REMAINING BALANCE</th>\n",
              "      <th>PRIVATE DATA - ADDITIONAL INFO</th>\n",
              "      <th>TOKEN DATA</th>\n",
              "      <th>TARGET</th>\n",
              "    </tr>\n",
              "  </thead>\n",
              "  <tbody>\n",
              "    <tr>\n",
              "      <th>1</th>\n",
              "      <td>6.086942e+15</td>\n",
              "      <td>174000</td>\n",
              "      <td>7000.0</td>\n",
              "      <td>7000.00</td>\n",
              "      <td>7000.00</td>\n",
              "      <td>0.0</td>\n",
              "      <td>6011.0</td>\n",
              "      <td>356</td>\n",
              "      <td>0</td>\n",
              "      <td>544921</td>\n",
              "      <td>533038</td>\n",
              "      <td>000</td>\n",
              "      <td>201</td>\n",
              "      <td>GYACBB04</td>\n",
              "      <td>1005044921</td>\n",
              "      <td>LXFC BTNK LTD.KHURDT OR IN</td>\n",
              "      <td>NaN</td>\n",
              "      <td>NaN</td>\n",
              "      <td>NaN</td>\n",
              "      <td>356</td>\n",
              "      <td>356</td>\n",
              "      <td>356</td>\n",
              "      <td>210201210141</td>\n",
              "      <td>IN1</td>\n",
              "      <td>ATM</td>\n",
              "      <td>0917</td>\n",
              "      <td>NaN</td>\n",
              "      <td>NaN</td>\n",
              "      <td>NaN</td>\n",
              "      <td>35000.00</td>\n",
              "      <td>NaN</td>\n",
              "      <td>NaN</td>\n",
              "      <td>Not Fraud</td>\n",
              "    </tr>\n",
              "    <tr>\n",
              "      <th>2</th>\n",
              "      <td>6.086941e+15</td>\n",
              "      <td>174000</td>\n",
              "      <td>2000.0</td>\n",
              "      <td>2000.00</td>\n",
              "      <td>2000.00</td>\n",
              "      <td>0.0</td>\n",
              "      <td>6011.0</td>\n",
              "      <td>356</td>\n",
              "      <td>0</td>\n",
              "      <td>544921</td>\n",
              "      <td>944896</td>\n",
              "      <td>000</td>\n",
              "      <td>201</td>\n",
              "      <td>JSEWLK06</td>\n",
              "      <td>1005044921</td>\n",
              "      <td>LXFC BTNK LTD.LUCKNOWUP IN</td>\n",
              "      <td>NaN</td>\n",
              "      <td>NaN</td>\n",
              "      <td>NaN</td>\n",
              "      <td>356</td>\n",
              "      <td>356</td>\n",
              "      <td>356</td>\n",
              "      <td>210201210141</td>\n",
              "      <td>IN1</td>\n",
              "      <td>ATM</td>\n",
              "      <td>0796</td>\n",
              "      <td>NaN</td>\n",
              "      <td>NaN</td>\n",
              "      <td>NaN</td>\n",
              "      <td>44000.00</td>\n",
              "      <td>NaN</td>\n",
              "      <td>NaN</td>\n",
              "      <td>Not Fraud</td>\n",
              "    </tr>\n",
              "    <tr>\n",
              "      <th>3</th>\n",
              "      <td>6.086941e+15</td>\n",
              "      <td>174000</td>\n",
              "      <td>1000.0</td>\n",
              "      <td>1000.00</td>\n",
              "      <td>1000.00</td>\n",
              "      <td>0.0</td>\n",
              "      <td>6011.0</td>\n",
              "      <td>356</td>\n",
              "      <td>0</td>\n",
              "      <td>544921</td>\n",
              "      <td>153505</td>\n",
              "      <td>000</td>\n",
              "      <td>201</td>\n",
              "      <td>JSEWLK06</td>\n",
              "      <td>1005044921</td>\n",
              "      <td>LXFC BTNK LTD.LUCKNOWUP IN</td>\n",
              "      <td>NaN</td>\n",
              "      <td>NaN</td>\n",
              "      <td>NaN</td>\n",
              "      <td>356</td>\n",
              "      <td>356</td>\n",
              "      <td>356</td>\n",
              "      <td>210201210141</td>\n",
              "      <td>IN1</td>\n",
              "      <td>ATM</td>\n",
              "      <td>0796</td>\n",
              "      <td>NaN</td>\n",
              "      <td>NaN</td>\n",
              "      <td>NaN</td>\n",
              "      <td>42000.00</td>\n",
              "      <td>NaN</td>\n",
              "      <td>NaN</td>\n",
              "      <td>Not Fraud</td>\n",
              "    </tr>\n",
              "    <tr>\n",
              "      <th>4</th>\n",
              "      <td>6.086941e+15</td>\n",
              "      <td>174000</td>\n",
              "      <td>4500.0</td>\n",
              "      <td>28.59</td>\n",
              "      <td>2034.06</td>\n",
              "      <td>56874000.0</td>\n",
              "      <td>6011.0</td>\n",
              "      <td>144</td>\n",
              "      <td>0</td>\n",
              "      <td>544921</td>\n",
              "      <td>757011</td>\n",
              "      <td>000</td>\n",
              "      <td>201</td>\n",
              "      <td>A9021311</td>\n",
              "      <td>1144000031</td>\n",
              "      <td>STMPTTH BTNK TTMCTSHLK</td>\n",
              "      <td>NaN</td>\n",
              "      <td>NaN</td>\n",
              "      <td>NaN</td>\n",
              "      <td>144</td>\n",
              "      <td>840</td>\n",
              "      <td>356</td>\n",
              "      <td>210201210141</td>\n",
              "      <td>IN1</td>\n",
              "      <td>ATM</td>\n",
              "      <td>0797</td>\n",
              "      <td>NaN</td>\n",
              "      <td>NaN</td>\n",
              "      <td>NaN</td>\n",
              "      <td>14791.42</td>\n",
              "      <td>NaN</td>\n",
              "      <td>NaN</td>\n",
              "      <td>Not Fraud</td>\n",
              "    </tr>\n",
              "    <tr>\n",
              "      <th>5</th>\n",
              "      <td>6.086941e+15</td>\n",
              "      <td>004000</td>\n",
              "      <td>499.0</td>\n",
              "      <td>7.14</td>\n",
              "      <td>499.00</td>\n",
              "      <td>0.0</td>\n",
              "      <td>5967.0</td>\n",
              "      <td>840</td>\n",
              "      <td>0</td>\n",
              "      <td>370100</td>\n",
              "      <td>954345</td>\n",
              "      <td>000</td>\n",
              "      <td>201</td>\n",
              "      <td>FN90G440</td>\n",
              "      <td>9590108460</td>\n",
              "      <td>GOOGLE SERDICES \\\\MOUNTTIN DIEW\\94043 \\</td>\n",
              "      <td>NaN</td>\n",
              "      <td>NaN</td>\n",
              "      <td>NaN</td>\n",
              "      <td>356</td>\n",
              "      <td>840</td>\n",
              "      <td>356</td>\n",
              "      <td>200111100040</td>\n",
              "      <td>IN1</td>\n",
              "      <td>POS</td>\n",
              "      <td>0797</td>\n",
              "      <td>NaN</td>\n",
              "      <td>NaN</td>\n",
              "      <td>NaN</td>\n",
              "      <td>177495.26</td>\n",
              "      <td>NaN</td>\n",
              "      <td>NaN</td>\n",
              "      <td>Not Fraud</td>\n",
              "    </tr>\n",
              "  </tbody>\n",
              "</table>\n",
              "</div>"
            ],
            "text/plain": [
              "   CARD-WALLET-TOKEN ID PROCESSING_CODE  ...  TOKEN DATA     TARGET\n",
              "1          6.086942e+15          174000  ...         NaN  Not Fraud\n",
              "2          6.086941e+15          174000  ...         NaN  Not Fraud\n",
              "3          6.086941e+15          174000  ...         NaN  Not Fraud\n",
              "4          6.086941e+15          174000  ...         NaN  Not Fraud\n",
              "5          6.086941e+15          004000  ...         NaN  Not Fraud\n",
              "\n",
              "[5 rows x 33 columns]"
            ]
          },
          "metadata": {
            "tags": []
          },
          "execution_count": 28
        }
      ]
    },
    {
      "cell_type": "markdown",
      "metadata": {
        "id": "RgT5XtbZiwpm",
        "colab_type": "text"
      },
      "source": [
        "##### **CHANGING ALPHA-NUMERIC COLUMNS TO NUMERICAL ENCODINGS**"
      ]
    },
    {
      "cell_type": "markdown",
      "metadata": {
        "id": "bfINyBEDwb6X",
        "colab_type": "text"
      },
      "source": [
        "##### **TRIAL**"
      ]
    },
    {
      "cell_type": "code",
      "metadata": {
        "id": "iPzuGAWWioeZ",
        "colab_type": "code",
        "colab": {}
      },
      "source": [
        "# pd.to_Categorical(data2_copy['TID'])\n",
        "l = data2_copy['TID']\n",
        "l=l[pd.isna(l)==False]\n",
        "new_col = pd.Categorical(l, categories=l.unique()).codes\n",
        "df_temp = pd.DataFrame()\n",
        "df_temp['TID'] = l\n",
        "df_temp['TID encoded'] = new_col\n",
        "#df_temp.drop_duplicates()\n",
        "# # cols = ['TID']\n",
        "# # data2_copy[cols] = data2_copy[cols].astype('category')\n"
      ],
      "execution_count": 0,
      "outputs": []
    },
    {
      "cell_type": "code",
      "metadata": {
        "id": "cf5uPJUmm-fw",
        "colab_type": "code",
        "colab": {}
      },
      "source": [
        "df_temp=df_temp.drop_duplicates()"
      ],
      "execution_count": 0,
      "outputs": []
    },
    {
      "cell_type": "code",
      "metadata": {
        "id": "rB7otJE4nPMQ",
        "colab_type": "code",
        "colab": {}
      },
      "source": [
        "#data2_copy"
      ],
      "execution_count": 0,
      "outputs": []
    },
    {
      "cell_type": "code",
      "metadata": {
        "id": "gd_OEszYhadX",
        "colab_type": "code",
        "outputId": "daebce52-b2d8-4f4c-8fda-77d847098ef1",
        "colab": {
          "base_uri": "https://localhost:8080/",
          "height": 756
        }
      },
      "source": [
        "df_t=pd.merge(data2_copy, df_temp, how='left', on='TID')\n",
        "df_t = df_t.drop('TID',axis=1)\n",
        "df_t = df_t.rename(columns={\"TID encoded\": \"TID\"})\n",
        "df_t"
      ],
      "execution_count": 32,
      "outputs": [
        {
          "output_type": "execute_result",
          "data": {
            "text/html": [
              "<div>\n",
              "<style scoped>\n",
              "    .dataframe tbody tr th:only-of-type {\n",
              "        vertical-align: middle;\n",
              "    }\n",
              "\n",
              "    .dataframe tbody tr th {\n",
              "        vertical-align: top;\n",
              "    }\n",
              "\n",
              "    .dataframe thead th {\n",
              "        text-align: right;\n",
              "    }\n",
              "</style>\n",
              "<table border=\"1\" class=\"dataframe\">\n",
              "  <thead>\n",
              "    <tr style=\"text-align: right;\">\n",
              "      <th></th>\n",
              "      <th>CARD-WALLET-TOKEN ID</th>\n",
              "      <th>PROCESSING_CODE</th>\n",
              "      <th>TRANSACTION_AMOUNT</th>\n",
              "      <th>SETTLEMENT_AMOUNT</th>\n",
              "      <th>BILLING_AMOUNT</th>\n",
              "      <th>CONVERSION_RATE</th>\n",
              "      <th>MERCHANT CATEGORY CODE</th>\n",
              "      <th>ACQUIRING_COUNTRY_CODE</th>\n",
              "      <th>POS ENTRY MODE</th>\n",
              "      <th>ACQUIRER_INSTITUTION_CODE</th>\n",
              "      <th>AUTHORIZATION CODE</th>\n",
              "      <th>APPROVAL DECISION</th>\n",
              "      <th>CARD SERVICE CODE</th>\n",
              "      <th>MID</th>\n",
              "      <th>MERCHANT NAME AND ADDRESS</th>\n",
              "      <th>PRIVATE DATA 48</th>\n",
              "      <th>TRANSACTION CATEGORY CODE</th>\n",
              "      <th>DE48 DATA LENGTH</th>\n",
              "      <th>TRANSACTION_CURRENCY</th>\n",
              "      <th>SETTLEMENT_CURRENCY</th>\n",
              "      <th>BILLING_CURRENCY</th>\n",
              "      <th>POS_DATA</th>\n",
              "      <th>INTERFACE ID</th>\n",
              "      <th>TERMINAL TYPE</th>\n",
              "      <th>TOKEN DATA-C1</th>\n",
              "      <th>ADDITIONAL PAYMENT INFO</th>\n",
              "      <th>ECOMMERCE DATA</th>\n",
              "      <th>ECI INDICATOR</th>\n",
              "      <th>REMAINING BALANCE</th>\n",
              "      <th>PRIVATE DATA - ADDITIONAL INFO</th>\n",
              "      <th>TOKEN DATA</th>\n",
              "      <th>TARGET</th>\n",
              "      <th>TID</th>\n",
              "    </tr>\n",
              "  </thead>\n",
              "  <tbody>\n",
              "    <tr>\n",
              "      <th>0</th>\n",
              "      <td>6.086942e+15</td>\n",
              "      <td>174000</td>\n",
              "      <td>7000.0</td>\n",
              "      <td>7000.00</td>\n",
              "      <td>7000.00</td>\n",
              "      <td>0.0</td>\n",
              "      <td>6011.0</td>\n",
              "      <td>356</td>\n",
              "      <td>0</td>\n",
              "      <td>544921</td>\n",
              "      <td>533038</td>\n",
              "      <td>000</td>\n",
              "      <td>201</td>\n",
              "      <td>1005044921</td>\n",
              "      <td>LXFC BTNK LTD.KHURDT OR IN</td>\n",
              "      <td>NaN</td>\n",
              "      <td>NaN</td>\n",
              "      <td>NaN</td>\n",
              "      <td>356</td>\n",
              "      <td>356</td>\n",
              "      <td>356</td>\n",
              "      <td>210201210141</td>\n",
              "      <td>IN1</td>\n",
              "      <td>ATM</td>\n",
              "      <td>0917</td>\n",
              "      <td>NaN</td>\n",
              "      <td>NaN</td>\n",
              "      <td>NaN</td>\n",
              "      <td>35000.00</td>\n",
              "      <td>NaN</td>\n",
              "      <td>NaN</td>\n",
              "      <td>Not Fraud</td>\n",
              "      <td>0.0</td>\n",
              "    </tr>\n",
              "    <tr>\n",
              "      <th>1</th>\n",
              "      <td>6.086941e+15</td>\n",
              "      <td>174000</td>\n",
              "      <td>2000.0</td>\n",
              "      <td>2000.00</td>\n",
              "      <td>2000.00</td>\n",
              "      <td>0.0</td>\n",
              "      <td>6011.0</td>\n",
              "      <td>356</td>\n",
              "      <td>0</td>\n",
              "      <td>544921</td>\n",
              "      <td>944896</td>\n",
              "      <td>000</td>\n",
              "      <td>201</td>\n",
              "      <td>1005044921</td>\n",
              "      <td>LXFC BTNK LTD.LUCKNOWUP IN</td>\n",
              "      <td>NaN</td>\n",
              "      <td>NaN</td>\n",
              "      <td>NaN</td>\n",
              "      <td>356</td>\n",
              "      <td>356</td>\n",
              "      <td>356</td>\n",
              "      <td>210201210141</td>\n",
              "      <td>IN1</td>\n",
              "      <td>ATM</td>\n",
              "      <td>0796</td>\n",
              "      <td>NaN</td>\n",
              "      <td>NaN</td>\n",
              "      <td>NaN</td>\n",
              "      <td>44000.00</td>\n",
              "      <td>NaN</td>\n",
              "      <td>NaN</td>\n",
              "      <td>Not Fraud</td>\n",
              "      <td>1.0</td>\n",
              "    </tr>\n",
              "    <tr>\n",
              "      <th>2</th>\n",
              "      <td>6.086941e+15</td>\n",
              "      <td>174000</td>\n",
              "      <td>1000.0</td>\n",
              "      <td>1000.00</td>\n",
              "      <td>1000.00</td>\n",
              "      <td>0.0</td>\n",
              "      <td>6011.0</td>\n",
              "      <td>356</td>\n",
              "      <td>0</td>\n",
              "      <td>544921</td>\n",
              "      <td>153505</td>\n",
              "      <td>000</td>\n",
              "      <td>201</td>\n",
              "      <td>1005044921</td>\n",
              "      <td>LXFC BTNK LTD.LUCKNOWUP IN</td>\n",
              "      <td>NaN</td>\n",
              "      <td>NaN</td>\n",
              "      <td>NaN</td>\n",
              "      <td>356</td>\n",
              "      <td>356</td>\n",
              "      <td>356</td>\n",
              "      <td>210201210141</td>\n",
              "      <td>IN1</td>\n",
              "      <td>ATM</td>\n",
              "      <td>0796</td>\n",
              "      <td>NaN</td>\n",
              "      <td>NaN</td>\n",
              "      <td>NaN</td>\n",
              "      <td>42000.00</td>\n",
              "      <td>NaN</td>\n",
              "      <td>NaN</td>\n",
              "      <td>Not Fraud</td>\n",
              "      <td>1.0</td>\n",
              "    </tr>\n",
              "    <tr>\n",
              "      <th>3</th>\n",
              "      <td>6.086941e+15</td>\n",
              "      <td>174000</td>\n",
              "      <td>4500.0</td>\n",
              "      <td>28.59</td>\n",
              "      <td>2034.06</td>\n",
              "      <td>56874000.0</td>\n",
              "      <td>6011.0</td>\n",
              "      <td>144</td>\n",
              "      <td>0</td>\n",
              "      <td>544921</td>\n",
              "      <td>757011</td>\n",
              "      <td>000</td>\n",
              "      <td>201</td>\n",
              "      <td>1144000031</td>\n",
              "      <td>STMPTTH BTNK TTMCTSHLK</td>\n",
              "      <td>NaN</td>\n",
              "      <td>NaN</td>\n",
              "      <td>NaN</td>\n",
              "      <td>144</td>\n",
              "      <td>840</td>\n",
              "      <td>356</td>\n",
              "      <td>210201210141</td>\n",
              "      <td>IN1</td>\n",
              "      <td>ATM</td>\n",
              "      <td>0797</td>\n",
              "      <td>NaN</td>\n",
              "      <td>NaN</td>\n",
              "      <td>NaN</td>\n",
              "      <td>14791.42</td>\n",
              "      <td>NaN</td>\n",
              "      <td>NaN</td>\n",
              "      <td>Not Fraud</td>\n",
              "      <td>2.0</td>\n",
              "    </tr>\n",
              "    <tr>\n",
              "      <th>4</th>\n",
              "      <td>6.086941e+15</td>\n",
              "      <td>004000</td>\n",
              "      <td>499.0</td>\n",
              "      <td>7.14</td>\n",
              "      <td>499.00</td>\n",
              "      <td>0.0</td>\n",
              "      <td>5967.0</td>\n",
              "      <td>840</td>\n",
              "      <td>0</td>\n",
              "      <td>370100</td>\n",
              "      <td>954345</td>\n",
              "      <td>000</td>\n",
              "      <td>201</td>\n",
              "      <td>9590108460</td>\n",
              "      <td>GOOGLE SERDICES \\\\MOUNTTIN DIEW\\94043 \\</td>\n",
              "      <td>NaN</td>\n",
              "      <td>NaN</td>\n",
              "      <td>NaN</td>\n",
              "      <td>356</td>\n",
              "      <td>840</td>\n",
              "      <td>356</td>\n",
              "      <td>200111100040</td>\n",
              "      <td>IN1</td>\n",
              "      <td>POS</td>\n",
              "      <td>0797</td>\n",
              "      <td>NaN</td>\n",
              "      <td>NaN</td>\n",
              "      <td>NaN</td>\n",
              "      <td>177495.26</td>\n",
              "      <td>NaN</td>\n",
              "      <td>NaN</td>\n",
              "      <td>Not Fraud</td>\n",
              "      <td>3.0</td>\n",
              "    </tr>\n",
              "    <tr>\n",
              "      <th>...</th>\n",
              "      <td>...</td>\n",
              "      <td>...</td>\n",
              "      <td>...</td>\n",
              "      <td>...</td>\n",
              "      <td>...</td>\n",
              "      <td>...</td>\n",
              "      <td>...</td>\n",
              "      <td>...</td>\n",
              "      <td>...</td>\n",
              "      <td>...</td>\n",
              "      <td>...</td>\n",
              "      <td>...</td>\n",
              "      <td>...</td>\n",
              "      <td>...</td>\n",
              "      <td>...</td>\n",
              "      <td>...</td>\n",
              "      <td>...</td>\n",
              "      <td>...</td>\n",
              "      <td>...</td>\n",
              "      <td>...</td>\n",
              "      <td>...</td>\n",
              "      <td>...</td>\n",
              "      <td>...</td>\n",
              "      <td>...</td>\n",
              "      <td>...</td>\n",
              "      <td>...</td>\n",
              "      <td>...</td>\n",
              "      <td>...</td>\n",
              "      <td>...</td>\n",
              "      <td>...</td>\n",
              "      <td>...</td>\n",
              "      <td>...</td>\n",
              "      <td>...</td>\n",
              "    </tr>\n",
              "    <tr>\n",
              "      <th>996856</th>\n",
              "      <td>NaN</td>\n",
              "      <td>NaN</td>\n",
              "      <td>NaN</td>\n",
              "      <td>NaN</td>\n",
              "      <td>NaN</td>\n",
              "      <td>NaN</td>\n",
              "      <td>NaN</td>\n",
              "      <td>NaN</td>\n",
              "      <td>NaN</td>\n",
              "      <td>NaN</td>\n",
              "      <td>NaN</td>\n",
              "      <td>NaN</td>\n",
              "      <td>NaN</td>\n",
              "      <td>NaN</td>\n",
              "      <td>NaN</td>\n",
              "      <td>NaN</td>\n",
              "      <td>NaN</td>\n",
              "      <td>NaN</td>\n",
              "      <td>NaN</td>\n",
              "      <td>NaN</td>\n",
              "      <td>NaN</td>\n",
              "      <td>NaN</td>\n",
              "      <td>NaN</td>\n",
              "      <td>NaN</td>\n",
              "      <td>NaN</td>\n",
              "      <td>NaN</td>\n",
              "      <td>NaN</td>\n",
              "      <td>NaN</td>\n",
              "      <td>NaN</td>\n",
              "      <td>NaN</td>\n",
              "      <td>NaN</td>\n",
              "      <td>Not Fraud</td>\n",
              "      <td>NaN</td>\n",
              "    </tr>\n",
              "    <tr>\n",
              "      <th>996857</th>\n",
              "      <td>NaN</td>\n",
              "      <td>NaN</td>\n",
              "      <td>NaN</td>\n",
              "      <td>NaN</td>\n",
              "      <td>NaN</td>\n",
              "      <td>NaN</td>\n",
              "      <td>NaN</td>\n",
              "      <td>NaN</td>\n",
              "      <td>NaN</td>\n",
              "      <td>NaN</td>\n",
              "      <td>NaN</td>\n",
              "      <td>NaN</td>\n",
              "      <td>NaN</td>\n",
              "      <td>NaN</td>\n",
              "      <td>NaN</td>\n",
              "      <td>NaN</td>\n",
              "      <td>NaN</td>\n",
              "      <td>NaN</td>\n",
              "      <td>NaN</td>\n",
              "      <td>NaN</td>\n",
              "      <td>NaN</td>\n",
              "      <td>NaN</td>\n",
              "      <td>NaN</td>\n",
              "      <td>NaN</td>\n",
              "      <td>NaN</td>\n",
              "      <td>NaN</td>\n",
              "      <td>NaN</td>\n",
              "      <td>NaN</td>\n",
              "      <td>NaN</td>\n",
              "      <td>NaN</td>\n",
              "      <td>NaN</td>\n",
              "      <td>Not Fraud</td>\n",
              "      <td>NaN</td>\n",
              "    </tr>\n",
              "    <tr>\n",
              "      <th>996858</th>\n",
              "      <td>NaN</td>\n",
              "      <td>NaN</td>\n",
              "      <td>NaN</td>\n",
              "      <td>NaN</td>\n",
              "      <td>NaN</td>\n",
              "      <td>NaN</td>\n",
              "      <td>NaN</td>\n",
              "      <td>NaN</td>\n",
              "      <td>NaN</td>\n",
              "      <td>NaN</td>\n",
              "      <td>NaN</td>\n",
              "      <td>NaN</td>\n",
              "      <td>NaN</td>\n",
              "      <td>NaN</td>\n",
              "      <td>NaN</td>\n",
              "      <td>NaN</td>\n",
              "      <td>NaN</td>\n",
              "      <td>NaN</td>\n",
              "      <td>NaN</td>\n",
              "      <td>NaN</td>\n",
              "      <td>NaN</td>\n",
              "      <td>NaN</td>\n",
              "      <td>NaN</td>\n",
              "      <td>NaN</td>\n",
              "      <td>NaN</td>\n",
              "      <td>NaN</td>\n",
              "      <td>NaN</td>\n",
              "      <td>NaN</td>\n",
              "      <td>NaN</td>\n",
              "      <td>NaN</td>\n",
              "      <td>NaN</td>\n",
              "      <td>Not Fraud</td>\n",
              "      <td>NaN</td>\n",
              "    </tr>\n",
              "    <tr>\n",
              "      <th>996859</th>\n",
              "      <td>NaN</td>\n",
              "      <td>NaN</td>\n",
              "      <td>NaN</td>\n",
              "      <td>NaN</td>\n",
              "      <td>NaN</td>\n",
              "      <td>NaN</td>\n",
              "      <td>NaN</td>\n",
              "      <td>NaN</td>\n",
              "      <td>NaN</td>\n",
              "      <td>NaN</td>\n",
              "      <td>NaN</td>\n",
              "      <td>NaN</td>\n",
              "      <td>NaN</td>\n",
              "      <td>NaN</td>\n",
              "      <td>NaN</td>\n",
              "      <td>NaN</td>\n",
              "      <td>NaN</td>\n",
              "      <td>NaN</td>\n",
              "      <td>NaN</td>\n",
              "      <td>NaN</td>\n",
              "      <td>NaN</td>\n",
              "      <td>NaN</td>\n",
              "      <td>NaN</td>\n",
              "      <td>NaN</td>\n",
              "      <td>NaN</td>\n",
              "      <td>NaN</td>\n",
              "      <td>NaN</td>\n",
              "      <td>NaN</td>\n",
              "      <td>NaN</td>\n",
              "      <td>NaN</td>\n",
              "      <td>NaN</td>\n",
              "      <td>Not Fraud</td>\n",
              "      <td>NaN</td>\n",
              "    </tr>\n",
              "    <tr>\n",
              "      <th>996860</th>\n",
              "      <td>NaN</td>\n",
              "      <td>NaN</td>\n",
              "      <td>NaN</td>\n",
              "      <td>NaN</td>\n",
              "      <td>NaN</td>\n",
              "      <td>NaN</td>\n",
              "      <td>NaN</td>\n",
              "      <td>NaN</td>\n",
              "      <td>NaN</td>\n",
              "      <td>NaN</td>\n",
              "      <td>NaN</td>\n",
              "      <td>NaN</td>\n",
              "      <td>NaN</td>\n",
              "      <td>NaN</td>\n",
              "      <td>NaN</td>\n",
              "      <td>NaN</td>\n",
              "      <td>NaN</td>\n",
              "      <td>NaN</td>\n",
              "      <td>NaN</td>\n",
              "      <td>NaN</td>\n",
              "      <td>NaN</td>\n",
              "      <td>NaN</td>\n",
              "      <td>NaN</td>\n",
              "      <td>NaN</td>\n",
              "      <td>NaN</td>\n",
              "      <td>NaN</td>\n",
              "      <td>NaN</td>\n",
              "      <td>NaN</td>\n",
              "      <td>NaN</td>\n",
              "      <td>NaN</td>\n",
              "      <td>NaN</td>\n",
              "      <td>Not Fraud</td>\n",
              "      <td>NaN</td>\n",
              "    </tr>\n",
              "  </tbody>\n",
              "</table>\n",
              "<p>996861 rows × 33 columns</p>\n",
              "</div>"
            ],
            "text/plain": [
              "        CARD-WALLET-TOKEN ID PROCESSING_CODE  ...     TARGET  TID\n",
              "0               6.086942e+15          174000  ...  Not Fraud  0.0\n",
              "1               6.086941e+15          174000  ...  Not Fraud  1.0\n",
              "2               6.086941e+15          174000  ...  Not Fraud  1.0\n",
              "3               6.086941e+15          174000  ...  Not Fraud  2.0\n",
              "4               6.086941e+15          004000  ...  Not Fraud  3.0\n",
              "...                      ...             ...  ...        ...  ...\n",
              "996856                   NaN             NaN  ...  Not Fraud  NaN\n",
              "996857                   NaN             NaN  ...  Not Fraud  NaN\n",
              "996858                   NaN             NaN  ...  Not Fraud  NaN\n",
              "996859                   NaN             NaN  ...  Not Fraud  NaN\n",
              "996860                   NaN             NaN  ...  Not Fraud  NaN\n",
              "\n",
              "[996861 rows x 33 columns]"
            ]
          },
          "metadata": {
            "tags": []
          },
          "execution_count": 32
        }
      ]
    },
    {
      "cell_type": "markdown",
      "metadata": {
        "id": "U0lGzjEAwlNL",
        "colab_type": "text"
      },
      "source": [
        "##### **Doing this for all columns now**"
      ]
    },
    {
      "cell_type": "code",
      "metadata": {
        "id": "E66-AS3Qwr5B",
        "colab_type": "code",
        "outputId": "9eaaec1b-3bc8-46e9-a09f-448f80106d0a",
        "colab": {
          "base_uri": "https://localhost:8080/",
          "height": 36
        }
      },
      "source": [
        "start = time.time()\n",
        "for col in data2_copy.columns:\n",
        "  l = data2_copy[col]\n",
        "  l=l[pd.isna(l)==False]\n",
        "  new_col = pd.Categorical(l, categories=l.unique()).codes\n",
        "  df_temp = pd.DataFrame()\n",
        "  df_temp[col] = l\n",
        "  df_temp[col+' encoded'] = new_col\n",
        "  df_temp=df_temp.drop_duplicates()\n",
        "  data2_copy=pd.merge(data2_copy, df_temp, how='left', on=col)\n",
        "  data2_copy = data2_copy.drop(col,axis=1)\n",
        "  data2_copy = data2_copy.rename(columns={col+' encoded': col})\n",
        "end = time.time()\n",
        "print(\"The time taken to encode all the columns are:{}\".format(end-start))"
      ],
      "execution_count": 33,
      "outputs": [
        {
          "output_type": "stream",
          "text": [
            "The time taken to encode all the columns are:51.54670596122742\n"
          ],
          "name": "stdout"
        }
      ]
    },
    {
      "cell_type": "code",
      "metadata": {
        "id": "u5Zfew-9ybfN",
        "colab_type": "code",
        "outputId": "3a2d0ef5-5e19-4793-c2d9-6cf4f655baaf",
        "colab": {
          "base_uri": "https://localhost:8080/",
          "height": 496
        }
      },
      "source": [
        "data2_copy"
      ],
      "execution_count": 34,
      "outputs": [
        {
          "output_type": "execute_result",
          "data": {
            "text/html": [
              "<div>\n",
              "<style scoped>\n",
              "    .dataframe tbody tr th:only-of-type {\n",
              "        vertical-align: middle;\n",
              "    }\n",
              "\n",
              "    .dataframe tbody tr th {\n",
              "        vertical-align: top;\n",
              "    }\n",
              "\n",
              "    .dataframe thead th {\n",
              "        text-align: right;\n",
              "    }\n",
              "</style>\n",
              "<table border=\"1\" class=\"dataframe\">\n",
              "  <thead>\n",
              "    <tr style=\"text-align: right;\">\n",
              "      <th></th>\n",
              "      <th>CARD-WALLET-TOKEN ID</th>\n",
              "      <th>PROCESSING_CODE</th>\n",
              "      <th>TRANSACTION_AMOUNT</th>\n",
              "      <th>SETTLEMENT_AMOUNT</th>\n",
              "      <th>BILLING_AMOUNT</th>\n",
              "      <th>CONVERSION_RATE</th>\n",
              "      <th>MERCHANT CATEGORY CODE</th>\n",
              "      <th>ACQUIRING_COUNTRY_CODE</th>\n",
              "      <th>POS ENTRY MODE</th>\n",
              "      <th>ACQUIRER_INSTITUTION_CODE</th>\n",
              "      <th>AUTHORIZATION CODE</th>\n",
              "      <th>APPROVAL DECISION</th>\n",
              "      <th>CARD SERVICE CODE</th>\n",
              "      <th>TID</th>\n",
              "      <th>MID</th>\n",
              "      <th>MERCHANT NAME AND ADDRESS</th>\n",
              "      <th>PRIVATE DATA 48</th>\n",
              "      <th>TRANSACTION CATEGORY CODE</th>\n",
              "      <th>DE48 DATA LENGTH</th>\n",
              "      <th>TRANSACTION_CURRENCY</th>\n",
              "      <th>SETTLEMENT_CURRENCY</th>\n",
              "      <th>BILLING_CURRENCY</th>\n",
              "      <th>POS_DATA</th>\n",
              "      <th>INTERFACE ID</th>\n",
              "      <th>TERMINAL TYPE</th>\n",
              "      <th>TOKEN DATA-C1</th>\n",
              "      <th>ADDITIONAL PAYMENT INFO</th>\n",
              "      <th>ECOMMERCE DATA</th>\n",
              "      <th>ECI INDICATOR</th>\n",
              "      <th>REMAINING BALANCE</th>\n",
              "      <th>PRIVATE DATA - ADDITIONAL INFO</th>\n",
              "      <th>TOKEN DATA</th>\n",
              "      <th>TARGET</th>\n",
              "    </tr>\n",
              "  </thead>\n",
              "  <tbody>\n",
              "    <tr>\n",
              "      <th>0</th>\n",
              "      <td>0.0</td>\n",
              "      <td>0.0</td>\n",
              "      <td>0.0</td>\n",
              "      <td>0.0</td>\n",
              "      <td>0.0</td>\n",
              "      <td>0.0</td>\n",
              "      <td>0.0</td>\n",
              "      <td>0.0</td>\n",
              "      <td>0.0</td>\n",
              "      <td>0.0</td>\n",
              "      <td>0.0</td>\n",
              "      <td>0.0</td>\n",
              "      <td>0.0</td>\n",
              "      <td>0.0</td>\n",
              "      <td>0.0</td>\n",
              "      <td>0.0</td>\n",
              "      <td>NaN</td>\n",
              "      <td>NaN</td>\n",
              "      <td>NaN</td>\n",
              "      <td>0.0</td>\n",
              "      <td>0.0</td>\n",
              "      <td>0.0</td>\n",
              "      <td>0.0</td>\n",
              "      <td>0.0</td>\n",
              "      <td>0.0</td>\n",
              "      <td>0.0</td>\n",
              "      <td>NaN</td>\n",
              "      <td>NaN</td>\n",
              "      <td>NaN</td>\n",
              "      <td>0.0</td>\n",
              "      <td>NaN</td>\n",
              "      <td>NaN</td>\n",
              "      <td>0</td>\n",
              "    </tr>\n",
              "    <tr>\n",
              "      <th>1</th>\n",
              "      <td>1.0</td>\n",
              "      <td>0.0</td>\n",
              "      <td>1.0</td>\n",
              "      <td>1.0</td>\n",
              "      <td>1.0</td>\n",
              "      <td>0.0</td>\n",
              "      <td>0.0</td>\n",
              "      <td>0.0</td>\n",
              "      <td>0.0</td>\n",
              "      <td>0.0</td>\n",
              "      <td>1.0</td>\n",
              "      <td>0.0</td>\n",
              "      <td>0.0</td>\n",
              "      <td>1.0</td>\n",
              "      <td>0.0</td>\n",
              "      <td>1.0</td>\n",
              "      <td>NaN</td>\n",
              "      <td>NaN</td>\n",
              "      <td>NaN</td>\n",
              "      <td>0.0</td>\n",
              "      <td>0.0</td>\n",
              "      <td>0.0</td>\n",
              "      <td>0.0</td>\n",
              "      <td>0.0</td>\n",
              "      <td>0.0</td>\n",
              "      <td>1.0</td>\n",
              "      <td>NaN</td>\n",
              "      <td>NaN</td>\n",
              "      <td>NaN</td>\n",
              "      <td>1.0</td>\n",
              "      <td>NaN</td>\n",
              "      <td>NaN</td>\n",
              "      <td>0</td>\n",
              "    </tr>\n",
              "    <tr>\n",
              "      <th>2</th>\n",
              "      <td>1.0</td>\n",
              "      <td>0.0</td>\n",
              "      <td>2.0</td>\n",
              "      <td>2.0</td>\n",
              "      <td>2.0</td>\n",
              "      <td>0.0</td>\n",
              "      <td>0.0</td>\n",
              "      <td>0.0</td>\n",
              "      <td>0.0</td>\n",
              "      <td>0.0</td>\n",
              "      <td>2.0</td>\n",
              "      <td>0.0</td>\n",
              "      <td>0.0</td>\n",
              "      <td>1.0</td>\n",
              "      <td>0.0</td>\n",
              "      <td>1.0</td>\n",
              "      <td>NaN</td>\n",
              "      <td>NaN</td>\n",
              "      <td>NaN</td>\n",
              "      <td>0.0</td>\n",
              "      <td>0.0</td>\n",
              "      <td>0.0</td>\n",
              "      <td>0.0</td>\n",
              "      <td>0.0</td>\n",
              "      <td>0.0</td>\n",
              "      <td>1.0</td>\n",
              "      <td>NaN</td>\n",
              "      <td>NaN</td>\n",
              "      <td>NaN</td>\n",
              "      <td>2.0</td>\n",
              "      <td>NaN</td>\n",
              "      <td>NaN</td>\n",
              "      <td>0</td>\n",
              "    </tr>\n",
              "    <tr>\n",
              "      <th>3</th>\n",
              "      <td>2.0</td>\n",
              "      <td>0.0</td>\n",
              "      <td>3.0</td>\n",
              "      <td>3.0</td>\n",
              "      <td>3.0</td>\n",
              "      <td>1.0</td>\n",
              "      <td>0.0</td>\n",
              "      <td>1.0</td>\n",
              "      <td>0.0</td>\n",
              "      <td>0.0</td>\n",
              "      <td>3.0</td>\n",
              "      <td>0.0</td>\n",
              "      <td>0.0</td>\n",
              "      <td>2.0</td>\n",
              "      <td>1.0</td>\n",
              "      <td>2.0</td>\n",
              "      <td>NaN</td>\n",
              "      <td>NaN</td>\n",
              "      <td>NaN</td>\n",
              "      <td>1.0</td>\n",
              "      <td>1.0</td>\n",
              "      <td>0.0</td>\n",
              "      <td>0.0</td>\n",
              "      <td>0.0</td>\n",
              "      <td>0.0</td>\n",
              "      <td>2.0</td>\n",
              "      <td>NaN</td>\n",
              "      <td>NaN</td>\n",
              "      <td>NaN</td>\n",
              "      <td>3.0</td>\n",
              "      <td>NaN</td>\n",
              "      <td>NaN</td>\n",
              "      <td>0</td>\n",
              "    </tr>\n",
              "    <tr>\n",
              "      <th>4</th>\n",
              "      <td>3.0</td>\n",
              "      <td>1.0</td>\n",
              "      <td>4.0</td>\n",
              "      <td>4.0</td>\n",
              "      <td>4.0</td>\n",
              "      <td>0.0</td>\n",
              "      <td>1.0</td>\n",
              "      <td>2.0</td>\n",
              "      <td>0.0</td>\n",
              "      <td>1.0</td>\n",
              "      <td>4.0</td>\n",
              "      <td>0.0</td>\n",
              "      <td>0.0</td>\n",
              "      <td>3.0</td>\n",
              "      <td>2.0</td>\n",
              "      <td>3.0</td>\n",
              "      <td>NaN</td>\n",
              "      <td>NaN</td>\n",
              "      <td>NaN</td>\n",
              "      <td>0.0</td>\n",
              "      <td>1.0</td>\n",
              "      <td>0.0</td>\n",
              "      <td>1.0</td>\n",
              "      <td>0.0</td>\n",
              "      <td>1.0</td>\n",
              "      <td>2.0</td>\n",
              "      <td>NaN</td>\n",
              "      <td>NaN</td>\n",
              "      <td>NaN</td>\n",
              "      <td>4.0</td>\n",
              "      <td>NaN</td>\n",
              "      <td>NaN</td>\n",
              "      <td>0</td>\n",
              "    </tr>\n",
              "    <tr>\n",
              "      <th>...</th>\n",
              "      <td>...</td>\n",
              "      <td>...</td>\n",
              "      <td>...</td>\n",
              "      <td>...</td>\n",
              "      <td>...</td>\n",
              "      <td>...</td>\n",
              "      <td>...</td>\n",
              "      <td>...</td>\n",
              "      <td>...</td>\n",
              "      <td>...</td>\n",
              "      <td>...</td>\n",
              "      <td>...</td>\n",
              "      <td>...</td>\n",
              "      <td>...</td>\n",
              "      <td>...</td>\n",
              "      <td>...</td>\n",
              "      <td>...</td>\n",
              "      <td>...</td>\n",
              "      <td>...</td>\n",
              "      <td>...</td>\n",
              "      <td>...</td>\n",
              "      <td>...</td>\n",
              "      <td>...</td>\n",
              "      <td>...</td>\n",
              "      <td>...</td>\n",
              "      <td>...</td>\n",
              "      <td>...</td>\n",
              "      <td>...</td>\n",
              "      <td>...</td>\n",
              "      <td>...</td>\n",
              "      <td>...</td>\n",
              "      <td>...</td>\n",
              "      <td>...</td>\n",
              "    </tr>\n",
              "    <tr>\n",
              "      <th>996856</th>\n",
              "      <td>NaN</td>\n",
              "      <td>NaN</td>\n",
              "      <td>NaN</td>\n",
              "      <td>NaN</td>\n",
              "      <td>NaN</td>\n",
              "      <td>NaN</td>\n",
              "      <td>NaN</td>\n",
              "      <td>NaN</td>\n",
              "      <td>NaN</td>\n",
              "      <td>NaN</td>\n",
              "      <td>NaN</td>\n",
              "      <td>NaN</td>\n",
              "      <td>NaN</td>\n",
              "      <td>NaN</td>\n",
              "      <td>NaN</td>\n",
              "      <td>NaN</td>\n",
              "      <td>NaN</td>\n",
              "      <td>NaN</td>\n",
              "      <td>NaN</td>\n",
              "      <td>NaN</td>\n",
              "      <td>NaN</td>\n",
              "      <td>NaN</td>\n",
              "      <td>NaN</td>\n",
              "      <td>NaN</td>\n",
              "      <td>NaN</td>\n",
              "      <td>NaN</td>\n",
              "      <td>NaN</td>\n",
              "      <td>NaN</td>\n",
              "      <td>NaN</td>\n",
              "      <td>NaN</td>\n",
              "      <td>NaN</td>\n",
              "      <td>NaN</td>\n",
              "      <td>0</td>\n",
              "    </tr>\n",
              "    <tr>\n",
              "      <th>996857</th>\n",
              "      <td>NaN</td>\n",
              "      <td>NaN</td>\n",
              "      <td>NaN</td>\n",
              "      <td>NaN</td>\n",
              "      <td>NaN</td>\n",
              "      <td>NaN</td>\n",
              "      <td>NaN</td>\n",
              "      <td>NaN</td>\n",
              "      <td>NaN</td>\n",
              "      <td>NaN</td>\n",
              "      <td>NaN</td>\n",
              "      <td>NaN</td>\n",
              "      <td>NaN</td>\n",
              "      <td>NaN</td>\n",
              "      <td>NaN</td>\n",
              "      <td>NaN</td>\n",
              "      <td>NaN</td>\n",
              "      <td>NaN</td>\n",
              "      <td>NaN</td>\n",
              "      <td>NaN</td>\n",
              "      <td>NaN</td>\n",
              "      <td>NaN</td>\n",
              "      <td>NaN</td>\n",
              "      <td>NaN</td>\n",
              "      <td>NaN</td>\n",
              "      <td>NaN</td>\n",
              "      <td>NaN</td>\n",
              "      <td>NaN</td>\n",
              "      <td>NaN</td>\n",
              "      <td>NaN</td>\n",
              "      <td>NaN</td>\n",
              "      <td>NaN</td>\n",
              "      <td>0</td>\n",
              "    </tr>\n",
              "    <tr>\n",
              "      <th>996858</th>\n",
              "      <td>NaN</td>\n",
              "      <td>NaN</td>\n",
              "      <td>NaN</td>\n",
              "      <td>NaN</td>\n",
              "      <td>NaN</td>\n",
              "      <td>NaN</td>\n",
              "      <td>NaN</td>\n",
              "      <td>NaN</td>\n",
              "      <td>NaN</td>\n",
              "      <td>NaN</td>\n",
              "      <td>NaN</td>\n",
              "      <td>NaN</td>\n",
              "      <td>NaN</td>\n",
              "      <td>NaN</td>\n",
              "      <td>NaN</td>\n",
              "      <td>NaN</td>\n",
              "      <td>NaN</td>\n",
              "      <td>NaN</td>\n",
              "      <td>NaN</td>\n",
              "      <td>NaN</td>\n",
              "      <td>NaN</td>\n",
              "      <td>NaN</td>\n",
              "      <td>NaN</td>\n",
              "      <td>NaN</td>\n",
              "      <td>NaN</td>\n",
              "      <td>NaN</td>\n",
              "      <td>NaN</td>\n",
              "      <td>NaN</td>\n",
              "      <td>NaN</td>\n",
              "      <td>NaN</td>\n",
              "      <td>NaN</td>\n",
              "      <td>NaN</td>\n",
              "      <td>0</td>\n",
              "    </tr>\n",
              "    <tr>\n",
              "      <th>996859</th>\n",
              "      <td>NaN</td>\n",
              "      <td>NaN</td>\n",
              "      <td>NaN</td>\n",
              "      <td>NaN</td>\n",
              "      <td>NaN</td>\n",
              "      <td>NaN</td>\n",
              "      <td>NaN</td>\n",
              "      <td>NaN</td>\n",
              "      <td>NaN</td>\n",
              "      <td>NaN</td>\n",
              "      <td>NaN</td>\n",
              "      <td>NaN</td>\n",
              "      <td>NaN</td>\n",
              "      <td>NaN</td>\n",
              "      <td>NaN</td>\n",
              "      <td>NaN</td>\n",
              "      <td>NaN</td>\n",
              "      <td>NaN</td>\n",
              "      <td>NaN</td>\n",
              "      <td>NaN</td>\n",
              "      <td>NaN</td>\n",
              "      <td>NaN</td>\n",
              "      <td>NaN</td>\n",
              "      <td>NaN</td>\n",
              "      <td>NaN</td>\n",
              "      <td>NaN</td>\n",
              "      <td>NaN</td>\n",
              "      <td>NaN</td>\n",
              "      <td>NaN</td>\n",
              "      <td>NaN</td>\n",
              "      <td>NaN</td>\n",
              "      <td>NaN</td>\n",
              "      <td>0</td>\n",
              "    </tr>\n",
              "    <tr>\n",
              "      <th>996860</th>\n",
              "      <td>NaN</td>\n",
              "      <td>NaN</td>\n",
              "      <td>NaN</td>\n",
              "      <td>NaN</td>\n",
              "      <td>NaN</td>\n",
              "      <td>NaN</td>\n",
              "      <td>NaN</td>\n",
              "      <td>NaN</td>\n",
              "      <td>NaN</td>\n",
              "      <td>NaN</td>\n",
              "      <td>NaN</td>\n",
              "      <td>NaN</td>\n",
              "      <td>NaN</td>\n",
              "      <td>NaN</td>\n",
              "      <td>NaN</td>\n",
              "      <td>NaN</td>\n",
              "      <td>NaN</td>\n",
              "      <td>NaN</td>\n",
              "      <td>NaN</td>\n",
              "      <td>NaN</td>\n",
              "      <td>NaN</td>\n",
              "      <td>NaN</td>\n",
              "      <td>NaN</td>\n",
              "      <td>NaN</td>\n",
              "      <td>NaN</td>\n",
              "      <td>NaN</td>\n",
              "      <td>NaN</td>\n",
              "      <td>NaN</td>\n",
              "      <td>NaN</td>\n",
              "      <td>NaN</td>\n",
              "      <td>NaN</td>\n",
              "      <td>NaN</td>\n",
              "      <td>0</td>\n",
              "    </tr>\n",
              "  </tbody>\n",
              "</table>\n",
              "<p>996861 rows × 33 columns</p>\n",
              "</div>"
            ],
            "text/plain": [
              "        CARD-WALLET-TOKEN ID  PROCESSING_CODE  ...  TOKEN DATA  TARGET\n",
              "0                        0.0              0.0  ...         NaN       0\n",
              "1                        1.0              0.0  ...         NaN       0\n",
              "2                        1.0              0.0  ...         NaN       0\n",
              "3                        2.0              0.0  ...         NaN       0\n",
              "4                        3.0              1.0  ...         NaN       0\n",
              "...                      ...              ...  ...         ...     ...\n",
              "996856                   NaN              NaN  ...         NaN       0\n",
              "996857                   NaN              NaN  ...         NaN       0\n",
              "996858                   NaN              NaN  ...         NaN       0\n",
              "996859                   NaN              NaN  ...         NaN       0\n",
              "996860                   NaN              NaN  ...         NaN       0\n",
              "\n",
              "[996861 rows x 33 columns]"
            ]
          },
          "metadata": {
            "tags": []
          },
          "execution_count": 34
        }
      ]
    },
    {
      "cell_type": "markdown",
      "metadata": {
        "id": "IHCuXBb45boG",
        "colab_type": "text"
      },
      "source": [
        "##### Since removing all the rows with NaNs leaves us with no rows at all, we will choose to fill with the modal(highest occuring) value in the column. This might affect accuracy but will not be a problem when the data is free of NaNs."
      ]
    },
    {
      "cell_type": "code",
      "metadata": {
        "id": "ecMJTCMU3j1w",
        "colab_type": "code",
        "outputId": "2291e068-0fd5-4b08-fd9c-a1fd1968043a",
        "colab": {
          "base_uri": "https://localhost:8080/",
          "height": 634
        }
      },
      "source": [
        "##creating mode value dictionary\n",
        "mode_dict = {}\n",
        "for col in data2_copy.columns:\n",
        "  mode_dict[col] = data2_copy[col].mode()[0]\n",
        "mode_dict"
      ],
      "execution_count": 45,
      "outputs": [
        {
          "output_type": "execute_result",
          "data": {
            "text/plain": [
              "{'ACQUIRER_INSTITUTION_CODE': 20.0,\n",
              " 'ACQUIRING_COUNTRY_CODE': 0.0,\n",
              " 'ADDITIONAL PAYMENT INFO': 0.0,\n",
              " 'APPROVAL DECISION': 0.0,\n",
              " 'AUTHORIZATION CODE': 554.0,\n",
              " 'BILLING_AMOUNT': 2.0,\n",
              " 'BILLING_CURRENCY': 0.0,\n",
              " 'CARD SERVICE CODE': 1.0,\n",
              " 'CARD-WALLET-TOKEN ID': 4476.0,\n",
              " 'CONVERSION_RATE': 3.0,\n",
              " 'DE48 DATA LENGTH': 2.0,\n",
              " 'ECI INDICATOR': 0.0,\n",
              " 'ECOMMERCE DATA': 0.0,\n",
              " 'INTERFACE ID': 1.0,\n",
              " 'MERCHANT CATEGORY CODE': 12.0,\n",
              " 'MERCHANT NAME AND ADDRESS': 884.0,\n",
              " 'MID': 579.0,\n",
              " 'POS ENTRY MODE': 0.0,\n",
              " 'POS_DATA': 29.0,\n",
              " 'PRIVATE DATA - ADDITIONAL INFO': 255.0,\n",
              " 'PRIVATE DATA 48': 11.0,\n",
              " 'PROCESSING_CODE': 4.0,\n",
              " 'REMAINING BALANCE': 537.0,\n",
              " 'SETTLEMENT_AMOUNT': 97.0,\n",
              " 'SETTLEMENT_CURRENCY': 0.0,\n",
              " 'TARGET': 0,\n",
              " 'TERMINAL TYPE': 1.0,\n",
              " 'TID': 156.0,\n",
              " 'TOKEN DATA': 0.0,\n",
              " 'TOKEN DATA-C1': 1.0,\n",
              " 'TRANSACTION CATEGORY CODE': 1.0,\n",
              " 'TRANSACTION_AMOUNT': 93.0,\n",
              " 'TRANSACTION_CURRENCY': 0.0}"
            ]
          },
          "metadata": {
            "tags": []
          },
          "execution_count": 45
        }
      ]
    },
    {
      "cell_type": "code",
      "metadata": {
        "id": "JxU2TXuyOFBq",
        "colab_type": "code",
        "colab": {
          "base_uri": "https://localhost:8080/",
          "height": 496
        },
        "outputId": "98ff331c-adb1-4066-bc2b-91339955ca7e"
      },
      "source": [
        "for col in data2_copy.columns:\n",
        "  data2_copy[col] = data2_copy[col].where(pd.isna(data2_copy[col])==False,mode_dict[col])\n",
        "data2_copy"
      ],
      "execution_count": 58,
      "outputs": [
        {
          "output_type": "execute_result",
          "data": {
            "text/html": [
              "<div>\n",
              "<style scoped>\n",
              "    .dataframe tbody tr th:only-of-type {\n",
              "        vertical-align: middle;\n",
              "    }\n",
              "\n",
              "    .dataframe tbody tr th {\n",
              "        vertical-align: top;\n",
              "    }\n",
              "\n",
              "    .dataframe thead th {\n",
              "        text-align: right;\n",
              "    }\n",
              "</style>\n",
              "<table border=\"1\" class=\"dataframe\">\n",
              "  <thead>\n",
              "    <tr style=\"text-align: right;\">\n",
              "      <th></th>\n",
              "      <th>CARD-WALLET-TOKEN ID</th>\n",
              "      <th>PROCESSING_CODE</th>\n",
              "      <th>TRANSACTION_AMOUNT</th>\n",
              "      <th>SETTLEMENT_AMOUNT</th>\n",
              "      <th>BILLING_AMOUNT</th>\n",
              "      <th>CONVERSION_RATE</th>\n",
              "      <th>MERCHANT CATEGORY CODE</th>\n",
              "      <th>ACQUIRING_COUNTRY_CODE</th>\n",
              "      <th>POS ENTRY MODE</th>\n",
              "      <th>ACQUIRER_INSTITUTION_CODE</th>\n",
              "      <th>AUTHORIZATION CODE</th>\n",
              "      <th>APPROVAL DECISION</th>\n",
              "      <th>CARD SERVICE CODE</th>\n",
              "      <th>TID</th>\n",
              "      <th>MID</th>\n",
              "      <th>MERCHANT NAME AND ADDRESS</th>\n",
              "      <th>PRIVATE DATA 48</th>\n",
              "      <th>TRANSACTION CATEGORY CODE</th>\n",
              "      <th>DE48 DATA LENGTH</th>\n",
              "      <th>TRANSACTION_CURRENCY</th>\n",
              "      <th>SETTLEMENT_CURRENCY</th>\n",
              "      <th>BILLING_CURRENCY</th>\n",
              "      <th>POS_DATA</th>\n",
              "      <th>INTERFACE ID</th>\n",
              "      <th>TERMINAL TYPE</th>\n",
              "      <th>TOKEN DATA-C1</th>\n",
              "      <th>ADDITIONAL PAYMENT INFO</th>\n",
              "      <th>ECOMMERCE DATA</th>\n",
              "      <th>ECI INDICATOR</th>\n",
              "      <th>REMAINING BALANCE</th>\n",
              "      <th>PRIVATE DATA - ADDITIONAL INFO</th>\n",
              "      <th>TOKEN DATA</th>\n",
              "      <th>TARGET</th>\n",
              "    </tr>\n",
              "  </thead>\n",
              "  <tbody>\n",
              "    <tr>\n",
              "      <th>0</th>\n",
              "      <td>0.0</td>\n",
              "      <td>0.0</td>\n",
              "      <td>0.0</td>\n",
              "      <td>0.0</td>\n",
              "      <td>0.0</td>\n",
              "      <td>0.0</td>\n",
              "      <td>0.0</td>\n",
              "      <td>0.0</td>\n",
              "      <td>0.0</td>\n",
              "      <td>0.0</td>\n",
              "      <td>0.0</td>\n",
              "      <td>0.0</td>\n",
              "      <td>0.0</td>\n",
              "      <td>0.0</td>\n",
              "      <td>0.0</td>\n",
              "      <td>0.0</td>\n",
              "      <td>11.0</td>\n",
              "      <td>1.0</td>\n",
              "      <td>2.0</td>\n",
              "      <td>0.0</td>\n",
              "      <td>0.0</td>\n",
              "      <td>0.0</td>\n",
              "      <td>0.0</td>\n",
              "      <td>0.0</td>\n",
              "      <td>0.0</td>\n",
              "      <td>0.0</td>\n",
              "      <td>0.0</td>\n",
              "      <td>0.0</td>\n",
              "      <td>0.0</td>\n",
              "      <td>0.0</td>\n",
              "      <td>255.0</td>\n",
              "      <td>0.0</td>\n",
              "      <td>0</td>\n",
              "    </tr>\n",
              "    <tr>\n",
              "      <th>1</th>\n",
              "      <td>1.0</td>\n",
              "      <td>0.0</td>\n",
              "      <td>1.0</td>\n",
              "      <td>1.0</td>\n",
              "      <td>1.0</td>\n",
              "      <td>0.0</td>\n",
              "      <td>0.0</td>\n",
              "      <td>0.0</td>\n",
              "      <td>0.0</td>\n",
              "      <td>0.0</td>\n",
              "      <td>1.0</td>\n",
              "      <td>0.0</td>\n",
              "      <td>0.0</td>\n",
              "      <td>1.0</td>\n",
              "      <td>0.0</td>\n",
              "      <td>1.0</td>\n",
              "      <td>11.0</td>\n",
              "      <td>1.0</td>\n",
              "      <td>2.0</td>\n",
              "      <td>0.0</td>\n",
              "      <td>0.0</td>\n",
              "      <td>0.0</td>\n",
              "      <td>0.0</td>\n",
              "      <td>0.0</td>\n",
              "      <td>0.0</td>\n",
              "      <td>1.0</td>\n",
              "      <td>0.0</td>\n",
              "      <td>0.0</td>\n",
              "      <td>0.0</td>\n",
              "      <td>1.0</td>\n",
              "      <td>255.0</td>\n",
              "      <td>0.0</td>\n",
              "      <td>0</td>\n",
              "    </tr>\n",
              "    <tr>\n",
              "      <th>2</th>\n",
              "      <td>1.0</td>\n",
              "      <td>0.0</td>\n",
              "      <td>2.0</td>\n",
              "      <td>2.0</td>\n",
              "      <td>2.0</td>\n",
              "      <td>0.0</td>\n",
              "      <td>0.0</td>\n",
              "      <td>0.0</td>\n",
              "      <td>0.0</td>\n",
              "      <td>0.0</td>\n",
              "      <td>2.0</td>\n",
              "      <td>0.0</td>\n",
              "      <td>0.0</td>\n",
              "      <td>1.0</td>\n",
              "      <td>0.0</td>\n",
              "      <td>1.0</td>\n",
              "      <td>11.0</td>\n",
              "      <td>1.0</td>\n",
              "      <td>2.0</td>\n",
              "      <td>0.0</td>\n",
              "      <td>0.0</td>\n",
              "      <td>0.0</td>\n",
              "      <td>0.0</td>\n",
              "      <td>0.0</td>\n",
              "      <td>0.0</td>\n",
              "      <td>1.0</td>\n",
              "      <td>0.0</td>\n",
              "      <td>0.0</td>\n",
              "      <td>0.0</td>\n",
              "      <td>2.0</td>\n",
              "      <td>255.0</td>\n",
              "      <td>0.0</td>\n",
              "      <td>0</td>\n",
              "    </tr>\n",
              "    <tr>\n",
              "      <th>3</th>\n",
              "      <td>2.0</td>\n",
              "      <td>0.0</td>\n",
              "      <td>3.0</td>\n",
              "      <td>3.0</td>\n",
              "      <td>3.0</td>\n",
              "      <td>1.0</td>\n",
              "      <td>0.0</td>\n",
              "      <td>1.0</td>\n",
              "      <td>0.0</td>\n",
              "      <td>0.0</td>\n",
              "      <td>3.0</td>\n",
              "      <td>0.0</td>\n",
              "      <td>0.0</td>\n",
              "      <td>2.0</td>\n",
              "      <td>1.0</td>\n",
              "      <td>2.0</td>\n",
              "      <td>11.0</td>\n",
              "      <td>1.0</td>\n",
              "      <td>2.0</td>\n",
              "      <td>1.0</td>\n",
              "      <td>1.0</td>\n",
              "      <td>0.0</td>\n",
              "      <td>0.0</td>\n",
              "      <td>0.0</td>\n",
              "      <td>0.0</td>\n",
              "      <td>2.0</td>\n",
              "      <td>0.0</td>\n",
              "      <td>0.0</td>\n",
              "      <td>0.0</td>\n",
              "      <td>3.0</td>\n",
              "      <td>255.0</td>\n",
              "      <td>0.0</td>\n",
              "      <td>0</td>\n",
              "    </tr>\n",
              "    <tr>\n",
              "      <th>4</th>\n",
              "      <td>3.0</td>\n",
              "      <td>1.0</td>\n",
              "      <td>4.0</td>\n",
              "      <td>4.0</td>\n",
              "      <td>4.0</td>\n",
              "      <td>0.0</td>\n",
              "      <td>1.0</td>\n",
              "      <td>2.0</td>\n",
              "      <td>0.0</td>\n",
              "      <td>1.0</td>\n",
              "      <td>4.0</td>\n",
              "      <td>0.0</td>\n",
              "      <td>0.0</td>\n",
              "      <td>3.0</td>\n",
              "      <td>2.0</td>\n",
              "      <td>3.0</td>\n",
              "      <td>11.0</td>\n",
              "      <td>1.0</td>\n",
              "      <td>2.0</td>\n",
              "      <td>0.0</td>\n",
              "      <td>1.0</td>\n",
              "      <td>0.0</td>\n",
              "      <td>1.0</td>\n",
              "      <td>0.0</td>\n",
              "      <td>1.0</td>\n",
              "      <td>2.0</td>\n",
              "      <td>0.0</td>\n",
              "      <td>0.0</td>\n",
              "      <td>0.0</td>\n",
              "      <td>4.0</td>\n",
              "      <td>255.0</td>\n",
              "      <td>0.0</td>\n",
              "      <td>0</td>\n",
              "    </tr>\n",
              "    <tr>\n",
              "      <th>...</th>\n",
              "      <td>...</td>\n",
              "      <td>...</td>\n",
              "      <td>...</td>\n",
              "      <td>...</td>\n",
              "      <td>...</td>\n",
              "      <td>...</td>\n",
              "      <td>...</td>\n",
              "      <td>...</td>\n",
              "      <td>...</td>\n",
              "      <td>...</td>\n",
              "      <td>...</td>\n",
              "      <td>...</td>\n",
              "      <td>...</td>\n",
              "      <td>...</td>\n",
              "      <td>...</td>\n",
              "      <td>...</td>\n",
              "      <td>...</td>\n",
              "      <td>...</td>\n",
              "      <td>...</td>\n",
              "      <td>...</td>\n",
              "      <td>...</td>\n",
              "      <td>...</td>\n",
              "      <td>...</td>\n",
              "      <td>...</td>\n",
              "      <td>...</td>\n",
              "      <td>...</td>\n",
              "      <td>...</td>\n",
              "      <td>...</td>\n",
              "      <td>...</td>\n",
              "      <td>...</td>\n",
              "      <td>...</td>\n",
              "      <td>...</td>\n",
              "      <td>...</td>\n",
              "    </tr>\n",
              "    <tr>\n",
              "      <th>996856</th>\n",
              "      <td>4476.0</td>\n",
              "      <td>4.0</td>\n",
              "      <td>93.0</td>\n",
              "      <td>97.0</td>\n",
              "      <td>2.0</td>\n",
              "      <td>3.0</td>\n",
              "      <td>12.0</td>\n",
              "      <td>0.0</td>\n",
              "      <td>0.0</td>\n",
              "      <td>20.0</td>\n",
              "      <td>554.0</td>\n",
              "      <td>0.0</td>\n",
              "      <td>1.0</td>\n",
              "      <td>156.0</td>\n",
              "      <td>579.0</td>\n",
              "      <td>884.0</td>\n",
              "      <td>11.0</td>\n",
              "      <td>1.0</td>\n",
              "      <td>2.0</td>\n",
              "      <td>0.0</td>\n",
              "      <td>0.0</td>\n",
              "      <td>0.0</td>\n",
              "      <td>29.0</td>\n",
              "      <td>1.0</td>\n",
              "      <td>1.0</td>\n",
              "      <td>1.0</td>\n",
              "      <td>0.0</td>\n",
              "      <td>0.0</td>\n",
              "      <td>0.0</td>\n",
              "      <td>537.0</td>\n",
              "      <td>255.0</td>\n",
              "      <td>0.0</td>\n",
              "      <td>0</td>\n",
              "    </tr>\n",
              "    <tr>\n",
              "      <th>996857</th>\n",
              "      <td>4476.0</td>\n",
              "      <td>4.0</td>\n",
              "      <td>93.0</td>\n",
              "      <td>97.0</td>\n",
              "      <td>2.0</td>\n",
              "      <td>3.0</td>\n",
              "      <td>12.0</td>\n",
              "      <td>0.0</td>\n",
              "      <td>0.0</td>\n",
              "      <td>20.0</td>\n",
              "      <td>554.0</td>\n",
              "      <td>0.0</td>\n",
              "      <td>1.0</td>\n",
              "      <td>156.0</td>\n",
              "      <td>579.0</td>\n",
              "      <td>884.0</td>\n",
              "      <td>11.0</td>\n",
              "      <td>1.0</td>\n",
              "      <td>2.0</td>\n",
              "      <td>0.0</td>\n",
              "      <td>0.0</td>\n",
              "      <td>0.0</td>\n",
              "      <td>29.0</td>\n",
              "      <td>1.0</td>\n",
              "      <td>1.0</td>\n",
              "      <td>1.0</td>\n",
              "      <td>0.0</td>\n",
              "      <td>0.0</td>\n",
              "      <td>0.0</td>\n",
              "      <td>537.0</td>\n",
              "      <td>255.0</td>\n",
              "      <td>0.0</td>\n",
              "      <td>0</td>\n",
              "    </tr>\n",
              "    <tr>\n",
              "      <th>996858</th>\n",
              "      <td>4476.0</td>\n",
              "      <td>4.0</td>\n",
              "      <td>93.0</td>\n",
              "      <td>97.0</td>\n",
              "      <td>2.0</td>\n",
              "      <td>3.0</td>\n",
              "      <td>12.0</td>\n",
              "      <td>0.0</td>\n",
              "      <td>0.0</td>\n",
              "      <td>20.0</td>\n",
              "      <td>554.0</td>\n",
              "      <td>0.0</td>\n",
              "      <td>1.0</td>\n",
              "      <td>156.0</td>\n",
              "      <td>579.0</td>\n",
              "      <td>884.0</td>\n",
              "      <td>11.0</td>\n",
              "      <td>1.0</td>\n",
              "      <td>2.0</td>\n",
              "      <td>0.0</td>\n",
              "      <td>0.0</td>\n",
              "      <td>0.0</td>\n",
              "      <td>29.0</td>\n",
              "      <td>1.0</td>\n",
              "      <td>1.0</td>\n",
              "      <td>1.0</td>\n",
              "      <td>0.0</td>\n",
              "      <td>0.0</td>\n",
              "      <td>0.0</td>\n",
              "      <td>537.0</td>\n",
              "      <td>255.0</td>\n",
              "      <td>0.0</td>\n",
              "      <td>0</td>\n",
              "    </tr>\n",
              "    <tr>\n",
              "      <th>996859</th>\n",
              "      <td>4476.0</td>\n",
              "      <td>4.0</td>\n",
              "      <td>93.0</td>\n",
              "      <td>97.0</td>\n",
              "      <td>2.0</td>\n",
              "      <td>3.0</td>\n",
              "      <td>12.0</td>\n",
              "      <td>0.0</td>\n",
              "      <td>0.0</td>\n",
              "      <td>20.0</td>\n",
              "      <td>554.0</td>\n",
              "      <td>0.0</td>\n",
              "      <td>1.0</td>\n",
              "      <td>156.0</td>\n",
              "      <td>579.0</td>\n",
              "      <td>884.0</td>\n",
              "      <td>11.0</td>\n",
              "      <td>1.0</td>\n",
              "      <td>2.0</td>\n",
              "      <td>0.0</td>\n",
              "      <td>0.0</td>\n",
              "      <td>0.0</td>\n",
              "      <td>29.0</td>\n",
              "      <td>1.0</td>\n",
              "      <td>1.0</td>\n",
              "      <td>1.0</td>\n",
              "      <td>0.0</td>\n",
              "      <td>0.0</td>\n",
              "      <td>0.0</td>\n",
              "      <td>537.0</td>\n",
              "      <td>255.0</td>\n",
              "      <td>0.0</td>\n",
              "      <td>0</td>\n",
              "    </tr>\n",
              "    <tr>\n",
              "      <th>996860</th>\n",
              "      <td>4476.0</td>\n",
              "      <td>4.0</td>\n",
              "      <td>93.0</td>\n",
              "      <td>97.0</td>\n",
              "      <td>2.0</td>\n",
              "      <td>3.0</td>\n",
              "      <td>12.0</td>\n",
              "      <td>0.0</td>\n",
              "      <td>0.0</td>\n",
              "      <td>20.0</td>\n",
              "      <td>554.0</td>\n",
              "      <td>0.0</td>\n",
              "      <td>1.0</td>\n",
              "      <td>156.0</td>\n",
              "      <td>579.0</td>\n",
              "      <td>884.0</td>\n",
              "      <td>11.0</td>\n",
              "      <td>1.0</td>\n",
              "      <td>2.0</td>\n",
              "      <td>0.0</td>\n",
              "      <td>0.0</td>\n",
              "      <td>0.0</td>\n",
              "      <td>29.0</td>\n",
              "      <td>1.0</td>\n",
              "      <td>1.0</td>\n",
              "      <td>1.0</td>\n",
              "      <td>0.0</td>\n",
              "      <td>0.0</td>\n",
              "      <td>0.0</td>\n",
              "      <td>537.0</td>\n",
              "      <td>255.0</td>\n",
              "      <td>0.0</td>\n",
              "      <td>0</td>\n",
              "    </tr>\n",
              "  </tbody>\n",
              "</table>\n",
              "<p>996861 rows × 33 columns</p>\n",
              "</div>"
            ],
            "text/plain": [
              "        CARD-WALLET-TOKEN ID  PROCESSING_CODE  ...  TOKEN DATA  TARGET\n",
              "0                        0.0              0.0  ...         0.0       0\n",
              "1                        1.0              0.0  ...         0.0       0\n",
              "2                        1.0              0.0  ...         0.0       0\n",
              "3                        2.0              0.0  ...         0.0       0\n",
              "4                        3.0              1.0  ...         0.0       0\n",
              "...                      ...              ...  ...         ...     ...\n",
              "996856                4476.0              4.0  ...         0.0       0\n",
              "996857                4476.0              4.0  ...         0.0       0\n",
              "996858                4476.0              4.0  ...         0.0       0\n",
              "996859                4476.0              4.0  ...         0.0       0\n",
              "996860                4476.0              4.0  ...         0.0       0\n",
              "\n",
              "[996861 rows x 33 columns]"
            ]
          },
          "metadata": {
            "tags": []
          },
          "execution_count": 58
        }
      ]
    },
    {
      "cell_type": "code",
      "metadata": {
        "id": "zk9WDiRs6-eX",
        "colab_type": "code",
        "colab": {}
      },
      "source": [
        "# #values = mode_dict\n",
        "# data2_copy.fillna(value=mode_dict)\n",
        "# data2_copy"
      ],
      "execution_count": 0,
      "outputs": []
    },
    {
      "cell_type": "markdown",
      "metadata": {
        "id": "HYDLkw68Hhrg",
        "colab_type": "text"
      },
      "source": [
        "##### The problem with this is that it changes the NaNs to a new column which cannot be right because the NaNs could it reality be a range of values. The AdaBoost classifier can handle NaNs so what we must try and do is change everything other than the NaNs to a new numeric encoding. We might have to do this in linear time although we will try our best to do better than that."
      ]
    },
    {
      "cell_type": "code",
      "metadata": {
        "id": "_RgK4KFuDJYP",
        "colab_type": "code",
        "colab": {}
      },
      "source": [
        "from sklearn.ensemble import AdaBoostClassifier\n",
        "from sklearn.tree import DecisionTreeClassifier\n",
        "from sklearn.datasets import load_breast_cancer\n",
        "import pandas as pd\n",
        "import numpy as np\n",
        "from sklearn.model_selection import train_test_split\n",
        "from sklearn.metrics import confusion_matrix\n",
        "from sklearn.preprocessing import LabelEncoder"
      ],
      "execution_count": 0,
      "outputs": []
    },
    {
      "cell_type": "code",
      "metadata": {
        "id": "wYb0W7XnIJF1",
        "colab_type": "code",
        "colab": {}
      },
      "source": [
        "X = pd.DataFrame(data2_copy.iloc[:,:32], columns=data2_copy.iloc[:,:32].columns)\n",
        "y = pd.Categorical.from_codes(data2_copy.iloc[:,32], ['Not Fraud', 'Fraud'])"
      ],
      "execution_count": 0,
      "outputs": []
    },
    {
      "cell_type": "code",
      "metadata": {
        "id": "rYSR_TiMz-74",
        "colab_type": "code",
        "outputId": "987af8e3-abd8-4c07-8b2f-c9e5ebe674a1",
        "colab": {
          "base_uri": "https://localhost:8080/",
          "height": 223
        }
      },
      "source": [
        "data2_copy.iloc[:,:32].columns"
      ],
      "execution_count": 62,
      "outputs": [
        {
          "output_type": "execute_result",
          "data": {
            "text/plain": [
              "Index(['CARD-WALLET-TOKEN ID', 'PROCESSING_CODE', 'TRANSACTION_AMOUNT',\n",
              "       'SETTLEMENT_AMOUNT', 'BILLING_AMOUNT', 'CONVERSION_RATE',\n",
              "       'MERCHANT CATEGORY CODE', 'ACQUIRING_COUNTRY_CODE', 'POS ENTRY MODE',\n",
              "       'ACQUIRER_INSTITUTION_CODE', 'AUTHORIZATION CODE', 'APPROVAL DECISION',\n",
              "       'CARD SERVICE CODE', 'TID', 'MID', 'MERCHANT NAME AND ADDRESS',\n",
              "       'PRIVATE DATA 48', 'TRANSACTION CATEGORY CODE', 'DE48 DATA LENGTH',\n",
              "       'TRANSACTION_CURRENCY', 'SETTLEMENT_CURRENCY', 'BILLING_CURRENCY',\n",
              "       'POS_DATA', 'INTERFACE ID', 'TERMINAL TYPE', 'TOKEN DATA-C1',\n",
              "       'ADDITIONAL PAYMENT INFO', 'ECOMMERCE DATA', 'ECI INDICATOR',\n",
              "       'REMAINING BALANCE', 'PRIVATE DATA - ADDITIONAL INFO', 'TOKEN DATA'],\n",
              "      dtype='object')"
            ]
          },
          "metadata": {
            "tags": []
          },
          "execution_count": 62
        }
      ]
    },
    {
      "cell_type": "code",
      "metadata": {
        "colab_type": "code",
        "id": "cJYBhSy6zywb",
        "colab": {}
      },
      "source": [
        "train_X, test_X, train_y, test_y = train_test_split(X, y, random_state=1)"
      ],
      "execution_count": 0,
      "outputs": []
    },
    {
      "cell_type": "code",
      "metadata": {
        "colab_type": "code",
        "outputId": "dc086135-f5a4-4c23-db28-fcddeb692983",
        "id": "2V6D1vZZzywm",
        "colab": {
          "base_uri": "https://localhost:8080/",
          "height": 36
        }
      },
      "source": [
        "start = time.time()\n",
        "classifier = AdaBoostClassifier(\n",
        "    DecisionTreeClassifier(max_depth=2),## This number signifies that atmost 3 variables are considered together\n",
        "    n_estimators=200\n",
        ")\n",
        "classifier.fit(train_X, train_y)\n",
        "end = time.time()\n",
        "print('The time taken to fit the classifier is:{}'.format(end-start))"
      ],
      "execution_count": 66,
      "outputs": [
        {
          "output_type": "stream",
          "text": [
            "The time taken to fit the classifier is:338.01833868026733\n"
          ],
          "name": "stdout"
        }
      ]
    },
    {
      "cell_type": "code",
      "metadata": {
        "colab_type": "code",
        "id": "OQqC3LhDzyww",
        "colab": {}
      },
      "source": [
        "predictions = classifier.predict(test_X)"
      ],
      "execution_count": 0,
      "outputs": []
    },
    {
      "cell_type": "code",
      "metadata": {
        "colab_type": "code",
        "outputId": "8b587c8c-5e1c-4ca1-d935-13187bcd340c",
        "id": "28Vo70mjzyw5",
        "colab": {
          "base_uri": "https://localhost:8080/",
          "height": 54
        }
      },
      "source": [
        "predictions"
      ],
      "execution_count": 68,
      "outputs": [
        {
          "output_type": "execute_result",
          "data": {
            "text/plain": [
              "array(['Not Fraud', 'Not Fraud', 'Not Fraud', ..., 'Not Fraud',\n",
              "       'Not Fraud', 'Not Fraud'], dtype=object)"
            ]
          },
          "metadata": {
            "tags": []
          },
          "execution_count": 68
        }
      ]
    },
    {
      "cell_type": "code",
      "metadata": {
        "colab_type": "code",
        "outputId": "d4d76a9c-c189-4bce-962e-495a0772a451",
        "id": "vWsACrzkzyxB",
        "colab": {
          "base_uri": "https://localhost:8080/",
          "height": 36
        }
      },
      "source": [
        "## This is the mean accuracy on the test data\n",
        "classifier.score(test_X,test_y)"
      ],
      "execution_count": 69,
      "outputs": [
        {
          "output_type": "execute_result",
          "data": {
            "text/plain": [
              "0.9999959874165383"
            ]
          },
          "metadata": {
            "tags": []
          },
          "execution_count": 69
        }
      ]
    },
    {
      "cell_type": "code",
      "metadata": {
        "id": "LccZwRqp2AxQ",
        "colab_type": "code",
        "colab": {
          "base_uri": "https://localhost:8080/",
          "height": 148
        },
        "outputId": "b86f4619-a85c-4192-bfc2-85f430a343da"
      },
      "source": [
        "classifier.feature_importances_"
      ],
      "execution_count": 70,
      "outputs": [
        {
          "output_type": "execute_result",
          "data": {
            "text/plain": [
              "array([0.06394762, 0.00017962, 0.040494  , 0.07513438, 0.05387596,\n",
              "       0.00099546, 0.06229796, 0.01369416, 0.00256526, 0.02069924,\n",
              "       0.00172725, 0.07169493, 0.01129204, 0.0464718 , 0.07185426,\n",
              "       0.0563174 , 0.05007575, 0.01409484, 0.03159223, 0.00400835,\n",
              "       0.01153899, 0.01427408, 0.03609613, 0.        , 0.00379384,\n",
              "       0.07703228, 0.03855063, 0.        , 0.        , 0.04410874,\n",
              "       0.08159279, 0.        ])"
            ]
          },
          "metadata": {
            "tags": []
          },
          "execution_count": 70
        }
      ]
    },
    {
      "cell_type": "code",
      "metadata": {
        "id": "Ztie3i_vWE9E",
        "colab_type": "code",
        "colab": {
          "base_uri": "https://localhost:8080/",
          "height": 36
        },
        "outputId": "3d9dccb1-3192-47cf-9c29-9944a2b1cf75"
      },
      "source": [
        "sum(classifier.feature_importances_)"
      ],
      "execution_count": 73,
      "outputs": [
        {
          "output_type": "execute_result",
          "data": {
            "text/plain": [
              "0.9999999999999999"
            ]
          },
          "metadata": {
            "tags": []
          },
          "execution_count": 73
        }
      ]
    },
    {
      "cell_type": "markdown",
      "metadata": {
        "id": "Jkx98w4eW9lR",
        "colab_type": "text"
      },
      "source": [
        "##### Now depending on the number of features we want to select finally(say k), we have pick the k largest values from the above list and find the predictors corresponding to it."
      ]
    },
    {
      "cell_type": "code",
      "metadata": {
        "id": "AT_JjB67W83L",
        "colab_type": "code",
        "colab": {
          "base_uri": "https://localhost:8080/",
          "height": 36
        },
        "outputId": "2b89b56a-938b-4c31-8c94-398c553a425f"
      },
      "source": [
        "## The most important column\n",
        "data2_copy.columns[np.argmax(classifier.feature_importances_)]"
      ],
      "execution_count": 76,
      "outputs": [
        {
          "output_type": "execute_result",
          "data": {
            "text/plain": [
              "'PRIVATE DATA - ADDITIONAL INFO'"
            ]
          },
          "metadata": {
            "tags": []
          },
          "execution_count": 76
        }
      ]
    },
    {
      "cell_type": "code",
      "metadata": {
        "id": "-kkOVeyqZ_X6",
        "colab_type": "code",
        "colab": {
          "base_uri": "https://localhost:8080/",
          "height": 36
        },
        "outputId": "a3674d49-869c-4082-d0f2-6a2f47a09a68"
      },
      "source": [
        "## The k most important columns, here k =5\n",
        "importances = classifier.feature_importances_\n",
        "k = 5\n",
        "idx = np.argpartition(importances, -k)\n",
        "importances[idx[-k:]]\n"
      ],
      "execution_count": 81,
      "outputs": [
        {
          "output_type": "execute_result",
          "data": {
            "text/plain": [
              "array([0.07169493, 0.07185426, 0.07513438, 0.08159279, 0.07703228])"
            ]
          },
          "metadata": {
            "tags": []
          },
          "execution_count": 81
        }
      ]
    },
    {
      "cell_type": "code",
      "metadata": {
        "id": "vrPZORKpd_7z",
        "colab_type": "code",
        "colab": {
          "base_uri": "https://localhost:8080/",
          "height": 111
        },
        "outputId": "5c643ccb-6b4d-4530-9523-ec02e8b758bc"
      },
      "source": [
        "l = []\n",
        "for i in importances[idx[-k:]]:\n",
        "  l.append(data2_copy.columns[np.where(importances==i)])\n",
        "l"
      ],
      "execution_count": 85,
      "outputs": [
        {
          "output_type": "execute_result",
          "data": {
            "text/plain": [
              "[Index(['APPROVAL DECISION'], dtype='object'),\n",
              " Index(['MID'], dtype='object'),\n",
              " Index(['SETTLEMENT_AMOUNT'], dtype='object'),\n",
              " Index(['PRIVATE DATA - ADDITIONAL INFO'], dtype='object'),\n",
              " Index(['TOKEN DATA-C1'], dtype='object')]"
            ]
          },
          "metadata": {
            "tags": []
          },
          "execution_count": 85
        }
      ]
    },
    {
      "cell_type": "markdown",
      "metadata": {
        "id": "XcR0k5hjfxh5",
        "colab_type": "text"
      },
      "source": [
        "##### This gives us the most significant columns in the decision making process, we shoudl however take this with a pinch of salt since we have filled in quite a number of values. On a filled dataset this would be much much more reliable as an output."
      ]
    },
    {
      "cell_type": "markdown",
      "metadata": {
        "id": "YJHcQPdfvnYk",
        "colab_type": "text"
      },
      "source": [
        "##### **ROUGH WORK**"
      ]
    },
    {
      "cell_type": "code",
      "metadata": {
        "id": "biVRjgG4dzOO",
        "colab_type": "code",
        "outputId": "47535bc6-c9fa-46f1-cbdc-8819f8945148",
        "colab": {
          "base_uri": "https://localhost:8080/",
          "height": 395
        }
      },
      "source": [
        "df_temp = pd.DataFrame(data2_copy['TID'])\n",
        "#encoder = LabelEncoder()\n",
        "binary_encoded_y = pd.Categorical(df_temp['TID'], categories=df_temp['TID'].unique()).codes\n",
        "df_temp['TID_encoded'] = binary_encoded_y\n",
        "df_temp"
      ],
      "execution_count": 0,
      "outputs": [
        {
          "output_type": "error",
          "ename": "ValueError",
          "evalue": "ignored",
          "traceback": [
            "\u001b[0;31m---------------------------------------------------------------------------\u001b[0m",
            "\u001b[0;31mValueError\u001b[0m                                Traceback (most recent call last)",
            "\u001b[0;32m<ipython-input-34-5eafd110c9f3>\u001b[0m in \u001b[0;36m<module>\u001b[0;34m()\u001b[0m\n\u001b[1;32m      1\u001b[0m \u001b[0mdf_temp\u001b[0m \u001b[0;34m=\u001b[0m \u001b[0mpd\u001b[0m\u001b[0;34m.\u001b[0m\u001b[0mDataFrame\u001b[0m\u001b[0;34m(\u001b[0m\u001b[0mdata2_copy\u001b[0m\u001b[0;34m[\u001b[0m\u001b[0;34m'TID'\u001b[0m\u001b[0;34m]\u001b[0m\u001b[0;34m)\u001b[0m\u001b[0;34m\u001b[0m\u001b[0;34m\u001b[0m\u001b[0m\n\u001b[1;32m      2\u001b[0m \u001b[0;31m#encoder = LabelEncoder()\u001b[0m\u001b[0;34m\u001b[0m\u001b[0;34m\u001b[0m\u001b[0;34m\u001b[0m\u001b[0m\n\u001b[0;32m----> 3\u001b[0;31m \u001b[0mbinary_encoded_y\u001b[0m \u001b[0;34m=\u001b[0m \u001b[0mpd\u001b[0m\u001b[0;34m.\u001b[0m\u001b[0mCategorical\u001b[0m\u001b[0;34m(\u001b[0m\u001b[0mdf_temp\u001b[0m\u001b[0;34m[\u001b[0m\u001b[0;34m'TID'\u001b[0m\u001b[0;34m]\u001b[0m\u001b[0;34m,\u001b[0m \u001b[0mcategories\u001b[0m\u001b[0;34m=\u001b[0m\u001b[0mdf_temp\u001b[0m\u001b[0;34m[\u001b[0m\u001b[0;34m'TID'\u001b[0m\u001b[0;34m]\u001b[0m\u001b[0;34m.\u001b[0m\u001b[0munique\u001b[0m\u001b[0;34m(\u001b[0m\u001b[0;34m)\u001b[0m\u001b[0;34m)\u001b[0m\u001b[0;34m.\u001b[0m\u001b[0mcodes\u001b[0m\u001b[0;34m\u001b[0m\u001b[0;34m\u001b[0m\u001b[0m\n\u001b[0m\u001b[1;32m      4\u001b[0m \u001b[0mdf_temp\u001b[0m\u001b[0;34m[\u001b[0m\u001b[0;34m'TID_encoded'\u001b[0m\u001b[0;34m]\u001b[0m \u001b[0;34m=\u001b[0m \u001b[0mbinary_encoded_y\u001b[0m\u001b[0;34m\u001b[0m\u001b[0;34m\u001b[0m\u001b[0m\n\u001b[1;32m      5\u001b[0m \u001b[0mdf_temp\u001b[0m\u001b[0;34m\u001b[0m\u001b[0;34m\u001b[0m\u001b[0m\n",
            "\u001b[0;32m/usr/local/lib/python3.6/dist-packages/pandas/core/arrays/categorical.py\u001b[0m in \u001b[0;36m__init__\u001b[0;34m(self, values, categories, ordered, dtype, fastpath)\u001b[0m\n\u001b[1;32m    343\u001b[0m \u001b[0;34m\u001b[0m\u001b[0m\n\u001b[1;32m    344\u001b[0m         dtype = CategoricalDtype._from_values_or_dtype(\n\u001b[0;32m--> 345\u001b[0;31m             \u001b[0mvalues\u001b[0m\u001b[0;34m,\u001b[0m \u001b[0mcategories\u001b[0m\u001b[0;34m,\u001b[0m \u001b[0mordered\u001b[0m\u001b[0;34m,\u001b[0m \u001b[0mdtype\u001b[0m\u001b[0;34m\u001b[0m\u001b[0;34m\u001b[0m\u001b[0m\n\u001b[0m\u001b[1;32m    346\u001b[0m         )\n\u001b[1;32m    347\u001b[0m         \u001b[0;31m# At this point, dtype is always a CategoricalDtype, but\u001b[0m\u001b[0;34m\u001b[0m\u001b[0;34m\u001b[0m\u001b[0;34m\u001b[0m\u001b[0m\n",
            "\u001b[0;32m/usr/local/lib/python3.6/dist-packages/pandas/core/dtypes/dtypes.py\u001b[0m in \u001b[0;36m_from_values_or_dtype\u001b[0;34m(cls, values, categories, ordered, dtype)\u001b[0m\n\u001b[1;32m    333\u001b[0m             \u001b[0;31m# Note: This could potentially have categories=None and\u001b[0m\u001b[0;34m\u001b[0m\u001b[0;34m\u001b[0m\u001b[0;34m\u001b[0m\u001b[0m\n\u001b[1;32m    334\u001b[0m             \u001b[0;31m# ordered=None.\u001b[0m\u001b[0;34m\u001b[0m\u001b[0;34m\u001b[0m\u001b[0;34m\u001b[0m\u001b[0m\n\u001b[0;32m--> 335\u001b[0;31m             \u001b[0mdtype\u001b[0m \u001b[0;34m=\u001b[0m \u001b[0mCategoricalDtype\u001b[0m\u001b[0;34m(\u001b[0m\u001b[0mcategories\u001b[0m\u001b[0;34m,\u001b[0m \u001b[0mordered\u001b[0m\u001b[0;34m)\u001b[0m\u001b[0;34m\u001b[0m\u001b[0;34m\u001b[0m\u001b[0m\n\u001b[0m\u001b[1;32m    336\u001b[0m \u001b[0;34m\u001b[0m\u001b[0m\n\u001b[1;32m    337\u001b[0m         \u001b[0;32mreturn\u001b[0m \u001b[0mdtype\u001b[0m\u001b[0;34m\u001b[0m\u001b[0;34m\u001b[0m\u001b[0m\n",
            "\u001b[0;32m/usr/local/lib/python3.6/dist-packages/pandas/core/dtypes/dtypes.py\u001b[0m in \u001b[0;36m__init__\u001b[0;34m(self, categories, ordered)\u001b[0m\n\u001b[1;32m    224\u001b[0m \u001b[0;34m\u001b[0m\u001b[0m\n\u001b[1;32m    225\u001b[0m     \u001b[0;32mdef\u001b[0m \u001b[0m__init__\u001b[0m\u001b[0;34m(\u001b[0m\u001b[0mself\u001b[0m\u001b[0;34m,\u001b[0m \u001b[0mcategories\u001b[0m\u001b[0;34m=\u001b[0m\u001b[0;32mNone\u001b[0m\u001b[0;34m,\u001b[0m \u001b[0mordered\u001b[0m\u001b[0;34m:\u001b[0m \u001b[0mOrderedType\u001b[0m \u001b[0;34m=\u001b[0m \u001b[0mordered_sentinel\u001b[0m\u001b[0;34m)\u001b[0m\u001b[0;34m:\u001b[0m\u001b[0;34m\u001b[0m\u001b[0;34m\u001b[0m\u001b[0m\n\u001b[0;32m--> 226\u001b[0;31m         \u001b[0mself\u001b[0m\u001b[0;34m.\u001b[0m\u001b[0m_finalize\u001b[0m\u001b[0;34m(\u001b[0m\u001b[0mcategories\u001b[0m\u001b[0;34m,\u001b[0m \u001b[0mordered\u001b[0m\u001b[0;34m,\u001b[0m \u001b[0mfastpath\u001b[0m\u001b[0;34m=\u001b[0m\u001b[0;32mFalse\u001b[0m\u001b[0;34m)\u001b[0m\u001b[0;34m\u001b[0m\u001b[0;34m\u001b[0m\u001b[0m\n\u001b[0m\u001b[1;32m    227\u001b[0m \u001b[0;34m\u001b[0m\u001b[0m\n\u001b[1;32m    228\u001b[0m     \u001b[0;34m@\u001b[0m\u001b[0mclassmethod\u001b[0m\u001b[0;34m\u001b[0m\u001b[0;34m\u001b[0m\u001b[0m\n",
            "\u001b[0;32m/usr/local/lib/python3.6/dist-packages/pandas/core/dtypes/dtypes.py\u001b[0m in \u001b[0;36m_finalize\u001b[0;34m(self, categories, ordered, fastpath)\u001b[0m\n\u001b[1;32m    345\u001b[0m \u001b[0;34m\u001b[0m\u001b[0m\n\u001b[1;32m    346\u001b[0m         \u001b[0;32mif\u001b[0m \u001b[0mcategories\u001b[0m \u001b[0;32mis\u001b[0m \u001b[0;32mnot\u001b[0m \u001b[0;32mNone\u001b[0m\u001b[0;34m:\u001b[0m\u001b[0;34m\u001b[0m\u001b[0;34m\u001b[0m\u001b[0m\n\u001b[0;32m--> 347\u001b[0;31m             \u001b[0mcategories\u001b[0m \u001b[0;34m=\u001b[0m \u001b[0mself\u001b[0m\u001b[0;34m.\u001b[0m\u001b[0mvalidate_categories\u001b[0m\u001b[0;34m(\u001b[0m\u001b[0mcategories\u001b[0m\u001b[0;34m,\u001b[0m \u001b[0mfastpath\u001b[0m\u001b[0;34m=\u001b[0m\u001b[0mfastpath\u001b[0m\u001b[0;34m)\u001b[0m\u001b[0;34m\u001b[0m\u001b[0;34m\u001b[0m\u001b[0m\n\u001b[0m\u001b[1;32m    348\u001b[0m \u001b[0;34m\u001b[0m\u001b[0m\n\u001b[1;32m    349\u001b[0m         \u001b[0mself\u001b[0m\u001b[0;34m.\u001b[0m\u001b[0m_categories\u001b[0m \u001b[0;34m=\u001b[0m \u001b[0mcategories\u001b[0m\u001b[0;34m\u001b[0m\u001b[0;34m\u001b[0m\u001b[0m\n",
            "\u001b[0;32m/usr/local/lib/python3.6/dist-packages/pandas/core/dtypes/dtypes.py\u001b[0m in \u001b[0;36mvalidate_categories\u001b[0;34m(categories, fastpath)\u001b[0m\n\u001b[1;32m    522\u001b[0m \u001b[0;34m\u001b[0m\u001b[0m\n\u001b[1;32m    523\u001b[0m             \u001b[0;32mif\u001b[0m \u001b[0mcategories\u001b[0m\u001b[0;34m.\u001b[0m\u001b[0mhasnans\u001b[0m\u001b[0;34m:\u001b[0m\u001b[0;34m\u001b[0m\u001b[0;34m\u001b[0m\u001b[0m\n\u001b[0;32m--> 524\u001b[0;31m                 \u001b[0;32mraise\u001b[0m \u001b[0mValueError\u001b[0m\u001b[0;34m(\u001b[0m\u001b[0;34m\"Categorial categories cannot be null\"\u001b[0m\u001b[0;34m)\u001b[0m\u001b[0;34m\u001b[0m\u001b[0;34m\u001b[0m\u001b[0m\n\u001b[0m\u001b[1;32m    525\u001b[0m \u001b[0;34m\u001b[0m\u001b[0m\n\u001b[1;32m    526\u001b[0m             \u001b[0;32mif\u001b[0m \u001b[0;32mnot\u001b[0m \u001b[0mcategories\u001b[0m\u001b[0;34m.\u001b[0m\u001b[0mis_unique\u001b[0m\u001b[0;34m:\u001b[0m\u001b[0;34m\u001b[0m\u001b[0;34m\u001b[0m\u001b[0m\n",
            "\u001b[0;31mValueError\u001b[0m: Categorial categories cannot be null"
          ]
        }
      ]
    },
    {
      "cell_type": "code",
      "metadata": {
        "id": "zto0Vo18fDbE",
        "colab_type": "code",
        "outputId": "88ea5526-1e1a-43d4-c6f1-2a19685098a8",
        "colab": {
          "base_uri": "https://localhost:8080/",
          "height": 424
        }
      },
      "source": [
        "df_temp"
      ],
      "execution_count": 0,
      "outputs": [
        {
          "output_type": "execute_result",
          "data": {
            "text/html": [
              "<div>\n",
              "<style scoped>\n",
              "    .dataframe tbody tr th:only-of-type {\n",
              "        vertical-align: middle;\n",
              "    }\n",
              "\n",
              "    .dataframe tbody tr th {\n",
              "        vertical-align: top;\n",
              "    }\n",
              "\n",
              "    .dataframe thead th {\n",
              "        text-align: right;\n",
              "    }\n",
              "</style>\n",
              "<table border=\"1\" class=\"dataframe\">\n",
              "  <thead>\n",
              "    <tr style=\"text-align: right;\">\n",
              "      <th></th>\n",
              "      <th>TID</th>\n",
              "      <th>TID_encoded</th>\n",
              "    </tr>\n",
              "  </thead>\n",
              "  <tbody>\n",
              "    <tr>\n",
              "      <th>1</th>\n",
              "      <td>GYACBB04</td>\n",
              "      <td>25033.0</td>\n",
              "    </tr>\n",
              "    <tr>\n",
              "      <th>2</th>\n",
              "      <td>JSEWLK06</td>\n",
              "      <td>25033.0</td>\n",
              "    </tr>\n",
              "    <tr>\n",
              "      <th>3</th>\n",
              "      <td>JSEWLK06</td>\n",
              "      <td>24372.0</td>\n",
              "    </tr>\n",
              "    <tr>\n",
              "      <th>4</th>\n",
              "      <td>A9021311</td>\n",
              "      <td>24819.0</td>\n",
              "    </tr>\n",
              "    <tr>\n",
              "      <th>5</th>\n",
              "      <td>FN90G440</td>\n",
              "      <td>25505.0</td>\n",
              "    </tr>\n",
              "    <tr>\n",
              "      <th>...</th>\n",
              "      <td>...</td>\n",
              "      <td>...</td>\n",
              "    </tr>\n",
              "    <tr>\n",
              "      <th>996857</th>\n",
              "      <td>NaN</td>\n",
              "      <td>26293.0</td>\n",
              "    </tr>\n",
              "    <tr>\n",
              "      <th>996858</th>\n",
              "      <td>NaN</td>\n",
              "      <td>26293.0</td>\n",
              "    </tr>\n",
              "    <tr>\n",
              "      <th>996859</th>\n",
              "      <td>NaN</td>\n",
              "      <td>26293.0</td>\n",
              "    </tr>\n",
              "    <tr>\n",
              "      <th>996860</th>\n",
              "      <td>NaN</td>\n",
              "      <td>26293.0</td>\n",
              "    </tr>\n",
              "    <tr>\n",
              "      <th>996861</th>\n",
              "      <td>NaN</td>\n",
              "      <td>NaN</td>\n",
              "    </tr>\n",
              "  </tbody>\n",
              "</table>\n",
              "<p>996861 rows × 2 columns</p>\n",
              "</div>"
            ],
            "text/plain": [
              "             TID  TID_encoded\n",
              "1       GYACBB04      25033.0\n",
              "2       JSEWLK06      25033.0\n",
              "3       JSEWLK06      24372.0\n",
              "4       A9021311      24819.0\n",
              "5       FN90G440      25505.0\n",
              "...          ...          ...\n",
              "996857       NaN      26293.0\n",
              "996858       NaN      26293.0\n",
              "996859       NaN      26293.0\n",
              "996860       NaN      26293.0\n",
              "996861       NaN          NaN\n",
              "\n",
              "[996861 rows x 2 columns]"
            ]
          },
          "metadata": {
            "tags": []
          },
          "execution_count": 33
        }
      ]
    },
    {
      "cell_type": "code",
      "metadata": {
        "id": "J8AmB3-lsxyE",
        "colab_type": "code",
        "colab": {}
      },
      "source": [
        "#binary_encoded_y = pd.Series(encoder.fit_transform(data2_copy['TID'].astype('str')))"
      ],
      "execution_count": 0,
      "outputs": []
    },
    {
      "cell_type": "code",
      "metadata": {
        "id": "_wcHG1xQs1dO",
        "colab_type": "code",
        "outputId": "7b31f271-f4c7-4132-f499-317cc1f6fe1a",
        "colab": {
          "base_uri": "https://localhost:8080/",
          "height": 230
        }
      },
      "source": [
        "#binary_encoded_y"
      ],
      "execution_count": 0,
      "outputs": [
        {
          "output_type": "execute_result",
          "data": {
            "text/plain": [
              "0         24852\n",
              "1         25033\n",
              "2         25033\n",
              "3         24372\n",
              "4         24819\n",
              "          ...  \n",
              "996856    26293\n",
              "996857    26293\n",
              "996858    26293\n",
              "996859    26293\n",
              "996860    26293\n",
              "Length: 996861, dtype: int64"
            ]
          },
          "metadata": {
            "tags": []
          },
          "execution_count": 180
        }
      ]
    },
    {
      "cell_type": "code",
      "metadata": {
        "id": "gBPY1tyCmf3y",
        "colab_type": "code",
        "colab": {}
      },
      "source": [
        "#new_col"
      ],
      "execution_count": 0,
      "outputs": []
    },
    {
      "cell_type": "code",
      "metadata": {
        "id": "UvbEDGvEBUGY",
        "colab_type": "code",
        "outputId": "cef0428b-5421-44b4-891f-d4ec40a18b61",
        "colab": {
          "base_uri": "https://localhost:8080/",
          "height": 494
        }
      },
      "source": [
        "data2_copy.apply(pd.to_numeric)\n",
        "data2_copy.head()"
      ],
      "execution_count": 0,
      "outputs": [
        {
          "output_type": "error",
          "ename": "ValueError",
          "evalue": "ignored",
          "traceback": [
            "\u001b[0;31m---------------------------------------------------------------------------\u001b[0m",
            "\u001b[0;31mValueError\u001b[0m                                Traceback (most recent call last)",
            "\u001b[0;32mpandas/_libs/lib.pyx\u001b[0m in \u001b[0;36mpandas._libs.lib.maybe_convert_numeric\u001b[0;34m()\u001b[0m\n",
            "\u001b[0;31mValueError\u001b[0m: Unable to parse string \"L%L\"",
            "\nDuring handling of the above exception, another exception occurred:\n",
            "\u001b[0;31mValueError\u001b[0m                                Traceback (most recent call last)",
            "\u001b[0;32m<ipython-input-186-33c90dadde60>\u001b[0m in \u001b[0;36m<module>\u001b[0;34m()\u001b[0m\n\u001b[0;32m----> 1\u001b[0;31m \u001b[0mdata2_copy\u001b[0m\u001b[0;34m.\u001b[0m\u001b[0mapply\u001b[0m\u001b[0;34m(\u001b[0m\u001b[0mpd\u001b[0m\u001b[0;34m.\u001b[0m\u001b[0mto_numeric\u001b[0m\u001b[0;34m)\u001b[0m\u001b[0;34m\u001b[0m\u001b[0;34m\u001b[0m\u001b[0m\n\u001b[0m\u001b[1;32m      2\u001b[0m \u001b[0mdata2_copy\u001b[0m\u001b[0;34m.\u001b[0m\u001b[0mhead\u001b[0m\u001b[0;34m(\u001b[0m\u001b[0;34m)\u001b[0m\u001b[0;34m\u001b[0m\u001b[0;34m\u001b[0m\u001b[0m\n",
            "\u001b[0;32m/usr/local/lib/python3.6/dist-packages/pandas/core/frame.py\u001b[0m in \u001b[0;36mapply\u001b[0;34m(self, func, axis, broadcast, raw, reduce, result_type, args, **kwds)\u001b[0m\n\u001b[1;32m   6926\u001b[0m             \u001b[0mkwds\u001b[0m\u001b[0;34m=\u001b[0m\u001b[0mkwds\u001b[0m\u001b[0;34m,\u001b[0m\u001b[0;34m\u001b[0m\u001b[0;34m\u001b[0m\u001b[0m\n\u001b[1;32m   6927\u001b[0m         )\n\u001b[0;32m-> 6928\u001b[0;31m         \u001b[0;32mreturn\u001b[0m \u001b[0mop\u001b[0m\u001b[0;34m.\u001b[0m\u001b[0mget_result\u001b[0m\u001b[0;34m(\u001b[0m\u001b[0;34m)\u001b[0m\u001b[0;34m\u001b[0m\u001b[0;34m\u001b[0m\u001b[0m\n\u001b[0m\u001b[1;32m   6929\u001b[0m \u001b[0;34m\u001b[0m\u001b[0m\n\u001b[1;32m   6930\u001b[0m     \u001b[0;32mdef\u001b[0m \u001b[0mapplymap\u001b[0m\u001b[0;34m(\u001b[0m\u001b[0mself\u001b[0m\u001b[0;34m,\u001b[0m \u001b[0mfunc\u001b[0m\u001b[0;34m)\u001b[0m\u001b[0;34m:\u001b[0m\u001b[0;34m\u001b[0m\u001b[0;34m\u001b[0m\u001b[0m\n",
            "\u001b[0;32m/usr/local/lib/python3.6/dist-packages/pandas/core/apply.py\u001b[0m in \u001b[0;36mget_result\u001b[0;34m(self)\u001b[0m\n\u001b[1;32m    184\u001b[0m             \u001b[0;32mreturn\u001b[0m \u001b[0mself\u001b[0m\u001b[0;34m.\u001b[0m\u001b[0mapply_raw\u001b[0m\u001b[0;34m(\u001b[0m\u001b[0;34m)\u001b[0m\u001b[0;34m\u001b[0m\u001b[0;34m\u001b[0m\u001b[0m\n\u001b[1;32m    185\u001b[0m \u001b[0;34m\u001b[0m\u001b[0m\n\u001b[0;32m--> 186\u001b[0;31m         \u001b[0;32mreturn\u001b[0m \u001b[0mself\u001b[0m\u001b[0;34m.\u001b[0m\u001b[0mapply_standard\u001b[0m\u001b[0;34m(\u001b[0m\u001b[0;34m)\u001b[0m\u001b[0;34m\u001b[0m\u001b[0;34m\u001b[0m\u001b[0m\n\u001b[0m\u001b[1;32m    187\u001b[0m \u001b[0;34m\u001b[0m\u001b[0m\n\u001b[1;32m    188\u001b[0m     \u001b[0;32mdef\u001b[0m \u001b[0mapply_empty_result\u001b[0m\u001b[0;34m(\u001b[0m\u001b[0mself\u001b[0m\u001b[0;34m)\u001b[0m\u001b[0;34m:\u001b[0m\u001b[0;34m\u001b[0m\u001b[0;34m\u001b[0m\u001b[0m\n",
            "\u001b[0;32m/usr/local/lib/python3.6/dist-packages/pandas/core/apply.py\u001b[0m in \u001b[0;36mapply_standard\u001b[0;34m(self)\u001b[0m\n\u001b[1;32m    290\u001b[0m \u001b[0;34m\u001b[0m\u001b[0m\n\u001b[1;32m    291\u001b[0m         \u001b[0;31m# compute the result using the series generator\u001b[0m\u001b[0;34m\u001b[0m\u001b[0;34m\u001b[0m\u001b[0;34m\u001b[0m\u001b[0m\n\u001b[0;32m--> 292\u001b[0;31m         \u001b[0mself\u001b[0m\u001b[0;34m.\u001b[0m\u001b[0mapply_series_generator\u001b[0m\u001b[0;34m(\u001b[0m\u001b[0;34m)\u001b[0m\u001b[0;34m\u001b[0m\u001b[0;34m\u001b[0m\u001b[0m\n\u001b[0m\u001b[1;32m    293\u001b[0m \u001b[0;34m\u001b[0m\u001b[0m\n\u001b[1;32m    294\u001b[0m         \u001b[0;31m# wrap results\u001b[0m\u001b[0;34m\u001b[0m\u001b[0;34m\u001b[0m\u001b[0;34m\u001b[0m\u001b[0m\n",
            "\u001b[0;32m/usr/local/lib/python3.6/dist-packages/pandas/core/apply.py\u001b[0m in \u001b[0;36mapply_series_generator\u001b[0;34m(self)\u001b[0m\n\u001b[1;32m    319\u001b[0m             \u001b[0;32mtry\u001b[0m\u001b[0;34m:\u001b[0m\u001b[0;34m\u001b[0m\u001b[0;34m\u001b[0m\u001b[0m\n\u001b[1;32m    320\u001b[0m                 \u001b[0;32mfor\u001b[0m \u001b[0mi\u001b[0m\u001b[0;34m,\u001b[0m \u001b[0mv\u001b[0m \u001b[0;32min\u001b[0m \u001b[0menumerate\u001b[0m\u001b[0;34m(\u001b[0m\u001b[0mseries_gen\u001b[0m\u001b[0;34m)\u001b[0m\u001b[0;34m:\u001b[0m\u001b[0;34m\u001b[0m\u001b[0;34m\u001b[0m\u001b[0m\n\u001b[0;32m--> 321\u001b[0;31m                     \u001b[0mresults\u001b[0m\u001b[0;34m[\u001b[0m\u001b[0mi\u001b[0m\u001b[0;34m]\u001b[0m \u001b[0;34m=\u001b[0m \u001b[0mself\u001b[0m\u001b[0;34m.\u001b[0m\u001b[0mf\u001b[0m\u001b[0;34m(\u001b[0m\u001b[0mv\u001b[0m\u001b[0;34m)\u001b[0m\u001b[0;34m\u001b[0m\u001b[0;34m\u001b[0m\u001b[0m\n\u001b[0m\u001b[1;32m    322\u001b[0m                     \u001b[0mkeys\u001b[0m\u001b[0;34m.\u001b[0m\u001b[0mappend\u001b[0m\u001b[0;34m(\u001b[0m\u001b[0mv\u001b[0m\u001b[0;34m.\u001b[0m\u001b[0mname\u001b[0m\u001b[0;34m)\u001b[0m\u001b[0;34m\u001b[0m\u001b[0;34m\u001b[0m\u001b[0m\n\u001b[1;32m    323\u001b[0m             \u001b[0;32mexcept\u001b[0m \u001b[0mException\u001b[0m \u001b[0;32mas\u001b[0m \u001b[0me\u001b[0m\u001b[0;34m:\u001b[0m\u001b[0;34m\u001b[0m\u001b[0;34m\u001b[0m\u001b[0m\n",
            "\u001b[0;32m/usr/local/lib/python3.6/dist-packages/pandas/core/tools/numeric.py\u001b[0m in \u001b[0;36mto_numeric\u001b[0;34m(arg, errors, downcast)\u001b[0m\n\u001b[1;32m    149\u001b[0m             \u001b[0mcoerce_numeric\u001b[0m \u001b[0;34m=\u001b[0m \u001b[0merrors\u001b[0m \u001b[0;32mnot\u001b[0m \u001b[0;32min\u001b[0m \u001b[0;34m(\u001b[0m\u001b[0;34m\"ignore\"\u001b[0m\u001b[0;34m,\u001b[0m \u001b[0;34m\"raise\"\u001b[0m\u001b[0;34m)\u001b[0m\u001b[0;34m\u001b[0m\u001b[0;34m\u001b[0m\u001b[0m\n\u001b[1;32m    150\u001b[0m             values = lib.maybe_convert_numeric(\n\u001b[0;32m--> 151\u001b[0;31m                 \u001b[0mvalues\u001b[0m\u001b[0;34m,\u001b[0m \u001b[0mset\u001b[0m\u001b[0;34m(\u001b[0m\u001b[0;34m)\u001b[0m\u001b[0;34m,\u001b[0m \u001b[0mcoerce_numeric\u001b[0m\u001b[0;34m=\u001b[0m\u001b[0mcoerce_numeric\u001b[0m\u001b[0;34m\u001b[0m\u001b[0;34m\u001b[0m\u001b[0m\n\u001b[0m\u001b[1;32m    152\u001b[0m             )\n\u001b[1;32m    153\u001b[0m \u001b[0;34m\u001b[0m\u001b[0m\n",
            "\u001b[0;32mpandas/_libs/lib.pyx\u001b[0m in \u001b[0;36mpandas._libs.lib.maybe_convert_numeric\u001b[0;34m()\u001b[0m\n",
            "\u001b[0;31mValueError\u001b[0m: ('Unable to parse string \"L%L\" at position 790', 'occurred at index DE48 DATA LENGTH')"
          ]
        }
      ]
    },
    {
      "cell_type": "code",
      "metadata": {
        "id": "_qn4f7v2EMsw",
        "colab_type": "code",
        "outputId": "5ec25172-fa20-4056-bf85-2c5e37c8209d",
        "colab": {
          "base_uri": "https://localhost:8080/",
          "height": 351
        }
      },
      "source": [
        "data2_copy.head()"
      ],
      "execution_count": 0,
      "outputs": [
        {
          "output_type": "execute_result",
          "data": {
            "text/html": [
              "<div>\n",
              "<style scoped>\n",
              "    .dataframe tbody tr th:only-of-type {\n",
              "        vertical-align: middle;\n",
              "    }\n",
              "\n",
              "    .dataframe tbody tr th {\n",
              "        vertical-align: top;\n",
              "    }\n",
              "\n",
              "    .dataframe thead th {\n",
              "        text-align: right;\n",
              "    }\n",
              "</style>\n",
              "<table border=\"1\" class=\"dataframe\">\n",
              "  <thead>\n",
              "    <tr style=\"text-align: right;\">\n",
              "      <th></th>\n",
              "      <th>CARD-WALLET-TOKEN ID</th>\n",
              "      <th>PROCESSING_CODE</th>\n",
              "      <th>TRANSACTION_AMOUNT</th>\n",
              "      <th>SETTLEMENT_AMOUNT</th>\n",
              "      <th>BILLING_AMOUNT</th>\n",
              "      <th>CONVERSION_RATE</th>\n",
              "      <th>MERCHANT CATEGORY CODE</th>\n",
              "      <th>ACQUIRING_COUNTRY_CODE</th>\n",
              "      <th>POS ENTRY MODE</th>\n",
              "      <th>ACQUIRER_INSTITUTION_CODE</th>\n",
              "      <th>AUTHORIZATION CODE</th>\n",
              "      <th>APPROVAL DECISION</th>\n",
              "      <th>CARD SERVICE CODE</th>\n",
              "      <th>TID</th>\n",
              "      <th>MID</th>\n",
              "      <th>MERCHANT NAME AND ADDRESS</th>\n",
              "      <th>PRIVATE DATA 48</th>\n",
              "      <th>TRANSACTION CATEGORY CODE</th>\n",
              "      <th>DE48 DATA LENGTH</th>\n",
              "      <th>TRANSACTION_CURRENCY</th>\n",
              "      <th>SETTLEMENT_CURRENCY</th>\n",
              "      <th>BILLING_CURRENCY</th>\n",
              "      <th>POS_DATA</th>\n",
              "      <th>INTERFACE ID</th>\n",
              "      <th>TERMINAL TYPE</th>\n",
              "      <th>TOKEN DATA-C1</th>\n",
              "      <th>ADDITIONAL PAYMENT INFO</th>\n",
              "      <th>ECOMMERCE DATA</th>\n",
              "      <th>ECI INDICATOR</th>\n",
              "      <th>REMAINING BALANCE</th>\n",
              "      <th>PRIVATE DATA - ADDITIONAL INFO</th>\n",
              "      <th>TOKEN DATA</th>\n",
              "      <th>TARGET</th>\n",
              "    </tr>\n",
              "  </thead>\n",
              "  <tbody>\n",
              "    <tr>\n",
              "      <th>1</th>\n",
              "      <td>6086941819072006</td>\n",
              "      <td>174000</td>\n",
              "      <td>7000</td>\n",
              "      <td>7000</td>\n",
              "      <td>7000</td>\n",
              "      <td>0</td>\n",
              "      <td>6011</td>\n",
              "      <td>356</td>\n",
              "      <td>???</td>\n",
              "      <td>544921</td>\n",
              "      <td>533038</td>\n",
              "      <td>000</td>\n",
              "      <td>201</td>\n",
              "      <td>GYACBB04</td>\n",
              "      <td>1005044921</td>\n",
              "      <td>LXFC BTNK LTD.KHURDT OR IN</td>\n",
              "      <td>NaN</td>\n",
              "      <td>NaN</td>\n",
              "      <td>NaN</td>\n",
              "      <td>356</td>\n",
              "      <td>356</td>\n",
              "      <td>356</td>\n",
              "      <td>210201210141</td>\n",
              "      <td>IN1</td>\n",
              "      <td>ATM</td>\n",
              "      <td>0917</td>\n",
              "      <td>NaN</td>\n",
              "      <td>NaN</td>\n",
              "      <td>NaN</td>\n",
              "      <td>35000</td>\n",
              "      <td>NaN</td>\n",
              "      <td>NaN</td>\n",
              "      <td>Not Fraud</td>\n",
              "    </tr>\n",
              "    <tr>\n",
              "      <th>2</th>\n",
              "      <td>6086941026163002</td>\n",
              "      <td>174000</td>\n",
              "      <td>2000</td>\n",
              "      <td>2000</td>\n",
              "      <td>2000</td>\n",
              "      <td>0</td>\n",
              "      <td>6011</td>\n",
              "      <td>356</td>\n",
              "      <td>???</td>\n",
              "      <td>544921</td>\n",
              "      <td>944896</td>\n",
              "      <td>000</td>\n",
              "      <td>201</td>\n",
              "      <td>JSEWLK06</td>\n",
              "      <td>1005044921</td>\n",
              "      <td>LXFC BTNK LTD.LUCKNOWUP IN</td>\n",
              "      <td>NaN</td>\n",
              "      <td>NaN</td>\n",
              "      <td>NaN</td>\n",
              "      <td>356</td>\n",
              "      <td>356</td>\n",
              "      <td>356</td>\n",
              "      <td>210201210141</td>\n",
              "      <td>IN1</td>\n",
              "      <td>ATM</td>\n",
              "      <td>0796</td>\n",
              "      <td>NaN</td>\n",
              "      <td>NaN</td>\n",
              "      <td>NaN</td>\n",
              "      <td>44000</td>\n",
              "      <td>NaN</td>\n",
              "      <td>NaN</td>\n",
              "      <td>Not Fraud</td>\n",
              "    </tr>\n",
              "    <tr>\n",
              "      <th>3</th>\n",
              "      <td>6086941026163002</td>\n",
              "      <td>174000</td>\n",
              "      <td>1000</td>\n",
              "      <td>1000</td>\n",
              "      <td>1000</td>\n",
              "      <td>0</td>\n",
              "      <td>6011</td>\n",
              "      <td>356</td>\n",
              "      <td>???</td>\n",
              "      <td>544921</td>\n",
              "      <td>153505</td>\n",
              "      <td>000</td>\n",
              "      <td>201</td>\n",
              "      <td>JSEWLK06</td>\n",
              "      <td>1005044921</td>\n",
              "      <td>LXFC BTNK LTD.LUCKNOWUP IN</td>\n",
              "      <td>NaN</td>\n",
              "      <td>NaN</td>\n",
              "      <td>NaN</td>\n",
              "      <td>356</td>\n",
              "      <td>356</td>\n",
              "      <td>356</td>\n",
              "      <td>210201210141</td>\n",
              "      <td>IN1</td>\n",
              "      <td>ATM</td>\n",
              "      <td>0796</td>\n",
              "      <td>NaN</td>\n",
              "      <td>NaN</td>\n",
              "      <td>NaN</td>\n",
              "      <td>42000</td>\n",
              "      <td>NaN</td>\n",
              "      <td>NaN</td>\n",
              "      <td>Not Fraud</td>\n",
              "    </tr>\n",
              "    <tr>\n",
              "      <th>4</th>\n",
              "      <td>6086941055683003</td>\n",
              "      <td>174000</td>\n",
              "      <td>4500</td>\n",
              "      <td>28.59</td>\n",
              "      <td>2034.06</td>\n",
              "      <td>56874000</td>\n",
              "      <td>6011</td>\n",
              "      <td>144</td>\n",
              "      <td>???</td>\n",
              "      <td>544921</td>\n",
              "      <td>757011</td>\n",
              "      <td>000</td>\n",
              "      <td>201</td>\n",
              "      <td>A9021311</td>\n",
              "      <td>1144000031</td>\n",
              "      <td>STMPTTH BTNK TTMCTSHLK</td>\n",
              "      <td>NaN</td>\n",
              "      <td>NaN</td>\n",
              "      <td>NaN</td>\n",
              "      <td>144</td>\n",
              "      <td>840</td>\n",
              "      <td>356</td>\n",
              "      <td>210201210141</td>\n",
              "      <td>IN1</td>\n",
              "      <td>ATM</td>\n",
              "      <td>0797</td>\n",
              "      <td>NaN</td>\n",
              "      <td>NaN</td>\n",
              "      <td>NaN</td>\n",
              "      <td>14791.4</td>\n",
              "      <td>NaN</td>\n",
              "      <td>NaN</td>\n",
              "      <td>Not Fraud</td>\n",
              "    </tr>\n",
              "    <tr>\n",
              "      <th>5</th>\n",
              "      <td>6086941020177008</td>\n",
              "      <td>004000</td>\n",
              "      <td>499</td>\n",
              "      <td>7.14</td>\n",
              "      <td>499</td>\n",
              "      <td>0</td>\n",
              "      <td>5967</td>\n",
              "      <td>840</td>\n",
              "      <td>???</td>\n",
              "      <td>370100</td>\n",
              "      <td>954345</td>\n",
              "      <td>000</td>\n",
              "      <td>201</td>\n",
              "      <td>FN90G440</td>\n",
              "      <td>9590108460</td>\n",
              "      <td>GOOGLE SERDICES \\\\MOUNTTIN DIEW\\94043 \\</td>\n",
              "      <td>NaN</td>\n",
              "      <td>NaN</td>\n",
              "      <td>NaN</td>\n",
              "      <td>356</td>\n",
              "      <td>840</td>\n",
              "      <td>356</td>\n",
              "      <td>200111100040</td>\n",
              "      <td>IN1</td>\n",
              "      <td>POS</td>\n",
              "      <td>0797</td>\n",
              "      <td>NaN</td>\n",
              "      <td>NaN</td>\n",
              "      <td>NaN</td>\n",
              "      <td>177495</td>\n",
              "      <td>NaN</td>\n",
              "      <td>NaN</td>\n",
              "      <td>Not Fraud</td>\n",
              "    </tr>\n",
              "  </tbody>\n",
              "</table>\n",
              "</div>"
            ],
            "text/plain": [
              "  CARD-WALLET-TOKEN ID PROCESSING_CODE  ... TOKEN DATA     TARGET\n",
              "1     6086941819072006          174000  ...        NaN  Not Fraud\n",
              "2     6086941026163002          174000  ...        NaN  Not Fraud\n",
              "3     6086941026163002          174000  ...        NaN  Not Fraud\n",
              "4     6086941055683003          174000  ...        NaN  Not Fraud\n",
              "5     6086941020177008          004000  ...        NaN  Not Fraud\n",
              "\n",
              "[5 rows x 33 columns]"
            ]
          },
          "metadata": {
            "tags": []
          },
          "execution_count": 32
        }
      ]
    },
    {
      "cell_type": "code",
      "metadata": {
        "id": "b8GfxlwEGPFw",
        "colab_type": "code",
        "outputId": "1f9cae3d-9d5a-43ca-a76d-97f567278655",
        "colab": {
          "base_uri": "https://localhost:8080/",
          "height": 34
        }
      },
      "source": [
        "set(data2_copy['POS ENTRY MODE'])"
      ],
      "execution_count": 0,
      "outputs": [
        {
          "output_type": "execute_result",
          "data": {
            "text/plain": [
              "{'050', '051', '071', '801', '900', '901', '902', '???', nan}"
            ]
          },
          "metadata": {
            "tags": []
          },
          "execution_count": 35
        }
      ]
    },
    {
      "cell_type": "code",
      "metadata": {
        "id": "Ene9Ty_gGXd8",
        "colab_type": "code",
        "colab": {}
      },
      "source": [
        "data2_copy['POS ENTRY MODE'] = data2_copy['POS ENTRY MODE'].replace('???','000')"
      ],
      "execution_count": 0,
      "outputs": []
    },
    {
      "cell_type": "code",
      "metadata": {
        "id": "1UsGIdAWIkcN",
        "colab_type": "code",
        "colab": {}
      },
      "source": [
        "data2_copy['AUTHORIZATION CODE'] = data2_copy['AUTHORIZATION CODE'].replace('??????','000000')"
      ],
      "execution_count": 0,
      "outputs": []
    },
    {
      "cell_type": "code",
      "metadata": {
        "id": "N5SAL2yBBUTf",
        "colab_type": "code",
        "outputId": "f8fb1c17-fa8b-483b-c98e-d52573e5c85f",
        "colab": {
          "base_uri": "https://localhost:8080/",
          "height": 621
        }
      },
      "source": [
        "data2_copy.dtypes"
      ],
      "execution_count": 0,
      "outputs": [
        {
          "output_type": "execute_result",
          "data": {
            "text/plain": [
              "CARD-WALLET-TOKEN ID              object\n",
              "PROCESSING_CODE                   object\n",
              "TRANSACTION_AMOUNT                object\n",
              "SETTLEMENT_AMOUNT                 object\n",
              "BILLING_AMOUNT                    object\n",
              "CONVERSION_RATE                   object\n",
              "MERCHANT CATEGORY CODE            object\n",
              "ACQUIRING_COUNTRY_CODE            object\n",
              "POS ENTRY MODE                    object\n",
              "ACQUIRER_INSTITUTION_CODE         object\n",
              "AUTHORIZATION CODE                object\n",
              "APPROVAL DECISION                 object\n",
              "CARD SERVICE CODE                 object\n",
              "TID                               object\n",
              "MID                               object\n",
              "MERCHANT NAME AND ADDRESS         object\n",
              "PRIVATE DATA 48                   object\n",
              "TRANSACTION CATEGORY CODE         object\n",
              "DE48 DATA LENGTH                  object\n",
              "TRANSACTION_CURRENCY              object\n",
              "SETTLEMENT_CURRENCY               object\n",
              "BILLING_CURRENCY                  object\n",
              "POS_DATA                          object\n",
              "INTERFACE ID                      object\n",
              "TERMINAL TYPE                     object\n",
              "TOKEN DATA-C1                     object\n",
              "ADDITIONAL PAYMENT INFO           object\n",
              "ECOMMERCE DATA                    object\n",
              "ECI INDICATOR                     object\n",
              "REMAINING BALANCE                 object\n",
              "PRIVATE DATA - ADDITIONAL INFO    object\n",
              "TOKEN DATA                        object\n",
              "TARGET                            object\n",
              "dtype: object"
            ]
          },
          "metadata": {
            "tags": []
          },
          "execution_count": 34
        }
      ]
    },
    {
      "cell_type": "code",
      "metadata": {
        "id": "KvzLdwD7BUjq",
        "colab_type": "code",
        "colab": {}
      },
      "source": [
        ""
      ],
      "execution_count": 0,
      "outputs": []
    },
    {
      "cell_type": "code",
      "metadata": {
        "id": "ipDwxq3CKm4O",
        "colab_type": "code",
        "outputId": "7dd1f700-f811-469f-fb6a-3146bc394723",
        "colab": {
          "base_uri": "https://localhost:8080/",
          "height": 34
        }
      },
      "source": [
        "'bc'.find('a')"
      ],
      "execution_count": 0,
      "outputs": [
        {
          "output_type": "execute_result",
          "data": {
            "text/plain": [
              "-1"
            ]
          },
          "metadata": {
            "tags": []
          },
          "execution_count": 44
        }
      ]
    },
    {
      "cell_type": "code",
      "metadata": {
        "id": "QoyheClwATXn",
        "colab_type": "code",
        "outputId": "1621e0f4-cd3c-45d8-f080-0edb571f923d",
        "colab": {
          "base_uri": "https://localhost:8080/",
          "height": 417
        }
      },
      "source": [
        "data2.reset_index(inplace=True,drop=True)\n",
        "data2_temp.head()"
      ],
      "execution_count": 0,
      "outputs": [
        {
          "output_type": "execute_result",
          "data": {
            "text/html": [
              "<div>\n",
              "<style scoped>\n",
              "    .dataframe tbody tr th:only-of-type {\n",
              "        vertical-align: middle;\n",
              "    }\n",
              "\n",
              "    .dataframe tbody tr th {\n",
              "        vertical-align: top;\n",
              "    }\n",
              "\n",
              "    .dataframe thead th {\n",
              "        text-align: right;\n",
              "    }\n",
              "</style>\n",
              "<table border=\"1\" class=\"dataframe\">\n",
              "  <thead>\n",
              "    <tr style=\"text-align: right;\">\n",
              "      <th></th>\n",
              "      <th>CARD-WALLET-TOKEN ID</th>\n",
              "      <th>PROCESSING_CODE</th>\n",
              "      <th>TRANSACTION_AMOUNT</th>\n",
              "      <th>SETTLEMENT_AMOUNT</th>\n",
              "      <th>BILLING_AMOUNT</th>\n",
              "      <th>TRANSACTION DATE AND TIME</th>\n",
              "      <th>CONVERSION_RATE</th>\n",
              "      <th>EXPIRY DATE</th>\n",
              "      <th>CONVERSION_RATE_DATE</th>\n",
              "      <th>MERCHANT CATEGORY CODE</th>\n",
              "      <th>ACQUIRING_COUNTRY_CODE</th>\n",
              "      <th>POS ENTRY MODE</th>\n",
              "      <th>ACQUIRER_INSTITUTION_CODE</th>\n",
              "      <th>AUTHORIZATION CODE</th>\n",
              "      <th>APPROVAL DECISION</th>\n",
              "      <th>CARD SERVICE CODE</th>\n",
              "      <th>TID</th>\n",
              "      <th>MID</th>\n",
              "      <th>MERCHANT NAME AND ADDRESS</th>\n",
              "      <th>PRIVATE DATA 48</th>\n",
              "      <th>TRANSACTION CATEGORY CODE</th>\n",
              "      <th>DE48 DATA LENGTH</th>\n",
              "      <th>TRANSACTION_CURRENCY</th>\n",
              "      <th>SETTLEMENT_CURRENCY</th>\n",
              "      <th>BILLING_CURRENCY</th>\n",
              "      <th>POS_DATA</th>\n",
              "      <th>INTERFACE ID</th>\n",
              "      <th>TERMINAL TYPE</th>\n",
              "      <th>TOKEN DATA-C1</th>\n",
              "      <th>ADDITIONAL PAYMENT INFO</th>\n",
              "      <th>ECOMMERCE DATA</th>\n",
              "      <th>ECI INDICATOR</th>\n",
              "      <th>REMAINING BALANCE</th>\n",
              "      <th>PRIVATE DATA - ADDITIONAL INFO</th>\n",
              "      <th>TOKEN DATA</th>\n",
              "      <th>TARGET</th>\n",
              "    </tr>\n",
              "  </thead>\n",
              "  <tbody>\n",
              "    <tr>\n",
              "      <th>664</th>\n",
              "      <td>6086941023394006</td>\n",
              "      <td>004000</td>\n",
              "      <td>182.03</td>\n",
              "      <td>12518.2</td>\n",
              "      <td>12518.2</td>\n",
              "      <td>22-MAR-18 03.34.13</td>\n",
              "      <td>1</td>\n",
              "      <td>01-DEC-22 00.00.00</td>\n",
              "      <td>22-JUL-18 00.00.00</td>\n",
              "      <td>7011</td>\n",
              "      <td>834</td>\n",
              "      <td>???</td>\n",
              "      <td>370100</td>\n",
              "      <td>??????</td>\n",
              "      <td>117</td>\n",
              "      <td>201</td>\n",
              "      <td>2S90GE04</td>\n",
              "      <td>9734114549</td>\n",
              "      <td>KISIWT ON THE BE301579\\\\ZTNZIBTR\\\\\\834</td>\n",
              "      <td>NaN</td>\n",
              "      <td>NaN</td>\n",
              "      <td>NaN</td>\n",
              "      <td>840</td>\n",
              "      <td>356</td>\n",
              "      <td>356</td>\n",
              "      <td>510101513301</td>\n",
              "      <td>IN1</td>\n",
              "      <td>POS</td>\n",
              "      <td>0784</td>\n",
              "      <td>NaN</td>\n",
              "      <td>NaN</td>\n",
              "      <td>NaN</td>\n",
              "      <td>NaN</td>\n",
              "      <td>NaN</td>\n",
              "      <td>NaN</td>\n",
              "      <td>Fraud</td>\n",
              "    </tr>\n",
              "    <tr>\n",
              "      <th>41769</th>\n",
              "      <td>6854591729122000</td>\n",
              "      <td>000000</td>\n",
              "      <td>3500</td>\n",
              "      <td>50.91</td>\n",
              "      <td>3500</td>\n",
              "      <td>22-MAR-18 01.09.34</td>\n",
              "      <td>0</td>\n",
              "      <td>01-MAY-23 00.00.00</td>\n",
              "      <td>21-JUL-18 00.00.00</td>\n",
              "      <td>7011</td>\n",
              "      <td>356</td>\n",
              "      <td>051</td>\n",
              "      <td>007064</td>\n",
              "      <td>??????</td>\n",
              "      <td>100</td>\n",
              "      <td>206</td>\n",
              "      <td>90106669</td>\n",
              "      <td>THE ONTIME HOTE</td>\n",
              "      <td>THE ONTIME HOTEL       KALYAN        IND</td>\n",
              "      <td>???</td>\n",
              "      <td>?</td>\n",
              "      <td>??</td>\n",
              "      <td>356</td>\n",
              "      <td>840</td>\n",
              "      <td>356</td>\n",
              "      <td>310101500001</td>\n",
              "      <td>IN9</td>\n",
              "      <td>POS</td>\n",
              "      <td>0153</td>\n",
              "      <td>MPLP2FNP5</td>\n",
              "      <td>NaN</td>\n",
              "      <td>NaN</td>\n",
              "      <td>NaN</td>\n",
              "      <td>0000000000900356400059</td>\n",
              "      <td>NaN</td>\n",
              "      <td>Not Fraud</td>\n",
              "    </tr>\n",
              "    <tr>\n",
              "      <th>41784</th>\n",
              "      <td>6854593019894000</td>\n",
              "      <td>000000</td>\n",
              "      <td>49000</td>\n",
              "      <td>712.73</td>\n",
              "      <td>49000</td>\n",
              "      <td>22-MAR-18 10.39.43</td>\n",
              "      <td>0</td>\n",
              "      <td>01-MAR-23 00.00.00</td>\n",
              "      <td>21-JUL-18 00.00.00</td>\n",
              "      <td>5812</td>\n",
              "      <td>356</td>\n",
              "      <td>051</td>\n",
              "      <td>017014</td>\n",
              "      <td>??????</td>\n",
              "      <td>100</td>\n",
              "      <td>226</td>\n",
              "      <td>42263068</td>\n",
              "      <td>42MS00000286253</td>\n",
              "      <td>MSW*DICTORY ENTERPRISE Bangalore     IND</td>\n",
              "      <td>????</td>\n",
              "      <td>?</td>\n",
              "      <td>???</td>\n",
              "      <td>356</td>\n",
              "      <td>840</td>\n",
              "      <td>356</td>\n",
              "      <td>310101500001</td>\n",
              "      <td>IN9</td>\n",
              "      <td>POS</td>\n",
              "      <td>NaN</td>\n",
              "      <td>MPL2C5RJC</td>\n",
              "      <td>NaN</td>\n",
              "      <td>NaN</td>\n",
              "      <td>NaN</td>\n",
              "      <td>0000000009500356560028</td>\n",
              "      <td>NaN</td>\n",
              "      <td>Fraud</td>\n",
              "    </tr>\n",
              "    <tr>\n",
              "      <th>41785</th>\n",
              "      <td>6854592107326000</td>\n",
              "      <td>171000</td>\n",
              "      <td>5000</td>\n",
              "      <td>72.73</td>\n",
              "      <td>5000</td>\n",
              "      <td>22-MAR-18 10.41.17</td>\n",
              "      <td>0</td>\n",
              "      <td>01-JUN-23 00.00.00</td>\n",
              "      <td>21-JUL-18 00.00.00</td>\n",
              "      <td>6011</td>\n",
              "      <td>356</td>\n",
              "      <td>901</td>\n",
              "      <td>088792</td>\n",
              "      <td>??????</td>\n",
              "      <td>100</td>\n",
              "      <td>206</td>\n",
              "      <td>90328012</td>\n",
              "      <td>SBI BHANDARA AT</td>\n",
              "      <td>SBI BHANDARA ATM 12    THARSA        IND</td>\n",
              "      <td>???</td>\n",
              "      <td>?</td>\n",
              "      <td>??</td>\n",
              "      <td>356</td>\n",
              "      <td>840</td>\n",
              "      <td>356</td>\n",
              "      <td>210301200001</td>\n",
              "      <td>IN9</td>\n",
              "      <td>POS</td>\n",
              "      <td>NaN</td>\n",
              "      <td>MPL1UVCLA</td>\n",
              "      <td>NaN</td>\n",
              "      <td>NaN</td>\n",
              "      <td>NaN</td>\n",
              "      <td>1010000001200356441104</td>\n",
              "      <td>NaN</td>\n",
              "      <td>Fraud</td>\n",
              "    </tr>\n",
              "    <tr>\n",
              "      <th>41786</th>\n",
              "      <td>6854592107326000</td>\n",
              "      <td>171000</td>\n",
              "      <td>10000</td>\n",
              "      <td>145.45</td>\n",
              "      <td>10000</td>\n",
              "      <td>22-MAR-18 10.41.48</td>\n",
              "      <td>0</td>\n",
              "      <td>01-JUN-23 00.00.00</td>\n",
              "      <td>21-JUL-18 00.00.00</td>\n",
              "      <td>6011</td>\n",
              "      <td>356</td>\n",
              "      <td>901</td>\n",
              "      <td>088792</td>\n",
              "      <td>??????</td>\n",
              "      <td>100</td>\n",
              "      <td>206</td>\n",
              "      <td>90328012</td>\n",
              "      <td>SBI BHANDARA AT</td>\n",
              "      <td>SBI BHANDARA ATM 12    THARSA        IND</td>\n",
              "      <td>???</td>\n",
              "      <td>?</td>\n",
              "      <td>??</td>\n",
              "      <td>356</td>\n",
              "      <td>840</td>\n",
              "      <td>356</td>\n",
              "      <td>210301200001</td>\n",
              "      <td>IN9</td>\n",
              "      <td>POS</td>\n",
              "      <td>NaN</td>\n",
              "      <td>MPL1VKDDS</td>\n",
              "      <td>NaN</td>\n",
              "      <td>NaN</td>\n",
              "      <td>NaN</td>\n",
              "      <td>1010000001200356441104</td>\n",
              "      <td>NaN</td>\n",
              "      <td>Fraud</td>\n",
              "    </tr>\n",
              "  </tbody>\n",
              "</table>\n",
              "</div>"
            ],
            "text/plain": [
              "      CARD-WALLET-TOKEN ID PROCESSING_CODE  ... TOKEN DATA     TARGET\n",
              "664       6086941023394006          004000  ...        NaN      Fraud\n",
              "41769     6854591729122000          000000  ...        NaN  Not Fraud\n",
              "41784     6854593019894000          000000  ...        NaN      Fraud\n",
              "41785     6854592107326000          171000  ...        NaN      Fraud\n",
              "41786     6854592107326000          171000  ...        NaN      Fraud\n",
              "\n",
              "[5 rows x 36 columns]"
            ]
          },
          "metadata": {
            "tags": []
          },
          "execution_count": 84
        }
      ]
    },
    {
      "cell_type": "code",
      "metadata": {
        "id": "WS9rMq-bA-wG",
        "colab_type": "code",
        "outputId": "a68a5203-3a5a-48fb-fe70-f7f8f65c2c87",
        "colab": {
          "base_uri": "https://localhost:8080/",
          "height": 34
        }
      },
      "source": [
        "data2_temp['CONVERSION_RATE_DATE'][664]"
      ],
      "execution_count": 0,
      "outputs": [
        {
          "output_type": "execute_result",
          "data": {
            "text/plain": [
              "'22-JUL-18 00.00.00'"
            ]
          },
          "metadata": {
            "tags": []
          },
          "execution_count": 85
        }
      ]
    },
    {
      "cell_type": "code",
      "metadata": {
        "id": "T4FMLUfSr6gz",
        "colab_type": "code",
        "outputId": "77748cf4-93a6-4326-ea73-345db6d58109",
        "colab": {
          "base_uri": "https://localhost:8080/",
          "height": 33
        }
      },
      "source": [
        "pd.isna(data2['CONVERSION_RATE_DATE']).sum()"
      ],
      "execution_count": 0,
      "outputs": [
        {
          "output_type": "execute_result",
          "data": {
            "text/plain": [
              "995661"
            ]
          },
          "metadata": {
            "tags": []
          },
          "execution_count": 11
        }
      ]
    },
    {
      "cell_type": "code",
      "metadata": {
        "id": "VPpAIAeLxCkh",
        "colab_type": "code",
        "outputId": "6932759f-34dd-4327-9c97-de8c01c96a60",
        "colab": {
          "base_uri": "https://localhost:8080/",
          "height": 33
        }
      },
      "source": [
        "('abs123').upper()"
      ],
      "execution_count": 0,
      "outputs": [
        {
          "output_type": "execute_result",
          "data": {
            "text/plain": [
              "'ABS123'"
            ]
          },
          "metadata": {
            "tags": []
          },
          "execution_count": 14
        }
      ]
    },
    {
      "cell_type": "code",
      "metadata": {
        "id": "CwtjxmcuxCnm",
        "colab_type": "code",
        "outputId": "e8c806c0-68f6-4dbf-8405-40cf98d3df13",
        "colab": {
          "base_uri": "https://localhost:8080/",
          "height": 33
        }
      },
      "source": [
        "'geeks'.find('e')"
      ],
      "execution_count": 0,
      "outputs": [
        {
          "output_type": "execute_result",
          "data": {
            "text/plain": [
              "1"
            ]
          },
          "metadata": {
            "tags": []
          },
          "execution_count": 21
        }
      ]
    },
    {
      "cell_type": "code",
      "metadata": {
        "id": "DyGhj3CZetf6",
        "colab_type": "code",
        "outputId": "29bf7aa7-a055-444f-bcba-b218e9ce8326",
        "colab": {
          "base_uri": "https://localhost:8080/",
          "height": 34
        }
      },
      "source": [
        "check_transact_date(date_1)"
      ],
      "execution_count": 0,
      "outputs": [
        {
          "output_type": "execute_result",
          "data": {
            "text/plain": [
              "0"
            ]
          },
          "metadata": {
            "tags": []
          },
          "execution_count": 49
        }
      ]
    },
    {
      "cell_type": "code",
      "metadata": {
        "id": "bX-OUtatqTKV",
        "colab_type": "code",
        "outputId": "11bdff59-ef6f-4dcf-ff6f-f8720bdb49d8",
        "colab": {
          "base_uri": "https://localhost:8080/",
          "height": 34
        }
      },
      "source": [
        "check_transact_date_and_time(date_1,time_1)"
      ],
      "execution_count": 0,
      "outputs": [
        {
          "output_type": "execute_result",
          "data": {
            "text/plain": [
              "0"
            ]
          },
          "metadata": {
            "tags": []
          },
          "execution_count": 53
        }
      ]
    },
    {
      "cell_type": "code",
      "metadata": {
        "id": "vXYyLjc8qebG",
        "colab_type": "code",
        "outputId": "1a15159c-1c71-4e73-eb40-740dc84189c0",
        "colab": {
          "base_uri": "https://localhost:8080/",
          "height": 34
        }
      },
      "source": [
        "check_transact_date_and_time(d='13-JAN-20',t='22.30.10')"
      ],
      "execution_count": 0,
      "outputs": [
        {
          "output_type": "execute_result",
          "data": {
            "text/plain": [
              "1"
            ]
          },
          "metadata": {
            "tags": []
          },
          "execution_count": 66
        }
      ]
    },
    {
      "cell_type": "code",
      "metadata": {
        "id": "zgzMcol0VNho",
        "colab_type": "code",
        "outputId": "1b31cb6f-8af0-4b00-b882-ad10768bd83e",
        "colab": {
          "base_uri": "https://localhost:8080/",
          "height": 34
        }
      },
      "source": [
        "func = lambda s: s[:2].upper() + s[2:].lower() if s else ''\n",
        "date, time = data2['TRANSACTION DATE AND TIME'][1].split(' ')\n",
        "func(date)"
      ],
      "execution_count": 0,
      "outputs": [
        {
          "output_type": "execute_result",
          "data": {
            "text/plain": [
              "'22-mar-18'"
            ]
          },
          "metadata": {
            "tags": []
          },
          "execution_count": 36
        }
      ]
    },
    {
      "cell_type": "code",
      "metadata": {
        "id": "eUryAXB4xCin",
        "colab_type": "code",
        "outputId": "73440cd6-0994-4dd8-87c6-53981e78590d",
        "colab": {
          "base_uri": "https://localhost:8080/",
          "height": 87
        }
      },
      "source": [
        "\n",
        "\n",
        "# dd/mm/YY\n",
        "d1 = today.strftime(\"%d/%m/%Y\")\n",
        "print(\"d1 =\", d1)\n",
        "# Textual month, day and year\t\n",
        "d2 = today.strftime(\"%B %d, %Y\")\n",
        "print(\"d2 =\", d2)\n",
        "# mm/dd/y\n",
        "d3 = today.strftime(\"%m/%d/%y\")\n",
        "print(\"d3 =\", d3)\n",
        "# Month abbreviation, day and year\t\n",
        "d4 = today.strftime(\"%b-%d-%y\")\n",
        "print(\"d4 =\", d4)"
      ],
      "execution_count": 0,
      "outputs": [
        {
          "output_type": "stream",
          "text": [
            "d1 = 13/01/2020\n",
            "d2 = January 13, 2020\n",
            "d3 = 01/13/20\n",
            "d4 = Jan-13-20\n"
          ],
          "name": "stdout"
        }
      ]
    },
    {
      "cell_type": "code",
      "metadata": {
        "id": "KsS-eBO7xCgp",
        "colab_type": "code",
        "outputId": "0ea0270a-dc5e-40e6-ec9b-f95350518262",
        "colab": {
          "base_uri": "https://localhost:8080/",
          "height": 52
        }
      },
      "source": [
        "from datetime import datetime\n",
        "# datetime object containing current date and time\n",
        "now = datetime.now()\n",
        " \n",
        "print(\"now =\", now)\n",
        "# dd/mm/YY H:M:S\n",
        "dt_string = now.strftime(\"%d/%m/%Y %H:%M:%S\")\n",
        "print(\"date and time =\", dt_string)"
      ],
      "execution_count": 0,
      "outputs": [
        {
          "output_type": "stream",
          "text": [
            "now = 2020-01-13 14:23:54.203888\n",
            "date and time = 13/01/2020 14:23:54\n"
          ],
          "name": "stdout"
        }
      ]
    },
    {
      "cell_type": "code",
      "metadata": {
        "id": "j8LboxrzxCd0",
        "colab_type": "code",
        "outputId": "7fd85cf5-73d8-41b1-b869-eb928c959876",
        "colab": {
          "base_uri": "https://localhost:8080/",
          "height": 434
        }
      },
      "source": [
        "data2_temp = data2[pd.isna(data2['TRANSACTION DATE AND TIME'])==False]\n",
        "data2_temp.head()"
      ],
      "execution_count": 0,
      "outputs": [
        {
          "output_type": "execute_result",
          "data": {
            "text/html": [
              "<div>\n",
              "<style scoped>\n",
              "    .dataframe tbody tr th:only-of-type {\n",
              "        vertical-align: middle;\n",
              "    }\n",
              "\n",
              "    .dataframe tbody tr th {\n",
              "        vertical-align: top;\n",
              "    }\n",
              "\n",
              "    .dataframe thead th {\n",
              "        text-align: right;\n",
              "    }\n",
              "</style>\n",
              "<table border=\"1\" class=\"dataframe\">\n",
              "  <thead>\n",
              "    <tr style=\"text-align: right;\">\n",
              "      <th></th>\n",
              "      <th>CARD-WALLET-TOKEN ID</th>\n",
              "      <th>PROCESSING_CODE</th>\n",
              "      <th>TRANSACTION_AMOUNT</th>\n",
              "      <th>SETTLEMENT_AMOUNT</th>\n",
              "      <th>BILLING_AMOUNT</th>\n",
              "      <th>TRANSACTION DATE AND TIME</th>\n",
              "      <th>CONVERSION_RATE</th>\n",
              "      <th>EXPIRY DATE</th>\n",
              "      <th>CONVERSION_RATE_DATE</th>\n",
              "      <th>MERCHANT CATEGORY CODE</th>\n",
              "      <th>ACQUIRING_COUNTRY_CODE</th>\n",
              "      <th>POS ENTRY MODE</th>\n",
              "      <th>ACQUIRER_INSTITUTION_CODE</th>\n",
              "      <th>AUTHORIZATION CODE</th>\n",
              "      <th>APPROVAL DECISION</th>\n",
              "      <th>CARD SERVICE CODE</th>\n",
              "      <th>TID</th>\n",
              "      <th>MID</th>\n",
              "      <th>MERCHANT NAME AND ADDRESS</th>\n",
              "      <th>PRIVATE DATA 48</th>\n",
              "      <th>TRANSACTION CATEGORY CODE</th>\n",
              "      <th>DE48 DATA LENGTH</th>\n",
              "      <th>TRANSACTION_CURRENCY</th>\n",
              "      <th>SETTLEMENT_CURRENCY</th>\n",
              "      <th>BILLING_CURRENCY</th>\n",
              "      <th>POS_DATA</th>\n",
              "      <th>INTERFACE ID</th>\n",
              "      <th>TERMINAL TYPE</th>\n",
              "      <th>TOKEN DATA-C1</th>\n",
              "      <th>ADDITIONAL PAYMENT INFO</th>\n",
              "      <th>ECOMMERCE DATA</th>\n",
              "      <th>ECI INDICATOR</th>\n",
              "      <th>REMAINING BALANCE</th>\n",
              "      <th>PRIVATE DATA - ADDITIONAL INFO</th>\n",
              "      <th>TOKEN DATA</th>\n",
              "      <th>TARGET</th>\n",
              "    </tr>\n",
              "  </thead>\n",
              "  <tbody>\n",
              "    <tr>\n",
              "      <th>1</th>\n",
              "      <td>6086941819072006</td>\n",
              "      <td>174000</td>\n",
              "      <td>7000</td>\n",
              "      <td>7000</td>\n",
              "      <td>7000</td>\n",
              "      <td>22-MAR-18 09.10.37</td>\n",
              "      <td>0</td>\n",
              "      <td>01-JUL-23 00.00.00</td>\n",
              "      <td>NaN</td>\n",
              "      <td>6011</td>\n",
              "      <td>356</td>\n",
              "      <td>???</td>\n",
              "      <td>544921</td>\n",
              "      <td>533038</td>\n",
              "      <td>000</td>\n",
              "      <td>201</td>\n",
              "      <td>GYACBB04</td>\n",
              "      <td>1005044921</td>\n",
              "      <td>LXFC BTNK LTD.KHURDT OR IN</td>\n",
              "      <td>NaN</td>\n",
              "      <td>NaN</td>\n",
              "      <td>NaN</td>\n",
              "      <td>356</td>\n",
              "      <td>356</td>\n",
              "      <td>356</td>\n",
              "      <td>210201210141</td>\n",
              "      <td>IN1</td>\n",
              "      <td>ATM</td>\n",
              "      <td>0917</td>\n",
              "      <td>NaN</td>\n",
              "      <td>NaN</td>\n",
              "      <td>NaN</td>\n",
              "      <td>35000</td>\n",
              "      <td>NaN</td>\n",
              "      <td>NaN</td>\n",
              "      <td>Not Fraud</td>\n",
              "    </tr>\n",
              "    <tr>\n",
              "      <th>2</th>\n",
              "      <td>6086941026163002</td>\n",
              "      <td>174000</td>\n",
              "      <td>2000</td>\n",
              "      <td>2000</td>\n",
              "      <td>2000</td>\n",
              "      <td>22-MAR-18 12.28.15</td>\n",
              "      <td>0</td>\n",
              "      <td>01-DEC-22 00.00.00</td>\n",
              "      <td>NaN</td>\n",
              "      <td>6011</td>\n",
              "      <td>356</td>\n",
              "      <td>???</td>\n",
              "      <td>544921</td>\n",
              "      <td>944896</td>\n",
              "      <td>000</td>\n",
              "      <td>201</td>\n",
              "      <td>JSEWLK06</td>\n",
              "      <td>1005044921</td>\n",
              "      <td>LXFC BTNK LTD.LUCKNOWUP IN</td>\n",
              "      <td>NaN</td>\n",
              "      <td>NaN</td>\n",
              "      <td>NaN</td>\n",
              "      <td>356</td>\n",
              "      <td>356</td>\n",
              "      <td>356</td>\n",
              "      <td>210201210141</td>\n",
              "      <td>IN1</td>\n",
              "      <td>ATM</td>\n",
              "      <td>0796</td>\n",
              "      <td>NaN</td>\n",
              "      <td>NaN</td>\n",
              "      <td>NaN</td>\n",
              "      <td>44000</td>\n",
              "      <td>NaN</td>\n",
              "      <td>NaN</td>\n",
              "      <td>Not Fraud</td>\n",
              "    </tr>\n",
              "    <tr>\n",
              "      <th>3</th>\n",
              "      <td>6086941026163002</td>\n",
              "      <td>174000</td>\n",
              "      <td>1000</td>\n",
              "      <td>1000</td>\n",
              "      <td>1000</td>\n",
              "      <td>22-MAR-18 14.51.45</td>\n",
              "      <td>0</td>\n",
              "      <td>01-DEC-22 00.00.00</td>\n",
              "      <td>NaN</td>\n",
              "      <td>6011</td>\n",
              "      <td>356</td>\n",
              "      <td>???</td>\n",
              "      <td>544921</td>\n",
              "      <td>153505</td>\n",
              "      <td>000</td>\n",
              "      <td>201</td>\n",
              "      <td>JSEWLK06</td>\n",
              "      <td>1005044921</td>\n",
              "      <td>LXFC BTNK LTD.LUCKNOWUP IN</td>\n",
              "      <td>NaN</td>\n",
              "      <td>NaN</td>\n",
              "      <td>NaN</td>\n",
              "      <td>356</td>\n",
              "      <td>356</td>\n",
              "      <td>356</td>\n",
              "      <td>210201210141</td>\n",
              "      <td>IN1</td>\n",
              "      <td>ATM</td>\n",
              "      <td>0796</td>\n",
              "      <td>NaN</td>\n",
              "      <td>NaN</td>\n",
              "      <td>NaN</td>\n",
              "      <td>42000</td>\n",
              "      <td>NaN</td>\n",
              "      <td>NaN</td>\n",
              "      <td>Not Fraud</td>\n",
              "    </tr>\n",
              "    <tr>\n",
              "      <th>4</th>\n",
              "      <td>6086941055683003</td>\n",
              "      <td>174000</td>\n",
              "      <td>4500</td>\n",
              "      <td>28.59</td>\n",
              "      <td>2034.06</td>\n",
              "      <td>22-MAR-18 15.50.10</td>\n",
              "      <td>56874000</td>\n",
              "      <td>01-JUL-23 00.00.00</td>\n",
              "      <td>NaN</td>\n",
              "      <td>6011</td>\n",
              "      <td>144</td>\n",
              "      <td>???</td>\n",
              "      <td>544921</td>\n",
              "      <td>757011</td>\n",
              "      <td>000</td>\n",
              "      <td>201</td>\n",
              "      <td>A9021311</td>\n",
              "      <td>1144000031</td>\n",
              "      <td>STMPTTH BTNK TTMCTSHLK</td>\n",
              "      <td>NaN</td>\n",
              "      <td>NaN</td>\n",
              "      <td>NaN</td>\n",
              "      <td>144</td>\n",
              "      <td>840</td>\n",
              "      <td>356</td>\n",
              "      <td>210201210141</td>\n",
              "      <td>IN1</td>\n",
              "      <td>ATM</td>\n",
              "      <td>0797</td>\n",
              "      <td>NaN</td>\n",
              "      <td>NaN</td>\n",
              "      <td>NaN</td>\n",
              "      <td>14791.4</td>\n",
              "      <td>NaN</td>\n",
              "      <td>NaN</td>\n",
              "      <td>Not Fraud</td>\n",
              "    </tr>\n",
              "    <tr>\n",
              "      <th>5</th>\n",
              "      <td>6086941020177008</td>\n",
              "      <td>004000</td>\n",
              "      <td>499</td>\n",
              "      <td>7.14</td>\n",
              "      <td>499</td>\n",
              "      <td>22-MAR-18 02.35.44</td>\n",
              "      <td>0</td>\n",
              "      <td>01-DEC-22 00.00.00</td>\n",
              "      <td>NaN</td>\n",
              "      <td>5967</td>\n",
              "      <td>840</td>\n",
              "      <td>???</td>\n",
              "      <td>370100</td>\n",
              "      <td>954345</td>\n",
              "      <td>000</td>\n",
              "      <td>201</td>\n",
              "      <td>FN90G440</td>\n",
              "      <td>9590108460</td>\n",
              "      <td>GOOGLE SERDICES \\\\MOUNTTIN DIEW\\94043 \\</td>\n",
              "      <td>NaN</td>\n",
              "      <td>NaN</td>\n",
              "      <td>NaN</td>\n",
              "      <td>356</td>\n",
              "      <td>840</td>\n",
              "      <td>356</td>\n",
              "      <td>200111100040</td>\n",
              "      <td>IN1</td>\n",
              "      <td>POS</td>\n",
              "      <td>0797</td>\n",
              "      <td>NaN</td>\n",
              "      <td>NaN</td>\n",
              "      <td>NaN</td>\n",
              "      <td>177495</td>\n",
              "      <td>NaN</td>\n",
              "      <td>NaN</td>\n",
              "      <td>Not Fraud</td>\n",
              "    </tr>\n",
              "  </tbody>\n",
              "</table>\n",
              "</div>"
            ],
            "text/plain": [
              "  CARD-WALLET-TOKEN ID PROCESSING_CODE  ... TOKEN DATA     TARGET\n",
              "1     6086941819072006          174000  ...        NaN  Not Fraud\n",
              "2     6086941026163002          174000  ...        NaN  Not Fraud\n",
              "3     6086941026163002          174000  ...        NaN  Not Fraud\n",
              "4     6086941055683003          174000  ...        NaN  Not Fraud\n",
              "5     6086941020177008          004000  ...        NaN  Not Fraud\n",
              "\n",
              "[5 rows x 36 columns]"
            ]
          },
          "metadata": {
            "tags": []
          },
          "execution_count": 69
        }
      ]
    },
    {
      "cell_type": "code",
      "metadata": {
        "id": "WWyJACoIDJhJ",
        "colab_type": "code",
        "colab": {}
      },
      "source": [
        "breast_cancer = load_breast_cancer()\n"
      ],
      "execution_count": 0,
      "outputs": []
    },
    {
      "cell_type": "code",
      "metadata": {
        "id": "nffh6pnKDJmR",
        "colab_type": "code",
        "colab": {}
      },
      "source": [
        "X = pd.DataFrame(breast_cancer.data, columns=breast_cancer.feature_names)\n",
        "y = pd.Categorical.from_codes(breast_cancer.target, breast_cancer.target_names)"
      ],
      "execution_count": 0,
      "outputs": []
    },
    {
      "cell_type": "code",
      "metadata": {
        "id": "vpiHvhEtDJfN",
        "colab_type": "code",
        "outputId": "4a9f4da4-ee80-439d-d034-d00f94f0c2d8",
        "colab": {
          "base_uri": "https://localhost:8080/",
          "height": 251
        }
      },
      "source": [
        "X.head()"
      ],
      "execution_count": 0,
      "outputs": [
        {
          "output_type": "execute_result",
          "data": {
            "text/html": [
              "<div>\n",
              "<style scoped>\n",
              "    .dataframe tbody tr th:only-of-type {\n",
              "        vertical-align: middle;\n",
              "    }\n",
              "\n",
              "    .dataframe tbody tr th {\n",
              "        vertical-align: top;\n",
              "    }\n",
              "\n",
              "    .dataframe thead th {\n",
              "        text-align: right;\n",
              "    }\n",
              "</style>\n",
              "<table border=\"1\" class=\"dataframe\">\n",
              "  <thead>\n",
              "    <tr style=\"text-align: right;\">\n",
              "      <th></th>\n",
              "      <th>mean radius</th>\n",
              "      <th>mean texture</th>\n",
              "      <th>mean perimeter</th>\n",
              "      <th>mean area</th>\n",
              "      <th>mean smoothness</th>\n",
              "      <th>mean compactness</th>\n",
              "      <th>mean concavity</th>\n",
              "      <th>mean concave points</th>\n",
              "      <th>mean symmetry</th>\n",
              "      <th>mean fractal dimension</th>\n",
              "      <th>radius error</th>\n",
              "      <th>texture error</th>\n",
              "      <th>perimeter error</th>\n",
              "      <th>area error</th>\n",
              "      <th>smoothness error</th>\n",
              "      <th>compactness error</th>\n",
              "      <th>concavity error</th>\n",
              "      <th>concave points error</th>\n",
              "      <th>symmetry error</th>\n",
              "      <th>fractal dimension error</th>\n",
              "      <th>worst radius</th>\n",
              "      <th>worst texture</th>\n",
              "      <th>worst perimeter</th>\n",
              "      <th>worst area</th>\n",
              "      <th>worst smoothness</th>\n",
              "      <th>worst compactness</th>\n",
              "      <th>worst concavity</th>\n",
              "      <th>worst concave points</th>\n",
              "      <th>worst symmetry</th>\n",
              "      <th>worst fractal dimension</th>\n",
              "    </tr>\n",
              "  </thead>\n",
              "  <tbody>\n",
              "    <tr>\n",
              "      <th>0</th>\n",
              "      <td>17.99</td>\n",
              "      <td>10.38</td>\n",
              "      <td>122.80</td>\n",
              "      <td>1001.0</td>\n",
              "      <td>0.11840</td>\n",
              "      <td>0.27760</td>\n",
              "      <td>0.3001</td>\n",
              "      <td>0.14710</td>\n",
              "      <td>0.2419</td>\n",
              "      <td>0.07871</td>\n",
              "      <td>1.0950</td>\n",
              "      <td>0.9053</td>\n",
              "      <td>8.589</td>\n",
              "      <td>153.40</td>\n",
              "      <td>0.006399</td>\n",
              "      <td>0.04904</td>\n",
              "      <td>0.05373</td>\n",
              "      <td>0.01587</td>\n",
              "      <td>0.03003</td>\n",
              "      <td>0.006193</td>\n",
              "      <td>25.38</td>\n",
              "      <td>17.33</td>\n",
              "      <td>184.60</td>\n",
              "      <td>2019.0</td>\n",
              "      <td>0.1622</td>\n",
              "      <td>0.6656</td>\n",
              "      <td>0.7119</td>\n",
              "      <td>0.2654</td>\n",
              "      <td>0.4601</td>\n",
              "      <td>0.11890</td>\n",
              "    </tr>\n",
              "    <tr>\n",
              "      <th>1</th>\n",
              "      <td>20.57</td>\n",
              "      <td>17.77</td>\n",
              "      <td>132.90</td>\n",
              "      <td>1326.0</td>\n",
              "      <td>0.08474</td>\n",
              "      <td>0.07864</td>\n",
              "      <td>0.0869</td>\n",
              "      <td>0.07017</td>\n",
              "      <td>0.1812</td>\n",
              "      <td>0.05667</td>\n",
              "      <td>0.5435</td>\n",
              "      <td>0.7339</td>\n",
              "      <td>3.398</td>\n",
              "      <td>74.08</td>\n",
              "      <td>0.005225</td>\n",
              "      <td>0.01308</td>\n",
              "      <td>0.01860</td>\n",
              "      <td>0.01340</td>\n",
              "      <td>0.01389</td>\n",
              "      <td>0.003532</td>\n",
              "      <td>24.99</td>\n",
              "      <td>23.41</td>\n",
              "      <td>158.80</td>\n",
              "      <td>1956.0</td>\n",
              "      <td>0.1238</td>\n",
              "      <td>0.1866</td>\n",
              "      <td>0.2416</td>\n",
              "      <td>0.1860</td>\n",
              "      <td>0.2750</td>\n",
              "      <td>0.08902</td>\n",
              "    </tr>\n",
              "    <tr>\n",
              "      <th>2</th>\n",
              "      <td>19.69</td>\n",
              "      <td>21.25</td>\n",
              "      <td>130.00</td>\n",
              "      <td>1203.0</td>\n",
              "      <td>0.10960</td>\n",
              "      <td>0.15990</td>\n",
              "      <td>0.1974</td>\n",
              "      <td>0.12790</td>\n",
              "      <td>0.2069</td>\n",
              "      <td>0.05999</td>\n",
              "      <td>0.7456</td>\n",
              "      <td>0.7869</td>\n",
              "      <td>4.585</td>\n",
              "      <td>94.03</td>\n",
              "      <td>0.006150</td>\n",
              "      <td>0.04006</td>\n",
              "      <td>0.03832</td>\n",
              "      <td>0.02058</td>\n",
              "      <td>0.02250</td>\n",
              "      <td>0.004571</td>\n",
              "      <td>23.57</td>\n",
              "      <td>25.53</td>\n",
              "      <td>152.50</td>\n",
              "      <td>1709.0</td>\n",
              "      <td>0.1444</td>\n",
              "      <td>0.4245</td>\n",
              "      <td>0.4504</td>\n",
              "      <td>0.2430</td>\n",
              "      <td>0.3613</td>\n",
              "      <td>0.08758</td>\n",
              "    </tr>\n",
              "    <tr>\n",
              "      <th>3</th>\n",
              "      <td>11.42</td>\n",
              "      <td>20.38</td>\n",
              "      <td>77.58</td>\n",
              "      <td>386.1</td>\n",
              "      <td>0.14250</td>\n",
              "      <td>0.28390</td>\n",
              "      <td>0.2414</td>\n",
              "      <td>0.10520</td>\n",
              "      <td>0.2597</td>\n",
              "      <td>0.09744</td>\n",
              "      <td>0.4956</td>\n",
              "      <td>1.1560</td>\n",
              "      <td>3.445</td>\n",
              "      <td>27.23</td>\n",
              "      <td>0.009110</td>\n",
              "      <td>0.07458</td>\n",
              "      <td>0.05661</td>\n",
              "      <td>0.01867</td>\n",
              "      <td>0.05963</td>\n",
              "      <td>0.009208</td>\n",
              "      <td>14.91</td>\n",
              "      <td>26.50</td>\n",
              "      <td>98.87</td>\n",
              "      <td>567.7</td>\n",
              "      <td>0.2098</td>\n",
              "      <td>0.8663</td>\n",
              "      <td>0.6869</td>\n",
              "      <td>0.2575</td>\n",
              "      <td>0.6638</td>\n",
              "      <td>0.17300</td>\n",
              "    </tr>\n",
              "    <tr>\n",
              "      <th>4</th>\n",
              "      <td>20.29</td>\n",
              "      <td>14.34</td>\n",
              "      <td>135.10</td>\n",
              "      <td>1297.0</td>\n",
              "      <td>0.10030</td>\n",
              "      <td>0.13280</td>\n",
              "      <td>0.1980</td>\n",
              "      <td>0.10430</td>\n",
              "      <td>0.1809</td>\n",
              "      <td>0.05883</td>\n",
              "      <td>0.7572</td>\n",
              "      <td>0.7813</td>\n",
              "      <td>5.438</td>\n",
              "      <td>94.44</td>\n",
              "      <td>0.011490</td>\n",
              "      <td>0.02461</td>\n",
              "      <td>0.05688</td>\n",
              "      <td>0.01885</td>\n",
              "      <td>0.01756</td>\n",
              "      <td>0.005115</td>\n",
              "      <td>22.54</td>\n",
              "      <td>16.67</td>\n",
              "      <td>152.20</td>\n",
              "      <td>1575.0</td>\n",
              "      <td>0.1374</td>\n",
              "      <td>0.2050</td>\n",
              "      <td>0.4000</td>\n",
              "      <td>0.1625</td>\n",
              "      <td>0.2364</td>\n",
              "      <td>0.07678</td>\n",
              "    </tr>\n",
              "  </tbody>\n",
              "</table>\n",
              "</div>"
            ],
            "text/plain": [
              "   mean radius  mean texture  ...  worst symmetry  worst fractal dimension\n",
              "0        17.99         10.38  ...          0.4601                  0.11890\n",
              "1        20.57         17.77  ...          0.2750                  0.08902\n",
              "2        19.69         21.25  ...          0.3613                  0.08758\n",
              "3        11.42         20.38  ...          0.6638                  0.17300\n",
              "4        20.29         14.34  ...          0.2364                  0.07678\n",
              "\n",
              "[5 rows x 30 columns]"
            ]
          },
          "metadata": {
            "tags": []
          },
          "execution_count": 4
        }
      ]
    },
    {
      "cell_type": "code",
      "metadata": {
        "id": "WsZwniffDJdd",
        "colab_type": "code",
        "outputId": "c272b7f3-91b2-4d5b-d41d-799ae37a95b4",
        "colab": {
          "base_uri": "https://localhost:8080/",
          "height": 34
        }
      },
      "source": [
        "type(y)"
      ],
      "execution_count": 0,
      "outputs": [
        {
          "output_type": "execute_result",
          "data": {
            "text/plain": [
              "pandas.core.arrays.categorical.Categorical"
            ]
          },
          "metadata": {
            "tags": []
          },
          "execution_count": 7
        }
      ]
    },
    {
      "cell_type": "code",
      "metadata": {
        "id": "ulaHMKapELyG",
        "colab_type": "code",
        "outputId": "998f5e01-1dbc-4bb8-96f5-c6d46c3c46b1",
        "colab": {
          "base_uri": "https://localhost:8080/",
          "height": 961
        }
      },
      "source": [
        "breast_cancer"
      ],
      "execution_count": 0,
      "outputs": [
        {
          "output_type": "execute_result",
          "data": {
            "text/plain": [
              "{'DESCR': '.. _breast_cancer_dataset:\\n\\nBreast cancer wisconsin (diagnostic) dataset\\n--------------------------------------------\\n\\n**Data Set Characteristics:**\\n\\n    :Number of Instances: 569\\n\\n    :Number of Attributes: 30 numeric, predictive attributes and the class\\n\\n    :Attribute Information:\\n        - radius (mean of distances from center to points on the perimeter)\\n        - texture (standard deviation of gray-scale values)\\n        - perimeter\\n        - area\\n        - smoothness (local variation in radius lengths)\\n        - compactness (perimeter^2 / area - 1.0)\\n        - concavity (severity of concave portions of the contour)\\n        - concave points (number of concave portions of the contour)\\n        - symmetry \\n        - fractal dimension (\"coastline approximation\" - 1)\\n\\n        The mean, standard error, and \"worst\" or largest (mean of the three\\n        largest values) of these features were computed for each image,\\n        resulting in 30 features.  For instance, field 3 is Mean Radius, field\\n        13 is Radius SE, field 23 is Worst Radius.\\n\\n        - class:\\n                - WDBC-Malignant\\n                - WDBC-Benign\\n\\n    :Summary Statistics:\\n\\n    ===================================== ====== ======\\n                                           Min    Max\\n    ===================================== ====== ======\\n    radius (mean):                        6.981  28.11\\n    texture (mean):                       9.71   39.28\\n    perimeter (mean):                     43.79  188.5\\n    area (mean):                          143.5  2501.0\\n    smoothness (mean):                    0.053  0.163\\n    compactness (mean):                   0.019  0.345\\n    concavity (mean):                     0.0    0.427\\n    concave points (mean):                0.0    0.201\\n    symmetry (mean):                      0.106  0.304\\n    fractal dimension (mean):             0.05   0.097\\n    radius (standard error):              0.112  2.873\\n    texture (standard error):             0.36   4.885\\n    perimeter (standard error):           0.757  21.98\\n    area (standard error):                6.802  542.2\\n    smoothness (standard error):          0.002  0.031\\n    compactness (standard error):         0.002  0.135\\n    concavity (standard error):           0.0    0.396\\n    concave points (standard error):      0.0    0.053\\n    symmetry (standard error):            0.008  0.079\\n    fractal dimension (standard error):   0.001  0.03\\n    radius (worst):                       7.93   36.04\\n    texture (worst):                      12.02  49.54\\n    perimeter (worst):                    50.41  251.2\\n    area (worst):                         185.2  4254.0\\n    smoothness (worst):                   0.071  0.223\\n    compactness (worst):                  0.027  1.058\\n    concavity (worst):                    0.0    1.252\\n    concave points (worst):               0.0    0.291\\n    symmetry (worst):                     0.156  0.664\\n    fractal dimension (worst):            0.055  0.208\\n    ===================================== ====== ======\\n\\n    :Missing Attribute Values: None\\n\\n    :Class Distribution: 212 - Malignant, 357 - Benign\\n\\n    :Creator:  Dr. William H. Wolberg, W. Nick Street, Olvi L. Mangasarian\\n\\n    :Donor: Nick Street\\n\\n    :Date: November, 1995\\n\\nThis is a copy of UCI ML Breast Cancer Wisconsin (Diagnostic) datasets.\\nhttps://goo.gl/U2Uwz2\\n\\nFeatures are computed from a digitized image of a fine needle\\naspirate (FNA) of a breast mass.  They describe\\ncharacteristics of the cell nuclei present in the image.\\n\\nSeparating plane described above was obtained using\\nMultisurface Method-Tree (MSM-T) [K. P. Bennett, \"Decision Tree\\nConstruction Via Linear Programming.\" Proceedings of the 4th\\nMidwest Artificial Intelligence and Cognitive Science Society,\\npp. 97-101, 1992], a classification method which uses linear\\nprogramming to construct a decision tree.  Relevant features\\nwere selected using an exhaustive search in the space of 1-4\\nfeatures and 1-3 separating planes.\\n\\nThe actual linear program used to obtain the separating plane\\nin the 3-dimensional space is that described in:\\n[K. P. Bennett and O. L. Mangasarian: \"Robust Linear\\nProgramming Discrimination of Two Linearly Inseparable Sets\",\\nOptimization Methods and Software 1, 1992, 23-34].\\n\\nThis database is also available through the UW CS ftp server:\\n\\nftp ftp.cs.wisc.edu\\ncd math-prog/cpo-dataset/machine-learn/WDBC/\\n\\n.. topic:: References\\n\\n   - W.N. Street, W.H. Wolberg and O.L. Mangasarian. Nuclear feature extraction \\n     for breast tumor diagnosis. IS&T/SPIE 1993 International Symposium on \\n     Electronic Imaging: Science and Technology, volume 1905, pages 861-870,\\n     San Jose, CA, 1993.\\n   - O.L. Mangasarian, W.N. Street and W.H. Wolberg. Breast cancer diagnosis and \\n     prognosis via linear programming. Operations Research, 43(4), pages 570-577, \\n     July-August 1995.\\n   - W.H. Wolberg, W.N. Street, and O.L. Mangasarian. Machine learning techniques\\n     to diagnose breast cancer from fine-needle aspirates. Cancer Letters 77 (1994) \\n     163-171.',\n",
              " 'data': array([[1.799e+01, 1.038e+01, 1.228e+02, ..., 2.654e-01, 4.601e-01,\n",
              "         1.189e-01],\n",
              "        [2.057e+01, 1.777e+01, 1.329e+02, ..., 1.860e-01, 2.750e-01,\n",
              "         8.902e-02],\n",
              "        [1.969e+01, 2.125e+01, 1.300e+02, ..., 2.430e-01, 3.613e-01,\n",
              "         8.758e-02],\n",
              "        ...,\n",
              "        [1.660e+01, 2.808e+01, 1.083e+02, ..., 1.418e-01, 2.218e-01,\n",
              "         7.820e-02],\n",
              "        [2.060e+01, 2.933e+01, 1.401e+02, ..., 2.650e-01, 4.087e-01,\n",
              "         1.240e-01],\n",
              "        [7.760e+00, 2.454e+01, 4.792e+01, ..., 0.000e+00, 2.871e-01,\n",
              "         7.039e-02]]),\n",
              " 'feature_names': array(['mean radius', 'mean texture', 'mean perimeter', 'mean area',\n",
              "        'mean smoothness', 'mean compactness', 'mean concavity',\n",
              "        'mean concave points', 'mean symmetry', 'mean fractal dimension',\n",
              "        'radius error', 'texture error', 'perimeter error', 'area error',\n",
              "        'smoothness error', 'compactness error', 'concavity error',\n",
              "        'concave points error', 'symmetry error',\n",
              "        'fractal dimension error', 'worst radius', 'worst texture',\n",
              "        'worst perimeter', 'worst area', 'worst smoothness',\n",
              "        'worst compactness', 'worst concavity', 'worst concave points',\n",
              "        'worst symmetry', 'worst fractal dimension'], dtype='<U23'),\n",
              " 'filename': '/usr/local/lib/python3.6/dist-packages/sklearn/datasets/data/breast_cancer.csv',\n",
              " 'target': array([0, 0, 0, 0, 0, 0, 0, 0, 0, 0, 0, 0, 0, 0, 0, 0, 0, 0, 0, 1, 1, 1,\n",
              "        0, 0, 0, 0, 0, 0, 0, 0, 0, 0, 0, 0, 0, 0, 0, 1, 0, 0, 0, 0, 0, 0,\n",
              "        0, 0, 1, 0, 1, 1, 1, 1, 1, 0, 0, 1, 0, 0, 1, 1, 1, 1, 0, 1, 0, 0,\n",
              "        1, 1, 1, 1, 0, 1, 0, 0, 1, 0, 1, 0, 0, 1, 1, 1, 0, 0, 1, 0, 0, 0,\n",
              "        1, 1, 1, 0, 1, 1, 0, 0, 1, 1, 1, 0, 0, 1, 1, 1, 1, 0, 1, 1, 0, 1,\n",
              "        1, 1, 1, 1, 1, 1, 1, 0, 0, 0, 1, 0, 0, 1, 1, 1, 0, 0, 1, 0, 1, 0,\n",
              "        0, 1, 0, 0, 1, 1, 0, 1, 1, 0, 1, 1, 1, 1, 0, 1, 1, 1, 1, 1, 1, 1,\n",
              "        1, 1, 0, 1, 1, 1, 1, 0, 0, 1, 0, 1, 1, 0, 0, 1, 1, 0, 0, 1, 1, 1,\n",
              "        1, 0, 1, 1, 0, 0, 0, 1, 0, 1, 0, 1, 1, 1, 0, 1, 1, 0, 0, 1, 0, 0,\n",
              "        0, 0, 1, 0, 0, 0, 1, 0, 1, 0, 1, 1, 0, 1, 0, 0, 0, 0, 1, 1, 0, 0,\n",
              "        1, 1, 1, 0, 1, 1, 1, 1, 1, 0, 0, 1, 1, 0, 1, 1, 0, 0, 1, 0, 1, 1,\n",
              "        1, 1, 0, 1, 1, 1, 1, 1, 0, 1, 0, 0, 0, 0, 0, 0, 0, 0, 0, 0, 0, 0,\n",
              "        0, 0, 1, 1, 1, 1, 1, 1, 0, 1, 0, 1, 1, 0, 1, 1, 0, 1, 0, 0, 1, 1,\n",
              "        1, 1, 1, 1, 1, 1, 1, 1, 1, 1, 1, 0, 1, 1, 0, 1, 0, 1, 1, 1, 1, 1,\n",
              "        1, 1, 1, 1, 1, 1, 1, 1, 1, 0, 1, 1, 1, 0, 1, 0, 1, 1, 1, 1, 0, 0,\n",
              "        0, 1, 1, 1, 1, 0, 1, 0, 1, 0, 1, 1, 1, 0, 1, 1, 1, 1, 1, 1, 1, 0,\n",
              "        0, 0, 1, 1, 1, 1, 1, 1, 1, 1, 1, 1, 1, 0, 0, 1, 0, 0, 0, 1, 0, 0,\n",
              "        1, 1, 1, 1, 1, 0, 1, 1, 1, 1, 1, 0, 1, 1, 1, 0, 1, 1, 0, 0, 1, 1,\n",
              "        1, 1, 1, 1, 0, 1, 1, 1, 1, 1, 1, 1, 0, 1, 1, 1, 1, 1, 0, 1, 1, 0,\n",
              "        1, 1, 1, 1, 1, 1, 1, 1, 1, 1, 1, 1, 0, 1, 0, 0, 1, 0, 1, 1, 1, 1,\n",
              "        1, 0, 1, 1, 0, 1, 0, 1, 1, 0, 1, 0, 1, 1, 1, 1, 1, 1, 1, 1, 0, 0,\n",
              "        1, 1, 1, 1, 1, 1, 0, 1, 1, 1, 1, 1, 1, 1, 1, 1, 1, 0, 1, 1, 1, 1,\n",
              "        1, 1, 1, 0, 1, 0, 1, 1, 0, 1, 1, 1, 1, 1, 0, 0, 1, 0, 1, 0, 1, 1,\n",
              "        1, 1, 1, 0, 1, 1, 0, 1, 0, 1, 0, 0, 1, 1, 1, 0, 1, 1, 1, 1, 1, 1,\n",
              "        1, 1, 1, 1, 1, 0, 1, 0, 0, 1, 1, 1, 1, 1, 1, 1, 1, 1, 1, 1, 1, 1,\n",
              "        1, 1, 1, 1, 1, 1, 1, 1, 1, 1, 1, 1, 0, 0, 0, 0, 0, 0, 1]),\n",
              " 'target_names': array(['malignant', 'benign'], dtype='<U9')}"
            ]
          },
          "metadata": {
            "tags": []
          },
          "execution_count": 10
        }
      ]
    },
    {
      "cell_type": "code",
      "metadata": {
        "id": "d99XapplEcsK",
        "colab_type": "code",
        "colab": {}
      },
      "source": [
        "encoder = LabelEncoder()\n",
        "binary_encoded_y = pd.Series(encoder.fit_transform(y))"
      ],
      "execution_count": 0,
      "outputs": []
    },
    {
      "cell_type": "code",
      "metadata": {
        "id": "I-OEl05OEcyf",
        "colab_type": "code",
        "outputId": "276edb9f-57f9-4631-efa1-a1fc7a939683",
        "colab": {
          "base_uri": "https://localhost:8080/",
          "height": 230
        }
      },
      "source": [
        "binary_encoded_y"
      ],
      "execution_count": 0,
      "outputs": [
        {
          "output_type": "execute_result",
          "data": {
            "text/plain": [
              "0      1\n",
              "1      1\n",
              "2      1\n",
              "3      1\n",
              "4      1\n",
              "      ..\n",
              "564    1\n",
              "565    1\n",
              "566    1\n",
              "567    1\n",
              "568    0\n",
              "Length: 569, dtype: int64"
            ]
          },
          "metadata": {
            "tags": []
          },
          "execution_count": 12
        }
      ]
    },
    {
      "cell_type": "code",
      "metadata": {
        "id": "pmzSEQtiEcvq",
        "colab_type": "code",
        "colab": {}
      },
      "source": [
        "train_X, test_X, train_y, test_y = train_test_split(X, binary_encoded_y, random_state=1)"
      ],
      "execution_count": 0,
      "outputs": []
    },
    {
      "cell_type": "code",
      "metadata": {
        "id": "LdCKlA1lEcqR",
        "colab_type": "code",
        "outputId": "a1315600-c5f9-44bd-a772-b602456c3f45",
        "colab": {
          "base_uri": "https://localhost:8080/",
          "height": 301
        }
      },
      "source": [
        "classifier = AdaBoostClassifier(\n",
        "    DecisionTreeClassifier(max_depth=1),\n",
        "    n_estimators=200\n",
        ")\n",
        "classifier.fit(train_X, train_y)"
      ],
      "execution_count": 0,
      "outputs": [
        {
          "output_type": "execute_result",
          "data": {
            "text/plain": [
              "AdaBoostClassifier(algorithm='SAMME.R',\n",
              "                   base_estimator=DecisionTreeClassifier(ccp_alpha=0.0,\n",
              "                                                         class_weight=None,\n",
              "                                                         criterion='gini',\n",
              "                                                         max_depth=1,\n",
              "                                                         max_features=None,\n",
              "                                                         max_leaf_nodes=None,\n",
              "                                                         min_impurity_decrease=0.0,\n",
              "                                                         min_impurity_split=None,\n",
              "                                                         min_samples_leaf=1,\n",
              "                                                         min_samples_split=2,\n",
              "                                                         min_weight_fraction_leaf=0.0,\n",
              "                                                         presort='deprecated',\n",
              "                                                         random_state=None,\n",
              "                                                         splitter='best'),\n",
              "                   learning_rate=1.0, n_estimators=200, random_state=None)"
            ]
          },
          "metadata": {
            "tags": []
          },
          "execution_count": 14
        }
      ]
    },
    {
      "cell_type": "code",
      "metadata": {
        "id": "lntBVotUGZ7h",
        "colab_type": "code",
        "colab": {}
      },
      "source": [
        "predictions = classifier.predict(test_X)"
      ],
      "execution_count": 0,
      "outputs": []
    },
    {
      "cell_type": "code",
      "metadata": {
        "id": "zct1c7-kHlFM",
        "colab_type": "code",
        "outputId": "719e1aff-3067-4f28-d4c5-42275d6a1e6f",
        "colab": {
          "base_uri": "https://localhost:8080/",
          "height": 141
        }
      },
      "source": [
        "predictions"
      ],
      "execution_count": 0,
      "outputs": [
        {
          "output_type": "execute_result",
          "data": {
            "text/plain": [
              "array([0, 1, 0, 1, 1, 1, 1, 1, 0, 0, 0, 1, 1, 0, 0, 0, 0, 0, 0, 1, 0, 0,\n",
              "       1, 0, 1, 0, 0, 1, 1, 1, 1, 0, 1, 1, 0, 0, 1, 0, 0, 0, 0, 0, 0, 0,\n",
              "       0, 1, 0, 0, 0, 1, 1, 1, 0, 0, 0, 0, 0, 1, 0, 0, 0, 1, 0, 0, 0, 0,\n",
              "       0, 1, 0, 0, 0, 0, 0, 1, 0, 1, 1, 0, 0, 1, 0, 1, 0, 1, 0, 0, 1, 0,\n",
              "       1, 0, 0, 1, 0, 0, 1, 1, 0, 0, 0, 0, 0, 0, 0, 0, 0, 0, 0, 0, 1, 1,\n",
              "       1, 1, 0, 0, 1, 1, 0, 0, 0, 0, 0, 1, 1, 0, 0, 1, 1, 1, 1, 1, 0, 0,\n",
              "       0, 1, 0, 1, 1, 0, 0, 0, 1, 1, 0])"
            ]
          },
          "metadata": {
            "tags": []
          },
          "execution_count": 16
        }
      ]
    },
    {
      "cell_type": "code",
      "metadata": {
        "id": "gefORdk-GaAa",
        "colab_type": "code",
        "outputId": "6c080c84-a9f7-4236-f820-f2b86609533f",
        "colab": {
          "base_uri": "https://localhost:8080/",
          "height": 34
        }
      },
      "source": [
        "classifier.score(test_X,test_y)"
      ],
      "execution_count": 0,
      "outputs": [
        {
          "output_type": "execute_result",
          "data": {
            "text/plain": [
              "0.965034965034965"
            ]
          },
          "metadata": {
            "tags": []
          },
          "execution_count": 17
        }
      ]
    },
    {
      "cell_type": "code",
      "metadata": {
        "id": "ojD-rfgIGZ57",
        "colab_type": "code",
        "colab": {}
      },
      "source": [
        ""
      ],
      "execution_count": 0,
      "outputs": []
    },
    {
      "cell_type": "code",
      "metadata": {
        "id": "9Wlqc4b6GZ3j",
        "colab_type": "code",
        "colab": {}
      },
      "source": [
        ""
      ],
      "execution_count": 0,
      "outputs": []
    },
    {
      "cell_type": "code",
      "metadata": {
        "id": "dJUwf3J5GZz7",
        "colab_type": "code",
        "colab": {}
      },
      "source": [
        ""
      ],
      "execution_count": 0,
      "outputs": []
    },
    {
      "cell_type": "code",
      "metadata": {
        "id": "3E1osrkCGZw4",
        "colab_type": "code",
        "colab": {}
      },
      "source": [
        ""
      ],
      "execution_count": 0,
      "outputs": []
    }
  ]
}
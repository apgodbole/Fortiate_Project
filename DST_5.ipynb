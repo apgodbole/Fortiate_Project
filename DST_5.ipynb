{
 "cells": [
  {
   "cell_type": "markdown",
   "metadata": {},
   "source": [
    "# Importing data"
   ]
  },
  {
   "cell_type": "code",
   "execution_count": 3,
   "metadata": {},
   "outputs": [],
   "source": [
    "from sklearn.model_selection import train_test_split\n",
    "from scipy.stats import chi2_contingency as chi_test\n",
    "from sklearn.ensemble import RandomForestClassifier\n",
    "from sklearn.preprocessing import OneHotEncoder\n",
    "from sklearn.ensemble import AdaBoostClassifier\n",
    "from sklearn.ensemble import IsolationForest\n",
    "from sklearn.metrics import precision_score\n",
    "from sklearn.metrics import accuracy_score\n",
    "from sklearn.metrics import recall_score\n",
    "from keras.models import Sequential\n",
    "from xgboost import XGBClassifier\n",
    "from keras import backend as K\n",
    "from keras.layers import Dense\n",
    "import pandas as pd\n",
    "import numpy as np\n",
    "# import pycm\n",
    "\n",
    "import warnings\n",
    "warnings.filterwarnings(\"ignore\")"
   ]
  },
  {
   "cell_type": "markdown",
   "metadata": {},
   "source": [
    "# Importing data"
   ]
  },
  {
   "cell_type": "code",
   "execution_count": 2,
   "metadata": {},
   "outputs": [],
   "source": [
    "data = pd.read_excel(r\"D:\\Academics\\CMI\\Internship\\Fortiate\\DST-1_Dimensionality\\Data\\data_with_target.xlsx\")"
   ]
  },
  {
   "cell_type": "markdown",
   "metadata": {},
   "source": [
    "# Preprocessing"
   ]
  },
  {
   "cell_type": "markdown",
   "metadata": {},
   "source": [
    "### Header to code mapper"
   ]
  },
  {
   "cell_type": "code",
   "execution_count": 4,
   "metadata": {},
   "outputs": [],
   "source": [
    "map_head_code = dict(list(zip(list(data.loc[0, :]), list(data.columns))))"
   ]
  },
  {
   "cell_type": "code",
   "execution_count": 5,
   "metadata": {},
   "outputs": [
    {
     "data": {
      "text/html": [
       "<div>\n",
       "<style scoped>\n",
       "    .dataframe tbody tr th:only-of-type {\n",
       "        vertical-align: middle;\n",
       "    }\n",
       "\n",
       "    .dataframe tbody tr th {\n",
       "        vertical-align: top;\n",
       "    }\n",
       "\n",
       "    .dataframe thead th {\n",
       "        text-align: right;\n",
       "    }\n",
       "</style>\n",
       "<table border=\"1\" class=\"dataframe\">\n",
       "  <thead>\n",
       "    <tr style=\"text-align: right;\">\n",
       "      <th></th>\n",
       "      <th>Card-Wallet-Token ID</th>\n",
       "      <th>PROCESSING_CODE</th>\n",
       "      <th>TRANSACTION_AMOUNT</th>\n",
       "      <th>SETTLEMENT_AMOUNT</th>\n",
       "      <th>BILLING_AMOUNT</th>\n",
       "      <th>Transaction Date and Time</th>\n",
       "      <th>CONVERSION_RATE</th>\n",
       "      <th>Expiry Date</th>\n",
       "      <th>CONVERSION_RATE_DATE</th>\n",
       "      <th>Merchant Category Code</th>\n",
       "      <th>...</th>\n",
       "      <th>Interface ID</th>\n",
       "      <th>Terminal Type</th>\n",
       "      <th>Token Data-C1</th>\n",
       "      <th>Additional Payment Info</th>\n",
       "      <th>Ecommerce Data</th>\n",
       "      <th>ECI Indicator</th>\n",
       "      <th>Remaining Balance</th>\n",
       "      <th>Private Data - Additional Info</th>\n",
       "      <th>Token Data</th>\n",
       "      <th>TARGET</th>\n",
       "    </tr>\n",
       "  </thead>\n",
       "  <tbody>\n",
       "    <tr>\n",
       "      <td>0</td>\n",
       "      <td>DE2</td>\n",
       "      <td>DE3</td>\n",
       "      <td>DE4</td>\n",
       "      <td>DE5</td>\n",
       "      <td>DE6</td>\n",
       "      <td>DE7</td>\n",
       "      <td>DE9</td>\n",
       "      <td>DE14</td>\n",
       "      <td>DE16</td>\n",
       "      <td>DE18</td>\n",
       "      <td>...</td>\n",
       "      <td>DE4801</td>\n",
       "      <td>DE4801</td>\n",
       "      <td>DE4803</td>\n",
       "      <td>DE4804</td>\n",
       "      <td>DE4805</td>\n",
       "      <td>DE4806</td>\n",
       "      <td>DE4807</td>\n",
       "      <td>DE4808</td>\n",
       "      <td>DE4809</td>\n",
       "      <td>DE4810</td>\n",
       "    </tr>\n",
       "    <tr>\n",
       "      <td>1</td>\n",
       "      <td>6086941819072010</td>\n",
       "      <td>174000</td>\n",
       "      <td>7000</td>\n",
       "      <td>7000</td>\n",
       "      <td>7000</td>\n",
       "      <td>22-MAR-18 09.10.37</td>\n",
       "      <td>0</td>\n",
       "      <td>01-JUL-23 00.00.00</td>\n",
       "      <td>NaN</td>\n",
       "      <td>6011</td>\n",
       "      <td>...</td>\n",
       "      <td>IN1</td>\n",
       "      <td>ATM</td>\n",
       "      <td>0917</td>\n",
       "      <td>NaN</td>\n",
       "      <td>NaN</td>\n",
       "      <td>NaN</td>\n",
       "      <td>35000</td>\n",
       "      <td>NaN</td>\n",
       "      <td>NaN</td>\n",
       "      <td>0</td>\n",
       "    </tr>\n",
       "  </tbody>\n",
       "</table>\n",
       "<p>2 rows × 36 columns</p>\n",
       "</div>"
      ],
      "text/plain": [
       "  Card-Wallet-Token ID PROCESSING_CODE TRANSACTION_AMOUNT SETTLEMENT_AMOUNT  \\\n",
       "0                  DE2             DE3                DE4               DE5   \n",
       "1     6086941819072010          174000               7000              7000   \n",
       "\n",
       "  BILLING_AMOUNT Transaction Date and Time CONVERSION_RATE  \\\n",
       "0            DE6                       DE7             DE9   \n",
       "1           7000        22-MAR-18 09.10.37               0   \n",
       "\n",
       "          Expiry Date CONVERSION_RATE_DATE Merchant Category Code  ...  \\\n",
       "0                DE14                 DE16                   DE18  ...   \n",
       "1  01-JUL-23 00.00.00                  NaN                   6011  ...   \n",
       "\n",
       "  Interface ID Terminal Type Token Data-C1 Additional Payment Info  \\\n",
       "0       DE4801        DE4801        DE4803                  DE4804   \n",
       "1          IN1           ATM          0917                     NaN   \n",
       "\n",
       "  Ecommerce Data ECI Indicator Remaining Balance  \\\n",
       "0         DE4805        DE4806            DE4807   \n",
       "1            NaN           NaN             35000   \n",
       "\n",
       "  Private Data - Additional Info Token Data  TARGET  \n",
       "0                         DE4808     DE4809  DE4810  \n",
       "1                            NaN        NaN       0  \n",
       "\n",
       "[2 rows x 36 columns]"
      ]
     },
     "execution_count": 5,
     "metadata": {},
     "output_type": "execute_result"
    }
   ],
   "source": [
    "data.head(2)"
   ]
  },
  {
   "cell_type": "markdown",
   "metadata": {},
   "source": [
    "### Removing 1st row, Code"
   ]
  },
  {
   "cell_type": "code",
   "execution_count": 6,
   "metadata": {},
   "outputs": [],
   "source": [
    "data = data.drop(0)"
   ]
  },
  {
   "cell_type": "markdown",
   "metadata": {},
   "source": [
    "### Removing not required colums"
   ]
  },
  {
   "cell_type": "code",
   "execution_count": 7,
   "metadata": {},
   "outputs": [],
   "source": [
    "not_required = [\"CONVERSION_RATE_DATE\", \"Private Data 48\", \"Transaction Category Code\", \"DE48 Data Length\", \"Additional Payment Info\", \"Ecommerce Data\", \"ECI Indicator\", \"Private Data - Additional Info\", \"Token Data\", \"POS entry Mode\", \"Remaining Balance\", \"Token Data-C1\"]"
   ]
  },
  {
   "cell_type": "code",
   "execution_count": 8,
   "metadata": {},
   "outputs": [],
   "source": [
    "data = data.drop(not_required, axis=1)\n",
    "data = data.dropna()"
   ]
  },
  {
   "cell_type": "code",
   "execution_count": 9,
   "metadata": {},
   "outputs": [
    {
     "data": {
      "text/html": [
       "<div>\n",
       "<style scoped>\n",
       "    .dataframe tbody tr th:only-of-type {\n",
       "        vertical-align: middle;\n",
       "    }\n",
       "\n",
       "    .dataframe tbody tr th {\n",
       "        vertical-align: top;\n",
       "    }\n",
       "\n",
       "    .dataframe thead th {\n",
       "        text-align: right;\n",
       "    }\n",
       "</style>\n",
       "<table border=\"1\" class=\"dataframe\">\n",
       "  <thead>\n",
       "    <tr style=\"text-align: right;\">\n",
       "      <th></th>\n",
       "      <th>Card-Wallet-Token ID</th>\n",
       "      <th>PROCESSING_CODE</th>\n",
       "      <th>TRANSACTION_AMOUNT</th>\n",
       "      <th>SETTLEMENT_AMOUNT</th>\n",
       "      <th>BILLING_AMOUNT</th>\n",
       "      <th>Transaction Date and Time</th>\n",
       "      <th>CONVERSION_RATE</th>\n",
       "      <th>Expiry Date</th>\n",
       "      <th>Merchant Category Code</th>\n",
       "      <th>ACQUIRING_COUNTRY_CODE</th>\n",
       "      <th>...</th>\n",
       "      <th>TID</th>\n",
       "      <th>MID</th>\n",
       "      <th>MERCHANT NAME AND ADDRESS</th>\n",
       "      <th>TRANSACTION_CURRENCY</th>\n",
       "      <th>SETTLEMENT_CURRENCY</th>\n",
       "      <th>BILLING_CURRENCY</th>\n",
       "      <th>POS_DATA</th>\n",
       "      <th>Interface ID</th>\n",
       "      <th>Terminal Type</th>\n",
       "      <th>TARGET</th>\n",
       "    </tr>\n",
       "  </thead>\n",
       "  <tbody>\n",
       "    <tr>\n",
       "      <td>1</td>\n",
       "      <td>6086941819072010</td>\n",
       "      <td>174000</td>\n",
       "      <td>7000</td>\n",
       "      <td>7000</td>\n",
       "      <td>7000</td>\n",
       "      <td>22-MAR-18 09.10.37</td>\n",
       "      <td>0</td>\n",
       "      <td>01-JUL-23 00.00.00</td>\n",
       "      <td>6011</td>\n",
       "      <td>356</td>\n",
       "      <td>...</td>\n",
       "      <td>GYACBB04</td>\n",
       "      <td>1005044921</td>\n",
       "      <td>LXFC BTNK LTD.KHURDT OR IN</td>\n",
       "      <td>356</td>\n",
       "      <td>356</td>\n",
       "      <td>356</td>\n",
       "      <td>210201210141</td>\n",
       "      <td>IN1</td>\n",
       "      <td>ATM</td>\n",
       "      <td>0</td>\n",
       "    </tr>\n",
       "    <tr>\n",
       "      <td>2</td>\n",
       "      <td>6086941026163000</td>\n",
       "      <td>174000</td>\n",
       "      <td>2000</td>\n",
       "      <td>2000</td>\n",
       "      <td>2000</td>\n",
       "      <td>22-MAR-18 12.28.15</td>\n",
       "      <td>0</td>\n",
       "      <td>01-DEC-22 00.00.00</td>\n",
       "      <td>6011</td>\n",
       "      <td>356</td>\n",
       "      <td>...</td>\n",
       "      <td>JSEWLK06</td>\n",
       "      <td>1005044921</td>\n",
       "      <td>LXFC BTNK LTD.LUCKNOWUP IN</td>\n",
       "      <td>356</td>\n",
       "      <td>356</td>\n",
       "      <td>356</td>\n",
       "      <td>210201210141</td>\n",
       "      <td>IN1</td>\n",
       "      <td>ATM</td>\n",
       "      <td>0</td>\n",
       "    </tr>\n",
       "  </tbody>\n",
       "</table>\n",
       "<p>2 rows × 24 columns</p>\n",
       "</div>"
      ],
      "text/plain": [
       "  Card-Wallet-Token ID PROCESSING_CODE TRANSACTION_AMOUNT SETTLEMENT_AMOUNT  \\\n",
       "1     6086941819072010          174000               7000              7000   \n",
       "2     6086941026163000          174000               2000              2000   \n",
       "\n",
       "  BILLING_AMOUNT Transaction Date and Time CONVERSION_RATE  \\\n",
       "1           7000        22-MAR-18 09.10.37               0   \n",
       "2           2000        22-MAR-18 12.28.15               0   \n",
       "\n",
       "          Expiry Date Merchant Category Code ACQUIRING_COUNTRY_CODE  ...  \\\n",
       "1  01-JUL-23 00.00.00                   6011                    356  ...   \n",
       "2  01-DEC-22 00.00.00                   6011                    356  ...   \n",
       "\n",
       "        TID         MID   MERCHANT NAME AND ADDRESS TRANSACTION_CURRENCY  \\\n",
       "1  GYACBB04  1005044921  LXFC BTNK LTD.KHURDT OR IN                  356   \n",
       "2  JSEWLK06  1005044921  LXFC BTNK LTD.LUCKNOWUP IN                  356   \n",
       "\n",
       "  SETTLEMENT_CURRENCY BILLING_CURRENCY      POS_DATA Interface ID  \\\n",
       "1                 356              356  210201210141          IN1   \n",
       "2                 356              356  210201210141          IN1   \n",
       "\n",
       "  Terminal Type TARGET  \n",
       "1           ATM      0  \n",
       "2           ATM      0  \n",
       "\n",
       "[2 rows x 24 columns]"
      ]
     },
     "execution_count": 9,
     "metadata": {},
     "output_type": "execute_result"
    }
   ],
   "source": [
    "data.head(2)"
   ]
  },
  {
   "cell_type": "markdown",
   "metadata": {},
   "source": [
    "### Storing target"
   ]
  },
  {
   "cell_type": "code",
   "execution_count": 10,
   "metadata": {},
   "outputs": [],
   "source": [
    "target = data.TARGET"
   ]
  },
  {
   "cell_type": "code",
   "execution_count": 11,
   "metadata": {},
   "outputs": [
    {
     "name": "stdout",
     "output_type": "stream",
     "text": [
      "42793\n",
      "118\n"
     ]
    }
   ],
   "source": [
    "print(len(data))\n",
    "print(len(target[target == 1]))"
   ]
  },
  {
   "cell_type": "code",
   "execution_count": 12,
   "metadata": {},
   "outputs": [
    {
     "data": {
      "text/html": [
       "<div>\n",
       "<style scoped>\n",
       "    .dataframe tbody tr th:only-of-type {\n",
       "        vertical-align: middle;\n",
       "    }\n",
       "\n",
       "    .dataframe tbody tr th {\n",
       "        vertical-align: top;\n",
       "    }\n",
       "\n",
       "    .dataframe thead th {\n",
       "        text-align: right;\n",
       "    }\n",
       "</style>\n",
       "<table border=\"1\" class=\"dataframe\">\n",
       "  <thead>\n",
       "    <tr style=\"text-align: right;\">\n",
       "      <th></th>\n",
       "      <th>Card-Wallet-Token ID</th>\n",
       "      <th>PROCESSING_CODE</th>\n",
       "      <th>TRANSACTION_AMOUNT</th>\n",
       "      <th>SETTLEMENT_AMOUNT</th>\n",
       "      <th>BILLING_AMOUNT</th>\n",
       "      <th>Transaction Date and Time</th>\n",
       "      <th>CONVERSION_RATE</th>\n",
       "      <th>Expiry Date</th>\n",
       "      <th>Merchant Category Code</th>\n",
       "      <th>ACQUIRING_COUNTRY_CODE</th>\n",
       "      <th>...</th>\n",
       "      <th>TID</th>\n",
       "      <th>MID</th>\n",
       "      <th>MERCHANT NAME AND ADDRESS</th>\n",
       "      <th>TRANSACTION_CURRENCY</th>\n",
       "      <th>SETTLEMENT_CURRENCY</th>\n",
       "      <th>BILLING_CURRENCY</th>\n",
       "      <th>POS_DATA</th>\n",
       "      <th>Interface ID</th>\n",
       "      <th>Terminal Type</th>\n",
       "      <th>TARGET</th>\n",
       "    </tr>\n",
       "  </thead>\n",
       "  <tbody>\n",
       "    <tr>\n",
       "      <td>1</td>\n",
       "      <td>6086941819072010</td>\n",
       "      <td>174000</td>\n",
       "      <td>7000</td>\n",
       "      <td>7000</td>\n",
       "      <td>7000</td>\n",
       "      <td>22-MAR-18 09.10.37</td>\n",
       "      <td>0</td>\n",
       "      <td>01-JUL-23 00.00.00</td>\n",
       "      <td>6011</td>\n",
       "      <td>356</td>\n",
       "      <td>...</td>\n",
       "      <td>GYACBB04</td>\n",
       "      <td>1005044921</td>\n",
       "      <td>LXFC BTNK LTD.KHURDT OR IN</td>\n",
       "      <td>356</td>\n",
       "      <td>356</td>\n",
       "      <td>356</td>\n",
       "      <td>210201210141</td>\n",
       "      <td>IN1</td>\n",
       "      <td>ATM</td>\n",
       "      <td>0</td>\n",
       "    </tr>\n",
       "    <tr>\n",
       "      <td>2</td>\n",
       "      <td>6086941026163000</td>\n",
       "      <td>174000</td>\n",
       "      <td>2000</td>\n",
       "      <td>2000</td>\n",
       "      <td>2000</td>\n",
       "      <td>22-MAR-18 12.28.15</td>\n",
       "      <td>0</td>\n",
       "      <td>01-DEC-22 00.00.00</td>\n",
       "      <td>6011</td>\n",
       "      <td>356</td>\n",
       "      <td>...</td>\n",
       "      <td>JSEWLK06</td>\n",
       "      <td>1005044921</td>\n",
       "      <td>LXFC BTNK LTD.LUCKNOWUP IN</td>\n",
       "      <td>356</td>\n",
       "      <td>356</td>\n",
       "      <td>356</td>\n",
       "      <td>210201210141</td>\n",
       "      <td>IN1</td>\n",
       "      <td>ATM</td>\n",
       "      <td>0</td>\n",
       "    </tr>\n",
       "  </tbody>\n",
       "</table>\n",
       "<p>2 rows × 24 columns</p>\n",
       "</div>"
      ],
      "text/plain": [
       "  Card-Wallet-Token ID PROCESSING_CODE TRANSACTION_AMOUNT SETTLEMENT_AMOUNT  \\\n",
       "1     6086941819072010          174000               7000              7000   \n",
       "2     6086941026163000          174000               2000              2000   \n",
       "\n",
       "  BILLING_AMOUNT Transaction Date and Time CONVERSION_RATE  \\\n",
       "1           7000        22-MAR-18 09.10.37               0   \n",
       "2           2000        22-MAR-18 12.28.15               0   \n",
       "\n",
       "          Expiry Date Merchant Category Code ACQUIRING_COUNTRY_CODE  ...  \\\n",
       "1  01-JUL-23 00.00.00                   6011                    356  ...   \n",
       "2  01-DEC-22 00.00.00                   6011                    356  ...   \n",
       "\n",
       "        TID         MID   MERCHANT NAME AND ADDRESS TRANSACTION_CURRENCY  \\\n",
       "1  GYACBB04  1005044921  LXFC BTNK LTD.KHURDT OR IN                  356   \n",
       "2  JSEWLK06  1005044921  LXFC BTNK LTD.LUCKNOWUP IN                  356   \n",
       "\n",
       "  SETTLEMENT_CURRENCY BILLING_CURRENCY      POS_DATA Interface ID  \\\n",
       "1                 356              356  210201210141          IN1   \n",
       "2                 356              356  210201210141          IN1   \n",
       "\n",
       "  Terminal Type TARGET  \n",
       "1           ATM      0  \n",
       "2           ATM      0  \n",
       "\n",
       "[2 rows x 24 columns]"
      ]
     },
     "execution_count": 12,
     "metadata": {},
     "output_type": "execute_result"
    }
   ],
   "source": [
    "data.head(2)"
   ]
  },
  {
   "cell_type": "markdown",
   "metadata": {},
   "source": [
    "### Seperating numerical and catagorical data"
   ]
  },
  {
   "cell_type": "code",
   "execution_count": 13,
   "metadata": {},
   "outputs": [],
   "source": [
    "numerical = [\"TRANSACTION_AMOUNT\", \"SETTLEMENT_AMOUNT\", \"BILLING_AMOUNT\", \"CONVERSION_RATE\"]"
   ]
  },
  {
   "cell_type": "code",
   "execution_count": 14,
   "metadata": {},
   "outputs": [],
   "source": [
    "data_cat = data.drop(numerical, axis = 1)"
   ]
  },
  {
   "cell_type": "code",
   "execution_count": 15,
   "metadata": {},
   "outputs": [
    {
     "data": {
      "text/html": [
       "<div>\n",
       "<style scoped>\n",
       "    .dataframe tbody tr th:only-of-type {\n",
       "        vertical-align: middle;\n",
       "    }\n",
       "\n",
       "    .dataframe tbody tr th {\n",
       "        vertical-align: top;\n",
       "    }\n",
       "\n",
       "    .dataframe thead th {\n",
       "        text-align: right;\n",
       "    }\n",
       "</style>\n",
       "<table border=\"1\" class=\"dataframe\">\n",
       "  <thead>\n",
       "    <tr style=\"text-align: right;\">\n",
       "      <th></th>\n",
       "      <th>Card-Wallet-Token ID</th>\n",
       "      <th>PROCESSING_CODE</th>\n",
       "      <th>Transaction Date and Time</th>\n",
       "      <th>Expiry Date</th>\n",
       "      <th>Merchant Category Code</th>\n",
       "      <th>ACQUIRING_COUNTRY_CODE</th>\n",
       "      <th>ACQUIRER_INSTITUTION_CODE</th>\n",
       "      <th>Authorization Code</th>\n",
       "      <th>Approval Decision</th>\n",
       "      <th>Card Service Code</th>\n",
       "      <th>TID</th>\n",
       "      <th>MID</th>\n",
       "      <th>MERCHANT NAME AND ADDRESS</th>\n",
       "      <th>TRANSACTION_CURRENCY</th>\n",
       "      <th>SETTLEMENT_CURRENCY</th>\n",
       "      <th>BILLING_CURRENCY</th>\n",
       "      <th>POS_DATA</th>\n",
       "      <th>Interface ID</th>\n",
       "      <th>Terminal Type</th>\n",
       "      <th>TARGET</th>\n",
       "    </tr>\n",
       "  </thead>\n",
       "  <tbody>\n",
       "    <tr>\n",
       "      <td>1</td>\n",
       "      <td>6086941819072010</td>\n",
       "      <td>174000</td>\n",
       "      <td>22-MAR-18 09.10.37</td>\n",
       "      <td>01-JUL-23 00.00.00</td>\n",
       "      <td>6011</td>\n",
       "      <td>356</td>\n",
       "      <td>544921</td>\n",
       "      <td>533038</td>\n",
       "      <td>000</td>\n",
       "      <td>201</td>\n",
       "      <td>GYACBB04</td>\n",
       "      <td>1005044921</td>\n",
       "      <td>LXFC BTNK LTD.KHURDT OR IN</td>\n",
       "      <td>356</td>\n",
       "      <td>356</td>\n",
       "      <td>356</td>\n",
       "      <td>210201210141</td>\n",
       "      <td>IN1</td>\n",
       "      <td>ATM</td>\n",
       "      <td>0</td>\n",
       "    </tr>\n",
       "    <tr>\n",
       "      <td>2</td>\n",
       "      <td>6086941026163000</td>\n",
       "      <td>174000</td>\n",
       "      <td>22-MAR-18 12.28.15</td>\n",
       "      <td>01-DEC-22 00.00.00</td>\n",
       "      <td>6011</td>\n",
       "      <td>356</td>\n",
       "      <td>544921</td>\n",
       "      <td>944896</td>\n",
       "      <td>000</td>\n",
       "      <td>201</td>\n",
       "      <td>JSEWLK06</td>\n",
       "      <td>1005044921</td>\n",
       "      <td>LXFC BTNK LTD.LUCKNOWUP IN</td>\n",
       "      <td>356</td>\n",
       "      <td>356</td>\n",
       "      <td>356</td>\n",
       "      <td>210201210141</td>\n",
       "      <td>IN1</td>\n",
       "      <td>ATM</td>\n",
       "      <td>0</td>\n",
       "    </tr>\n",
       "  </tbody>\n",
       "</table>\n",
       "</div>"
      ],
      "text/plain": [
       "  Card-Wallet-Token ID PROCESSING_CODE Transaction Date and Time  \\\n",
       "1     6086941819072010          174000        22-MAR-18 09.10.37   \n",
       "2     6086941026163000          174000        22-MAR-18 12.28.15   \n",
       "\n",
       "          Expiry Date Merchant Category Code ACQUIRING_COUNTRY_CODE  \\\n",
       "1  01-JUL-23 00.00.00                   6011                    356   \n",
       "2  01-DEC-22 00.00.00                   6011                    356   \n",
       "\n",
       "  ACQUIRER_INSTITUTION_CODE Authorization Code Approval Decision  \\\n",
       "1                    544921             533038               000   \n",
       "2                    544921             944896               000   \n",
       "\n",
       "  Card Service Code       TID         MID   MERCHANT NAME AND ADDRESS  \\\n",
       "1               201  GYACBB04  1005044921  LXFC BTNK LTD.KHURDT OR IN   \n",
       "2               201  JSEWLK06  1005044921  LXFC BTNK LTD.LUCKNOWUP IN   \n",
       "\n",
       "  TRANSACTION_CURRENCY SETTLEMENT_CURRENCY BILLING_CURRENCY      POS_DATA  \\\n",
       "1                  356                 356              356  210201210141   \n",
       "2                  356                 356              356  210201210141   \n",
       "\n",
       "  Interface ID Terminal Type TARGET  \n",
       "1          IN1           ATM      0  \n",
       "2          IN1           ATM      0  "
      ]
     },
     "execution_count": 15,
     "metadata": {},
     "output_type": "execute_result"
    }
   ],
   "source": [
    "data_cat.head(2)"
   ]
  },
  {
   "cell_type": "code",
   "execution_count": 16,
   "metadata": {},
   "outputs": [],
   "source": [
    "data_num = data[numerical]"
   ]
  },
  {
   "cell_type": "code",
   "execution_count": 17,
   "metadata": {},
   "outputs": [
    {
     "data": {
      "text/html": [
       "<div>\n",
       "<style scoped>\n",
       "    .dataframe tbody tr th:only-of-type {\n",
       "        vertical-align: middle;\n",
       "    }\n",
       "\n",
       "    .dataframe tbody tr th {\n",
       "        vertical-align: top;\n",
       "    }\n",
       "\n",
       "    .dataframe thead th {\n",
       "        text-align: right;\n",
       "    }\n",
       "</style>\n",
       "<table border=\"1\" class=\"dataframe\">\n",
       "  <thead>\n",
       "    <tr style=\"text-align: right;\">\n",
       "      <th></th>\n",
       "      <th>TRANSACTION_AMOUNT</th>\n",
       "      <th>SETTLEMENT_AMOUNT</th>\n",
       "      <th>BILLING_AMOUNT</th>\n",
       "      <th>CONVERSION_RATE</th>\n",
       "    </tr>\n",
       "  </thead>\n",
       "  <tbody>\n",
       "    <tr>\n",
       "      <td>1</td>\n",
       "      <td>7000</td>\n",
       "      <td>7000</td>\n",
       "      <td>7000</td>\n",
       "      <td>0</td>\n",
       "    </tr>\n",
       "    <tr>\n",
       "      <td>2</td>\n",
       "      <td>2000</td>\n",
       "      <td>2000</td>\n",
       "      <td>2000</td>\n",
       "      <td>0</td>\n",
       "    </tr>\n",
       "  </tbody>\n",
       "</table>\n",
       "</div>"
      ],
      "text/plain": [
       "  TRANSACTION_AMOUNT SETTLEMENT_AMOUNT BILLING_AMOUNT CONVERSION_RATE\n",
       "1               7000              7000           7000               0\n",
       "2               2000              2000           2000               0"
      ]
     },
     "execution_count": 17,
     "metadata": {},
     "output_type": "execute_result"
    }
   ],
   "source": [
    "data_num.head(2)"
   ]
  },
  {
   "cell_type": "markdown",
   "metadata": {},
   "source": [
    "# Finding dependent catagories"
   ]
  },
  {
   "cell_type": "code",
   "execution_count": 18,
   "metadata": {},
   "outputs": [],
   "source": [
    "cat_columns = ['PROCESSING_CODE',\n",
    "     'Merchant Category Code',\n",
    "     'ACQUIRING_COUNTRY_CODE',\n",
    "     'ACQUIRER_INSTITUTION_CODE',\n",
    "     'Card Service Code',\n",
    "     'Interface ID',\n",
    "     'Terminal Type']"
   ]
  },
  {
   "cell_type": "markdown",
   "metadata": {},
   "source": [
    "### Cramer's V test"
   ]
  },
  {
   "cell_type": "code",
   "execution_count": 19,
   "metadata": {},
   "outputs": [],
   "source": [
    "def cramers_corrected_stat(confusion_matrix):\n",
    "    \"\"\" calculate Cramers V statistic for categorial-categorial association.\n",
    "        uses correction from Bergsma and Wicher, \n",
    "        Journal of the Korean Statistical Society 42 (2013): 323-328\n",
    "    \"\"\"\n",
    "    chi2 = chi_test(confusion_matrix)[0]\n",
    "    #print(chi2)\n",
    "    n = (confusion_matrix.sum()).sum()\n",
    "    phi2 = chi2/n\n",
    "    r,k = confusion_matrix.shape\n",
    "    phi2corr = max(0, phi2 - ((k-1)*(r-1))/(n-1))    \n",
    "    rcorr = r - ((r-1)**2)/(n-1)\n",
    "    kcorr = k - ((k-1)**2)/(n-1)\n",
    "    return np.sqrt(phi2corr / min( (kcorr-1), (rcorr-1)))"
   ]
  },
  {
   "cell_type": "code",
   "execution_count": 20,
   "metadata": {},
   "outputs": [],
   "source": [
    "count = 0\n",
    "dependent_pair_cramer = []\n",
    "for i in cat_columns:\n",
    "    count += 1\n",
    "    for j in cat_columns[count:]:\n",
    "        data_crosstab =  pd.crosstab(data_cat[i], data_cat[j], margins = False)\n",
    "        p = cramers_corrected_stat(data_crosstab)\n",
    "        dependent_pair_cramer.append([i,j,p])"
   ]
  },
  {
   "cell_type": "code",
   "execution_count": 21,
   "metadata": {},
   "outputs": [
    {
     "data": {
      "text/plain": [
       "[['PROCESSING_CODE', 'Merchant Category Code', 0.3934099833645813],\n",
       " ['PROCESSING_CODE', 'ACQUIRING_COUNTRY_CODE', 0.12731015328177156],\n",
       " ['PROCESSING_CODE', 'ACQUIRER_INSTITUTION_CODE', 0.7405815722504815],\n",
       " ['PROCESSING_CODE', 'Card Service Code', 0.5385232320928783],\n",
       " ['PROCESSING_CODE', 'Interface ID', 0.8226495633029258]]"
      ]
     },
     "execution_count": 21,
     "metadata": {},
     "output_type": "execute_result"
    }
   ],
   "source": [
    "dependent_pair_cramer[:5]"
   ]
  },
  {
   "cell_type": "markdown",
   "metadata": {},
   "source": [
    "#### Fixing threshold, Choosing pair having correlation more than threshold"
   ]
  },
  {
   "cell_type": "code",
   "execution_count": 22,
   "metadata": {},
   "outputs": [],
   "source": [
    "thresold = 0.8"
   ]
  },
  {
   "cell_type": "code",
   "execution_count": 23,
   "metadata": {},
   "outputs": [],
   "source": [
    "# valid_pair = list(map(lambda x: (x[0], x[1]) if (x[2] > thresold) else None , dependent_pair_cramer))\n",
    "# valid_pair = [i for i in valid_pair if i] "
   ]
  },
  {
   "cell_type": "code",
   "execution_count": 24,
   "metadata": {},
   "outputs": [],
   "source": [
    "valid_pair = {}\n",
    "for pairs in dependent_pair_cramer:\n",
    "    if pairs[2] >= thresold:\n",
    "        try:\n",
    "            valid_pair[pairs[0]].append(pairs[1])\n",
    "        except:\n",
    "            valid_pair[pairs[0]] = [pairs[1]]"
   ]
  },
  {
   "cell_type": "code",
   "execution_count": 25,
   "metadata": {},
   "outputs": [
    {
     "data": {
      "text/plain": [
       "{'PROCESSING_CODE': ['Interface ID', 'Terminal Type'],\n",
       " 'ACQUIRING_COUNTRY_CODE': ['ACQUIRER_INSTITUTION_CODE'],\n",
       " 'ACQUIRER_INSTITUTION_CODE': ['Interface ID', 'Terminal Type'],\n",
       " 'Card Service Code': ['Interface ID']}"
      ]
     },
     "execution_count": 25,
     "metadata": {},
     "output_type": "execute_result"
    }
   ],
   "source": [
    "valid_pair"
   ]
  },
  {
   "cell_type": "markdown",
   "metadata": {},
   "source": [
    "#### Choosing sufficient (minimum required) predictor"
   ]
  },
  {
   "cell_type": "markdown",
   "metadata": {},
   "source": [
    "method 1, (valid_pair as list)"
   ]
  },
  {
   "cell_type": "code",
   "execution_count": 26,
   "metadata": {},
   "outputs": [],
   "source": [
    "# final_cat = cat_columns.copy()\n",
    "# temp = [item for sublist in valid_pair for item in sublist]\n",
    "\n",
    "# count = {}\n",
    "# for i in temp:\n",
    "#     try:\n",
    "#         count[i] += 1\n",
    "#     except:\n",
    "#         count[i] = 0\n",
    "        \n",
    "# # count_list = list(count.items())\n",
    "# # count_list.sort(key = lambda x: x[1], reverse = True)\n",
    "\n",
    "# count = {k: v for k, v in sorted(count.items(), key=lambda item: item[1], reverse = True)}"
   ]
  },
  {
   "cell_type": "markdown",
   "metadata": {},
   "source": [
    "Method 2, (valid pair as dictionary)"
   ]
  },
  {
   "cell_type": "code",
   "execution_count": 27,
   "metadata": {},
   "outputs": [],
   "source": [
    "final_cat = cat_columns.copy()\n",
    "\n",
    "for key in valid_pair:\n",
    "    if key not in final_cat:\n",
    "        final_cat.append(key)\n",
    "    for value in valid_pair[key]:\n",
    "        try:\n",
    "            final_cat.remove(value)\n",
    "        except:\n",
    "            continue"
   ]
  },
  {
   "cell_type": "code",
   "execution_count": 28,
   "metadata": {},
   "outputs": [
    {
     "data": {
      "text/plain": [
       "['PROCESSING_CODE',\n",
       " 'Merchant Category Code',\n",
       " 'ACQUIRING_COUNTRY_CODE',\n",
       " 'Card Service Code',\n",
       " 'ACQUIRER_INSTITUTION_CODE']"
      ]
     },
     "execution_count": 28,
     "metadata": {},
     "output_type": "execute_result"
    }
   ],
   "source": [
    "final_cat"
   ]
  },
  {
   "cell_type": "markdown",
   "metadata": {},
   "source": [
    "# Onehot encoding of predictors"
   ]
  },
  {
   "cell_type": "code",
   "execution_count": 35,
   "metadata": {},
   "outputs": [],
   "source": [
    "# final_cat = ['PROCESSING_CODE',\n",
    "#      'Merchant Category Code',\n",
    "#      'ACQUIRING_COUNTRY_CODE',\n",
    "#      'ACQUIRER_INSTITUTION_CODE',\n",
    "#      'Card Service Code',\n",
    "#      'Interface ID',\n",
    "#      'Terminal Type']"
   ]
  },
  {
   "cell_type": "code",
   "execution_count": 55,
   "metadata": {},
   "outputs": [],
   "source": [
    "final_cat = ['PROCESSING_CODE',\n",
    "     'Merchant Category Code',\n",
    "     'ACQUIRING_COUNTRY_CODE',\n",
    "     'ACQUIRER_INSTITUTION_CODE',\n",
    "     'Card Service Code']"
   ]
  },
  {
   "cell_type": "code",
   "execution_count": 56,
   "metadata": {},
   "outputs": [],
   "source": [
    "new_data_1 = pd.DataFrame()\n",
    "encoder = OneHotEncoder(sparse=False)\n",
    "for col in final_cat:\n",
    "    data_temp = data_cat[[col]]\n",
    "    encoder.fit(data_temp.astype('str'))\n",
    "    temp = encoder.transform(data_temp.astype('str'))\n",
    "    temp = pd.DataFrame(temp,columns=[(col+\"_\"+str(i)) for i in data[col].value_counts().index])\n",
    "    temp = temp.set_index(data_cat.index.values)\n",
    "    new_data_1 = pd.concat([new_data_1,temp],axis=1)"
   ]
  },
  {
   "cell_type": "code",
   "execution_count": 57,
   "metadata": {},
   "outputs": [
    {
     "data": {
      "text/html": [
       "<div>\n",
       "<style scoped>\n",
       "    .dataframe tbody tr th:only-of-type {\n",
       "        vertical-align: middle;\n",
       "    }\n",
       "\n",
       "    .dataframe tbody tr th {\n",
       "        vertical-align: top;\n",
       "    }\n",
       "\n",
       "    .dataframe thead th {\n",
       "        text-align: right;\n",
       "    }\n",
       "</style>\n",
       "<table border=\"1\" class=\"dataframe\">\n",
       "  <thead>\n",
       "    <tr style=\"text-align: right;\">\n",
       "      <th></th>\n",
       "      <th>PROCESSING_CODE_000000</th>\n",
       "      <th>PROCESSING_CODE_003000</th>\n",
       "      <th>PROCESSING_CODE_004000</th>\n",
       "      <th>PROCESSING_CODE_173000</th>\n",
       "      <th>PROCESSING_CODE_171000</th>\n",
       "      <th>PROCESSING_CODE_000098</th>\n",
       "      <th>PROCESSING_CODE_172000</th>\n",
       "      <th>PROCESSING_CODE_174000</th>\n",
       "      <th>PROCESSING_CODE_170000</th>\n",
       "      <th>PROCESSING_CODE_000099</th>\n",
       "      <th>...</th>\n",
       "      <th>ACQUIRER_INSTITUTION_CODE_463858</th>\n",
       "      <th>ACQUIRER_INSTITUTION_CODE_493500</th>\n",
       "      <th>ACQUIRER_INSTITUTION_CODE_465882</th>\n",
       "      <th>Card Service Code_226</th>\n",
       "      <th>Card Service Code_???</th>\n",
       "      <th>Card Service Code_206</th>\n",
       "      <th>Card Service Code_201</th>\n",
       "      <th>Card Service Code_101</th>\n",
       "      <th>Card Service Code_126</th>\n",
       "      <th>Card Service Code_000</th>\n",
       "    </tr>\n",
       "  </thead>\n",
       "  <tbody>\n",
       "    <tr>\n",
       "      <td>1</td>\n",
       "      <td>0.0</td>\n",
       "      <td>0.0</td>\n",
       "      <td>0.0</td>\n",
       "      <td>0.0</td>\n",
       "      <td>0.0</td>\n",
       "      <td>0.0</td>\n",
       "      <td>0.0</td>\n",
       "      <td>0.0</td>\n",
       "      <td>0.0</td>\n",
       "      <td>0.0</td>\n",
       "      <td>...</td>\n",
       "      <td>0.0</td>\n",
       "      <td>1.0</td>\n",
       "      <td>0.0</td>\n",
       "      <td>0.0</td>\n",
       "      <td>0.0</td>\n",
       "      <td>0.0</td>\n",
       "      <td>1.0</td>\n",
       "      <td>0.0</td>\n",
       "      <td>0.0</td>\n",
       "      <td>0.0</td>\n",
       "    </tr>\n",
       "    <tr>\n",
       "      <td>2</td>\n",
       "      <td>0.0</td>\n",
       "      <td>0.0</td>\n",
       "      <td>0.0</td>\n",
       "      <td>0.0</td>\n",
       "      <td>0.0</td>\n",
       "      <td>0.0</td>\n",
       "      <td>0.0</td>\n",
       "      <td>0.0</td>\n",
       "      <td>0.0</td>\n",
       "      <td>0.0</td>\n",
       "      <td>...</td>\n",
       "      <td>0.0</td>\n",
       "      <td>1.0</td>\n",
       "      <td>0.0</td>\n",
       "      <td>0.0</td>\n",
       "      <td>0.0</td>\n",
       "      <td>0.0</td>\n",
       "      <td>1.0</td>\n",
       "      <td>0.0</td>\n",
       "      <td>0.0</td>\n",
       "      <td>0.0</td>\n",
       "    </tr>\n",
       "  </tbody>\n",
       "</table>\n",
       "<p>2 rows × 716 columns</p>\n",
       "</div>"
      ],
      "text/plain": [
       "   PROCESSING_CODE_000000  PROCESSING_CODE_003000  PROCESSING_CODE_004000  \\\n",
       "1                     0.0                     0.0                     0.0   \n",
       "2                     0.0                     0.0                     0.0   \n",
       "\n",
       "   PROCESSING_CODE_173000  PROCESSING_CODE_171000  PROCESSING_CODE_000098  \\\n",
       "1                     0.0                     0.0                     0.0   \n",
       "2                     0.0                     0.0                     0.0   \n",
       "\n",
       "   PROCESSING_CODE_172000  PROCESSING_CODE_174000  PROCESSING_CODE_170000  \\\n",
       "1                     0.0                     0.0                     0.0   \n",
       "2                     0.0                     0.0                     0.0   \n",
       "\n",
       "   PROCESSING_CODE_000099  ...  ACQUIRER_INSTITUTION_CODE_463858  \\\n",
       "1                     0.0  ...                               0.0   \n",
       "2                     0.0  ...                               0.0   \n",
       "\n",
       "   ACQUIRER_INSTITUTION_CODE_493500  ACQUIRER_INSTITUTION_CODE_465882  \\\n",
       "1                               1.0                               0.0   \n",
       "2                               1.0                               0.0   \n",
       "\n",
       "   Card Service Code_226  Card Service Code_???  Card Service Code_206  \\\n",
       "1                    0.0                    0.0                    0.0   \n",
       "2                    0.0                    0.0                    0.0   \n",
       "\n",
       "   Card Service Code_201  Card Service Code_101  Card Service Code_126  \\\n",
       "1                    1.0                    0.0                    0.0   \n",
       "2                    1.0                    0.0                    0.0   \n",
       "\n",
       "   Card Service Code_000  \n",
       "1                    0.0  \n",
       "2                    0.0  \n",
       "\n",
       "[2 rows x 716 columns]"
      ]
     },
     "execution_count": 57,
     "metadata": {},
     "output_type": "execute_result"
    }
   ],
   "source": [
    "new_data_1.head(2)"
   ]
  },
  {
   "cell_type": "code",
   "execution_count": 58,
   "metadata": {},
   "outputs": [],
   "source": [
    "input_data = pd.concat([data_num, new_data_1], axis=1)"
   ]
  },
  {
   "cell_type": "code",
   "execution_count": 59,
   "metadata": {},
   "outputs": [
    {
     "data": {
      "text/html": [
       "<div>\n",
       "<style scoped>\n",
       "    .dataframe tbody tr th:only-of-type {\n",
       "        vertical-align: middle;\n",
       "    }\n",
       "\n",
       "    .dataframe tbody tr th {\n",
       "        vertical-align: top;\n",
       "    }\n",
       "\n",
       "    .dataframe thead th {\n",
       "        text-align: right;\n",
       "    }\n",
       "</style>\n",
       "<table border=\"1\" class=\"dataframe\">\n",
       "  <thead>\n",
       "    <tr style=\"text-align: right;\">\n",
       "      <th></th>\n",
       "      <th>TRANSACTION_AMOUNT</th>\n",
       "      <th>SETTLEMENT_AMOUNT</th>\n",
       "      <th>BILLING_AMOUNT</th>\n",
       "      <th>CONVERSION_RATE</th>\n",
       "      <th>PROCESSING_CODE_000000</th>\n",
       "      <th>PROCESSING_CODE_003000</th>\n",
       "      <th>PROCESSING_CODE_004000</th>\n",
       "      <th>PROCESSING_CODE_173000</th>\n",
       "      <th>PROCESSING_CODE_171000</th>\n",
       "      <th>PROCESSING_CODE_000098</th>\n",
       "      <th>...</th>\n",
       "      <th>ACQUIRER_INSTITUTION_CODE_463858</th>\n",
       "      <th>ACQUIRER_INSTITUTION_CODE_493500</th>\n",
       "      <th>ACQUIRER_INSTITUTION_CODE_465882</th>\n",
       "      <th>Card Service Code_226</th>\n",
       "      <th>Card Service Code_???</th>\n",
       "      <th>Card Service Code_206</th>\n",
       "      <th>Card Service Code_201</th>\n",
       "      <th>Card Service Code_101</th>\n",
       "      <th>Card Service Code_126</th>\n",
       "      <th>Card Service Code_000</th>\n",
       "    </tr>\n",
       "  </thead>\n",
       "  <tbody>\n",
       "    <tr>\n",
       "      <td>1</td>\n",
       "      <td>7000</td>\n",
       "      <td>7000</td>\n",
       "      <td>7000</td>\n",
       "      <td>0</td>\n",
       "      <td>0.0</td>\n",
       "      <td>0.0</td>\n",
       "      <td>0.0</td>\n",
       "      <td>0.0</td>\n",
       "      <td>0.0</td>\n",
       "      <td>0.0</td>\n",
       "      <td>...</td>\n",
       "      <td>0.0</td>\n",
       "      <td>1.0</td>\n",
       "      <td>0.0</td>\n",
       "      <td>0.0</td>\n",
       "      <td>0.0</td>\n",
       "      <td>0.0</td>\n",
       "      <td>1.0</td>\n",
       "      <td>0.0</td>\n",
       "      <td>0.0</td>\n",
       "      <td>0.0</td>\n",
       "    </tr>\n",
       "    <tr>\n",
       "      <td>2</td>\n",
       "      <td>2000</td>\n",
       "      <td>2000</td>\n",
       "      <td>2000</td>\n",
       "      <td>0</td>\n",
       "      <td>0.0</td>\n",
       "      <td>0.0</td>\n",
       "      <td>0.0</td>\n",
       "      <td>0.0</td>\n",
       "      <td>0.0</td>\n",
       "      <td>0.0</td>\n",
       "      <td>...</td>\n",
       "      <td>0.0</td>\n",
       "      <td>1.0</td>\n",
       "      <td>0.0</td>\n",
       "      <td>0.0</td>\n",
       "      <td>0.0</td>\n",
       "      <td>0.0</td>\n",
       "      <td>1.0</td>\n",
       "      <td>0.0</td>\n",
       "      <td>0.0</td>\n",
       "      <td>0.0</td>\n",
       "    </tr>\n",
       "  </tbody>\n",
       "</table>\n",
       "<p>2 rows × 720 columns</p>\n",
       "</div>"
      ],
      "text/plain": [
       "  TRANSACTION_AMOUNT SETTLEMENT_AMOUNT BILLING_AMOUNT CONVERSION_RATE  \\\n",
       "1               7000              7000           7000               0   \n",
       "2               2000              2000           2000               0   \n",
       "\n",
       "   PROCESSING_CODE_000000  PROCESSING_CODE_003000  PROCESSING_CODE_004000  \\\n",
       "1                     0.0                     0.0                     0.0   \n",
       "2                     0.0                     0.0                     0.0   \n",
       "\n",
       "   PROCESSING_CODE_173000  PROCESSING_CODE_171000  PROCESSING_CODE_000098  \\\n",
       "1                     0.0                     0.0                     0.0   \n",
       "2                     0.0                     0.0                     0.0   \n",
       "\n",
       "   ...  ACQUIRER_INSTITUTION_CODE_463858  ACQUIRER_INSTITUTION_CODE_493500  \\\n",
       "1  ...                               0.0                               1.0   \n",
       "2  ...                               0.0                               1.0   \n",
       "\n",
       "   ACQUIRER_INSTITUTION_CODE_465882  Card Service Code_226  \\\n",
       "1                               0.0                    0.0   \n",
       "2                               0.0                    0.0   \n",
       "\n",
       "   Card Service Code_???  Card Service Code_206  Card Service Code_201  \\\n",
       "1                    0.0                    0.0                    1.0   \n",
       "2                    0.0                    0.0                    1.0   \n",
       "\n",
       "   Card Service Code_101  Card Service Code_126  Card Service Code_000  \n",
       "1                    0.0                    0.0                    0.0  \n",
       "2                    0.0                    0.0                    0.0  \n",
       "\n",
       "[2 rows x 720 columns]"
      ]
     },
     "execution_count": 59,
     "metadata": {},
     "output_type": "execute_result"
    }
   ],
   "source": [
    "input_data.head(2)"
   ]
  },
  {
   "cell_type": "code",
   "execution_count": 61,
   "metadata": {},
   "outputs": [
    {
     "data": {
      "text/plain": [
       "720"
      ]
     },
     "execution_count": 61,
     "metadata": {},
     "output_type": "execute_result"
    }
   ],
   "source": [
    "len(input_data.columns)"
   ]
  },
  {
   "cell_type": "code",
   "execution_count": 62,
   "metadata": {},
   "outputs": [
    {
     "name": "stdout",
     "output_type": "stream",
     "text": [
      "0.0027650849443468075\n"
     ]
    }
   ],
   "source": [
    "ratio = float(len(target[target == 1]))/float(len(target[target == 0]))\n",
    "print(ratio)"
   ]
  },
  {
   "cell_type": "markdown",
   "metadata": {},
   "source": [
    "# Train_test split"
   ]
  },
  {
   "cell_type": "code",
   "execution_count": 64,
   "metadata": {},
   "outputs": [],
   "source": [
    "input_data.TRANSACTION_AMOUNT = (input_data.TRANSACTION_AMOUNT).astype(\"float32\")\n",
    "input_data.SETTLEMENT_AMOUNT = (input_data.SETTLEMENT_AMOUNT).astype(\"float32\")\n",
    "input_data.BILLING_AMOUNT = (input_data.BILLING_AMOUNT).astype(\"float32\")\n",
    "input_data.CONVERSION_RATE = (input_data.CONVERSION_RATE).astype(\"float32\")"
   ]
  },
  {
   "cell_type": "code",
   "execution_count": 65,
   "metadata": {},
   "outputs": [],
   "source": [
    "X_train, X_test, Y_train, Y_test = train_test_split(input_data, target, test_size = 0.2, random_state = 42)"
   ]
  },
  {
   "cell_type": "markdown",
   "metadata": {},
   "source": [
    "# Model 1 - Random forest"
   ]
  },
  {
   "cell_type": "code",
   "execution_count": 66,
   "metadata": {},
   "outputs": [
    {
     "data": {
      "text/plain": [
       "dtype('float64')"
      ]
     },
     "execution_count": 66,
     "metadata": {},
     "output_type": "execute_result"
    }
   ],
   "source": [
    "Y_test = Y_test.astype('float64') \n",
    "Y_train = Y_train.astype('float64')\n",
    "Y_test.dtype"
   ]
  },
  {
   "cell_type": "code",
   "execution_count": 67,
   "metadata": {
    "scrolled": true
   },
   "outputs": [
    {
     "data": {
      "text/plain": [
       "RandomForestClassifier(bootstrap=True, ccp_alpha=0.0, class_weight=None,\n",
       "                       criterion='gini', max_depth=None, max_features='auto',\n",
       "                       max_leaf_nodes=None, max_samples=None,\n",
       "                       min_impurity_decrease=0.0, min_impurity_split=None,\n",
       "                       min_samples_leaf=1, min_samples_split=2,\n",
       "                       min_weight_fraction_leaf=0.0, n_estimators=100,\n",
       "                       n_jobs=None, oob_score=False, random_state=None,\n",
       "                       verbose=0, warm_start=False)"
      ]
     },
     "execution_count": 67,
     "metadata": {},
     "output_type": "execute_result"
    }
   ],
   "source": [
    "model_rf = RandomForestClassifier()\n",
    "model_rf.fit(X_train,Y_train)"
   ]
  },
  {
   "cell_type": "code",
   "execution_count": 68,
   "metadata": {},
   "outputs": [],
   "source": [
    "y_pred_rf = model_rf.predict(X_test)"
   ]
  },
  {
   "cell_type": "markdown",
   "metadata": {},
   "source": [
    "### Scores"
   ]
  },
  {
   "cell_type": "markdown",
   "metadata": {},
   "source": [
    "##### Accuracy"
   ]
  },
  {
   "cell_type": "code",
   "execution_count": 69,
   "metadata": {},
   "outputs": [
    {
     "data": {
      "text/plain": [
       "0.9982474588152822"
      ]
     },
     "execution_count": 69,
     "metadata": {},
     "output_type": "execute_result"
    }
   ],
   "source": [
    "accuracy_score(Y_test,y_pred_rf)"
   ]
  },
  {
   "cell_type": "markdown",
   "metadata": {},
   "source": [
    "##### Precision"
   ]
  },
  {
   "cell_type": "code",
   "execution_count": 70,
   "metadata": {},
   "outputs": [
    {
     "data": {
      "text/plain": [
       "0.8571428571428571"
      ]
     },
     "execution_count": 70,
     "metadata": {},
     "output_type": "execute_result"
    }
   ],
   "source": [
    "precision_score(Y_test,y_pred_rf)"
   ]
  },
  {
   "cell_type": "markdown",
   "metadata": {},
   "source": [
    "##### Recall"
   ]
  },
  {
   "cell_type": "code",
   "execution_count": 71,
   "metadata": {},
   "outputs": [
    {
     "data": {
      "text/plain": [
       "0.6"
      ]
     },
     "execution_count": 71,
     "metadata": {},
     "output_type": "execute_result"
    }
   ],
   "source": [
    "recall_score(Y_test,y_pred_rf)"
   ]
  },
  {
   "cell_type": "markdown",
   "metadata": {},
   "source": [
    "# Model 2 - Neural Network"
   ]
  },
  {
   "cell_type": "markdown",
   "metadata": {},
   "source": [
    "### Defining functions"
   ]
  },
  {
   "cell_type": "code",
   "execution_count": 73,
   "metadata": {},
   "outputs": [],
   "source": [
    "def recall_m(y_true, y_pred):\n",
    "    true_positives = K.sum(K.round(K.clip(y_true * y_pred, 0, 1)))\n",
    "    possible_positives = K.sum(K.round(K.clip(y_true, 0, 1)))\n",
    "    recall = true_positives / (possible_positives + K.epsilon())\n",
    "    return recall"
   ]
  },
  {
   "cell_type": "code",
   "execution_count": 74,
   "metadata": {},
   "outputs": [],
   "source": [
    "def fit_model(train_X, train_Y):\n",
    "    length = len(list(X_train.columns))\n",
    "\n",
    "    model = Sequential()\n",
    "    model.add(Dense(128, input_dim = length, activation='relu'))\n",
    "    model.add(Dense(8, activation='relu'))\n",
    "#     model.add(Dense(1, activation='softmax'))\n",
    "    model.add(Dense(1, activation='sigmoid'))\n",
    "\n",
    "    model.compile(loss = 'binary_crossentropy', optimizer = 'adam', metrics = [recall_m, \"acc\"])\n",
    "    model.fit(train_X, train_Y, epochs = 10, batch_size = 512)\n",
    "    \n",
    "    return(model)"
   ]
  },
  {
   "cell_type": "code",
   "execution_count": 75,
   "metadata": {},
   "outputs": [],
   "source": [
    "def predict(model, test_X):\n",
    "    return(model.predict(test_X))"
   ]
  },
  {
   "cell_type": "code",
   "execution_count": 76,
   "metadata": {},
   "outputs": [],
   "source": [
    "def score(predicted, test_Y):\n",
    "    acc = accuracy_score(test_Y, predicted)\n",
    "    recall = recall_score(test_Y, predicted)\n",
    "    prec = precision_score(test_Y, predicted)\n",
    "    \n",
    "    print(\"Accuracy:: {} \\nRecall :: {} \\nPrecision:: {}\".format(acc, recall, prec))\n",
    "    \n",
    "    return(acc, recall, prec)"
   ]
  },
  {
   "cell_type": "markdown",
   "metadata": {},
   "source": [
    "### Model and score"
   ]
  },
  {
   "cell_type": "code",
   "execution_count": 78,
   "metadata": {},
   "outputs": [
    {
     "name": "stdout",
     "output_type": "stream",
     "text": [
      "Epoch 1/10\n",
      "34234/34234 [==============================] - 1s 32us/step - loss: 13.9889 - recall_m: 0.2323 - acc: 0.1193\n",
      "Epoch 2/10\n",
      "34234/34234 [==============================] - 1s 22us/step - loss: 13.7236 - recall_m: 0.0848 - acc: 0.1390\n",
      "Epoch 3/10\n",
      "34234/34234 [==============================] - 1s 22us/step - loss: 3.8800 - recall_m: 0.0905 - acc: 0.7564\n",
      "Epoch 4/10\n",
      "34234/34234 [==============================] - 1s 22us/step - loss: 0.0289 - recall_m: 0.1157 - acc: 0.9978\n",
      "Epoch 5/10\n",
      "34234/34234 [==============================] - 1s 22us/step - loss: 0.0299 - recall_m: 0.0997 - acc: 0.9978\n",
      "Epoch 6/10\n",
      "34234/34234 [==============================] - 1s 22us/step - loss: 0.0324 - recall_m: 0.0877 - acc: 0.9978\n",
      "Epoch 7/10\n",
      "34234/34234 [==============================] - 1s 22us/step - loss: 0.0300 - recall_m: 0.1595 - acc: 0.9978\n",
      "Epoch 8/10\n",
      "34234/34234 [==============================] - 1s 22us/step - loss: 0.0318 - recall_m: 0.1271 - acc: 0.9971\n",
      "Epoch 9/10\n",
      "34234/34234 [==============================] - 1s 22us/step - loss: 0.0366 - recall_m: 0.0461 - acc: 0.9976\n",
      "Epoch 10/10\n",
      "34234/34234 [==============================] - 1s 29us/step - loss: 0.0373 - recall_m: 0.0553 - acc: 0.9976\n"
     ]
    }
   ],
   "source": [
    "model = fit_model(X_train, Y_train)"
   ]
  },
  {
   "cell_type": "code",
   "execution_count": 79,
   "metadata": {},
   "outputs": [
    {
     "name": "stdout",
     "output_type": "stream",
     "text": [
      "Accuracy:: 0.9967285897885267 \n",
      "Recall :: 0.06666666666666667 \n",
      "Precision:: 1.0\n"
     ]
    }
   ],
   "source": [
    "predicted = predict(model, X_test)\n",
    "acc, recl, prec = score(predicted.flatten().round(), Y_test)"
   ]
  },
  {
   "cell_type": "markdown",
   "metadata": {},
   "source": [
    "# Model 3 - AdaBoostClassifier"
   ]
  },
  {
   "cell_type": "code",
   "execution_count": 80,
   "metadata": {},
   "outputs": [
    {
     "data": {
      "text/plain": [
       "AdaBoostClassifier(algorithm='SAMME.R', base_estimator=None, learning_rate=1,\n",
       "                   n_estimators=50, random_state=None)"
      ]
     },
     "execution_count": 80,
     "metadata": {},
     "output_type": "execute_result"
    }
   ],
   "source": [
    "model_abc = AdaBoostClassifier(n_estimators=50, learning_rate=1)\n",
    "model_abc.fit(X_train, Y_train)"
   ]
  },
  {
   "cell_type": "code",
   "execution_count": 107,
   "metadata": {},
   "outputs": [
    {
     "name": "stdout",
     "output_type": "stream",
     "text": [
      "Accuracy:: 0.972193013202477 \n",
      "Recall :: 0.8666666666666667 \n",
      "Precision:: 0.1\n"
     ]
    }
   ],
   "source": [
    "predicted = predict(model_abc, X_test)\n",
    "acc, recl, prec = score(predicted.flatten().round(), Y_test)"
   ]
  },
  {
   "cell_type": "markdown",
   "metadata": {},
   "source": [
    "# Model 4 - XGBoost"
   ]
  },
  {
   "cell_type": "code",
   "execution_count": 108,
   "metadata": {},
   "outputs": [
    {
     "data": {
      "text/plain": [
       "XGBClassifier(base_score=0.5, booster='gbtree', colsample_bylevel=1,\n",
       "              colsample_bynode=1, colsample_bytree=1, gamma=0,\n",
       "              learning_rate=0.1, max_delta_step=0, max_depth=3,\n",
       "              min_child_weight=1, missing=None, n_estimators=100, n_jobs=1,\n",
       "              nthread=None, objective='binary:logistic', random_state=0,\n",
       "              reg_alpha=0, reg_lambda=1, scale_pos_weight=1, seed=None,\n",
       "              silent=None, subsample=1, verbosity=1)"
      ]
     },
     "execution_count": 108,
     "metadata": {},
     "output_type": "execute_result"
    }
   ],
   "source": [
    "model_xgb = XGBClassifier()\n",
    "model_xgb.fit(X_train, Y_train)"
   ]
  },
  {
   "cell_type": "code",
   "execution_count": 83,
   "metadata": {},
   "outputs": [
    {
     "name": "stdout",
     "output_type": "stream",
     "text": [
      "Accuracy:: 0.9974296062624138 \n",
      "Recall :: 0.26666666666666666 \n",
      "Precision:: 1.0\n"
     ]
    }
   ],
   "source": [
    "predicted = predict(model_xgb, X_test)\n",
    "acc, recl, prec = score(predicted.flatten().round(), Y_test)"
   ]
  },
  {
   "cell_type": "markdown",
   "metadata": {},
   "source": [
    "# Use of over sampling"
   ]
  },
  {
   "cell_type": "code",
   "execution_count": 84,
   "metadata": {},
   "outputs": [],
   "source": [
    "from imblearn.over_sampling import RandomOverSampler\n",
    "ros = RandomOverSampler(random_state = 0)\n",
    "X_resampled, y_resampled = ros.fit_resample(X_train, Y_train)"
   ]
  },
  {
   "cell_type": "code",
   "execution_count": 99,
   "metadata": {},
   "outputs": [
    {
     "data": {
      "text/plain": [
       "34146"
      ]
     },
     "execution_count": 99,
     "metadata": {},
     "output_type": "execute_result"
    }
   ],
   "source": [
    "len(y_resampled[y_resampled == 0])"
   ]
  },
  {
   "cell_type": "code",
   "execution_count": 100,
   "metadata": {},
   "outputs": [
    {
     "data": {
      "text/plain": [
       "34146"
      ]
     },
     "execution_count": 100,
     "metadata": {},
     "output_type": "execute_result"
    }
   ],
   "source": [
    "len(y_resampled[y_resampled == 1])"
   ]
  },
  {
   "cell_type": "markdown",
   "metadata": {},
   "source": [
    "## Random forest"
   ]
  },
  {
   "cell_type": "code",
   "execution_count": 101,
   "metadata": {},
   "outputs": [
    {
     "name": "stdout",
     "output_type": "stream",
     "text": [
      "Accuracy:: 0.9976632784203762 \n",
      "Recall :: 0.6 \n",
      "Precision:: 0.6923076923076923\n"
     ]
    }
   ],
   "source": [
    "model_rf = RandomForestClassifier()\n",
    "model_rf.fit(X_resampled, y_resampled)\n",
    "\n",
    "y_pred_rf = model_rf.predict(X_test)\n",
    "\n",
    "acc, recl, prec = score(y_pred_rf, Y_test)"
   ]
  },
  {
   "cell_type": "markdown",
   "metadata": {},
   "source": [
    "## NN"
   ]
  },
  {
   "cell_type": "code",
   "execution_count": 104,
   "metadata": {},
   "outputs": [
    {
     "name": "stdout",
     "output_type": "stream",
     "text": [
      "Epoch 1/10\n",
      "68292/68292 [==============================] - 2s 31us/step - loss: 8.3210 - recall_m: 0.9130 - acc: 0.4644\n",
      "Epoch 2/10\n",
      "68292/68292 [==============================] - 2s 26us/step - loss: 7.7502 - recall_m: 0.9998 - acc: 0.4999\n",
      "Epoch 3/10\n",
      "68292/68292 [==============================] - 2s 27us/step - loss: 2.7171 - recall_m: 1.0000 - acc: 0.7793\n",
      "Epoch 4/10\n",
      "68292/68292 [==============================] - 2s 26us/step - loss: 0.2812 - recall_m: 0.9999 - acc: 0.9305\n",
      "Epoch 5/10\n",
      "68292/68292 [==============================] - 2s 26us/step - loss: 0.2666 - recall_m: 1.0000 - acc: 0.9306\n",
      "Epoch 6/10\n",
      "68292/68292 [==============================] - 2s 26us/step - loss: 0.2531 - recall_m: 1.0000 - acc: 0.9306\n",
      "Epoch 7/10\n",
      "68292/68292 [==============================] - 2s 26us/step - loss: 0.2412 - recall_m: 1.0000 - acc: 0.9309\n",
      "Epoch 8/10\n",
      "68292/68292 [==============================] - 2s 26us/step - loss: 0.2307 - recall_m: 0.9999 - acc: 0.9308\n",
      "Epoch 9/10\n",
      "68292/68292 [==============================] - 2s 28us/step - loss: 0.2274 - recall_m: 1.0000 - acc: 0.9307\n",
      "Epoch 10/10\n",
      "68292/68292 [==============================] - 2s 27us/step - loss: 0.2415 - recall_m: 0.9953 - acc: 0.9289\n",
      "Accuracy:: 0.865521673092651 \n",
      "Recall :: 1.0 \n",
      "Precision:: 0.02540220152413209\n"
     ]
    }
   ],
   "source": [
    "model_nn = fit_model(X_resampled, y_resampled)\n",
    "\n",
    "predicted = predict(model_nn, X_test)\n",
    "acc, recl, prec = score(predicted.flatten().round(), Y_test)"
   ]
  },
  {
   "cell_type": "markdown",
   "metadata": {},
   "source": [
    "## Adaboost"
   ]
  },
  {
   "cell_type": "code",
   "execution_count": 105,
   "metadata": {},
   "outputs": [
    {
     "name": "stdout",
     "output_type": "stream",
     "text": [
      "Accuracy:: 0.972193013202477 \n",
      "Recall :: 0.8666666666666667 \n",
      "Precision:: 0.1\n"
     ]
    }
   ],
   "source": [
    "model_abc = AdaBoostClassifier(n_estimators=50, learning_rate=1)\n",
    "model_abc.fit(X_resampled, y_resampled)\n",
    "\n",
    "predicted = predict(model_abc, X_test)\n",
    "acc, recl, prec = score(predicted.flatten().round(), Y_test)"
   ]
  },
  {
   "cell_type": "markdown",
   "metadata": {},
   "source": [
    "## XGboost"
   ]
  },
  {
   "cell_type": "code",
   "execution_count": 106,
   "metadata": {},
   "outputs": [
    {
     "name": "stdout",
     "output_type": "stream",
     "text": [
      "Accuracy:: 0.9726603575184016 \n",
      "Recall :: 0.8333333333333334 \n",
      "Precision:: 0.0984251968503937\n"
     ]
    }
   ],
   "source": [
    "model_xgb = XGBClassifier()\n",
    "model_xgb.fit(X_resampled, y_resampled)\n",
    "\n",
    "predicted = predict(model_xgb, X_test)\n",
    "acc, recl, prec = score(predicted.flatten().round(), Y_test)"
   ]
  },
  {
   "cell_type": "markdown",
   "metadata": {},
   "source": [
    "# Rough"
   ]
  },
  {
   "cell_type": "code",
   "execution_count": null,
   "metadata": {},
   "outputs": [],
   "source": []
  }
 ],
 "metadata": {
  "kernelspec": {
   "display_name": "Python 3",
   "language": "python",
   "name": "python3"
  },
  "language_info": {
   "codemirror_mode": {
    "name": "ipython",
    "version": 3
   },
   "file_extension": ".py",
   "mimetype": "text/x-python",
   "name": "python",
   "nbconvert_exporter": "python",
   "pygments_lexer": "ipython3",
   "version": "3.6.8"
  }
 },
 "nbformat": 4,
 "nbformat_minor": 2
}

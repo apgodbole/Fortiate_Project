{
 "cells": [
  {
   "cell_type": "markdown",
   "metadata": {},
   "source": [
    "# Importing data"
   ]
  },
  {
   "cell_type": "code",
   "execution_count": 35,
   "metadata": {},
   "outputs": [],
   "source": [
    "from sklearn.model_selection import train_test_split\n",
    "from scipy.stats import chi2_contingency as chi_test\n",
    "from sklearn.ensemble import RandomForestClassifier\n",
    "from sklearn.preprocessing import OneHotEncoder\n",
    "from sklearn.metrics import precision_score\n",
    "from sklearn.metrics import accuracy_score\n",
    "from sklearn.metrics import recall_score\n",
    "import pandas as pd\n",
    "import numpy as np\n",
    "import pycm\n",
    "\n",
    "import warnings\n",
    "warnings.filterwarnings(\"ignore\")"
   ]
  },
  {
   "cell_type": "markdown",
   "metadata": {},
   "source": [
    "# Importing data"
   ]
  },
  {
   "cell_type": "code",
   "execution_count": 2,
   "metadata": {},
   "outputs": [],
   "source": [
    "data = pd.read_excel(r\"D:\\Academics\\CMI\\Internship\\Fortiate\\DST-1_Dimensionality\\Data\\data_with_target.xlsx\")"
   ]
  },
  {
   "cell_type": "markdown",
   "metadata": {},
   "source": [
    "# Preprocessing"
   ]
  },
  {
   "cell_type": "markdown",
   "metadata": {},
   "source": [
    "### Header to code mapper"
   ]
  },
  {
   "cell_type": "code",
   "execution_count": 3,
   "metadata": {},
   "outputs": [],
   "source": [
    "map_head_code = dict(list(zip(list(data.loc[0, :]), list(data.columns))))"
   ]
  },
  {
   "cell_type": "code",
   "execution_count": 4,
   "metadata": {},
   "outputs": [
    {
     "data": {
      "text/html": [
       "<div>\n",
       "<style scoped>\n",
       "    .dataframe tbody tr th:only-of-type {\n",
       "        vertical-align: middle;\n",
       "    }\n",
       "\n",
       "    .dataframe tbody tr th {\n",
       "        vertical-align: top;\n",
       "    }\n",
       "\n",
       "    .dataframe thead th {\n",
       "        text-align: right;\n",
       "    }\n",
       "</style>\n",
       "<table border=\"1\" class=\"dataframe\">\n",
       "  <thead>\n",
       "    <tr style=\"text-align: right;\">\n",
       "      <th></th>\n",
       "      <th>Card-Wallet-Token ID</th>\n",
       "      <th>PROCESSING_CODE</th>\n",
       "      <th>TRANSACTION_AMOUNT</th>\n",
       "      <th>SETTLEMENT_AMOUNT</th>\n",
       "      <th>BILLING_AMOUNT</th>\n",
       "      <th>Transaction Date and Time</th>\n",
       "      <th>CONVERSION_RATE</th>\n",
       "      <th>Expiry Date</th>\n",
       "      <th>CONVERSION_RATE_DATE</th>\n",
       "      <th>Merchant Category Code</th>\n",
       "      <th>...</th>\n",
       "      <th>Interface ID</th>\n",
       "      <th>Terminal Type</th>\n",
       "      <th>Token Data-C1</th>\n",
       "      <th>Additional Payment Info</th>\n",
       "      <th>Ecommerce Data</th>\n",
       "      <th>ECI Indicator</th>\n",
       "      <th>Remaining Balance</th>\n",
       "      <th>Private Data - Additional Info</th>\n",
       "      <th>Token Data</th>\n",
       "      <th>TARGET</th>\n",
       "    </tr>\n",
       "  </thead>\n",
       "  <tbody>\n",
       "    <tr>\n",
       "      <td>0</td>\n",
       "      <td>DE2</td>\n",
       "      <td>DE3</td>\n",
       "      <td>DE4</td>\n",
       "      <td>DE5</td>\n",
       "      <td>DE6</td>\n",
       "      <td>DE7</td>\n",
       "      <td>DE9</td>\n",
       "      <td>DE14</td>\n",
       "      <td>DE16</td>\n",
       "      <td>DE18</td>\n",
       "      <td>...</td>\n",
       "      <td>DE4801</td>\n",
       "      <td>DE4801</td>\n",
       "      <td>DE4803</td>\n",
       "      <td>DE4804</td>\n",
       "      <td>DE4805</td>\n",
       "      <td>DE4806</td>\n",
       "      <td>DE4807</td>\n",
       "      <td>DE4808</td>\n",
       "      <td>DE4809</td>\n",
       "      <td>DE4810</td>\n",
       "    </tr>\n",
       "    <tr>\n",
       "      <td>1</td>\n",
       "      <td>6086941819072010</td>\n",
       "      <td>174000</td>\n",
       "      <td>7000</td>\n",
       "      <td>7000</td>\n",
       "      <td>7000</td>\n",
       "      <td>22-MAR-18 09.10.37</td>\n",
       "      <td>0</td>\n",
       "      <td>01-JUL-23 00.00.00</td>\n",
       "      <td>NaN</td>\n",
       "      <td>6011</td>\n",
       "      <td>...</td>\n",
       "      <td>IN1</td>\n",
       "      <td>ATM</td>\n",
       "      <td>0917</td>\n",
       "      <td>NaN</td>\n",
       "      <td>NaN</td>\n",
       "      <td>NaN</td>\n",
       "      <td>35000</td>\n",
       "      <td>NaN</td>\n",
       "      <td>NaN</td>\n",
       "      <td>0</td>\n",
       "    </tr>\n",
       "  </tbody>\n",
       "</table>\n",
       "<p>2 rows × 36 columns</p>\n",
       "</div>"
      ],
      "text/plain": [
       "  Card-Wallet-Token ID PROCESSING_CODE TRANSACTION_AMOUNT SETTLEMENT_AMOUNT  \\\n",
       "0                  DE2             DE3                DE4               DE5   \n",
       "1     6086941819072010          174000               7000              7000   \n",
       "\n",
       "  BILLING_AMOUNT Transaction Date and Time CONVERSION_RATE  \\\n",
       "0            DE6                       DE7             DE9   \n",
       "1           7000        22-MAR-18 09.10.37               0   \n",
       "\n",
       "          Expiry Date CONVERSION_RATE_DATE Merchant Category Code  ...  \\\n",
       "0                DE14                 DE16                   DE18  ...   \n",
       "1  01-JUL-23 00.00.00                  NaN                   6011  ...   \n",
       "\n",
       "  Interface ID Terminal Type Token Data-C1 Additional Payment Info  \\\n",
       "0       DE4801        DE4801        DE4803                  DE4804   \n",
       "1          IN1           ATM          0917                     NaN   \n",
       "\n",
       "  Ecommerce Data ECI Indicator Remaining Balance  \\\n",
       "0         DE4805        DE4806            DE4807   \n",
       "1            NaN           NaN             35000   \n",
       "\n",
       "  Private Data - Additional Info Token Data  TARGET  \n",
       "0                         DE4808     DE4809  DE4810  \n",
       "1                            NaN        NaN       0  \n",
       "\n",
       "[2 rows x 36 columns]"
      ]
     },
     "execution_count": 4,
     "metadata": {},
     "output_type": "execute_result"
    }
   ],
   "source": [
    "data.head(2)"
   ]
  },
  {
   "cell_type": "markdown",
   "metadata": {},
   "source": [
    "### Removing 1st row, Code"
   ]
  },
  {
   "cell_type": "code",
   "execution_count": 5,
   "metadata": {},
   "outputs": [],
   "source": [
    "data = data.drop(0)"
   ]
  },
  {
   "cell_type": "markdown",
   "metadata": {},
   "source": [
    "### Removing not required colums"
   ]
  },
  {
   "cell_type": "code",
   "execution_count": 6,
   "metadata": {},
   "outputs": [],
   "source": [
    "not_required = [\"CONVERSION_RATE_DATE\", \"Private Data 48\", \"Transaction Category Code\", \"DE48 Data Length\", \"Additional Payment Info\", \"Ecommerce Data\", \"ECI Indicator\", \"Private Data - Additional Info\", \"Token Data\", \"POS entry Mode\", \"Remaining Balance\", \"Token Data-C1\"]"
   ]
  },
  {
   "cell_type": "code",
   "execution_count": 7,
   "metadata": {},
   "outputs": [],
   "source": [
    "data = data.drop(not_required, axis=1)\n",
    "data = data.dropna()"
   ]
  },
  {
   "cell_type": "code",
   "execution_count": 8,
   "metadata": {},
   "outputs": [
    {
     "data": {
      "text/html": [
       "<div>\n",
       "<style scoped>\n",
       "    .dataframe tbody tr th:only-of-type {\n",
       "        vertical-align: middle;\n",
       "    }\n",
       "\n",
       "    .dataframe tbody tr th {\n",
       "        vertical-align: top;\n",
       "    }\n",
       "\n",
       "    .dataframe thead th {\n",
       "        text-align: right;\n",
       "    }\n",
       "</style>\n",
       "<table border=\"1\" class=\"dataframe\">\n",
       "  <thead>\n",
       "    <tr style=\"text-align: right;\">\n",
       "      <th></th>\n",
       "      <th>Card-Wallet-Token ID</th>\n",
       "      <th>PROCESSING_CODE</th>\n",
       "      <th>TRANSACTION_AMOUNT</th>\n",
       "      <th>SETTLEMENT_AMOUNT</th>\n",
       "      <th>BILLING_AMOUNT</th>\n",
       "      <th>Transaction Date and Time</th>\n",
       "      <th>CONVERSION_RATE</th>\n",
       "      <th>Expiry Date</th>\n",
       "      <th>Merchant Category Code</th>\n",
       "      <th>ACQUIRING_COUNTRY_CODE</th>\n",
       "      <th>...</th>\n",
       "      <th>TID</th>\n",
       "      <th>MID</th>\n",
       "      <th>MERCHANT NAME AND ADDRESS</th>\n",
       "      <th>TRANSACTION_CURRENCY</th>\n",
       "      <th>SETTLEMENT_CURRENCY</th>\n",
       "      <th>BILLING_CURRENCY</th>\n",
       "      <th>POS_DATA</th>\n",
       "      <th>Interface ID</th>\n",
       "      <th>Terminal Type</th>\n",
       "      <th>TARGET</th>\n",
       "    </tr>\n",
       "  </thead>\n",
       "  <tbody>\n",
       "    <tr>\n",
       "      <td>1</td>\n",
       "      <td>6086941819072010</td>\n",
       "      <td>174000</td>\n",
       "      <td>7000</td>\n",
       "      <td>7000</td>\n",
       "      <td>7000</td>\n",
       "      <td>22-MAR-18 09.10.37</td>\n",
       "      <td>0</td>\n",
       "      <td>01-JUL-23 00.00.00</td>\n",
       "      <td>6011</td>\n",
       "      <td>356</td>\n",
       "      <td>...</td>\n",
       "      <td>GYACBB04</td>\n",
       "      <td>1005044921</td>\n",
       "      <td>LXFC BTNK LTD.KHURDT OR IN</td>\n",
       "      <td>356</td>\n",
       "      <td>356</td>\n",
       "      <td>356</td>\n",
       "      <td>210201210141</td>\n",
       "      <td>IN1</td>\n",
       "      <td>ATM</td>\n",
       "      <td>0</td>\n",
       "    </tr>\n",
       "    <tr>\n",
       "      <td>2</td>\n",
       "      <td>6086941026163000</td>\n",
       "      <td>174000</td>\n",
       "      <td>2000</td>\n",
       "      <td>2000</td>\n",
       "      <td>2000</td>\n",
       "      <td>22-MAR-18 12.28.15</td>\n",
       "      <td>0</td>\n",
       "      <td>01-DEC-22 00.00.00</td>\n",
       "      <td>6011</td>\n",
       "      <td>356</td>\n",
       "      <td>...</td>\n",
       "      <td>JSEWLK06</td>\n",
       "      <td>1005044921</td>\n",
       "      <td>LXFC BTNK LTD.LUCKNOWUP IN</td>\n",
       "      <td>356</td>\n",
       "      <td>356</td>\n",
       "      <td>356</td>\n",
       "      <td>210201210141</td>\n",
       "      <td>IN1</td>\n",
       "      <td>ATM</td>\n",
       "      <td>0</td>\n",
       "    </tr>\n",
       "  </tbody>\n",
       "</table>\n",
       "<p>2 rows × 24 columns</p>\n",
       "</div>"
      ],
      "text/plain": [
       "  Card-Wallet-Token ID PROCESSING_CODE TRANSACTION_AMOUNT SETTLEMENT_AMOUNT  \\\n",
       "1     6086941819072010          174000               7000              7000   \n",
       "2     6086941026163000          174000               2000              2000   \n",
       "\n",
       "  BILLING_AMOUNT Transaction Date and Time CONVERSION_RATE  \\\n",
       "1           7000        22-MAR-18 09.10.37               0   \n",
       "2           2000        22-MAR-18 12.28.15               0   \n",
       "\n",
       "          Expiry Date Merchant Category Code ACQUIRING_COUNTRY_CODE  ...  \\\n",
       "1  01-JUL-23 00.00.00                   6011                    356  ...   \n",
       "2  01-DEC-22 00.00.00                   6011                    356  ...   \n",
       "\n",
       "        TID         MID   MERCHANT NAME AND ADDRESS TRANSACTION_CURRENCY  \\\n",
       "1  GYACBB04  1005044921  LXFC BTNK LTD.KHURDT OR IN                  356   \n",
       "2  JSEWLK06  1005044921  LXFC BTNK LTD.LUCKNOWUP IN                  356   \n",
       "\n",
       "  SETTLEMENT_CURRENCY BILLING_CURRENCY      POS_DATA Interface ID  \\\n",
       "1                 356              356  210201210141          IN1   \n",
       "2                 356              356  210201210141          IN1   \n",
       "\n",
       "  Terminal Type TARGET  \n",
       "1           ATM      0  \n",
       "2           ATM      0  \n",
       "\n",
       "[2 rows x 24 columns]"
      ]
     },
     "execution_count": 8,
     "metadata": {},
     "output_type": "execute_result"
    }
   ],
   "source": [
    "data.head(2)"
   ]
  },
  {
   "cell_type": "markdown",
   "metadata": {},
   "source": [
    "### Storing target"
   ]
  },
  {
   "cell_type": "code",
   "execution_count": 9,
   "metadata": {},
   "outputs": [],
   "source": [
    "target = data.TARGET"
   ]
  },
  {
   "cell_type": "code",
   "execution_count": 10,
   "metadata": {},
   "outputs": [
    {
     "name": "stdout",
     "output_type": "stream",
     "text": [
      "42793\n",
      "118\n"
     ]
    }
   ],
   "source": [
    "print(len(data))\n",
    "print(len(target[target == 1]))"
   ]
  },
  {
   "cell_type": "code",
   "execution_count": 11,
   "metadata": {},
   "outputs": [
    {
     "data": {
      "text/html": [
       "<div>\n",
       "<style scoped>\n",
       "    .dataframe tbody tr th:only-of-type {\n",
       "        vertical-align: middle;\n",
       "    }\n",
       "\n",
       "    .dataframe tbody tr th {\n",
       "        vertical-align: top;\n",
       "    }\n",
       "\n",
       "    .dataframe thead th {\n",
       "        text-align: right;\n",
       "    }\n",
       "</style>\n",
       "<table border=\"1\" class=\"dataframe\">\n",
       "  <thead>\n",
       "    <tr style=\"text-align: right;\">\n",
       "      <th></th>\n",
       "      <th>Card-Wallet-Token ID</th>\n",
       "      <th>PROCESSING_CODE</th>\n",
       "      <th>TRANSACTION_AMOUNT</th>\n",
       "      <th>SETTLEMENT_AMOUNT</th>\n",
       "      <th>BILLING_AMOUNT</th>\n",
       "      <th>Transaction Date and Time</th>\n",
       "      <th>CONVERSION_RATE</th>\n",
       "      <th>Expiry Date</th>\n",
       "      <th>Merchant Category Code</th>\n",
       "      <th>ACQUIRING_COUNTRY_CODE</th>\n",
       "      <th>...</th>\n",
       "      <th>TID</th>\n",
       "      <th>MID</th>\n",
       "      <th>MERCHANT NAME AND ADDRESS</th>\n",
       "      <th>TRANSACTION_CURRENCY</th>\n",
       "      <th>SETTLEMENT_CURRENCY</th>\n",
       "      <th>BILLING_CURRENCY</th>\n",
       "      <th>POS_DATA</th>\n",
       "      <th>Interface ID</th>\n",
       "      <th>Terminal Type</th>\n",
       "      <th>TARGET</th>\n",
       "    </tr>\n",
       "  </thead>\n",
       "  <tbody>\n",
       "    <tr>\n",
       "      <td>1</td>\n",
       "      <td>6086941819072010</td>\n",
       "      <td>174000</td>\n",
       "      <td>7000</td>\n",
       "      <td>7000</td>\n",
       "      <td>7000</td>\n",
       "      <td>22-MAR-18 09.10.37</td>\n",
       "      <td>0</td>\n",
       "      <td>01-JUL-23 00.00.00</td>\n",
       "      <td>6011</td>\n",
       "      <td>356</td>\n",
       "      <td>...</td>\n",
       "      <td>GYACBB04</td>\n",
       "      <td>1005044921</td>\n",
       "      <td>LXFC BTNK LTD.KHURDT OR IN</td>\n",
       "      <td>356</td>\n",
       "      <td>356</td>\n",
       "      <td>356</td>\n",
       "      <td>210201210141</td>\n",
       "      <td>IN1</td>\n",
       "      <td>ATM</td>\n",
       "      <td>0</td>\n",
       "    </tr>\n",
       "    <tr>\n",
       "      <td>2</td>\n",
       "      <td>6086941026163000</td>\n",
       "      <td>174000</td>\n",
       "      <td>2000</td>\n",
       "      <td>2000</td>\n",
       "      <td>2000</td>\n",
       "      <td>22-MAR-18 12.28.15</td>\n",
       "      <td>0</td>\n",
       "      <td>01-DEC-22 00.00.00</td>\n",
       "      <td>6011</td>\n",
       "      <td>356</td>\n",
       "      <td>...</td>\n",
       "      <td>JSEWLK06</td>\n",
       "      <td>1005044921</td>\n",
       "      <td>LXFC BTNK LTD.LUCKNOWUP IN</td>\n",
       "      <td>356</td>\n",
       "      <td>356</td>\n",
       "      <td>356</td>\n",
       "      <td>210201210141</td>\n",
       "      <td>IN1</td>\n",
       "      <td>ATM</td>\n",
       "      <td>0</td>\n",
       "    </tr>\n",
       "  </tbody>\n",
       "</table>\n",
       "<p>2 rows × 24 columns</p>\n",
       "</div>"
      ],
      "text/plain": [
       "  Card-Wallet-Token ID PROCESSING_CODE TRANSACTION_AMOUNT SETTLEMENT_AMOUNT  \\\n",
       "1     6086941819072010          174000               7000              7000   \n",
       "2     6086941026163000          174000               2000              2000   \n",
       "\n",
       "  BILLING_AMOUNT Transaction Date and Time CONVERSION_RATE  \\\n",
       "1           7000        22-MAR-18 09.10.37               0   \n",
       "2           2000        22-MAR-18 12.28.15               0   \n",
       "\n",
       "          Expiry Date Merchant Category Code ACQUIRING_COUNTRY_CODE  ...  \\\n",
       "1  01-JUL-23 00.00.00                   6011                    356  ...   \n",
       "2  01-DEC-22 00.00.00                   6011                    356  ...   \n",
       "\n",
       "        TID         MID   MERCHANT NAME AND ADDRESS TRANSACTION_CURRENCY  \\\n",
       "1  GYACBB04  1005044921  LXFC BTNK LTD.KHURDT OR IN                  356   \n",
       "2  JSEWLK06  1005044921  LXFC BTNK LTD.LUCKNOWUP IN                  356   \n",
       "\n",
       "  SETTLEMENT_CURRENCY BILLING_CURRENCY      POS_DATA Interface ID  \\\n",
       "1                 356              356  210201210141          IN1   \n",
       "2                 356              356  210201210141          IN1   \n",
       "\n",
       "  Terminal Type TARGET  \n",
       "1           ATM      0  \n",
       "2           ATM      0  \n",
       "\n",
       "[2 rows x 24 columns]"
      ]
     },
     "execution_count": 11,
     "metadata": {},
     "output_type": "execute_result"
    }
   ],
   "source": [
    "data.head(2)"
   ]
  },
  {
   "cell_type": "markdown",
   "metadata": {},
   "source": [
    "### Seperating numerical and catagorical data"
   ]
  },
  {
   "cell_type": "code",
   "execution_count": 12,
   "metadata": {},
   "outputs": [],
   "source": [
    "numerical = [\"TRANSACTION_AMOUNT\", \"SETTLEMENT_AMOUNT\", \"BILLING_AMOUNT\", \"CONVERSION_RATE\"]"
   ]
  },
  {
   "cell_type": "code",
   "execution_count": 13,
   "metadata": {},
   "outputs": [],
   "source": [
    "data_cat = data.drop(numerical, axis = 1)"
   ]
  },
  {
   "cell_type": "code",
   "execution_count": 14,
   "metadata": {},
   "outputs": [
    {
     "data": {
      "text/html": [
       "<div>\n",
       "<style scoped>\n",
       "    .dataframe tbody tr th:only-of-type {\n",
       "        vertical-align: middle;\n",
       "    }\n",
       "\n",
       "    .dataframe tbody tr th {\n",
       "        vertical-align: top;\n",
       "    }\n",
       "\n",
       "    .dataframe thead th {\n",
       "        text-align: right;\n",
       "    }\n",
       "</style>\n",
       "<table border=\"1\" class=\"dataframe\">\n",
       "  <thead>\n",
       "    <tr style=\"text-align: right;\">\n",
       "      <th></th>\n",
       "      <th>Card-Wallet-Token ID</th>\n",
       "      <th>PROCESSING_CODE</th>\n",
       "      <th>Transaction Date and Time</th>\n",
       "      <th>Expiry Date</th>\n",
       "      <th>Merchant Category Code</th>\n",
       "      <th>ACQUIRING_COUNTRY_CODE</th>\n",
       "      <th>ACQUIRER_INSTITUTION_CODE</th>\n",
       "      <th>Authorization Code</th>\n",
       "      <th>Approval Decision</th>\n",
       "      <th>Card Service Code</th>\n",
       "      <th>TID</th>\n",
       "      <th>MID</th>\n",
       "      <th>MERCHANT NAME AND ADDRESS</th>\n",
       "      <th>TRANSACTION_CURRENCY</th>\n",
       "      <th>SETTLEMENT_CURRENCY</th>\n",
       "      <th>BILLING_CURRENCY</th>\n",
       "      <th>POS_DATA</th>\n",
       "      <th>Interface ID</th>\n",
       "      <th>Terminal Type</th>\n",
       "      <th>TARGET</th>\n",
       "    </tr>\n",
       "  </thead>\n",
       "  <tbody>\n",
       "    <tr>\n",
       "      <td>1</td>\n",
       "      <td>6086941819072010</td>\n",
       "      <td>174000</td>\n",
       "      <td>22-MAR-18 09.10.37</td>\n",
       "      <td>01-JUL-23 00.00.00</td>\n",
       "      <td>6011</td>\n",
       "      <td>356</td>\n",
       "      <td>544921</td>\n",
       "      <td>533038</td>\n",
       "      <td>000</td>\n",
       "      <td>201</td>\n",
       "      <td>GYACBB04</td>\n",
       "      <td>1005044921</td>\n",
       "      <td>LXFC BTNK LTD.KHURDT OR IN</td>\n",
       "      <td>356</td>\n",
       "      <td>356</td>\n",
       "      <td>356</td>\n",
       "      <td>210201210141</td>\n",
       "      <td>IN1</td>\n",
       "      <td>ATM</td>\n",
       "      <td>0</td>\n",
       "    </tr>\n",
       "    <tr>\n",
       "      <td>2</td>\n",
       "      <td>6086941026163000</td>\n",
       "      <td>174000</td>\n",
       "      <td>22-MAR-18 12.28.15</td>\n",
       "      <td>01-DEC-22 00.00.00</td>\n",
       "      <td>6011</td>\n",
       "      <td>356</td>\n",
       "      <td>544921</td>\n",
       "      <td>944896</td>\n",
       "      <td>000</td>\n",
       "      <td>201</td>\n",
       "      <td>JSEWLK06</td>\n",
       "      <td>1005044921</td>\n",
       "      <td>LXFC BTNK LTD.LUCKNOWUP IN</td>\n",
       "      <td>356</td>\n",
       "      <td>356</td>\n",
       "      <td>356</td>\n",
       "      <td>210201210141</td>\n",
       "      <td>IN1</td>\n",
       "      <td>ATM</td>\n",
       "      <td>0</td>\n",
       "    </tr>\n",
       "  </tbody>\n",
       "</table>\n",
       "</div>"
      ],
      "text/plain": [
       "  Card-Wallet-Token ID PROCESSING_CODE Transaction Date and Time  \\\n",
       "1     6086941819072010          174000        22-MAR-18 09.10.37   \n",
       "2     6086941026163000          174000        22-MAR-18 12.28.15   \n",
       "\n",
       "          Expiry Date Merchant Category Code ACQUIRING_COUNTRY_CODE  \\\n",
       "1  01-JUL-23 00.00.00                   6011                    356   \n",
       "2  01-DEC-22 00.00.00                   6011                    356   \n",
       "\n",
       "  ACQUIRER_INSTITUTION_CODE Authorization Code Approval Decision  \\\n",
       "1                    544921             533038               000   \n",
       "2                    544921             944896               000   \n",
       "\n",
       "  Card Service Code       TID         MID   MERCHANT NAME AND ADDRESS  \\\n",
       "1               201  GYACBB04  1005044921  LXFC BTNK LTD.KHURDT OR IN   \n",
       "2               201  JSEWLK06  1005044921  LXFC BTNK LTD.LUCKNOWUP IN   \n",
       "\n",
       "  TRANSACTION_CURRENCY SETTLEMENT_CURRENCY BILLING_CURRENCY      POS_DATA  \\\n",
       "1                  356                 356              356  210201210141   \n",
       "2                  356                 356              356  210201210141   \n",
       "\n",
       "  Interface ID Terminal Type TARGET  \n",
       "1          IN1           ATM      0  \n",
       "2          IN1           ATM      0  "
      ]
     },
     "execution_count": 14,
     "metadata": {},
     "output_type": "execute_result"
    }
   ],
   "source": [
    "data_cat.head(2)"
   ]
  },
  {
   "cell_type": "code",
   "execution_count": 15,
   "metadata": {},
   "outputs": [],
   "source": [
    "data_num = data[numerical]"
   ]
  },
  {
   "cell_type": "code",
   "execution_count": 16,
   "metadata": {},
   "outputs": [
    {
     "data": {
      "text/html": [
       "<div>\n",
       "<style scoped>\n",
       "    .dataframe tbody tr th:only-of-type {\n",
       "        vertical-align: middle;\n",
       "    }\n",
       "\n",
       "    .dataframe tbody tr th {\n",
       "        vertical-align: top;\n",
       "    }\n",
       "\n",
       "    .dataframe thead th {\n",
       "        text-align: right;\n",
       "    }\n",
       "</style>\n",
       "<table border=\"1\" class=\"dataframe\">\n",
       "  <thead>\n",
       "    <tr style=\"text-align: right;\">\n",
       "      <th></th>\n",
       "      <th>TRANSACTION_AMOUNT</th>\n",
       "      <th>SETTLEMENT_AMOUNT</th>\n",
       "      <th>BILLING_AMOUNT</th>\n",
       "      <th>CONVERSION_RATE</th>\n",
       "    </tr>\n",
       "  </thead>\n",
       "  <tbody>\n",
       "    <tr>\n",
       "      <td>1</td>\n",
       "      <td>7000</td>\n",
       "      <td>7000</td>\n",
       "      <td>7000</td>\n",
       "      <td>0</td>\n",
       "    </tr>\n",
       "    <tr>\n",
       "      <td>2</td>\n",
       "      <td>2000</td>\n",
       "      <td>2000</td>\n",
       "      <td>2000</td>\n",
       "      <td>0</td>\n",
       "    </tr>\n",
       "  </tbody>\n",
       "</table>\n",
       "</div>"
      ],
      "text/plain": [
       "  TRANSACTION_AMOUNT SETTLEMENT_AMOUNT BILLING_AMOUNT CONVERSION_RATE\n",
       "1               7000              7000           7000               0\n",
       "2               2000              2000           2000               0"
      ]
     },
     "execution_count": 16,
     "metadata": {},
     "output_type": "execute_result"
    }
   ],
   "source": [
    "data_num.head(2)"
   ]
  },
  {
   "cell_type": "markdown",
   "metadata": {},
   "source": [
    "# Finding dependent catagories"
   ]
  },
  {
   "cell_type": "code",
   "execution_count": 12,
   "metadata": {},
   "outputs": [],
   "source": [
    "cat_columns = ['PROCESSING_CODE',\n",
    "     'Merchant Category Code',\n",
    "     'ACQUIRING_COUNTRY_CODE',\n",
    "     'ACQUIRER_INSTITUTION_CODE',\n",
    "     'Card Service Code',\n",
    "     'Interface ID',\n",
    "     'Terminal Type',\n",
    "     'Token Data-C1']"
   ]
  },
  {
   "cell_type": "markdown",
   "metadata": {},
   "source": [
    "### Cramer's V test"
   ]
  },
  {
   "cell_type": "code",
   "execution_count": 13,
   "metadata": {},
   "outputs": [],
   "source": [
    "def cramers_corrected_stat(confusion_matrix):\n",
    "    \"\"\" calculate Cramers V statistic for categorial-categorial association.\n",
    "        uses correction from Bergsma and Wicher, \n",
    "        Journal of the Korean Statistical Society 42 (2013): 323-328\n",
    "    \"\"\"\n",
    "    chi2 = chi_test(confusion_matrix)[0]\n",
    "    #print(chi2)\n",
    "    n = (confusion_matrix.sum()).sum()\n",
    "    phi2 = chi2/n\n",
    "    r,k = confusion_matrix.shape\n",
    "    phi2corr = max(0, phi2 - ((k-1)*(r-1))/(n-1))    \n",
    "    rcorr = r - ((r-1)**2)/(n-1)\n",
    "    kcorr = k - ((k-1)**2)/(n-1)\n",
    "    return np.sqrt(phi2corr / min( (kcorr-1), (rcorr-1)))"
   ]
  },
  {
   "cell_type": "code",
   "execution_count": 14,
   "metadata": {},
   "outputs": [],
   "source": [
    "count = 0\n",
    "dependent_pair_cramer = []\n",
    "for i in cat_columns:\n",
    "    count += 1\n",
    "    for j in cat_columns[count:]:\n",
    "        data_crosstab =  pd.crosstab(data_cat[i], data_cat[j], margins = False)\n",
    "        p = cramers_corrected_stat(data_crosstab)\n",
    "        #if p < 0.01:\n",
    "        dependent_pair_cramer.append([i,j,p])"
   ]
  },
  {
   "cell_type": "code",
   "execution_count": 22,
   "metadata": {},
   "outputs": [],
   "source": [
    "thresold = 0.8"
   ]
  },
  {
   "cell_type": "code",
   "execution_count": 65,
   "metadata": {},
   "outputs": [],
   "source": [
    "valid_pair = list(map(lambda x: (x[0], x[1]) if (x[2] > thresold) else None , dependent_pair_cramer))\n",
    "valid_pair = [i for i in valid_pair if i] "
   ]
  },
  {
   "cell_type": "code",
   "execution_count": 76,
   "metadata": {},
   "outputs": [],
   "source": [
    "temp = [item for sublist in valid_pair for item in sublist]"
   ]
  },
  {
   "cell_type": "code",
   "execution_count": 80,
   "metadata": {},
   "outputs": [
    {
     "data": {
      "text/plain": [
       "[('PROCESSING_CODE', 'Interface ID'),\n",
       " ('PROCESSING_CODE', 'Terminal Type'),\n",
       " ('ACQUIRING_COUNTRY_CODE', 'ACQUIRER_INSTITUTION_CODE'),\n",
       " ('ACQUIRER_INSTITUTION_CODE', 'Interface ID'),\n",
       " ('ACQUIRER_INSTITUTION_CODE', 'Terminal Type'),\n",
       " ('Card Service Code', 'Interface ID')]"
      ]
     },
     "execution_count": 80,
     "metadata": {},
     "output_type": "execute_result"
    }
   ],
   "source": [
    "valid_pair"
   ]
  },
  {
   "cell_type": "code",
   "execution_count": 87,
   "metadata": {},
   "outputs": [],
   "source": [
    "count = {}\n",
    "for i in temp:\n",
    "    try:\n",
    "        count[i] += 1\n",
    "    except:\n",
    "        count[i] = 1\n",
    "        \n",
    "count_list = list(count.items())\n",
    "count_list.sort(key = lambda x: x[1], reverse = True)"
   ]
  },
  {
   "cell_type": "code",
   "execution_count": 18,
   "metadata": {},
   "outputs": [],
   "source": [
    "final_cat = ['PROCESSING_CODE',\n",
    "     'Merchant Category Code',\n",
    "     'ACQUIRING_COUNTRY_CODE',\n",
    "     'ACQUIRER_INSTITUTION_CODE',\n",
    "     'Card Service Code',\n",
    "     'Interface ID',\n",
    "     'Terminal Type']"
   ]
  },
  {
   "cell_type": "markdown",
   "metadata": {},
   "source": [
    "# Onehot encoding of predictors"
   ]
  },
  {
   "cell_type": "code",
   "execution_count": 20,
   "metadata": {},
   "outputs": [],
   "source": [
    "new_data_1 = pd.DataFrame()\n",
    "encoder=OneHotEncoder(sparse=False)\n",
    "for col in final_cat:\n",
    "    data_temp = data_cat[[col]]\n",
    "    encoder.fit(data_temp)\n",
    "    temp = encoder.transform(data_cat[[col]])\n",
    "    temp = pd.DataFrame(temp,columns=[(col+\"_\"+str(i)) for i in data[col].value_counts().index])\n",
    "    temp = temp.set_index(data_cat.index.values)\n",
    "    new_data_1 = pd.concat([new_data_1,temp],axis=1)"
   ]
  },
  {
   "cell_type": "code",
   "execution_count": 21,
   "metadata": {},
   "outputs": [
    {
     "data": {
      "text/html": [
       "<div>\n",
       "<style scoped>\n",
       "    .dataframe tbody tr th:only-of-type {\n",
       "        vertical-align: middle;\n",
       "    }\n",
       "\n",
       "    .dataframe tbody tr th {\n",
       "        vertical-align: top;\n",
       "    }\n",
       "\n",
       "    .dataframe thead th {\n",
       "        text-align: right;\n",
       "    }\n",
       "</style>\n",
       "<table border=\"1\" class=\"dataframe\">\n",
       "  <thead>\n",
       "    <tr style=\"text-align: right;\">\n",
       "      <th></th>\n",
       "      <th>PROCESSING_CODE_000000</th>\n",
       "      <th>PROCESSING_CODE_003000</th>\n",
       "      <th>PROCESSING_CODE_004000</th>\n",
       "      <th>PROCESSING_CODE_173000</th>\n",
       "      <th>PROCESSING_CODE_171000</th>\n",
       "      <th>PROCESSING_CODE_000098</th>\n",
       "      <th>PROCESSING_CODE_172000</th>\n",
       "      <th>PROCESSING_CODE_174000</th>\n",
       "      <th>PROCESSING_CODE_170000</th>\n",
       "      <th>PROCESSING_CODE_000099</th>\n",
       "      <th>...</th>\n",
       "      <th>Card Service Code_101</th>\n",
       "      <th>Card Service Code_126</th>\n",
       "      <th>Card Service Code_000</th>\n",
       "      <th>Interface ID_IN2</th>\n",
       "      <th>Interface ID_IN9</th>\n",
       "      <th>Interface ID_IN1</th>\n",
       "      <th>Interface ID_IN4</th>\n",
       "      <th>Terminal Type_POS</th>\n",
       "      <th>Terminal Type_ATM</th>\n",
       "      <th>Terminal Type_APP</th>\n",
       "    </tr>\n",
       "  </thead>\n",
       "  <tbody>\n",
       "    <tr>\n",
       "      <td>1</td>\n",
       "      <td>0.0</td>\n",
       "      <td>0.0</td>\n",
       "      <td>0.0</td>\n",
       "      <td>0.0</td>\n",
       "      <td>0.0</td>\n",
       "      <td>0.0</td>\n",
       "      <td>0.0</td>\n",
       "      <td>0.0</td>\n",
       "      <td>0.0</td>\n",
       "      <td>0.0</td>\n",
       "      <td>...</td>\n",
       "      <td>0.0</td>\n",
       "      <td>0.0</td>\n",
       "      <td>0.0</td>\n",
       "      <td>1.0</td>\n",
       "      <td>0.0</td>\n",
       "      <td>0.0</td>\n",
       "      <td>0.0</td>\n",
       "      <td>0.0</td>\n",
       "      <td>1.0</td>\n",
       "      <td>0.0</td>\n",
       "    </tr>\n",
       "    <tr>\n",
       "      <td>2</td>\n",
       "      <td>0.0</td>\n",
       "      <td>0.0</td>\n",
       "      <td>0.0</td>\n",
       "      <td>0.0</td>\n",
       "      <td>0.0</td>\n",
       "      <td>0.0</td>\n",
       "      <td>0.0</td>\n",
       "      <td>0.0</td>\n",
       "      <td>0.0</td>\n",
       "      <td>0.0</td>\n",
       "      <td>...</td>\n",
       "      <td>0.0</td>\n",
       "      <td>0.0</td>\n",
       "      <td>0.0</td>\n",
       "      <td>1.0</td>\n",
       "      <td>0.0</td>\n",
       "      <td>0.0</td>\n",
       "      <td>0.0</td>\n",
       "      <td>0.0</td>\n",
       "      <td>1.0</td>\n",
       "      <td>0.0</td>\n",
       "    </tr>\n",
       "  </tbody>\n",
       "</table>\n",
       "<p>2 rows × 723 columns</p>\n",
       "</div>"
      ],
      "text/plain": [
       "   PROCESSING_CODE_000000  PROCESSING_CODE_003000  PROCESSING_CODE_004000  \\\n",
       "1                     0.0                     0.0                     0.0   \n",
       "2                     0.0                     0.0                     0.0   \n",
       "\n",
       "   PROCESSING_CODE_173000  PROCESSING_CODE_171000  PROCESSING_CODE_000098  \\\n",
       "1                     0.0                     0.0                     0.0   \n",
       "2                     0.0                     0.0                     0.0   \n",
       "\n",
       "   PROCESSING_CODE_172000  PROCESSING_CODE_174000  PROCESSING_CODE_170000  \\\n",
       "1                     0.0                     0.0                     0.0   \n",
       "2                     0.0                     0.0                     0.0   \n",
       "\n",
       "   PROCESSING_CODE_000099  ...  Card Service Code_101  Card Service Code_126  \\\n",
       "1                     0.0  ...                    0.0                    0.0   \n",
       "2                     0.0  ...                    0.0                    0.0   \n",
       "\n",
       "   Card Service Code_000  Interface ID_IN2  Interface ID_IN9  \\\n",
       "1                    0.0               1.0               0.0   \n",
       "2                    0.0               1.0               0.0   \n",
       "\n",
       "   Interface ID_IN1  Interface ID_IN4  Terminal Type_POS  Terminal Type_ATM  \\\n",
       "1               0.0               0.0                0.0                1.0   \n",
       "2               0.0               0.0                0.0                1.0   \n",
       "\n",
       "   Terminal Type_APP  \n",
       "1                0.0  \n",
       "2                0.0  \n",
       "\n",
       "[2 rows x 723 columns]"
      ]
     },
     "execution_count": 21,
     "metadata": {},
     "output_type": "execute_result"
    }
   ],
   "source": [
    "new_data_1.head(2)"
   ]
  },
  {
   "cell_type": "code",
   "execution_count": 22,
   "metadata": {},
   "outputs": [],
   "source": [
    "input_data = pd.concat([data_num, new_data_1], axis=1)"
   ]
  },
  {
   "cell_type": "code",
   "execution_count": 23,
   "metadata": {},
   "outputs": [
    {
     "data": {
      "text/html": [
       "<div>\n",
       "<style scoped>\n",
       "    .dataframe tbody tr th:only-of-type {\n",
       "        vertical-align: middle;\n",
       "    }\n",
       "\n",
       "    .dataframe tbody tr th {\n",
       "        vertical-align: top;\n",
       "    }\n",
       "\n",
       "    .dataframe thead th {\n",
       "        text-align: right;\n",
       "    }\n",
       "</style>\n",
       "<table border=\"1\" class=\"dataframe\">\n",
       "  <thead>\n",
       "    <tr style=\"text-align: right;\">\n",
       "      <th></th>\n",
       "      <th>TRANSACTION_AMOUNT</th>\n",
       "      <th>SETTLEMENT_AMOUNT</th>\n",
       "      <th>BILLING_AMOUNT</th>\n",
       "      <th>CONVERSION_RATE</th>\n",
       "      <th>PROCESSING_CODE_000000</th>\n",
       "      <th>PROCESSING_CODE_003000</th>\n",
       "      <th>PROCESSING_CODE_004000</th>\n",
       "      <th>PROCESSING_CODE_173000</th>\n",
       "      <th>PROCESSING_CODE_171000</th>\n",
       "      <th>PROCESSING_CODE_000098</th>\n",
       "      <th>...</th>\n",
       "      <th>Card Service Code_101</th>\n",
       "      <th>Card Service Code_126</th>\n",
       "      <th>Card Service Code_000</th>\n",
       "      <th>Interface ID_IN2</th>\n",
       "      <th>Interface ID_IN9</th>\n",
       "      <th>Interface ID_IN1</th>\n",
       "      <th>Interface ID_IN4</th>\n",
       "      <th>Terminal Type_POS</th>\n",
       "      <th>Terminal Type_ATM</th>\n",
       "      <th>Terminal Type_APP</th>\n",
       "    </tr>\n",
       "  </thead>\n",
       "  <tbody>\n",
       "    <tr>\n",
       "      <td>1</td>\n",
       "      <td>7000</td>\n",
       "      <td>7000</td>\n",
       "      <td>7000</td>\n",
       "      <td>0</td>\n",
       "      <td>0.0</td>\n",
       "      <td>0.0</td>\n",
       "      <td>0.0</td>\n",
       "      <td>0.0</td>\n",
       "      <td>0.0</td>\n",
       "      <td>0.0</td>\n",
       "      <td>...</td>\n",
       "      <td>0.0</td>\n",
       "      <td>0.0</td>\n",
       "      <td>0.0</td>\n",
       "      <td>1.0</td>\n",
       "      <td>0.0</td>\n",
       "      <td>0.0</td>\n",
       "      <td>0.0</td>\n",
       "      <td>0.0</td>\n",
       "      <td>1.0</td>\n",
       "      <td>0.0</td>\n",
       "    </tr>\n",
       "    <tr>\n",
       "      <td>2</td>\n",
       "      <td>2000</td>\n",
       "      <td>2000</td>\n",
       "      <td>2000</td>\n",
       "      <td>0</td>\n",
       "      <td>0.0</td>\n",
       "      <td>0.0</td>\n",
       "      <td>0.0</td>\n",
       "      <td>0.0</td>\n",
       "      <td>0.0</td>\n",
       "      <td>0.0</td>\n",
       "      <td>...</td>\n",
       "      <td>0.0</td>\n",
       "      <td>0.0</td>\n",
       "      <td>0.0</td>\n",
       "      <td>1.0</td>\n",
       "      <td>0.0</td>\n",
       "      <td>0.0</td>\n",
       "      <td>0.0</td>\n",
       "      <td>0.0</td>\n",
       "      <td>1.0</td>\n",
       "      <td>0.0</td>\n",
       "    </tr>\n",
       "  </tbody>\n",
       "</table>\n",
       "<p>2 rows × 727 columns</p>\n",
       "</div>"
      ],
      "text/plain": [
       "  TRANSACTION_AMOUNT SETTLEMENT_AMOUNT BILLING_AMOUNT CONVERSION_RATE  \\\n",
       "1               7000              7000           7000               0   \n",
       "2               2000              2000           2000               0   \n",
       "\n",
       "   PROCESSING_CODE_000000  PROCESSING_CODE_003000  PROCESSING_CODE_004000  \\\n",
       "1                     0.0                     0.0                     0.0   \n",
       "2                     0.0                     0.0                     0.0   \n",
       "\n",
       "   PROCESSING_CODE_173000  PROCESSING_CODE_171000  PROCESSING_CODE_000098  \\\n",
       "1                     0.0                     0.0                     0.0   \n",
       "2                     0.0                     0.0                     0.0   \n",
       "\n",
       "   ...  Card Service Code_101  Card Service Code_126  Card Service Code_000  \\\n",
       "1  ...                    0.0                    0.0                    0.0   \n",
       "2  ...                    0.0                    0.0                    0.0   \n",
       "\n",
       "   Interface ID_IN2  Interface ID_IN9  Interface ID_IN1  Interface ID_IN4  \\\n",
       "1               1.0               0.0               0.0               0.0   \n",
       "2               1.0               0.0               0.0               0.0   \n",
       "\n",
       "   Terminal Type_POS  Terminal Type_ATM  Terminal Type_APP  \n",
       "1                0.0                1.0                0.0  \n",
       "2                0.0                1.0                0.0  \n",
       "\n",
       "[2 rows x 727 columns]"
      ]
     },
     "execution_count": 23,
     "metadata": {},
     "output_type": "execute_result"
    }
   ],
   "source": [
    "input_data.head(2)"
   ]
  },
  {
   "cell_type": "code",
   "execution_count": 24,
   "metadata": {},
   "outputs": [
    {
     "name": "stdout",
     "output_type": "stream",
     "text": [
      "0.0027650849443468075\n"
     ]
    }
   ],
   "source": [
    "ratio = float(len(target[target == 1]))/float(len(target[target == 0]))\n",
    "print(ratio)"
   ]
  },
  {
   "cell_type": "markdown",
   "metadata": {},
   "source": [
    "# Train_test split"
   ]
  },
  {
   "cell_type": "code",
   "execution_count": 44,
   "metadata": {},
   "outputs": [],
   "source": [
    "X_train, X_test, Y_train, Y_test = train_test_split(input_data, target, test_size = 0.2, random_state = 42)"
   ]
  },
  {
   "cell_type": "markdown",
   "metadata": {},
   "source": [
    "# Model 1 with all predictor - Random forest"
   ]
  },
  {
   "cell_type": "code",
   "execution_count": 45,
   "metadata": {},
   "outputs": [
    {
     "data": {
      "text/plain": [
       "dtype('float64')"
      ]
     },
     "execution_count": 45,
     "metadata": {},
     "output_type": "execute_result"
    }
   ],
   "source": [
    "Y_test = Y_test.astype('float64') \n",
    "Y_train = Y_train.astype('float64')\n",
    "Y_test.dtype"
   ]
  },
  {
   "cell_type": "code",
   "execution_count": 61,
   "metadata": {},
   "outputs": [
    {
     "data": {
      "text/plain": [
       "RandomForestClassifier(bootstrap=True, class_weight=None, criterion='gini',\n",
       "                       max_depth=None, max_features='auto', max_leaf_nodes=None,\n",
       "                       min_impurity_decrease=0.0, min_impurity_split=None,\n",
       "                       min_samples_leaf=1, min_samples_split=2,\n",
       "                       min_weight_fraction_leaf=0.0, n_estimators=10,\n",
       "                       n_jobs=None, oob_score=False, random_state=None,\n",
       "                       verbose=0, warm_start=False)"
      ]
     },
     "execution_count": 61,
     "metadata": {},
     "output_type": "execute_result"
    }
   ],
   "source": [
    "model_rf = RandomForestClassifier()\n",
    "model_rf.fit(X_train,Y_train)"
   ]
  },
  {
   "cell_type": "code",
   "execution_count": 62,
   "metadata": {},
   "outputs": [],
   "source": [
    "y_pred_rf = model_rf.predict(X_test)"
   ]
  },
  {
   "cell_type": "markdown",
   "metadata": {},
   "source": [
    "### Scores"
   ]
  },
  {
   "cell_type": "markdown",
   "metadata": {},
   "source": [
    "##### Accuracy"
   ]
  },
  {
   "cell_type": "code",
   "execution_count": 63,
   "metadata": {},
   "outputs": [
    {
     "data": {
      "text/plain": [
       "0.9980137866573198"
      ]
     },
     "execution_count": 63,
     "metadata": {},
     "output_type": "execute_result"
    }
   ],
   "source": [
    "accuracy_score(Y_test,y_pred_rf)"
   ]
  },
  {
   "cell_type": "markdown",
   "metadata": {},
   "source": [
    "##### Precision"
   ]
  },
  {
   "cell_type": "code",
   "execution_count": 64,
   "metadata": {},
   "outputs": [
    {
     "data": {
      "text/plain": [
       "0.8421052631578947"
      ]
     },
     "execution_count": 64,
     "metadata": {},
     "output_type": "execute_result"
    }
   ],
   "source": [
    "precision_score(Y_test,y_pred_rf)"
   ]
  },
  {
   "cell_type": "markdown",
   "metadata": {},
   "source": [
    "##### Recall"
   ]
  },
  {
   "cell_type": "code",
   "execution_count": 65,
   "metadata": {},
   "outputs": [
    {
     "data": {
      "text/plain": [
       "0.5333333333333333"
      ]
     },
     "execution_count": 65,
     "metadata": {},
     "output_type": "execute_result"
    }
   ],
   "source": [
    "recall_score(Y_test,y_pred_rf)"
   ]
  },
  {
   "cell_type": "markdown",
   "metadata": {},
   "source": [
    "# Rough"
   ]
  },
  {
   "cell_type": "code",
   "execution_count": 160,
   "metadata": {},
   "outputs": [],
   "source": []
  },
  {
   "cell_type": "code",
   "execution_count": 137,
   "metadata": {},
   "outputs": [],
   "source": []
  },
  {
   "cell_type": "code",
   "execution_count": null,
   "metadata": {},
   "outputs": [],
   "source": []
  },
  {
   "cell_type": "code",
   "execution_count": null,
   "metadata": {},
   "outputs": [],
   "source": []
  },
  {
   "cell_type": "code",
   "execution_count": 143,
   "metadata": {},
   "outputs": [],
   "source": []
  },
  {
   "cell_type": "code",
   "execution_count": null,
   "metadata": {},
   "outputs": [],
   "source": []
  }
 ],
 "metadata": {
  "kernelspec": {
   "display_name": "Python 3",
   "language": "python",
   "name": "python3"
  },
  "language_info": {
   "codemirror_mode": {
    "name": "ipython",
    "version": 3
   },
   "file_extension": ".py",
   "mimetype": "text/x-python",
   "name": "python",
   "nbconvert_exporter": "python",
   "pygments_lexer": "ipython3",
   "version": "3.6.8"
  }
 },
 "nbformat": 4,
 "nbformat_minor": 2
}

{
  "nbformat": 4,
  "nbformat_minor": 0,
  "metadata": {
    "colab": {
      "name": "Smart_Rules.ipynb",
      "provenance": [],
      "collapsed_sections": [],
      "toc_visible": true,
      "authorship_tag": "ABX9TyMK6bKWlOGnMSH/gWPaZWRR",
      "include_colab_link": true
    },
    "kernelspec": {
      "name": "python3",
      "display_name": "Python 3"
    }
  },
  "cells": [
    {
      "cell_type": "markdown",
      "metadata": {
        "id": "view-in-github",
        "colab_type": "text"
      },
      "source": [
        "<a href=\"https://colab.research.google.com/github/trinade96/Fortiate_Project/blob/master/Smart_Rules.ipynb\" target=\"_parent\"><img src=\"https://colab.research.google.com/assets/colab-badge.svg\" alt=\"Open In Colab\"/></a>"
      ]
    },
    {
      "cell_type": "markdown",
      "metadata": {
        "id": "EBBUrWQCyRCa",
        "colab_type": "text"
      },
      "source": [
        "### **Smart_Rules**\n",
        "\n",
        "##### In this notebook, we will be looking at some clustering techniques that are not necessarily for identifying fraud vs. not fraud but for identifying the behaviour of such fraud cases which might include not frauds in the same cluster.\n",
        "Look at following link for better understanding of decision trees <br>\n",
        "https://www.displayr.com/how-is-splitting-decided-for-decision-trees/ "
      ]
    },
    {
      "cell_type": "markdown",
      "metadata": {
        "id": "2W8n-XFKzC_5",
        "colab_type": "text"
      },
      "source": [
        "##### **Packages Used**"
      ]
    },
    {
      "cell_type": "code",
      "metadata": {
        "id": "Hi41QRV5x8Pj",
        "colab_type": "code",
        "colab": {}
      },
      "source": [
        "import numpy as np\n",
        "import pandas as pd\n",
        "from numpy import log2 as log\n",
        "from sklearn.datasets import load_iris\n",
        "from sklearn import tree\n",
        "from sklearn.tree import DecisionTreeClassifier\n",
        "from sklearn import preprocessing\n",
        "from sklearn.metrics import precision_recall_curve\n",
        "from sklearn.metrics import average_precision_score\n",
        "from sklearn.metrics import plot_precision_recall_curve\n",
        "from sklearn.model_selection import train_test_split\n",
        "import matplotlib.pyplot as plt\n",
        "import graphviz\n",
        "import pprint\n",
        "from pandas.api.types import is_float_dtype"
      ],
      "execution_count": 0,
      "outputs": []
    },
    {
      "cell_type": "markdown",
      "metadata": {
        "id": "2yMZN4MEqo1O",
        "colab_type": "text"
      },
      "source": [
        "##### **Reading the data**"
      ]
    },
    {
      "cell_type": "code",
      "metadata": {
        "id": "Ud2fQ5xnyPks",
        "colab_type": "code",
        "colab": {
          "base_uri": "https://localhost:8080/",
          "height": 52
        },
        "outputId": "0f942b75-6ae7-4045-d1c2-2b9257146f22"
      },
      "source": [
        "from google.colab import drive\n",
        "drive.mount('/gdrive')\n",
        "%cd /gdrive"
      ],
      "execution_count": 2,
      "outputs": [
        {
          "output_type": "stream",
          "text": [
            "Drive already mounted at /gdrive; to attempt to forcibly remount, call drive.mount(\"/gdrive\", force_remount=True).\n",
            "/gdrive\n"
          ],
          "name": "stdout"
        }
      ]
    },
    {
      "cell_type": "code",
      "metadata": {
        "id": "JLcDBIgRcROv",
        "colab_type": "code",
        "colab": {
          "base_uri": "https://localhost:8080/",
          "height": 313
        },
        "outputId": "c86249b2-a245-406c-f63f-2287862f0df3"
      },
      "source": [
        "data = pd.read_excel('/gdrive/My Drive/Random-Forest-Rules-Final-Rearranged-mindmap.xlsx')\n",
        "data.head()"
      ],
      "execution_count": 3,
      "outputs": [
        {
          "output_type": "execute_result",
          "data": {
            "text/html": [
              "<div>\n",
              "<style scoped>\n",
              "    .dataframe tbody tr th:only-of-type {\n",
              "        vertical-align: middle;\n",
              "    }\n",
              "\n",
              "    .dataframe tbody tr th {\n",
              "        vertical-align: top;\n",
              "    }\n",
              "\n",
              "    .dataframe thead th {\n",
              "        text-align: right;\n",
              "    }\n",
              "</style>\n",
              "<table border=\"1\" class=\"dataframe\">\n",
              "  <thead>\n",
              "    <tr style=\"text-align: right;\">\n",
              "      <th></th>\n",
              "      <th>TRANSACTION_CURRENCY</th>\n",
              "      <th>PD4</th>\n",
              "      <th>PD11</th>\n",
              "      <th>PROC_CODE_12</th>\n",
              "      <th>PD8</th>\n",
              "      <th>MCC</th>\n",
              "      <th>POS_ENTRY_MODE</th>\n",
              "      <th>SERVICE_CODE</th>\n",
              "      <th>BILLING_AMOUNT</th>\n",
              "      <th>TRANSACTION_LOCAL_DATE</th>\n",
              "      <th>TRANSMISSION_DATE_TIME</th>\n",
              "      <th>RESPONSE_DATE_TIME</th>\n",
              "      <th>PAN</th>\n",
              "      <th>VALID_FROM</th>\n",
              "      <th>EXPIRY_DATE</th>\n",
              "      <th>PROC_CODE_34</th>\n",
              "      <th>PROC_CODE_56</th>\n",
              "      <th>PD1</th>\n",
              "      <th>PD2</th>\n",
              "      <th>PD3</th>\n",
              "      <th>PD5</th>\n",
              "      <th>PD6</th>\n",
              "      <th>PD7</th>\n",
              "      <th>PD9</th>\n",
              "      <th>PD10</th>\n",
              "      <th>PD12</th>\n",
              "      <th>TRANSACTION_AMOUNT</th>\n",
              "      <th>BILLING_CURRENCY</th>\n",
              "      <th>CONVERSION_RATE_DATE</th>\n",
              "      <th>SETTLEMENT_AMOUNT</th>\n",
              "      <th>SETTLEMENT_CURRENCY</th>\n",
              "      <th>SETTLEMENT_DATE</th>\n",
              "      <th>ACQUIRING_COUNTRY_CODE</th>\n",
              "      <th>CARD_ACCEPTOR_TERM_ID</th>\n",
              "      <th>CARD_ACCEPTOR_ID</th>\n",
              "      <th>CARD_ACC_NAME_ADDRESS</th>\n",
              "      <th>AUTHORIZATION_CODE</th>\n",
              "      <th>DECISION</th>\n",
              "      <th>TARGET</th>\n",
              "      <th>C_100</th>\n",
              "      <th>C_40</th>\n",
              "      <th>C_20</th>\n",
              "      <th>ECOM_INFO</th>\n",
              "      <th>E_COM_INDICATOR</th>\n",
              "    </tr>\n",
              "  </thead>\n",
              "  <tbody>\n",
              "    <tr>\n",
              "      <th>0</th>\n",
              "      <td>CURR356</td>\n",
              "      <td>ATC9</td>\n",
              "      <td>TOC1</td>\n",
              "      <td>TC00</td>\n",
              "      <td>TVI0</td>\n",
              "      <td>MCC7399</td>\n",
              "      <td>NNN</td>\n",
              "      <td>UNK</td>\n",
              "      <td>147.84</td>\n",
              "      <td>21-MAR-18 11.33.24</td>\n",
              "      <td>21-MAR-18 11.33.24</td>\n",
              "      <td>21-MAR-18 11.33.24</td>\n",
              "      <td>A1586941252148110</td>\n",
              "      <td>21-AUG-17 17.10.11</td>\n",
              "      <td>01-APR-20 00.00.00</td>\n",
              "      <td>FR40</td>\n",
              "      <td>TO00</td>\n",
              "      <td>CRC1</td>\n",
              "      <td>CVC0</td>\n",
              "      <td>CCC0</td>\n",
              "      <td>PPI4</td>\n",
              "      <td>CPI0</td>\n",
              "      <td>TCR2</td>\n",
              "      <td>TCV0</td>\n",
              "      <td>TWC0</td>\n",
              "      <td>PEI0</td>\n",
              "      <td>147.84</td>\n",
              "      <td>CURR356</td>\n",
              "      <td>000</td>\n",
              "      <td>145.22</td>\n",
              "      <td>CURR356</td>\n",
              "      <td>22-MAR-18 00.00.00</td>\n",
              "      <td>CON356</td>\n",
              "      <td>6R00G052</td>\n",
              "      <td>9826826968</td>\n",
              "      <td>BOOK MY SHOW\\\\\\400049\\\\</td>\n",
              "      <td>800204</td>\n",
              "      <td>RESULT000</td>\n",
              "      <td>0</td>\n",
              "      <td>AMI</td>\n",
              "      <td>ACS</td>\n",
              "      <td>T0784</td>\n",
              "      <td>AXASK05AEVV</td>\n",
              "      <td>ECI05</td>\n",
              "    </tr>\n",
              "    <tr>\n",
              "      <th>1</th>\n",
              "      <td>CURR356</td>\n",
              "      <td>ATC9</td>\n",
              "      <td>TOC1</td>\n",
              "      <td>TC00</td>\n",
              "      <td>TVI0</td>\n",
              "      <td>MCC4814</td>\n",
              "      <td>NNN</td>\n",
              "      <td>UNK</td>\n",
              "      <td>399.00</td>\n",
              "      <td>21-MAR-18 11.34.15</td>\n",
              "      <td>21-MAR-18 11.34.15</td>\n",
              "      <td>21-MAR-18 11.34.15</td>\n",
              "      <td>A1586941241334010</td>\n",
              "      <td>06-APR-16 20.19.15</td>\n",
              "      <td>01-APR-20 00.00.00</td>\n",
              "      <td>FR40</td>\n",
              "      <td>TO00</td>\n",
              "      <td>CRC1</td>\n",
              "      <td>CVC0</td>\n",
              "      <td>CCC0</td>\n",
              "      <td>PPI4</td>\n",
              "      <td>CPI0</td>\n",
              "      <td>TCR2</td>\n",
              "      <td>TCV0</td>\n",
              "      <td>TWC0</td>\n",
              "      <td>PEI0</td>\n",
              "      <td>399.00</td>\n",
              "      <td>CURR356</td>\n",
              "      <td>000</td>\n",
              "      <td>391.94</td>\n",
              "      <td>CURR356</td>\n",
              "      <td>22-MAR-18 00.00.00</td>\n",
              "      <td>CON356</td>\n",
              "      <td>6R00G052</td>\n",
              "      <td>9822047692</td>\n",
              "      <td>PAYTM RETAIL -PG-ONLINE \\\\NOIDA\\201301\\</td>\n",
              "      <td>300255</td>\n",
              "      <td>RESULT000</td>\n",
              "      <td>0</td>\n",
              "      <td>AMI</td>\n",
              "      <td>ACS</td>\n",
              "      <td>T0797</td>\n",
              "      <td>AXASK05AEVV</td>\n",
              "      <td>ECI05</td>\n",
              "    </tr>\n",
              "    <tr>\n",
              "      <th>2</th>\n",
              "      <td>CURR356</td>\n",
              "      <td>ATC9</td>\n",
              "      <td>TOC1</td>\n",
              "      <td>TC00</td>\n",
              "      <td>TVI0</td>\n",
              "      <td>MCC7399</td>\n",
              "      <td>NNN</td>\n",
              "      <td>UNK</td>\n",
              "      <td>247.20</td>\n",
              "      <td>21-MAR-18 11.36.47</td>\n",
              "      <td>21-MAR-18 11.36.47</td>\n",
              "      <td>21-MAR-18 11.36.48</td>\n",
              "      <td>A1586941049519010</td>\n",
              "      <td>03-APR-18 14.19.03</td>\n",
              "      <td>01-APR-23 00.00.00</td>\n",
              "      <td>FR40</td>\n",
              "      <td>TO00</td>\n",
              "      <td>CRC1</td>\n",
              "      <td>CVC0</td>\n",
              "      <td>CCC0</td>\n",
              "      <td>PPI4</td>\n",
              "      <td>CPI0</td>\n",
              "      <td>TCR2</td>\n",
              "      <td>TCV0</td>\n",
              "      <td>TWC0</td>\n",
              "      <td>PEI0</td>\n",
              "      <td>247.20</td>\n",
              "      <td>CURR356</td>\n",
              "      <td>000</td>\n",
              "      <td>242.82</td>\n",
              "      <td>CURR356</td>\n",
              "      <td>22-MAR-18 00.00.00</td>\n",
              "      <td>CON356</td>\n",
              "      <td>6R00G052</td>\n",
              "      <td>9826826968</td>\n",
              "      <td>BOOK MY SHOW\\\\\\400049\\\\</td>\n",
              "      <td>700408</td>\n",
              "      <td>RESULT000</td>\n",
              "      <td>0</td>\n",
              "      <td>AMI</td>\n",
              "      <td>ACS</td>\n",
              "      <td>T0537</td>\n",
              "      <td>AXASK05AEVV</td>\n",
              "      <td>ECI05</td>\n",
              "    </tr>\n",
              "    <tr>\n",
              "      <th>3</th>\n",
              "      <td>CURR356</td>\n",
              "      <td>ATC9</td>\n",
              "      <td>TOC1</td>\n",
              "      <td>TC00</td>\n",
              "      <td>TVI0</td>\n",
              "      <td>MCC7399</td>\n",
              "      <td>NNN</td>\n",
              "      <td>UNK</td>\n",
              "      <td>359.00</td>\n",
              "      <td>21-MAR-18 11.39.44</td>\n",
              "      <td>21-MAR-18 11.39.44</td>\n",
              "      <td>21-MAR-18 11.39.44</td>\n",
              "      <td>A1586941050671000</td>\n",
              "      <td>20-APR-18 19.43.48</td>\n",
              "      <td>01-APR-23 00.00.00</td>\n",
              "      <td>FR40</td>\n",
              "      <td>TO00</td>\n",
              "      <td>CRC1</td>\n",
              "      <td>CVC0</td>\n",
              "      <td>CCC0</td>\n",
              "      <td>PPI4</td>\n",
              "      <td>CPI0</td>\n",
              "      <td>TCR2</td>\n",
              "      <td>TCV0</td>\n",
              "      <td>TWC0</td>\n",
              "      <td>PEI0</td>\n",
              "      <td>359.00</td>\n",
              "      <td>CURR356</td>\n",
              "      <td>000</td>\n",
              "      <td>352.65</td>\n",
              "      <td>CURR356</td>\n",
              "      <td>22-MAR-18 00.00.00</td>\n",
              "      <td>CON356</td>\n",
              "      <td>6R00G052</td>\n",
              "      <td>9826826968</td>\n",
              "      <td>BOOK MY SHOW\\\\\\400049\\\\</td>\n",
              "      <td>700585</td>\n",
              "      <td>RESULT000</td>\n",
              "      <td>0</td>\n",
              "      <td>AMI</td>\n",
              "      <td>ACS</td>\n",
              "      <td>T0796</td>\n",
              "      <td>AXASK05AEVV</td>\n",
              "      <td>ECI05</td>\n",
              "    </tr>\n",
              "    <tr>\n",
              "      <th>4</th>\n",
              "      <td>CURR356</td>\n",
              "      <td>ATC9</td>\n",
              "      <td>TOC1</td>\n",
              "      <td>TC00</td>\n",
              "      <td>TVI0</td>\n",
              "      <td>MCC5999</td>\n",
              "      <td>NNN</td>\n",
              "      <td>UNK</td>\n",
              "      <td>188.00</td>\n",
              "      <td>21-MAR-18 11.43.08</td>\n",
              "      <td>21-MAR-18 11.43.08</td>\n",
              "      <td>21-MAR-18 11.43.08</td>\n",
              "      <td>A1586941257961010</td>\n",
              "      <td>30-APR-16 20.49.02</td>\n",
              "      <td>01-APR-20 00.00.00</td>\n",
              "      <td>FR40</td>\n",
              "      <td>TO00</td>\n",
              "      <td>CRC1</td>\n",
              "      <td>CVC0</td>\n",
              "      <td>CCC0</td>\n",
              "      <td>PPI4</td>\n",
              "      <td>CPI0</td>\n",
              "      <td>TCR2</td>\n",
              "      <td>TCV0</td>\n",
              "      <td>TWC0</td>\n",
              "      <td>PEI0</td>\n",
              "      <td>188.00</td>\n",
              "      <td>CURR356</td>\n",
              "      <td>000</td>\n",
              "      <td>183.81</td>\n",
              "      <td>CURR356</td>\n",
              "      <td>22-MAR-18 00.00.00</td>\n",
              "      <td>CON356</td>\n",
              "      <td>6R00G052</td>\n",
              "      <td>9820524155</td>\n",
              "      <td>PAYTM.COM WALLET PG \\\\NOIDA\\201310\\\\</td>\n",
              "      <td>400788</td>\n",
              "      <td>RESULT000</td>\n",
              "      <td>0</td>\n",
              "      <td>AMI</td>\n",
              "      <td>ACS</td>\n",
              "      <td>T0784</td>\n",
              "      <td>AXASK05AEVV</td>\n",
              "      <td>ECI05</td>\n",
              "    </tr>\n",
              "  </tbody>\n",
              "</table>\n",
              "</div>"
            ],
            "text/plain": [
              "  TRANSACTION_CURRENCY   PD4  PD11  ...   C_20    ECOM_INFO E_COM_INDICATOR\n",
              "0              CURR356  ATC9  TOC1  ...  T0784  AXASK05AEVV           ECI05\n",
              "1              CURR356  ATC9  TOC1  ...  T0797  AXASK05AEVV           ECI05\n",
              "2              CURR356  ATC9  TOC1  ...  T0537  AXASK05AEVV           ECI05\n",
              "3              CURR356  ATC9  TOC1  ...  T0796  AXASK05AEVV           ECI05\n",
              "4              CURR356  ATC9  TOC1  ...  T0784  AXASK05AEVV           ECI05\n",
              "\n",
              "[5 rows x 44 columns]"
            ]
          },
          "metadata": {
            "tags": []
          },
          "execution_count": 3
        }
      ]
    },
    {
      "cell_type": "code",
      "metadata": {
        "id": "gfUyJgUCdwPK",
        "colab_type": "code",
        "colab": {
          "base_uri": "https://localhost:8080/",
          "height": 34
        },
        "outputId": "0e4efe54-1e26-4b89-f315-40c8cd7c7374"
      },
      "source": [
        "data.shape"
      ],
      "execution_count": 4,
      "outputs": [
        {
          "output_type": "execute_result",
          "data": {
            "text/plain": [
              "(105271, 44)"
            ]
          },
          "metadata": {
            "tags": []
          },
          "execution_count": 4
        }
      ]
    },
    {
      "cell_type": "code",
      "metadata": {
        "id": "adVC9OxidwS3",
        "colab_type": "code",
        "colab": {
          "base_uri": "https://localhost:8080/",
          "height": 34
        },
        "outputId": "ea15f320-1e4b-411d-ab5f-074430dcf1d7"
      },
      "source": [
        "#This data has NaNs as we saw while using for DST-16, so we will remove such rows and use the rest in Decision Trees \n",
        "#Decision Trees cannot handle NaNs in data\n",
        "\n",
        "data_dt = data.dropna(axis=0)\n",
        "data_dt.shape"
      ],
      "execution_count": 5,
      "outputs": [
        {
          "output_type": "execute_result",
          "data": {
            "text/plain": [
              "(22256, 44)"
            ]
          },
          "metadata": {
            "tags": []
          },
          "execution_count": 5
        }
      ]
    },
    {
      "cell_type": "markdown",
      "metadata": {
        "id": "V0hmzIv7fK5X",
        "colab_type": "text"
      },
      "source": [
        "##### **Printing partitions done using sklearn using one of the datasets inbuilt in sklearn**"
      ]
    },
    {
      "cell_type": "code",
      "metadata": {
        "id": "XgRnzQejfJGL",
        "colab_type": "code",
        "colab": {}
      },
      "source": [
        "#Iris is a dataset on flower characteristics for 3 different varieties of the same flower\n",
        "#Here we are trying to classify as the correct variety of flower given the characteristics\n",
        "#Decision trees are a supervised learning technique, therefore they need labelled data to learn and classify unknown data points later on\n",
        "X, y = load_iris(return_X_y=True)\n",
        "clf = tree.DecisionTreeClassifier()\n",
        "clf = clf.fit(X, y)"
      ],
      "execution_count": 0,
      "outputs": []
    },
    {
      "cell_type": "code",
      "metadata": {
        "id": "Pdlyaw7WoxEh",
        "colab_type": "code",
        "colab": {
          "base_uri": "https://localhost:8080/",
          "height": 795
        },
        "outputId": "e3effaf6-ba60-4f7e-db05-f2cb5fb360d1"
      },
      "source": [
        "dot_data = tree.export_graphviz(clf, out_file=None,filled=True) \n",
        "graph = graphviz.Source(dot_data) \n",
        "graph"
      ],
      "execution_count": 7,
      "outputs": [
        {
          "output_type": "execute_result",
          "data": {
            "text/plain": [
              "<graphviz.files.Source at 0x7f828736cc88>"
            ],
            "image/svg+xml": "<?xml version=\"1.0\" encoding=\"UTF-8\" standalone=\"no\"?>\n<!DOCTYPE svg PUBLIC \"-//W3C//DTD SVG 1.1//EN\"\n \"http://www.w3.org/Graphics/SVG/1.1/DTD/svg11.dtd\">\n<!-- Generated by graphviz version 2.40.1 (20161225.0304)\n -->\n<!-- Title: Tree Pages: 1 -->\n<svg width=\"773pt\" height=\"581pt\"\n viewBox=\"0.00 0.00 773.00 581.00\" xmlns=\"http://www.w3.org/2000/svg\" xmlns:xlink=\"http://www.w3.org/1999/xlink\">\n<g id=\"graph0\" class=\"graph\" transform=\"scale(1 1) rotate(0) translate(4 577)\">\n<title>Tree</title>\n<polygon fill=\"#ffffff\" stroke=\"transparent\" points=\"-4,4 -4,-577 769,-577 769,4 -4,4\"/>\n<!-- 0 -->\n<g id=\"node1\" class=\"node\">\n<title>0</title>\n<polygon fill=\"#ffffff\" stroke=\"#000000\" points=\"473.5,-573 341.5,-573 341.5,-505 473.5,-505 473.5,-573\"/>\n<text text-anchor=\"middle\" x=\"407.5\" y=\"-557.8\" font-family=\"Times,serif\" font-size=\"14.00\" fill=\"#000000\">X[2] &lt;= 2.45</text>\n<text text-anchor=\"middle\" x=\"407.5\" y=\"-542.8\" font-family=\"Times,serif\" font-size=\"14.00\" fill=\"#000000\">gini = 0.667</text>\n<text text-anchor=\"middle\" x=\"407.5\" y=\"-527.8\" font-family=\"Times,serif\" font-size=\"14.00\" fill=\"#000000\">samples = 150</text>\n<text text-anchor=\"middle\" x=\"407.5\" y=\"-512.8\" font-family=\"Times,serif\" font-size=\"14.00\" fill=\"#000000\">value = [50, 50, 50]</text>\n</g>\n<!-- 1 -->\n<g id=\"node2\" class=\"node\">\n<title>1</title>\n<polygon fill=\"#e58139\" stroke=\"#000000\" points=\"397,-461.5 280,-461.5 280,-408.5 397,-408.5 397,-461.5\"/>\n<text text-anchor=\"middle\" x=\"338.5\" y=\"-446.3\" font-family=\"Times,serif\" font-size=\"14.00\" fill=\"#000000\">gini = 0.0</text>\n<text text-anchor=\"middle\" x=\"338.5\" y=\"-431.3\" font-family=\"Times,serif\" font-size=\"14.00\" fill=\"#000000\">samples = 50</text>\n<text text-anchor=\"middle\" x=\"338.5\" y=\"-416.3\" font-family=\"Times,serif\" font-size=\"14.00\" fill=\"#000000\">value = [50, 0, 0]</text>\n</g>\n<!-- 0&#45;&gt;1 -->\n<g id=\"edge1\" class=\"edge\">\n<title>0&#45;&gt;1</title>\n<path fill=\"none\" stroke=\"#000000\" d=\"M384.9068,-504.9465C377.4527,-493.7113 369.1533,-481.2021 361.6577,-469.9043\"/>\n<polygon fill=\"#000000\" stroke=\"#000000\" points=\"364.5547,-467.94 356.1097,-461.5422 358.7218,-471.81 364.5547,-467.94\"/>\n<text text-anchor=\"middle\" x=\"351.1523\" y=\"-482.3457\" font-family=\"Times,serif\" font-size=\"14.00\" fill=\"#000000\">True</text>\n</g>\n<!-- 2 -->\n<g id=\"node3\" class=\"node\">\n<title>2</title>\n<polygon fill=\"#ffffff\" stroke=\"#000000\" points=\"540,-469 415,-469 415,-401 540,-401 540,-469\"/>\n<text text-anchor=\"middle\" x=\"477.5\" y=\"-453.8\" font-family=\"Times,serif\" font-size=\"14.00\" fill=\"#000000\">X[3] &lt;= 1.75</text>\n<text text-anchor=\"middle\" x=\"477.5\" y=\"-438.8\" font-family=\"Times,serif\" font-size=\"14.00\" fill=\"#000000\">gini = 0.5</text>\n<text text-anchor=\"middle\" x=\"477.5\" y=\"-423.8\" font-family=\"Times,serif\" font-size=\"14.00\" fill=\"#000000\">samples = 100</text>\n<text text-anchor=\"middle\" x=\"477.5\" y=\"-408.8\" font-family=\"Times,serif\" font-size=\"14.00\" fill=\"#000000\">value = [0, 50, 50]</text>\n</g>\n<!-- 0&#45;&gt;2 -->\n<g id=\"edge2\" class=\"edge\">\n<title>0&#45;&gt;2</title>\n<path fill=\"none\" stroke=\"#000000\" d=\"M430.4206,-504.9465C436.2826,-496.2373 442.6598,-486.7626 448.773,-477.6801\"/>\n<polygon fill=\"#000000\" stroke=\"#000000\" points=\"451.8476,-479.3802 454.5279,-469.13 446.0405,-475.4716 451.8476,-479.3802\"/>\n<text text-anchor=\"middle\" x=\"459.3223\" y=\"-489.966\" font-family=\"Times,serif\" font-size=\"14.00\" fill=\"#000000\">False</text>\n</g>\n<!-- 3 -->\n<g id=\"node4\" class=\"node\">\n<title>3</title>\n<polygon fill=\"#4de88e\" stroke=\"#000000\" points=\"439,-365 322,-365 322,-297 439,-297 439,-365\"/>\n<text text-anchor=\"middle\" x=\"380.5\" y=\"-349.8\" font-family=\"Times,serif\" font-size=\"14.00\" fill=\"#000000\">X[2] &lt;= 4.95</text>\n<text text-anchor=\"middle\" x=\"380.5\" y=\"-334.8\" font-family=\"Times,serif\" font-size=\"14.00\" fill=\"#000000\">gini = 0.168</text>\n<text text-anchor=\"middle\" x=\"380.5\" y=\"-319.8\" font-family=\"Times,serif\" font-size=\"14.00\" fill=\"#000000\">samples = 54</text>\n<text text-anchor=\"middle\" x=\"380.5\" y=\"-304.8\" font-family=\"Times,serif\" font-size=\"14.00\" fill=\"#000000\">value = [0, 49, 5]</text>\n</g>\n<!-- 2&#45;&gt;3 -->\n<g id=\"edge3\" class=\"edge\">\n<title>2&#45;&gt;3</title>\n<path fill=\"none\" stroke=\"#000000\" d=\"M445.7386,-400.9465C437.2806,-391.8782 428.0486,-381.9799 419.2613,-372.5585\"/>\n<polygon fill=\"#000000\" stroke=\"#000000\" points=\"421.713,-370.0557 412.3328,-365.13 416.594,-374.8302 421.713,-370.0557\"/>\n</g>\n<!-- 12 -->\n<g id=\"node13\" class=\"node\">\n<title>12</title>\n<polygon fill=\"#843de6\" stroke=\"#000000\" points=\"633,-365 516,-365 516,-297 633,-297 633,-365\"/>\n<text text-anchor=\"middle\" x=\"574.5\" y=\"-349.8\" font-family=\"Times,serif\" font-size=\"14.00\" fill=\"#000000\">X[2] &lt;= 4.85</text>\n<text text-anchor=\"middle\" x=\"574.5\" y=\"-334.8\" font-family=\"Times,serif\" font-size=\"14.00\" fill=\"#000000\">gini = 0.043</text>\n<text text-anchor=\"middle\" x=\"574.5\" y=\"-319.8\" font-family=\"Times,serif\" font-size=\"14.00\" fill=\"#000000\">samples = 46</text>\n<text text-anchor=\"middle\" x=\"574.5\" y=\"-304.8\" font-family=\"Times,serif\" font-size=\"14.00\" fill=\"#000000\">value = [0, 1, 45]</text>\n</g>\n<!-- 2&#45;&gt;12 -->\n<g id=\"edge12\" class=\"edge\">\n<title>2&#45;&gt;12</title>\n<path fill=\"none\" stroke=\"#000000\" d=\"M509.2614,-400.9465C517.7194,-391.8782 526.9514,-381.9799 535.7387,-372.5585\"/>\n<polygon fill=\"#000000\" stroke=\"#000000\" points=\"538.406,-374.8302 542.6672,-365.13 533.287,-370.0557 538.406,-374.8302\"/>\n</g>\n<!-- 4 -->\n<g id=\"node5\" class=\"node\">\n<title>4</title>\n<polygon fill=\"#3de684\" stroke=\"#000000\" points=\"249,-261 132,-261 132,-193 249,-193 249,-261\"/>\n<text text-anchor=\"middle\" x=\"190.5\" y=\"-245.8\" font-family=\"Times,serif\" font-size=\"14.00\" fill=\"#000000\">X[3] &lt;= 1.65</text>\n<text text-anchor=\"middle\" x=\"190.5\" y=\"-230.8\" font-family=\"Times,serif\" font-size=\"14.00\" fill=\"#000000\">gini = 0.041</text>\n<text text-anchor=\"middle\" x=\"190.5\" y=\"-215.8\" font-family=\"Times,serif\" font-size=\"14.00\" fill=\"#000000\">samples = 48</text>\n<text text-anchor=\"middle\" x=\"190.5\" y=\"-200.8\" font-family=\"Times,serif\" font-size=\"14.00\" fill=\"#000000\">value = [0, 47, 1]</text>\n</g>\n<!-- 3&#45;&gt;4 -->\n<g id=\"edge4\" class=\"edge\">\n<title>3&#45;&gt;4</title>\n<path fill=\"none\" stroke=\"#000000\" d=\"M321.9434,-298.948C301.7172,-287.8768 278.8932,-275.3836 258.0088,-263.9522\"/>\n<polygon fill=\"#000000\" stroke=\"#000000\" points=\"259.6427,-260.8566 249.1903,-259.1252 256.2817,-266.9969 259.6427,-260.8566\"/>\n</g>\n<!-- 7 -->\n<g id=\"node8\" class=\"node\">\n<title>7</title>\n<polygon fill=\"#c09cf2\" stroke=\"#000000\" points=\"435.5,-261 325.5,-261 325.5,-193 435.5,-193 435.5,-261\"/>\n<text text-anchor=\"middle\" x=\"380.5\" y=\"-245.8\" font-family=\"Times,serif\" font-size=\"14.00\" fill=\"#000000\">X[3] &lt;= 1.55</text>\n<text text-anchor=\"middle\" x=\"380.5\" y=\"-230.8\" font-family=\"Times,serif\" font-size=\"14.00\" fill=\"#000000\">gini = 0.444</text>\n<text text-anchor=\"middle\" x=\"380.5\" y=\"-215.8\" font-family=\"Times,serif\" font-size=\"14.00\" fill=\"#000000\">samples = 6</text>\n<text text-anchor=\"middle\" x=\"380.5\" y=\"-200.8\" font-family=\"Times,serif\" font-size=\"14.00\" fill=\"#000000\">value = [0, 2, 4]</text>\n</g>\n<!-- 3&#45;&gt;7 -->\n<g id=\"edge7\" class=\"edge\">\n<title>3&#45;&gt;7</title>\n<path fill=\"none\" stroke=\"#000000\" d=\"M380.5,-296.9465C380.5,-288.776 380.5,-279.9318 380.5,-271.3697\"/>\n<polygon fill=\"#000000\" stroke=\"#000000\" points=\"384.0001,-271.13 380.5,-261.13 377.0001,-271.13 384.0001,-271.13\"/>\n</g>\n<!-- 5 -->\n<g id=\"node6\" class=\"node\">\n<title>5</title>\n<polygon fill=\"#39e581\" stroke=\"#000000\" points=\"117,-149.5 0,-149.5 0,-96.5 117,-96.5 117,-149.5\"/>\n<text text-anchor=\"middle\" x=\"58.5\" y=\"-134.3\" font-family=\"Times,serif\" font-size=\"14.00\" fill=\"#000000\">gini = 0.0</text>\n<text text-anchor=\"middle\" x=\"58.5\" y=\"-119.3\" font-family=\"Times,serif\" font-size=\"14.00\" fill=\"#000000\">samples = 47</text>\n<text text-anchor=\"middle\" x=\"58.5\" y=\"-104.3\" font-family=\"Times,serif\" font-size=\"14.00\" fill=\"#000000\">value = [0, 47, 0]</text>\n</g>\n<!-- 4&#45;&gt;5 -->\n<g id=\"edge5\" class=\"edge\">\n<title>4&#45;&gt;5</title>\n<path fill=\"none\" stroke=\"#000000\" d=\"M147.2783,-192.9465C132.1794,-181.0504 115.2676,-167.726 100.2878,-155.9237\"/>\n<polygon fill=\"#000000\" stroke=\"#000000\" points=\"102.2091,-152.9817 92.1881,-149.5422 97.877,-158.4802 102.2091,-152.9817\"/>\n</g>\n<!-- 6 -->\n<g id=\"node7\" class=\"node\">\n<title>6</title>\n<polygon fill=\"#8139e5\" stroke=\"#000000\" points=\"245.5,-149.5 135.5,-149.5 135.5,-96.5 245.5,-96.5 245.5,-149.5\"/>\n<text text-anchor=\"middle\" x=\"190.5\" y=\"-134.3\" font-family=\"Times,serif\" font-size=\"14.00\" fill=\"#000000\">gini = 0.0</text>\n<text text-anchor=\"middle\" x=\"190.5\" y=\"-119.3\" font-family=\"Times,serif\" font-size=\"14.00\" fill=\"#000000\">samples = 1</text>\n<text text-anchor=\"middle\" x=\"190.5\" y=\"-104.3\" font-family=\"Times,serif\" font-size=\"14.00\" fill=\"#000000\">value = [0, 0, 1]</text>\n</g>\n<!-- 4&#45;&gt;6 -->\n<g id=\"edge6\" class=\"edge\">\n<title>4&#45;&gt;6</title>\n<path fill=\"none\" stroke=\"#000000\" d=\"M190.5,-192.9465C190.5,-182.2621 190.5,-170.4254 190.5,-159.5742\"/>\n<polygon fill=\"#000000\" stroke=\"#000000\" points=\"194.0001,-159.5421 190.5,-149.5422 187.0001,-159.5422 194.0001,-159.5421\"/>\n</g>\n<!-- 8 -->\n<g id=\"node9\" class=\"node\">\n<title>8</title>\n<polygon fill=\"#8139e5\" stroke=\"#000000\" points=\"373.5,-149.5 263.5,-149.5 263.5,-96.5 373.5,-96.5 373.5,-149.5\"/>\n<text text-anchor=\"middle\" x=\"318.5\" y=\"-134.3\" font-family=\"Times,serif\" font-size=\"14.00\" fill=\"#000000\">gini = 0.0</text>\n<text text-anchor=\"middle\" x=\"318.5\" y=\"-119.3\" font-family=\"Times,serif\" font-size=\"14.00\" fill=\"#000000\">samples = 3</text>\n<text text-anchor=\"middle\" x=\"318.5\" y=\"-104.3\" font-family=\"Times,serif\" font-size=\"14.00\" fill=\"#000000\">value = [0, 0, 3]</text>\n</g>\n<!-- 7&#45;&gt;8 -->\n<g id=\"edge8\" class=\"edge\">\n<title>7&#45;&gt;8</title>\n<path fill=\"none\" stroke=\"#000000\" d=\"M360.1989,-192.9465C353.5666,-181.8215 346.1897,-169.4473 339.5067,-158.237\"/>\n<polygon fill=\"#000000\" stroke=\"#000000\" points=\"342.4502,-156.3394 334.3232,-149.5422 336.4376,-159.9239 342.4502,-156.3394\"/>\n</g>\n<!-- 9 -->\n<g id=\"node10\" class=\"node\">\n<title>9</title>\n<polygon fill=\"#9cf2c0\" stroke=\"#000000\" points=\"501.5,-157 391.5,-157 391.5,-89 501.5,-89 501.5,-157\"/>\n<text text-anchor=\"middle\" x=\"446.5\" y=\"-141.8\" font-family=\"Times,serif\" font-size=\"14.00\" fill=\"#000000\">X[2] &lt;= 5.45</text>\n<text text-anchor=\"middle\" x=\"446.5\" y=\"-126.8\" font-family=\"Times,serif\" font-size=\"14.00\" fill=\"#000000\">gini = 0.444</text>\n<text text-anchor=\"middle\" x=\"446.5\" y=\"-111.8\" font-family=\"Times,serif\" font-size=\"14.00\" fill=\"#000000\">samples = 3</text>\n<text text-anchor=\"middle\" x=\"446.5\" y=\"-96.8\" font-family=\"Times,serif\" font-size=\"14.00\" fill=\"#000000\">value = [0, 2, 1]</text>\n</g>\n<!-- 7&#45;&gt;9 -->\n<g id=\"edge9\" class=\"edge\">\n<title>7&#45;&gt;9</title>\n<path fill=\"none\" stroke=\"#000000\" d=\"M402.1109,-192.9465C407.6378,-184.2373 413.6506,-174.7626 419.4146,-165.6801\"/>\n<polygon fill=\"#000000\" stroke=\"#000000\" points=\"422.4374,-167.4487 424.8406,-157.13 416.5271,-163.6979 422.4374,-167.4487\"/>\n</g>\n<!-- 10 -->\n<g id=\"node11\" class=\"node\">\n<title>10</title>\n<polygon fill=\"#39e581\" stroke=\"#000000\" points=\"437.5,-53 327.5,-53 327.5,0 437.5,0 437.5,-53\"/>\n<text text-anchor=\"middle\" x=\"382.5\" y=\"-37.8\" font-family=\"Times,serif\" font-size=\"14.00\" fill=\"#000000\">gini = 0.0</text>\n<text text-anchor=\"middle\" x=\"382.5\" y=\"-22.8\" font-family=\"Times,serif\" font-size=\"14.00\" fill=\"#000000\">samples = 2</text>\n<text text-anchor=\"middle\" x=\"382.5\" y=\"-7.8\" font-family=\"Times,serif\" font-size=\"14.00\" fill=\"#000000\">value = [0, 2, 0]</text>\n</g>\n<!-- 9&#45;&gt;10 -->\n<g id=\"edge10\" class=\"edge\">\n<title>9&#45;&gt;10</title>\n<path fill=\"none\" stroke=\"#000000\" d=\"M423.936,-88.9777C418.1059,-80.187 411.8169,-70.7044 405.943,-61.8477\"/>\n<polygon fill=\"#000000\" stroke=\"#000000\" points=\"408.6838,-59.6478 400.2399,-53.2485 402.8502,-63.5167 408.6838,-59.6478\"/>\n</g>\n<!-- 11 -->\n<g id=\"node12\" class=\"node\">\n<title>11</title>\n<polygon fill=\"#8139e5\" stroke=\"#000000\" points=\"565.5,-53 455.5,-53 455.5,0 565.5,0 565.5,-53\"/>\n<text text-anchor=\"middle\" x=\"510.5\" y=\"-37.8\" font-family=\"Times,serif\" font-size=\"14.00\" fill=\"#000000\">gini = 0.0</text>\n<text text-anchor=\"middle\" x=\"510.5\" y=\"-22.8\" font-family=\"Times,serif\" font-size=\"14.00\" fill=\"#000000\">samples = 1</text>\n<text text-anchor=\"middle\" x=\"510.5\" y=\"-7.8\" font-family=\"Times,serif\" font-size=\"14.00\" fill=\"#000000\">value = [0, 0, 1]</text>\n</g>\n<!-- 9&#45;&gt;11 -->\n<g id=\"edge11\" class=\"edge\">\n<title>9&#45;&gt;11</title>\n<path fill=\"none\" stroke=\"#000000\" d=\"M469.064,-88.9777C474.8941,-80.187 481.1831,-70.7044 487.057,-61.8477\"/>\n<polygon fill=\"#000000\" stroke=\"#000000\" points=\"490.1498,-63.5167 492.7601,-53.2485 484.3162,-59.6478 490.1498,-63.5167\"/>\n</g>\n<!-- 13 -->\n<g id=\"node14\" class=\"node\">\n<title>13</title>\n<polygon fill=\"#c09cf2\" stroke=\"#000000\" points=\"629.5,-261 519.5,-261 519.5,-193 629.5,-193 629.5,-261\"/>\n<text text-anchor=\"middle\" x=\"574.5\" y=\"-245.8\" font-family=\"Times,serif\" font-size=\"14.00\" fill=\"#000000\">X[1] &lt;= 3.1</text>\n<text text-anchor=\"middle\" x=\"574.5\" y=\"-230.8\" font-family=\"Times,serif\" font-size=\"14.00\" fill=\"#000000\">gini = 0.444</text>\n<text text-anchor=\"middle\" x=\"574.5\" y=\"-215.8\" font-family=\"Times,serif\" font-size=\"14.00\" fill=\"#000000\">samples = 3</text>\n<text text-anchor=\"middle\" x=\"574.5\" y=\"-200.8\" font-family=\"Times,serif\" font-size=\"14.00\" fill=\"#000000\">value = [0, 1, 2]</text>\n</g>\n<!-- 12&#45;&gt;13 -->\n<g id=\"edge13\" class=\"edge\">\n<title>12&#45;&gt;13</title>\n<path fill=\"none\" stroke=\"#000000\" d=\"M574.5,-296.9465C574.5,-288.776 574.5,-279.9318 574.5,-271.3697\"/>\n<polygon fill=\"#000000\" stroke=\"#000000\" points=\"578.0001,-271.13 574.5,-261.13 571.0001,-271.13 578.0001,-271.13\"/>\n</g>\n<!-- 16 -->\n<g id=\"node17\" class=\"node\">\n<title>16</title>\n<polygon fill=\"#8139e5\" stroke=\"#000000\" points=\"765,-253.5 648,-253.5 648,-200.5 765,-200.5 765,-253.5\"/>\n<text text-anchor=\"middle\" x=\"706.5\" y=\"-238.3\" font-family=\"Times,serif\" font-size=\"14.00\" fill=\"#000000\">gini = 0.0</text>\n<text text-anchor=\"middle\" x=\"706.5\" y=\"-223.3\" font-family=\"Times,serif\" font-size=\"14.00\" fill=\"#000000\">samples = 43</text>\n<text text-anchor=\"middle\" x=\"706.5\" y=\"-208.3\" font-family=\"Times,serif\" font-size=\"14.00\" fill=\"#000000\">value = [0, 0, 43]</text>\n</g>\n<!-- 12&#45;&gt;16 -->\n<g id=\"edge16\" class=\"edge\">\n<title>12&#45;&gt;16</title>\n<path fill=\"none\" stroke=\"#000000\" d=\"M617.7217,-296.9465C632.8206,-285.0504 649.7324,-271.726 664.7122,-259.9237\"/>\n<polygon fill=\"#000000\" stroke=\"#000000\" points=\"667.123,-262.4802 672.8119,-253.5422 662.7909,-256.9817 667.123,-262.4802\"/>\n</g>\n<!-- 14 -->\n<g id=\"node15\" class=\"node\">\n<title>14</title>\n<polygon fill=\"#8139e5\" stroke=\"#000000\" points=\"629.5,-149.5 519.5,-149.5 519.5,-96.5 629.5,-96.5 629.5,-149.5\"/>\n<text text-anchor=\"middle\" x=\"574.5\" y=\"-134.3\" font-family=\"Times,serif\" font-size=\"14.00\" fill=\"#000000\">gini = 0.0</text>\n<text text-anchor=\"middle\" x=\"574.5\" y=\"-119.3\" font-family=\"Times,serif\" font-size=\"14.00\" fill=\"#000000\">samples = 2</text>\n<text text-anchor=\"middle\" x=\"574.5\" y=\"-104.3\" font-family=\"Times,serif\" font-size=\"14.00\" fill=\"#000000\">value = [0, 0, 2]</text>\n</g>\n<!-- 13&#45;&gt;14 -->\n<g id=\"edge14\" class=\"edge\">\n<title>13&#45;&gt;14</title>\n<path fill=\"none\" stroke=\"#000000\" d=\"M574.5,-192.9465C574.5,-182.2621 574.5,-170.4254 574.5,-159.5742\"/>\n<polygon fill=\"#000000\" stroke=\"#000000\" points=\"578.0001,-159.5421 574.5,-149.5422 571.0001,-159.5422 578.0001,-159.5421\"/>\n</g>\n<!-- 15 -->\n<g id=\"node16\" class=\"node\">\n<title>15</title>\n<polygon fill=\"#39e581\" stroke=\"#000000\" points=\"757.5,-149.5 647.5,-149.5 647.5,-96.5 757.5,-96.5 757.5,-149.5\"/>\n<text text-anchor=\"middle\" x=\"702.5\" y=\"-134.3\" font-family=\"Times,serif\" font-size=\"14.00\" fill=\"#000000\">gini = 0.0</text>\n<text text-anchor=\"middle\" x=\"702.5\" y=\"-119.3\" font-family=\"Times,serif\" font-size=\"14.00\" fill=\"#000000\">samples = 1</text>\n<text text-anchor=\"middle\" x=\"702.5\" y=\"-104.3\" font-family=\"Times,serif\" font-size=\"14.00\" fill=\"#000000\">value = [0, 1, 0]</text>\n</g>\n<!-- 13&#45;&gt;15 -->\n<g id=\"edge15\" class=\"edge\">\n<title>13&#45;&gt;15</title>\n<path fill=\"none\" stroke=\"#000000\" d=\"M616.412,-192.9465C631.0533,-181.0504 647.4526,-167.726 661.9785,-155.9237\"/>\n<polygon fill=\"#000000\" stroke=\"#000000\" points=\"664.2786,-158.5645 669.8327,-149.5422 659.8645,-153.1317 664.2786,-158.5645\"/>\n</g>\n</g>\n</svg>\n"
          },
          "metadata": {
            "tags": []
          },
          "execution_count": 7
        }
      ]
    },
    {
      "cell_type": "markdown",
      "metadata": {
        "id": "pnTuJ7tPmbVB",
        "colab_type": "text"
      },
      "source": [
        "https://stackoverflow.com/questions/47503575/what-do-the-values-that-graphviz-renders-inside-each-node-of-a-decision-tree-m <br>\n",
        "Look at this link for explanation of the values shown here, also instead of probabilities the value in each node shows the number of members of that node alloted to each of the 3 classes."
      ]
    },
    {
      "cell_type": "code",
      "metadata": {
        "id": "bBtLimpirS8s",
        "colab_type": "code",
        "colab": {}
      },
      "source": [
        "iris = load_iris()"
      ],
      "execution_count": 0,
      "outputs": []
    },
    {
      "cell_type": "code",
      "metadata": {
        "id": "g5_3Sz4BTuMg",
        "colab_type": "code",
        "colab": {
          "base_uri": "https://localhost:8080/",
          "height": 86
        },
        "outputId": "4e7ad219-67ac-4108-ce59-c0109fcdc418"
      },
      "source": [
        "iris.feature_names"
      ],
      "execution_count": 9,
      "outputs": [
        {
          "output_type": "execute_result",
          "data": {
            "text/plain": [
              "['sepal length (cm)',\n",
              " 'sepal width (cm)',\n",
              " 'petal length (cm)',\n",
              " 'petal width (cm)']"
            ]
          },
          "metadata": {
            "tags": []
          },
          "execution_count": 9
        }
      ]
    },
    {
      "cell_type": "code",
      "metadata": {
        "id": "w5ot5pCgfJPN",
        "colab_type": "code",
        "colab": {
          "base_uri": "https://localhost:8080/",
          "height": 935
        },
        "outputId": "56fbd6b2-66df-4f13-dce8-497bb32c64bb"
      },
      "source": [
        "dot_data = tree.export_graphviz(clf, out_file=None, \n",
        "...                      feature_names=iris.feature_names,  \n",
        "...                      class_names=iris.target_names,  \n",
        "...                      filled=True, rounded=True,  \n",
        "...                      special_characters=True,proportion=True)  \n",
        "graph = graphviz.Source(dot_data)  \n",
        "graph "
      ],
      "execution_count": 10,
      "outputs": [
        {
          "output_type": "execute_result",
          "data": {
            "text/plain": [
              "<graphviz.files.Source at 0x7f8287358400>"
            ],
            "image/svg+xml": "<?xml version=\"1.0\" encoding=\"UTF-8\" standalone=\"no\"?>\n<!DOCTYPE svg PUBLIC \"-//W3C//DTD SVG 1.1//EN\"\n \"http://www.w3.org/Graphics/SVG/1.1/DTD/svg11.dtd\">\n<!-- Generated by graphviz version 2.40.1 (20161225.0304)\n -->\n<!-- Title: Tree Pages: 1 -->\n<svg width=\"1055pt\" height=\"671pt\"\n viewBox=\"0.00 0.00 1055.00 671.00\" xmlns=\"http://www.w3.org/2000/svg\" xmlns:xlink=\"http://www.w3.org/1999/xlink\">\n<g id=\"graph0\" class=\"graph\" transform=\"scale(1 1) rotate(0) translate(4 667)\">\n<title>Tree</title>\n<polygon fill=\"#ffffff\" stroke=\"transparent\" points=\"-4,4 -4,-667 1051,-667 1051,4 -4,4\"/>\n<!-- 0 -->\n<g id=\"node1\" class=\"node\">\n<title>0</title>\n<path fill=\"#ffffff\" stroke=\"#000000\" d=\"M650.5,-663C650.5,-663 474.5,-663 474.5,-663 468.5,-663 462.5,-657 462.5,-651 462.5,-651 462.5,-592 462.5,-592 462.5,-586 468.5,-580 474.5,-580 474.5,-580 650.5,-580 650.5,-580 656.5,-580 662.5,-586 662.5,-592 662.5,-592 662.5,-651 662.5,-651 662.5,-657 656.5,-663 650.5,-663\"/>\n<text text-anchor=\"start\" x=\"487\" y=\"-647.8\" font-family=\"Helvetica,sans-Serif\" font-size=\"14.00\" fill=\"#000000\">petal length (cm) ≤ 2.45</text>\n<text text-anchor=\"start\" x=\"524.5\" y=\"-632.8\" font-family=\"Helvetica,sans-Serif\" font-size=\"14.00\" fill=\"#000000\">gini = 0.667</text>\n<text text-anchor=\"start\" x=\"502\" y=\"-617.8\" font-family=\"Helvetica,sans-Serif\" font-size=\"14.00\" fill=\"#000000\">samples = 100.0%</text>\n<text text-anchor=\"start\" x=\"470.5\" y=\"-602.8\" font-family=\"Helvetica,sans-Serif\" font-size=\"14.00\" fill=\"#000000\">value = [0.333, 0.333, 0.333]</text>\n<text text-anchor=\"start\" x=\"515.5\" y=\"-587.8\" font-family=\"Helvetica,sans-Serif\" font-size=\"14.00\" fill=\"#000000\">class = setosa</text>\n</g>\n<!-- 1 -->\n<g id=\"node2\" class=\"node\">\n<title>1</title>\n<path fill=\"#e58139\" stroke=\"#000000\" d=\"M539,-536.5C539,-536.5 412,-536.5 412,-536.5 406,-536.5 400,-530.5 400,-524.5 400,-524.5 400,-480.5 400,-480.5 400,-474.5 406,-468.5 412,-468.5 412,-468.5 539,-468.5 539,-468.5 545,-468.5 551,-474.5 551,-480.5 551,-480.5 551,-524.5 551,-524.5 551,-530.5 545,-536.5 539,-536.5\"/>\n<text text-anchor=\"start\" x=\"446\" y=\"-521.3\" font-family=\"Helvetica,sans-Serif\" font-size=\"14.00\" fill=\"#000000\">gini = 0.0</text>\n<text text-anchor=\"start\" x=\"419.5\" y=\"-506.3\" font-family=\"Helvetica,sans-Serif\" font-size=\"14.00\" fill=\"#000000\">samples = 33.3%</text>\n<text text-anchor=\"start\" x=\"408\" y=\"-491.3\" font-family=\"Helvetica,sans-Serif\" font-size=\"14.00\" fill=\"#000000\">value = [1.0, 0.0, 0.0]</text>\n<text text-anchor=\"start\" x=\"428.5\" y=\"-476.3\" font-family=\"Helvetica,sans-Serif\" font-size=\"14.00\" fill=\"#000000\">class = setosa</text>\n</g>\n<!-- 0&#45;&gt;1 -->\n<g id=\"edge1\" class=\"edge\">\n<title>0&#45;&gt;1</title>\n<path fill=\"none\" stroke=\"#000000\" d=\"M532.0716,-579.8796C523.7913,-568.5536 514.8143,-556.2748 506.5026,-544.9058\"/>\n<polygon fill=\"#000000\" stroke=\"#000000\" points=\"509.3147,-542.822 500.5874,-536.8149 503.6639,-546.9533 509.3147,-542.822\"/>\n<text text-anchor=\"middle\" x=\"496.7499\" y=\"-557.8187\" font-family=\"Helvetica,sans-Serif\" font-size=\"14.00\" fill=\"#000000\">True</text>\n</g>\n<!-- 2 -->\n<g id=\"node3\" class=\"node\">\n<title>2</title>\n<path fill=\"#ffffff\" stroke=\"#000000\" d=\"M718,-544C718,-544 581,-544 581,-544 575,-544 569,-538 569,-532 569,-532 569,-473 569,-473 569,-467 575,-461 581,-461 581,-461 718,-461 718,-461 724,-461 730,-467 730,-473 730,-473 730,-532 730,-532 730,-538 724,-544 718,-544\"/>\n<text text-anchor=\"start\" x=\"577\" y=\"-528.8\" font-family=\"Helvetica,sans-Serif\" font-size=\"14.00\" fill=\"#000000\">petal width (cm) ≤ 1.75</text>\n<text text-anchor=\"start\" x=\"620\" y=\"-513.8\" font-family=\"Helvetica,sans-Serif\" font-size=\"14.00\" fill=\"#000000\">gini = 0.5</text>\n<text text-anchor=\"start\" x=\"593.5\" y=\"-498.8\" font-family=\"Helvetica,sans-Serif\" font-size=\"14.00\" fill=\"#000000\">samples = 66.7%</text>\n<text text-anchor=\"start\" x=\"582\" y=\"-483.8\" font-family=\"Helvetica,sans-Serif\" font-size=\"14.00\" fill=\"#000000\">value = [0.0, 0.5, 0.5]</text>\n<text text-anchor=\"start\" x=\"593.5\" y=\"-468.8\" font-family=\"Helvetica,sans-Serif\" font-size=\"14.00\" fill=\"#000000\">class = versicolor</text>\n</g>\n<!-- 0&#45;&gt;2 -->\n<g id=\"edge2\" class=\"edge\">\n<title>0&#45;&gt;2</title>\n<path fill=\"none\" stroke=\"#000000\" d=\"M592.9284,-579.8796C599.3811,-571.0534 606.257,-561.6485 612.9113,-552.5466\"/>\n<polygon fill=\"#000000\" stroke=\"#000000\" points=\"615.8653,-554.4364 618.9417,-544.2981 610.2144,-550.3051 615.8653,-554.4364\"/>\n<text text-anchor=\"middle\" x=\"622.7792\" y=\"-565.3018\" font-family=\"Helvetica,sans-Serif\" font-size=\"14.00\" fill=\"#000000\">False</text>\n</g>\n<!-- 3 -->\n<g id=\"node4\" class=\"node\">\n<title>3</title>\n<path fill=\"#4de88e\" stroke=\"#000000\" d=\"M594.5,-425C594.5,-425 434.5,-425 434.5,-425 428.5,-425 422.5,-419 422.5,-413 422.5,-413 422.5,-354 422.5,-354 422.5,-348 428.5,-342 434.5,-342 434.5,-342 594.5,-342 594.5,-342 600.5,-342 606.5,-348 606.5,-354 606.5,-354 606.5,-413 606.5,-413 606.5,-419 600.5,-425 594.5,-425\"/>\n<text text-anchor=\"start\" x=\"439\" y=\"-409.8\" font-family=\"Helvetica,sans-Serif\" font-size=\"14.00\" fill=\"#000000\">petal length (cm) ≤ 4.95</text>\n<text text-anchor=\"start\" x=\"476.5\" y=\"-394.8\" font-family=\"Helvetica,sans-Serif\" font-size=\"14.00\" fill=\"#000000\">gini = 0.168</text>\n<text text-anchor=\"start\" x=\"458.5\" y=\"-379.8\" font-family=\"Helvetica,sans-Serif\" font-size=\"14.00\" fill=\"#000000\">samples = 36.0%</text>\n<text text-anchor=\"start\" x=\"430.5\" y=\"-364.8\" font-family=\"Helvetica,sans-Serif\" font-size=\"14.00\" fill=\"#000000\">value = [0.0, 0.907, 0.093]</text>\n<text text-anchor=\"start\" x=\"458.5\" y=\"-349.8\" font-family=\"Helvetica,sans-Serif\" font-size=\"14.00\" fill=\"#000000\">class = versicolor</text>\n</g>\n<!-- 2&#45;&gt;3 -->\n<g id=\"edge3\" class=\"edge\">\n<title>2&#45;&gt;3</title>\n<path fill=\"none\" stroke=\"#000000\" d=\"M602.2836,-460.8796C591.7598,-451.6031 580.5109,-441.6874 569.6979,-432.1559\"/>\n<polygon fill=\"#000000\" stroke=\"#000000\" points=\"571.734,-429.2851 561.918,-425.2981 567.1052,-434.5362 571.734,-429.2851\"/>\n</g>\n<!-- 12 -->\n<g id=\"node13\" class=\"node\">\n<title>12</title>\n<path fill=\"#843de6\" stroke=\"#000000\" d=\"M865.5,-425C865.5,-425 705.5,-425 705.5,-425 699.5,-425 693.5,-419 693.5,-413 693.5,-413 693.5,-354 693.5,-354 693.5,-348 699.5,-342 705.5,-342 705.5,-342 865.5,-342 865.5,-342 871.5,-342 877.5,-348 877.5,-354 877.5,-354 877.5,-413 877.5,-413 877.5,-419 871.5,-425 865.5,-425\"/>\n<text text-anchor=\"start\" x=\"710\" y=\"-409.8\" font-family=\"Helvetica,sans-Serif\" font-size=\"14.00\" fill=\"#000000\">petal length (cm) ≤ 4.85</text>\n<text text-anchor=\"start\" x=\"747.5\" y=\"-394.8\" font-family=\"Helvetica,sans-Serif\" font-size=\"14.00\" fill=\"#000000\">gini = 0.043</text>\n<text text-anchor=\"start\" x=\"729.5\" y=\"-379.8\" font-family=\"Helvetica,sans-Serif\" font-size=\"14.00\" fill=\"#000000\">samples = 30.7%</text>\n<text text-anchor=\"start\" x=\"701.5\" y=\"-364.8\" font-family=\"Helvetica,sans-Serif\" font-size=\"14.00\" fill=\"#000000\">value = [0.0, 0.022, 0.978]</text>\n<text text-anchor=\"start\" x=\"734\" y=\"-349.8\" font-family=\"Helvetica,sans-Serif\" font-size=\"14.00\" fill=\"#000000\">class = virginica</text>\n</g>\n<!-- 2&#45;&gt;12 -->\n<g id=\"edge12\" class=\"edge\">\n<title>2&#45;&gt;12</title>\n<path fill=\"none\" stroke=\"#000000\" d=\"M697.0662,-460.8796C707.6679,-451.6031 719.0002,-441.6874 729.8933,-432.1559\"/>\n<polygon fill=\"#000000\" stroke=\"#000000\" points=\"732.5098,-434.5172 737.7308,-425.2981 727.9002,-429.2491 732.5098,-434.5172\"/>\n</g>\n<!-- 4 -->\n<g id=\"node5\" class=\"node\">\n<title>4</title>\n<path fill=\"#3de684\" stroke=\"#000000\" d=\"M324.5,-306C324.5,-306 164.5,-306 164.5,-306 158.5,-306 152.5,-300 152.5,-294 152.5,-294 152.5,-235 152.5,-235 152.5,-229 158.5,-223 164.5,-223 164.5,-223 324.5,-223 324.5,-223 330.5,-223 336.5,-229 336.5,-235 336.5,-235 336.5,-294 336.5,-294 336.5,-300 330.5,-306 324.5,-306\"/>\n<text text-anchor=\"start\" x=\"172\" y=\"-290.8\" font-family=\"Helvetica,sans-Serif\" font-size=\"14.00\" fill=\"#000000\">petal width (cm) ≤ 1.65</text>\n<text text-anchor=\"start\" x=\"206.5\" y=\"-275.8\" font-family=\"Helvetica,sans-Serif\" font-size=\"14.00\" fill=\"#000000\">gini = 0.041</text>\n<text text-anchor=\"start\" x=\"188.5\" y=\"-260.8\" font-family=\"Helvetica,sans-Serif\" font-size=\"14.00\" fill=\"#000000\">samples = 32.0%</text>\n<text text-anchor=\"start\" x=\"160.5\" y=\"-245.8\" font-family=\"Helvetica,sans-Serif\" font-size=\"14.00\" fill=\"#000000\">value = [0.0, 0.979, 0.021]</text>\n<text text-anchor=\"start\" x=\"188.5\" y=\"-230.8\" font-family=\"Helvetica,sans-Serif\" font-size=\"14.00\" fill=\"#000000\">class = versicolor</text>\n</g>\n<!-- 3&#45;&gt;4 -->\n<g id=\"edge4\" class=\"edge\">\n<title>3&#45;&gt;4</title>\n<path fill=\"none\" stroke=\"#000000\" d=\"M422.3365,-342.8798C397.7099,-332.0258 370.9617,-320.2368 345.869,-309.1775\"/>\n<polygon fill=\"#000000\" stroke=\"#000000\" points=\"347.2685,-305.9694 336.7063,-305.1391 344.4453,-312.3749 347.2685,-305.9694\"/>\n</g>\n<!-- 7 -->\n<g id=\"node8\" class=\"node\">\n<title>7</title>\n<path fill=\"#c09cf2\" stroke=\"#000000\" d=\"M594.5,-306C594.5,-306 434.5,-306 434.5,-306 428.5,-306 422.5,-300 422.5,-294 422.5,-294 422.5,-235 422.5,-235 422.5,-229 428.5,-223 434.5,-223 434.5,-223 594.5,-223 594.5,-223 600.5,-223 606.5,-229 606.5,-235 606.5,-235 606.5,-294 606.5,-294 606.5,-300 600.5,-306 594.5,-306\"/>\n<text text-anchor=\"start\" x=\"442\" y=\"-290.8\" font-family=\"Helvetica,sans-Serif\" font-size=\"14.00\" fill=\"#000000\">petal width (cm) ≤ 1.55</text>\n<text text-anchor=\"start\" x=\"476.5\" y=\"-275.8\" font-family=\"Helvetica,sans-Serif\" font-size=\"14.00\" fill=\"#000000\">gini = 0.444</text>\n<text text-anchor=\"start\" x=\"462.5\" y=\"-260.8\" font-family=\"Helvetica,sans-Serif\" font-size=\"14.00\" fill=\"#000000\">samples = 4.0%</text>\n<text text-anchor=\"start\" x=\"430.5\" y=\"-245.8\" font-family=\"Helvetica,sans-Serif\" font-size=\"14.00\" fill=\"#000000\">value = [0.0, 0.333, 0.667]</text>\n<text text-anchor=\"start\" x=\"463\" y=\"-230.8\" font-family=\"Helvetica,sans-Serif\" font-size=\"14.00\" fill=\"#000000\">class = virginica</text>\n</g>\n<!-- 3&#45;&gt;7 -->\n<g id=\"edge7\" class=\"edge\">\n<title>3&#45;&gt;7</title>\n<path fill=\"none\" stroke=\"#000000\" d=\"M514.5,-341.8796C514.5,-333.6838 514.5,-324.9891 514.5,-316.5013\"/>\n<polygon fill=\"#000000\" stroke=\"#000000\" points=\"518.0001,-316.298 514.5,-306.2981 511.0001,-316.2981 518.0001,-316.298\"/>\n</g>\n<!-- 5 -->\n<g id=\"node6\" class=\"node\">\n<title>5</title>\n<path fill=\"#39e581\" stroke=\"#000000\" d=\"M139,-179.5C139,-179.5 12,-179.5 12,-179.5 6,-179.5 0,-173.5 0,-167.5 0,-167.5 0,-123.5 0,-123.5 0,-117.5 6,-111.5 12,-111.5 12,-111.5 139,-111.5 139,-111.5 145,-111.5 151,-117.5 151,-123.5 151,-123.5 151,-167.5 151,-167.5 151,-173.5 145,-179.5 139,-179.5\"/>\n<text text-anchor=\"start\" x=\"46\" y=\"-164.3\" font-family=\"Helvetica,sans-Serif\" font-size=\"14.00\" fill=\"#000000\">gini = 0.0</text>\n<text text-anchor=\"start\" x=\"19.5\" y=\"-149.3\" font-family=\"Helvetica,sans-Serif\" font-size=\"14.00\" fill=\"#000000\">samples = 31.3%</text>\n<text text-anchor=\"start\" x=\"8\" y=\"-134.3\" font-family=\"Helvetica,sans-Serif\" font-size=\"14.00\" fill=\"#000000\">value = [0.0, 1.0, 0.0]</text>\n<text text-anchor=\"start\" x=\"19.5\" y=\"-119.3\" font-family=\"Helvetica,sans-Serif\" font-size=\"14.00\" fill=\"#000000\">class = versicolor</text>\n</g>\n<!-- 4&#45;&gt;5 -->\n<g id=\"edge5\" class=\"edge\">\n<title>4&#45;&gt;5</title>\n<path fill=\"none\" stroke=\"#000000\" d=\"M185.392,-222.8796C168.1323,-210.7263 149.3144,-197.4759 132.207,-185.4297\"/>\n<polygon fill=\"#000000\" stroke=\"#000000\" points=\"134.1519,-182.5187 123.9604,-179.623 130.1218,-188.2421 134.1519,-182.5187\"/>\n</g>\n<!-- 6 -->\n<g id=\"node7\" class=\"node\">\n<title>6</title>\n<path fill=\"#8139e5\" stroke=\"#000000\" d=\"M308,-179.5C308,-179.5 181,-179.5 181,-179.5 175,-179.5 169,-173.5 169,-167.5 169,-167.5 169,-123.5 169,-123.5 169,-117.5 175,-111.5 181,-111.5 181,-111.5 308,-111.5 308,-111.5 314,-111.5 320,-117.5 320,-123.5 320,-123.5 320,-167.5 320,-167.5 320,-173.5 314,-179.5 308,-179.5\"/>\n<text text-anchor=\"start\" x=\"215\" y=\"-164.3\" font-family=\"Helvetica,sans-Serif\" font-size=\"14.00\" fill=\"#000000\">gini = 0.0</text>\n<text text-anchor=\"start\" x=\"192.5\" y=\"-149.3\" font-family=\"Helvetica,sans-Serif\" font-size=\"14.00\" fill=\"#000000\">samples = 0.7%</text>\n<text text-anchor=\"start\" x=\"177\" y=\"-134.3\" font-family=\"Helvetica,sans-Serif\" font-size=\"14.00\" fill=\"#000000\">value = [0.0, 0.0, 1.0]</text>\n<text text-anchor=\"start\" x=\"193\" y=\"-119.3\" font-family=\"Helvetica,sans-Serif\" font-size=\"14.00\" fill=\"#000000\">class = virginica</text>\n</g>\n<!-- 4&#45;&gt;6 -->\n<g id=\"edge6\" class=\"edge\">\n<title>4&#45;&gt;6</title>\n<path fill=\"none\" stroke=\"#000000\" d=\"M244.5,-222.8796C244.5,-212.2134 244.5,-200.7021 244.5,-189.9015\"/>\n<polygon fill=\"#000000\" stroke=\"#000000\" points=\"248.0001,-189.8149 244.5,-179.8149 241.0001,-189.815 248.0001,-189.8149\"/>\n</g>\n<!-- 8 -->\n<g id=\"node9\" class=\"node\">\n<title>8</title>\n<path fill=\"#8139e5\" stroke=\"#000000\" d=\"M477,-179.5C477,-179.5 350,-179.5 350,-179.5 344,-179.5 338,-173.5 338,-167.5 338,-167.5 338,-123.5 338,-123.5 338,-117.5 344,-111.5 350,-111.5 350,-111.5 477,-111.5 477,-111.5 483,-111.5 489,-117.5 489,-123.5 489,-123.5 489,-167.5 489,-167.5 489,-173.5 483,-179.5 477,-179.5\"/>\n<text text-anchor=\"start\" x=\"384\" y=\"-164.3\" font-family=\"Helvetica,sans-Serif\" font-size=\"14.00\" fill=\"#000000\">gini = 0.0</text>\n<text text-anchor=\"start\" x=\"361.5\" y=\"-149.3\" font-family=\"Helvetica,sans-Serif\" font-size=\"14.00\" fill=\"#000000\">samples = 2.0%</text>\n<text text-anchor=\"start\" x=\"346\" y=\"-134.3\" font-family=\"Helvetica,sans-Serif\" font-size=\"14.00\" fill=\"#000000\">value = [0.0, 0.0, 1.0]</text>\n<text text-anchor=\"start\" x=\"362\" y=\"-119.3\" font-family=\"Helvetica,sans-Serif\" font-size=\"14.00\" fill=\"#000000\">class = virginica</text>\n</g>\n<!-- 7&#45;&gt;8 -->\n<g id=\"edge8\" class=\"edge\">\n<title>7&#45;&gt;8</title>\n<path fill=\"none\" stroke=\"#000000\" d=\"M479.1751,-222.8796C469.469,-211.4436 458.9384,-199.0363 449.2107,-187.575\"/>\n<polygon fill=\"#000000\" stroke=\"#000000\" points=\"451.7638,-185.1743 442.6244,-179.8149 446.4269,-189.7039 451.7638,-185.1743\"/>\n</g>\n<!-- 9 -->\n<g id=\"node10\" class=\"node\">\n<title>9</title>\n<path fill=\"#9cf2c0\" stroke=\"#000000\" d=\"M679.5,-187C679.5,-187 519.5,-187 519.5,-187 513.5,-187 507.5,-181 507.5,-175 507.5,-175 507.5,-116 507.5,-116 507.5,-110 513.5,-104 519.5,-104 519.5,-104 679.5,-104 679.5,-104 685.5,-104 691.5,-110 691.5,-116 691.5,-116 691.5,-175 691.5,-175 691.5,-181 685.5,-187 679.5,-187\"/>\n<text text-anchor=\"start\" x=\"524\" y=\"-171.8\" font-family=\"Helvetica,sans-Serif\" font-size=\"14.00\" fill=\"#000000\">petal length (cm) ≤ 5.45</text>\n<text text-anchor=\"start\" x=\"561.5\" y=\"-156.8\" font-family=\"Helvetica,sans-Serif\" font-size=\"14.00\" fill=\"#000000\">gini = 0.444</text>\n<text text-anchor=\"start\" x=\"547.5\" y=\"-141.8\" font-family=\"Helvetica,sans-Serif\" font-size=\"14.00\" fill=\"#000000\">samples = 2.0%</text>\n<text text-anchor=\"start\" x=\"515.5\" y=\"-126.8\" font-family=\"Helvetica,sans-Serif\" font-size=\"14.00\" fill=\"#000000\">value = [0.0, 0.667, 0.333]</text>\n<text text-anchor=\"start\" x=\"543.5\" y=\"-111.8\" font-family=\"Helvetica,sans-Serif\" font-size=\"14.00\" fill=\"#000000\">class = versicolor</text>\n</g>\n<!-- 7&#45;&gt;9 -->\n<g id=\"edge9\" class=\"edge\">\n<title>7&#45;&gt;9</title>\n<path fill=\"none\" stroke=\"#000000\" d=\"M544.2289,-222.8796C550.5333,-214.0534 557.251,-204.6485 563.7524,-195.5466\"/>\n<polygon fill=\"#000000\" stroke=\"#000000\" points=\"566.6799,-197.4698 569.6442,-187.2981 560.9837,-193.4011 566.6799,-197.4698\"/>\n</g>\n<!-- 10 -->\n<g id=\"node11\" class=\"node\">\n<title>10</title>\n<path fill=\"#39e581\" stroke=\"#000000\" d=\"M578,-68C578,-68 451,-68 451,-68 445,-68 439,-62 439,-56 439,-56 439,-12 439,-12 439,-6 445,0 451,0 451,0 578,0 578,0 584,0 590,-6 590,-12 590,-12 590,-56 590,-56 590,-62 584,-68 578,-68\"/>\n<text text-anchor=\"start\" x=\"485\" y=\"-52.8\" font-family=\"Helvetica,sans-Serif\" font-size=\"14.00\" fill=\"#000000\">gini = 0.0</text>\n<text text-anchor=\"start\" x=\"462.5\" y=\"-37.8\" font-family=\"Helvetica,sans-Serif\" font-size=\"14.00\" fill=\"#000000\">samples = 1.3%</text>\n<text text-anchor=\"start\" x=\"447\" y=\"-22.8\" font-family=\"Helvetica,sans-Serif\" font-size=\"14.00\" fill=\"#000000\">value = [0.0, 1.0, 0.0]</text>\n<text text-anchor=\"start\" x=\"458.5\" y=\"-7.8\" font-family=\"Helvetica,sans-Serif\" font-size=\"14.00\" fill=\"#000000\">class = versicolor</text>\n</g>\n<!-- 9&#45;&gt;10 -->\n<g id=\"edge10\" class=\"edge\">\n<title>9&#45;&gt;10</title>\n<path fill=\"none\" stroke=\"#000000\" d=\"M567.8491,-103.9815C560.9829,-94.9747 553.7118,-85.4367 546.8202,-76.3965\"/>\n<polygon fill=\"#000000\" stroke=\"#000000\" points=\"549.4664,-74.0945 540.6203,-68.2637 543.8995,-78.3383 549.4664,-74.0945\"/>\n</g>\n<!-- 11 -->\n<g id=\"node12\" class=\"node\">\n<title>11</title>\n<path fill=\"#8139e5\" stroke=\"#000000\" d=\"M747,-68C747,-68 620,-68 620,-68 614,-68 608,-62 608,-56 608,-56 608,-12 608,-12 608,-6 614,0 620,0 620,0 747,0 747,0 753,0 759,-6 759,-12 759,-12 759,-56 759,-56 759,-62 753,-68 747,-68\"/>\n<text text-anchor=\"start\" x=\"654\" y=\"-52.8\" font-family=\"Helvetica,sans-Serif\" font-size=\"14.00\" fill=\"#000000\">gini = 0.0</text>\n<text text-anchor=\"start\" x=\"631.5\" y=\"-37.8\" font-family=\"Helvetica,sans-Serif\" font-size=\"14.00\" fill=\"#000000\">samples = 0.7%</text>\n<text text-anchor=\"start\" x=\"616\" y=\"-22.8\" font-family=\"Helvetica,sans-Serif\" font-size=\"14.00\" fill=\"#000000\">value = [0.0, 0.0, 1.0]</text>\n<text text-anchor=\"start\" x=\"632\" y=\"-7.8\" font-family=\"Helvetica,sans-Serif\" font-size=\"14.00\" fill=\"#000000\">class = virginica</text>\n</g>\n<!-- 9&#45;&gt;11 -->\n<g id=\"edge11\" class=\"edge\">\n<title>9&#45;&gt;11</title>\n<path fill=\"none\" stroke=\"#000000\" d=\"M630.7785,-103.9815C637.5639,-94.9747 644.7495,-85.4367 651.5601,-76.3965\"/>\n<polygon fill=\"#000000\" stroke=\"#000000\" points=\"654.4653,-78.3568 657.687,-68.2637 648.8743,-74.1448 654.4653,-78.3568\"/>\n</g>\n<!-- 13 -->\n<g id=\"node14\" class=\"node\">\n<title>13</title>\n<path fill=\"#c09cf2\" stroke=\"#000000\" d=\"M865.5,-306C865.5,-306 705.5,-306 705.5,-306 699.5,-306 693.5,-300 693.5,-294 693.5,-294 693.5,-235 693.5,-235 693.5,-229 699.5,-223 705.5,-223 705.5,-223 865.5,-223 865.5,-223 871.5,-223 877.5,-229 877.5,-235 877.5,-235 877.5,-294 877.5,-294 877.5,-300 871.5,-306 865.5,-306\"/>\n<text text-anchor=\"start\" x=\"715\" y=\"-290.8\" font-family=\"Helvetica,sans-Serif\" font-size=\"14.00\" fill=\"#000000\">sepal width (cm) ≤ 3.1</text>\n<text text-anchor=\"start\" x=\"747.5\" y=\"-275.8\" font-family=\"Helvetica,sans-Serif\" font-size=\"14.00\" fill=\"#000000\">gini = 0.444</text>\n<text text-anchor=\"start\" x=\"733.5\" y=\"-260.8\" font-family=\"Helvetica,sans-Serif\" font-size=\"14.00\" fill=\"#000000\">samples = 2.0%</text>\n<text text-anchor=\"start\" x=\"701.5\" y=\"-245.8\" font-family=\"Helvetica,sans-Serif\" font-size=\"14.00\" fill=\"#000000\">value = [0.0, 0.333, 0.667]</text>\n<text text-anchor=\"start\" x=\"734\" y=\"-230.8\" font-family=\"Helvetica,sans-Serif\" font-size=\"14.00\" fill=\"#000000\">class = virginica</text>\n</g>\n<!-- 12&#45;&gt;13 -->\n<g id=\"edge13\" class=\"edge\">\n<title>12&#45;&gt;13</title>\n<path fill=\"none\" stroke=\"#000000\" d=\"M785.5,-341.8796C785.5,-333.6838 785.5,-324.9891 785.5,-316.5013\"/>\n<polygon fill=\"#000000\" stroke=\"#000000\" points=\"789.0001,-316.298 785.5,-306.2981 782.0001,-316.2981 789.0001,-316.298\"/>\n</g>\n<!-- 16 -->\n<g id=\"node17\" class=\"node\">\n<title>16</title>\n<path fill=\"#8139e5\" stroke=\"#000000\" d=\"M1035,-298.5C1035,-298.5 908,-298.5 908,-298.5 902,-298.5 896,-292.5 896,-286.5 896,-286.5 896,-242.5 896,-242.5 896,-236.5 902,-230.5 908,-230.5 908,-230.5 1035,-230.5 1035,-230.5 1041,-230.5 1047,-236.5 1047,-242.5 1047,-242.5 1047,-286.5 1047,-286.5 1047,-292.5 1041,-298.5 1035,-298.5\"/>\n<text text-anchor=\"start\" x=\"942\" y=\"-283.3\" font-family=\"Helvetica,sans-Serif\" font-size=\"14.00\" fill=\"#000000\">gini = 0.0</text>\n<text text-anchor=\"start\" x=\"915.5\" y=\"-268.3\" font-family=\"Helvetica,sans-Serif\" font-size=\"14.00\" fill=\"#000000\">samples = 28.7%</text>\n<text text-anchor=\"start\" x=\"904\" y=\"-253.3\" font-family=\"Helvetica,sans-Serif\" font-size=\"14.00\" fill=\"#000000\">value = [0.0, 0.0, 1.0]</text>\n<text text-anchor=\"start\" x=\"920\" y=\"-238.3\" font-family=\"Helvetica,sans-Serif\" font-size=\"14.00\" fill=\"#000000\">class = virginica</text>\n</g>\n<!-- 12&#45;&gt;16 -->\n<g id=\"edge16\" class=\"edge\">\n<title>12&#45;&gt;16</title>\n<path fill=\"none\" stroke=\"#000000\" d=\"M850.5538,-341.8796C869.7224,-329.6158 890.6371,-316.2348 909.6018,-304.1015\"/>\n<polygon fill=\"#000000\" stroke=\"#000000\" points=\"911.6275,-306.9606 918.1648,-298.623 907.855,-301.0641 911.6275,-306.9606\"/>\n</g>\n<!-- 14 -->\n<g id=\"node15\" class=\"node\">\n<title>14</title>\n<path fill=\"#8139e5\" stroke=\"#000000\" d=\"M849,-179.5C849,-179.5 722,-179.5 722,-179.5 716,-179.5 710,-173.5 710,-167.5 710,-167.5 710,-123.5 710,-123.5 710,-117.5 716,-111.5 722,-111.5 722,-111.5 849,-111.5 849,-111.5 855,-111.5 861,-117.5 861,-123.5 861,-123.5 861,-167.5 861,-167.5 861,-173.5 855,-179.5 849,-179.5\"/>\n<text text-anchor=\"start\" x=\"756\" y=\"-164.3\" font-family=\"Helvetica,sans-Serif\" font-size=\"14.00\" fill=\"#000000\">gini = 0.0</text>\n<text text-anchor=\"start\" x=\"733.5\" y=\"-149.3\" font-family=\"Helvetica,sans-Serif\" font-size=\"14.00\" fill=\"#000000\">samples = 1.3%</text>\n<text text-anchor=\"start\" x=\"718\" y=\"-134.3\" font-family=\"Helvetica,sans-Serif\" font-size=\"14.00\" fill=\"#000000\">value = [0.0, 0.0, 1.0]</text>\n<text text-anchor=\"start\" x=\"734\" y=\"-119.3\" font-family=\"Helvetica,sans-Serif\" font-size=\"14.00\" fill=\"#000000\">class = virginica</text>\n</g>\n<!-- 13&#45;&gt;14 -->\n<g id=\"edge14\" class=\"edge\">\n<title>13&#45;&gt;14</title>\n<path fill=\"none\" stroke=\"#000000\" d=\"M785.5,-222.8796C785.5,-212.2134 785.5,-200.7021 785.5,-189.9015\"/>\n<polygon fill=\"#000000\" stroke=\"#000000\" points=\"789.0001,-189.8149 785.5,-179.8149 782.0001,-189.815 789.0001,-189.8149\"/>\n</g>\n<!-- 15 -->\n<g id=\"node16\" class=\"node\">\n<title>15</title>\n<path fill=\"#39e581\" stroke=\"#000000\" d=\"M1018,-179.5C1018,-179.5 891,-179.5 891,-179.5 885,-179.5 879,-173.5 879,-167.5 879,-167.5 879,-123.5 879,-123.5 879,-117.5 885,-111.5 891,-111.5 891,-111.5 1018,-111.5 1018,-111.5 1024,-111.5 1030,-117.5 1030,-123.5 1030,-123.5 1030,-167.5 1030,-167.5 1030,-173.5 1024,-179.5 1018,-179.5\"/>\n<text text-anchor=\"start\" x=\"925\" y=\"-164.3\" font-family=\"Helvetica,sans-Serif\" font-size=\"14.00\" fill=\"#000000\">gini = 0.0</text>\n<text text-anchor=\"start\" x=\"902.5\" y=\"-149.3\" font-family=\"Helvetica,sans-Serif\" font-size=\"14.00\" fill=\"#000000\">samples = 0.7%</text>\n<text text-anchor=\"start\" x=\"887\" y=\"-134.3\" font-family=\"Helvetica,sans-Serif\" font-size=\"14.00\" fill=\"#000000\">value = [0.0, 1.0, 0.0]</text>\n<text text-anchor=\"start\" x=\"898.5\" y=\"-119.3\" font-family=\"Helvetica,sans-Serif\" font-size=\"14.00\" fill=\"#000000\">class = versicolor</text>\n</g>\n<!-- 13&#45;&gt;15 -->\n<g id=\"edge15\" class=\"edge\">\n<title>13&#45;&gt;15</title>\n<path fill=\"none\" stroke=\"#000000\" d=\"M844.608,-222.8796C861.8677,-210.7263 880.6856,-197.4759 897.793,-185.4297\"/>\n<polygon fill=\"#000000\" stroke=\"#000000\" points=\"899.8782,-188.2421 906.0396,-179.623 895.8481,-182.5187 899.8782,-188.2421\"/>\n</g>\n</g>\n</svg>\n"
          },
          "metadata": {
            "tags": []
          },
          "execution_count": 10
        }
      ]
    },
    {
      "cell_type": "markdown",
      "metadata": {
        "id": "YpR5i89CRW2s",
        "colab_type": "text"
      },
      "source": [
        "##### **Printing Decision Surface** <br>\n",
        "Might not be feasible for data in higher dimensions"
      ]
    },
    {
      "cell_type": "code",
      "metadata": {
        "id": "4YOMV5D9Q3Ie",
        "colab_type": "code",
        "colab": {
          "base_uri": "https://localhost:8080/",
          "height": 652
        },
        "outputId": "e22cc401-9cf3-46af-e685-abae0c5a1847"
      },
      "source": [
        "# Parameters\n",
        "n_classes = 3\n",
        "plot_colors = \"ryb\"\n",
        "plot_step = 0.02\n",
        "\n",
        "for pairidx, pair in enumerate([[0, 1], [0, 2], [0, 3],\n",
        "                                [1, 2], [1, 3], [2, 3]]):\n",
        "    # We only take the two corresponding features\n",
        "    X = iris.data[:, pair]\n",
        "    y = iris.target\n",
        "\n",
        "    # Train\n",
        "    clf = DecisionTreeClassifier().fit(X, y)\n",
        "\n",
        "    # Plot the decision boundary\n",
        "    plt.subplot(2, 3, pairidx + 1)\n",
        "\n",
        "    x_min, x_max = X[:, 0].min() - 1, X[:, 0].max() + 1\n",
        "    y_min, y_max = X[:, 1].min() - 1, X[:, 1].max() + 1\n",
        "    xx, yy = np.meshgrid(np.arange(x_min, x_max, plot_step),\n",
        "                         np.arange(y_min, y_max, plot_step))\n",
        "    plt.tight_layout(h_pad=0.25, w_pad=0.25, pad=1.5)\n",
        "\n",
        "    Z = clf.predict(np.c_[xx.ravel(), yy.ravel()])\n",
        "    Z = Z.reshape(xx.shape)\n",
        "    cs = plt.contourf(xx, yy, Z, cmap=plt.cm.RdYlBu)\n",
        "\n",
        "    plt.xlabel(iris.feature_names[pair[0]])\n",
        "    plt.ylabel(iris.feature_names[pair[1]])\n",
        "\n",
        "    # Plot the training points\n",
        "    for i, color in zip(range(n_classes), plot_colors):\n",
        "        idx = np.where(y == i)\n",
        "        plt.scatter(X[idx, 0], X[idx, 1], c=color, label=iris.target_names[i], \n",
        "                    cmap=plt.cm.RdYlBu, edgecolor='black', s=15)\n",
        "\n",
        "plt.suptitle(\"Decision surface of a decision tree using paired features\")\n",
        "plt.legend(borderpad=0, handletextpad=0, loc = 'lower right')\n",
        "plt.gcf().set_size_inches((10, 10))  \n",
        "#plt.axis(\"tight\")\n",
        "plt.show()"
      ],
      "execution_count": 11,
      "outputs": [
        {
          "output_type": "display_data",
          "data": {
            "image/png": "[encoded data removed]",
            "text/plain": [
              "<Figure size 720x720 with 6 Axes>"
            ]
          },
          "metadata": {
            "tags": [],
            "needs_background": "light"
          }
        }
      ]
    },
    {
      "cell_type": "markdown",
      "metadata": {
        "id": "X2h4eZTmcHKj",
        "colab_type": "text"
      },
      "source": [
        "##### These plots show us what the classification boundaries should be if we considered only two of the attributes at a time. For larger number of attributes, this would be difficult."
      ]
    },
    {
      "cell_type": "markdown",
      "metadata": {
        "id": "B_5l1ULKr5hP",
        "colab_type": "text"
      },
      "source": [
        "##### **Customized Decision Tree**\n",
        "We will try to look at customized tree and try to see if we can dictate the first few partitions of the tree <br>\n",
        "https://medium.com/@rakendd/decision-tree-from-scratch-9e23bcfb4928"
      ]
    },
    {
      "cell_type": "code",
      "metadata": {
        "id": "j5b8viVBfJJY",
        "colab_type": "code",
        "colab": {}
      },
      "source": [
        "eps = np.finfo(float).eps"
      ],
      "execution_count": 0,
      "outputs": []
    },
    {
      "cell_type": "code",
      "metadata": {
        "id": "M8uXcpYG5aAk",
        "colab_type": "code",
        "colab": {}
      },
      "source": [
        "dataset = {'Taste':['Salty','Spicy','Spicy','Spicy','Spicy','Sweet','Salty','Sweet','Spicy','Salty'],\n",
        "       'Temperature':['Hot','Hot','Hot','Cold','Hot','Cold','Cold','Hot','Cold','Hot'],\n",
        "       'Texture':['Soft','Soft','Hard','Hard','Hard','Soft','Soft','Soft','Soft','Hard'],\n",
        "       'Eat':['No','No','Yes','No','Yes','Yes','No','Yes','Yes','Yes']}"
      ],
      "execution_count": 0,
      "outputs": []
    },
    {
      "cell_type": "code",
      "metadata": {
        "id": "gj_kwpjt5aFS",
        "colab_type": "code",
        "colab": {
          "base_uri": "https://localhost:8080/",
          "height": 363
        },
        "outputId": "317c1c95-9249-449a-c3c6-f3813e2cc54e"
      },
      "source": [
        "df = pd.DataFrame(dataset,columns=['Taste','Temperature','Texture','Eat'])\n",
        "df"
      ],
      "execution_count": 14,
      "outputs": [
        {
          "output_type": "execute_result",
          "data": {
            "text/html": [
              "<div>\n",
              "<style scoped>\n",
              "    .dataframe tbody tr th:only-of-type {\n",
              "        vertical-align: middle;\n",
              "    }\n",
              "\n",
              "    .dataframe tbody tr th {\n",
              "        vertical-align: top;\n",
              "    }\n",
              "\n",
              "    .dataframe thead th {\n",
              "        text-align: right;\n",
              "    }\n",
              "</style>\n",
              "<table border=\"1\" class=\"dataframe\">\n",
              "  <thead>\n",
              "    <tr style=\"text-align: right;\">\n",
              "      <th></th>\n",
              "      <th>Taste</th>\n",
              "      <th>Temperature</th>\n",
              "      <th>Texture</th>\n",
              "      <th>Eat</th>\n",
              "    </tr>\n",
              "  </thead>\n",
              "  <tbody>\n",
              "    <tr>\n",
              "      <th>0</th>\n",
              "      <td>Salty</td>\n",
              "      <td>Hot</td>\n",
              "      <td>Soft</td>\n",
              "      <td>No</td>\n",
              "    </tr>\n",
              "    <tr>\n",
              "      <th>1</th>\n",
              "      <td>Spicy</td>\n",
              "      <td>Hot</td>\n",
              "      <td>Soft</td>\n",
              "      <td>No</td>\n",
              "    </tr>\n",
              "    <tr>\n",
              "      <th>2</th>\n",
              "      <td>Spicy</td>\n",
              "      <td>Hot</td>\n",
              "      <td>Hard</td>\n",
              "      <td>Yes</td>\n",
              "    </tr>\n",
              "    <tr>\n",
              "      <th>3</th>\n",
              "      <td>Spicy</td>\n",
              "      <td>Cold</td>\n",
              "      <td>Hard</td>\n",
              "      <td>No</td>\n",
              "    </tr>\n",
              "    <tr>\n",
              "      <th>4</th>\n",
              "      <td>Spicy</td>\n",
              "      <td>Hot</td>\n",
              "      <td>Hard</td>\n",
              "      <td>Yes</td>\n",
              "    </tr>\n",
              "    <tr>\n",
              "      <th>5</th>\n",
              "      <td>Sweet</td>\n",
              "      <td>Cold</td>\n",
              "      <td>Soft</td>\n",
              "      <td>Yes</td>\n",
              "    </tr>\n",
              "    <tr>\n",
              "      <th>6</th>\n",
              "      <td>Salty</td>\n",
              "      <td>Cold</td>\n",
              "      <td>Soft</td>\n",
              "      <td>No</td>\n",
              "    </tr>\n",
              "    <tr>\n",
              "      <th>7</th>\n",
              "      <td>Sweet</td>\n",
              "      <td>Hot</td>\n",
              "      <td>Soft</td>\n",
              "      <td>Yes</td>\n",
              "    </tr>\n",
              "    <tr>\n",
              "      <th>8</th>\n",
              "      <td>Spicy</td>\n",
              "      <td>Cold</td>\n",
              "      <td>Soft</td>\n",
              "      <td>Yes</td>\n",
              "    </tr>\n",
              "    <tr>\n",
              "      <th>9</th>\n",
              "      <td>Salty</td>\n",
              "      <td>Hot</td>\n",
              "      <td>Hard</td>\n",
              "      <td>Yes</td>\n",
              "    </tr>\n",
              "  </tbody>\n",
              "</table>\n",
              "</div>"
            ],
            "text/plain": [
              "   Taste Temperature Texture  Eat\n",
              "0  Salty         Hot    Soft   No\n",
              "1  Spicy         Hot    Soft   No\n",
              "2  Spicy         Hot    Hard  Yes\n",
              "3  Spicy        Cold    Hard   No\n",
              "4  Spicy         Hot    Hard  Yes\n",
              "5  Sweet        Cold    Soft  Yes\n",
              "6  Salty        Cold    Soft   No\n",
              "7  Sweet         Hot    Soft  Yes\n",
              "8  Spicy        Cold    Soft  Yes\n",
              "9  Salty         Hot    Hard  Yes"
            ]
          },
          "metadata": {
            "tags": []
          },
          "execution_count": 14
        }
      ]
    },
    {
      "cell_type": "code",
      "metadata": {
        "id": "X-lln3he5aJD",
        "colab_type": "code",
        "colab": {}
      },
      "source": [
        "entropy_node = 0  #Initialize Entropy\n",
        "values = df.Eat.unique()  #Unique objects - 'Yes', 'No'\n",
        "for value in values:\n",
        "    fraction = df.Eat.value_counts()[value]/len(df.Eat)  \n",
        "    entropy_node += -fraction*np.log2(fraction)"
      ],
      "execution_count": 0,
      "outputs": []
    },
    {
      "cell_type": "markdown",
      "metadata": {
        "id": "bg3F3NZMA0OY",
        "colab_type": "text"
      },
      "source": [
        "\\begin{equation}S=-\\sum_{i=1}^{N} p_{i} \\log _{2} p_{i}\\end{equation} <br>\n",
        "This is the formula for entropy we are using here, where pi is the proportion of members in that class"
      ]
    },
    {
      "cell_type": "code",
      "metadata": {
        "id": "twzWAC8M5aDy",
        "colab_type": "code",
        "colab": {}
      },
      "source": [
        "attribute = 'Taste'\n",
        "target_variables = df.Eat.unique()  #This gives all 'Yes' and 'No'\n",
        "variables = df[attribute].unique()    #This gives different features in that attribute (like 'Sweet')\n",
        "entropy_attribute = 0\n",
        "for variable in variables:\n",
        "    entropy_each_feature = 0\n",
        "    for target_variable in target_variables:\n",
        "        num = len(df[attribute][df[attribute]==variable][df.Eat ==target_variable]) #numerator\n",
        "        den = len(df[attribute][df[attribute]==variable])  #denominator\n",
        "        fraction = num/(den+eps)  #pi\n",
        "        entropy_each_feature += -fraction*log(fraction+eps) #This calculates entropy for one feature like 'Sweet'\n",
        "    fraction2 = den/len(df)\n",
        "    entropy_attribute += -fraction2*entropy_each_feature   #Sums up all the entropy ETaste"
      ],
      "execution_count": 0,
      "outputs": []
    },
    {
      "cell_type": "code",
      "metadata": {
        "id": "Csmzj1L7yPq_",
        "colab_type": "code",
        "colab": {
          "base_uri": "https://localhost:8080/",
          "height": 69
        },
        "outputId": "b851826d-3cfd-4bb0-8965-11b1773f0da3"
      },
      "source": [
        "df[attribute][df[attribute]==variable][df.Eat ==target_variable]"
      ],
      "execution_count": 17,
      "outputs": [
        {
          "output_type": "execute_result",
          "data": {
            "text/plain": [
              "5    Sweet\n",
              "7    Sweet\n",
              "Name: Taste, dtype: object"
            ]
          },
          "metadata": {
            "tags": []
          },
          "execution_count": 17
        }
      ]
    },
    {
      "cell_type": "code",
      "metadata": {
        "id": "2KEQbKdfFuoK",
        "colab_type": "code",
        "colab": {}
      },
      "source": [
        "def find_entropy(df):\n",
        "    Class = df.keys()[-1]   #To make the code generic, changing target variable class name\n",
        "    entropy = 0\n",
        "    values = df[Class].unique()\n",
        "    for value in values:\n",
        "        fraction = df[Class].value_counts()[value]/len(df[Class])\n",
        "        entropy += -fraction*np.log2(fraction)\n",
        "    return entropy\n",
        "  \n",
        "  \n",
        "def find_entropy_attribute(df,attribute):\n",
        "  Class = df.keys()[-1]   #To make the code generic, changing target variable class name\n",
        "  target_variables = df[Class].unique()  #This gives all 'Yes' and 'No'\n",
        "  variables = df[attribute].unique()    #This gives different features in that attribute (like 'Hot','Cold' in Temperature)\n",
        "  entropy2 = 0\n",
        "  for variable in variables:\n",
        "      entropy = 0\n",
        "      for target_variable in target_variables:\n",
        "          num = len(df[attribute][df[attribute]==variable][df[Class] ==target_variable])\n",
        "          den = len(df[attribute][df[attribute]==variable])\n",
        "          fraction = num/(den+eps)\n",
        "          entropy += -fraction*log(fraction+eps)\n",
        "      fraction2 = den/len(df)\n",
        "      entropy2 += -fraction2*entropy\n",
        "  return abs(entropy2)\n",
        "\n",
        "\n",
        "def find_winner(df):\n",
        "    Entropy_att = []\n",
        "    IG = []\n",
        "    for key in df.keys()[:-1]:\n",
        "    #Entropy_att.append(find_entropy_attribute(df,key))\n",
        "        IG.append(find_entropy(df)-find_entropy_attribute(df,key))\n",
        "    return df.keys()[:-1][np.argmax(IG)]\n",
        "  \n",
        "  \n",
        "def get_subtable(df,node,value):\n",
        "  return df[df[node] == value].reset_index(drop=True)\n",
        "\n",
        "\n",
        "def buildTree(df,tree=None): \n",
        "    Class = df.keys()[-1]   #To make the code generic, changing target variable class name\n",
        "    \n",
        "    #Here we build our decision tree\n",
        "\n",
        "    #Get attribute with maximum information gain\n",
        "    node = find_winner(df)\n",
        "    \n",
        "    #Get distinct value of that attribute e.g Salary is node and Low,Med and High are values\n",
        "    attValue = np.unique(df[node])\n",
        "    \n",
        "    #Create an empty dictionary to create tree    \n",
        "    if tree is None:                    \n",
        "        tree={}\n",
        "        tree[node] = {}\n",
        "    \n",
        "   #We make loop to construct a tree by calling this function recursively. \n",
        "    #In this we check if the subset is pure and stops if it is pure. \n",
        "\n",
        "    for value in attValue:\n",
        "        \n",
        "        subtable = get_subtable(df,node,value)\n",
        "        clValue,counts = np.unique(subtable['Eat'],return_counts=True)                        \n",
        "        \n",
        "        if len(counts)==1:#Checking purity of subset\n",
        "            tree[node][value] = clValue[0]                                                    \n",
        "        else:        \n",
        "            tree[node][value] = buildTree(subtable) #Calling the function recursively \n",
        "                   \n",
        "    return tree"
      ],
      "execution_count": 0,
      "outputs": []
    },
    {
      "cell_type": "code",
      "metadata": {
        "id": "DX6XqzGQFutb",
        "colab_type": "code",
        "colab": {
          "base_uri": "https://localhost:8080/",
          "height": 121
        },
        "outputId": "43e2aa74-1140-44f9-8c0e-ab93472322f5"
      },
      "source": [
        "tree_custom = buildTree(df)\n",
        "pprint.pprint(tree_custom)"
      ],
      "execution_count": 19,
      "outputs": [
        {
          "output_type": "stream",
          "text": [
            "{'Taste': {'Salty': {'Texture': {'Hard': 'Yes', 'Soft': 'No'}},\n",
            "           'Spicy': {'Temperature': {'Cold': {'Texture': {'Hard': 'No',\n",
            "                                                          'Soft': 'Yes'}},\n",
            "                                     'Hot': {'Texture': {'Hard': 'Yes',\n",
            "                                                         'Soft': 'No'}}}},\n",
            "           'Sweet': 'Yes'}}\n"
          ],
          "name": "stdout"
        }
      ]
    },
    {
      "cell_type": "markdown",
      "metadata": {
        "id": "GOxZRLbXdAh_",
        "colab_type": "text"
      },
      "source": [
        "##### **Prediction using this custom tree**"
      ]
    },
    {
      "cell_type": "code",
      "metadata": {
        "id": "0ydx0IKgdEU8",
        "colab_type": "code",
        "colab": {}
      },
      "source": [
        "def predict(inst,tree):\n",
        "    #This function is used to predict for any input variable \n",
        "    \n",
        "    #Recursively we go through the tree that we built earlier\n",
        "\n",
        "    for nodes in tree.keys():        \n",
        "        \n",
        "        value = inst[nodes]\n",
        "        tree = tree[nodes][value]\n",
        "        prediction = 0\n",
        "            \n",
        "        if type(tree) is dict:\n",
        "            prediction = predict(inst, tree)\n",
        "        else:\n",
        "            prediction = tree\n",
        "            break;                            \n",
        "        \n",
        "    return prediction"
      ],
      "execution_count": 0,
      "outputs": []
    },
    {
      "cell_type": "code",
      "metadata": {
        "id": "rZoYSDIQdEaa",
        "colab_type": "code",
        "colab": {
          "base_uri": "https://localhost:8080/",
          "height": 104
        },
        "outputId": "77473135-ba08-4bfb-943e-706389d26c71"
      },
      "source": [
        "inst = df.iloc[6]\n",
        "inst"
      ],
      "execution_count": 21,
      "outputs": [
        {
          "output_type": "execute_result",
          "data": {
            "text/plain": [
              "Taste          Salty\n",
              "Temperature     Cold\n",
              "Texture         Soft\n",
              "Eat               No\n",
              "Name: 6, dtype: object"
            ]
          },
          "metadata": {
            "tags": []
          },
          "execution_count": 21
        }
      ]
    },
    {
      "cell_type": "code",
      "metadata": {
        "id": "V9HglnvVdEYl",
        "colab_type": "code",
        "colab": {
          "base_uri": "https://localhost:8080/",
          "height": 34
        },
        "outputId": "0714f5cf-6ec5-412e-bf99-7389b6e21a3f"
      },
      "source": [
        "prediction = predict(inst,tree_custom)\n",
        "prediction"
      ],
      "execution_count": 22,
      "outputs": [
        {
          "output_type": "execute_result",
          "data": {
            "text/plain": [
              "'No'"
            ]
          },
          "metadata": {
            "tags": []
          },
          "execution_count": 22
        }
      ]
    },
    {
      "cell_type": "code",
      "metadata": {
        "id": "Qzb351BMdrAq",
        "colab_type": "code",
        "colab": {}
      },
      "source": [
        "inst2 = {'Taste':'Salty','Temperature':'Hot','Texture':'Hard'}\n",
        "inst2 = pd.Series(inst2)"
      ],
      "execution_count": 0,
      "outputs": []
    },
    {
      "cell_type": "code",
      "metadata": {
        "id": "tePU59_6drEh",
        "colab_type": "code",
        "colab": {
          "base_uri": "https://localhost:8080/",
          "height": 34
        },
        "outputId": "1e308fb1-56c9-4e45-da16-e21f468b27e7"
      },
      "source": [
        "prediction2 = predict(inst2,tree_custom)\n",
        "prediction2"
      ],
      "execution_count": 24,
      "outputs": [
        {
          "output_type": "execute_result",
          "data": {
            "text/plain": [
              "'Yes'"
            ]
          },
          "metadata": {
            "tags": []
          },
          "execution_count": 24
        }
      ]
    },
    {
      "cell_type": "markdown",
      "metadata": {
        "id": "m580fEQlJul3",
        "colab_type": "text"
      },
      "source": [
        "##### **Modifying to our data(Hybrid Decision Tree)** <br> So we will be modifying the above code to accept some of our suggestions in the attributes at different levels"
      ]
    },
    {
      "cell_type": "code",
      "metadata": {
        "id": "0G-1E_iJFuwc",
        "colab_type": "code",
        "colab": {
          "base_uri": "https://localhost:8080/",
          "height": 781
        },
        "outputId": "fc173cb4-1ab5-433f-f549-50bb751efac6"
      },
      "source": [
        "#This is the code that can work with datasets like the one we have\n",
        "#Changing the target column to the end which is to be used for labeling\n",
        "cols = data_dt.columns.tolist()\n",
        "cols"
      ],
      "execution_count": 25,
      "outputs": [
        {
          "output_type": "execute_result",
          "data": {
            "text/plain": [
              "['TRANSACTION_CURRENCY',\n",
              " 'PD4',\n",
              " 'PD11',\n",
              " 'PROC_CODE_12',\n",
              " 'PD8',\n",
              " 'MCC',\n",
              " 'POS_ENTRY_MODE',\n",
              " 'SERVICE_CODE',\n",
              " 'BILLING_AMOUNT',\n",
              " 'TRANSACTION_LOCAL_DATE',\n",
              " 'TRANSMISSION_DATE_TIME',\n",
              " 'RESPONSE_DATE_TIME',\n",
              " 'PAN',\n",
              " 'VALID_FROM',\n",
              " 'EXPIRY_DATE',\n",
              " 'PROC_CODE_34',\n",
              " 'PROC_CODE_56',\n",
              " 'PD1',\n",
              " 'PD2',\n",
              " 'PD3',\n",
              " 'PD5',\n",
              " 'PD6',\n",
              " 'PD7',\n",
              " 'PD9',\n",
              " 'PD10',\n",
              " 'PD12',\n",
              " 'TRANSACTION_AMOUNT',\n",
              " 'BILLING_CURRENCY',\n",
              " 'CONVERSION_RATE_DATE',\n",
              " 'SETTLEMENT_AMOUNT',\n",
              " 'SETTLEMENT_CURRENCY',\n",
              " 'SETTLEMENT_DATE',\n",
              " 'ACQUIRING_COUNTRY_CODE',\n",
              " 'CARD_ACCEPTOR_TERM_ID',\n",
              " 'CARD_ACCEPTOR_ID',\n",
              " 'CARD_ACC_NAME_ADDRESS',\n",
              " 'AUTHORIZATION_CODE',\n",
              " 'DECISION',\n",
              " 'TARGET',\n",
              " 'C_100',\n",
              " 'C_40',\n",
              " 'C_20',\n",
              " 'ECOM_INFO',\n",
              " 'E_COM_INDICATOR']"
            ]
          },
          "metadata": {
            "tags": []
          },
          "execution_count": 25
        }
      ]
    },
    {
      "cell_type": "code",
      "metadata": {
        "id": "Wm1LbhikFuzh",
        "colab_type": "code",
        "colab": {
          "base_uri": "https://localhost:8080/",
          "height": 781
        },
        "outputId": "851cc054-46bc-4d15-aef0-a7e1ddce3ccf"
      },
      "source": [
        "cols = cols[:38]+cols[39:]+[cols[38]]\n",
        "cols"
      ],
      "execution_count": 26,
      "outputs": [
        {
          "output_type": "execute_result",
          "data": {
            "text/plain": [
              "['TRANSACTION_CURRENCY',\n",
              " 'PD4',\n",
              " 'PD11',\n",
              " 'PROC_CODE_12',\n",
              " 'PD8',\n",
              " 'MCC',\n",
              " 'POS_ENTRY_MODE',\n",
              " 'SERVICE_CODE',\n",
              " 'BILLING_AMOUNT',\n",
              " 'TRANSACTION_LOCAL_DATE',\n",
              " 'TRANSMISSION_DATE_TIME',\n",
              " 'RESPONSE_DATE_TIME',\n",
              " 'PAN',\n",
              " 'VALID_FROM',\n",
              " 'EXPIRY_DATE',\n",
              " 'PROC_CODE_34',\n",
              " 'PROC_CODE_56',\n",
              " 'PD1',\n",
              " 'PD2',\n",
              " 'PD3',\n",
              " 'PD5',\n",
              " 'PD6',\n",
              " 'PD7',\n",
              " 'PD9',\n",
              " 'PD10',\n",
              " 'PD12',\n",
              " 'TRANSACTION_AMOUNT',\n",
              " 'BILLING_CURRENCY',\n",
              " 'CONVERSION_RATE_DATE',\n",
              " 'SETTLEMENT_AMOUNT',\n",
              " 'SETTLEMENT_CURRENCY',\n",
              " 'SETTLEMENT_DATE',\n",
              " 'ACQUIRING_COUNTRY_CODE',\n",
              " 'CARD_ACCEPTOR_TERM_ID',\n",
              " 'CARD_ACCEPTOR_ID',\n",
              " 'CARD_ACC_NAME_ADDRESS',\n",
              " 'AUTHORIZATION_CODE',\n",
              " 'DECISION',\n",
              " 'C_100',\n",
              " 'C_40',\n",
              " 'C_20',\n",
              " 'ECOM_INFO',\n",
              " 'E_COM_INDICATOR',\n",
              " 'TARGET']"
            ]
          },
          "metadata": {
            "tags": []
          },
          "execution_count": 26
        }
      ]
    },
    {
      "cell_type": "code",
      "metadata": {
        "id": "-b6Q-8k5Fu5D",
        "colab_type": "code",
        "colab": {
          "base_uri": "https://localhost:8080/",
          "height": 313
        },
        "outputId": "269f64b3-c2d4-489e-e560-902e37cbf656"
      },
      "source": [
        "data_dt = data_dt[cols]\n",
        "data_dt.head()"
      ],
      "execution_count": 27,
      "outputs": [
        {
          "output_type": "execute_result",
          "data": {
            "text/html": [
              "<div>\n",
              "<style scoped>\n",
              "    .dataframe tbody tr th:only-of-type {\n",
              "        vertical-align: middle;\n",
              "    }\n",
              "\n",
              "    .dataframe tbody tr th {\n",
              "        vertical-align: top;\n",
              "    }\n",
              "\n",
              "    .dataframe thead th {\n",
              "        text-align: right;\n",
              "    }\n",
              "</style>\n",
              "<table border=\"1\" class=\"dataframe\">\n",
              "  <thead>\n",
              "    <tr style=\"text-align: right;\">\n",
              "      <th></th>\n",
              "      <th>TRANSACTION_CURRENCY</th>\n",
              "      <th>PD4</th>\n",
              "      <th>PD11</th>\n",
              "      <th>PROC_CODE_12</th>\n",
              "      <th>PD8</th>\n",
              "      <th>MCC</th>\n",
              "      <th>POS_ENTRY_MODE</th>\n",
              "      <th>SERVICE_CODE</th>\n",
              "      <th>BILLING_AMOUNT</th>\n",
              "      <th>TRANSACTION_LOCAL_DATE</th>\n",
              "      <th>TRANSMISSION_DATE_TIME</th>\n",
              "      <th>RESPONSE_DATE_TIME</th>\n",
              "      <th>PAN</th>\n",
              "      <th>VALID_FROM</th>\n",
              "      <th>EXPIRY_DATE</th>\n",
              "      <th>PROC_CODE_34</th>\n",
              "      <th>PROC_CODE_56</th>\n",
              "      <th>PD1</th>\n",
              "      <th>PD2</th>\n",
              "      <th>PD3</th>\n",
              "      <th>PD5</th>\n",
              "      <th>PD6</th>\n",
              "      <th>PD7</th>\n",
              "      <th>PD9</th>\n",
              "      <th>PD10</th>\n",
              "      <th>PD12</th>\n",
              "      <th>TRANSACTION_AMOUNT</th>\n",
              "      <th>BILLING_CURRENCY</th>\n",
              "      <th>CONVERSION_RATE_DATE</th>\n",
              "      <th>SETTLEMENT_AMOUNT</th>\n",
              "      <th>SETTLEMENT_CURRENCY</th>\n",
              "      <th>SETTLEMENT_DATE</th>\n",
              "      <th>ACQUIRING_COUNTRY_CODE</th>\n",
              "      <th>CARD_ACCEPTOR_TERM_ID</th>\n",
              "      <th>CARD_ACCEPTOR_ID</th>\n",
              "      <th>CARD_ACC_NAME_ADDRESS</th>\n",
              "      <th>AUTHORIZATION_CODE</th>\n",
              "      <th>DECISION</th>\n",
              "      <th>C_100</th>\n",
              "      <th>C_40</th>\n",
              "      <th>C_20</th>\n",
              "      <th>ECOM_INFO</th>\n",
              "      <th>E_COM_INDICATOR</th>\n",
              "      <th>TARGET</th>\n",
              "    </tr>\n",
              "  </thead>\n",
              "  <tbody>\n",
              "    <tr>\n",
              "      <th>0</th>\n",
              "      <td>CURR356</td>\n",
              "      <td>ATC9</td>\n",
              "      <td>TOC1</td>\n",
              "      <td>TC00</td>\n",
              "      <td>TVI0</td>\n",
              "      <td>MCC7399</td>\n",
              "      <td>NNN</td>\n",
              "      <td>UNK</td>\n",
              "      <td>147.84</td>\n",
              "      <td>21-MAR-18 11.33.24</td>\n",
              "      <td>21-MAR-18 11.33.24</td>\n",
              "      <td>21-MAR-18 11.33.24</td>\n",
              "      <td>A1586941252148110</td>\n",
              "      <td>21-AUG-17 17.10.11</td>\n",
              "      <td>01-APR-20 00.00.00</td>\n",
              "      <td>FR40</td>\n",
              "      <td>TO00</td>\n",
              "      <td>CRC1</td>\n",
              "      <td>CVC0</td>\n",
              "      <td>CCC0</td>\n",
              "      <td>PPI4</td>\n",
              "      <td>CPI0</td>\n",
              "      <td>TCR2</td>\n",
              "      <td>TCV0</td>\n",
              "      <td>TWC0</td>\n",
              "      <td>PEI0</td>\n",
              "      <td>147.84</td>\n",
              "      <td>CURR356</td>\n",
              "      <td>000</td>\n",
              "      <td>145.22</td>\n",
              "      <td>CURR356</td>\n",
              "      <td>22-MAR-18 00.00.00</td>\n",
              "      <td>CON356</td>\n",
              "      <td>6R00G052</td>\n",
              "      <td>9826826968</td>\n",
              "      <td>BOOK MY SHOW\\\\\\400049\\\\</td>\n",
              "      <td>800204</td>\n",
              "      <td>RESULT000</td>\n",
              "      <td>AMI</td>\n",
              "      <td>ACS</td>\n",
              "      <td>T0784</td>\n",
              "      <td>AXASK05AEVV</td>\n",
              "      <td>ECI05</td>\n",
              "      <td>0</td>\n",
              "    </tr>\n",
              "    <tr>\n",
              "      <th>1</th>\n",
              "      <td>CURR356</td>\n",
              "      <td>ATC9</td>\n",
              "      <td>TOC1</td>\n",
              "      <td>TC00</td>\n",
              "      <td>TVI0</td>\n",
              "      <td>MCC4814</td>\n",
              "      <td>NNN</td>\n",
              "      <td>UNK</td>\n",
              "      <td>399.00</td>\n",
              "      <td>21-MAR-18 11.34.15</td>\n",
              "      <td>21-MAR-18 11.34.15</td>\n",
              "      <td>21-MAR-18 11.34.15</td>\n",
              "      <td>A1586941241334010</td>\n",
              "      <td>06-APR-16 20.19.15</td>\n",
              "      <td>01-APR-20 00.00.00</td>\n",
              "      <td>FR40</td>\n",
              "      <td>TO00</td>\n",
              "      <td>CRC1</td>\n",
              "      <td>CVC0</td>\n",
              "      <td>CCC0</td>\n",
              "      <td>PPI4</td>\n",
              "      <td>CPI0</td>\n",
              "      <td>TCR2</td>\n",
              "      <td>TCV0</td>\n",
              "      <td>TWC0</td>\n",
              "      <td>PEI0</td>\n",
              "      <td>399.00</td>\n",
              "      <td>CURR356</td>\n",
              "      <td>000</td>\n",
              "      <td>391.94</td>\n",
              "      <td>CURR356</td>\n",
              "      <td>22-MAR-18 00.00.00</td>\n",
              "      <td>CON356</td>\n",
              "      <td>6R00G052</td>\n",
              "      <td>9822047692</td>\n",
              "      <td>PAYTM RETAIL -PG-ONLINE \\\\NOIDA\\201301\\</td>\n",
              "      <td>300255</td>\n",
              "      <td>RESULT000</td>\n",
              "      <td>AMI</td>\n",
              "      <td>ACS</td>\n",
              "      <td>T0797</td>\n",
              "      <td>AXASK05AEVV</td>\n",
              "      <td>ECI05</td>\n",
              "      <td>0</td>\n",
              "    </tr>\n",
              "    <tr>\n",
              "      <th>2</th>\n",
              "      <td>CURR356</td>\n",
              "      <td>ATC9</td>\n",
              "      <td>TOC1</td>\n",
              "      <td>TC00</td>\n",
              "      <td>TVI0</td>\n",
              "      <td>MCC7399</td>\n",
              "      <td>NNN</td>\n",
              "      <td>UNK</td>\n",
              "      <td>247.20</td>\n",
              "      <td>21-MAR-18 11.36.47</td>\n",
              "      <td>21-MAR-18 11.36.47</td>\n",
              "      <td>21-MAR-18 11.36.48</td>\n",
              "      <td>A1586941049519010</td>\n",
              "      <td>03-APR-18 14.19.03</td>\n",
              "      <td>01-APR-23 00.00.00</td>\n",
              "      <td>FR40</td>\n",
              "      <td>TO00</td>\n",
              "      <td>CRC1</td>\n",
              "      <td>CVC0</td>\n",
              "      <td>CCC0</td>\n",
              "      <td>PPI4</td>\n",
              "      <td>CPI0</td>\n",
              "      <td>TCR2</td>\n",
              "      <td>TCV0</td>\n",
              "      <td>TWC0</td>\n",
              "      <td>PEI0</td>\n",
              "      <td>247.20</td>\n",
              "      <td>CURR356</td>\n",
              "      <td>000</td>\n",
              "      <td>242.82</td>\n",
              "      <td>CURR356</td>\n",
              "      <td>22-MAR-18 00.00.00</td>\n",
              "      <td>CON356</td>\n",
              "      <td>6R00G052</td>\n",
              "      <td>9826826968</td>\n",
              "      <td>BOOK MY SHOW\\\\\\400049\\\\</td>\n",
              "      <td>700408</td>\n",
              "      <td>RESULT000</td>\n",
              "      <td>AMI</td>\n",
              "      <td>ACS</td>\n",
              "      <td>T0537</td>\n",
              "      <td>AXASK05AEVV</td>\n",
              "      <td>ECI05</td>\n",
              "      <td>0</td>\n",
              "    </tr>\n",
              "    <tr>\n",
              "      <th>3</th>\n",
              "      <td>CURR356</td>\n",
              "      <td>ATC9</td>\n",
              "      <td>TOC1</td>\n",
              "      <td>TC00</td>\n",
              "      <td>TVI0</td>\n",
              "      <td>MCC7399</td>\n",
              "      <td>NNN</td>\n",
              "      <td>UNK</td>\n",
              "      <td>359.00</td>\n",
              "      <td>21-MAR-18 11.39.44</td>\n",
              "      <td>21-MAR-18 11.39.44</td>\n",
              "      <td>21-MAR-18 11.39.44</td>\n",
              "      <td>A1586941050671000</td>\n",
              "      <td>20-APR-18 19.43.48</td>\n",
              "      <td>01-APR-23 00.00.00</td>\n",
              "      <td>FR40</td>\n",
              "      <td>TO00</td>\n",
              "      <td>CRC1</td>\n",
              "      <td>CVC0</td>\n",
              "      <td>CCC0</td>\n",
              "      <td>PPI4</td>\n",
              "      <td>CPI0</td>\n",
              "      <td>TCR2</td>\n",
              "      <td>TCV0</td>\n",
              "      <td>TWC0</td>\n",
              "      <td>PEI0</td>\n",
              "      <td>359.00</td>\n",
              "      <td>CURR356</td>\n",
              "      <td>000</td>\n",
              "      <td>352.65</td>\n",
              "      <td>CURR356</td>\n",
              "      <td>22-MAR-18 00.00.00</td>\n",
              "      <td>CON356</td>\n",
              "      <td>6R00G052</td>\n",
              "      <td>9826826968</td>\n",
              "      <td>BOOK MY SHOW\\\\\\400049\\\\</td>\n",
              "      <td>700585</td>\n",
              "      <td>RESULT000</td>\n",
              "      <td>AMI</td>\n",
              "      <td>ACS</td>\n",
              "      <td>T0796</td>\n",
              "      <td>AXASK05AEVV</td>\n",
              "      <td>ECI05</td>\n",
              "      <td>0</td>\n",
              "    </tr>\n",
              "    <tr>\n",
              "      <th>4</th>\n",
              "      <td>CURR356</td>\n",
              "      <td>ATC9</td>\n",
              "      <td>TOC1</td>\n",
              "      <td>TC00</td>\n",
              "      <td>TVI0</td>\n",
              "      <td>MCC5999</td>\n",
              "      <td>NNN</td>\n",
              "      <td>UNK</td>\n",
              "      <td>188.00</td>\n",
              "      <td>21-MAR-18 11.43.08</td>\n",
              "      <td>21-MAR-18 11.43.08</td>\n",
              "      <td>21-MAR-18 11.43.08</td>\n",
              "      <td>A1586941257961010</td>\n",
              "      <td>30-APR-16 20.49.02</td>\n",
              "      <td>01-APR-20 00.00.00</td>\n",
              "      <td>FR40</td>\n",
              "      <td>TO00</td>\n",
              "      <td>CRC1</td>\n",
              "      <td>CVC0</td>\n",
              "      <td>CCC0</td>\n",
              "      <td>PPI4</td>\n",
              "      <td>CPI0</td>\n",
              "      <td>TCR2</td>\n",
              "      <td>TCV0</td>\n",
              "      <td>TWC0</td>\n",
              "      <td>PEI0</td>\n",
              "      <td>188.00</td>\n",
              "      <td>CURR356</td>\n",
              "      <td>000</td>\n",
              "      <td>183.81</td>\n",
              "      <td>CURR356</td>\n",
              "      <td>22-MAR-18 00.00.00</td>\n",
              "      <td>CON356</td>\n",
              "      <td>6R00G052</td>\n",
              "      <td>9820524155</td>\n",
              "      <td>PAYTM.COM WALLET PG \\\\NOIDA\\201310\\\\</td>\n",
              "      <td>400788</td>\n",
              "      <td>RESULT000</td>\n",
              "      <td>AMI</td>\n",
              "      <td>ACS</td>\n",
              "      <td>T0784</td>\n",
              "      <td>AXASK05AEVV</td>\n",
              "      <td>ECI05</td>\n",
              "      <td>0</td>\n",
              "    </tr>\n",
              "  </tbody>\n",
              "</table>\n",
              "</div>"
            ],
            "text/plain": [
              "  TRANSACTION_CURRENCY   PD4  PD11  ...    ECOM_INFO E_COM_INDICATOR TARGET\n",
              "0              CURR356  ATC9  TOC1  ...  AXASK05AEVV           ECI05      0\n",
              "1              CURR356  ATC9  TOC1  ...  AXASK05AEVV           ECI05      0\n",
              "2              CURR356  ATC9  TOC1  ...  AXASK05AEVV           ECI05      0\n",
              "3              CURR356  ATC9  TOC1  ...  AXASK05AEVV           ECI05      0\n",
              "4              CURR356  ATC9  TOC1  ...  AXASK05AEVV           ECI05      0\n",
              "\n",
              "[5 rows x 44 columns]"
            ]
          },
          "metadata": {
            "tags": []
          },
          "execution_count": 27
        }
      ]
    },
    {
      "cell_type": "code",
      "metadata": {
        "id": "mm1EZiOE5-Rb",
        "colab_type": "code",
        "colab": {}
      },
      "source": [
        "#We will only make some changes in the buildTree function to make our hybrid tree\n",
        "#Here the argument determined_levels is a list with the names of the attributes as strings to be fixed at the levels in ascending order\n",
        "def buildTree_hybrid(df,tree=None,determined_levels = []): \n",
        "    Class = df.keys()[-1]   #To make the code generic, changing target variable class name\n",
        "    k = determined_levels\n",
        "    #Here we build our decision tree\n",
        "    if len(k) > 0:\n",
        "      #Here the first attribute will be the cth column of the dataframe\n",
        "      node = k[0]\n",
        "    else:\n",
        "      #Get attribute with maximum information gain\n",
        "      node = find_winner(df)\n",
        "    \n",
        "    #Get distinct value of that attribute e.g Salary is node and Low,Med and High are values\n",
        "    attValue = np.unique(df[node])\n",
        "    \n",
        "    #Create an empty dictionary to create tree    \n",
        "    if tree is None:                    \n",
        "        tree={}\n",
        "        tree[node] = {}\n",
        "    \n",
        "   #We make loop to construct a tree by calling this function recursively. \n",
        "    #In this we check if the subset is pure and stops if it is pure. \n",
        "\n",
        "    for value in attValue:\n",
        "        \n",
        "        subtable = get_subtable(df,node,value)\n",
        "        clValue,counts = np.unique(subtable[df.keys()[-1]],return_counts=True)                        \n",
        "        \n",
        "        if len(counts)==1:#Checking purity of subset\n",
        "            tree[node][value] = clValue[0]                                                    \n",
        "        else:\n",
        "            if len(k) <= 1: \n",
        "              tree[node][value] = buildTree_hybrid(subtable)\n",
        "            else:\n",
        "              tree[node][value] = buildTree_hybrid(subtable,determined_levels=k[1:]) #Calling the function recursively \n",
        "                   \n",
        "    return tree"
      ],
      "execution_count": 0,
      "outputs": []
    },
    {
      "cell_type": "markdown",
      "metadata": {
        "id": "73F6ovR-KnyF",
        "colab_type": "text"
      },
      "source": [
        "###### Running this on the large dataset takes up too much time and hangs the system, so we will try on the smaller dataset df that consists of 'Temperature', 'Texture' and 'Taste' with the label column as 'Eat'. We will rearrange the columns to have 'Texture' at the beginning and then use it to be the first column always which was not the case if we see before."
      ]
    },
    {
      "cell_type": "code",
      "metadata": {
        "id": "fTxJs0BTRQ7G",
        "colab_type": "code",
        "colab": {
          "base_uri": "https://localhost:8080/",
          "height": 363
        },
        "outputId": "2ea10d64-06bd-4cd2-c487-16f90fae9b47"
      },
      "source": [
        "df"
      ],
      "execution_count": 29,
      "outputs": [
        {
          "output_type": "execute_result",
          "data": {
            "text/html": [
              "<div>\n",
              "<style scoped>\n",
              "    .dataframe tbody tr th:only-of-type {\n",
              "        vertical-align: middle;\n",
              "    }\n",
              "\n",
              "    .dataframe tbody tr th {\n",
              "        vertical-align: top;\n",
              "    }\n",
              "\n",
              "    .dataframe thead th {\n",
              "        text-align: right;\n",
              "    }\n",
              "</style>\n",
              "<table border=\"1\" class=\"dataframe\">\n",
              "  <thead>\n",
              "    <tr style=\"text-align: right;\">\n",
              "      <th></th>\n",
              "      <th>Taste</th>\n",
              "      <th>Temperature</th>\n",
              "      <th>Texture</th>\n",
              "      <th>Eat</th>\n",
              "    </tr>\n",
              "  </thead>\n",
              "  <tbody>\n",
              "    <tr>\n",
              "      <th>0</th>\n",
              "      <td>Salty</td>\n",
              "      <td>Hot</td>\n",
              "      <td>Soft</td>\n",
              "      <td>No</td>\n",
              "    </tr>\n",
              "    <tr>\n",
              "      <th>1</th>\n",
              "      <td>Spicy</td>\n",
              "      <td>Hot</td>\n",
              "      <td>Soft</td>\n",
              "      <td>No</td>\n",
              "    </tr>\n",
              "    <tr>\n",
              "      <th>2</th>\n",
              "      <td>Spicy</td>\n",
              "      <td>Hot</td>\n",
              "      <td>Hard</td>\n",
              "      <td>Yes</td>\n",
              "    </tr>\n",
              "    <tr>\n",
              "      <th>3</th>\n",
              "      <td>Spicy</td>\n",
              "      <td>Cold</td>\n",
              "      <td>Hard</td>\n",
              "      <td>No</td>\n",
              "    </tr>\n",
              "    <tr>\n",
              "      <th>4</th>\n",
              "      <td>Spicy</td>\n",
              "      <td>Hot</td>\n",
              "      <td>Hard</td>\n",
              "      <td>Yes</td>\n",
              "    </tr>\n",
              "    <tr>\n",
              "      <th>5</th>\n",
              "      <td>Sweet</td>\n",
              "      <td>Cold</td>\n",
              "      <td>Soft</td>\n",
              "      <td>Yes</td>\n",
              "    </tr>\n",
              "    <tr>\n",
              "      <th>6</th>\n",
              "      <td>Salty</td>\n",
              "      <td>Cold</td>\n",
              "      <td>Soft</td>\n",
              "      <td>No</td>\n",
              "    </tr>\n",
              "    <tr>\n",
              "      <th>7</th>\n",
              "      <td>Sweet</td>\n",
              "      <td>Hot</td>\n",
              "      <td>Soft</td>\n",
              "      <td>Yes</td>\n",
              "    </tr>\n",
              "    <tr>\n",
              "      <th>8</th>\n",
              "      <td>Spicy</td>\n",
              "      <td>Cold</td>\n",
              "      <td>Soft</td>\n",
              "      <td>Yes</td>\n",
              "    </tr>\n",
              "    <tr>\n",
              "      <th>9</th>\n",
              "      <td>Salty</td>\n",
              "      <td>Hot</td>\n",
              "      <td>Hard</td>\n",
              "      <td>Yes</td>\n",
              "    </tr>\n",
              "  </tbody>\n",
              "</table>\n",
              "</div>"
            ],
            "text/plain": [
              "   Taste Temperature Texture  Eat\n",
              "0  Salty         Hot    Soft   No\n",
              "1  Spicy         Hot    Soft   No\n",
              "2  Spicy         Hot    Hard  Yes\n",
              "3  Spicy        Cold    Hard   No\n",
              "4  Spicy         Hot    Hard  Yes\n",
              "5  Sweet        Cold    Soft  Yes\n",
              "6  Salty        Cold    Soft   No\n",
              "7  Sweet         Hot    Soft  Yes\n",
              "8  Spicy        Cold    Soft  Yes\n",
              "9  Salty         Hot    Hard  Yes"
            ]
          },
          "metadata": {
            "tags": []
          },
          "execution_count": 29
        }
      ]
    },
    {
      "cell_type": "code",
      "metadata": {
        "id": "CvxnGFWCIGHq",
        "colab_type": "code",
        "colab": {
          "base_uri": "https://localhost:8080/",
          "height": 156
        },
        "outputId": "1cce6c5b-51f9-4869-b75d-2d59f1830034"
      },
      "source": [
        "tree_custom2 = buildTree_hybrid(df,determined_levels=['Temperature','Texture'])\n",
        "pprint.pprint(tree_custom2)"
      ],
      "execution_count": 30,
      "outputs": [
        {
          "output_type": "stream",
          "text": [
            "{'Temperature': {'Cold': {'Texture': {'Hard': 'No',\n",
            "                                      'Soft': {'Taste': {'Salty': 'No',\n",
            "                                                         'Spicy': 'Yes',\n",
            "                                                         'Sweet': 'Yes'}}}},\n",
            "                 'Hot': {'Texture': {'Hard': 'Yes',\n",
            "                                     'Soft': {'Taste': {'Salty': 'No',\n",
            "                                                        'Spicy': 'No',\n",
            "                                                        'Sweet': 'Yes'}}}}}}\n"
          ],
          "name": "stdout"
        }
      ]
    },
    {
      "cell_type": "code",
      "metadata": {
        "id": "-aifzp21OTBT",
        "colab_type": "code",
        "colab": {
          "base_uri": "https://localhost:8080/",
          "height": 139
        },
        "outputId": "3dc73efb-0066-485a-a987-21444dfa8136"
      },
      "source": [
        "tree_custom3 = buildTree_hybrid(df,determined_levels=['Texture','Temperature','Taste'])\n",
        "pprint.pprint(tree_custom3)"
      ],
      "execution_count": 31,
      "outputs": [
        {
          "output_type": "stream",
          "text": [
            "{'Texture': {'Hard': {'Temperature': {'Cold': 'No', 'Hot': 'Yes'}},\n",
            "             'Soft': {'Temperature': {'Cold': {'Taste': {'Salty': 'No',\n",
            "                                                         'Spicy': 'Yes',\n",
            "                                                         'Sweet': 'Yes'}},\n",
            "                                      'Hot': {'Taste': {'Salty': 'No',\n",
            "                                                        'Spicy': 'No',\n",
            "                                                        'Sweet': 'Yes'}}}}}}\n"
          ],
          "name": "stdout"
        }
      ]
    },
    {
      "cell_type": "markdown",
      "metadata": {
        "id": "m_HmwJo5LvkG",
        "colab_type": "text"
      },
      "source": [
        "##### So we have managed to fix the tree as we want, now we will just fix the first column as 'Temperature' and then let the whole tree fix itself"
      ]
    },
    {
      "cell_type": "code",
      "metadata": {
        "id": "lUsRg8omIGGO",
        "colab_type": "code",
        "colab": {
          "base_uri": "https://localhost:8080/",
          "height": 156
        },
        "outputId": "06a8f163-26b8-4f71-fab9-cc86c55f3272"
      },
      "source": [
        "tree_custom4 = buildTree_hybrid(df,determined_levels=['Temperature'])\n",
        "pprint.pprint(tree_custom4)"
      ],
      "execution_count": 32,
      "outputs": [
        {
          "output_type": "stream",
          "text": [
            "{'Temperature': {'Cold': {'Taste': {'Salty': 'No',\n",
            "                                    'Spicy': {'Texture': {'Hard': 'No',\n",
            "                                                          'Soft': 'Yes'}},\n",
            "                                    'Sweet': 'Yes'}},\n",
            "                 'Hot': {'Texture': {'Hard': 'Yes',\n",
            "                                     'Soft': {'Taste': {'Salty': 'No',\n",
            "                                                        'Spicy': 'No',\n",
            "                                                        'Sweet': 'Yes'}}}}}}\n"
          ],
          "name": "stdout"
        }
      ]
    },
    {
      "cell_type": "markdown",
      "metadata": {
        "id": "IGCe0BQgSNpz",
        "colab_type": "text"
      },
      "source": [
        "##### Since this was not possible to try on our dataset, we will try and see if we can print the rules from standard decision tree in sklearn"
      ]
    },
    {
      "cell_type": "markdown",
      "metadata": {
        "id": "tSKpiJ83U4un",
        "colab_type": "text"
      },
      "source": [
        "##### **Using Label Encoder to convert the encoding on these columns of the dataset, also seperating out continuous and unique columns**"
      ]
    },
    {
      "cell_type": "markdown",
      "metadata": {
        "id": "1kd5m5v_9oWo",
        "colab_type": "text"
      },
      "source": [
        "##### **Function to remove columns which are a list on distinct values for eg. the index**"
      ]
    },
    {
      "cell_type": "code",
      "metadata": {
        "id": "1NNJZgy29m3K",
        "colab_type": "code",
        "colab": {}
      },
      "source": [
        "def remove_index_like(df):\n",
        "  df_new = df.copy()\n",
        "  indices = []\n",
        "  for i in df_new.columns:\n",
        "    if len(df[i]) == len(set(df[i])):\n",
        "      indices.append(i)\n",
        "  df_new = df_new.drop(indices,1)\n",
        "  return df_new"
      ],
      "execution_count": 0,
      "outputs": []
    },
    {
      "cell_type": "code",
      "metadata": {
        "id": "G8eozlJU-63N",
        "colab_type": "code",
        "colab": {}
      },
      "source": [
        "data_dt = remove_index_like(data_dt)"
      ],
      "execution_count": 0,
      "outputs": []
    },
    {
      "cell_type": "code",
      "metadata": {
        "id": "TcTCXANb_DYI",
        "colab_type": "code",
        "outputId": "14efc568-7446-4246-baef-8bf5047e93be",
        "colab": {
          "base_uri": "https://localhost:8080/",
          "height": 34
        }
      },
      "source": [
        "data_dt.shape"
      ],
      "execution_count": 35,
      "outputs": [
        {
          "output_type": "execute_result",
          "data": {
            "text/plain": [
              "(22256, 44)"
            ]
          },
          "metadata": {
            "tags": []
          },
          "execution_count": 35
        }
      ]
    },
    {
      "cell_type": "code",
      "metadata": {
        "id": "M4IPiosffuGB",
        "colab_type": "code",
        "colab": {
          "base_uri": "https://localhost:8080/",
          "height": 313
        },
        "outputId": "1441712e-0017-4837-fd80-e5aa499e23e3"
      },
      "source": [
        "data_dt.head()"
      ],
      "execution_count": 36,
      "outputs": [
        {
          "output_type": "execute_result",
          "data": {
            "text/html": [
              "<div>\n",
              "<style scoped>\n",
              "    .dataframe tbody tr th:only-of-type {\n",
              "        vertical-align: middle;\n",
              "    }\n",
              "\n",
              "    .dataframe tbody tr th {\n",
              "        vertical-align: top;\n",
              "    }\n",
              "\n",
              "    .dataframe thead th {\n",
              "        text-align: right;\n",
              "    }\n",
              "</style>\n",
              "<table border=\"1\" class=\"dataframe\">\n",
              "  <thead>\n",
              "    <tr style=\"text-align: right;\">\n",
              "      <th></th>\n",
              "      <th>TRANSACTION_CURRENCY</th>\n",
              "      <th>PD4</th>\n",
              "      <th>PD11</th>\n",
              "      <th>PROC_CODE_12</th>\n",
              "      <th>PD8</th>\n",
              "      <th>MCC</th>\n",
              "      <th>POS_ENTRY_MODE</th>\n",
              "      <th>SERVICE_CODE</th>\n",
              "      <th>BILLING_AMOUNT</th>\n",
              "      <th>TRANSACTION_LOCAL_DATE</th>\n",
              "      <th>TRANSMISSION_DATE_TIME</th>\n",
              "      <th>RESPONSE_DATE_TIME</th>\n",
              "      <th>PAN</th>\n",
              "      <th>VALID_FROM</th>\n",
              "      <th>EXPIRY_DATE</th>\n",
              "      <th>PROC_CODE_34</th>\n",
              "      <th>PROC_CODE_56</th>\n",
              "      <th>PD1</th>\n",
              "      <th>PD2</th>\n",
              "      <th>PD3</th>\n",
              "      <th>PD5</th>\n",
              "      <th>PD6</th>\n",
              "      <th>PD7</th>\n",
              "      <th>PD9</th>\n",
              "      <th>PD10</th>\n",
              "      <th>PD12</th>\n",
              "      <th>TRANSACTION_AMOUNT</th>\n",
              "      <th>BILLING_CURRENCY</th>\n",
              "      <th>CONVERSION_RATE_DATE</th>\n",
              "      <th>SETTLEMENT_AMOUNT</th>\n",
              "      <th>SETTLEMENT_CURRENCY</th>\n",
              "      <th>SETTLEMENT_DATE</th>\n",
              "      <th>ACQUIRING_COUNTRY_CODE</th>\n",
              "      <th>CARD_ACCEPTOR_TERM_ID</th>\n",
              "      <th>CARD_ACCEPTOR_ID</th>\n",
              "      <th>CARD_ACC_NAME_ADDRESS</th>\n",
              "      <th>AUTHORIZATION_CODE</th>\n",
              "      <th>DECISION</th>\n",
              "      <th>C_100</th>\n",
              "      <th>C_40</th>\n",
              "      <th>C_20</th>\n",
              "      <th>ECOM_INFO</th>\n",
              "      <th>E_COM_INDICATOR</th>\n",
              "      <th>TARGET</th>\n",
              "    </tr>\n",
              "  </thead>\n",
              "  <tbody>\n",
              "    <tr>\n",
              "      <th>0</th>\n",
              "      <td>CURR356</td>\n",
              "      <td>ATC9</td>\n",
              "      <td>TOC1</td>\n",
              "      <td>TC00</td>\n",
              "      <td>TVI0</td>\n",
              "      <td>MCC7399</td>\n",
              "      <td>NNN</td>\n",
              "      <td>UNK</td>\n",
              "      <td>147.84</td>\n",
              "      <td>21-MAR-18 11.33.24</td>\n",
              "      <td>21-MAR-18 11.33.24</td>\n",
              "      <td>21-MAR-18 11.33.24</td>\n",
              "      <td>A1586941252148110</td>\n",
              "      <td>21-AUG-17 17.10.11</td>\n",
              "      <td>01-APR-20 00.00.00</td>\n",
              "      <td>FR40</td>\n",
              "      <td>TO00</td>\n",
              "      <td>CRC1</td>\n",
              "      <td>CVC0</td>\n",
              "      <td>CCC0</td>\n",
              "      <td>PPI4</td>\n",
              "      <td>CPI0</td>\n",
              "      <td>TCR2</td>\n",
              "      <td>TCV0</td>\n",
              "      <td>TWC0</td>\n",
              "      <td>PEI0</td>\n",
              "      <td>147.84</td>\n",
              "      <td>CURR356</td>\n",
              "      <td>000</td>\n",
              "      <td>145.22</td>\n",
              "      <td>CURR356</td>\n",
              "      <td>22-MAR-18 00.00.00</td>\n",
              "      <td>CON356</td>\n",
              "      <td>6R00G052</td>\n",
              "      <td>9826826968</td>\n",
              "      <td>BOOK MY SHOW\\\\\\400049\\\\</td>\n",
              "      <td>800204</td>\n",
              "      <td>RESULT000</td>\n",
              "      <td>AMI</td>\n",
              "      <td>ACS</td>\n",
              "      <td>T0784</td>\n",
              "      <td>AXASK05AEVV</td>\n",
              "      <td>ECI05</td>\n",
              "      <td>0</td>\n",
              "    </tr>\n",
              "    <tr>\n",
              "      <th>1</th>\n",
              "      <td>CURR356</td>\n",
              "      <td>ATC9</td>\n",
              "      <td>TOC1</td>\n",
              "      <td>TC00</td>\n",
              "      <td>TVI0</td>\n",
              "      <td>MCC4814</td>\n",
              "      <td>NNN</td>\n",
              "      <td>UNK</td>\n",
              "      <td>399.00</td>\n",
              "      <td>21-MAR-18 11.34.15</td>\n",
              "      <td>21-MAR-18 11.34.15</td>\n",
              "      <td>21-MAR-18 11.34.15</td>\n",
              "      <td>A1586941241334010</td>\n",
              "      <td>06-APR-16 20.19.15</td>\n",
              "      <td>01-APR-20 00.00.00</td>\n",
              "      <td>FR40</td>\n",
              "      <td>TO00</td>\n",
              "      <td>CRC1</td>\n",
              "      <td>CVC0</td>\n",
              "      <td>CCC0</td>\n",
              "      <td>PPI4</td>\n",
              "      <td>CPI0</td>\n",
              "      <td>TCR2</td>\n",
              "      <td>TCV0</td>\n",
              "      <td>TWC0</td>\n",
              "      <td>PEI0</td>\n",
              "      <td>399.00</td>\n",
              "      <td>CURR356</td>\n",
              "      <td>000</td>\n",
              "      <td>391.94</td>\n",
              "      <td>CURR356</td>\n",
              "      <td>22-MAR-18 00.00.00</td>\n",
              "      <td>CON356</td>\n",
              "      <td>6R00G052</td>\n",
              "      <td>9822047692</td>\n",
              "      <td>PAYTM RETAIL -PG-ONLINE \\\\NOIDA\\201301\\</td>\n",
              "      <td>300255</td>\n",
              "      <td>RESULT000</td>\n",
              "      <td>AMI</td>\n",
              "      <td>ACS</td>\n",
              "      <td>T0797</td>\n",
              "      <td>AXASK05AEVV</td>\n",
              "      <td>ECI05</td>\n",
              "      <td>0</td>\n",
              "    </tr>\n",
              "    <tr>\n",
              "      <th>2</th>\n",
              "      <td>CURR356</td>\n",
              "      <td>ATC9</td>\n",
              "      <td>TOC1</td>\n",
              "      <td>TC00</td>\n",
              "      <td>TVI0</td>\n",
              "      <td>MCC7399</td>\n",
              "      <td>NNN</td>\n",
              "      <td>UNK</td>\n",
              "      <td>247.20</td>\n",
              "      <td>21-MAR-18 11.36.47</td>\n",
              "      <td>21-MAR-18 11.36.47</td>\n",
              "      <td>21-MAR-18 11.36.48</td>\n",
              "      <td>A1586941049519010</td>\n",
              "      <td>03-APR-18 14.19.03</td>\n",
              "      <td>01-APR-23 00.00.00</td>\n",
              "      <td>FR40</td>\n",
              "      <td>TO00</td>\n",
              "      <td>CRC1</td>\n",
              "      <td>CVC0</td>\n",
              "      <td>CCC0</td>\n",
              "      <td>PPI4</td>\n",
              "      <td>CPI0</td>\n",
              "      <td>TCR2</td>\n",
              "      <td>TCV0</td>\n",
              "      <td>TWC0</td>\n",
              "      <td>PEI0</td>\n",
              "      <td>247.20</td>\n",
              "      <td>CURR356</td>\n",
              "      <td>000</td>\n",
              "      <td>242.82</td>\n",
              "      <td>CURR356</td>\n",
              "      <td>22-MAR-18 00.00.00</td>\n",
              "      <td>CON356</td>\n",
              "      <td>6R00G052</td>\n",
              "      <td>9826826968</td>\n",
              "      <td>BOOK MY SHOW\\\\\\400049\\\\</td>\n",
              "      <td>700408</td>\n",
              "      <td>RESULT000</td>\n",
              "      <td>AMI</td>\n",
              "      <td>ACS</td>\n",
              "      <td>T0537</td>\n",
              "      <td>AXASK05AEVV</td>\n",
              "      <td>ECI05</td>\n",
              "      <td>0</td>\n",
              "    </tr>\n",
              "    <tr>\n",
              "      <th>3</th>\n",
              "      <td>CURR356</td>\n",
              "      <td>ATC9</td>\n",
              "      <td>TOC1</td>\n",
              "      <td>TC00</td>\n",
              "      <td>TVI0</td>\n",
              "      <td>MCC7399</td>\n",
              "      <td>NNN</td>\n",
              "      <td>UNK</td>\n",
              "      <td>359.00</td>\n",
              "      <td>21-MAR-18 11.39.44</td>\n",
              "      <td>21-MAR-18 11.39.44</td>\n",
              "      <td>21-MAR-18 11.39.44</td>\n",
              "      <td>A1586941050671000</td>\n",
              "      <td>20-APR-18 19.43.48</td>\n",
              "      <td>01-APR-23 00.00.00</td>\n",
              "      <td>FR40</td>\n",
              "      <td>TO00</td>\n",
              "      <td>CRC1</td>\n",
              "      <td>CVC0</td>\n",
              "      <td>CCC0</td>\n",
              "      <td>PPI4</td>\n",
              "      <td>CPI0</td>\n",
              "      <td>TCR2</td>\n",
              "      <td>TCV0</td>\n",
              "      <td>TWC0</td>\n",
              "      <td>PEI0</td>\n",
              "      <td>359.00</td>\n",
              "      <td>CURR356</td>\n",
              "      <td>000</td>\n",
              "      <td>352.65</td>\n",
              "      <td>CURR356</td>\n",
              "      <td>22-MAR-18 00.00.00</td>\n",
              "      <td>CON356</td>\n",
              "      <td>6R00G052</td>\n",
              "      <td>9826826968</td>\n",
              "      <td>BOOK MY SHOW\\\\\\400049\\\\</td>\n",
              "      <td>700585</td>\n",
              "      <td>RESULT000</td>\n",
              "      <td>AMI</td>\n",
              "      <td>ACS</td>\n",
              "      <td>T0796</td>\n",
              "      <td>AXASK05AEVV</td>\n",
              "      <td>ECI05</td>\n",
              "      <td>0</td>\n",
              "    </tr>\n",
              "    <tr>\n",
              "      <th>4</th>\n",
              "      <td>CURR356</td>\n",
              "      <td>ATC9</td>\n",
              "      <td>TOC1</td>\n",
              "      <td>TC00</td>\n",
              "      <td>TVI0</td>\n",
              "      <td>MCC5999</td>\n",
              "      <td>NNN</td>\n",
              "      <td>UNK</td>\n",
              "      <td>188.00</td>\n",
              "      <td>21-MAR-18 11.43.08</td>\n",
              "      <td>21-MAR-18 11.43.08</td>\n",
              "      <td>21-MAR-18 11.43.08</td>\n",
              "      <td>A1586941257961010</td>\n",
              "      <td>30-APR-16 20.49.02</td>\n",
              "      <td>01-APR-20 00.00.00</td>\n",
              "      <td>FR40</td>\n",
              "      <td>TO00</td>\n",
              "      <td>CRC1</td>\n",
              "      <td>CVC0</td>\n",
              "      <td>CCC0</td>\n",
              "      <td>PPI4</td>\n",
              "      <td>CPI0</td>\n",
              "      <td>TCR2</td>\n",
              "      <td>TCV0</td>\n",
              "      <td>TWC0</td>\n",
              "      <td>PEI0</td>\n",
              "      <td>188.00</td>\n",
              "      <td>CURR356</td>\n",
              "      <td>000</td>\n",
              "      <td>183.81</td>\n",
              "      <td>CURR356</td>\n",
              "      <td>22-MAR-18 00.00.00</td>\n",
              "      <td>CON356</td>\n",
              "      <td>6R00G052</td>\n",
              "      <td>9820524155</td>\n",
              "      <td>PAYTM.COM WALLET PG \\\\NOIDA\\201310\\\\</td>\n",
              "      <td>400788</td>\n",
              "      <td>RESULT000</td>\n",
              "      <td>AMI</td>\n",
              "      <td>ACS</td>\n",
              "      <td>T0784</td>\n",
              "      <td>AXASK05AEVV</td>\n",
              "      <td>ECI05</td>\n",
              "      <td>0</td>\n",
              "    </tr>\n",
              "  </tbody>\n",
              "</table>\n",
              "</div>"
            ],
            "text/plain": [
              "  TRANSACTION_CURRENCY   PD4  PD11  ...    ECOM_INFO E_COM_INDICATOR TARGET\n",
              "0              CURR356  ATC9  TOC1  ...  AXASK05AEVV           ECI05      0\n",
              "1              CURR356  ATC9  TOC1  ...  AXASK05AEVV           ECI05      0\n",
              "2              CURR356  ATC9  TOC1  ...  AXASK05AEVV           ECI05      0\n",
              "3              CURR356  ATC9  TOC1  ...  AXASK05AEVV           ECI05      0\n",
              "4              CURR356  ATC9  TOC1  ...  AXASK05AEVV           ECI05      0\n",
              "\n",
              "[5 rows x 44 columns]"
            ]
          },
          "metadata": {
            "tags": []
          },
          "execution_count": 36
        }
      ]
    },
    {
      "cell_type": "markdown",
      "metadata": {
        "id": "5iikTIHoZnse",
        "colab_type": "text"
      },
      "source": [
        "##### So there are no index like columns here, so we can simply convert all of them via LabelEncoder to numeric encodings to be passed on to the decision tree, however we will first find out the float type columns and have them be as it is.\n"
      ]
    },
    {
      "cell_type": "markdown",
      "metadata": {
        "id": "kTP93pStWOth",
        "colab_type": "text"
      },
      "source": [
        "##### **Function to find float type columns in the dataframe**"
      ]
    },
    {
      "cell_type": "code",
      "metadata": {
        "id": "flKQ9PcE3HCb",
        "colab_type": "code",
        "colab": {}
      },
      "source": [
        "#Function to find if a column is categorical or not and assign numerical encoding to it\n",
        "def check_float(df):\n",
        "  ## Keeping float data type columns as it is \n",
        "  float_cols = []\n",
        "  new_df = pd.DataFrame()\n",
        "  for col in df.columns:\n",
        "    if(is_float_dtype(df[col])== True):\n",
        "      new_df[col] = df[col]\n",
        "      float_cols.append(col)\n",
        "  return new_df, float_cols"
      ],
      "execution_count": 0,
      "outputs": []
    },
    {
      "cell_type": "code",
      "metadata": {
        "id": "9PQZi4IxktfF",
        "colab_type": "code",
        "colab": {
          "base_uri": "https://localhost:8080/",
          "height": 34
        },
        "outputId": "72630021-d2d8-4f50-f18e-c79399a2243d"
      },
      "source": [
        "float_df, float_cols = check_float(data_dt)\n",
        "float_cols"
      ],
      "execution_count": 38,
      "outputs": [
        {
          "output_type": "execute_result",
          "data": {
            "text/plain": [
              "['BILLING_AMOUNT', 'TRANSACTION_AMOUNT', 'SETTLEMENT_AMOUNT']"
            ]
          },
          "metadata": {
            "tags": []
          },
          "execution_count": 38
        }
      ]
    },
    {
      "cell_type": "code",
      "metadata": {
        "id": "YrJowQOxlNFO",
        "colab_type": "code",
        "colab": {
          "base_uri": "https://localhost:8080/",
          "height": 206
        },
        "outputId": "07feedf4-9e8b-4e00-b271-cae43805e3f2"
      },
      "source": [
        "float_df.head()"
      ],
      "execution_count": 39,
      "outputs": [
        {
          "output_type": "execute_result",
          "data": {
            "text/html": [
              "<div>\n",
              "<style scoped>\n",
              "    .dataframe tbody tr th:only-of-type {\n",
              "        vertical-align: middle;\n",
              "    }\n",
              "\n",
              "    .dataframe tbody tr th {\n",
              "        vertical-align: top;\n",
              "    }\n",
              "\n",
              "    .dataframe thead th {\n",
              "        text-align: right;\n",
              "    }\n",
              "</style>\n",
              "<table border=\"1\" class=\"dataframe\">\n",
              "  <thead>\n",
              "    <tr style=\"text-align: right;\">\n",
              "      <th></th>\n",
              "      <th>BILLING_AMOUNT</th>\n",
              "      <th>TRANSACTION_AMOUNT</th>\n",
              "      <th>SETTLEMENT_AMOUNT</th>\n",
              "    </tr>\n",
              "  </thead>\n",
              "  <tbody>\n",
              "    <tr>\n",
              "      <th>0</th>\n",
              "      <td>147.84</td>\n",
              "      <td>147.84</td>\n",
              "      <td>145.22</td>\n",
              "    </tr>\n",
              "    <tr>\n",
              "      <th>1</th>\n",
              "      <td>399.00</td>\n",
              "      <td>399.00</td>\n",
              "      <td>391.94</td>\n",
              "    </tr>\n",
              "    <tr>\n",
              "      <th>2</th>\n",
              "      <td>247.20</td>\n",
              "      <td>247.20</td>\n",
              "      <td>242.82</td>\n",
              "    </tr>\n",
              "    <tr>\n",
              "      <th>3</th>\n",
              "      <td>359.00</td>\n",
              "      <td>359.00</td>\n",
              "      <td>352.65</td>\n",
              "    </tr>\n",
              "    <tr>\n",
              "      <th>4</th>\n",
              "      <td>188.00</td>\n",
              "      <td>188.00</td>\n",
              "      <td>183.81</td>\n",
              "    </tr>\n",
              "  </tbody>\n",
              "</table>\n",
              "</div>"
            ],
            "text/plain": [
              "   BILLING_AMOUNT  TRANSACTION_AMOUNT  SETTLEMENT_AMOUNT\n",
              "0          147.84              147.84             145.22\n",
              "1          399.00              399.00             391.94\n",
              "2          247.20              247.20             242.82\n",
              "3          359.00              359.00             352.65\n",
              "4          188.00              188.00             183.81"
            ]
          },
          "metadata": {
            "tags": []
          },
          "execution_count": 39
        }
      ]
    },
    {
      "cell_type": "code",
      "metadata": {
        "id": "WoIAynSClW7T",
        "colab_type": "code",
        "colab": {
          "base_uri": "https://localhost:8080/",
          "height": 34
        },
        "outputId": "5b0be2bc-cb12-4fff-f465-4e630327389e"
      },
      "source": [
        "data_dt2 = data_dt.drop(float_cols,1)\n",
        "data_dt2.shape"
      ],
      "execution_count": 40,
      "outputs": [
        {
          "output_type": "execute_result",
          "data": {
            "text/plain": [
              "(22256, 41)"
            ]
          },
          "metadata": {
            "tags": []
          },
          "execution_count": 40
        }
      ]
    },
    {
      "cell_type": "code",
      "metadata": {
        "id": "xkFXhrTVZ1R7",
        "colab_type": "code",
        "outputId": "876ca4ca-1d71-4a9e-faba-57bd76efb7dd",
        "colab": {
          "base_uri": "https://localhost:8080/",
          "height": 226
        }
      },
      "source": [
        "data_dt_final = data_dt2.apply(preprocessing.LabelEncoder().fit_transform)\n",
        "data_dt_final.head()"
      ],
      "execution_count": 41,
      "outputs": [
        {
          "output_type": "execute_result",
          "data": {
            "text/html": [
              "<div>\n",
              "<style scoped>\n",
              "    .dataframe tbody tr th:only-of-type {\n",
              "        vertical-align: middle;\n",
              "    }\n",
              "\n",
              "    .dataframe tbody tr th {\n",
              "        vertical-align: top;\n",
              "    }\n",
              "\n",
              "    .dataframe thead th {\n",
              "        text-align: right;\n",
              "    }\n",
              "</style>\n",
              "<table border=\"1\" class=\"dataframe\">\n",
              "  <thead>\n",
              "    <tr style=\"text-align: right;\">\n",
              "      <th></th>\n",
              "      <th>TRANSACTION_CURRENCY</th>\n",
              "      <th>PD4</th>\n",
              "      <th>PD11</th>\n",
              "      <th>PROC_CODE_12</th>\n",
              "      <th>PD8</th>\n",
              "      <th>MCC</th>\n",
              "      <th>POS_ENTRY_MODE</th>\n",
              "      <th>SERVICE_CODE</th>\n",
              "      <th>TRANSACTION_LOCAL_DATE</th>\n",
              "      <th>TRANSMISSION_DATE_TIME</th>\n",
              "      <th>RESPONSE_DATE_TIME</th>\n",
              "      <th>PAN</th>\n",
              "      <th>VALID_FROM</th>\n",
              "      <th>EXPIRY_DATE</th>\n",
              "      <th>PROC_CODE_34</th>\n",
              "      <th>PROC_CODE_56</th>\n",
              "      <th>PD1</th>\n",
              "      <th>PD2</th>\n",
              "      <th>PD3</th>\n",
              "      <th>PD5</th>\n",
              "      <th>PD6</th>\n",
              "      <th>PD7</th>\n",
              "      <th>PD9</th>\n",
              "      <th>PD10</th>\n",
              "      <th>PD12</th>\n",
              "      <th>BILLING_CURRENCY</th>\n",
              "      <th>CONVERSION_RATE_DATE</th>\n",
              "      <th>SETTLEMENT_CURRENCY</th>\n",
              "      <th>SETTLEMENT_DATE</th>\n",
              "      <th>ACQUIRING_COUNTRY_CODE</th>\n",
              "      <th>CARD_ACCEPTOR_TERM_ID</th>\n",
              "      <th>CARD_ACCEPTOR_ID</th>\n",
              "      <th>CARD_ACC_NAME_ADDRESS</th>\n",
              "      <th>AUTHORIZATION_CODE</th>\n",
              "      <th>DECISION</th>\n",
              "      <th>C_100</th>\n",
              "      <th>C_40</th>\n",
              "      <th>C_20</th>\n",
              "      <th>ECOM_INFO</th>\n",
              "      <th>E_COM_INDICATOR</th>\n",
              "      <th>TARGET</th>\n",
              "    </tr>\n",
              "  </thead>\n",
              "  <tbody>\n",
              "    <tr>\n",
              "      <th>0</th>\n",
              "      <td>2</td>\n",
              "      <td>1</td>\n",
              "      <td>1</td>\n",
              "      <td>0</td>\n",
              "      <td>0</td>\n",
              "      <td>104</td>\n",
              "      <td>0</td>\n",
              "      <td>0</td>\n",
              "      <td>0</td>\n",
              "      <td>0</td>\n",
              "      <td>0</td>\n",
              "      <td>536</td>\n",
              "      <td>8364</td>\n",
              "      <td>1</td>\n",
              "      <td>2</td>\n",
              "      <td>0</td>\n",
              "      <td>1</td>\n",
              "      <td>0</td>\n",
              "      <td>0</td>\n",
              "      <td>3</td>\n",
              "      <td>0</td>\n",
              "      <td>1</td>\n",
              "      <td>0</td>\n",
              "      <td>0</td>\n",
              "      <td>0</td>\n",
              "      <td>0</td>\n",
              "      <td>0</td>\n",
              "      <td>1</td>\n",
              "      <td>0</td>\n",
              "      <td>7</td>\n",
              "      <td>238</td>\n",
              "      <td>564</td>\n",
              "      <td>147</td>\n",
              "      <td>17162</td>\n",
              "      <td>0</td>\n",
              "      <td>0</td>\n",
              "      <td>0</td>\n",
              "      <td>465</td>\n",
              "      <td>21013</td>\n",
              "      <td>1</td>\n",
              "      <td>0</td>\n",
              "    </tr>\n",
              "    <tr>\n",
              "      <th>1</th>\n",
              "      <td>2</td>\n",
              "      <td>1</td>\n",
              "      <td>1</td>\n",
              "      <td>0</td>\n",
              "      <td>0</td>\n",
              "      <td>28</td>\n",
              "      <td>0</td>\n",
              "      <td>0</td>\n",
              "      <td>1</td>\n",
              "      <td>1</td>\n",
              "      <td>1</td>\n",
              "      <td>495</td>\n",
              "      <td>2249</td>\n",
              "      <td>1</td>\n",
              "      <td>2</td>\n",
              "      <td>0</td>\n",
              "      <td>1</td>\n",
              "      <td>0</td>\n",
              "      <td>0</td>\n",
              "      <td>3</td>\n",
              "      <td>0</td>\n",
              "      <td>1</td>\n",
              "      <td>0</td>\n",
              "      <td>0</td>\n",
              "      <td>0</td>\n",
              "      <td>0</td>\n",
              "      <td>0</td>\n",
              "      <td>1</td>\n",
              "      <td>0</td>\n",
              "      <td>7</td>\n",
              "      <td>238</td>\n",
              "      <td>526</td>\n",
              "      <td>657</td>\n",
              "      <td>4018</td>\n",
              "      <td>0</td>\n",
              "      <td>0</td>\n",
              "      <td>0</td>\n",
              "      <td>472</td>\n",
              "      <td>21013</td>\n",
              "      <td>1</td>\n",
              "      <td>0</td>\n",
              "    </tr>\n",
              "    <tr>\n",
              "      <th>2</th>\n",
              "      <td>2</td>\n",
              "      <td>1</td>\n",
              "      <td>1</td>\n",
              "      <td>0</td>\n",
              "      <td>0</td>\n",
              "      <td>104</td>\n",
              "      <td>0</td>\n",
              "      <td>0</td>\n",
              "      <td>2</td>\n",
              "      <td>2</td>\n",
              "      <td>2</td>\n",
              "      <td>294</td>\n",
              "      <td>861</td>\n",
              "      <td>4</td>\n",
              "      <td>2</td>\n",
              "      <td>0</td>\n",
              "      <td>1</td>\n",
              "      <td>0</td>\n",
              "      <td>0</td>\n",
              "      <td>3</td>\n",
              "      <td>0</td>\n",
              "      <td>1</td>\n",
              "      <td>0</td>\n",
              "      <td>0</td>\n",
              "      <td>0</td>\n",
              "      <td>0</td>\n",
              "      <td>0</td>\n",
              "      <td>1</td>\n",
              "      <td>0</td>\n",
              "      <td>7</td>\n",
              "      <td>238</td>\n",
              "      <td>564</td>\n",
              "      <td>147</td>\n",
              "      <td>14477</td>\n",
              "      <td>0</td>\n",
              "      <td>0</td>\n",
              "      <td>0</td>\n",
              "      <td>328</td>\n",
              "      <td>21013</td>\n",
              "      <td>1</td>\n",
              "      <td>0</td>\n",
              "    </tr>\n",
              "    <tr>\n",
              "      <th>3</th>\n",
              "      <td>2</td>\n",
              "      <td>1</td>\n",
              "      <td>1</td>\n",
              "      <td>0</td>\n",
              "      <td>0</td>\n",
              "      <td>104</td>\n",
              "      <td>0</td>\n",
              "      <td>0</td>\n",
              "      <td>3</td>\n",
              "      <td>3</td>\n",
              "      <td>3</td>\n",
              "      <td>317</td>\n",
              "      <td>7977</td>\n",
              "      <td>4</td>\n",
              "      <td>2</td>\n",
              "      <td>0</td>\n",
              "      <td>1</td>\n",
              "      <td>0</td>\n",
              "      <td>0</td>\n",
              "      <td>3</td>\n",
              "      <td>0</td>\n",
              "      <td>1</td>\n",
              "      <td>0</td>\n",
              "      <td>0</td>\n",
              "      <td>0</td>\n",
              "      <td>0</td>\n",
              "      <td>0</td>\n",
              "      <td>1</td>\n",
              "      <td>0</td>\n",
              "      <td>7</td>\n",
              "      <td>238</td>\n",
              "      <td>564</td>\n",
              "      <td>147</td>\n",
              "      <td>14481</td>\n",
              "      <td>0</td>\n",
              "      <td>0</td>\n",
              "      <td>0</td>\n",
              "      <td>471</td>\n",
              "      <td>21013</td>\n",
              "      <td>1</td>\n",
              "      <td>0</td>\n",
              "    </tr>\n",
              "    <tr>\n",
              "      <th>4</th>\n",
              "      <td>2</td>\n",
              "      <td>1</td>\n",
              "      <td>1</td>\n",
              "      <td>0</td>\n",
              "      <td>0</td>\n",
              "      <td>83</td>\n",
              "      <td>0</td>\n",
              "      <td>0</td>\n",
              "      <td>4</td>\n",
              "      <td>4</td>\n",
              "      <td>4</td>\n",
              "      <td>556</td>\n",
              "      <td>12776</td>\n",
              "      <td>1</td>\n",
              "      <td>2</td>\n",
              "      <td>0</td>\n",
              "      <td>1</td>\n",
              "      <td>0</td>\n",
              "      <td>0</td>\n",
              "      <td>3</td>\n",
              "      <td>0</td>\n",
              "      <td>1</td>\n",
              "      <td>0</td>\n",
              "      <td>0</td>\n",
              "      <td>0</td>\n",
              "      <td>0</td>\n",
              "      <td>0</td>\n",
              "      <td>1</td>\n",
              "      <td>0</td>\n",
              "      <td>7</td>\n",
              "      <td>238</td>\n",
              "      <td>506</td>\n",
              "      <td>664</td>\n",
              "      <td>6582</td>\n",
              "      <td>0</td>\n",
              "      <td>0</td>\n",
              "      <td>0</td>\n",
              "      <td>465</td>\n",
              "      <td>21013</td>\n",
              "      <td>1</td>\n",
              "      <td>0</td>\n",
              "    </tr>\n",
              "  </tbody>\n",
              "</table>\n",
              "</div>"
            ],
            "text/plain": [
              "   TRANSACTION_CURRENCY  PD4  PD11  ...  ECOM_INFO  E_COM_INDICATOR  TARGET\n",
              "0                     2    1     1  ...      21013                1       0\n",
              "1                     2    1     1  ...      21013                1       0\n",
              "2                     2    1     1  ...      21013                1       0\n",
              "3                     2    1     1  ...      21013                1       0\n",
              "4                     2    1     1  ...      21013                1       0\n",
              "\n",
              "[5 rows x 41 columns]"
            ]
          },
          "metadata": {
            "tags": []
          },
          "execution_count": 41
        }
      ]
    },
    {
      "cell_type": "code",
      "metadata": {
        "id": "yZ0KeR0Dmefz",
        "colab_type": "code",
        "colab": {
          "base_uri": "https://localhost:8080/",
          "height": 34
        },
        "outputId": "3c5769c7-fc10-4b79-ffa2-1a0b56901c4e"
      },
      "source": [
        "#Reinstating the float columns as they are back into the data frame\n",
        "for f in float_cols:\n",
        "  data_dt_final[f] = data_dt[f]\n",
        "\n",
        "data_dt_final.shape\n"
      ],
      "execution_count": 42,
      "outputs": [
        {
          "output_type": "execute_result",
          "data": {
            "text/plain": [
              "(22256, 44)"
            ]
          },
          "metadata": {
            "tags": []
          },
          "execution_count": 42
        }
      ]
    },
    {
      "cell_type": "code",
      "metadata": {
        "id": "dB9xK2dYowI1",
        "colab_type": "code",
        "colab": {
          "base_uri": "https://localhost:8080/",
          "height": 226
        },
        "outputId": "a9ad96f1-0904-428d-c4c1-7de4dadab06e"
      },
      "source": [
        "data_dt_final.head()"
      ],
      "execution_count": 43,
      "outputs": [
        {
          "output_type": "execute_result",
          "data": {
            "text/html": [
              "<div>\n",
              "<style scoped>\n",
              "    .dataframe tbody tr th:only-of-type {\n",
              "        vertical-align: middle;\n",
              "    }\n",
              "\n",
              "    .dataframe tbody tr th {\n",
              "        vertical-align: top;\n",
              "    }\n",
              "\n",
              "    .dataframe thead th {\n",
              "        text-align: right;\n",
              "    }\n",
              "</style>\n",
              "<table border=\"1\" class=\"dataframe\">\n",
              "  <thead>\n",
              "    <tr style=\"text-align: right;\">\n",
              "      <th></th>\n",
              "      <th>TRANSACTION_CURRENCY</th>\n",
              "      <th>PD4</th>\n",
              "      <th>PD11</th>\n",
              "      <th>PROC_CODE_12</th>\n",
              "      <th>PD8</th>\n",
              "      <th>MCC</th>\n",
              "      <th>POS_ENTRY_MODE</th>\n",
              "      <th>SERVICE_CODE</th>\n",
              "      <th>TRANSACTION_LOCAL_DATE</th>\n",
              "      <th>TRANSMISSION_DATE_TIME</th>\n",
              "      <th>RESPONSE_DATE_TIME</th>\n",
              "      <th>PAN</th>\n",
              "      <th>VALID_FROM</th>\n",
              "      <th>EXPIRY_DATE</th>\n",
              "      <th>PROC_CODE_34</th>\n",
              "      <th>PROC_CODE_56</th>\n",
              "      <th>PD1</th>\n",
              "      <th>PD2</th>\n",
              "      <th>PD3</th>\n",
              "      <th>PD5</th>\n",
              "      <th>PD6</th>\n",
              "      <th>PD7</th>\n",
              "      <th>PD9</th>\n",
              "      <th>PD10</th>\n",
              "      <th>PD12</th>\n",
              "      <th>BILLING_CURRENCY</th>\n",
              "      <th>CONVERSION_RATE_DATE</th>\n",
              "      <th>SETTLEMENT_CURRENCY</th>\n",
              "      <th>SETTLEMENT_DATE</th>\n",
              "      <th>ACQUIRING_COUNTRY_CODE</th>\n",
              "      <th>CARD_ACCEPTOR_TERM_ID</th>\n",
              "      <th>CARD_ACCEPTOR_ID</th>\n",
              "      <th>CARD_ACC_NAME_ADDRESS</th>\n",
              "      <th>AUTHORIZATION_CODE</th>\n",
              "      <th>DECISION</th>\n",
              "      <th>C_100</th>\n",
              "      <th>C_40</th>\n",
              "      <th>C_20</th>\n",
              "      <th>ECOM_INFO</th>\n",
              "      <th>E_COM_INDICATOR</th>\n",
              "      <th>TARGET</th>\n",
              "      <th>BILLING_AMOUNT</th>\n",
              "      <th>TRANSACTION_AMOUNT</th>\n",
              "      <th>SETTLEMENT_AMOUNT</th>\n",
              "    </tr>\n",
              "  </thead>\n",
              "  <tbody>\n",
              "    <tr>\n",
              "      <th>0</th>\n",
              "      <td>2</td>\n",
              "      <td>1</td>\n",
              "      <td>1</td>\n",
              "      <td>0</td>\n",
              "      <td>0</td>\n",
              "      <td>104</td>\n",
              "      <td>0</td>\n",
              "      <td>0</td>\n",
              "      <td>0</td>\n",
              "      <td>0</td>\n",
              "      <td>0</td>\n",
              "      <td>536</td>\n",
              "      <td>8364</td>\n",
              "      <td>1</td>\n",
              "      <td>2</td>\n",
              "      <td>0</td>\n",
              "      <td>1</td>\n",
              "      <td>0</td>\n",
              "      <td>0</td>\n",
              "      <td>3</td>\n",
              "      <td>0</td>\n",
              "      <td>1</td>\n",
              "      <td>0</td>\n",
              "      <td>0</td>\n",
              "      <td>0</td>\n",
              "      <td>0</td>\n",
              "      <td>0</td>\n",
              "      <td>1</td>\n",
              "      <td>0</td>\n",
              "      <td>7</td>\n",
              "      <td>238</td>\n",
              "      <td>564</td>\n",
              "      <td>147</td>\n",
              "      <td>17162</td>\n",
              "      <td>0</td>\n",
              "      <td>0</td>\n",
              "      <td>0</td>\n",
              "      <td>465</td>\n",
              "      <td>21013</td>\n",
              "      <td>1</td>\n",
              "      <td>0</td>\n",
              "      <td>147.84</td>\n",
              "      <td>147.84</td>\n",
              "      <td>145.22</td>\n",
              "    </tr>\n",
              "    <tr>\n",
              "      <th>1</th>\n",
              "      <td>2</td>\n",
              "      <td>1</td>\n",
              "      <td>1</td>\n",
              "      <td>0</td>\n",
              "      <td>0</td>\n",
              "      <td>28</td>\n",
              "      <td>0</td>\n",
              "      <td>0</td>\n",
              "      <td>1</td>\n",
              "      <td>1</td>\n",
              "      <td>1</td>\n",
              "      <td>495</td>\n",
              "      <td>2249</td>\n",
              "      <td>1</td>\n",
              "      <td>2</td>\n",
              "      <td>0</td>\n",
              "      <td>1</td>\n",
              "      <td>0</td>\n",
              "      <td>0</td>\n",
              "      <td>3</td>\n",
              "      <td>0</td>\n",
              "      <td>1</td>\n",
              "      <td>0</td>\n",
              "      <td>0</td>\n",
              "      <td>0</td>\n",
              "      <td>0</td>\n",
              "      <td>0</td>\n",
              "      <td>1</td>\n",
              "      <td>0</td>\n",
              "      <td>7</td>\n",
              "      <td>238</td>\n",
              "      <td>526</td>\n",
              "      <td>657</td>\n",
              "      <td>4018</td>\n",
              "      <td>0</td>\n",
              "      <td>0</td>\n",
              "      <td>0</td>\n",
              "      <td>472</td>\n",
              "      <td>21013</td>\n",
              "      <td>1</td>\n",
              "      <td>0</td>\n",
              "      <td>399.00</td>\n",
              "      <td>399.00</td>\n",
              "      <td>391.94</td>\n",
              "    </tr>\n",
              "    <tr>\n",
              "      <th>2</th>\n",
              "      <td>2</td>\n",
              "      <td>1</td>\n",
              "      <td>1</td>\n",
              "      <td>0</td>\n",
              "      <td>0</td>\n",
              "      <td>104</td>\n",
              "      <td>0</td>\n",
              "      <td>0</td>\n",
              "      <td>2</td>\n",
              "      <td>2</td>\n",
              "      <td>2</td>\n",
              "      <td>294</td>\n",
              "      <td>861</td>\n",
              "      <td>4</td>\n",
              "      <td>2</td>\n",
              "      <td>0</td>\n",
              "      <td>1</td>\n",
              "      <td>0</td>\n",
              "      <td>0</td>\n",
              "      <td>3</td>\n",
              "      <td>0</td>\n",
              "      <td>1</td>\n",
              "      <td>0</td>\n",
              "      <td>0</td>\n",
              "      <td>0</td>\n",
              "      <td>0</td>\n",
              "      <td>0</td>\n",
              "      <td>1</td>\n",
              "      <td>0</td>\n",
              "      <td>7</td>\n",
              "      <td>238</td>\n",
              "      <td>564</td>\n",
              "      <td>147</td>\n",
              "      <td>14477</td>\n",
              "      <td>0</td>\n",
              "      <td>0</td>\n",
              "      <td>0</td>\n",
              "      <td>328</td>\n",
              "      <td>21013</td>\n",
              "      <td>1</td>\n",
              "      <td>0</td>\n",
              "      <td>247.20</td>\n",
              "      <td>247.20</td>\n",
              "      <td>242.82</td>\n",
              "    </tr>\n",
              "    <tr>\n",
              "      <th>3</th>\n",
              "      <td>2</td>\n",
              "      <td>1</td>\n",
              "      <td>1</td>\n",
              "      <td>0</td>\n",
              "      <td>0</td>\n",
              "      <td>104</td>\n",
              "      <td>0</td>\n",
              "      <td>0</td>\n",
              "      <td>3</td>\n",
              "      <td>3</td>\n",
              "      <td>3</td>\n",
              "      <td>317</td>\n",
              "      <td>7977</td>\n",
              "      <td>4</td>\n",
              "      <td>2</td>\n",
              "      <td>0</td>\n",
              "      <td>1</td>\n",
              "      <td>0</td>\n",
              "      <td>0</td>\n",
              "      <td>3</td>\n",
              "      <td>0</td>\n",
              "      <td>1</td>\n",
              "      <td>0</td>\n",
              "      <td>0</td>\n",
              "      <td>0</td>\n",
              "      <td>0</td>\n",
              "      <td>0</td>\n",
              "      <td>1</td>\n",
              "      <td>0</td>\n",
              "      <td>7</td>\n",
              "      <td>238</td>\n",
              "      <td>564</td>\n",
              "      <td>147</td>\n",
              "      <td>14481</td>\n",
              "      <td>0</td>\n",
              "      <td>0</td>\n",
              "      <td>0</td>\n",
              "      <td>471</td>\n",
              "      <td>21013</td>\n",
              "      <td>1</td>\n",
              "      <td>0</td>\n",
              "      <td>359.00</td>\n",
              "      <td>359.00</td>\n",
              "      <td>352.65</td>\n",
              "    </tr>\n",
              "    <tr>\n",
              "      <th>4</th>\n",
              "      <td>2</td>\n",
              "      <td>1</td>\n",
              "      <td>1</td>\n",
              "      <td>0</td>\n",
              "      <td>0</td>\n",
              "      <td>83</td>\n",
              "      <td>0</td>\n",
              "      <td>0</td>\n",
              "      <td>4</td>\n",
              "      <td>4</td>\n",
              "      <td>4</td>\n",
              "      <td>556</td>\n",
              "      <td>12776</td>\n",
              "      <td>1</td>\n",
              "      <td>2</td>\n",
              "      <td>0</td>\n",
              "      <td>1</td>\n",
              "      <td>0</td>\n",
              "      <td>0</td>\n",
              "      <td>3</td>\n",
              "      <td>0</td>\n",
              "      <td>1</td>\n",
              "      <td>0</td>\n",
              "      <td>0</td>\n",
              "      <td>0</td>\n",
              "      <td>0</td>\n",
              "      <td>0</td>\n",
              "      <td>1</td>\n",
              "      <td>0</td>\n",
              "      <td>7</td>\n",
              "      <td>238</td>\n",
              "      <td>506</td>\n",
              "      <td>664</td>\n",
              "      <td>6582</td>\n",
              "      <td>0</td>\n",
              "      <td>0</td>\n",
              "      <td>0</td>\n",
              "      <td>465</td>\n",
              "      <td>21013</td>\n",
              "      <td>1</td>\n",
              "      <td>0</td>\n",
              "      <td>188.00</td>\n",
              "      <td>188.00</td>\n",
              "      <td>183.81</td>\n",
              "    </tr>\n",
              "  </tbody>\n",
              "</table>\n",
              "</div>"
            ],
            "text/plain": [
              "   TRANSACTION_CURRENCY  PD4  ...  TRANSACTION_AMOUNT  SETTLEMENT_AMOUNT\n",
              "0                     2    1  ...              147.84             145.22\n",
              "1                     2    1  ...              399.00             391.94\n",
              "2                     2    1  ...              247.20             242.82\n",
              "3                     2    1  ...              359.00             352.65\n",
              "4                     2    1  ...              188.00             183.81\n",
              "\n",
              "[5 rows x 44 columns]"
            ]
          },
          "metadata": {
            "tags": []
          },
          "execution_count": 43
        }
      ]
    },
    {
      "cell_type": "code",
      "metadata": {
        "id": "_6Hm4RFyFu3c",
        "colab_type": "code",
        "colab": {
          "base_uri": "https://localhost:8080/",
          "height": 52
        },
        "outputId": "4800c45e-5b44-4ca6-f34c-fd3c28d1c7d9"
      },
      "source": [
        "X = np.array(data_dt_final.loc[:, data_dt_final.columns != 'TARGET'])\n",
        "y = np.array(data_dt_final.loc[:,'TARGET'])\n",
        "print(X.shape)\n",
        "print(y.shape)"
      ],
      "execution_count": 44,
      "outputs": [
        {
          "output_type": "stream",
          "text": [
            "(22256, 43)\n",
            "(22256,)\n"
          ],
          "name": "stdout"
        }
      ]
    },
    {
      "cell_type": "code",
      "metadata": {
        "id": "MqpnXVw84TOf",
        "colab_type": "code",
        "colab": {}
      },
      "source": [
        "X_train, X_test, y_train, y_test = train_test_split(\n",
        "...     X, y, test_size=0.1, random_state=42)"
      ],
      "execution_count": 0,
      "outputs": []
    },
    {
      "cell_type": "code",
      "metadata": {
        "id": "q1cTewcTSaoH",
        "colab_type": "code",
        "colab": {}
      },
      "source": [
        "#There is an argument here called 'criterion' which is helpful \n",
        "#It can take values 'gini' and 'entropy', it will decide which method is used\n",
        "clf = tree.DecisionTreeClassifier() \n",
        "clf = clf.fit(X_train, y_train)"
      ],
      "execution_count": 0,
      "outputs": []
    },
    {
      "cell_type": "code",
      "metadata": {
        "id": "UFdsLqxqVTIc",
        "colab_type": "code",
        "colab": {
          "base_uri": "https://localhost:8080/",
          "height": 764
        },
        "outputId": "39acaa7a-4b49-4f9e-f716-908616b3405d"
      },
      "source": [
        "xx = data_dt_final.loc[:, data_dt_final.columns != 'TARGET'].keys().tolist()\n",
        "data_dt_final.loc[:, data_dt_final.columns != 'TARGET'].keys().tolist()\n"
      ],
      "execution_count": 47,
      "outputs": [
        {
          "output_type": "execute_result",
          "data": {
            "text/plain": [
              "['TRANSACTION_CURRENCY',\n",
              " 'PD4',\n",
              " 'PD11',\n",
              " 'PROC_CODE_12',\n",
              " 'PD8',\n",
              " 'MCC',\n",
              " 'POS_ENTRY_MODE',\n",
              " 'SERVICE_CODE',\n",
              " 'TRANSACTION_LOCAL_DATE',\n",
              " 'TRANSMISSION_DATE_TIME',\n",
              " 'RESPONSE_DATE_TIME',\n",
              " 'PAN',\n",
              " 'VALID_FROM',\n",
              " 'EXPIRY_DATE',\n",
              " 'PROC_CODE_34',\n",
              " 'PROC_CODE_56',\n",
              " 'PD1',\n",
              " 'PD2',\n",
              " 'PD3',\n",
              " 'PD5',\n",
              " 'PD6',\n",
              " 'PD7',\n",
              " 'PD9',\n",
              " 'PD10',\n",
              " 'PD12',\n",
              " 'BILLING_CURRENCY',\n",
              " 'CONVERSION_RATE_DATE',\n",
              " 'SETTLEMENT_CURRENCY',\n",
              " 'SETTLEMENT_DATE',\n",
              " 'ACQUIRING_COUNTRY_CODE',\n",
              " 'CARD_ACCEPTOR_TERM_ID',\n",
              " 'CARD_ACCEPTOR_ID',\n",
              " 'CARD_ACC_NAME_ADDRESS',\n",
              " 'AUTHORIZATION_CODE',\n",
              " 'DECISION',\n",
              " 'C_100',\n",
              " 'C_40',\n",
              " 'C_20',\n",
              " 'ECOM_INFO',\n",
              " 'E_COM_INDICATOR',\n",
              " 'BILLING_AMOUNT',\n",
              " 'TRANSACTION_AMOUNT',\n",
              " 'SETTLEMENT_AMOUNT']"
            ]
          },
          "metadata": {
            "tags": []
          },
          "execution_count": 47
        }
      ]
    },
    {
      "cell_type": "code",
      "metadata": {
        "id": "YJV82Mk8ruWm",
        "colab_type": "code",
        "colab": {
          "base_uri": "https://localhost:8080/",
          "height": 34
        },
        "outputId": "3f5c867f-894d-4039-cdde-c18553c21a1d"
      },
      "source": [
        "x = np.array(list(set(data_dt_final['TARGET'])))\n",
        "x = list( map(str, x) )\n",
        "x"
      ],
      "execution_count": 48,
      "outputs": [
        {
          "output_type": "execute_result",
          "data": {
            "text/plain": [
              "['0', '1']"
            ]
          },
          "metadata": {
            "tags": []
          },
          "execution_count": 48
        }
      ]
    },
    {
      "cell_type": "code",
      "metadata": {
        "id": "-OyGwY80EHQi",
        "colab_type": "code",
        "colab": {
          "base_uri": "https://localhost:8080/",
          "height": 241
        },
        "outputId": "81915978-5239-4ae8-c006-655587c1878a"
      },
      "source": [
        "dot_data = tree.export_graphviz(clf, out_file=None,filled=True) \n",
        "graph = graphviz.Source(dot_data) \n",
        "graph"
      ],
      "execution_count": 49,
      "outputs": [
        {
          "output_type": "execute_result",
          "data": {
            "text/plain": [
              "<graphviz.files.Source at 0x7f8282927898>"
            ],
            "image/svg+xml": "<?xml version=\"1.0\" encoding=\"UTF-8\" standalone=\"no\"?>\n<!DOCTYPE svg PUBLIC \"-//W3C//DTD SVG 1.1//EN\"\n \"http://www.w3.org/Graphics/SVG/1.1/DTD/svg11.dtd\">\n<!-- Generated by graphviz version 2.40.1 (20161225.0304)\n -->\n<!-- Title: Tree Pages: 1 -->\n<svg width=\"262pt\" height=\"165pt\"\n viewBox=\"0.00 0.00 261.50 165.00\" xmlns=\"http://www.w3.org/2000/svg\" xmlns:xlink=\"http://www.w3.org/1999/xlink\">\n<g id=\"graph0\" class=\"graph\" transform=\"scale(1 1) rotate(0) translate(4 161)\">\n<title>Tree</title>\n<polygon fill=\"#ffffff\" stroke=\"transparent\" points=\"-4,4 -4,-161 257.5,-161 257.5,4 -4,4\"/>\n<!-- 0 -->\n<g id=\"node1\" class=\"node\">\n<title>0</title>\n<polygon fill=\"#e68641\" stroke=\"#000000\" points=\"193,-157 53,-157 53,-89 193,-89 193,-157\"/>\n<text text-anchor=\"middle\" x=\"123\" y=\"-141.8\" font-family=\"Times,serif\" font-size=\"14.00\" fill=\"#000000\">X[33] &lt;= 1.0</text>\n<text text-anchor=\"middle\" x=\"123\" y=\"-126.8\" font-family=\"Times,serif\" font-size=\"14.00\" fill=\"#000000\">gini = 0.073</text>\n<text text-anchor=\"middle\" x=\"123\" y=\"-111.8\" font-family=\"Times,serif\" font-size=\"14.00\" fill=\"#000000\">samples = 20030</text>\n<text text-anchor=\"middle\" x=\"123\" y=\"-96.8\" font-family=\"Times,serif\" font-size=\"14.00\" fill=\"#000000\">value = [19270, 760]</text>\n</g>\n<!-- 1 -->\n<g id=\"node2\" class=\"node\">\n<title>1</title>\n<polygon fill=\"#399de5\" stroke=\"#000000\" points=\"110,-53 0,-53 0,0 110,0 110,-53\"/>\n<text text-anchor=\"middle\" x=\"55\" y=\"-37.8\" font-family=\"Times,serif\" font-size=\"14.00\" fill=\"#000000\">gini = 0.0</text>\n<text text-anchor=\"middle\" x=\"55\" y=\"-22.8\" font-family=\"Times,serif\" font-size=\"14.00\" fill=\"#000000\">samples = 760</text>\n<text text-anchor=\"middle\" x=\"55\" y=\"-7.8\" font-family=\"Times,serif\" font-size=\"14.00\" fill=\"#000000\">value = [0, 760]</text>\n</g>\n<!-- 0&#45;&gt;1 -->\n<g id=\"edge1\" class=\"edge\">\n<title>0&#45;&gt;1</title>\n<path fill=\"none\" stroke=\"#000000\" d=\"M99.0257,-88.9777C92.7667,-80.0954 86.0099,-70.5067 79.7133,-61.5711\"/>\n<polygon fill=\"#000000\" stroke=\"#000000\" points=\"82.4699,-59.4068 73.8487,-53.2485 76.7479,-63.4389 82.4699,-59.4068\"/>\n<text text-anchor=\"middle\" x=\"69.5809\" y=\"-74.1815\" font-family=\"Times,serif\" font-size=\"14.00\" fill=\"#000000\">True</text>\n</g>\n<!-- 2 -->\n<g id=\"node3\" class=\"node\">\n<title>2</title>\n<polygon fill=\"#e58139\" stroke=\"#000000\" points=\"253.5,-53 128.5,-53 128.5,0 253.5,0 253.5,-53\"/>\n<text text-anchor=\"middle\" x=\"191\" y=\"-37.8\" font-family=\"Times,serif\" font-size=\"14.00\" fill=\"#000000\">gini = 0.0</text>\n<text text-anchor=\"middle\" x=\"191\" y=\"-22.8\" font-family=\"Times,serif\" font-size=\"14.00\" fill=\"#000000\">samples = 19270</text>\n<text text-anchor=\"middle\" x=\"191\" y=\"-7.8\" font-family=\"Times,serif\" font-size=\"14.00\" fill=\"#000000\">value = [19270, 0]</text>\n</g>\n<!-- 0&#45;&gt;2 -->\n<g id=\"edge2\" class=\"edge\">\n<title>0&#45;&gt;2</title>\n<path fill=\"none\" stroke=\"#000000\" d=\"M146.9743,-88.9777C153.2333,-80.0954 159.9901,-70.5067 166.2867,-61.5711\"/>\n<polygon fill=\"#000000\" stroke=\"#000000\" points=\"169.2521,-63.4389 172.1513,-53.2485 163.5301,-59.4068 169.2521,-63.4389\"/>\n<text text-anchor=\"middle\" x=\"176.4191\" y=\"-74.1815\" font-family=\"Times,serif\" font-size=\"14.00\" fill=\"#000000\">False</text>\n</g>\n</g>\n</svg>\n"
          },
          "metadata": {
            "tags": []
          },
          "execution_count": 49
        }
      ]
    },
    {
      "cell_type": "code",
      "metadata": {
        "id": "tawdF2ISBvwy",
        "colab_type": "code",
        "colab": {
          "base_uri": "https://localhost:8080/",
          "height": 34
        },
        "outputId": "340384ff-c4a6-4191-b029-b199b02fcf13"
      },
      "source": [
        "data_dt_final.keys()[33]"
      ],
      "execution_count": 50,
      "outputs": [
        {
          "output_type": "execute_result",
          "data": {
            "text/plain": [
              "'AUTHORIZATION_CODE'"
            ]
          },
          "metadata": {
            "tags": []
          },
          "execution_count": 50
        }
      ]
    },
    {
      "cell_type": "code",
      "metadata": {
        "id": "2CXTXZ9jSatO",
        "colab_type": "code",
        "colab": {
          "base_uri": "https://localhost:8080/",
          "height": 281
        },
        "outputId": "2b69b391-eefa-47ee-888e-4717bc6d1280"
      },
      "source": [
        "#Printing the decision rule that the decision tree follows for our data\n",
        "dot_data = tree.export_graphviz(clf, out_file=None, feature_names=xx, class_names=x,filled=True, rounded=True, special_characters=True,proportion=True)  \n",
        "graph = graphviz.Source(dot_data)  \n",
        "graph "
      ],
      "execution_count": 51,
      "outputs": [
        {
          "output_type": "execute_result",
          "data": {
            "text/plain": [
              "<graphviz.files.Source at 0x7f8282927358>"
            ],
            "image/svg+xml": "<?xml version=\"1.0\" encoding=\"UTF-8\" standalone=\"no\"?>\n<!DOCTYPE svg PUBLIC \"-//W3C//DTD SVG 1.1//EN\"\n \"http://www.w3.org/Graphics/SVG/1.1/DTD/svg11.dtd\">\n<!-- Generated by graphviz version 2.40.1 (20161225.0304)\n -->\n<!-- Title: Tree Pages: 1 -->\n<svg width=\"278pt\" height=\"195pt\"\n viewBox=\"0.00 0.00 277.50 195.00\" xmlns=\"http://www.w3.org/2000/svg\" xmlns:xlink=\"http://www.w3.org/1999/xlink\">\n<g id=\"graph0\" class=\"graph\" transform=\"scale(1 1) rotate(0) translate(4 191)\">\n<title>Tree</title>\n<polygon fill=\"#ffffff\" stroke=\"transparent\" points=\"-4,4 -4,-191 273.5,-191 273.5,4 -4,4\"/>\n<!-- 0 -->\n<g id=\"node1\" class=\"node\">\n<title>0</title>\n<path fill=\"#e68641\" stroke=\"#000000\" d=\"M231.5,-187C231.5,-187 35.5,-187 35.5,-187 29.5,-187 23.5,-181 23.5,-175 23.5,-175 23.5,-116 23.5,-116 23.5,-110 29.5,-104 35.5,-104 35.5,-104 231.5,-104 231.5,-104 237.5,-104 243.5,-110 243.5,-116 243.5,-116 243.5,-175 243.5,-175 243.5,-181 237.5,-187 231.5,-187\"/>\n<text text-anchor=\"start\" x=\"31.5\" y=\"-171.8\" font-family=\"Helvetica,sans-Serif\" font-size=\"14.00\" fill=\"#000000\">AUTHORIZATION_CODE ≤ 1.0</text>\n<text text-anchor=\"start\" x=\"95.5\" y=\"-156.8\" font-family=\"Helvetica,sans-Serif\" font-size=\"14.00\" fill=\"#000000\">gini = 0.073</text>\n<text text-anchor=\"start\" x=\"73\" y=\"-141.8\" font-family=\"Helvetica,sans-Serif\" font-size=\"14.00\" fill=\"#000000\">samples = 100.0%</text>\n<text text-anchor=\"start\" x=\"63.5\" y=\"-126.8\" font-family=\"Helvetica,sans-Serif\" font-size=\"14.00\" fill=\"#000000\">value = [0.962, 0.038]</text>\n<text text-anchor=\"start\" x=\"104.5\" y=\"-111.8\" font-family=\"Helvetica,sans-Serif\" font-size=\"14.00\" fill=\"#000000\">class = 0</text>\n</g>\n<!-- 1 -->\n<g id=\"node2\" class=\"node\">\n<title>1</title>\n<path fill=\"#399de5\" stroke=\"#000000\" d=\"M111,-68C111,-68 12,-68 12,-68 6,-68 0,-62 0,-56 0,-56 0,-12 0,-12 0,-6 6,0 12,0 12,0 111,0 111,0 117,0 123,-6 123,-12 123,-12 123,-56 123,-56 123,-62 117,-68 111,-68\"/>\n<text text-anchor=\"start\" x=\"32\" y=\"-52.8\" font-family=\"Helvetica,sans-Serif\" font-size=\"14.00\" fill=\"#000000\">gini = 0.0</text>\n<text text-anchor=\"start\" x=\"9.5\" y=\"-37.8\" font-family=\"Helvetica,sans-Serif\" font-size=\"14.00\" fill=\"#000000\">samples = 3.8%</text>\n<text text-anchor=\"start\" x=\"8\" y=\"-22.8\" font-family=\"Helvetica,sans-Serif\" font-size=\"14.00\" fill=\"#000000\">value = [0.0, 1.0]</text>\n<text text-anchor=\"start\" x=\"32.5\" y=\"-7.8\" font-family=\"Helvetica,sans-Serif\" font-size=\"14.00\" fill=\"#000000\">class = 1</text>\n</g>\n<!-- 0&#45;&gt;1 -->\n<g id=\"edge1\" class=\"edge\">\n<title>0&#45;&gt;1</title>\n<path fill=\"none\" stroke=\"#000000\" d=\"M106.6899,-103.9815C100.9331,-95.0666 94.8404,-85.6313 89.0559,-76.6734\"/>\n<polygon fill=\"#000000\" stroke=\"#000000\" points=\"91.9904,-74.7658 83.6254,-68.2637 86.1099,-78.5631 91.9904,-74.7658\"/>\n<text text-anchor=\"middle\" x=\"78.3645\" y=\"-89.0039\" font-family=\"Helvetica,sans-Serif\" font-size=\"14.00\" fill=\"#000000\">True</text>\n</g>\n<!-- 2 -->\n<g id=\"node3\" class=\"node\">\n<title>2</title>\n<path fill=\"#e58139\" stroke=\"#000000\" d=\"M257.5,-68C257.5,-68 153.5,-68 153.5,-68 147.5,-68 141.5,-62 141.5,-56 141.5,-56 141.5,-12 141.5,-12 141.5,-6 147.5,0 153.5,0 153.5,0 257.5,0 257.5,0 263.5,0 269.5,-6 269.5,-12 269.5,-12 269.5,-56 269.5,-56 269.5,-62 263.5,-68 257.5,-68\"/>\n<text text-anchor=\"start\" x=\"176\" y=\"-52.8\" font-family=\"Helvetica,sans-Serif\" font-size=\"14.00\" fill=\"#000000\">gini = 0.0</text>\n<text text-anchor=\"start\" x=\"149.5\" y=\"-37.8\" font-family=\"Helvetica,sans-Serif\" font-size=\"14.00\" fill=\"#000000\">samples = 96.2%</text>\n<text text-anchor=\"start\" x=\"152\" y=\"-22.8\" font-family=\"Helvetica,sans-Serif\" font-size=\"14.00\" fill=\"#000000\">value = [1.0, 0.0]</text>\n<text text-anchor=\"start\" x=\"176.5\" y=\"-7.8\" font-family=\"Helvetica,sans-Serif\" font-size=\"14.00\" fill=\"#000000\">class = 0</text>\n</g>\n<!-- 0&#45;&gt;2 -->\n<g id=\"edge2\" class=\"edge\">\n<title>0&#45;&gt;2</title>\n<path fill=\"none\" stroke=\"#000000\" d=\"M160.3101,-103.9815C166.0669,-95.0666 172.1596,-85.6313 177.9441,-76.6734\"/>\n<polygon fill=\"#000000\" stroke=\"#000000\" points=\"180.8901,-78.5631 183.3746,-68.2637 175.0096,-74.7658 180.8901,-78.5631\"/>\n<text text-anchor=\"middle\" x=\"188.6355\" y=\"-89.0039\" font-family=\"Helvetica,sans-Serif\" font-size=\"14.00\" fill=\"#000000\">False</text>\n</g>\n</g>\n</svg>\n"
          },
          "metadata": {
            "tags": []
          },
          "execution_count": 51
        }
      ]
    },
    {
      "cell_type": "code",
      "metadata": {
        "id": "zox1hN6oSarp",
        "colab_type": "code",
        "colab": {
          "base_uri": "https://localhost:8080/",
          "height": 34
        },
        "outputId": "12409b63-1553-4f16-f074-0c49461c1701"
      },
      "source": [
        "score = clf.score(X_test,y_test)\n",
        "score"
      ],
      "execution_count": 52,
      "outputs": [
        {
          "output_type": "execute_result",
          "data": {
            "text/plain": [
              "0.9995507637017071"
            ]
          },
          "metadata": {
            "tags": []
          },
          "execution_count": 52
        }
      ]
    },
    {
      "cell_type": "markdown",
      "metadata": {
        "id": "hYXUk6l_58e4",
        "colab_type": "text"
      },
      "source": [
        "##### But we should not get deceived by such good results because a majority of the values in the 'TARGET' column are \"0\" and so even if the decision tree learns to classify all of them as \"0\"s we would still see such an accuracy. It does not give a good idea about the classifier"
      ]
    },
    {
      "cell_type": "code",
      "metadata": {
        "id": "7UfXqzl29Ob5",
        "colab_type": "code",
        "colab": {
          "base_uri": "https://localhost:8080/",
          "height": 34
        },
        "outputId": "32fcb223-45df-4c91-c0c9-3e28a1920a1e"
      },
      "source": [
        "y_prob = clf.predict_proba(X_test)\n",
        "y_prob = y_prob[:,1]\n",
        "y_prob\n",
        "average_precision_score(y_test, y_prob)"
      ],
      "execution_count": 53,
      "outputs": [
        {
          "output_type": "execute_result",
          "data": {
            "text/plain": [
              "0.9885057471264368"
            ]
          },
          "metadata": {
            "tags": []
          },
          "execution_count": 53
        }
      ]
    },
    {
      "cell_type": "markdown",
      "metadata": {
        "id": "FYDvMH2u-E6Z",
        "colab_type": "text"
      },
      "source": [
        "##### Precision-Recall Score is very good, but now we can still not be sure that our previous idea that our classifier is good was correct."
      ]
    },
    {
      "cell_type": "code",
      "metadata": {
        "id": "D7HlvqEJslEW",
        "colab_type": "code",
        "colab": {
          "base_uri": "https://localhost:8080/",
          "height": 312
        },
        "outputId": "5c427ef1-a6b6-42a6-b018-6a49d4a38bc0"
      },
      "source": [
        "average_precision = average_precision_score(y_test, y_prob)\n",
        "disp = plot_precision_recall_curve(clf, X_test, y_test)\n",
        "disp.ax_.set_title('2-class Precision-Recall curve: '\n",
        "                   'AP={0:0.2f}'.format(average_precision))"
      ],
      "execution_count": 54,
      "outputs": [
        {
          "output_type": "execute_result",
          "data": {
            "text/plain": [
              "Text(0.5, 1.0, '2-class Precision-Recall curve: AP=0.99')"
            ]
          },
          "metadata": {
            "tags": []
          },
          "execution_count": 54
        },
        {
          "output_type": "display_data",
          "data": {
            "image/png": "[encoded data removed]",
            "text/plain": [
              "<Figure size 432x288 with 1 Axes>"
            ]
          },
          "metadata": {
            "tags": [],
            "needs_background": "light"
          }
        }
      ]
    },
    {
      "cell_type": "markdown",
      "metadata": {
        "id": "SWQzKyv2_XFo",
        "colab_type": "text"
      },
      "source": [
        "##### Here we become sure that our classifier was very poor indeed, because the curve for a good classifier should be above the diagonal and in the best case hugging the top right corner of the graph region which is not the case here."
      ]
    },
    {
      "cell_type": "markdown",
      "metadata": {
        "id": "XbWjmmi5FlFJ",
        "colab_type": "text"
      },
      "source": [
        "##### **Applying above hybrid tree written manually on a section of our dataset**"
      ]
    },
    {
      "cell_type": "code",
      "metadata": {
        "id": "vuUzWinhFq1v",
        "colab_type": "code",
        "colab": {
          "base_uri": "https://localhost:8080/",
          "height": 451
        },
        "outputId": "ea869ff1-8f05-49e4-ecbc-b0594cef6dc5"
      },
      "source": [
        "#To reduce complexity we will cleverly pick those columns which have fewer distinct values\n",
        "for col in data_dt_final.keys():\n",
        "  if len(set(data_dt_final[col]))<=5:\n",
        "    print(col,len(set(data_dt_final[col])))"
      ],
      "execution_count": 55,
      "outputs": [
        {
          "output_type": "stream",
          "text": [
            "PD4 2\n",
            "PD11 2\n",
            "PROC_CODE_12 2\n",
            "PD8 1\n",
            "POS_ENTRY_MODE 1\n",
            "SERVICE_CODE 1\n",
            "PROC_CODE_34 3\n",
            "PROC_CODE_56 1\n",
            "PD1 4\n",
            "PD2 2\n",
            "PD3 2\n",
            "PD5 5\n",
            "PD6 1\n",
            "PD7 2\n",
            "PD9 1\n",
            "PD10 1\n",
            "PD12 1\n",
            "BILLING_CURRENCY 1\n",
            "CONVERSION_RATE_DATE 1\n",
            "SETTLEMENT_CURRENCY 2\n",
            "SETTLEMENT_DATE 1\n",
            "C_100 2\n",
            "C_40 3\n",
            "E_COM_INDICATOR 3\n",
            "TARGET 2\n"
          ],
          "name": "stdout"
        }
      ]
    },
    {
      "cell_type": "code",
      "metadata": {
        "id": "HOjJoVVqFrAx",
        "colab_type": "code",
        "colab": {
          "base_uri": "https://localhost:8080/",
          "height": 34
        },
        "outputId": "3ce5a749-412a-485e-935f-944e783b50b8"
      },
      "source": [
        "#We will now setup a trial dataset to use on the hybrid decision tree code\n",
        "data_trial = data_dt_final[['PD4','PD11','PROC_CODE_12','PROC_CODE_34','TARGET']]\n",
        "#data_trial = data_trial.iloc[:100,:]\n",
        "data_trial.shape"
      ],
      "execution_count": 67,
      "outputs": [
        {
          "output_type": "execute_result",
          "data": {
            "text/plain": [
              "(22256, 5)"
            ]
          },
          "metadata": {
            "tags": []
          },
          "execution_count": 67
        }
      ]
    },
    {
      "cell_type": "code",
      "metadata": {
        "id": "o7nkY7cdPEFV",
        "colab_type": "code",
        "colab": {
          "base_uri": "https://localhost:8080/",
          "height": 34
        },
        "outputId": "ccd2a4fe-8190-490f-ac0a-b3b10c498470"
      },
      "source": [
        "data_trial = data_trial.sample(n=10,random_state=42)\n",
        "data_trial.shape"
      ],
      "execution_count": 68,
      "outputs": [
        {
          "output_type": "execute_result",
          "data": {
            "text/plain": [
              "(10, 5)"
            ]
          },
          "metadata": {
            "tags": []
          },
          "execution_count": 68
        }
      ]
    },
    {
      "cell_type": "code",
      "metadata": {
        "id": "hMSjoNHjN2EJ",
        "colab_type": "code",
        "colab": {}
      },
      "source": [
        "import sys\n",
        "sys.setrecursionlimit(150000)"
      ],
      "execution_count": 0,
      "outputs": []
    },
    {
      "cell_type": "code",
      "metadata": {
        "id": "LIPiT9QpFrqj",
        "colab_type": "code",
        "colab": {
          "base_uri": "https://localhost:8080/",
          "height": 34
        },
        "outputId": "a7020e56-22e0-44df-a335-7d24017e0558"
      },
      "source": [
        "tree_custom_data = buildTree_hybrid(data_trial,determined_levels=['PROC_CODE_12'])\n",
        "pprint.pprint(tree_custom_data)"
      ],
      "execution_count": 70,
      "outputs": [
        {
          "output_type": "stream",
          "text": [
            "{'PROC_CODE_12': {0: {'PROC_CODE_34': {0: 0, 1: 1, 2: 0}}}}\n"
          ],
          "name": "stdout"
        }
      ]
    },
    {
      "cell_type": "code",
      "metadata": {
        "id": "xD8z6v9N_WPe",
        "colab_type": "code",
        "colab": {
          "base_uri": "https://localhost:8080/",
          "height": 34
        },
        "outputId": "71db84c8-b46a-4e3c-97a6-650c72273e46"
      },
      "source": [
        "tree_custom_data = buildTree_hybrid(data_trial,determined_levels=['PD11','PROC_CODE_12'])\n",
        "pprint.pprint(tree_custom_data)"
      ],
      "execution_count": 72,
      "outputs": [
        {
          "output_type": "stream",
          "text": [
            "{'PD11': {0: {'PROC_CODE_12': {0: {'PROC_CODE_34': {0: 0, 1: 1}}}}, 1: 0}}\n"
          ],
          "name": "stdout"
        }
      ]
    },
    {
      "cell_type": "code",
      "metadata": {
        "id": "OtbCPoLj_WX0",
        "colab_type": "code",
        "colab": {
          "base_uri": "https://localhost:8080/",
          "height": 69
        },
        "outputId": "8cec9d35-14fd-4e08-a405-bf6088f304f2"
      },
      "source": [
        "tree_custom_data = buildTree_hybrid(data_trial,determined_levels=['PD11','PD4','PROC_CODE_12'])\n",
        "pprint.pprint(tree_custom_data)"
      ],
      "execution_count": 73,
      "outputs": [
        {
          "output_type": "stream",
          "text": [
            "{'PD11': {0: {'PD4': {0: {'PROC_CODE_12': {0: {'PROC_CODE_34': {0: 0,\n",
            "                                                                1: 1}}}}}},\n",
            "          1: 0}}\n"
          ],
          "name": "stdout"
        }
      ]
    },
    {
      "cell_type": "code",
      "metadata": {
        "id": "3kLERJnv_WV8",
        "colab_type": "code",
        "colab": {}
      },
      "source": [
        ""
      ],
      "execution_count": 0,
      "outputs": []
    },
    {
      "cell_type": "code",
      "metadata": {
        "id": "-aTYS6t6_WTh",
        "colab_type": "code",
        "colab": {}
      },
      "source": [
        ""
      ],
      "execution_count": 0,
      "outputs": []
    },
    {
      "cell_type": "code",
      "metadata": {
        "id": "bE28kKn_yPuL",
        "colab_type": "code",
        "colab": {}
      },
      "source": [
        ""
      ],
      "execution_count": 0,
      "outputs": []
    },
    {
      "cell_type": "markdown",
      "metadata": {
        "id": "WuK3YzxcqMtH",
        "colab_type": "text"
      },
      "source": [
        "### **ROUGH WORK**\n"
      ]
    },
    {
      "cell_type": "code",
      "metadata": {
        "id": "FPzhn-QIsSi4",
        "colab_type": "code",
        "colab": {}
      },
      "source": [
        "#Things to do:\n",
        "#Try and print rules of custom tree in graph\n",
        "#https://scikit-learn.org/stable/modules/tree.html\n",
        "#https://stackoverflow.com/questions/20224526/how-to-extract-the-decision-rules-from-scikit-learn-decision-tree"
      ],
      "execution_count": 0,
      "outputs": []
    },
    {
      "cell_type": "code",
      "metadata": {
        "id": "s8EGyf4HVTEM",
        "colab_type": "code",
        "colab": {}
      },
      "source": [
        "np.array(list(set(data_dt_final['TARGET'])))"
      ],
      "execution_count": 0,
      "outputs": []
    },
    {
      "cell_type": "code",
      "metadata": {
        "id": "RkJxO2lUpgs_",
        "colab_type": "code",
        "colab": {}
      },
      "source": [
        "data_dt_final.loc[:,'TARGET']"
      ],
      "execution_count": 0,
      "outputs": []
    },
    {
      "cell_type": "code",
      "metadata": {
        "id": "4-gIcP5cmw0c",
        "colab_type": "code",
        "colab": {}
      },
      "source": [
        ""
      ],
      "execution_count": 0,
      "outputs": []
    },
    {
      "cell_type": "code",
      "metadata": {
        "id": "AiOJMtyQ5-NX",
        "colab_type": "code",
        "colab": {}
      },
      "source": [
        "data_dt.keys()[-1]"
      ],
      "execution_count": 0,
      "outputs": []
    },
    {
      "cell_type": "code",
      "metadata": {
        "id": "z-yO7VPzfJLa",
        "colab_type": "code",
        "colab": {}
      },
      "source": [
        "plt.figure(figsize=(20,20))\n",
        "tree.plot_tree(clf, filled=True,fontsize = 10)"
      ],
      "execution_count": 0,
      "outputs": []
    },
    {
      "cell_type": "code",
      "metadata": {
        "id": "1n1SzJmfyPxC",
        "colab_type": "code",
        "colab": {}
      },
      "source": [
        ""
      ],
      "execution_count": 0,
      "outputs": []
    },
    {
      "cell_type": "code",
      "metadata": {
        "id": "zxelyraIyP0G",
        "colab_type": "code",
        "colab": {}
      },
      "source": [
        ""
      ],
      "execution_count": 0,
      "outputs": []
    }
  ]
}
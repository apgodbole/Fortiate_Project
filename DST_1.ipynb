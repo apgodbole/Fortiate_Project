{
 "cells": [
  {
   "cell_type": "markdown",
   "metadata": {},
   "source": [
    "# Importing data"
   ]
  },
  {
   "cell_type": "code",
   "execution_count": 1,
   "metadata": {},
   "outputs": [],
   "source": [
    "from scipy.stats import chi2_contingency as chi_test\n",
    "import pandas as pd\n",
    "import numpy as np\n",
    "import pycm"
   ]
  },
  {
   "cell_type": "markdown",
   "metadata": {},
   "source": [
    "# Importing data"
   ]
  },
  {
   "cell_type": "code",
   "execution_count": 2,
   "metadata": {},
   "outputs": [],
   "source": [
    "data = pd.read_excel(r\"D:\\Academics\\CMI\\Internship\\Fortiate\\DST-1_Dimensionality\\Data\\DATA FOR ALL TEAMS-25MB.xlsx\")"
   ]
  },
  {
   "cell_type": "code",
   "execution_count": 3,
   "metadata": {},
   "outputs": [
    {
     "data": {
      "text/html": [
       "<div>\n",
       "<style scoped>\n",
       "    .dataframe tbody tr th:only-of-type {\n",
       "        vertical-align: middle;\n",
       "    }\n",
       "\n",
       "    .dataframe tbody tr th {\n",
       "        vertical-align: top;\n",
       "    }\n",
       "\n",
       "    .dataframe thead th {\n",
       "        text-align: right;\n",
       "    }\n",
       "</style>\n",
       "<table border=\"1\" class=\"dataframe\">\n",
       "  <thead>\n",
       "    <tr style=\"text-align: right;\">\n",
       "      <th></th>\n",
       "      <th>Card-Wallet-Token ID</th>\n",
       "      <th>PROCESSING_CODE</th>\n",
       "      <th>TRANSACTION_AMOUNT</th>\n",
       "      <th>SETTLEMENT_AMOUNT</th>\n",
       "      <th>BILLING_AMOUNT</th>\n",
       "      <th>Transaction Date and Time</th>\n",
       "      <th>CONVERSION_RATE</th>\n",
       "      <th>Expiry Date</th>\n",
       "      <th>CONVERSION_RATE_DATE</th>\n",
       "      <th>Merchant Category Code</th>\n",
       "      <th>...</th>\n",
       "      <th>Interface ID</th>\n",
       "      <th>Terminal Type</th>\n",
       "      <th>Token Data-C1</th>\n",
       "      <th>Additional Payment Info</th>\n",
       "      <th>Ecommerce Data</th>\n",
       "      <th>ECI Indicator</th>\n",
       "      <th>Remaining Balance</th>\n",
       "      <th>Private Data - Additional Info</th>\n",
       "      <th>Token Data</th>\n",
       "      <th>TARGET</th>\n",
       "    </tr>\n",
       "  </thead>\n",
       "  <tbody>\n",
       "    <tr>\n",
       "      <td>0</td>\n",
       "      <td>DE2</td>\n",
       "      <td>DE3</td>\n",
       "      <td>DE4</td>\n",
       "      <td>DE5</td>\n",
       "      <td>DE6</td>\n",
       "      <td>DE7</td>\n",
       "      <td>DE9</td>\n",
       "      <td>DE14</td>\n",
       "      <td>DE16</td>\n",
       "      <td>DE18</td>\n",
       "      <td>...</td>\n",
       "      <td>DE4801</td>\n",
       "      <td>DE4801</td>\n",
       "      <td>DE4803</td>\n",
       "      <td>DE4804</td>\n",
       "      <td>DE4805</td>\n",
       "      <td>DE4806</td>\n",
       "      <td>DE4807</td>\n",
       "      <td>DE4808</td>\n",
       "      <td>DE4809</td>\n",
       "      <td>DE4810</td>\n",
       "    </tr>\n",
       "    <tr>\n",
       "      <td>1</td>\n",
       "      <td>6086941819072006</td>\n",
       "      <td>174000</td>\n",
       "      <td>7000</td>\n",
       "      <td>7000</td>\n",
       "      <td>7000</td>\n",
       "      <td>22-MAR-18 09.10.37</td>\n",
       "      <td>0</td>\n",
       "      <td>01-JUL-23 00.00.00</td>\n",
       "      <td>NaN</td>\n",
       "      <td>6011</td>\n",
       "      <td>...</td>\n",
       "      <td>IN1</td>\n",
       "      <td>ATM</td>\n",
       "      <td>0917</td>\n",
       "      <td>NaN</td>\n",
       "      <td>NaN</td>\n",
       "      <td>NaN</td>\n",
       "      <td>35000</td>\n",
       "      <td>NaN</td>\n",
       "      <td>NaN</td>\n",
       "      <td>NaN</td>\n",
       "    </tr>\n",
       "  </tbody>\n",
       "</table>\n",
       "<p>2 rows × 36 columns</p>\n",
       "</div>"
      ],
      "text/plain": [
       "  Card-Wallet-Token ID PROCESSING_CODE TRANSACTION_AMOUNT SETTLEMENT_AMOUNT  \\\n",
       "0                  DE2             DE3                DE4               DE5   \n",
       "1     6086941819072006          174000               7000              7000   \n",
       "\n",
       "  BILLING_AMOUNT Transaction Date and Time CONVERSION_RATE  \\\n",
       "0            DE6                       DE7             DE9   \n",
       "1           7000        22-MAR-18 09.10.37               0   \n",
       "\n",
       "          Expiry Date CONVERSION_RATE_DATE Merchant Category Code  ...  \\\n",
       "0                DE14                 DE16                   DE18  ...   \n",
       "1  01-JUL-23 00.00.00                  NaN                   6011  ...   \n",
       "\n",
       "  Interface ID Terminal Type Token Data-C1 Additional Payment Info  \\\n",
       "0       DE4801        DE4801        DE4803                  DE4804   \n",
       "1          IN1           ATM          0917                     NaN   \n",
       "\n",
       "  Ecommerce Data ECI Indicator Remaining Balance  \\\n",
       "0         DE4805        DE4806            DE4807   \n",
       "1            NaN           NaN             35000   \n",
       "\n",
       "  Private Data - Additional Info Token Data  TARGET  \n",
       "0                         DE4808     DE4809  DE4810  \n",
       "1                            NaN        NaN     NaN  \n",
       "\n",
       "[2 rows x 36 columns]"
      ]
     },
     "execution_count": 3,
     "metadata": {},
     "output_type": "execute_result"
    }
   ],
   "source": [
    "data.head(2)"
   ]
  },
  {
   "cell_type": "markdown",
   "metadata": {},
   "source": [
    "# Preprocessing"
   ]
  },
  {
   "cell_type": "markdown",
   "metadata": {},
   "source": [
    "### Header to code mapper"
   ]
  },
  {
   "cell_type": "code",
   "execution_count": 4,
   "metadata": {
    "scrolled": true
   },
   "outputs": [],
   "source": [
    "map_head_code = dict(list(zip(list(data.loc[0, :]), list(data.columns))))"
   ]
  },
  {
   "cell_type": "markdown",
   "metadata": {},
   "source": [
    "### Removing 1st column, Code"
   ]
  },
  {
   "cell_type": "code",
   "execution_count": 5,
   "metadata": {},
   "outputs": [],
   "source": [
    "data = data.drop(0)\n",
    "# data.reset_index()"
   ]
  },
  {
   "cell_type": "markdown",
   "metadata": {},
   "source": [
    "### Removing not required colums"
   ]
  },
  {
   "cell_type": "code",
   "execution_count": 6,
   "metadata": {},
   "outputs": [],
   "source": [
    "not_required = [\"CONVERSION_RATE_DATE\", \"Private Data 48\", \"Transaction Category Code\", \"DE48 Data Length\", \"Additional Payment Info\", \"Ecommerce Data\", \"ECI Indicator\", \"Private Data - Additional Info\", \"Token Data\", \"TARGET\", \"POS entry Mode\"]"
   ]
  },
  {
   "cell_type": "code",
   "execution_count": 7,
   "metadata": {},
   "outputs": [],
   "source": [
    "data = data.drop(not_required, axis=1)"
   ]
  },
  {
   "cell_type": "code",
   "execution_count": 8,
   "metadata": {},
   "outputs": [
    {
     "data": {
      "text/html": [
       "<div>\n",
       "<style scoped>\n",
       "    .dataframe tbody tr th:only-of-type {\n",
       "        vertical-align: middle;\n",
       "    }\n",
       "\n",
       "    .dataframe tbody tr th {\n",
       "        vertical-align: top;\n",
       "    }\n",
       "\n",
       "    .dataframe thead th {\n",
       "        text-align: right;\n",
       "    }\n",
       "</style>\n",
       "<table border=\"1\" class=\"dataframe\">\n",
       "  <thead>\n",
       "    <tr style=\"text-align: right;\">\n",
       "      <th></th>\n",
       "      <th>Card-Wallet-Token ID</th>\n",
       "      <th>PROCESSING_CODE</th>\n",
       "      <th>TRANSACTION_AMOUNT</th>\n",
       "      <th>SETTLEMENT_AMOUNT</th>\n",
       "      <th>BILLING_AMOUNT</th>\n",
       "      <th>Transaction Date and Time</th>\n",
       "      <th>CONVERSION_RATE</th>\n",
       "      <th>Expiry Date</th>\n",
       "      <th>Merchant Category Code</th>\n",
       "      <th>ACQUIRING_COUNTRY_CODE</th>\n",
       "      <th>...</th>\n",
       "      <th>MID</th>\n",
       "      <th>MERCHANT NAME AND ADDRESS</th>\n",
       "      <th>TRANSACTION_CURRENCY</th>\n",
       "      <th>SETTLEMENT_CURRENCY</th>\n",
       "      <th>BILLING_CURRENCY</th>\n",
       "      <th>POS_DATA</th>\n",
       "      <th>Interface ID</th>\n",
       "      <th>Terminal Type</th>\n",
       "      <th>Token Data-C1</th>\n",
       "      <th>Remaining Balance</th>\n",
       "    </tr>\n",
       "  </thead>\n",
       "  <tbody>\n",
       "    <tr>\n",
       "      <td>1</td>\n",
       "      <td>6086941819072006</td>\n",
       "      <td>174000</td>\n",
       "      <td>7000</td>\n",
       "      <td>7000</td>\n",
       "      <td>7000</td>\n",
       "      <td>22-MAR-18 09.10.37</td>\n",
       "      <td>0</td>\n",
       "      <td>01-JUL-23 00.00.00</td>\n",
       "      <td>6011</td>\n",
       "      <td>356</td>\n",
       "      <td>...</td>\n",
       "      <td>1005044921</td>\n",
       "      <td>LXFC BTNK LTD.KHURDT OR IN</td>\n",
       "      <td>356</td>\n",
       "      <td>356</td>\n",
       "      <td>356</td>\n",
       "      <td>210201210141</td>\n",
       "      <td>IN1</td>\n",
       "      <td>ATM</td>\n",
       "      <td>0917</td>\n",
       "      <td>35000</td>\n",
       "    </tr>\n",
       "    <tr>\n",
       "      <td>2</td>\n",
       "      <td>6086941026163002</td>\n",
       "      <td>174000</td>\n",
       "      <td>2000</td>\n",
       "      <td>2000</td>\n",
       "      <td>2000</td>\n",
       "      <td>22-MAR-18 12.28.15</td>\n",
       "      <td>0</td>\n",
       "      <td>01-DEC-22 00.00.00</td>\n",
       "      <td>6011</td>\n",
       "      <td>356</td>\n",
       "      <td>...</td>\n",
       "      <td>1005044921</td>\n",
       "      <td>LXFC BTNK LTD.LUCKNOWUP IN</td>\n",
       "      <td>356</td>\n",
       "      <td>356</td>\n",
       "      <td>356</td>\n",
       "      <td>210201210141</td>\n",
       "      <td>IN1</td>\n",
       "      <td>ATM</td>\n",
       "      <td>0796</td>\n",
       "      <td>44000</td>\n",
       "    </tr>\n",
       "  </tbody>\n",
       "</table>\n",
       "<p>2 rows × 25 columns</p>\n",
       "</div>"
      ],
      "text/plain": [
       "  Card-Wallet-Token ID PROCESSING_CODE TRANSACTION_AMOUNT SETTLEMENT_AMOUNT  \\\n",
       "1     6086941819072006          174000               7000              7000   \n",
       "2     6086941026163002          174000               2000              2000   \n",
       "\n",
       "  BILLING_AMOUNT Transaction Date and Time CONVERSION_RATE  \\\n",
       "1           7000        22-MAR-18 09.10.37               0   \n",
       "2           2000        22-MAR-18 12.28.15               0   \n",
       "\n",
       "          Expiry Date Merchant Category Code ACQUIRING_COUNTRY_CODE  ...  \\\n",
       "1  01-JUL-23 00.00.00                   6011                    356  ...   \n",
       "2  01-DEC-22 00.00.00                   6011                    356  ...   \n",
       "\n",
       "          MID   MERCHANT NAME AND ADDRESS TRANSACTION_CURRENCY  \\\n",
       "1  1005044921  LXFC BTNK LTD.KHURDT OR IN                  356   \n",
       "2  1005044921  LXFC BTNK LTD.LUCKNOWUP IN                  356   \n",
       "\n",
       "  SETTLEMENT_CURRENCY BILLING_CURRENCY      POS_DATA Interface ID  \\\n",
       "1                 356              356  210201210141          IN1   \n",
       "2                 356              356  210201210141          IN1   \n",
       "\n",
       "  Terminal Type Token Data-C1 Remaining Balance  \n",
       "1           ATM          0917             35000  \n",
       "2           ATM          0796             44000  \n",
       "\n",
       "[2 rows x 25 columns]"
      ]
     },
     "execution_count": 8,
     "metadata": {},
     "output_type": "execute_result"
    }
   ],
   "source": [
    "data.head(2)"
   ]
  },
  {
   "cell_type": "markdown",
   "metadata": {},
   "source": [
    "### Seperating numerical and catagorical data"
   ]
  },
  {
   "cell_type": "code",
   "execution_count": 9,
   "metadata": {},
   "outputs": [],
   "source": [
    "numerical = [\"TRANSACTION_AMOUNT\", \"SETTLEMENT_AMOUNT\", \"BILLING_AMOUNT\", \"CONVERSION_RATE\",  \"Remaining Balance\"]"
   ]
  },
  {
   "cell_type": "code",
   "execution_count": 10,
   "metadata": {},
   "outputs": [],
   "source": [
    "data_cat = data.drop(numerical, axis = 1)"
   ]
  },
  {
   "cell_type": "code",
   "execution_count": 15,
   "metadata": {},
   "outputs": [
    {
     "data": {
      "text/html": [
       "<div>\n",
       "<style scoped>\n",
       "    .dataframe tbody tr th:only-of-type {\n",
       "        vertical-align: middle;\n",
       "    }\n",
       "\n",
       "    .dataframe tbody tr th {\n",
       "        vertical-align: top;\n",
       "    }\n",
       "\n",
       "    .dataframe thead th {\n",
       "        text-align: right;\n",
       "    }\n",
       "</style>\n",
       "<table border=\"1\" class=\"dataframe\">\n",
       "  <thead>\n",
       "    <tr style=\"text-align: right;\">\n",
       "      <th></th>\n",
       "      <th>Card-Wallet-Token ID</th>\n",
       "      <th>PROCESSING_CODE</th>\n",
       "      <th>Transaction Date and Time</th>\n",
       "      <th>Expiry Date</th>\n",
       "      <th>Merchant Category Code</th>\n",
       "      <th>ACQUIRING_COUNTRY_CODE</th>\n",
       "      <th>ACQUIRER_INSTITUTION_CODE</th>\n",
       "      <th>Authorization Code</th>\n",
       "      <th>Approval Decision</th>\n",
       "      <th>Card Service Code</th>\n",
       "      <th>TID</th>\n",
       "      <th>MID</th>\n",
       "      <th>MERCHANT NAME AND ADDRESS</th>\n",
       "      <th>TRANSACTION_CURRENCY</th>\n",
       "      <th>SETTLEMENT_CURRENCY</th>\n",
       "      <th>BILLING_CURRENCY</th>\n",
       "      <th>POS_DATA</th>\n",
       "      <th>Interface ID</th>\n",
       "      <th>Terminal Type</th>\n",
       "      <th>Token Data-C1</th>\n",
       "    </tr>\n",
       "  </thead>\n",
       "  <tbody>\n",
       "    <tr>\n",
       "      <td>1</td>\n",
       "      <td>6086941819072006</td>\n",
       "      <td>174000</td>\n",
       "      <td>22-MAR-18 09.10.37</td>\n",
       "      <td>01-JUL-23 00.00.00</td>\n",
       "      <td>6011</td>\n",
       "      <td>356</td>\n",
       "      <td>544921</td>\n",
       "      <td>533038</td>\n",
       "      <td>000</td>\n",
       "      <td>201</td>\n",
       "      <td>GYACBB04</td>\n",
       "      <td>1005044921</td>\n",
       "      <td>LXFC BTNK LTD.KHURDT OR IN</td>\n",
       "      <td>356</td>\n",
       "      <td>356</td>\n",
       "      <td>356</td>\n",
       "      <td>210201210141</td>\n",
       "      <td>IN1</td>\n",
       "      <td>ATM</td>\n",
       "      <td>0917</td>\n",
       "    </tr>\n",
       "    <tr>\n",
       "      <td>2</td>\n",
       "      <td>6086941026163002</td>\n",
       "      <td>174000</td>\n",
       "      <td>22-MAR-18 12.28.15</td>\n",
       "      <td>01-DEC-22 00.00.00</td>\n",
       "      <td>6011</td>\n",
       "      <td>356</td>\n",
       "      <td>544921</td>\n",
       "      <td>944896</td>\n",
       "      <td>000</td>\n",
       "      <td>201</td>\n",
       "      <td>JSEWLK06</td>\n",
       "      <td>1005044921</td>\n",
       "      <td>LXFC BTNK LTD.LUCKNOWUP IN</td>\n",
       "      <td>356</td>\n",
       "      <td>356</td>\n",
       "      <td>356</td>\n",
       "      <td>210201210141</td>\n",
       "      <td>IN1</td>\n",
       "      <td>ATM</td>\n",
       "      <td>0796</td>\n",
       "    </tr>\n",
       "  </tbody>\n",
       "</table>\n",
       "</div>"
      ],
      "text/plain": [
       "  Card-Wallet-Token ID PROCESSING_CODE Transaction Date and Time  \\\n",
       "1     6086941819072006          174000        22-MAR-18 09.10.37   \n",
       "2     6086941026163002          174000        22-MAR-18 12.28.15   \n",
       "\n",
       "          Expiry Date Merchant Category Code ACQUIRING_COUNTRY_CODE  \\\n",
       "1  01-JUL-23 00.00.00                   6011                    356   \n",
       "2  01-DEC-22 00.00.00                   6011                    356   \n",
       "\n",
       "  ACQUIRER_INSTITUTION_CODE Authorization Code Approval Decision  \\\n",
       "1                    544921             533038               000   \n",
       "2                    544921             944896               000   \n",
       "\n",
       "  Card Service Code       TID         MID   MERCHANT NAME AND ADDRESS  \\\n",
       "1               201  GYACBB04  1005044921  LXFC BTNK LTD.KHURDT OR IN   \n",
       "2               201  JSEWLK06  1005044921  LXFC BTNK LTD.LUCKNOWUP IN   \n",
       "\n",
       "  TRANSACTION_CURRENCY SETTLEMENT_CURRENCY BILLING_CURRENCY      POS_DATA  \\\n",
       "1                  356                 356              356  210201210141   \n",
       "2                  356                 356              356  210201210141   \n",
       "\n",
       "  Interface ID Terminal Type Token Data-C1  \n",
       "1          IN1           ATM          0917  \n",
       "2          IN1           ATM          0796  "
      ]
     },
     "execution_count": 15,
     "metadata": {},
     "output_type": "execute_result"
    }
   ],
   "source": [
    "data_cat.head(2)"
   ]
  },
  {
   "cell_type": "markdown",
   "metadata": {},
   "source": [
    "# Independence check"
   ]
  },
  {
   "cell_type": "markdown",
   "metadata": {},
   "source": [
    "### Goodmans kruskal gamma"
   ]
  },
  {
   "cell_type": "markdown",
   "metadata": {},
   "source": [
    "##### F1 score of each pair with null hypothesis they are independent"
   ]
  },
  {
   "cell_type": "markdown",
   "metadata": {},
   "source": [
    "F1 score 1 implies complete dependencies and 0 implies independet"
   ]
  },
  {
   "cell_type": "code",
   "execution_count": 12,
   "metadata": {},
   "outputs": [],
   "source": [
    "cat_columns = ['PROCESSING_CODE',\n",
    "     'Merchant Category Code',\n",
    "     'ACQUIRING_COUNTRY_CODE',\n",
    "     'ACQUIRER_INSTITUTION_CODE',\n",
    "     'Card Service Code',\n",
    "     'Interface ID',\n",
    "     'Terminal Type',\n",
    "     'Token Data-C1']"
   ]
  },
  {
   "cell_type": "code",
   "execution_count": 55,
   "metadata": {},
   "outputs": [],
   "source": [
    "# cat_columns = list(data_cat.columns)\n",
    "count = 0\n",
    "dependent_pair_goodman = []\n",
    "for i in cat_columns:    \n",
    "#     print(\"\\n\")\n",
    "#     print(i)\n",
    "    count += 1\n",
    "    for j in cat_columns[count:]:\n",
    "        y_actu = list(data_cat[i])\n",
    "        y_pred = list(data_cat[j])\n",
    "        cm = pycm.ConfusionMatrix(actual_vector=y_actu, predict_vector=y_pred)\n",
    "#         print(\"\\t\",j, cm.F1_Macro)\n",
    "        if cm.F1_Macro > 0.005:\n",
    "            dependent_pair_goodman.append([i,j])"
   ]
  },
  {
   "cell_type": "code",
   "execution_count": 56,
   "metadata": {},
   "outputs": [
    {
     "data": {
      "text/plain": [
       "[['PROCESSING_CODE', 'ACQUIRING_COUNTRY_CODE'],\n",
       " ['PROCESSING_CODE', 'Card Service Code'],\n",
       " ['PROCESSING_CODE', 'Interface ID'],\n",
       " ['PROCESSING_CODE', 'Terminal Type'],\n",
       " ['ACQUIRING_COUNTRY_CODE', 'Card Service Code'],\n",
       " ['ACQUIRING_COUNTRY_CODE', 'Interface ID'],\n",
       " ['ACQUIRING_COUNTRY_CODE', 'Terminal Type'],\n",
       " ['Card Service Code', 'Interface ID'],\n",
       " ['Card Service Code', 'Terminal Type'],\n",
       " ['Interface ID', 'Terminal Type']]"
      ]
     },
     "execution_count": 56,
     "metadata": {},
     "output_type": "execute_result"
    }
   ],
   "source": [
    "dependent_pair_goodman"
   ]
  },
  {
   "cell_type": "markdown",
   "metadata": {},
   "source": [
    "### Chi-square test"
   ]
  },
  {
   "cell_type": "markdown",
   "metadata": {},
   "source": [
    "##### With null hypothesis H0: They are independent"
   ]
  },
  {
   "cell_type": "markdown",
   "metadata": {},
   "source": [
    "Thus p value < 0.01 implies we are rejecting the null hypothesis and there is some dependency"
   ]
  },
  {
   "cell_type": "code",
   "execution_count": null,
   "metadata": {},
   "outputs": [],
   "source": [
    "# count = 0\n",
    "# for i in cat_columns:    \n",
    "#     print(\"\\n\")\n",
    "#     print(i)\n",
    "#     count += 1\n",
    "#     for j in cat_columns[count:]:\n",
    "#         data_crosstab =  pd.crosstab(data_cat[i], data_cat[j], margins = False)\n",
    "#         g, p, dof, expctd = chi_test(data_crosstab, lambda_=\"log-likelihood\")\n",
    "#         print(\"\\t\",j, p)"
   ]
  },
  {
   "cell_type": "code",
   "execution_count": 13,
   "metadata": {},
   "outputs": [],
   "source": [
    "#cat_columns = list(data_cat.columns)\n",
    "count = 0\n",
    "dependent_pair = []\n",
    "for i in cat_columns:\n",
    "    count += 1\n",
    "    for j in cat_columns[count:]:\n",
    "        data_crosstab =  pd.crosstab(data_cat[i], data_cat[j], margins = False)\n",
    "        g, p, dof, expctd = chi_test(data_crosstab, lambda_=\"log-likelihood\")\n",
    "        if p < 0.01:\n",
    "            dependent_pair.append([i,j])"
   ]
  },
  {
   "cell_type": "code",
   "execution_count": 14,
   "metadata": {},
   "outputs": [
    {
     "data": {
      "text/plain": [
       "[['PROCESSING_CODE', 'Merchant Category Code'],\n",
       " ['PROCESSING_CODE', 'ACQUIRING_COUNTRY_CODE'],\n",
       " ['PROCESSING_CODE', 'ACQUIRER_INSTITUTION_CODE'],\n",
       " ['PROCESSING_CODE', 'Card Service Code'],\n",
       " ['PROCESSING_CODE', 'Interface ID'],\n",
       " ['PROCESSING_CODE', 'Terminal Type'],\n",
       " ['Merchant Category Code', 'Card Service Code'],\n",
       " ['Merchant Category Code', 'Interface ID'],\n",
       " ['Merchant Category Code', 'Terminal Type'],\n",
       " ['ACQUIRING_COUNTRY_CODE', 'Card Service Code'],\n",
       " ['ACQUIRING_COUNTRY_CODE', 'Interface ID'],\n",
       " ['ACQUIRER_INSTITUTION_CODE', 'Card Service Code'],\n",
       " ['ACQUIRER_INSTITUTION_CODE', 'Interface ID'],\n",
       " ['ACQUIRER_INSTITUTION_CODE', 'Terminal Type'],\n",
       " ['Card Service Code', 'Interface ID'],\n",
       " ['Card Service Code', 'Terminal Type'],\n",
       " ['Card Service Code', 'Token Data-C1'],\n",
       " ['Interface ID', 'Terminal Type'],\n",
       " ['Interface ID', 'Token Data-C1']]"
      ]
     },
     "execution_count": 14,
     "metadata": {},
     "output_type": "execute_result"
    }
   ],
   "source": [
    "dependent_pair"
   ]
  },
  {
   "cell_type": "markdown",
   "metadata": {},
   "source": [
    "### Cramer's V test"
   ]
  },
  {
   "cell_type": "code",
   "execution_count": 42,
   "metadata": {},
   "outputs": [],
   "source": [
    "def cramers_corrected_stat(confusion_matrix):\n",
    "    \"\"\" calculate Cramers V statistic for categorial-categorial association.\n",
    "        uses correction from Bergsma and Wicher, \n",
    "        Journal of the Korean Statistical Society 42 (2013): 323-328\n",
    "    \"\"\"\n",
    "    chi2 = chi_test(confusion_matrix)[0]\n",
    "    #print(chi2)\n",
    "    n = (confusion_matrix.sum()).sum()\n",
    "    phi2 = chi2/n\n",
    "    r,k = confusion_matrix.shape\n",
    "    phi2corr = max(0, phi2 - ((k-1)*(r-1))/(n-1))    \n",
    "    rcorr = r - ((r-1)**2)/(n-1)\n",
    "    kcorr = k - ((k-1)**2)/(n-1)\n",
    "    return np.sqrt(phi2corr / min( (kcorr-1), (rcorr-1)))"
   ]
  },
  {
   "cell_type": "code",
   "execution_count": 45,
   "metadata": {},
   "outputs": [],
   "source": [
    "count = 0\n",
    "dependent_pair_cramer = []\n",
    "for i in cat_columns:\n",
    "    count += 1\n",
    "    for j in cat_columns[count:]:\n",
    "        data_crosstab =  pd.crosstab(data_cat[i], data_cat[j], margins = False)\n",
    "        p = cramers_corrected_stat(data_crosstab)\n",
    "        #if p < 0.01:\n",
    "        dependent_pair_cramer.append([i,j,p])"
   ]
  },
  {
   "cell_type": "code",
   "execution_count": 46,
   "metadata": {},
   "outputs": [
    {
     "data": {
      "text/plain": [
       "[['PROCESSING_CODE', 'Merchant Category Code', 0.3946169414516618],\n",
       " ['PROCESSING_CODE', 'ACQUIRING_COUNTRY_CODE', 0.11715815911243221],\n",
       " ['PROCESSING_CODE', 'ACQUIRER_INSTITUTION_CODE', 0.7279088781128282],\n",
       " ['PROCESSING_CODE', 'Card Service Code', 0.5411999747245039],\n",
       " ['PROCESSING_CODE', 'Interface ID', 0.823597310108287],\n",
       " ['PROCESSING_CODE', 'Terminal Type', 0.8519071431301805],\n",
       " ['PROCESSING_CODE', 'Token Data-C1', 0.0],\n",
       " ['Merchant Category Code', 'ACQUIRING_COUNTRY_CODE', 0.30916815336342074],\n",
       " ['Merchant Category Code', 'ACQUIRER_INSTITUTION_CODE', 0.32702241853922454],\n",
       " ['Merchant Category Code', 'Card Service Code', 0.4127593586343751],\n",
       " ['Merchant Category Code', 'Interface ID', 0.3393648314903789],\n",
       " ['Merchant Category Code', 'Terminal Type', 0.3970058167481686],\n",
       " ['Merchant Category Code', 'Token Data-C1', 0.07764079645552503],\n",
       " ['ACQUIRING_COUNTRY_CODE', 'ACQUIRER_INSTITUTION_CODE', 0.926921347160859],\n",
       " ['ACQUIRING_COUNTRY_CODE', 'Card Service Code', 0.10474922032910816],\n",
       " ['ACQUIRING_COUNTRY_CODE', 'Interface ID', 0.12178180853070061],\n",
       " ['ACQUIRING_COUNTRY_CODE', 'Terminal Type', 0.12117601120334628],\n",
       " ['ACQUIRING_COUNTRY_CODE', 'Token Data-C1', 0.1472679799663872],\n",
       " ['ACQUIRER_INSTITUTION_CODE', 'Card Service Code', 0.6746050328533139],\n",
       " ['ACQUIRER_INSTITUTION_CODE', 'Interface ID', 0.9955879096339393],\n",
       " ['ACQUIRER_INSTITUTION_CODE', 'Terminal Type', 0.9904481953710521],\n",
       " ['ACQUIRER_INSTITUTION_CODE', 'Token Data-C1', 0.08960200995935122],\n",
       " ['Card Service Code', 'Interface ID', 0.9149975362547692],\n",
       " ['Card Service Code', 'Terminal Type', 0.7077318418278203],\n",
       " ['Card Service Code', 'Token Data-C1', 0.13253294163613832],\n",
       " ['Interface ID', 'Terminal Type', 0.7081722779707731],\n",
       " ['Interface ID', 'Token Data-C1', 0.14552057420665715],\n",
       " ['Terminal Type', 'Token Data-C1', 0.03545855824381524]]"
      ]
     },
     "execution_count": 46,
     "metadata": {},
     "output_type": "execute_result"
    }
   ],
   "source": [
    "dependent_pair_cramer"
   ]
  },
  {
   "cell_type": "markdown",
   "metadata": {},
   "source": [
    "# Rough"
   ]
  },
  {
   "cell_type": "code",
   "execution_count": null,
   "metadata": {},
   "outputs": [],
   "source": []
  }
 ],
 "metadata": {
  "kernelspec": {
   "display_name": "Python 3",
   "language": "python",
   "name": "python3"
  },
  "language_info": {
   "codemirror_mode": {
    "name": "ipython",
    "version": 3
   },
   "file_extension": ".py",
   "mimetype": "text/x-python",
   "name": "python",
   "nbconvert_exporter": "python",
   "pygments_lexer": "ipython3",
   "version": "3.6.8"
  }
 },
 "nbformat": 4,
 "nbformat_minor": 2
}
